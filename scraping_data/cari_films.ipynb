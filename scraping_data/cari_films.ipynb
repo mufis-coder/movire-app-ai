{
 "cells": [
  {
   "cell_type": "code",
   "execution_count": 1,
   "metadata": {},
   "outputs": [],
   "source": [
    "# # Import scrapy\n",
    "# import scrapy\n",
    "\n",
    "# # Import the CrawlerProcess: for running the spider\n",
    "# from scrapy.crawler import CrawlerProcess\n",
    "\n",
    "# # Create the Spider class\n",
    "# class DC_Description_Spider(scrapy.Spider):\n",
    "#     name = \"dc_chapter_spider\"\n",
    "#   # start_requests method\n",
    "#     def start_requests(self):\n",
    "#         url = 'https://learn.datacamp.com/courses'\n",
    "#         yield scrapy.Request(url = url,\n",
    "#                          callback = self.parse_front)\n",
    "#   # First parsing metho\n",
    "#     def parse_front(self, response):\n",
    "#         pass\n",
    "# #         course_blocks = response.css('div.course-block')\n",
    "# #         course_links = course_blocks.xpath('./a/@href')\n",
    "# #         links_to_follow = course_links.extract()\n",
    "# #         for url in links_to_follow:\n",
    "# #             yield response.follow(url = url,\n",
    "# #                                 callback = self.parse_pages)\n",
    "#   # Second parsing method\n",
    "#     def parse_pages(self, response):\n",
    "#         pass\n",
    "# #         # Create a SelectorList of the course titles text\n",
    "# #         crs_title = response.xpath('//h1[contains(@class,\"title\")]/text()')\n",
    "# #         # Extract the text and strip it clean\n",
    "# #         crs_title_ext = crs_title.extract_first().strip()\n",
    "# #         # Create a SelectorList of course descriptions text\n",
    "# #         crs_descr = response.css( 'p.course__description::text' )\n",
    "# #         # Extract the text and strip it clean\n",
    "# #         crs_descr_ext = crs_descr.extract_first().strip()\n",
    "# #         # Fill in the dictionary\n",
    "# #         dc_dict[crs_title_ext] = crs_descr_ext\n",
    "\n",
    "# # Initialize the dictionary **outside** of the Spider class\n",
    "# dc_dict = dict()\n",
    "\n",
    "# # Run the Spider\n",
    "# process = CrawlerProcess()\n",
    "# process.crawl(DC_Description_Spider)\n",
    "# process.start()\n",
    "\n",
    "# # Print a preview of courses\n",
    "# # previewCourses(dc_dict)"
   ]
  },
  {
   "cell_type": "code",
   "execution_count": 2,
   "metadata": {},
   "outputs": [],
   "source": [
    "# dc_dict"
   ]
  },
  {
   "cell_type": "code",
   "execution_count": 3,
   "metadata": {},
   "outputs": [],
   "source": [
    "# # parse method\n",
    "# def parse(self, response):\n",
    "#   # Extracted course titles\n",
    "#   crs_titles = response.xpath('//h4[contains(@class,\"block__title\")]/text()').extract()\n",
    "#   # Extracted course descriptions\n",
    "#   crs_descrs = response.xpath('//p[contains(@class,\"block__description\")]/text()').extract()\n",
    "#   # Fill in the dictionary\n",
    "#   for crs_title, crs_descr in zip(crs_titles, crs_descrs):\n",
    "#     dc_dict[crs_title] = crs_descr"
   ]
  },
  {
   "cell_type": "code",
   "execution_count": 1,
   "metadata": {},
   "outputs": [],
   "source": [
    "import scrapy\n",
    "from scrapy.crawler import CrawlerProcess\n",
    "from scrapy.shell import inspect_response\n",
    "class DC_Description_Spider(scrapy.Spider):\n",
    "    name = \"dc_chapter_spider\"\n",
    "    \n",
    "    def start_requests(self):\n",
    "        url_short = 'https://carifilms.com/films?order=DESC&is_meta_key=0&orderby=title'\n",
    "        \n",
    "        url_list.append(url_short)\n",
    "        \n",
    "        yield scrapy.Request(url = url_short, callback = self.next_page)\n",
    "    \n",
    "    def next_page(self, response):\n",
    "        next_page = response.xpath('//a[@class=\"next page-numbers\"]/@href')\n",
    "        next_page_link = next_page.extract()\n",
    "        next_href = next_page_link[0]\n",
    "        if next_page_link:\n",
    "            next_href = next_page_link[0]\n",
    "            \n",
    "            print(next_href)\n",
    "            url_list.append(next_href)\n",
    "            print(len(url_list))\n",
    "            \n",
    "            request = scrapy.Request(url=next_href, callback = self.next_page)\n",
    "            yield request\n",
    "        \n",
    "#     def parse_awalpage(self, response):\n",
    "#         print(response.text)\n",
    "#         block_film_page = response.css('div.container-fluid ')\n",
    "#         film_link = block_film_page.xpath('.//a[@class=\"section__film-info__entitle\"]/@href')\n",
    "#         links_to_follow = film_link.extract()\n",
    "#         for url in links_to_follow:\n",
    "#             print(url)\n",
    "#             yield response.follow(url, callback = self.parse_pages)\n",
    "#             yield scrapy.Request(url = url, callback = self.parse_pages)\n",
    "            \n",
    "#     def parse_pages(self, response):\n",
    "#         print(response.text)\n",
    "#         inspect_response(response, self)\n",
    "#         film_title = response.xpath('//h1[contains(@class,\"section__film-info__entitle section__title\")]/text()')\n",
    "#         film_title_ext = film_title.extract_first().strip()\n",
    "#         print(film_title_ext)\n",
    "#         crs_descr = response.css( 'p.course__description::text' )\n",
    "#         # Extract the text and strip it clean\n",
    "#         crs_descr_ext = crs_descr.extract_first().strip()\n",
    "#         # Fill in the dictionary\n",
    "#         dc_dict[crs_title_ext] = crs_descr_ext"
   ]
  },
  {
   "cell_type": "code",
   "execution_count": 2,
   "metadata": {
    "scrolled": false
   },
   "outputs": [
    {
     "name": "stderr",
     "output_type": "stream",
     "text": [
      "2020-12-04 11:26:54 [scrapy.utils.log] INFO: Scrapy 2.4.1 started (bot: scrapybot)\n",
      "2020-12-04 11:26:54 [scrapy.utils.log] INFO: Versions: lxml 4.5.0.0, libxml2 2.9.9, cssselect 1.1.0, parsel 1.5.2, w3lib 1.21.0, Twisted 20.3.0, Python 3.7.6 (default, Jan  8 2020, 20:23:39) [MSC v.1916 64 bit (AMD64)], pyOpenSSL 19.1.0 (OpenSSL 1.1.1d  10 Sep 2019), cryptography 2.8, Platform Windows-10-10.0.18362-SP0\n",
      "2020-12-04 11:26:54 [scrapy.utils.log] DEBUG: Using reactor: twisted.internet.selectreactor.SelectReactor\n",
      "2020-12-04 11:26:54 [scrapy.crawler] INFO: Overridden settings:\n",
      "{}\n",
      "2020-12-04 11:26:54 [scrapy.extensions.telnet] INFO: Telnet Password: 35ff5da47b112508\n",
      "2020-12-04 11:26:54 [scrapy.middleware] INFO: Enabled extensions:\n",
      "['scrapy.extensions.corestats.CoreStats',\n",
      " 'scrapy.extensions.telnet.TelnetConsole',\n",
      " 'scrapy.extensions.logstats.LogStats']\n",
      "2020-12-04 11:26:55 [scrapy.middleware] INFO: Enabled downloader middlewares:\n",
      "['scrapy.downloadermiddlewares.httpauth.HttpAuthMiddleware',\n",
      " 'scrapy.downloadermiddlewares.downloadtimeout.DownloadTimeoutMiddleware',\n",
      " 'scrapy.downloadermiddlewares.defaultheaders.DefaultHeadersMiddleware',\n",
      " 'scrapy.downloadermiddlewares.useragent.UserAgentMiddleware',\n",
      " 'scrapy.downloadermiddlewares.retry.RetryMiddleware',\n",
      " 'scrapy.downloadermiddlewares.redirect.MetaRefreshMiddleware',\n",
      " 'scrapy.downloadermiddlewares.httpcompression.HttpCompressionMiddleware',\n",
      " 'scrapy.downloadermiddlewares.redirect.RedirectMiddleware',\n",
      " 'scrapy.downloadermiddlewares.cookies.CookiesMiddleware',\n",
      " 'scrapy.downloadermiddlewares.httpproxy.HttpProxyMiddleware',\n",
      " 'scrapy.downloadermiddlewares.stats.DownloaderStats']\n",
      "2020-12-04 11:26:55 [scrapy.middleware] INFO: Enabled spider middlewares:\n",
      "['scrapy.spidermiddlewares.httperror.HttpErrorMiddleware',\n",
      " 'scrapy.spidermiddlewares.offsite.OffsiteMiddleware',\n",
      " 'scrapy.spidermiddlewares.referer.RefererMiddleware',\n",
      " 'scrapy.spidermiddlewares.urllength.UrlLengthMiddleware',\n",
      " 'scrapy.spidermiddlewares.depth.DepthMiddleware']\n",
      "2020-12-04 11:26:55 [scrapy.middleware] INFO: Enabled item pipelines:\n",
      "[]\n",
      "2020-12-04 11:26:55 [scrapy.core.engine] INFO: Spider opened\n",
      "2020-12-04 11:26:55 [scrapy.extensions.logstats] INFO: Crawled 0 pages (at 0 pages/min), scraped 0 items (at 0 items/min)\n",
      "2020-12-04 11:26:55 [scrapy.extensions.telnet] INFO: Telnet console listening on 127.0.0.1:6030\n",
      "2020-12-04 11:27:00 [scrapy.core.engine] DEBUG: Crawled (200) <GET https://carifilms.com/films?order=DESC&is_meta_key=0&orderby=title> (referer: None)\n"
     ]
    },
    {
     "name": "stdout",
     "output_type": "stream",
     "text": [
      "https://carifilms.com/films/page/2?order=DESC&is_meta_key=0&orderby=title#038;is_meta_key=0&orderby=title\n",
      "2\n"
     ]
    },
    {
     "name": "stderr",
     "output_type": "stream",
     "text": [
      "2020-12-04 11:27:04 [scrapy.core.engine] DEBUG: Crawled (200) <GET https://carifilms.com/films/page/2?order=DESC&is_meta_key=0&orderby=title#038;is_meta_key=0&orderby=title> (referer: https://carifilms.com/films?order=DESC&is_meta_key=0&orderby=title)\n"
     ]
    },
    {
     "name": "stdout",
     "output_type": "stream",
     "text": [
      "https://carifilms.com/films/page/3?order=DESC&is_meta_key=0&orderby=title#038;is_meta_key=0&orderby=title\n",
      "3\n"
     ]
    },
    {
     "name": "stderr",
     "output_type": "stream",
     "text": [
      "2020-12-04 11:27:09 [scrapy.core.engine] DEBUG: Crawled (200) <GET https://carifilms.com/films/page/3?order=DESC&is_meta_key=0&orderby=title#038;is_meta_key=0&orderby=title> (referer: https://carifilms.com/films/page/2?order=DESC&is_meta_key=0&orderby=title)\n"
     ]
    },
    {
     "name": "stdout",
     "output_type": "stream",
     "text": [
      "https://carifilms.com/films/page/4?order=DESC&is_meta_key=0&orderby=title#038;is_meta_key=0&orderby=title\n",
      "4\n"
     ]
    },
    {
     "name": "stderr",
     "output_type": "stream",
     "text": [
      "2020-12-04 11:27:14 [scrapy.core.engine] DEBUG: Crawled (200) <GET https://carifilms.com/films/page/4?order=DESC&is_meta_key=0&orderby=title#038;is_meta_key=0&orderby=title> (referer: https://carifilms.com/films/page/3?order=DESC&is_meta_key=0&orderby=title)\n"
     ]
    },
    {
     "name": "stdout",
     "output_type": "stream",
     "text": [
      "https://carifilms.com/films/page/5?order=DESC&is_meta_key=0&orderby=title#038;is_meta_key=0&orderby=title\n",
      "5\n"
     ]
    },
    {
     "name": "stderr",
     "output_type": "stream",
     "text": [
      "2020-12-04 11:27:18 [scrapy.core.engine] DEBUG: Crawled (200) <GET https://carifilms.com/films/page/5?order=DESC&is_meta_key=0&orderby=title#038;is_meta_key=0&orderby=title> (referer: https://carifilms.com/films/page/4?order=DESC&is_meta_key=0&orderby=title)\n"
     ]
    },
    {
     "name": "stdout",
     "output_type": "stream",
     "text": [
      "https://carifilms.com/films/page/6?order=DESC&is_meta_key=0&orderby=title#038;is_meta_key=0&orderby=title\n",
      "6\n"
     ]
    },
    {
     "name": "stderr",
     "output_type": "stream",
     "text": [
      "2020-12-04 11:27:22 [scrapy.core.engine] DEBUG: Crawled (200) <GET https://carifilms.com/films/page/6?order=DESC&is_meta_key=0&orderby=title#038;is_meta_key=0&orderby=title> (referer: https://carifilms.com/films/page/5?order=DESC&is_meta_key=0&orderby=title)\n"
     ]
    },
    {
     "name": "stdout",
     "output_type": "stream",
     "text": [
      "https://carifilms.com/films/page/7?order=DESC&is_meta_key=0&orderby=title#038;is_meta_key=0&orderby=title\n",
      "7\n"
     ]
    },
    {
     "name": "stderr",
     "output_type": "stream",
     "text": [
      "2020-12-04 11:27:26 [scrapy.core.engine] DEBUG: Crawled (200) <GET https://carifilms.com/films/page/7?order=DESC&is_meta_key=0&orderby=title#038;is_meta_key=0&orderby=title> (referer: https://carifilms.com/films/page/6?order=DESC&is_meta_key=0&orderby=title)\n"
     ]
    },
    {
     "name": "stdout",
     "output_type": "stream",
     "text": [
      "https://carifilms.com/films/page/8?order=DESC&is_meta_key=0&orderby=title#038;is_meta_key=0&orderby=title\n",
      "8\n"
     ]
    },
    {
     "name": "stderr",
     "output_type": "stream",
     "text": [
      "2020-12-04 11:27:30 [scrapy.core.engine] DEBUG: Crawled (200) <GET https://carifilms.com/films/page/8?order=DESC&is_meta_key=0&orderby=title#038;is_meta_key=0&orderby=title> (referer: https://carifilms.com/films/page/7?order=DESC&is_meta_key=0&orderby=title)\n"
     ]
    },
    {
     "name": "stdout",
     "output_type": "stream",
     "text": [
      "https://carifilms.com/films/page/9?order=DESC&is_meta_key=0&orderby=title#038;is_meta_key=0&orderby=title\n",
      "9\n"
     ]
    },
    {
     "name": "stderr",
     "output_type": "stream",
     "text": [
      "2020-12-04 11:27:35 [scrapy.core.engine] DEBUG: Crawled (200) <GET https://carifilms.com/films/page/9?order=DESC&is_meta_key=0&orderby=title#038;is_meta_key=0&orderby=title> (referer: https://carifilms.com/films/page/8?order=DESC&is_meta_key=0&orderby=title)\n"
     ]
    },
    {
     "name": "stdout",
     "output_type": "stream",
     "text": [
      "https://carifilms.com/films/page/10?order=DESC&is_meta_key=0&orderby=title#038;is_meta_key=0&orderby=title\n",
      "10\n"
     ]
    },
    {
     "name": "stderr",
     "output_type": "stream",
     "text": [
      "2020-12-04 11:27:40 [scrapy.core.engine] DEBUG: Crawled (200) <GET https://carifilms.com/films/page/10?order=DESC&is_meta_key=0&orderby=title#038;is_meta_key=0&orderby=title> (referer: https://carifilms.com/films/page/9?order=DESC&is_meta_key=0&orderby=title)\n"
     ]
    },
    {
     "name": "stdout",
     "output_type": "stream",
     "text": [
      "https://carifilms.com/films/page/11?order=DESC&is_meta_key=0&orderby=title#038;is_meta_key=0&orderby=title\n",
      "11\n"
     ]
    },
    {
     "name": "stderr",
     "output_type": "stream",
     "text": [
      "2020-12-04 11:27:45 [scrapy.core.engine] DEBUG: Crawled (200) <GET https://carifilms.com/films/page/11?order=DESC&is_meta_key=0&orderby=title#038;is_meta_key=0&orderby=title> (referer: https://carifilms.com/films/page/10?order=DESC&is_meta_key=0&orderby=title)\n"
     ]
    },
    {
     "name": "stdout",
     "output_type": "stream",
     "text": [
      "https://carifilms.com/films/page/12?order=DESC&is_meta_key=0&orderby=title#038;is_meta_key=0&orderby=title\n",
      "12\n"
     ]
    },
    {
     "name": "stderr",
     "output_type": "stream",
     "text": [
      "2020-12-04 11:27:49 [scrapy.core.engine] DEBUG: Crawled (200) <GET https://carifilms.com/films/page/12?order=DESC&is_meta_key=0&orderby=title#038;is_meta_key=0&orderby=title> (referer: https://carifilms.com/films/page/11?order=DESC&is_meta_key=0&orderby=title)\n"
     ]
    },
    {
     "name": "stdout",
     "output_type": "stream",
     "text": [
      "https://carifilms.com/films/page/13?order=DESC&is_meta_key=0&orderby=title#038;is_meta_key=0&orderby=title\n",
      "13\n"
     ]
    },
    {
     "name": "stderr",
     "output_type": "stream",
     "text": [
      "2020-12-04 11:27:54 [scrapy.core.engine] DEBUG: Crawled (200) <GET https://carifilms.com/films/page/13?order=DESC&is_meta_key=0&orderby=title#038;is_meta_key=0&orderby=title> (referer: https://carifilms.com/films/page/12?order=DESC&is_meta_key=0&orderby=title)\n"
     ]
    },
    {
     "name": "stdout",
     "output_type": "stream",
     "text": [
      "https://carifilms.com/films/page/14?order=DESC&is_meta_key=0&orderby=title#038;is_meta_key=0&orderby=title\n",
      "14\n"
     ]
    },
    {
     "name": "stderr",
     "output_type": "stream",
     "text": [
      "2020-12-04 11:27:55 [scrapy.extensions.logstats] INFO: Crawled 13 pages (at 13 pages/min), scraped 0 items (at 0 items/min)\n",
      "2020-12-04 11:27:59 [scrapy.core.engine] DEBUG: Crawled (200) <GET https://carifilms.com/films/page/14?order=DESC&is_meta_key=0&orderby=title#038;is_meta_key=0&orderby=title> (referer: https://carifilms.com/films/page/13?order=DESC&is_meta_key=0&orderby=title)\n"
     ]
    },
    {
     "name": "stdout",
     "output_type": "stream",
     "text": [
      "https://carifilms.com/films/page/15?order=DESC&is_meta_key=0&orderby=title#038;is_meta_key=0&orderby=title\n",
      "15\n"
     ]
    },
    {
     "name": "stderr",
     "output_type": "stream",
     "text": [
      "2020-12-04 11:28:03 [scrapy.core.engine] DEBUG: Crawled (200) <GET https://carifilms.com/films/page/15?order=DESC&is_meta_key=0&orderby=title#038;is_meta_key=0&orderby=title> (referer: https://carifilms.com/films/page/14?order=DESC&is_meta_key=0&orderby=title)\n"
     ]
    },
    {
     "name": "stdout",
     "output_type": "stream",
     "text": [
      "https://carifilms.com/films/page/16?order=DESC&is_meta_key=0&orderby=title#038;is_meta_key=0&orderby=title\n",
      "16\n"
     ]
    },
    {
     "name": "stderr",
     "output_type": "stream",
     "text": [
      "2020-12-04 11:28:07 [scrapy.core.engine] DEBUG: Crawled (200) <GET https://carifilms.com/films/page/16?order=DESC&is_meta_key=0&orderby=title#038;is_meta_key=0&orderby=title> (referer: https://carifilms.com/films/page/15?order=DESC&is_meta_key=0&orderby=title)\n"
     ]
    },
    {
     "name": "stdout",
     "output_type": "stream",
     "text": [
      "https://carifilms.com/films/page/17?order=DESC&is_meta_key=0&orderby=title#038;is_meta_key=0&orderby=title\n",
      "17\n"
     ]
    },
    {
     "name": "stderr",
     "output_type": "stream",
     "text": [
      "2020-12-04 11:28:12 [scrapy.core.engine] DEBUG: Crawled (200) <GET https://carifilms.com/films/page/17?order=DESC&is_meta_key=0&orderby=title#038;is_meta_key=0&orderby=title> (referer: https://carifilms.com/films/page/16?order=DESC&is_meta_key=0&orderby=title)\n"
     ]
    },
    {
     "name": "stdout",
     "output_type": "stream",
     "text": [
      "https://carifilms.com/films/page/18?order=DESC&is_meta_key=0&orderby=title#038;is_meta_key=0&orderby=title\n",
      "18\n"
     ]
    },
    {
     "name": "stderr",
     "output_type": "stream",
     "text": [
      "2020-12-04 11:28:16 [scrapy.core.engine] DEBUG: Crawled (200) <GET https://carifilms.com/films/page/18?order=DESC&is_meta_key=0&orderby=title#038;is_meta_key=0&orderby=title> (referer: https://carifilms.com/films/page/17?order=DESC&is_meta_key=0&orderby=title)\n"
     ]
    },
    {
     "name": "stdout",
     "output_type": "stream",
     "text": [
      "https://carifilms.com/films/page/19?order=DESC&is_meta_key=0&orderby=title#038;is_meta_key=0&orderby=title\n",
      "19\n"
     ]
    },
    {
     "name": "stderr",
     "output_type": "stream",
     "text": [
      "2020-12-04 11:28:21 [scrapy.core.engine] DEBUG: Crawled (200) <GET https://carifilms.com/films/page/19?order=DESC&is_meta_key=0&orderby=title#038;is_meta_key=0&orderby=title> (referer: https://carifilms.com/films/page/18?order=DESC&is_meta_key=0&orderby=title)\n"
     ]
    },
    {
     "name": "stdout",
     "output_type": "stream",
     "text": [
      "https://carifilms.com/films/page/20?order=DESC&is_meta_key=0&orderby=title#038;is_meta_key=0&orderby=title\n",
      "20\n"
     ]
    },
    {
     "name": "stderr",
     "output_type": "stream",
     "text": [
      "2020-12-04 11:28:25 [scrapy.core.engine] DEBUG: Crawled (200) <GET https://carifilms.com/films/page/20?order=DESC&is_meta_key=0&orderby=title#038;is_meta_key=0&orderby=title> (referer: https://carifilms.com/films/page/19?order=DESC&is_meta_key=0&orderby=title)\n"
     ]
    },
    {
     "name": "stdout",
     "output_type": "stream",
     "text": [
      "https://carifilms.com/films/page/21?order=DESC&is_meta_key=0&orderby=title#038;is_meta_key=0&orderby=title\n",
      "21\n"
     ]
    },
    {
     "name": "stderr",
     "output_type": "stream",
     "text": [
      "2020-12-04 11:28:30 [scrapy.core.engine] DEBUG: Crawled (200) <GET https://carifilms.com/films/page/21?order=DESC&is_meta_key=0&orderby=title#038;is_meta_key=0&orderby=title> (referer: https://carifilms.com/films/page/20?order=DESC&is_meta_key=0&orderby=title)\n"
     ]
    },
    {
     "name": "stdout",
     "output_type": "stream",
     "text": [
      "https://carifilms.com/films/page/22?order=DESC&is_meta_key=0&orderby=title#038;is_meta_key=0&orderby=title\n",
      "22\n"
     ]
    },
    {
     "name": "stderr",
     "output_type": "stream",
     "text": [
      "2020-12-04 11:28:34 [scrapy.core.engine] DEBUG: Crawled (200) <GET https://carifilms.com/films/page/22?order=DESC&is_meta_key=0&orderby=title#038;is_meta_key=0&orderby=title> (referer: https://carifilms.com/films/page/21?order=DESC&is_meta_key=0&orderby=title)\n"
     ]
    },
    {
     "name": "stdout",
     "output_type": "stream",
     "text": [
      "https://carifilms.com/films/page/23?order=DESC&is_meta_key=0&orderby=title#038;is_meta_key=0&orderby=title\n",
      "23\n"
     ]
    },
    {
     "name": "stderr",
     "output_type": "stream",
     "text": [
      "2020-12-04 11:28:38 [scrapy.core.engine] DEBUG: Crawled (200) <GET https://carifilms.com/films/page/23?order=DESC&is_meta_key=0&orderby=title#038;is_meta_key=0&orderby=title> (referer: https://carifilms.com/films/page/22?order=DESC&is_meta_key=0&orderby=title)\n"
     ]
    },
    {
     "name": "stdout",
     "output_type": "stream",
     "text": [
      "https://carifilms.com/films/page/24?order=DESC&is_meta_key=0&orderby=title#038;is_meta_key=0&orderby=title\n",
      "24\n"
     ]
    },
    {
     "name": "stderr",
     "output_type": "stream",
     "text": [
      "2020-12-04 11:28:43 [scrapy.core.engine] DEBUG: Crawled (200) <GET https://carifilms.com/films/page/24?order=DESC&is_meta_key=0&orderby=title#038;is_meta_key=0&orderby=title> (referer: https://carifilms.com/films/page/23?order=DESC&is_meta_key=0&orderby=title)\n"
     ]
    },
    {
     "name": "stdout",
     "output_type": "stream",
     "text": [
      "https://carifilms.com/films/page/25?order=DESC&is_meta_key=0&orderby=title#038;is_meta_key=0&orderby=title\n",
      "25\n"
     ]
    },
    {
     "name": "stderr",
     "output_type": "stream",
     "text": [
      "2020-12-04 11:28:47 [scrapy.core.engine] DEBUG: Crawled (200) <GET https://carifilms.com/films/page/25?order=DESC&is_meta_key=0&orderby=title#038;is_meta_key=0&orderby=title> (referer: https://carifilms.com/films/page/24?order=DESC&is_meta_key=0&orderby=title)\n"
     ]
    },
    {
     "name": "stdout",
     "output_type": "stream",
     "text": [
      "https://carifilms.com/films/page/26?order=DESC&is_meta_key=0&orderby=title#038;is_meta_key=0&orderby=title\n",
      "26\n"
     ]
    },
    {
     "name": "stderr",
     "output_type": "stream",
     "text": [
      "2020-12-04 11:28:51 [scrapy.core.engine] DEBUG: Crawled (200) <GET https://carifilms.com/films/page/26?order=DESC&is_meta_key=0&orderby=title#038;is_meta_key=0&orderby=title> (referer: https://carifilms.com/films/page/25?order=DESC&is_meta_key=0&orderby=title)\n"
     ]
    },
    {
     "name": "stdout",
     "output_type": "stream",
     "text": [
      "https://carifilms.com/films/page/27?order=DESC&is_meta_key=0&orderby=title#038;is_meta_key=0&orderby=title\n",
      "27\n"
     ]
    },
    {
     "name": "stderr",
     "output_type": "stream",
     "text": [
      "2020-12-04 11:28:55 [scrapy.extensions.logstats] INFO: Crawled 26 pages (at 13 pages/min), scraped 0 items (at 0 items/min)\n",
      "2020-12-04 11:28:55 [scrapy.core.engine] DEBUG: Crawled (200) <GET https://carifilms.com/films/page/27?order=DESC&is_meta_key=0&orderby=title#038;is_meta_key=0&orderby=title> (referer: https://carifilms.com/films/page/26?order=DESC&is_meta_key=0&orderby=title)\n"
     ]
    },
    {
     "name": "stdout",
     "output_type": "stream",
     "text": [
      "https://carifilms.com/films/page/28?order=DESC&is_meta_key=0&orderby=title#038;is_meta_key=0&orderby=title\n",
      "28\n"
     ]
    },
    {
     "name": "stderr",
     "output_type": "stream",
     "text": [
      "2020-12-04 11:29:00 [scrapy.core.engine] DEBUG: Crawled (200) <GET https://carifilms.com/films/page/28?order=DESC&is_meta_key=0&orderby=title#038;is_meta_key=0&orderby=title> (referer: https://carifilms.com/films/page/27?order=DESC&is_meta_key=0&orderby=title)\n"
     ]
    },
    {
     "name": "stdout",
     "output_type": "stream",
     "text": [
      "https://carifilms.com/films/page/29?order=DESC&is_meta_key=0&orderby=title#038;is_meta_key=0&orderby=title\n",
      "29\n"
     ]
    },
    {
     "name": "stderr",
     "output_type": "stream",
     "text": [
      "2020-12-04 11:29:04 [scrapy.core.engine] DEBUG: Crawled (200) <GET https://carifilms.com/films/page/29?order=DESC&is_meta_key=0&orderby=title#038;is_meta_key=0&orderby=title> (referer: https://carifilms.com/films/page/28?order=DESC&is_meta_key=0&orderby=title)\n"
     ]
    },
    {
     "name": "stdout",
     "output_type": "stream",
     "text": [
      "https://carifilms.com/films/page/30?order=DESC&is_meta_key=0&orderby=title#038;is_meta_key=0&orderby=title\n",
      "30\n"
     ]
    },
    {
     "name": "stderr",
     "output_type": "stream",
     "text": [
      "2020-12-04 11:29:08 [scrapy.core.engine] DEBUG: Crawled (200) <GET https://carifilms.com/films/page/30?order=DESC&is_meta_key=0&orderby=title#038;is_meta_key=0&orderby=title> (referer: https://carifilms.com/films/page/29?order=DESC&is_meta_key=0&orderby=title)\n"
     ]
    },
    {
     "name": "stdout",
     "output_type": "stream",
     "text": [
      "https://carifilms.com/films/page/31?order=DESC&is_meta_key=0&orderby=title#038;is_meta_key=0&orderby=title\n",
      "31\n"
     ]
    },
    {
     "name": "stderr",
     "output_type": "stream",
     "text": [
      "2020-12-04 11:29:12 [scrapy.core.engine] DEBUG: Crawled (200) <GET https://carifilms.com/films/page/31?order=DESC&is_meta_key=0&orderby=title#038;is_meta_key=0&orderby=title> (referer: https://carifilms.com/films/page/30?order=DESC&is_meta_key=0&orderby=title)\n"
     ]
    },
    {
     "name": "stdout",
     "output_type": "stream",
     "text": [
      "https://carifilms.com/films/page/32?order=DESC&is_meta_key=0&orderby=title#038;is_meta_key=0&orderby=title\n",
      "32\n"
     ]
    },
    {
     "name": "stderr",
     "output_type": "stream",
     "text": [
      "2020-12-04 11:29:17 [scrapy.core.engine] DEBUG: Crawled (200) <GET https://carifilms.com/films/page/32?order=DESC&is_meta_key=0&orderby=title#038;is_meta_key=0&orderby=title> (referer: https://carifilms.com/films/page/31?order=DESC&is_meta_key=0&orderby=title)\n"
     ]
    },
    {
     "name": "stdout",
     "output_type": "stream",
     "text": [
      "https://carifilms.com/films/page/33?order=DESC&is_meta_key=0&orderby=title#038;is_meta_key=0&orderby=title\n",
      "33\n"
     ]
    },
    {
     "name": "stderr",
     "output_type": "stream",
     "text": [
      "2020-12-04 11:29:21 [scrapy.core.engine] DEBUG: Crawled (200) <GET https://carifilms.com/films/page/33?order=DESC&is_meta_key=0&orderby=title#038;is_meta_key=0&orderby=title> (referer: https://carifilms.com/films/page/32?order=DESC&is_meta_key=0&orderby=title)\n"
     ]
    },
    {
     "name": "stdout",
     "output_type": "stream",
     "text": [
      "https://carifilms.com/films/page/34?order=DESC&is_meta_key=0&orderby=title#038;is_meta_key=0&orderby=title\n",
      "34\n"
     ]
    },
    {
     "name": "stderr",
     "output_type": "stream",
     "text": [
      "2020-12-04 11:29:25 [scrapy.core.engine] DEBUG: Crawled (200) <GET https://carifilms.com/films/page/34?order=DESC&is_meta_key=0&orderby=title#038;is_meta_key=0&orderby=title> (referer: https://carifilms.com/films/page/33?order=DESC&is_meta_key=0&orderby=title)\n"
     ]
    },
    {
     "name": "stdout",
     "output_type": "stream",
     "text": [
      "https://carifilms.com/films/page/35?order=DESC&is_meta_key=0&orderby=title#038;is_meta_key=0&orderby=title\n",
      "35\n"
     ]
    },
    {
     "name": "stderr",
     "output_type": "stream",
     "text": [
      "2020-12-04 11:29:29 [scrapy.core.engine] DEBUG: Crawled (200) <GET https://carifilms.com/films/page/35?order=DESC&is_meta_key=0&orderby=title#038;is_meta_key=0&orderby=title> (referer: https://carifilms.com/films/page/34?order=DESC&is_meta_key=0&orderby=title)\n"
     ]
    },
    {
     "name": "stdout",
     "output_type": "stream",
     "text": [
      "https://carifilms.com/films/page/36?order=DESC&is_meta_key=0&orderby=title#038;is_meta_key=0&orderby=title\n",
      "36\n"
     ]
    },
    {
     "name": "stderr",
     "output_type": "stream",
     "text": [
      "2020-12-04 11:29:34 [scrapy.core.engine] DEBUG: Crawled (200) <GET https://carifilms.com/films/page/36?order=DESC&is_meta_key=0&orderby=title#038;is_meta_key=0&orderby=title> (referer: https://carifilms.com/films/page/35?order=DESC&is_meta_key=0&orderby=title)\n"
     ]
    },
    {
     "name": "stdout",
     "output_type": "stream",
     "text": [
      "https://carifilms.com/films/page/37?order=DESC&is_meta_key=0&orderby=title#038;is_meta_key=0&orderby=title\n",
      "37\n"
     ]
    },
    {
     "name": "stderr",
     "output_type": "stream",
     "text": [
      "2020-12-04 11:29:38 [scrapy.core.engine] DEBUG: Crawled (200) <GET https://carifilms.com/films/page/37?order=DESC&is_meta_key=0&orderby=title#038;is_meta_key=0&orderby=title> (referer: https://carifilms.com/films/page/36?order=DESC&is_meta_key=0&orderby=title)\n"
     ]
    },
    {
     "name": "stdout",
     "output_type": "stream",
     "text": [
      "https://carifilms.com/films/page/38?order=DESC&is_meta_key=0&orderby=title#038;is_meta_key=0&orderby=title\n",
      "38\n"
     ]
    },
    {
     "name": "stderr",
     "output_type": "stream",
     "text": [
      "2020-12-04 11:29:42 [scrapy.core.engine] DEBUG: Crawled (200) <GET https://carifilms.com/films/page/38?order=DESC&is_meta_key=0&orderby=title#038;is_meta_key=0&orderby=title> (referer: https://carifilms.com/films/page/37?order=DESC&is_meta_key=0&orderby=title)\n"
     ]
    },
    {
     "name": "stdout",
     "output_type": "stream",
     "text": [
      "https://carifilms.com/films/page/39?order=DESC&is_meta_key=0&orderby=title#038;is_meta_key=0&orderby=title\n",
      "39\n"
     ]
    },
    {
     "name": "stderr",
     "output_type": "stream",
     "text": [
      "2020-12-04 11:29:47 [scrapy.core.engine] DEBUG: Crawled (200) <GET https://carifilms.com/films/page/39?order=DESC&is_meta_key=0&orderby=title#038;is_meta_key=0&orderby=title> (referer: https://carifilms.com/films/page/38?order=DESC&is_meta_key=0&orderby=title)\n"
     ]
    },
    {
     "name": "stdout",
     "output_type": "stream",
     "text": [
      "https://carifilms.com/films/page/40?order=DESC&is_meta_key=0&orderby=title#038;is_meta_key=0&orderby=title\n",
      "40\n"
     ]
    },
    {
     "name": "stderr",
     "output_type": "stream",
     "text": [
      "2020-12-04 11:29:52 [scrapy.core.engine] DEBUG: Crawled (200) <GET https://carifilms.com/films/page/40?order=DESC&is_meta_key=0&orderby=title#038;is_meta_key=0&orderby=title> (referer: https://carifilms.com/films/page/39?order=DESC&is_meta_key=0&orderby=title)\n"
     ]
    },
    {
     "name": "stdout",
     "output_type": "stream",
     "text": [
      "https://carifilms.com/films/page/41?order=DESC&is_meta_key=0&orderby=title#038;is_meta_key=0&orderby=title\n",
      "41\n"
     ]
    },
    {
     "name": "stderr",
     "output_type": "stream",
     "text": [
      "2020-12-04 11:29:55 [scrapy.extensions.logstats] INFO: Crawled 40 pages (at 14 pages/min), scraped 0 items (at 0 items/min)\n",
      "2020-12-04 11:29:56 [scrapy.core.engine] DEBUG: Crawled (200) <GET https://carifilms.com/films/page/41?order=DESC&is_meta_key=0&orderby=title#038;is_meta_key=0&orderby=title> (referer: https://carifilms.com/films/page/40?order=DESC&is_meta_key=0&orderby=title)\n"
     ]
    },
    {
     "name": "stdout",
     "output_type": "stream",
     "text": [
      "https://carifilms.com/films/page/42?order=DESC&is_meta_key=0&orderby=title#038;is_meta_key=0&orderby=title\n",
      "42\n"
     ]
    },
    {
     "name": "stderr",
     "output_type": "stream",
     "text": [
      "2020-12-04 11:30:01 [scrapy.core.engine] DEBUG: Crawled (200) <GET https://carifilms.com/films/page/42?order=DESC&is_meta_key=0&orderby=title#038;is_meta_key=0&orderby=title> (referer: https://carifilms.com/films/page/41?order=DESC&is_meta_key=0&orderby=title)\n"
     ]
    },
    {
     "name": "stdout",
     "output_type": "stream",
     "text": [
      "https://carifilms.com/films/page/43?order=DESC&is_meta_key=0&orderby=title#038;is_meta_key=0&orderby=title\n",
      "43\n"
     ]
    },
    {
     "name": "stderr",
     "output_type": "stream",
     "text": [
      "2020-12-04 11:30:05 [scrapy.core.engine] DEBUG: Crawled (200) <GET https://carifilms.com/films/page/43?order=DESC&is_meta_key=0&orderby=title#038;is_meta_key=0&orderby=title> (referer: https://carifilms.com/films/page/42?order=DESC&is_meta_key=0&orderby=title)\n"
     ]
    },
    {
     "name": "stdout",
     "output_type": "stream",
     "text": [
      "https://carifilms.com/films/page/44?order=DESC&is_meta_key=0&orderby=title#038;is_meta_key=0&orderby=title\n",
      "44\n"
     ]
    },
    {
     "name": "stderr",
     "output_type": "stream",
     "text": [
      "2020-12-04 11:30:10 [scrapy.core.engine] DEBUG: Crawled (200) <GET https://carifilms.com/films/page/44?order=DESC&is_meta_key=0&orderby=title#038;is_meta_key=0&orderby=title> (referer: https://carifilms.com/films/page/43?order=DESC&is_meta_key=0&orderby=title)\n"
     ]
    },
    {
     "name": "stdout",
     "output_type": "stream",
     "text": [
      "https://carifilms.com/films/page/45?order=DESC&is_meta_key=0&orderby=title#038;is_meta_key=0&orderby=title\n",
      "45\n"
     ]
    },
    {
     "name": "stderr",
     "output_type": "stream",
     "text": [
      "2020-12-04 11:30:15 [scrapy.core.engine] DEBUG: Crawled (200) <GET https://carifilms.com/films/page/45?order=DESC&is_meta_key=0&orderby=title#038;is_meta_key=0&orderby=title> (referer: https://carifilms.com/films/page/44?order=DESC&is_meta_key=0&orderby=title)\n"
     ]
    },
    {
     "name": "stdout",
     "output_type": "stream",
     "text": [
      "https://carifilms.com/films/page/46?order=DESC&is_meta_key=0&orderby=title#038;is_meta_key=0&orderby=title\n",
      "46\n"
     ]
    },
    {
     "name": "stderr",
     "output_type": "stream",
     "text": [
      "2020-12-04 11:30:20 [scrapy.core.engine] DEBUG: Crawled (200) <GET https://carifilms.com/films/page/46?order=DESC&is_meta_key=0&orderby=title#038;is_meta_key=0&orderby=title> (referer: https://carifilms.com/films/page/45?order=DESC&is_meta_key=0&orderby=title)\n"
     ]
    },
    {
     "name": "stdout",
     "output_type": "stream",
     "text": [
      "https://carifilms.com/films/page/47?order=DESC&is_meta_key=0&orderby=title#038;is_meta_key=0&orderby=title\n",
      "47\n"
     ]
    },
    {
     "name": "stderr",
     "output_type": "stream",
     "text": [
      "2020-12-04 11:30:25 [scrapy.core.engine] DEBUG: Crawled (200) <GET https://carifilms.com/films/page/47?order=DESC&is_meta_key=0&orderby=title#038;is_meta_key=0&orderby=title> (referer: https://carifilms.com/films/page/46?order=DESC&is_meta_key=0&orderby=title)\n"
     ]
    },
    {
     "name": "stdout",
     "output_type": "stream",
     "text": [
      "https://carifilms.com/films/page/48?order=DESC&is_meta_key=0&orderby=title#038;is_meta_key=0&orderby=title\n",
      "48\n"
     ]
    },
    {
     "name": "stderr",
     "output_type": "stream",
     "text": [
      "2020-12-04 11:30:29 [scrapy.core.engine] DEBUG: Crawled (200) <GET https://carifilms.com/films/page/48?order=DESC&is_meta_key=0&orderby=title#038;is_meta_key=0&orderby=title> (referer: https://carifilms.com/films/page/47?order=DESC&is_meta_key=0&orderby=title)\n"
     ]
    },
    {
     "name": "stdout",
     "output_type": "stream",
     "text": [
      "https://carifilms.com/films/page/49?order=DESC&is_meta_key=0&orderby=title#038;is_meta_key=0&orderby=title\n",
      "49\n"
     ]
    },
    {
     "name": "stderr",
     "output_type": "stream",
     "text": [
      "2020-12-04 11:30:33 [scrapy.core.engine] DEBUG: Crawled (200) <GET https://carifilms.com/films/page/49?order=DESC&is_meta_key=0&orderby=title#038;is_meta_key=0&orderby=title> (referer: https://carifilms.com/films/page/48?order=DESC&is_meta_key=0&orderby=title)\n"
     ]
    },
    {
     "name": "stdout",
     "output_type": "stream",
     "text": [
      "https://carifilms.com/films/page/50?order=DESC&is_meta_key=0&orderby=title#038;is_meta_key=0&orderby=title\n",
      "50\n"
     ]
    },
    {
     "name": "stderr",
     "output_type": "stream",
     "text": [
      "2020-12-04 11:30:38 [scrapy.core.engine] DEBUG: Crawled (200) <GET https://carifilms.com/films/page/50?order=DESC&is_meta_key=0&orderby=title#038;is_meta_key=0&orderby=title> (referer: https://carifilms.com/films/page/49?order=DESC&is_meta_key=0&orderby=title)\n"
     ]
    },
    {
     "name": "stdout",
     "output_type": "stream",
     "text": [
      "https://carifilms.com/films/page/51?order=DESC&is_meta_key=0&orderby=title#038;is_meta_key=0&orderby=title\n",
      "51\n"
     ]
    },
    {
     "name": "stderr",
     "output_type": "stream",
     "text": [
      "2020-12-04 11:30:42 [scrapy.core.engine] DEBUG: Crawled (200) <GET https://carifilms.com/films/page/51?order=DESC&is_meta_key=0&orderby=title#038;is_meta_key=0&orderby=title> (referer: https://carifilms.com/films/page/50?order=DESC&is_meta_key=0&orderby=title)\n"
     ]
    },
    {
     "name": "stdout",
     "output_type": "stream",
     "text": [
      "https://carifilms.com/films/page/52?order=DESC&is_meta_key=0&orderby=title#038;is_meta_key=0&orderby=title\n",
      "52\n"
     ]
    },
    {
     "name": "stderr",
     "output_type": "stream",
     "text": [
      "2020-12-04 11:30:46 [scrapy.core.engine] DEBUG: Crawled (200) <GET https://carifilms.com/films/page/52?order=DESC&is_meta_key=0&orderby=title#038;is_meta_key=0&orderby=title> (referer: https://carifilms.com/films/page/51?order=DESC&is_meta_key=0&orderby=title)\n"
     ]
    },
    {
     "name": "stdout",
     "output_type": "stream",
     "text": [
      "https://carifilms.com/films/page/53?order=DESC&is_meta_key=0&orderby=title#038;is_meta_key=0&orderby=title\n",
      "53\n"
     ]
    },
    {
     "name": "stderr",
     "output_type": "stream",
     "text": [
      "2020-12-04 11:30:50 [scrapy.core.engine] DEBUG: Crawled (200) <GET https://carifilms.com/films/page/53?order=DESC&is_meta_key=0&orderby=title#038;is_meta_key=0&orderby=title> (referer: https://carifilms.com/films/page/52?order=DESC&is_meta_key=0&orderby=title)\n"
     ]
    },
    {
     "name": "stdout",
     "output_type": "stream",
     "text": [
      "https://carifilms.com/films/page/54?order=DESC&is_meta_key=0&orderby=title#038;is_meta_key=0&orderby=title\n",
      "54\n"
     ]
    },
    {
     "name": "stderr",
     "output_type": "stream",
     "text": [
      "2020-12-04 11:30:55 [scrapy.core.engine] DEBUG: Crawled (200) <GET https://carifilms.com/films/page/54?order=DESC&is_meta_key=0&orderby=title#038;is_meta_key=0&orderby=title> (referer: https://carifilms.com/films/page/53?order=DESC&is_meta_key=0&orderby=title)\n",
      "2020-12-04 11:30:55 [scrapy.extensions.logstats] INFO: Crawled 54 pages (at 14 pages/min), scraped 0 items (at 0 items/min)\n"
     ]
    },
    {
     "name": "stdout",
     "output_type": "stream",
     "text": [
      "https://carifilms.com/films/page/55?order=DESC&is_meta_key=0&orderby=title#038;is_meta_key=0&orderby=title\n",
      "55\n"
     ]
    },
    {
     "name": "stderr",
     "output_type": "stream",
     "text": [
      "2020-12-04 11:30:59 [scrapy.core.engine] DEBUG: Crawled (200) <GET https://carifilms.com/films/page/55?order=DESC&is_meta_key=0&orderby=title#038;is_meta_key=0&orderby=title> (referer: https://carifilms.com/films/page/54?order=DESC&is_meta_key=0&orderby=title)\n"
     ]
    },
    {
     "name": "stdout",
     "output_type": "stream",
     "text": [
      "https://carifilms.com/films/page/56?order=DESC&is_meta_key=0&orderby=title#038;is_meta_key=0&orderby=title\n",
      "56\n"
     ]
    },
    {
     "name": "stderr",
     "output_type": "stream",
     "text": [
      "2020-12-04 11:31:04 [scrapy.core.engine] DEBUG: Crawled (200) <GET https://carifilms.com/films/page/56?order=DESC&is_meta_key=0&orderby=title#038;is_meta_key=0&orderby=title> (referer: https://carifilms.com/films/page/55?order=DESC&is_meta_key=0&orderby=title)\n"
     ]
    },
    {
     "name": "stdout",
     "output_type": "stream",
     "text": [
      "https://carifilms.com/films/page/57?order=DESC&is_meta_key=0&orderby=title#038;is_meta_key=0&orderby=title\n",
      "57\n"
     ]
    },
    {
     "name": "stderr",
     "output_type": "stream",
     "text": [
      "2020-12-04 11:31:08 [scrapy.core.engine] DEBUG: Crawled (200) <GET https://carifilms.com/films/page/57?order=DESC&is_meta_key=0&orderby=title#038;is_meta_key=0&orderby=title> (referer: https://carifilms.com/films/page/56?order=DESC&is_meta_key=0&orderby=title)\n"
     ]
    },
    {
     "name": "stdout",
     "output_type": "stream",
     "text": [
      "https://carifilms.com/films/page/58?order=DESC&is_meta_key=0&orderby=title#038;is_meta_key=0&orderby=title\n",
      "58\n"
     ]
    },
    {
     "name": "stderr",
     "output_type": "stream",
     "text": [
      "2020-12-04 11:31:13 [scrapy.core.engine] DEBUG: Crawled (200) <GET https://carifilms.com/films/page/58?order=DESC&is_meta_key=0&orderby=title#038;is_meta_key=0&orderby=title> (referer: https://carifilms.com/films/page/57?order=DESC&is_meta_key=0&orderby=title)\n"
     ]
    },
    {
     "name": "stdout",
     "output_type": "stream",
     "text": [
      "https://carifilms.com/films/page/59?order=DESC&is_meta_key=0&orderby=title#038;is_meta_key=0&orderby=title\n",
      "59\n"
     ]
    },
    {
     "name": "stderr",
     "output_type": "stream",
     "text": [
      "2020-12-04 11:31:17 [scrapy.core.engine] DEBUG: Crawled (200) <GET https://carifilms.com/films/page/59?order=DESC&is_meta_key=0&orderby=title#038;is_meta_key=0&orderby=title> (referer: https://carifilms.com/films/page/58?order=DESC&is_meta_key=0&orderby=title)\n"
     ]
    },
    {
     "name": "stdout",
     "output_type": "stream",
     "text": [
      "https://carifilms.com/films/page/60?order=DESC&is_meta_key=0&orderby=title#038;is_meta_key=0&orderby=title\n",
      "60\n"
     ]
    },
    {
     "name": "stderr",
     "output_type": "stream",
     "text": [
      "2020-12-04 11:31:21 [scrapy.core.engine] DEBUG: Crawled (200) <GET https://carifilms.com/films/page/60?order=DESC&is_meta_key=0&orderby=title#038;is_meta_key=0&orderby=title> (referer: https://carifilms.com/films/page/59?order=DESC&is_meta_key=0&orderby=title)\n"
     ]
    },
    {
     "name": "stdout",
     "output_type": "stream",
     "text": [
      "https://carifilms.com/films/page/61?order=DESC&is_meta_key=0&orderby=title#038;is_meta_key=0&orderby=title\n",
      "61\n"
     ]
    },
    {
     "name": "stderr",
     "output_type": "stream",
     "text": [
      "2020-12-04 11:31:26 [scrapy.core.engine] DEBUG: Crawled (200) <GET https://carifilms.com/films/page/61?order=DESC&is_meta_key=0&orderby=title#038;is_meta_key=0&orderby=title> (referer: https://carifilms.com/films/page/60?order=DESC&is_meta_key=0&orderby=title)\n"
     ]
    },
    {
     "name": "stdout",
     "output_type": "stream",
     "text": [
      "https://carifilms.com/films/page/62?order=DESC&is_meta_key=0&orderby=title#038;is_meta_key=0&orderby=title\n",
      "62\n"
     ]
    },
    {
     "name": "stderr",
     "output_type": "stream",
     "text": [
      "2020-12-04 11:31:30 [scrapy.core.engine] DEBUG: Crawled (200) <GET https://carifilms.com/films/page/62?order=DESC&is_meta_key=0&orderby=title#038;is_meta_key=0&orderby=title> (referer: https://carifilms.com/films/page/61?order=DESC&is_meta_key=0&orderby=title)\n"
     ]
    },
    {
     "name": "stdout",
     "output_type": "stream",
     "text": [
      "https://carifilms.com/films/page/63?order=DESC&is_meta_key=0&orderby=title#038;is_meta_key=0&orderby=title\n",
      "63\n"
     ]
    },
    {
     "name": "stderr",
     "output_type": "stream",
     "text": [
      "2020-12-04 11:31:35 [scrapy.core.engine] DEBUG: Crawled (200) <GET https://carifilms.com/films/page/63?order=DESC&is_meta_key=0&orderby=title#038;is_meta_key=0&orderby=title> (referer: https://carifilms.com/films/page/62?order=DESC&is_meta_key=0&orderby=title)\n"
     ]
    },
    {
     "name": "stdout",
     "output_type": "stream",
     "text": [
      "https://carifilms.com/films/page/64?order=DESC&is_meta_key=0&orderby=title#038;is_meta_key=0&orderby=title\n",
      "64\n"
     ]
    },
    {
     "name": "stderr",
     "output_type": "stream",
     "text": [
      "2020-12-04 11:31:39 [scrapy.core.engine] DEBUG: Crawled (200) <GET https://carifilms.com/films/page/64?order=DESC&is_meta_key=0&orderby=title#038;is_meta_key=0&orderby=title> (referer: https://carifilms.com/films/page/63?order=DESC&is_meta_key=0&orderby=title)\n"
     ]
    },
    {
     "name": "stdout",
     "output_type": "stream",
     "text": [
      "https://carifilms.com/films/page/65?order=DESC&is_meta_key=0&orderby=title#038;is_meta_key=0&orderby=title\n",
      "65\n"
     ]
    },
    {
     "name": "stderr",
     "output_type": "stream",
     "text": [
      "2020-12-04 11:31:44 [scrapy.core.engine] DEBUG: Crawled (200) <GET https://carifilms.com/films/page/65?order=DESC&is_meta_key=0&orderby=title#038;is_meta_key=0&orderby=title> (referer: https://carifilms.com/films/page/64?order=DESC&is_meta_key=0&orderby=title)\n"
     ]
    },
    {
     "name": "stdout",
     "output_type": "stream",
     "text": [
      "https://carifilms.com/films/page/66?order=DESC&is_meta_key=0&orderby=title#038;is_meta_key=0&orderby=title\n",
      "66\n"
     ]
    },
    {
     "name": "stderr",
     "output_type": "stream",
     "text": [
      "2020-12-04 11:31:48 [scrapy.core.engine] DEBUG: Crawled (200) <GET https://carifilms.com/films/page/66?order=DESC&is_meta_key=0&orderby=title#038;is_meta_key=0&orderby=title> (referer: https://carifilms.com/films/page/65?order=DESC&is_meta_key=0&orderby=title)\n"
     ]
    },
    {
     "name": "stdout",
     "output_type": "stream",
     "text": [
      "https://carifilms.com/films/page/67?order=DESC&is_meta_key=0&orderby=title#038;is_meta_key=0&orderby=title\n",
      "67\n"
     ]
    },
    {
     "name": "stderr",
     "output_type": "stream",
     "text": [
      "2020-12-04 11:31:52 [scrapy.core.engine] DEBUG: Crawled (200) <GET https://carifilms.com/films/page/67?order=DESC&is_meta_key=0&orderby=title#038;is_meta_key=0&orderby=title> (referer: https://carifilms.com/films/page/66?order=DESC&is_meta_key=0&orderby=title)\n"
     ]
    },
    {
     "name": "stdout",
     "output_type": "stream",
     "text": [
      "https://carifilms.com/films/page/68?order=DESC&is_meta_key=0&orderby=title#038;is_meta_key=0&orderby=title\n",
      "68\n"
     ]
    },
    {
     "name": "stderr",
     "output_type": "stream",
     "text": [
      "2020-12-04 11:31:55 [scrapy.extensions.logstats] INFO: Crawled 67 pages (at 13 pages/min), scraped 0 items (at 0 items/min)\n",
      "2020-12-04 11:31:57 [scrapy.core.engine] DEBUG: Crawled (200) <GET https://carifilms.com/films/page/68?order=DESC&is_meta_key=0&orderby=title#038;is_meta_key=0&orderby=title> (referer: https://carifilms.com/films/page/67?order=DESC&is_meta_key=0&orderby=title)\n"
     ]
    },
    {
     "name": "stdout",
     "output_type": "stream",
     "text": [
      "https://carifilms.com/films/page/69?order=DESC&is_meta_key=0&orderby=title#038;is_meta_key=0&orderby=title\n",
      "69\n"
     ]
    },
    {
     "name": "stderr",
     "output_type": "stream",
     "text": [
      "2020-12-04 11:32:01 [scrapy.core.engine] DEBUG: Crawled (200) <GET https://carifilms.com/films/page/69?order=DESC&is_meta_key=0&orderby=title#038;is_meta_key=0&orderby=title> (referer: https://carifilms.com/films/page/68?order=DESC&is_meta_key=0&orderby=title)\n"
     ]
    },
    {
     "name": "stdout",
     "output_type": "stream",
     "text": [
      "https://carifilms.com/films/page/70?order=DESC&is_meta_key=0&orderby=title#038;is_meta_key=0&orderby=title\n",
      "70\n"
     ]
    },
    {
     "name": "stderr",
     "output_type": "stream",
     "text": [
      "2020-12-04 11:32:06 [scrapy.core.engine] DEBUG: Crawled (200) <GET https://carifilms.com/films/page/70?order=DESC&is_meta_key=0&orderby=title#038;is_meta_key=0&orderby=title> (referer: https://carifilms.com/films/page/69?order=DESC&is_meta_key=0&orderby=title)\n"
     ]
    },
    {
     "name": "stdout",
     "output_type": "stream",
     "text": [
      "https://carifilms.com/films/page/71?order=DESC&is_meta_key=0&orderby=title#038;is_meta_key=0&orderby=title\n",
      "71\n"
     ]
    },
    {
     "name": "stderr",
     "output_type": "stream",
     "text": [
      "2020-12-04 11:32:10 [scrapy.core.engine] DEBUG: Crawled (200) <GET https://carifilms.com/films/page/71?order=DESC&is_meta_key=0&orderby=title#038;is_meta_key=0&orderby=title> (referer: https://carifilms.com/films/page/70?order=DESC&is_meta_key=0&orderby=title)\n"
     ]
    },
    {
     "name": "stdout",
     "output_type": "stream",
     "text": [
      "https://carifilms.com/films/page/72?order=DESC&is_meta_key=0&orderby=title#038;is_meta_key=0&orderby=title\n",
      "72\n"
     ]
    },
    {
     "name": "stderr",
     "output_type": "stream",
     "text": [
      "2020-12-04 11:32:14 [scrapy.core.engine] DEBUG: Crawled (200) <GET https://carifilms.com/films/page/72?order=DESC&is_meta_key=0&orderby=title#038;is_meta_key=0&orderby=title> (referer: https://carifilms.com/films/page/71?order=DESC&is_meta_key=0&orderby=title)\n"
     ]
    },
    {
     "name": "stdout",
     "output_type": "stream",
     "text": [
      "https://carifilms.com/films/page/73?order=DESC&is_meta_key=0&orderby=title#038;is_meta_key=0&orderby=title\n",
      "73\n"
     ]
    },
    {
     "name": "stderr",
     "output_type": "stream",
     "text": [
      "2020-12-04 11:32:19 [scrapy.core.engine] DEBUG: Crawled (200) <GET https://carifilms.com/films/page/73?order=DESC&is_meta_key=0&orderby=title#038;is_meta_key=0&orderby=title> (referer: https://carifilms.com/films/page/72?order=DESC&is_meta_key=0&orderby=title)\n"
     ]
    },
    {
     "name": "stdout",
     "output_type": "stream",
     "text": [
      "https://carifilms.com/films/page/74?order=DESC&is_meta_key=0&orderby=title#038;is_meta_key=0&orderby=title\n",
      "74\n"
     ]
    },
    {
     "name": "stderr",
     "output_type": "stream",
     "text": [
      "2020-12-04 11:32:23 [scrapy.core.engine] DEBUG: Crawled (200) <GET https://carifilms.com/films/page/74?order=DESC&is_meta_key=0&orderby=title#038;is_meta_key=0&orderby=title> (referer: https://carifilms.com/films/page/73?order=DESC&is_meta_key=0&orderby=title)\n"
     ]
    },
    {
     "name": "stdout",
     "output_type": "stream",
     "text": [
      "https://carifilms.com/films/page/75?order=DESC&is_meta_key=0&orderby=title#038;is_meta_key=0&orderby=title\n",
      "75\n"
     ]
    },
    {
     "name": "stderr",
     "output_type": "stream",
     "text": [
      "2020-12-04 11:32:27 [scrapy.core.engine] DEBUG: Crawled (200) <GET https://carifilms.com/films/page/75?order=DESC&is_meta_key=0&orderby=title#038;is_meta_key=0&orderby=title> (referer: https://carifilms.com/films/page/74?order=DESC&is_meta_key=0&orderby=title)\n"
     ]
    },
    {
     "name": "stdout",
     "output_type": "stream",
     "text": [
      "https://carifilms.com/films/page/76?order=DESC&is_meta_key=0&orderby=title#038;is_meta_key=0&orderby=title\n",
      "76\n"
     ]
    },
    {
     "name": "stderr",
     "output_type": "stream",
     "text": [
      "2020-12-04 11:32:32 [scrapy.core.engine] DEBUG: Crawled (200) <GET https://carifilms.com/films/page/76?order=DESC&is_meta_key=0&orderby=title#038;is_meta_key=0&orderby=title> (referer: https://carifilms.com/films/page/75?order=DESC&is_meta_key=0&orderby=title)\n"
     ]
    },
    {
     "name": "stdout",
     "output_type": "stream",
     "text": [
      "https://carifilms.com/films/page/77?order=DESC&is_meta_key=0&orderby=title#038;is_meta_key=0&orderby=title\n",
      "77\n"
     ]
    },
    {
     "name": "stderr",
     "output_type": "stream",
     "text": [
      "2020-12-04 11:32:36 [scrapy.core.engine] DEBUG: Crawled (200) <GET https://carifilms.com/films/page/77?order=DESC&is_meta_key=0&orderby=title#038;is_meta_key=0&orderby=title> (referer: https://carifilms.com/films/page/76?order=DESC&is_meta_key=0&orderby=title)\n"
     ]
    },
    {
     "name": "stdout",
     "output_type": "stream",
     "text": [
      "https://carifilms.com/films/page/78?order=DESC&is_meta_key=0&orderby=title#038;is_meta_key=0&orderby=title\n",
      "78\n"
     ]
    },
    {
     "name": "stderr",
     "output_type": "stream",
     "text": [
      "2020-12-04 11:32:40 [scrapy.core.engine] DEBUG: Crawled (200) <GET https://carifilms.com/films/page/78?order=DESC&is_meta_key=0&orderby=title#038;is_meta_key=0&orderby=title> (referer: https://carifilms.com/films/page/77?order=DESC&is_meta_key=0&orderby=title)\n"
     ]
    },
    {
     "name": "stdout",
     "output_type": "stream",
     "text": [
      "https://carifilms.com/films/page/79?order=DESC&is_meta_key=0&orderby=title#038;is_meta_key=0&orderby=title\n",
      "79\n"
     ]
    },
    {
     "name": "stderr",
     "output_type": "stream",
     "text": [
      "2020-12-04 11:32:44 [scrapy.core.engine] DEBUG: Crawled (200) <GET https://carifilms.com/films/page/79?order=DESC&is_meta_key=0&orderby=title#038;is_meta_key=0&orderby=title> (referer: https://carifilms.com/films/page/78?order=DESC&is_meta_key=0&orderby=title)\n"
     ]
    },
    {
     "name": "stdout",
     "output_type": "stream",
     "text": [
      "https://carifilms.com/films/page/80?order=DESC&is_meta_key=0&orderby=title#038;is_meta_key=0&orderby=title\n",
      "80\n"
     ]
    },
    {
     "name": "stderr",
     "output_type": "stream",
     "text": [
      "2020-12-04 11:32:49 [scrapy.core.engine] DEBUG: Crawled (200) <GET https://carifilms.com/films/page/80?order=DESC&is_meta_key=0&orderby=title#038;is_meta_key=0&orderby=title> (referer: https://carifilms.com/films/page/79?order=DESC&is_meta_key=0&orderby=title)\n"
     ]
    },
    {
     "name": "stdout",
     "output_type": "stream",
     "text": [
      "https://carifilms.com/films/page/81?order=DESC&is_meta_key=0&orderby=title#038;is_meta_key=0&orderby=title\n",
      "81\n"
     ]
    },
    {
     "name": "stderr",
     "output_type": "stream",
     "text": [
      "2020-12-04 11:32:53 [scrapy.core.engine] DEBUG: Crawled (200) <GET https://carifilms.com/films/page/81?order=DESC&is_meta_key=0&orderby=title#038;is_meta_key=0&orderby=title> (referer: https://carifilms.com/films/page/80?order=DESC&is_meta_key=0&orderby=title)\n"
     ]
    },
    {
     "name": "stdout",
     "output_type": "stream",
     "text": [
      "https://carifilms.com/films/page/82?order=DESC&is_meta_key=0&orderby=title#038;is_meta_key=0&orderby=title\n",
      "82\n"
     ]
    },
    {
     "name": "stderr",
     "output_type": "stream",
     "text": [
      "2020-12-04 11:32:55 [scrapy.extensions.logstats] INFO: Crawled 81 pages (at 14 pages/min), scraped 0 items (at 0 items/min)\n",
      "2020-12-04 11:32:58 [scrapy.core.engine] DEBUG: Crawled (200) <GET https://carifilms.com/films/page/82?order=DESC&is_meta_key=0&orderby=title#038;is_meta_key=0&orderby=title> (referer: https://carifilms.com/films/page/81?order=DESC&is_meta_key=0&orderby=title)\n"
     ]
    },
    {
     "name": "stdout",
     "output_type": "stream",
     "text": [
      "https://carifilms.com/films/page/83?order=DESC&is_meta_key=0&orderby=title#038;is_meta_key=0&orderby=title\n",
      "83\n"
     ]
    },
    {
     "name": "stderr",
     "output_type": "stream",
     "text": [
      "2020-12-04 11:33:03 [scrapy.core.engine] DEBUG: Crawled (200) <GET https://carifilms.com/films/page/83?order=DESC&is_meta_key=0&orderby=title#038;is_meta_key=0&orderby=title> (referer: https://carifilms.com/films/page/82?order=DESC&is_meta_key=0&orderby=title)\n"
     ]
    },
    {
     "name": "stdout",
     "output_type": "stream",
     "text": [
      "https://carifilms.com/films/page/84?order=DESC&is_meta_key=0&orderby=title#038;is_meta_key=0&orderby=title\n",
      "84\n"
     ]
    },
    {
     "name": "stderr",
     "output_type": "stream",
     "text": [
      "2020-12-04 11:33:08 [scrapy.core.engine] DEBUG: Crawled (200) <GET https://carifilms.com/films/page/84?order=DESC&is_meta_key=0&orderby=title#038;is_meta_key=0&orderby=title> (referer: https://carifilms.com/films/page/83?order=DESC&is_meta_key=0&orderby=title)\n"
     ]
    },
    {
     "name": "stdout",
     "output_type": "stream",
     "text": [
      "https://carifilms.com/films/page/85?order=DESC&is_meta_key=0&orderby=title#038;is_meta_key=0&orderby=title\n",
      "85\n"
     ]
    },
    {
     "name": "stderr",
     "output_type": "stream",
     "text": [
      "2020-12-04 11:33:12 [scrapy.core.engine] DEBUG: Crawled (200) <GET https://carifilms.com/films/page/85?order=DESC&is_meta_key=0&orderby=title#038;is_meta_key=0&orderby=title> (referer: https://carifilms.com/films/page/84?order=DESC&is_meta_key=0&orderby=title)\n"
     ]
    },
    {
     "name": "stdout",
     "output_type": "stream",
     "text": [
      "https://carifilms.com/films/page/86?order=DESC&is_meta_key=0&orderby=title#038;is_meta_key=0&orderby=title\n",
      "86\n"
     ]
    },
    {
     "name": "stderr",
     "output_type": "stream",
     "text": [
      "2020-12-04 11:33:17 [scrapy.core.engine] DEBUG: Crawled (200) <GET https://carifilms.com/films/page/86?order=DESC&is_meta_key=0&orderby=title#038;is_meta_key=0&orderby=title> (referer: https://carifilms.com/films/page/85?order=DESC&is_meta_key=0&orderby=title)\n"
     ]
    },
    {
     "name": "stdout",
     "output_type": "stream",
     "text": [
      "https://carifilms.com/films/page/87?order=DESC&is_meta_key=0&orderby=title#038;is_meta_key=0&orderby=title\n",
      "87\n"
     ]
    },
    {
     "name": "stderr",
     "output_type": "stream",
     "text": [
      "2020-12-04 11:33:21 [scrapy.core.engine] DEBUG: Crawled (200) <GET https://carifilms.com/films/page/87?order=DESC&is_meta_key=0&orderby=title#038;is_meta_key=0&orderby=title> (referer: https://carifilms.com/films/page/86?order=DESC&is_meta_key=0&orderby=title)\n"
     ]
    },
    {
     "name": "stdout",
     "output_type": "stream",
     "text": [
      "https://carifilms.com/films/page/88?order=DESC&is_meta_key=0&orderby=title#038;is_meta_key=0&orderby=title\n",
      "88\n"
     ]
    },
    {
     "name": "stderr",
     "output_type": "stream",
     "text": [
      "2020-12-04 11:33:25 [scrapy.core.engine] DEBUG: Crawled (200) <GET https://carifilms.com/films/page/88?order=DESC&is_meta_key=0&orderby=title#038;is_meta_key=0&orderby=title> (referer: https://carifilms.com/films/page/87?order=DESC&is_meta_key=0&orderby=title)\n"
     ]
    },
    {
     "name": "stdout",
     "output_type": "stream",
     "text": [
      "https://carifilms.com/films/page/89?order=DESC&is_meta_key=0&orderby=title#038;is_meta_key=0&orderby=title\n",
      "89\n"
     ]
    },
    {
     "name": "stderr",
     "output_type": "stream",
     "text": [
      "2020-12-04 11:33:29 [scrapy.core.engine] DEBUG: Crawled (200) <GET https://carifilms.com/films/page/89?order=DESC&is_meta_key=0&orderby=title#038;is_meta_key=0&orderby=title> (referer: https://carifilms.com/films/page/88?order=DESC&is_meta_key=0&orderby=title)\n"
     ]
    },
    {
     "name": "stdout",
     "output_type": "stream",
     "text": [
      "https://carifilms.com/films/page/90?order=DESC&is_meta_key=0&orderby=title#038;is_meta_key=0&orderby=title\n",
      "90\n"
     ]
    },
    {
     "name": "stderr",
     "output_type": "stream",
     "text": [
      "2020-12-04 11:33:33 [scrapy.core.engine] DEBUG: Crawled (200) <GET https://carifilms.com/films/page/90?order=DESC&is_meta_key=0&orderby=title#038;is_meta_key=0&orderby=title> (referer: https://carifilms.com/films/page/89?order=DESC&is_meta_key=0&orderby=title)\n"
     ]
    },
    {
     "name": "stdout",
     "output_type": "stream",
     "text": [
      "https://carifilms.com/films/page/91?order=DESC&is_meta_key=0&orderby=title#038;is_meta_key=0&orderby=title\n",
      "91\n"
     ]
    },
    {
     "name": "stderr",
     "output_type": "stream",
     "text": [
      "2020-12-04 11:33:38 [scrapy.core.engine] DEBUG: Crawled (200) <GET https://carifilms.com/films/page/91?order=DESC&is_meta_key=0&orderby=title#038;is_meta_key=0&orderby=title> (referer: https://carifilms.com/films/page/90?order=DESC&is_meta_key=0&orderby=title)\n"
     ]
    },
    {
     "name": "stdout",
     "output_type": "stream",
     "text": [
      "https://carifilms.com/films/page/92?order=DESC&is_meta_key=0&orderby=title#038;is_meta_key=0&orderby=title\n",
      "92\n"
     ]
    },
    {
     "name": "stderr",
     "output_type": "stream",
     "text": [
      "2020-12-04 11:33:42 [scrapy.core.engine] DEBUG: Crawled (200) <GET https://carifilms.com/films/page/92?order=DESC&is_meta_key=0&orderby=title#038;is_meta_key=0&orderby=title> (referer: https://carifilms.com/films/page/91?order=DESC&is_meta_key=0&orderby=title)\n"
     ]
    },
    {
     "name": "stdout",
     "output_type": "stream",
     "text": [
      "https://carifilms.com/films/page/93?order=DESC&is_meta_key=0&orderby=title#038;is_meta_key=0&orderby=title\n",
      "93\n"
     ]
    },
    {
     "name": "stderr",
     "output_type": "stream",
     "text": [
      "2020-12-04 11:33:46 [scrapy.core.engine] DEBUG: Crawled (200) <GET https://carifilms.com/films/page/93?order=DESC&is_meta_key=0&orderby=title#038;is_meta_key=0&orderby=title> (referer: https://carifilms.com/films/page/92?order=DESC&is_meta_key=0&orderby=title)\n"
     ]
    },
    {
     "name": "stdout",
     "output_type": "stream",
     "text": [
      "https://carifilms.com/films/page/94?order=DESC&is_meta_key=0&orderby=title#038;is_meta_key=0&orderby=title\n",
      "94\n"
     ]
    },
    {
     "name": "stderr",
     "output_type": "stream",
     "text": [
      "2020-12-04 11:33:51 [scrapy.core.engine] DEBUG: Crawled (200) <GET https://carifilms.com/films/page/94?order=DESC&is_meta_key=0&orderby=title#038;is_meta_key=0&orderby=title> (referer: https://carifilms.com/films/page/93?order=DESC&is_meta_key=0&orderby=title)\n"
     ]
    },
    {
     "name": "stdout",
     "output_type": "stream",
     "text": [
      "https://carifilms.com/films/page/95?order=DESC&is_meta_key=0&orderby=title#038;is_meta_key=0&orderby=title\n",
      "95\n"
     ]
    },
    {
     "name": "stderr",
     "output_type": "stream",
     "text": [
      "2020-12-04 11:33:55 [scrapy.extensions.logstats] INFO: Crawled 94 pages (at 13 pages/min), scraped 0 items (at 0 items/min)\n",
      "2020-12-04 11:33:55 [scrapy.core.engine] DEBUG: Crawled (200) <GET https://carifilms.com/films/page/95?order=DESC&is_meta_key=0&orderby=title#038;is_meta_key=0&orderby=title> (referer: https://carifilms.com/films/page/94?order=DESC&is_meta_key=0&orderby=title)\n"
     ]
    },
    {
     "name": "stdout",
     "output_type": "stream",
     "text": [
      "https://carifilms.com/films/page/96?order=DESC&is_meta_key=0&orderby=title#038;is_meta_key=0&orderby=title\n",
      "96\n"
     ]
    },
    {
     "name": "stderr",
     "output_type": "stream",
     "text": [
      "2020-12-04 11:33:59 [scrapy.core.engine] DEBUG: Crawled (200) <GET https://carifilms.com/films/page/96?order=DESC&is_meta_key=0&orderby=title#038;is_meta_key=0&orderby=title> (referer: https://carifilms.com/films/page/95?order=DESC&is_meta_key=0&orderby=title)\n"
     ]
    },
    {
     "name": "stdout",
     "output_type": "stream",
     "text": [
      "https://carifilms.com/films/page/97?order=DESC&is_meta_key=0&orderby=title#038;is_meta_key=0&orderby=title\n",
      "97\n"
     ]
    },
    {
     "name": "stderr",
     "output_type": "stream",
     "text": [
      "2020-12-04 11:34:04 [scrapy.core.engine] DEBUG: Crawled (200) <GET https://carifilms.com/films/page/97?order=DESC&is_meta_key=0&orderby=title#038;is_meta_key=0&orderby=title> (referer: https://carifilms.com/films/page/96?order=DESC&is_meta_key=0&orderby=title)\n"
     ]
    },
    {
     "name": "stdout",
     "output_type": "stream",
     "text": [
      "https://carifilms.com/films/page/98?order=DESC&is_meta_key=0&orderby=title#038;is_meta_key=0&orderby=title\n",
      "98\n"
     ]
    },
    {
     "name": "stderr",
     "output_type": "stream",
     "text": [
      "2020-12-04 11:34:08 [scrapy.core.engine] DEBUG: Crawled (200) <GET https://carifilms.com/films/page/98?order=DESC&is_meta_key=0&orderby=title#038;is_meta_key=0&orderby=title> (referer: https://carifilms.com/films/page/97?order=DESC&is_meta_key=0&orderby=title)\n"
     ]
    },
    {
     "name": "stdout",
     "output_type": "stream",
     "text": [
      "https://carifilms.com/films/page/99?order=DESC&is_meta_key=0&orderby=title#038;is_meta_key=0&orderby=title\n",
      "99\n"
     ]
    },
    {
     "name": "stderr",
     "output_type": "stream",
     "text": [
      "2020-12-04 11:34:12 [scrapy.core.engine] DEBUG: Crawled (200) <GET https://carifilms.com/films/page/99?order=DESC&is_meta_key=0&orderby=title#038;is_meta_key=0&orderby=title> (referer: https://carifilms.com/films/page/98?order=DESC&is_meta_key=0&orderby=title)\n"
     ]
    },
    {
     "name": "stdout",
     "output_type": "stream",
     "text": [
      "https://carifilms.com/films/page/100?order=DESC&is_meta_key=0&orderby=title#038;is_meta_key=0&orderby=title\n",
      "100\n"
     ]
    },
    {
     "name": "stderr",
     "output_type": "stream",
     "text": [
      "2020-12-04 11:34:17 [scrapy.core.engine] DEBUG: Crawled (200) <GET https://carifilms.com/films/page/100?order=DESC&is_meta_key=0&orderby=title#038;is_meta_key=0&orderby=title> (referer: https://carifilms.com/films/page/99?order=DESC&is_meta_key=0&orderby=title)\n"
     ]
    },
    {
     "name": "stdout",
     "output_type": "stream",
     "text": [
      "https://carifilms.com/films/page/101?order=DESC&is_meta_key=0&orderby=title#038;is_meta_key=0&orderby=title\n",
      "101\n"
     ]
    },
    {
     "name": "stderr",
     "output_type": "stream",
     "text": [
      "2020-12-04 11:34:21 [scrapy.core.engine] DEBUG: Crawled (200) <GET https://carifilms.com/films/page/101?order=DESC&is_meta_key=0&orderby=title#038;is_meta_key=0&orderby=title> (referer: https://carifilms.com/films/page/100?order=DESC&is_meta_key=0&orderby=title)\n"
     ]
    },
    {
     "name": "stdout",
     "output_type": "stream",
     "text": [
      "https://carifilms.com/films/page/102?order=DESC&is_meta_key=0&orderby=title#038;is_meta_key=0&orderby=title\n",
      "102\n"
     ]
    },
    {
     "name": "stderr",
     "output_type": "stream",
     "text": [
      "2020-12-04 11:34:26 [scrapy.core.engine] DEBUG: Crawled (200) <GET https://carifilms.com/films/page/102?order=DESC&is_meta_key=0&orderby=title#038;is_meta_key=0&orderby=title> (referer: https://carifilms.com/films/page/101?order=DESC&is_meta_key=0&orderby=title)\n"
     ]
    },
    {
     "name": "stdout",
     "output_type": "stream",
     "text": [
      "https://carifilms.com/films/page/103?order=DESC&is_meta_key=0&orderby=title#038;is_meta_key=0&orderby=title\n",
      "103\n"
     ]
    },
    {
     "name": "stderr",
     "output_type": "stream",
     "text": [
      "2020-12-04 11:34:30 [scrapy.core.engine] DEBUG: Crawled (200) <GET https://carifilms.com/films/page/103?order=DESC&is_meta_key=0&orderby=title#038;is_meta_key=0&orderby=title> (referer: https://carifilms.com/films/page/102?order=DESC&is_meta_key=0&orderby=title)\n"
     ]
    },
    {
     "name": "stdout",
     "output_type": "stream",
     "text": [
      "https://carifilms.com/films/page/104?order=DESC&is_meta_key=0&orderby=title#038;is_meta_key=0&orderby=title\n",
      "104\n"
     ]
    },
    {
     "name": "stderr",
     "output_type": "stream",
     "text": [
      "2020-12-04 11:34:34 [scrapy.core.engine] DEBUG: Crawled (200) <GET https://carifilms.com/films/page/104?order=DESC&is_meta_key=0&orderby=title#038;is_meta_key=0&orderby=title> (referer: https://carifilms.com/films/page/103?order=DESC&is_meta_key=0&orderby=title)\n"
     ]
    },
    {
     "name": "stdout",
     "output_type": "stream",
     "text": [
      "https://carifilms.com/films/page/105?order=DESC&is_meta_key=0&orderby=title#038;is_meta_key=0&orderby=title\n",
      "105\n"
     ]
    },
    {
     "name": "stderr",
     "output_type": "stream",
     "text": [
      "2020-12-04 11:34:40 [scrapy.core.engine] DEBUG: Crawled (200) <GET https://carifilms.com/films/page/105?order=DESC&is_meta_key=0&orderby=title#038;is_meta_key=0&orderby=title> (referer: https://carifilms.com/films/page/104?order=DESC&is_meta_key=0&orderby=title)\n"
     ]
    },
    {
     "name": "stdout",
     "output_type": "stream",
     "text": [
      "https://carifilms.com/films/page/106?order=DESC&is_meta_key=0&orderby=title#038;is_meta_key=0&orderby=title\n",
      "106\n"
     ]
    },
    {
     "name": "stderr",
     "output_type": "stream",
     "text": [
      "2020-12-04 11:34:44 [scrapy.core.engine] DEBUG: Crawled (200) <GET https://carifilms.com/films/page/106?order=DESC&is_meta_key=0&orderby=title#038;is_meta_key=0&orderby=title> (referer: https://carifilms.com/films/page/105?order=DESC&is_meta_key=0&orderby=title)\n"
     ]
    },
    {
     "name": "stdout",
     "output_type": "stream",
     "text": [
      "https://carifilms.com/films/page/107?order=DESC&is_meta_key=0&orderby=title#038;is_meta_key=0&orderby=title\n",
      "107\n"
     ]
    },
    {
     "name": "stderr",
     "output_type": "stream",
     "text": [
      "2020-12-04 11:34:48 [scrapy.core.engine] DEBUG: Crawled (200) <GET https://carifilms.com/films/page/107?order=DESC&is_meta_key=0&orderby=title#038;is_meta_key=0&orderby=title> (referer: https://carifilms.com/films/page/106?order=DESC&is_meta_key=0&orderby=title)\n"
     ]
    },
    {
     "name": "stdout",
     "output_type": "stream",
     "text": [
      "https://carifilms.com/films/page/108?order=DESC&is_meta_key=0&orderby=title#038;is_meta_key=0&orderby=title\n",
      "108\n"
     ]
    },
    {
     "name": "stderr",
     "output_type": "stream",
     "text": [
      "2020-12-04 11:34:52 [scrapy.core.engine] DEBUG: Crawled (200) <GET https://carifilms.com/films/page/108?order=DESC&is_meta_key=0&orderby=title#038;is_meta_key=0&orderby=title> (referer: https://carifilms.com/films/page/107?order=DESC&is_meta_key=0&orderby=title)\n"
     ]
    },
    {
     "name": "stdout",
     "output_type": "stream",
     "text": [
      "https://carifilms.com/films/page/109?order=DESC&is_meta_key=0&orderby=title#038;is_meta_key=0&orderby=title\n",
      "109\n"
     ]
    },
    {
     "name": "stderr",
     "output_type": "stream",
     "text": [
      "2020-12-04 11:34:55 [scrapy.extensions.logstats] INFO: Crawled 108 pages (at 14 pages/min), scraped 0 items (at 0 items/min)\n",
      "2020-12-04 11:34:56 [scrapy.core.engine] DEBUG: Crawled (200) <GET https://carifilms.com/films/page/109?order=DESC&is_meta_key=0&orderby=title#038;is_meta_key=0&orderby=title> (referer: https://carifilms.com/films/page/108?order=DESC&is_meta_key=0&orderby=title)\n"
     ]
    },
    {
     "name": "stdout",
     "output_type": "stream",
     "text": [
      "https://carifilms.com/films/page/110?order=DESC&is_meta_key=0&orderby=title#038;is_meta_key=0&orderby=title\n",
      "110\n"
     ]
    },
    {
     "name": "stderr",
     "output_type": "stream",
     "text": [
      "2020-12-04 11:35:01 [scrapy.core.engine] DEBUG: Crawled (200) <GET https://carifilms.com/films/page/110?order=DESC&is_meta_key=0&orderby=title#038;is_meta_key=0&orderby=title> (referer: https://carifilms.com/films/page/109?order=DESC&is_meta_key=0&orderby=title)\n"
     ]
    },
    {
     "name": "stdout",
     "output_type": "stream",
     "text": [
      "https://carifilms.com/films/page/111?order=DESC&is_meta_key=0&orderby=title#038;is_meta_key=0&orderby=title\n",
      "111\n"
     ]
    },
    {
     "name": "stderr",
     "output_type": "stream",
     "text": [
      "2020-12-04 11:35:05 [scrapy.core.engine] DEBUG: Crawled (200) <GET https://carifilms.com/films/page/111?order=DESC&is_meta_key=0&orderby=title#038;is_meta_key=0&orderby=title> (referer: https://carifilms.com/films/page/110?order=DESC&is_meta_key=0&orderby=title)\n"
     ]
    },
    {
     "name": "stdout",
     "output_type": "stream",
     "text": [
      "https://carifilms.com/films/page/112?order=DESC&is_meta_key=0&orderby=title#038;is_meta_key=0&orderby=title\n",
      "112\n"
     ]
    },
    {
     "name": "stderr",
     "output_type": "stream",
     "text": [
      "2020-12-04 11:35:10 [scrapy.core.engine] DEBUG: Crawled (200) <GET https://carifilms.com/films/page/112?order=DESC&is_meta_key=0&orderby=title#038;is_meta_key=0&orderby=title> (referer: https://carifilms.com/films/page/111?order=DESC&is_meta_key=0&orderby=title)\n"
     ]
    },
    {
     "name": "stdout",
     "output_type": "stream",
     "text": [
      "https://carifilms.com/films/page/113?order=DESC&is_meta_key=0&orderby=title#038;is_meta_key=0&orderby=title\n",
      "113\n"
     ]
    },
    {
     "name": "stderr",
     "output_type": "stream",
     "text": [
      "2020-12-04 11:35:14 [scrapy.core.engine] DEBUG: Crawled (200) <GET https://carifilms.com/films/page/113?order=DESC&is_meta_key=0&orderby=title#038;is_meta_key=0&orderby=title> (referer: https://carifilms.com/films/page/112?order=DESC&is_meta_key=0&orderby=title)\n"
     ]
    },
    {
     "name": "stdout",
     "output_type": "stream",
     "text": [
      "https://carifilms.com/films/page/114?order=DESC&is_meta_key=0&orderby=title#038;is_meta_key=0&orderby=title\n",
      "114\n"
     ]
    },
    {
     "name": "stderr",
     "output_type": "stream",
     "text": [
      "2020-12-04 11:35:19 [scrapy.core.engine] DEBUG: Crawled (200) <GET https://carifilms.com/films/page/114?order=DESC&is_meta_key=0&orderby=title#038;is_meta_key=0&orderby=title> (referer: https://carifilms.com/films/page/113?order=DESC&is_meta_key=0&orderby=title)\n"
     ]
    },
    {
     "name": "stdout",
     "output_type": "stream",
     "text": [
      "https://carifilms.com/films/page/115?order=DESC&is_meta_key=0&orderby=title#038;is_meta_key=0&orderby=title\n",
      "115\n"
     ]
    },
    {
     "name": "stderr",
     "output_type": "stream",
     "text": [
      "2020-12-04 11:35:23 [scrapy.core.engine] DEBUG: Crawled (200) <GET https://carifilms.com/films/page/115?order=DESC&is_meta_key=0&orderby=title#038;is_meta_key=0&orderby=title> (referer: https://carifilms.com/films/page/114?order=DESC&is_meta_key=0&orderby=title)\n"
     ]
    },
    {
     "name": "stdout",
     "output_type": "stream",
     "text": [
      "https://carifilms.com/films/page/116?order=DESC&is_meta_key=0&orderby=title#038;is_meta_key=0&orderby=title\n",
      "116\n"
     ]
    },
    {
     "name": "stderr",
     "output_type": "stream",
     "text": [
      "2020-12-04 11:35:28 [scrapy.core.engine] DEBUG: Crawled (200) <GET https://carifilms.com/films/page/116?order=DESC&is_meta_key=0&orderby=title#038;is_meta_key=0&orderby=title> (referer: https://carifilms.com/films/page/115?order=DESC&is_meta_key=0&orderby=title)\n"
     ]
    },
    {
     "name": "stdout",
     "output_type": "stream",
     "text": [
      "https://carifilms.com/films/page/117?order=DESC&is_meta_key=0&orderby=title#038;is_meta_key=0&orderby=title\n",
      "117\n"
     ]
    },
    {
     "name": "stderr",
     "output_type": "stream",
     "text": [
      "2020-12-04 11:35:32 [scrapy.core.engine] DEBUG: Crawled (200) <GET https://carifilms.com/films/page/117?order=DESC&is_meta_key=0&orderby=title#038;is_meta_key=0&orderby=title> (referer: https://carifilms.com/films/page/116?order=DESC&is_meta_key=0&orderby=title)\n"
     ]
    },
    {
     "name": "stdout",
     "output_type": "stream",
     "text": [
      "https://carifilms.com/films/page/118?order=DESC&is_meta_key=0&orderby=title#038;is_meta_key=0&orderby=title\n",
      "118\n"
     ]
    },
    {
     "name": "stderr",
     "output_type": "stream",
     "text": [
      "2020-12-04 11:35:36 [scrapy.core.engine] DEBUG: Crawled (200) <GET https://carifilms.com/films/page/118?order=DESC&is_meta_key=0&orderby=title#038;is_meta_key=0&orderby=title> (referer: https://carifilms.com/films/page/117?order=DESC&is_meta_key=0&orderby=title)\n"
     ]
    },
    {
     "name": "stdout",
     "output_type": "stream",
     "text": [
      "https://carifilms.com/films/page/119?order=DESC&is_meta_key=0&orderby=title#038;is_meta_key=0&orderby=title\n",
      "119\n"
     ]
    },
    {
     "name": "stderr",
     "output_type": "stream",
     "text": [
      "2020-12-04 11:35:40 [scrapy.core.engine] DEBUG: Crawled (200) <GET https://carifilms.com/films/page/119?order=DESC&is_meta_key=0&orderby=title#038;is_meta_key=0&orderby=title> (referer: https://carifilms.com/films/page/118?order=DESC&is_meta_key=0&orderby=title)\n"
     ]
    },
    {
     "name": "stdout",
     "output_type": "stream",
     "text": [
      "https://carifilms.com/films/page/120?order=DESC&is_meta_key=0&orderby=title#038;is_meta_key=0&orderby=title\n",
      "120\n"
     ]
    },
    {
     "name": "stderr",
     "output_type": "stream",
     "text": [
      "2020-12-04 11:35:44 [scrapy.core.engine] DEBUG: Crawled (200) <GET https://carifilms.com/films/page/120?order=DESC&is_meta_key=0&orderby=title#038;is_meta_key=0&orderby=title> (referer: https://carifilms.com/films/page/119?order=DESC&is_meta_key=0&orderby=title)\n"
     ]
    },
    {
     "name": "stdout",
     "output_type": "stream",
     "text": [
      "https://carifilms.com/films/page/121?order=DESC&is_meta_key=0&orderby=title#038;is_meta_key=0&orderby=title\n",
      "121\n"
     ]
    },
    {
     "name": "stderr",
     "output_type": "stream",
     "text": [
      "2020-12-04 11:35:49 [scrapy.core.engine] DEBUG: Crawled (200) <GET https://carifilms.com/films/page/121?order=DESC&is_meta_key=0&orderby=title#038;is_meta_key=0&orderby=title> (referer: https://carifilms.com/films/page/120?order=DESC&is_meta_key=0&orderby=title)\n"
     ]
    },
    {
     "name": "stdout",
     "output_type": "stream",
     "text": [
      "https://carifilms.com/films/page/122?order=DESC&is_meta_key=0&orderby=title#038;is_meta_key=0&orderby=title\n",
      "122\n"
     ]
    },
    {
     "name": "stderr",
     "output_type": "stream",
     "text": [
      "2020-12-04 11:35:53 [scrapy.core.engine] DEBUG: Crawled (200) <GET https://carifilms.com/films/page/122?order=DESC&is_meta_key=0&orderby=title#038;is_meta_key=0&orderby=title> (referer: https://carifilms.com/films/page/121?order=DESC&is_meta_key=0&orderby=title)\n"
     ]
    },
    {
     "name": "stdout",
     "output_type": "stream",
     "text": [
      "https://carifilms.com/films/page/123?order=DESC&is_meta_key=0&orderby=title#038;is_meta_key=0&orderby=title\n",
      "123\n"
     ]
    },
    {
     "name": "stderr",
     "output_type": "stream",
     "text": [
      "2020-12-04 11:35:55 [scrapy.extensions.logstats] INFO: Crawled 122 pages (at 14 pages/min), scraped 0 items (at 0 items/min)\n",
      "2020-12-04 11:35:58 [scrapy.core.engine] DEBUG: Crawled (200) <GET https://carifilms.com/films/page/123?order=DESC&is_meta_key=0&orderby=title#038;is_meta_key=0&orderby=title> (referer: https://carifilms.com/films/page/122?order=DESC&is_meta_key=0&orderby=title)\n"
     ]
    },
    {
     "name": "stdout",
     "output_type": "stream",
     "text": [
      "https://carifilms.com/films/page/124?order=DESC&is_meta_key=0&orderby=title#038;is_meta_key=0&orderby=title\n",
      "124\n"
     ]
    },
    {
     "name": "stderr",
     "output_type": "stream",
     "text": [
      "2020-12-04 11:36:02 [scrapy.core.engine] DEBUG: Crawled (200) <GET https://carifilms.com/films/page/124?order=DESC&is_meta_key=0&orderby=title#038;is_meta_key=0&orderby=title> (referer: https://carifilms.com/films/page/123?order=DESC&is_meta_key=0&orderby=title)\n"
     ]
    },
    {
     "name": "stdout",
     "output_type": "stream",
     "text": [
      "https://carifilms.com/films/page/125?order=DESC&is_meta_key=0&orderby=title#038;is_meta_key=0&orderby=title\n",
      "125\n"
     ]
    },
    {
     "name": "stderr",
     "output_type": "stream",
     "text": [
      "2020-12-04 11:36:06 [scrapy.core.engine] DEBUG: Crawled (200) <GET https://carifilms.com/films/page/125?order=DESC&is_meta_key=0&orderby=title#038;is_meta_key=0&orderby=title> (referer: https://carifilms.com/films/page/124?order=DESC&is_meta_key=0&orderby=title)\n"
     ]
    },
    {
     "name": "stdout",
     "output_type": "stream",
     "text": [
      "https://carifilms.com/films/page/126?order=DESC&is_meta_key=0&orderby=title#038;is_meta_key=0&orderby=title\n",
      "126\n"
     ]
    },
    {
     "name": "stderr",
     "output_type": "stream",
     "text": [
      "2020-12-04 11:36:10 [scrapy.core.engine] DEBUG: Crawled (200) <GET https://carifilms.com/films/page/126?order=DESC&is_meta_key=0&orderby=title#038;is_meta_key=0&orderby=title> (referer: https://carifilms.com/films/page/125?order=DESC&is_meta_key=0&orderby=title)\n"
     ]
    },
    {
     "name": "stdout",
     "output_type": "stream",
     "text": [
      "https://carifilms.com/films/page/127?order=DESC&is_meta_key=0&orderby=title#038;is_meta_key=0&orderby=title\n",
      "127\n"
     ]
    },
    {
     "name": "stderr",
     "output_type": "stream",
     "text": [
      "2020-12-04 11:36:15 [scrapy.core.engine] DEBUG: Crawled (200) <GET https://carifilms.com/films/page/127?order=DESC&is_meta_key=0&orderby=title#038;is_meta_key=0&orderby=title> (referer: https://carifilms.com/films/page/126?order=DESC&is_meta_key=0&orderby=title)\n"
     ]
    },
    {
     "name": "stdout",
     "output_type": "stream",
     "text": [
      "https://carifilms.com/films/page/128?order=DESC&is_meta_key=0&orderby=title#038;is_meta_key=0&orderby=title\n",
      "128\n"
     ]
    },
    {
     "name": "stderr",
     "output_type": "stream",
     "text": [
      "2020-12-04 11:36:19 [scrapy.core.engine] DEBUG: Crawled (200) <GET https://carifilms.com/films/page/128?order=DESC&is_meta_key=0&orderby=title#038;is_meta_key=0&orderby=title> (referer: https://carifilms.com/films/page/127?order=DESC&is_meta_key=0&orderby=title)\n"
     ]
    },
    {
     "name": "stdout",
     "output_type": "stream",
     "text": [
      "https://carifilms.com/films/page/129?order=DESC&is_meta_key=0&orderby=title#038;is_meta_key=0&orderby=title\n",
      "129\n"
     ]
    },
    {
     "name": "stderr",
     "output_type": "stream",
     "text": [
      "2020-12-04 11:36:23 [scrapy.core.engine] DEBUG: Crawled (200) <GET https://carifilms.com/films/page/129?order=DESC&is_meta_key=0&orderby=title#038;is_meta_key=0&orderby=title> (referer: https://carifilms.com/films/page/128?order=DESC&is_meta_key=0&orderby=title)\n"
     ]
    },
    {
     "name": "stdout",
     "output_type": "stream",
     "text": [
      "https://carifilms.com/films/page/130?order=DESC&is_meta_key=0&orderby=title#038;is_meta_key=0&orderby=title\n",
      "130\n"
     ]
    },
    {
     "name": "stderr",
     "output_type": "stream",
     "text": [
      "2020-12-04 11:36:27 [scrapy.core.engine] DEBUG: Crawled (200) <GET https://carifilms.com/films/page/130?order=DESC&is_meta_key=0&orderby=title#038;is_meta_key=0&orderby=title> (referer: https://carifilms.com/films/page/129?order=DESC&is_meta_key=0&orderby=title)\n"
     ]
    },
    {
     "name": "stdout",
     "output_type": "stream",
     "text": [
      "https://carifilms.com/films/page/131?order=DESC&is_meta_key=0&orderby=title#038;is_meta_key=0&orderby=title\n",
      "131\n"
     ]
    },
    {
     "name": "stderr",
     "output_type": "stream",
     "text": [
      "2020-12-04 11:36:32 [scrapy.core.engine] DEBUG: Crawled (200) <GET https://carifilms.com/films/page/131?order=DESC&is_meta_key=0&orderby=title#038;is_meta_key=0&orderby=title> (referer: https://carifilms.com/films/page/130?order=DESC&is_meta_key=0&orderby=title)\n"
     ]
    },
    {
     "name": "stdout",
     "output_type": "stream",
     "text": [
      "https://carifilms.com/films/page/132?order=DESC&is_meta_key=0&orderby=title#038;is_meta_key=0&orderby=title\n",
      "132\n"
     ]
    },
    {
     "name": "stderr",
     "output_type": "stream",
     "text": [
      "2020-12-04 11:36:36 [scrapy.core.engine] DEBUG: Crawled (200) <GET https://carifilms.com/films/page/132?order=DESC&is_meta_key=0&orderby=title#038;is_meta_key=0&orderby=title> (referer: https://carifilms.com/films/page/131?order=DESC&is_meta_key=0&orderby=title)\n"
     ]
    },
    {
     "name": "stdout",
     "output_type": "stream",
     "text": [
      "https://carifilms.com/films/page/133?order=DESC&is_meta_key=0&orderby=title#038;is_meta_key=0&orderby=title\n",
      "133\n"
     ]
    },
    {
     "name": "stderr",
     "output_type": "stream",
     "text": [
      "2020-12-04 11:36:41 [scrapy.core.engine] DEBUG: Crawled (200) <GET https://carifilms.com/films/page/133?order=DESC&is_meta_key=0&orderby=title#038;is_meta_key=0&orderby=title> (referer: https://carifilms.com/films/page/132?order=DESC&is_meta_key=0&orderby=title)\n"
     ]
    },
    {
     "name": "stdout",
     "output_type": "stream",
     "text": [
      "https://carifilms.com/films/page/134?order=DESC&is_meta_key=0&orderby=title#038;is_meta_key=0&orderby=title\n",
      "134\n"
     ]
    },
    {
     "name": "stderr",
     "output_type": "stream",
     "text": [
      "2020-12-04 11:36:45 [scrapy.core.engine] DEBUG: Crawled (200) <GET https://carifilms.com/films/page/134?order=DESC&is_meta_key=0&orderby=title#038;is_meta_key=0&orderby=title> (referer: https://carifilms.com/films/page/133?order=DESC&is_meta_key=0&orderby=title)\n"
     ]
    },
    {
     "name": "stdout",
     "output_type": "stream",
     "text": [
      "https://carifilms.com/films/page/135?order=DESC&is_meta_key=0&orderby=title#038;is_meta_key=0&orderby=title\n",
      "135\n"
     ]
    },
    {
     "name": "stderr",
     "output_type": "stream",
     "text": [
      "2020-12-04 11:36:50 [scrapy.core.engine] DEBUG: Crawled (200) <GET https://carifilms.com/films/page/135?order=DESC&is_meta_key=0&orderby=title#038;is_meta_key=0&orderby=title> (referer: https://carifilms.com/films/page/134?order=DESC&is_meta_key=0&orderby=title)\n"
     ]
    },
    {
     "name": "stdout",
     "output_type": "stream",
     "text": [
      "https://carifilms.com/films/page/136?order=DESC&is_meta_key=0&orderby=title#038;is_meta_key=0&orderby=title\n",
      "136\n"
     ]
    },
    {
     "name": "stderr",
     "output_type": "stream",
     "text": [
      "2020-12-04 11:36:54 [scrapy.core.engine] DEBUG: Crawled (200) <GET https://carifilms.com/films/page/136?order=DESC&is_meta_key=0&orderby=title#038;is_meta_key=0&orderby=title> (referer: https://carifilms.com/films/page/135?order=DESC&is_meta_key=0&orderby=title)\n"
     ]
    },
    {
     "name": "stdout",
     "output_type": "stream",
     "text": [
      "https://carifilms.com/films/page/137?order=DESC&is_meta_key=0&orderby=title#038;is_meta_key=0&orderby=title\n",
      "137\n"
     ]
    },
    {
     "name": "stderr",
     "output_type": "stream",
     "text": [
      "2020-12-04 11:36:55 [scrapy.extensions.logstats] INFO: Crawled 136 pages (at 14 pages/min), scraped 0 items (at 0 items/min)\n",
      "2020-12-04 11:36:59 [scrapy.core.engine] DEBUG: Crawled (200) <GET https://carifilms.com/films/page/137?order=DESC&is_meta_key=0&orderby=title#038;is_meta_key=0&orderby=title> (referer: https://carifilms.com/films/page/136?order=DESC&is_meta_key=0&orderby=title)\n"
     ]
    },
    {
     "name": "stdout",
     "output_type": "stream",
     "text": [
      "https://carifilms.com/films/page/138?order=DESC&is_meta_key=0&orderby=title#038;is_meta_key=0&orderby=title\n",
      "138\n"
     ]
    },
    {
     "name": "stderr",
     "output_type": "stream",
     "text": [
      "2020-12-04 11:37:03 [scrapy.core.engine] DEBUG: Crawled (200) <GET https://carifilms.com/films/page/138?order=DESC&is_meta_key=0&orderby=title#038;is_meta_key=0&orderby=title> (referer: https://carifilms.com/films/page/137?order=DESC&is_meta_key=0&orderby=title)\n"
     ]
    },
    {
     "name": "stdout",
     "output_type": "stream",
     "text": [
      "https://carifilms.com/films/page/139?order=DESC&is_meta_key=0&orderby=title#038;is_meta_key=0&orderby=title\n",
      "139\n"
     ]
    },
    {
     "name": "stderr",
     "output_type": "stream",
     "text": [
      "2020-12-04 11:37:07 [scrapy.core.engine] DEBUG: Crawled (200) <GET https://carifilms.com/films/page/139?order=DESC&is_meta_key=0&orderby=title#038;is_meta_key=0&orderby=title> (referer: https://carifilms.com/films/page/138?order=DESC&is_meta_key=0&orderby=title)\n"
     ]
    },
    {
     "name": "stdout",
     "output_type": "stream",
     "text": [
      "https://carifilms.com/films/page/140?order=DESC&is_meta_key=0&orderby=title#038;is_meta_key=0&orderby=title\n",
      "140\n"
     ]
    },
    {
     "name": "stderr",
     "output_type": "stream",
     "text": [
      "2020-12-04 11:37:11 [scrapy.core.engine] DEBUG: Crawled (200) <GET https://carifilms.com/films/page/140?order=DESC&is_meta_key=0&orderby=title#038;is_meta_key=0&orderby=title> (referer: https://carifilms.com/films/page/139?order=DESC&is_meta_key=0&orderby=title)\n"
     ]
    },
    {
     "name": "stdout",
     "output_type": "stream",
     "text": [
      "https://carifilms.com/films/page/141?order=DESC&is_meta_key=0&orderby=title#038;is_meta_key=0&orderby=title\n",
      "141\n"
     ]
    },
    {
     "name": "stderr",
     "output_type": "stream",
     "text": [
      "2020-12-04 11:37:16 [scrapy.core.engine] DEBUG: Crawled (200) <GET https://carifilms.com/films/page/141?order=DESC&is_meta_key=0&orderby=title#038;is_meta_key=0&orderby=title> (referer: https://carifilms.com/films/page/140?order=DESC&is_meta_key=0&orderby=title)\n"
     ]
    },
    {
     "name": "stdout",
     "output_type": "stream",
     "text": [
      "https://carifilms.com/films/page/142?order=DESC&is_meta_key=0&orderby=title#038;is_meta_key=0&orderby=title\n",
      "142\n"
     ]
    },
    {
     "name": "stderr",
     "output_type": "stream",
     "text": [
      "2020-12-04 11:37:20 [scrapy.core.engine] DEBUG: Crawled (200) <GET https://carifilms.com/films/page/142?order=DESC&is_meta_key=0&orderby=title#038;is_meta_key=0&orderby=title> (referer: https://carifilms.com/films/page/141?order=DESC&is_meta_key=0&orderby=title)\n"
     ]
    },
    {
     "name": "stdout",
     "output_type": "stream",
     "text": [
      "https://carifilms.com/films/page/143?order=DESC&is_meta_key=0&orderby=title#038;is_meta_key=0&orderby=title\n",
      "143\n"
     ]
    },
    {
     "name": "stderr",
     "output_type": "stream",
     "text": [
      "2020-12-04 11:37:25 [scrapy.core.engine] DEBUG: Crawled (200) <GET https://carifilms.com/films/page/143?order=DESC&is_meta_key=0&orderby=title#038;is_meta_key=0&orderby=title> (referer: https://carifilms.com/films/page/142?order=DESC&is_meta_key=0&orderby=title)\n"
     ]
    },
    {
     "name": "stdout",
     "output_type": "stream",
     "text": [
      "https://carifilms.com/films/page/144?order=DESC&is_meta_key=0&orderby=title#038;is_meta_key=0&orderby=title\n",
      "144\n"
     ]
    },
    {
     "name": "stderr",
     "output_type": "stream",
     "text": [
      "2020-12-04 11:37:29 [scrapy.core.engine] DEBUG: Crawled (200) <GET https://carifilms.com/films/page/144?order=DESC&is_meta_key=0&orderby=title#038;is_meta_key=0&orderby=title> (referer: https://carifilms.com/films/page/143?order=DESC&is_meta_key=0&orderby=title)\n"
     ]
    },
    {
     "name": "stdout",
     "output_type": "stream",
     "text": [
      "https://carifilms.com/films/page/145?order=DESC&is_meta_key=0&orderby=title#038;is_meta_key=0&orderby=title\n",
      "145\n"
     ]
    },
    {
     "name": "stderr",
     "output_type": "stream",
     "text": [
      "2020-12-04 11:37:33 [scrapy.core.engine] DEBUG: Crawled (200) <GET https://carifilms.com/films/page/145?order=DESC&is_meta_key=0&orderby=title#038;is_meta_key=0&orderby=title> (referer: https://carifilms.com/films/page/144?order=DESC&is_meta_key=0&orderby=title)\n"
     ]
    },
    {
     "name": "stdout",
     "output_type": "stream",
     "text": [
      "https://carifilms.com/films/page/146?order=DESC&is_meta_key=0&orderby=title#038;is_meta_key=0&orderby=title\n",
      "146\n"
     ]
    },
    {
     "name": "stderr",
     "output_type": "stream",
     "text": [
      "2020-12-04 11:37:37 [scrapy.core.engine] DEBUG: Crawled (200) <GET https://carifilms.com/films/page/146?order=DESC&is_meta_key=0&orderby=title#038;is_meta_key=0&orderby=title> (referer: https://carifilms.com/films/page/145?order=DESC&is_meta_key=0&orderby=title)\n"
     ]
    },
    {
     "name": "stdout",
     "output_type": "stream",
     "text": [
      "https://carifilms.com/films/page/147?order=DESC&is_meta_key=0&orderby=title#038;is_meta_key=0&orderby=title\n",
      "147\n"
     ]
    },
    {
     "name": "stderr",
     "output_type": "stream",
     "text": [
      "2020-12-04 11:37:41 [scrapy.core.engine] DEBUG: Crawled (200) <GET https://carifilms.com/films/page/147?order=DESC&is_meta_key=0&orderby=title#038;is_meta_key=0&orderby=title> (referer: https://carifilms.com/films/page/146?order=DESC&is_meta_key=0&orderby=title)\n"
     ]
    },
    {
     "name": "stdout",
     "output_type": "stream",
     "text": [
      "https://carifilms.com/films/page/148?order=DESC&is_meta_key=0&orderby=title#038;is_meta_key=0&orderby=title\n",
      "148\n"
     ]
    },
    {
     "name": "stderr",
     "output_type": "stream",
     "text": [
      "2020-12-04 11:37:45 [scrapy.core.engine] DEBUG: Crawled (200) <GET https://carifilms.com/films/page/148?order=DESC&is_meta_key=0&orderby=title#038;is_meta_key=0&orderby=title> (referer: https://carifilms.com/films/page/147?order=DESC&is_meta_key=0&orderby=title)\n"
     ]
    },
    {
     "name": "stdout",
     "output_type": "stream",
     "text": [
      "https://carifilms.com/films/page/149?order=DESC&is_meta_key=0&orderby=title#038;is_meta_key=0&orderby=title\n",
      "149\n"
     ]
    },
    {
     "name": "stderr",
     "output_type": "stream",
     "text": [
      "2020-12-04 11:37:50 [scrapy.core.engine] DEBUG: Crawled (200) <GET https://carifilms.com/films/page/149?order=DESC&is_meta_key=0&orderby=title#038;is_meta_key=0&orderby=title> (referer: https://carifilms.com/films/page/148?order=DESC&is_meta_key=0&orderby=title)\n"
     ]
    },
    {
     "name": "stdout",
     "output_type": "stream",
     "text": [
      "https://carifilms.com/films/page/150?order=DESC&is_meta_key=0&orderby=title#038;is_meta_key=0&orderby=title\n",
      "150\n"
     ]
    },
    {
     "name": "stderr",
     "output_type": "stream",
     "text": [
      "2020-12-04 11:37:55 [scrapy.extensions.logstats] INFO: Crawled 149 pages (at 13 pages/min), scraped 0 items (at 0 items/min)\n",
      "2020-12-04 11:37:55 [scrapy.core.engine] DEBUG: Crawled (200) <GET https://carifilms.com/films/page/150?order=DESC&is_meta_key=0&orderby=title#038;is_meta_key=0&orderby=title> (referer: https://carifilms.com/films/page/149?order=DESC&is_meta_key=0&orderby=title)\n"
     ]
    },
    {
     "name": "stdout",
     "output_type": "stream",
     "text": [
      "https://carifilms.com/films/page/151?order=DESC&is_meta_key=0&orderby=title#038;is_meta_key=0&orderby=title\n",
      "151\n"
     ]
    },
    {
     "name": "stderr",
     "output_type": "stream",
     "text": [
      "2020-12-04 11:37:59 [scrapy.core.engine] DEBUG: Crawled (200) <GET https://carifilms.com/films/page/151?order=DESC&is_meta_key=0&orderby=title#038;is_meta_key=0&orderby=title> (referer: https://carifilms.com/films/page/150?order=DESC&is_meta_key=0&orderby=title)\n"
     ]
    },
    {
     "name": "stdout",
     "output_type": "stream",
     "text": [
      "https://carifilms.com/films/page/152?order=DESC&is_meta_key=0&orderby=title#038;is_meta_key=0&orderby=title\n",
      "152\n"
     ]
    },
    {
     "name": "stderr",
     "output_type": "stream",
     "text": [
      "2020-12-04 11:38:03 [scrapy.core.engine] DEBUG: Crawled (200) <GET https://carifilms.com/films/page/152?order=DESC&is_meta_key=0&orderby=title#038;is_meta_key=0&orderby=title> (referer: https://carifilms.com/films/page/151?order=DESC&is_meta_key=0&orderby=title)\n"
     ]
    },
    {
     "name": "stdout",
     "output_type": "stream",
     "text": [
      "https://carifilms.com/films/page/153?order=DESC&is_meta_key=0&orderby=title#038;is_meta_key=0&orderby=title\n",
      "153\n"
     ]
    },
    {
     "name": "stderr",
     "output_type": "stream",
     "text": [
      "2020-12-04 11:38:08 [scrapy.core.engine] DEBUG: Crawled (200) <GET https://carifilms.com/films/page/153?order=DESC&is_meta_key=0&orderby=title#038;is_meta_key=0&orderby=title> (referer: https://carifilms.com/films/page/152?order=DESC&is_meta_key=0&orderby=title)\n"
     ]
    },
    {
     "name": "stdout",
     "output_type": "stream",
     "text": [
      "https://carifilms.com/films/page/154?order=DESC&is_meta_key=0&orderby=title#038;is_meta_key=0&orderby=title\n",
      "154\n"
     ]
    },
    {
     "name": "stderr",
     "output_type": "stream",
     "text": [
      "2020-12-04 11:38:12 [scrapy.core.engine] DEBUG: Crawled (200) <GET https://carifilms.com/films/page/154?order=DESC&is_meta_key=0&orderby=title#038;is_meta_key=0&orderby=title> (referer: https://carifilms.com/films/page/153?order=DESC&is_meta_key=0&orderby=title)\n"
     ]
    },
    {
     "name": "stdout",
     "output_type": "stream",
     "text": [
      "https://carifilms.com/films/page/155?order=DESC&is_meta_key=0&orderby=title#038;is_meta_key=0&orderby=title\n",
      "155\n"
     ]
    },
    {
     "name": "stderr",
     "output_type": "stream",
     "text": [
      "2020-12-04 11:38:17 [scrapy.core.engine] DEBUG: Crawled (200) <GET https://carifilms.com/films/page/155?order=DESC&is_meta_key=0&orderby=title#038;is_meta_key=0&orderby=title> (referer: https://carifilms.com/films/page/154?order=DESC&is_meta_key=0&orderby=title)\n"
     ]
    },
    {
     "name": "stdout",
     "output_type": "stream",
     "text": [
      "https://carifilms.com/films/page/156?order=DESC&is_meta_key=0&orderby=title#038;is_meta_key=0&orderby=title\n",
      "156\n"
     ]
    },
    {
     "name": "stderr",
     "output_type": "stream",
     "text": [
      "2020-12-04 11:38:21 [scrapy.core.engine] DEBUG: Crawled (200) <GET https://carifilms.com/films/page/156?order=DESC&is_meta_key=0&orderby=title#038;is_meta_key=0&orderby=title> (referer: https://carifilms.com/films/page/155?order=DESC&is_meta_key=0&orderby=title)\n"
     ]
    },
    {
     "name": "stdout",
     "output_type": "stream",
     "text": [
      "https://carifilms.com/films/page/157?order=DESC&is_meta_key=0&orderby=title#038;is_meta_key=0&orderby=title\n",
      "157\n"
     ]
    },
    {
     "name": "stderr",
     "output_type": "stream",
     "text": [
      "2020-12-04 11:38:25 [scrapy.core.engine] DEBUG: Crawled (200) <GET https://carifilms.com/films/page/157?order=DESC&is_meta_key=0&orderby=title#038;is_meta_key=0&orderby=title> (referer: https://carifilms.com/films/page/156?order=DESC&is_meta_key=0&orderby=title)\n"
     ]
    },
    {
     "name": "stdout",
     "output_type": "stream",
     "text": [
      "https://carifilms.com/films/page/158?order=DESC&is_meta_key=0&orderby=title#038;is_meta_key=0&orderby=title\n",
      "158\n"
     ]
    },
    {
     "name": "stderr",
     "output_type": "stream",
     "text": [
      "2020-12-04 11:38:29 [scrapy.core.engine] DEBUG: Crawled (200) <GET https://carifilms.com/films/page/158?order=DESC&is_meta_key=0&orderby=title#038;is_meta_key=0&orderby=title> (referer: https://carifilms.com/films/page/157?order=DESC&is_meta_key=0&orderby=title)\n"
     ]
    },
    {
     "name": "stdout",
     "output_type": "stream",
     "text": [
      "https://carifilms.com/films/page/159?order=DESC&is_meta_key=0&orderby=title#038;is_meta_key=0&orderby=title\n",
      "159\n"
     ]
    },
    {
     "name": "stderr",
     "output_type": "stream",
     "text": [
      "2020-12-04 11:38:33 [scrapy.core.engine] DEBUG: Crawled (200) <GET https://carifilms.com/films/page/159?order=DESC&is_meta_key=0&orderby=title#038;is_meta_key=0&orderby=title> (referer: https://carifilms.com/films/page/158?order=DESC&is_meta_key=0&orderby=title)\n"
     ]
    },
    {
     "name": "stdout",
     "output_type": "stream",
     "text": [
      "https://carifilms.com/films/page/160?order=DESC&is_meta_key=0&orderby=title#038;is_meta_key=0&orderby=title\n",
      "160\n"
     ]
    },
    {
     "name": "stderr",
     "output_type": "stream",
     "text": [
      "2020-12-04 11:38:38 [scrapy.core.engine] DEBUG: Crawled (200) <GET https://carifilms.com/films/page/160?order=DESC&is_meta_key=0&orderby=title#038;is_meta_key=0&orderby=title> (referer: https://carifilms.com/films/page/159?order=DESC&is_meta_key=0&orderby=title)\n"
     ]
    },
    {
     "name": "stdout",
     "output_type": "stream",
     "text": [
      "https://carifilms.com/films/page/161?order=DESC&is_meta_key=0&orderby=title#038;is_meta_key=0&orderby=title\n",
      "161\n"
     ]
    },
    {
     "name": "stderr",
     "output_type": "stream",
     "text": [
      "2020-12-04 11:38:42 [scrapy.core.engine] DEBUG: Crawled (200) <GET https://carifilms.com/films/page/161?order=DESC&is_meta_key=0&orderby=title#038;is_meta_key=0&orderby=title> (referer: https://carifilms.com/films/page/160?order=DESC&is_meta_key=0&orderby=title)\n"
     ]
    },
    {
     "name": "stdout",
     "output_type": "stream",
     "text": [
      "https://carifilms.com/films/page/162?order=DESC&is_meta_key=0&orderby=title#038;is_meta_key=0&orderby=title\n",
      "162\n"
     ]
    },
    {
     "name": "stderr",
     "output_type": "stream",
     "text": [
      "2020-12-04 11:38:46 [scrapy.core.engine] DEBUG: Crawled (200) <GET https://carifilms.com/films/page/162?order=DESC&is_meta_key=0&orderby=title#038;is_meta_key=0&orderby=title> (referer: https://carifilms.com/films/page/161?order=DESC&is_meta_key=0&orderby=title)\n"
     ]
    },
    {
     "name": "stdout",
     "output_type": "stream",
     "text": [
      "https://carifilms.com/films/page/163?order=DESC&is_meta_key=0&orderby=title#038;is_meta_key=0&orderby=title\n",
      "163\n"
     ]
    },
    {
     "name": "stderr",
     "output_type": "stream",
     "text": [
      "2020-12-04 11:38:50 [scrapy.core.engine] DEBUG: Crawled (200) <GET https://carifilms.com/films/page/163?order=DESC&is_meta_key=0&orderby=title#038;is_meta_key=0&orderby=title> (referer: https://carifilms.com/films/page/162?order=DESC&is_meta_key=0&orderby=title)\n"
     ]
    },
    {
     "name": "stdout",
     "output_type": "stream",
     "text": [
      "https://carifilms.com/films/page/164?order=DESC&is_meta_key=0&orderby=title#038;is_meta_key=0&orderby=title\n",
      "164\n"
     ]
    },
    {
     "name": "stderr",
     "output_type": "stream",
     "text": [
      "2020-12-04 11:38:55 [scrapy.extensions.logstats] INFO: Crawled 163 pages (at 14 pages/min), scraped 0 items (at 0 items/min)\n",
      "2020-12-04 11:38:55 [scrapy.core.engine] DEBUG: Crawled (200) <GET https://carifilms.com/films/page/164?order=DESC&is_meta_key=0&orderby=title#038;is_meta_key=0&orderby=title> (referer: https://carifilms.com/films/page/163?order=DESC&is_meta_key=0&orderby=title)\n"
     ]
    },
    {
     "name": "stdout",
     "output_type": "stream",
     "text": [
      "https://carifilms.com/films/page/165?order=DESC&is_meta_key=0&orderby=title#038;is_meta_key=0&orderby=title\n",
      "165\n"
     ]
    },
    {
     "name": "stderr",
     "output_type": "stream",
     "text": [
      "2020-12-04 11:38:59 [scrapy.core.engine] DEBUG: Crawled (200) <GET https://carifilms.com/films/page/165?order=DESC&is_meta_key=0&orderby=title#038;is_meta_key=0&orderby=title> (referer: https://carifilms.com/films/page/164?order=DESC&is_meta_key=0&orderby=title)\n"
     ]
    },
    {
     "name": "stdout",
     "output_type": "stream",
     "text": [
      "https://carifilms.com/films/page/166?order=DESC&is_meta_key=0&orderby=title#038;is_meta_key=0&orderby=title\n",
      "166\n"
     ]
    },
    {
     "name": "stderr",
     "output_type": "stream",
     "text": [
      "2020-12-04 11:39:04 [scrapy.core.engine] DEBUG: Crawled (200) <GET https://carifilms.com/films/page/166?order=DESC&is_meta_key=0&orderby=title#038;is_meta_key=0&orderby=title> (referer: https://carifilms.com/films/page/165?order=DESC&is_meta_key=0&orderby=title)\n"
     ]
    },
    {
     "name": "stdout",
     "output_type": "stream",
     "text": [
      "https://carifilms.com/films/page/167?order=DESC&is_meta_key=0&orderby=title#038;is_meta_key=0&orderby=title\n",
      "167\n"
     ]
    },
    {
     "name": "stderr",
     "output_type": "stream",
     "text": [
      "2020-12-04 11:39:08 [scrapy.core.engine] DEBUG: Crawled (200) <GET https://carifilms.com/films/page/167?order=DESC&is_meta_key=0&orderby=title#038;is_meta_key=0&orderby=title> (referer: https://carifilms.com/films/page/166?order=DESC&is_meta_key=0&orderby=title)\n"
     ]
    },
    {
     "name": "stdout",
     "output_type": "stream",
     "text": [
      "https://carifilms.com/films/page/168?order=DESC&is_meta_key=0&orderby=title#038;is_meta_key=0&orderby=title\n",
      "168\n"
     ]
    },
    {
     "name": "stderr",
     "output_type": "stream",
     "text": [
      "2020-12-04 11:39:13 [scrapy.core.engine] DEBUG: Crawled (200) <GET https://carifilms.com/films/page/168?order=DESC&is_meta_key=0&orderby=title#038;is_meta_key=0&orderby=title> (referer: https://carifilms.com/films/page/167?order=DESC&is_meta_key=0&orderby=title)\n"
     ]
    },
    {
     "name": "stdout",
     "output_type": "stream",
     "text": [
      "https://carifilms.com/films/page/169?order=DESC&is_meta_key=0&orderby=title#038;is_meta_key=0&orderby=title\n",
      "169\n"
     ]
    },
    {
     "name": "stderr",
     "output_type": "stream",
     "text": [
      "2020-12-04 11:39:17 [scrapy.core.engine] DEBUG: Crawled (200) <GET https://carifilms.com/films/page/169?order=DESC&is_meta_key=0&orderby=title#038;is_meta_key=0&orderby=title> (referer: https://carifilms.com/films/page/168?order=DESC&is_meta_key=0&orderby=title)\n"
     ]
    },
    {
     "name": "stdout",
     "output_type": "stream",
     "text": [
      "https://carifilms.com/films/page/170?order=DESC&is_meta_key=0&orderby=title#038;is_meta_key=0&orderby=title\n",
      "170\n"
     ]
    },
    {
     "name": "stderr",
     "output_type": "stream",
     "text": [
      "2020-12-04 11:39:22 [scrapy.core.engine] DEBUG: Crawled (200) <GET https://carifilms.com/films/page/170?order=DESC&is_meta_key=0&orderby=title#038;is_meta_key=0&orderby=title> (referer: https://carifilms.com/films/page/169?order=DESC&is_meta_key=0&orderby=title)\n"
     ]
    },
    {
     "name": "stdout",
     "output_type": "stream",
     "text": [
      "https://carifilms.com/films/page/171?order=DESC&is_meta_key=0&orderby=title#038;is_meta_key=0&orderby=title\n",
      "171\n"
     ]
    },
    {
     "name": "stderr",
     "output_type": "stream",
     "text": [
      "2020-12-04 11:39:26 [scrapy.core.engine] DEBUG: Crawled (200) <GET https://carifilms.com/films/page/171?order=DESC&is_meta_key=0&orderby=title#038;is_meta_key=0&orderby=title> (referer: https://carifilms.com/films/page/170?order=DESC&is_meta_key=0&orderby=title)\n"
     ]
    },
    {
     "name": "stdout",
     "output_type": "stream",
     "text": [
      "https://carifilms.com/films/page/172?order=DESC&is_meta_key=0&orderby=title#038;is_meta_key=0&orderby=title\n",
      "172\n"
     ]
    },
    {
     "name": "stderr",
     "output_type": "stream",
     "text": [
      "2020-12-04 11:39:30 [scrapy.core.engine] DEBUG: Crawled (200) <GET https://carifilms.com/films/page/172?order=DESC&is_meta_key=0&orderby=title#038;is_meta_key=0&orderby=title> (referer: https://carifilms.com/films/page/171?order=DESC&is_meta_key=0&orderby=title)\n"
     ]
    },
    {
     "name": "stdout",
     "output_type": "stream",
     "text": [
      "https://carifilms.com/films/page/173?order=DESC&is_meta_key=0&orderby=title#038;is_meta_key=0&orderby=title\n",
      "173\n"
     ]
    },
    {
     "name": "stderr",
     "output_type": "stream",
     "text": [
      "2020-12-04 11:39:34 [scrapy.core.engine] DEBUG: Crawled (200) <GET https://carifilms.com/films/page/173?order=DESC&is_meta_key=0&orderby=title#038;is_meta_key=0&orderby=title> (referer: https://carifilms.com/films/page/172?order=DESC&is_meta_key=0&orderby=title)\n"
     ]
    },
    {
     "name": "stdout",
     "output_type": "stream",
     "text": [
      "https://carifilms.com/films/page/174?order=DESC&is_meta_key=0&orderby=title#038;is_meta_key=0&orderby=title\n",
      "174\n"
     ]
    },
    {
     "name": "stderr",
     "output_type": "stream",
     "text": [
      "2020-12-04 11:39:39 [scrapy.core.engine] DEBUG: Crawled (200) <GET https://carifilms.com/films/page/174?order=DESC&is_meta_key=0&orderby=title#038;is_meta_key=0&orderby=title> (referer: https://carifilms.com/films/page/173?order=DESC&is_meta_key=0&orderby=title)\n"
     ]
    },
    {
     "name": "stdout",
     "output_type": "stream",
     "text": [
      "https://carifilms.com/films/page/175?order=DESC&is_meta_key=0&orderby=title#038;is_meta_key=0&orderby=title\n",
      "175\n"
     ]
    },
    {
     "name": "stderr",
     "output_type": "stream",
     "text": [
      "2020-12-04 11:39:43 [scrapy.core.engine] DEBUG: Crawled (200) <GET https://carifilms.com/films/page/175?order=DESC&is_meta_key=0&orderby=title#038;is_meta_key=0&orderby=title> (referer: https://carifilms.com/films/page/174?order=DESC&is_meta_key=0&orderby=title)\n"
     ]
    },
    {
     "name": "stdout",
     "output_type": "stream",
     "text": [
      "https://carifilms.com/films/page/176?order=DESC&is_meta_key=0&orderby=title#038;is_meta_key=0&orderby=title\n",
      "176\n"
     ]
    },
    {
     "name": "stderr",
     "output_type": "stream",
     "text": [
      "2020-12-04 11:39:48 [scrapy.core.engine] DEBUG: Crawled (200) <GET https://carifilms.com/films/page/176?order=DESC&is_meta_key=0&orderby=title#038;is_meta_key=0&orderby=title> (referer: https://carifilms.com/films/page/175?order=DESC&is_meta_key=0&orderby=title)\n"
     ]
    },
    {
     "name": "stdout",
     "output_type": "stream",
     "text": [
      "https://carifilms.com/films/page/177?order=DESC&is_meta_key=0&orderby=title#038;is_meta_key=0&orderby=title\n",
      "177\n"
     ]
    },
    {
     "name": "stderr",
     "output_type": "stream",
     "text": [
      "2020-12-04 11:39:52 [scrapy.core.engine] DEBUG: Crawled (200) <GET https://carifilms.com/films/page/177?order=DESC&is_meta_key=0&orderby=title#038;is_meta_key=0&orderby=title> (referer: https://carifilms.com/films/page/176?order=DESC&is_meta_key=0&orderby=title)\n"
     ]
    },
    {
     "name": "stdout",
     "output_type": "stream",
     "text": [
      "https://carifilms.com/films/page/178?order=DESC&is_meta_key=0&orderby=title#038;is_meta_key=0&orderby=title\n",
      "178\n"
     ]
    },
    {
     "name": "stderr",
     "output_type": "stream",
     "text": [
      "2020-12-04 11:39:55 [scrapy.extensions.logstats] INFO: Crawled 177 pages (at 14 pages/min), scraped 0 items (at 0 items/min)\n",
      "2020-12-04 11:39:56 [scrapy.core.engine] DEBUG: Crawled (200) <GET https://carifilms.com/films/page/178?order=DESC&is_meta_key=0&orderby=title#038;is_meta_key=0&orderby=title> (referer: https://carifilms.com/films/page/177?order=DESC&is_meta_key=0&orderby=title)\n"
     ]
    },
    {
     "name": "stdout",
     "output_type": "stream",
     "text": [
      "https://carifilms.com/films/page/179?order=DESC&is_meta_key=0&orderby=title#038;is_meta_key=0&orderby=title\n",
      "179\n"
     ]
    },
    {
     "name": "stderr",
     "output_type": "stream",
     "text": [
      "2020-12-04 11:40:00 [scrapy.core.engine] DEBUG: Crawled (200) <GET https://carifilms.com/films/page/179?order=DESC&is_meta_key=0&orderby=title#038;is_meta_key=0&orderby=title> (referer: https://carifilms.com/films/page/178?order=DESC&is_meta_key=0&orderby=title)\n"
     ]
    },
    {
     "name": "stdout",
     "output_type": "stream",
     "text": [
      "https://carifilms.com/films/page/180?order=DESC&is_meta_key=0&orderby=title#038;is_meta_key=0&orderby=title\n",
      "180\n"
     ]
    },
    {
     "name": "stderr",
     "output_type": "stream",
     "text": [
      "2020-12-04 11:40:05 [scrapy.core.engine] DEBUG: Crawled (200) <GET https://carifilms.com/films/page/180?order=DESC&is_meta_key=0&orderby=title#038;is_meta_key=0&orderby=title> (referer: https://carifilms.com/films/page/179?order=DESC&is_meta_key=0&orderby=title)\n"
     ]
    },
    {
     "name": "stdout",
     "output_type": "stream",
     "text": [
      "https://carifilms.com/films/page/181?order=DESC&is_meta_key=0&orderby=title#038;is_meta_key=0&orderby=title\n",
      "181\n"
     ]
    },
    {
     "name": "stderr",
     "output_type": "stream",
     "text": [
      "2020-12-04 11:40:11 [scrapy.core.engine] DEBUG: Crawled (200) <GET https://carifilms.com/films/page/181?order=DESC&is_meta_key=0&orderby=title#038;is_meta_key=0&orderby=title> (referer: https://carifilms.com/films/page/180?order=DESC&is_meta_key=0&orderby=title)\n"
     ]
    },
    {
     "name": "stdout",
     "output_type": "stream",
     "text": [
      "https://carifilms.com/films/page/182?order=DESC&is_meta_key=0&orderby=title#038;is_meta_key=0&orderby=title\n",
      "182\n"
     ]
    },
    {
     "name": "stderr",
     "output_type": "stream",
     "text": [
      "2020-12-04 11:40:18 [scrapy.core.engine] DEBUG: Crawled (200) <GET https://carifilms.com/films/page/182?order=DESC&is_meta_key=0&orderby=title#038;is_meta_key=0&orderby=title> (referer: https://carifilms.com/films/page/181?order=DESC&is_meta_key=0&orderby=title)\n"
     ]
    },
    {
     "name": "stdout",
     "output_type": "stream",
     "text": [
      "https://carifilms.com/films/page/183?order=DESC&is_meta_key=0&orderby=title#038;is_meta_key=0&orderby=title\n",
      "183\n"
     ]
    },
    {
     "name": "stderr",
     "output_type": "stream",
     "text": [
      "2020-12-04 11:40:22 [scrapy.core.engine] DEBUG: Crawled (200) <GET https://carifilms.com/films/page/183?order=DESC&is_meta_key=0&orderby=title#038;is_meta_key=0&orderby=title> (referer: https://carifilms.com/films/page/182?order=DESC&is_meta_key=0&orderby=title)\n"
     ]
    },
    {
     "name": "stdout",
     "output_type": "stream",
     "text": [
      "https://carifilms.com/films/page/184?order=DESC&is_meta_key=0&orderby=title#038;is_meta_key=0&orderby=title\n",
      "184\n"
     ]
    },
    {
     "name": "stderr",
     "output_type": "stream",
     "text": [
      "2020-12-04 11:40:27 [scrapy.core.engine] DEBUG: Crawled (200) <GET https://carifilms.com/films/page/184?order=DESC&is_meta_key=0&orderby=title#038;is_meta_key=0&orderby=title> (referer: https://carifilms.com/films/page/183?order=DESC&is_meta_key=0&orderby=title)\n"
     ]
    },
    {
     "name": "stdout",
     "output_type": "stream",
     "text": [
      "https://carifilms.com/films/page/185?order=DESC&is_meta_key=0&orderby=title#038;is_meta_key=0&orderby=title\n",
      "185\n"
     ]
    },
    {
     "name": "stderr",
     "output_type": "stream",
     "text": [
      "2020-12-04 11:40:31 [scrapy.core.engine] DEBUG: Crawled (200) <GET https://carifilms.com/films/page/185?order=DESC&is_meta_key=0&orderby=title#038;is_meta_key=0&orderby=title> (referer: https://carifilms.com/films/page/184?order=DESC&is_meta_key=0&orderby=title)\n"
     ]
    },
    {
     "name": "stdout",
     "output_type": "stream",
     "text": [
      "https://carifilms.com/films/page/186?order=DESC&is_meta_key=0&orderby=title#038;is_meta_key=0&orderby=title\n",
      "186\n"
     ]
    },
    {
     "name": "stderr",
     "output_type": "stream",
     "text": [
      "2020-12-04 11:40:35 [scrapy.core.engine] DEBUG: Crawled (200) <GET https://carifilms.com/films/page/186?order=DESC&is_meta_key=0&orderby=title#038;is_meta_key=0&orderby=title> (referer: https://carifilms.com/films/page/185?order=DESC&is_meta_key=0&orderby=title)\n"
     ]
    },
    {
     "name": "stdout",
     "output_type": "stream",
     "text": [
      "https://carifilms.com/films/page/187?order=DESC&is_meta_key=0&orderby=title#038;is_meta_key=0&orderby=title\n",
      "187\n"
     ]
    },
    {
     "name": "stderr",
     "output_type": "stream",
     "text": [
      "2020-12-04 11:40:40 [scrapy.core.engine] DEBUG: Crawled (200) <GET https://carifilms.com/films/page/187?order=DESC&is_meta_key=0&orderby=title#038;is_meta_key=0&orderby=title> (referer: https://carifilms.com/films/page/186?order=DESC&is_meta_key=0&orderby=title)\n"
     ]
    },
    {
     "name": "stdout",
     "output_type": "stream",
     "text": [
      "https://carifilms.com/films/page/188?order=DESC&is_meta_key=0&orderby=title#038;is_meta_key=0&orderby=title\n",
      "188\n"
     ]
    },
    {
     "name": "stderr",
     "output_type": "stream",
     "text": [
      "2020-12-04 11:40:44 [scrapy.core.engine] DEBUG: Crawled (200) <GET https://carifilms.com/films/page/188?order=DESC&is_meta_key=0&orderby=title#038;is_meta_key=0&orderby=title> (referer: https://carifilms.com/films/page/187?order=DESC&is_meta_key=0&orderby=title)\n"
     ]
    },
    {
     "name": "stdout",
     "output_type": "stream",
     "text": [
      "https://carifilms.com/films/page/189?order=DESC&is_meta_key=0&orderby=title#038;is_meta_key=0&orderby=title\n",
      "189\n"
     ]
    },
    {
     "name": "stderr",
     "output_type": "stream",
     "text": [
      "2020-12-04 11:40:48 [scrapy.core.engine] DEBUG: Crawled (200) <GET https://carifilms.com/films/page/189?order=DESC&is_meta_key=0&orderby=title#038;is_meta_key=0&orderby=title> (referer: https://carifilms.com/films/page/188?order=DESC&is_meta_key=0&orderby=title)\n"
     ]
    },
    {
     "name": "stdout",
     "output_type": "stream",
     "text": [
      "https://carifilms.com/films/page/190?order=DESC&is_meta_key=0&orderby=title#038;is_meta_key=0&orderby=title\n",
      "190\n"
     ]
    },
    {
     "name": "stderr",
     "output_type": "stream",
     "text": [
      "2020-12-04 11:40:52 [scrapy.core.engine] DEBUG: Crawled (200) <GET https://carifilms.com/films/page/190?order=DESC&is_meta_key=0&orderby=title#038;is_meta_key=0&orderby=title> (referer: https://carifilms.com/films/page/189?order=DESC&is_meta_key=0&orderby=title)\n"
     ]
    },
    {
     "name": "stdout",
     "output_type": "stream",
     "text": [
      "https://carifilms.com/films/page/191?order=DESC&is_meta_key=0&orderby=title#038;is_meta_key=0&orderby=title\n",
      "191\n"
     ]
    },
    {
     "name": "stderr",
     "output_type": "stream",
     "text": [
      "2020-12-04 11:40:55 [scrapy.extensions.logstats] INFO: Crawled 190 pages (at 13 pages/min), scraped 0 items (at 0 items/min)\n",
      "2020-12-04 11:40:56 [scrapy.core.engine] DEBUG: Crawled (200) <GET https://carifilms.com/films/page/191?order=DESC&is_meta_key=0&orderby=title#038;is_meta_key=0&orderby=title> (referer: https://carifilms.com/films/page/190?order=DESC&is_meta_key=0&orderby=title)\n"
     ]
    },
    {
     "name": "stdout",
     "output_type": "stream",
     "text": [
      "https://carifilms.com/films/page/192?order=DESC&is_meta_key=0&orderby=title#038;is_meta_key=0&orderby=title\n",
      "192\n"
     ]
    },
    {
     "name": "stderr",
     "output_type": "stream",
     "text": [
      "2020-12-04 11:41:01 [scrapy.core.engine] DEBUG: Crawled (200) <GET https://carifilms.com/films/page/192?order=DESC&is_meta_key=0&orderby=title#038;is_meta_key=0&orderby=title> (referer: https://carifilms.com/films/page/191?order=DESC&is_meta_key=0&orderby=title)\n"
     ]
    },
    {
     "name": "stdout",
     "output_type": "stream",
     "text": [
      "https://carifilms.com/films/page/193?order=DESC&is_meta_key=0&orderby=title#038;is_meta_key=0&orderby=title\n",
      "193\n"
     ]
    },
    {
     "name": "stderr",
     "output_type": "stream",
     "text": [
      "2020-12-04 11:41:05 [scrapy.core.engine] DEBUG: Crawled (200) <GET https://carifilms.com/films/page/193?order=DESC&is_meta_key=0&orderby=title#038;is_meta_key=0&orderby=title> (referer: https://carifilms.com/films/page/192?order=DESC&is_meta_key=0&orderby=title)\n"
     ]
    },
    {
     "name": "stdout",
     "output_type": "stream",
     "text": [
      "https://carifilms.com/films/page/194?order=DESC&is_meta_key=0&orderby=title#038;is_meta_key=0&orderby=title\n",
      "194\n"
     ]
    },
    {
     "name": "stderr",
     "output_type": "stream",
     "text": [
      "2020-12-04 11:41:09 [scrapy.core.engine] DEBUG: Crawled (200) <GET https://carifilms.com/films/page/194?order=DESC&is_meta_key=0&orderby=title#038;is_meta_key=0&orderby=title> (referer: https://carifilms.com/films/page/193?order=DESC&is_meta_key=0&orderby=title)\n"
     ]
    },
    {
     "name": "stdout",
     "output_type": "stream",
     "text": [
      "https://carifilms.com/films/page/195?order=DESC&is_meta_key=0&orderby=title#038;is_meta_key=0&orderby=title\n",
      "195\n"
     ]
    },
    {
     "name": "stderr",
     "output_type": "stream",
     "text": [
      "2020-12-04 11:41:14 [scrapy.core.engine] DEBUG: Crawled (200) <GET https://carifilms.com/films/page/195?order=DESC&is_meta_key=0&orderby=title#038;is_meta_key=0&orderby=title> (referer: https://carifilms.com/films/page/194?order=DESC&is_meta_key=0&orderby=title)\n"
     ]
    },
    {
     "name": "stdout",
     "output_type": "stream",
     "text": [
      "https://carifilms.com/films/page/196?order=DESC&is_meta_key=0&orderby=title#038;is_meta_key=0&orderby=title\n",
      "196\n"
     ]
    },
    {
     "name": "stderr",
     "output_type": "stream",
     "text": [
      "2020-12-04 11:41:18 [scrapy.core.engine] DEBUG: Crawled (200) <GET https://carifilms.com/films/page/196?order=DESC&is_meta_key=0&orderby=title#038;is_meta_key=0&orderby=title> (referer: https://carifilms.com/films/page/195?order=DESC&is_meta_key=0&orderby=title)\n"
     ]
    },
    {
     "name": "stdout",
     "output_type": "stream",
     "text": [
      "https://carifilms.com/films/page/197?order=DESC&is_meta_key=0&orderby=title#038;is_meta_key=0&orderby=title\n",
      "197\n"
     ]
    },
    {
     "name": "stderr",
     "output_type": "stream",
     "text": [
      "2020-12-04 11:41:22 [scrapy.core.engine] DEBUG: Crawled (200) <GET https://carifilms.com/films/page/197?order=DESC&is_meta_key=0&orderby=title#038;is_meta_key=0&orderby=title> (referer: https://carifilms.com/films/page/196?order=DESC&is_meta_key=0&orderby=title)\n"
     ]
    },
    {
     "name": "stdout",
     "output_type": "stream",
     "text": [
      "https://carifilms.com/films/page/198?order=DESC&is_meta_key=0&orderby=title#038;is_meta_key=0&orderby=title\n",
      "198\n"
     ]
    },
    {
     "name": "stderr",
     "output_type": "stream",
     "text": [
      "2020-12-04 11:41:27 [scrapy.core.engine] DEBUG: Crawled (200) <GET https://carifilms.com/films/page/198?order=DESC&is_meta_key=0&orderby=title#038;is_meta_key=0&orderby=title> (referer: https://carifilms.com/films/page/197?order=DESC&is_meta_key=0&orderby=title)\n"
     ]
    },
    {
     "name": "stdout",
     "output_type": "stream",
     "text": [
      "https://carifilms.com/films/page/199?order=DESC&is_meta_key=0&orderby=title#038;is_meta_key=0&orderby=title\n",
      "199\n"
     ]
    },
    {
     "name": "stderr",
     "output_type": "stream",
     "text": [
      "2020-12-04 11:41:31 [scrapy.core.engine] DEBUG: Crawled (200) <GET https://carifilms.com/films/page/199?order=DESC&is_meta_key=0&orderby=title#038;is_meta_key=0&orderby=title> (referer: https://carifilms.com/films/page/198?order=DESC&is_meta_key=0&orderby=title)\n"
     ]
    },
    {
     "name": "stdout",
     "output_type": "stream",
     "text": [
      "https://carifilms.com/films/page/200?order=DESC&is_meta_key=0&orderby=title#038;is_meta_key=0&orderby=title\n",
      "200\n"
     ]
    },
    {
     "name": "stderr",
     "output_type": "stream",
     "text": [
      "2020-12-04 11:41:35 [scrapy.core.engine] DEBUG: Crawled (200) <GET https://carifilms.com/films/page/200?order=DESC&is_meta_key=0&orderby=title#038;is_meta_key=0&orderby=title> (referer: https://carifilms.com/films/page/199?order=DESC&is_meta_key=0&orderby=title)\n"
     ]
    },
    {
     "name": "stdout",
     "output_type": "stream",
     "text": [
      "https://carifilms.com/films/page/201?order=DESC&is_meta_key=0&orderby=title#038;is_meta_key=0&orderby=title\n",
      "201\n"
     ]
    },
    {
     "name": "stderr",
     "output_type": "stream",
     "text": [
      "2020-12-04 11:41:39 [scrapy.core.engine] DEBUG: Crawled (200) <GET https://carifilms.com/films/page/201?order=DESC&is_meta_key=0&orderby=title#038;is_meta_key=0&orderby=title> (referer: https://carifilms.com/films/page/200?order=DESC&is_meta_key=0&orderby=title)\n"
     ]
    },
    {
     "name": "stdout",
     "output_type": "stream",
     "text": [
      "https://carifilms.com/films/page/202?order=DESC&is_meta_key=0&orderby=title#038;is_meta_key=0&orderby=title\n",
      "202\n"
     ]
    },
    {
     "name": "stderr",
     "output_type": "stream",
     "text": [
      "2020-12-04 11:41:44 [scrapy.core.engine] DEBUG: Crawled (200) <GET https://carifilms.com/films/page/202?order=DESC&is_meta_key=0&orderby=title#038;is_meta_key=0&orderby=title> (referer: https://carifilms.com/films/page/201?order=DESC&is_meta_key=0&orderby=title)\n"
     ]
    },
    {
     "name": "stdout",
     "output_type": "stream",
     "text": [
      "https://carifilms.com/films/page/203?order=DESC&is_meta_key=0&orderby=title#038;is_meta_key=0&orderby=title\n",
      "203\n"
     ]
    },
    {
     "name": "stderr",
     "output_type": "stream",
     "text": [
      "2020-12-04 11:41:50 [scrapy.core.engine] DEBUG: Crawled (200) <GET https://carifilms.com/films/page/203?order=DESC&is_meta_key=0&orderby=title#038;is_meta_key=0&orderby=title> (referer: https://carifilms.com/films/page/202?order=DESC&is_meta_key=0&orderby=title)\n"
     ]
    },
    {
     "name": "stdout",
     "output_type": "stream",
     "text": [
      "https://carifilms.com/films/page/204?order=DESC&is_meta_key=0&orderby=title#038;is_meta_key=0&orderby=title\n",
      "204\n"
     ]
    },
    {
     "name": "stderr",
     "output_type": "stream",
     "text": [
      "2020-12-04 11:41:55 [scrapy.core.engine] DEBUG: Crawled (200) <GET https://carifilms.com/films/page/204?order=DESC&is_meta_key=0&orderby=title#038;is_meta_key=0&orderby=title> (referer: https://carifilms.com/films/page/203?order=DESC&is_meta_key=0&orderby=title)\n",
      "2020-12-04 11:41:55 [scrapy.extensions.logstats] INFO: Crawled 204 pages (at 14 pages/min), scraped 0 items (at 0 items/min)\n"
     ]
    },
    {
     "name": "stdout",
     "output_type": "stream",
     "text": [
      "https://carifilms.com/films/page/205?order=DESC&is_meta_key=0&orderby=title#038;is_meta_key=0&orderby=title\n",
      "205\n"
     ]
    },
    {
     "name": "stderr",
     "output_type": "stream",
     "text": [
      "2020-12-04 11:41:59 [scrapy.core.engine] DEBUG: Crawled (200) <GET https://carifilms.com/films/page/205?order=DESC&is_meta_key=0&orderby=title#038;is_meta_key=0&orderby=title> (referer: https://carifilms.com/films/page/204?order=DESC&is_meta_key=0&orderby=title)\n"
     ]
    },
    {
     "name": "stdout",
     "output_type": "stream",
     "text": [
      "https://carifilms.com/films/page/206?order=DESC&is_meta_key=0&orderby=title#038;is_meta_key=0&orderby=title\n",
      "206\n"
     ]
    },
    {
     "name": "stderr",
     "output_type": "stream",
     "text": [
      "2020-12-04 11:42:03 [scrapy.core.engine] DEBUG: Crawled (200) <GET https://carifilms.com/films/page/206?order=DESC&is_meta_key=0&orderby=title#038;is_meta_key=0&orderby=title> (referer: https://carifilms.com/films/page/205?order=DESC&is_meta_key=0&orderby=title)\n"
     ]
    },
    {
     "name": "stdout",
     "output_type": "stream",
     "text": [
      "https://carifilms.com/films/page/207?order=DESC&is_meta_key=0&orderby=title#038;is_meta_key=0&orderby=title\n",
      "207\n"
     ]
    },
    {
     "name": "stderr",
     "output_type": "stream",
     "text": [
      "2020-12-04 11:42:07 [scrapy.core.engine] DEBUG: Crawled (200) <GET https://carifilms.com/films/page/207?order=DESC&is_meta_key=0&orderby=title#038;is_meta_key=0&orderby=title> (referer: https://carifilms.com/films/page/206?order=DESC&is_meta_key=0&orderby=title)\n"
     ]
    },
    {
     "name": "stdout",
     "output_type": "stream",
     "text": [
      "https://carifilms.com/films/page/208?order=DESC&is_meta_key=0&orderby=title#038;is_meta_key=0&orderby=title\n",
      "208\n"
     ]
    },
    {
     "name": "stderr",
     "output_type": "stream",
     "text": [
      "2020-12-04 11:42:12 [scrapy.core.engine] DEBUG: Crawled (200) <GET https://carifilms.com/films/page/208?order=DESC&is_meta_key=0&orderby=title#038;is_meta_key=0&orderby=title> (referer: https://carifilms.com/films/page/207?order=DESC&is_meta_key=0&orderby=title)\n"
     ]
    },
    {
     "name": "stdout",
     "output_type": "stream",
     "text": [
      "https://carifilms.com/films/page/209?order=DESC&is_meta_key=0&orderby=title#038;is_meta_key=0&orderby=title\n",
      "209\n"
     ]
    },
    {
     "name": "stderr",
     "output_type": "stream",
     "text": [
      "2020-12-04 11:42:17 [scrapy.core.engine] DEBUG: Crawled (200) <GET https://carifilms.com/films/page/209?order=DESC&is_meta_key=0&orderby=title#038;is_meta_key=0&orderby=title> (referer: https://carifilms.com/films/page/208?order=DESC&is_meta_key=0&orderby=title)\n"
     ]
    },
    {
     "name": "stdout",
     "output_type": "stream",
     "text": [
      "https://carifilms.com/films/page/210?order=DESC&is_meta_key=0&orderby=title#038;is_meta_key=0&orderby=title\n",
      "210\n"
     ]
    },
    {
     "name": "stderr",
     "output_type": "stream",
     "text": [
      "2020-12-04 11:42:21 [scrapy.core.engine] DEBUG: Crawled (200) <GET https://carifilms.com/films/page/210?order=DESC&is_meta_key=0&orderby=title#038;is_meta_key=0&orderby=title> (referer: https://carifilms.com/films/page/209?order=DESC&is_meta_key=0&orderby=title)\n"
     ]
    },
    {
     "name": "stdout",
     "output_type": "stream",
     "text": [
      "https://carifilms.com/films/page/211?order=DESC&is_meta_key=0&orderby=title#038;is_meta_key=0&orderby=title\n",
      "211\n"
     ]
    },
    {
     "name": "stderr",
     "output_type": "stream",
     "text": [
      "2020-12-04 11:42:25 [scrapy.core.engine] DEBUG: Crawled (200) <GET https://carifilms.com/films/page/211?order=DESC&is_meta_key=0&orderby=title#038;is_meta_key=0&orderby=title> (referer: https://carifilms.com/films/page/210?order=DESC&is_meta_key=0&orderby=title)\n"
     ]
    },
    {
     "name": "stdout",
     "output_type": "stream",
     "text": [
      "https://carifilms.com/films/page/212?order=DESC&is_meta_key=0&orderby=title#038;is_meta_key=0&orderby=title\n",
      "212\n"
     ]
    },
    {
     "name": "stderr",
     "output_type": "stream",
     "text": [
      "2020-12-04 11:42:29 [scrapy.core.engine] DEBUG: Crawled (200) <GET https://carifilms.com/films/page/212?order=DESC&is_meta_key=0&orderby=title#038;is_meta_key=0&orderby=title> (referer: https://carifilms.com/films/page/211?order=DESC&is_meta_key=0&orderby=title)\n"
     ]
    },
    {
     "name": "stdout",
     "output_type": "stream",
     "text": [
      "https://carifilms.com/films/page/213?order=DESC&is_meta_key=0&orderby=title#038;is_meta_key=0&orderby=title\n",
      "213\n"
     ]
    },
    {
     "name": "stderr",
     "output_type": "stream",
     "text": [
      "2020-12-04 11:42:34 [scrapy.core.engine] DEBUG: Crawled (200) <GET https://carifilms.com/films/page/213?order=DESC&is_meta_key=0&orderby=title#038;is_meta_key=0&orderby=title> (referer: https://carifilms.com/films/page/212?order=DESC&is_meta_key=0&orderby=title)\n"
     ]
    },
    {
     "name": "stdout",
     "output_type": "stream",
     "text": [
      "https://carifilms.com/films/page/214?order=DESC&is_meta_key=0&orderby=title#038;is_meta_key=0&orderby=title\n",
      "214\n"
     ]
    },
    {
     "name": "stderr",
     "output_type": "stream",
     "text": [
      "2020-12-04 11:42:38 [scrapy.core.engine] DEBUG: Crawled (200) <GET https://carifilms.com/films/page/214?order=DESC&is_meta_key=0&orderby=title#038;is_meta_key=0&orderby=title> (referer: https://carifilms.com/films/page/213?order=DESC&is_meta_key=0&orderby=title)\n"
     ]
    },
    {
     "name": "stdout",
     "output_type": "stream",
     "text": [
      "https://carifilms.com/films/page/215?order=DESC&is_meta_key=0&orderby=title#038;is_meta_key=0&orderby=title\n",
      "215\n"
     ]
    },
    {
     "name": "stderr",
     "output_type": "stream",
     "text": [
      "2020-12-04 11:42:42 [scrapy.core.engine] DEBUG: Crawled (200) <GET https://carifilms.com/films/page/215?order=DESC&is_meta_key=0&orderby=title#038;is_meta_key=0&orderby=title> (referer: https://carifilms.com/films/page/214?order=DESC&is_meta_key=0&orderby=title)\n"
     ]
    },
    {
     "name": "stdout",
     "output_type": "stream",
     "text": [
      "https://carifilms.com/films/page/216?order=DESC&is_meta_key=0&orderby=title#038;is_meta_key=0&orderby=title\n",
      "216\n"
     ]
    },
    {
     "name": "stderr",
     "output_type": "stream",
     "text": [
      "2020-12-04 11:42:46 [scrapy.core.engine] DEBUG: Crawled (200) <GET https://carifilms.com/films/page/216?order=DESC&is_meta_key=0&orderby=title#038;is_meta_key=0&orderby=title> (referer: https://carifilms.com/films/page/215?order=DESC&is_meta_key=0&orderby=title)\n"
     ]
    },
    {
     "name": "stdout",
     "output_type": "stream",
     "text": [
      "https://carifilms.com/films/page/217?order=DESC&is_meta_key=0&orderby=title#038;is_meta_key=0&orderby=title\n",
      "217\n"
     ]
    },
    {
     "name": "stderr",
     "output_type": "stream",
     "text": [
      "2020-12-04 11:42:50 [scrapy.core.engine] DEBUG: Crawled (200) <GET https://carifilms.com/films/page/217?order=DESC&is_meta_key=0&orderby=title#038;is_meta_key=0&orderby=title> (referer: https://carifilms.com/films/page/216?order=DESC&is_meta_key=0&orderby=title)\n"
     ]
    },
    {
     "name": "stdout",
     "output_type": "stream",
     "text": [
      "https://carifilms.com/films/page/218?order=DESC&is_meta_key=0&orderby=title#038;is_meta_key=0&orderby=title\n",
      "218\n"
     ]
    },
    {
     "name": "stderr",
     "output_type": "stream",
     "text": [
      "2020-12-04 11:42:55 [scrapy.core.engine] DEBUG: Crawled (200) <GET https://carifilms.com/films/page/218?order=DESC&is_meta_key=0&orderby=title#038;is_meta_key=0&orderby=title> (referer: https://carifilms.com/films/page/217?order=DESC&is_meta_key=0&orderby=title)\n",
      "2020-12-04 11:42:55 [scrapy.extensions.logstats] INFO: Crawled 218 pages (at 14 pages/min), scraped 0 items (at 0 items/min)\n"
     ]
    },
    {
     "name": "stdout",
     "output_type": "stream",
     "text": [
      "https://carifilms.com/films/page/219?order=DESC&is_meta_key=0&orderby=title#038;is_meta_key=0&orderby=title\n",
      "219\n"
     ]
    },
    {
     "name": "stderr",
     "output_type": "stream",
     "text": [
      "2020-12-04 11:43:00 [scrapy.core.engine] DEBUG: Crawled (200) <GET https://carifilms.com/films/page/219?order=DESC&is_meta_key=0&orderby=title#038;is_meta_key=0&orderby=title> (referer: https://carifilms.com/films/page/218?order=DESC&is_meta_key=0&orderby=title)\n"
     ]
    },
    {
     "name": "stdout",
     "output_type": "stream",
     "text": [
      "https://carifilms.com/films/page/220?order=DESC&is_meta_key=0&orderby=title#038;is_meta_key=0&orderby=title\n",
      "220\n"
     ]
    },
    {
     "name": "stderr",
     "output_type": "stream",
     "text": [
      "2020-12-04 11:43:04 [scrapy.core.engine] DEBUG: Crawled (200) <GET https://carifilms.com/films/page/220?order=DESC&is_meta_key=0&orderby=title#038;is_meta_key=0&orderby=title> (referer: https://carifilms.com/films/page/219?order=DESC&is_meta_key=0&orderby=title)\n"
     ]
    },
    {
     "name": "stdout",
     "output_type": "stream",
     "text": [
      "https://carifilms.com/films/page/221?order=DESC&is_meta_key=0&orderby=title#038;is_meta_key=0&orderby=title\n",
      "221\n"
     ]
    },
    {
     "name": "stderr",
     "output_type": "stream",
     "text": [
      "2020-12-04 11:43:08 [scrapy.core.engine] DEBUG: Crawled (200) <GET https://carifilms.com/films/page/221?order=DESC&is_meta_key=0&orderby=title#038;is_meta_key=0&orderby=title> (referer: https://carifilms.com/films/page/220?order=DESC&is_meta_key=0&orderby=title)\n"
     ]
    },
    {
     "name": "stdout",
     "output_type": "stream",
     "text": [
      "https://carifilms.com/films/page/222?order=DESC&is_meta_key=0&orderby=title#038;is_meta_key=0&orderby=title\n",
      "222\n"
     ]
    },
    {
     "name": "stderr",
     "output_type": "stream",
     "text": [
      "2020-12-04 11:43:13 [scrapy.core.engine] DEBUG: Crawled (200) <GET https://carifilms.com/films/page/222?order=DESC&is_meta_key=0&orderby=title#038;is_meta_key=0&orderby=title> (referer: https://carifilms.com/films/page/221?order=DESC&is_meta_key=0&orderby=title)\n"
     ]
    },
    {
     "name": "stdout",
     "output_type": "stream",
     "text": [
      "https://carifilms.com/films/page/223?order=DESC&is_meta_key=0&orderby=title#038;is_meta_key=0&orderby=title\n",
      "223\n"
     ]
    },
    {
     "name": "stderr",
     "output_type": "stream",
     "text": [
      "2020-12-04 11:43:17 [scrapy.core.engine] DEBUG: Crawled (200) <GET https://carifilms.com/films/page/223?order=DESC&is_meta_key=0&orderby=title#038;is_meta_key=0&orderby=title> (referer: https://carifilms.com/films/page/222?order=DESC&is_meta_key=0&orderby=title)\n"
     ]
    },
    {
     "name": "stdout",
     "output_type": "stream",
     "text": [
      "https://carifilms.com/films/page/224?order=DESC&is_meta_key=0&orderby=title#038;is_meta_key=0&orderby=title\n",
      "224\n"
     ]
    },
    {
     "name": "stderr",
     "output_type": "stream",
     "text": [
      "2020-12-04 11:43:21 [scrapy.core.engine] DEBUG: Crawled (200) <GET https://carifilms.com/films/page/224?order=DESC&is_meta_key=0&orderby=title#038;is_meta_key=0&orderby=title> (referer: https://carifilms.com/films/page/223?order=DESC&is_meta_key=0&orderby=title)\n"
     ]
    },
    {
     "name": "stdout",
     "output_type": "stream",
     "text": [
      "https://carifilms.com/films/page/225?order=DESC&is_meta_key=0&orderby=title#038;is_meta_key=0&orderby=title\n",
      "225\n"
     ]
    },
    {
     "name": "stderr",
     "output_type": "stream",
     "text": [
      "2020-12-04 11:43:25 [scrapy.core.engine] DEBUG: Crawled (200) <GET https://carifilms.com/films/page/225?order=DESC&is_meta_key=0&orderby=title#038;is_meta_key=0&orderby=title> (referer: https://carifilms.com/films/page/224?order=DESC&is_meta_key=0&orderby=title)\n"
     ]
    },
    {
     "name": "stdout",
     "output_type": "stream",
     "text": [
      "https://carifilms.com/films/page/226?order=DESC&is_meta_key=0&orderby=title#038;is_meta_key=0&orderby=title\n",
      "226\n"
     ]
    },
    {
     "name": "stderr",
     "output_type": "stream",
     "text": [
      "2020-12-04 11:43:30 [scrapy.core.engine] DEBUG: Crawled (200) <GET https://carifilms.com/films/page/226?order=DESC&is_meta_key=0&orderby=title#038;is_meta_key=0&orderby=title> (referer: https://carifilms.com/films/page/225?order=DESC&is_meta_key=0&orderby=title)\n"
     ]
    },
    {
     "name": "stdout",
     "output_type": "stream",
     "text": [
      "https://carifilms.com/films/page/227?order=DESC&is_meta_key=0&orderby=title#038;is_meta_key=0&orderby=title\n",
      "227\n"
     ]
    },
    {
     "name": "stderr",
     "output_type": "stream",
     "text": [
      "2020-12-04 11:43:34 [scrapy.core.engine] DEBUG: Crawled (200) <GET https://carifilms.com/films/page/227?order=DESC&is_meta_key=0&orderby=title#038;is_meta_key=0&orderby=title> (referer: https://carifilms.com/films/page/226?order=DESC&is_meta_key=0&orderby=title)\n"
     ]
    },
    {
     "name": "stdout",
     "output_type": "stream",
     "text": [
      "https://carifilms.com/films/page/228?order=DESC&is_meta_key=0&orderby=title#038;is_meta_key=0&orderby=title\n",
      "228\n"
     ]
    },
    {
     "name": "stderr",
     "output_type": "stream",
     "text": [
      "2020-12-04 11:43:38 [scrapy.core.engine] DEBUG: Crawled (200) <GET https://carifilms.com/films/page/228?order=DESC&is_meta_key=0&orderby=title#038;is_meta_key=0&orderby=title> (referer: https://carifilms.com/films/page/227?order=DESC&is_meta_key=0&orderby=title)\n"
     ]
    },
    {
     "name": "stdout",
     "output_type": "stream",
     "text": [
      "https://carifilms.com/films/page/229?order=DESC&is_meta_key=0&orderby=title#038;is_meta_key=0&orderby=title\n",
      "229\n"
     ]
    },
    {
     "name": "stderr",
     "output_type": "stream",
     "text": [
      "2020-12-04 11:43:43 [scrapy.core.engine] DEBUG: Crawled (200) <GET https://carifilms.com/films/page/229?order=DESC&is_meta_key=0&orderby=title#038;is_meta_key=0&orderby=title> (referer: https://carifilms.com/films/page/228?order=DESC&is_meta_key=0&orderby=title)\n"
     ]
    },
    {
     "name": "stdout",
     "output_type": "stream",
     "text": [
      "https://carifilms.com/films/page/230?order=DESC&is_meta_key=0&orderby=title#038;is_meta_key=0&orderby=title\n",
      "230\n"
     ]
    },
    {
     "name": "stderr",
     "output_type": "stream",
     "text": [
      "2020-12-04 11:43:47 [scrapy.core.engine] DEBUG: Crawled (200) <GET https://carifilms.com/films/page/230?order=DESC&is_meta_key=0&orderby=title#038;is_meta_key=0&orderby=title> (referer: https://carifilms.com/films/page/229?order=DESC&is_meta_key=0&orderby=title)\n"
     ]
    },
    {
     "name": "stdout",
     "output_type": "stream",
     "text": [
      "https://carifilms.com/films/page/231?order=DESC&is_meta_key=0&orderby=title#038;is_meta_key=0&orderby=title\n",
      "231\n"
     ]
    },
    {
     "name": "stderr",
     "output_type": "stream",
     "text": [
      "2020-12-04 11:43:52 [scrapy.core.engine] DEBUG: Crawled (200) <GET https://carifilms.com/films/page/231?order=DESC&is_meta_key=0&orderby=title#038;is_meta_key=0&orderby=title> (referer: https://carifilms.com/films/page/230?order=DESC&is_meta_key=0&orderby=title)\n"
     ]
    },
    {
     "name": "stdout",
     "output_type": "stream",
     "text": [
      "https://carifilms.com/films/page/232?order=DESC&is_meta_key=0&orderby=title#038;is_meta_key=0&orderby=title\n",
      "232\n"
     ]
    },
    {
     "name": "stderr",
     "output_type": "stream",
     "text": [
      "2020-12-04 11:43:55 [scrapy.extensions.logstats] INFO: Crawled 231 pages (at 13 pages/min), scraped 0 items (at 0 items/min)\n",
      "2020-12-04 11:43:56 [scrapy.core.engine] DEBUG: Crawled (200) <GET https://carifilms.com/films/page/232?order=DESC&is_meta_key=0&orderby=title#038;is_meta_key=0&orderby=title> (referer: https://carifilms.com/films/page/231?order=DESC&is_meta_key=0&orderby=title)\n"
     ]
    },
    {
     "name": "stdout",
     "output_type": "stream",
     "text": [
      "https://carifilms.com/films/page/233?order=DESC&is_meta_key=0&orderby=title#038;is_meta_key=0&orderby=title\n",
      "233\n"
     ]
    },
    {
     "name": "stderr",
     "output_type": "stream",
     "text": [
      "2020-12-04 11:44:01 [scrapy.core.engine] DEBUG: Crawled (200) <GET https://carifilms.com/films/page/233?order=DESC&is_meta_key=0&orderby=title#038;is_meta_key=0&orderby=title> (referer: https://carifilms.com/films/page/232?order=DESC&is_meta_key=0&orderby=title)\n"
     ]
    },
    {
     "name": "stdout",
     "output_type": "stream",
     "text": [
      "https://carifilms.com/films/page/234?order=DESC&is_meta_key=0&orderby=title#038;is_meta_key=0&orderby=title\n",
      "234\n"
     ]
    },
    {
     "name": "stderr",
     "output_type": "stream",
     "text": [
      "2020-12-04 11:44:05 [scrapy.core.engine] DEBUG: Crawled (200) <GET https://carifilms.com/films/page/234?order=DESC&is_meta_key=0&orderby=title#038;is_meta_key=0&orderby=title> (referer: https://carifilms.com/films/page/233?order=DESC&is_meta_key=0&orderby=title)\n"
     ]
    },
    {
     "name": "stdout",
     "output_type": "stream",
     "text": [
      "https://carifilms.com/films/page/235?order=DESC&is_meta_key=0&orderby=title#038;is_meta_key=0&orderby=title\n",
      "235\n"
     ]
    },
    {
     "name": "stderr",
     "output_type": "stream",
     "text": [
      "2020-12-04 11:44:09 [scrapy.core.engine] DEBUG: Crawled (200) <GET https://carifilms.com/films/page/235?order=DESC&is_meta_key=0&orderby=title#038;is_meta_key=0&orderby=title> (referer: https://carifilms.com/films/page/234?order=DESC&is_meta_key=0&orderby=title)\n"
     ]
    },
    {
     "name": "stdout",
     "output_type": "stream",
     "text": [
      "https://carifilms.com/films/page/236?order=DESC&is_meta_key=0&orderby=title#038;is_meta_key=0&orderby=title\n",
      "236\n"
     ]
    },
    {
     "name": "stderr",
     "output_type": "stream",
     "text": [
      "2020-12-04 11:44:14 [scrapy.core.engine] DEBUG: Crawled (200) <GET https://carifilms.com/films/page/236?order=DESC&is_meta_key=0&orderby=title#038;is_meta_key=0&orderby=title> (referer: https://carifilms.com/films/page/235?order=DESC&is_meta_key=0&orderby=title)\n"
     ]
    },
    {
     "name": "stdout",
     "output_type": "stream",
     "text": [
      "https://carifilms.com/films/page/237?order=DESC&is_meta_key=0&orderby=title#038;is_meta_key=0&orderby=title\n",
      "237\n"
     ]
    },
    {
     "name": "stderr",
     "output_type": "stream",
     "text": [
      "2020-12-04 11:44:18 [scrapy.core.engine] DEBUG: Crawled (200) <GET https://carifilms.com/films/page/237?order=DESC&is_meta_key=0&orderby=title#038;is_meta_key=0&orderby=title> (referer: https://carifilms.com/films/page/236?order=DESC&is_meta_key=0&orderby=title)\n"
     ]
    },
    {
     "name": "stdout",
     "output_type": "stream",
     "text": [
      "https://carifilms.com/films/page/238?order=DESC&is_meta_key=0&orderby=title#038;is_meta_key=0&orderby=title\n",
      "238\n"
     ]
    },
    {
     "name": "stderr",
     "output_type": "stream",
     "text": [
      "2020-12-04 11:44:22 [scrapy.core.engine] DEBUG: Crawled (200) <GET https://carifilms.com/films/page/238?order=DESC&is_meta_key=0&orderby=title#038;is_meta_key=0&orderby=title> (referer: https://carifilms.com/films/page/237?order=DESC&is_meta_key=0&orderby=title)\n"
     ]
    },
    {
     "name": "stdout",
     "output_type": "stream",
     "text": [
      "https://carifilms.com/films/page/239?order=DESC&is_meta_key=0&orderby=title#038;is_meta_key=0&orderby=title\n",
      "239\n"
     ]
    },
    {
     "name": "stderr",
     "output_type": "stream",
     "text": [
      "2020-12-04 11:44:27 [scrapy.core.engine] DEBUG: Crawled (200) <GET https://carifilms.com/films/page/239?order=DESC&is_meta_key=0&orderby=title#038;is_meta_key=0&orderby=title> (referer: https://carifilms.com/films/page/238?order=DESC&is_meta_key=0&orderby=title)\n"
     ]
    },
    {
     "name": "stdout",
     "output_type": "stream",
     "text": [
      "https://carifilms.com/films/page/240?order=DESC&is_meta_key=0&orderby=title#038;is_meta_key=0&orderby=title\n",
      "240\n"
     ]
    },
    {
     "name": "stderr",
     "output_type": "stream",
     "text": [
      "2020-12-04 11:44:31 [scrapy.core.engine] DEBUG: Crawled (200) <GET https://carifilms.com/films/page/240?order=DESC&is_meta_key=0&orderby=title#038;is_meta_key=0&orderby=title> (referer: https://carifilms.com/films/page/239?order=DESC&is_meta_key=0&orderby=title)\n"
     ]
    },
    {
     "name": "stdout",
     "output_type": "stream",
     "text": [
      "https://carifilms.com/films/page/241?order=DESC&is_meta_key=0&orderby=title#038;is_meta_key=0&orderby=title\n",
      "241\n"
     ]
    },
    {
     "name": "stderr",
     "output_type": "stream",
     "text": [
      "2020-12-04 11:44:35 [scrapy.core.engine] DEBUG: Crawled (200) <GET https://carifilms.com/films/page/241?order=DESC&is_meta_key=0&orderby=title#038;is_meta_key=0&orderby=title> (referer: https://carifilms.com/films/page/240?order=DESC&is_meta_key=0&orderby=title)\n"
     ]
    },
    {
     "name": "stdout",
     "output_type": "stream",
     "text": [
      "https://carifilms.com/films/page/242?order=DESC&is_meta_key=0&orderby=title#038;is_meta_key=0&orderby=title\n",
      "242\n"
     ]
    },
    {
     "name": "stderr",
     "output_type": "stream",
     "text": [
      "2020-12-04 11:44:40 [scrapy.core.engine] DEBUG: Crawled (200) <GET https://carifilms.com/films/page/242?order=DESC&is_meta_key=0&orderby=title#038;is_meta_key=0&orderby=title> (referer: https://carifilms.com/films/page/241?order=DESC&is_meta_key=0&orderby=title)\n"
     ]
    },
    {
     "name": "stdout",
     "output_type": "stream",
     "text": [
      "https://carifilms.com/films/page/243?order=DESC&is_meta_key=0&orderby=title#038;is_meta_key=0&orderby=title\n",
      "243\n"
     ]
    },
    {
     "name": "stderr",
     "output_type": "stream",
     "text": [
      "2020-12-04 11:44:44 [scrapy.core.engine] DEBUG: Crawled (200) <GET https://carifilms.com/films/page/243?order=DESC&is_meta_key=0&orderby=title#038;is_meta_key=0&orderby=title> (referer: https://carifilms.com/films/page/242?order=DESC&is_meta_key=0&orderby=title)\n"
     ]
    },
    {
     "name": "stdout",
     "output_type": "stream",
     "text": [
      "https://carifilms.com/films/page/244?order=DESC&is_meta_key=0&orderby=title#038;is_meta_key=0&orderby=title\n",
      "244\n"
     ]
    },
    {
     "name": "stderr",
     "output_type": "stream",
     "text": [
      "2020-12-04 11:44:48 [scrapy.core.engine] DEBUG: Crawled (200) <GET https://carifilms.com/films/page/244?order=DESC&is_meta_key=0&orderby=title#038;is_meta_key=0&orderby=title> (referer: https://carifilms.com/films/page/243?order=DESC&is_meta_key=0&orderby=title)\n"
     ]
    },
    {
     "name": "stdout",
     "output_type": "stream",
     "text": [
      "https://carifilms.com/films/page/245?order=DESC&is_meta_key=0&orderby=title#038;is_meta_key=0&orderby=title\n",
      "245\n"
     ]
    },
    {
     "name": "stderr",
     "output_type": "stream",
     "text": [
      "2020-12-04 11:44:52 [scrapy.core.engine] DEBUG: Crawled (200) <GET https://carifilms.com/films/page/245?order=DESC&is_meta_key=0&orderby=title#038;is_meta_key=0&orderby=title> (referer: https://carifilms.com/films/page/244?order=DESC&is_meta_key=0&orderby=title)\n"
     ]
    },
    {
     "name": "stdout",
     "output_type": "stream",
     "text": [
      "https://carifilms.com/films/page/246?order=DESC&is_meta_key=0&orderby=title#038;is_meta_key=0&orderby=title\n",
      "246\n"
     ]
    },
    {
     "name": "stderr",
     "output_type": "stream",
     "text": [
      "2020-12-04 11:44:55 [scrapy.extensions.logstats] INFO: Crawled 245 pages (at 14 pages/min), scraped 0 items (at 0 items/min)\n",
      "2020-12-04 11:44:56 [scrapy.core.engine] DEBUG: Crawled (200) <GET https://carifilms.com/films/page/246?order=DESC&is_meta_key=0&orderby=title#038;is_meta_key=0&orderby=title> (referer: https://carifilms.com/films/page/245?order=DESC&is_meta_key=0&orderby=title)\n"
     ]
    },
    {
     "name": "stdout",
     "output_type": "stream",
     "text": [
      "https://carifilms.com/films/page/247?order=DESC&is_meta_key=0&orderby=title#038;is_meta_key=0&orderby=title\n",
      "247\n"
     ]
    },
    {
     "name": "stderr",
     "output_type": "stream",
     "text": [
      "2020-12-04 11:45:01 [scrapy.core.engine] DEBUG: Crawled (200) <GET https://carifilms.com/films/page/247?order=DESC&is_meta_key=0&orderby=title#038;is_meta_key=0&orderby=title> (referer: https://carifilms.com/films/page/246?order=DESC&is_meta_key=0&orderby=title)\n"
     ]
    },
    {
     "name": "stdout",
     "output_type": "stream",
     "text": [
      "https://carifilms.com/films/page/248?order=DESC&is_meta_key=0&orderby=title#038;is_meta_key=0&orderby=title\n",
      "248\n"
     ]
    },
    {
     "name": "stderr",
     "output_type": "stream",
     "text": [
      "2020-12-04 11:45:05 [scrapy.core.engine] DEBUG: Crawled (200) <GET https://carifilms.com/films/page/248?order=DESC&is_meta_key=0&orderby=title#038;is_meta_key=0&orderby=title> (referer: https://carifilms.com/films/page/247?order=DESC&is_meta_key=0&orderby=title)\n"
     ]
    },
    {
     "name": "stdout",
     "output_type": "stream",
     "text": [
      "https://carifilms.com/films/page/249?order=DESC&is_meta_key=0&orderby=title#038;is_meta_key=0&orderby=title\n",
      "249\n"
     ]
    },
    {
     "name": "stderr",
     "output_type": "stream",
     "text": [
      "2020-12-04 11:45:09 [scrapy.core.engine] DEBUG: Crawled (200) <GET https://carifilms.com/films/page/249?order=DESC&is_meta_key=0&orderby=title#038;is_meta_key=0&orderby=title> (referer: https://carifilms.com/films/page/248?order=DESC&is_meta_key=0&orderby=title)\n"
     ]
    },
    {
     "name": "stdout",
     "output_type": "stream",
     "text": [
      "https://carifilms.com/films/page/250?order=DESC&is_meta_key=0&orderby=title#038;is_meta_key=0&orderby=title\n",
      "250\n"
     ]
    },
    {
     "name": "stderr",
     "output_type": "stream",
     "text": [
      "2020-12-04 11:45:13 [scrapy.core.engine] DEBUG: Crawled (200) <GET https://carifilms.com/films/page/250?order=DESC&is_meta_key=0&orderby=title#038;is_meta_key=0&orderby=title> (referer: https://carifilms.com/films/page/249?order=DESC&is_meta_key=0&orderby=title)\n"
     ]
    },
    {
     "name": "stdout",
     "output_type": "stream",
     "text": [
      "https://carifilms.com/films/page/251?order=DESC&is_meta_key=0&orderby=title#038;is_meta_key=0&orderby=title\n",
      "251\n"
     ]
    },
    {
     "name": "stderr",
     "output_type": "stream",
     "text": [
      "2020-12-04 11:45:17 [scrapy.core.engine] DEBUG: Crawled (200) <GET https://carifilms.com/films/page/251?order=DESC&is_meta_key=0&orderby=title#038;is_meta_key=0&orderby=title> (referer: https://carifilms.com/films/page/250?order=DESC&is_meta_key=0&orderby=title)\n"
     ]
    },
    {
     "name": "stdout",
     "output_type": "stream",
     "text": [
      "https://carifilms.com/films/page/252?order=DESC&is_meta_key=0&orderby=title#038;is_meta_key=0&orderby=title\n",
      "252\n"
     ]
    },
    {
     "name": "stderr",
     "output_type": "stream",
     "text": [
      "2020-12-04 11:45:21 [scrapy.core.engine] DEBUG: Crawled (200) <GET https://carifilms.com/films/page/252?order=DESC&is_meta_key=0&orderby=title#038;is_meta_key=0&orderby=title> (referer: https://carifilms.com/films/page/251?order=DESC&is_meta_key=0&orderby=title)\n"
     ]
    },
    {
     "name": "stdout",
     "output_type": "stream",
     "text": [
      "https://carifilms.com/films/page/253?order=DESC&is_meta_key=0&orderby=title#038;is_meta_key=0&orderby=title\n",
      "253\n"
     ]
    },
    {
     "name": "stderr",
     "output_type": "stream",
     "text": [
      "2020-12-04 11:45:26 [scrapy.core.engine] DEBUG: Crawled (200) <GET https://carifilms.com/films/page/253?order=DESC&is_meta_key=0&orderby=title#038;is_meta_key=0&orderby=title> (referer: https://carifilms.com/films/page/252?order=DESC&is_meta_key=0&orderby=title)\n"
     ]
    },
    {
     "name": "stdout",
     "output_type": "stream",
     "text": [
      "https://carifilms.com/films/page/254?order=DESC&is_meta_key=0&orderby=title#038;is_meta_key=0&orderby=title\n",
      "254\n"
     ]
    },
    {
     "name": "stderr",
     "output_type": "stream",
     "text": [
      "2020-12-04 11:45:31 [scrapy.core.engine] DEBUG: Crawled (200) <GET https://carifilms.com/films/page/254?order=DESC&is_meta_key=0&orderby=title#038;is_meta_key=0&orderby=title> (referer: https://carifilms.com/films/page/253?order=DESC&is_meta_key=0&orderby=title)\n"
     ]
    },
    {
     "name": "stdout",
     "output_type": "stream",
     "text": [
      "https://carifilms.com/films/page/255?order=DESC&is_meta_key=0&orderby=title#038;is_meta_key=0&orderby=title\n",
      "255\n"
     ]
    },
    {
     "name": "stderr",
     "output_type": "stream",
     "text": [
      "2020-12-04 11:45:35 [scrapy.core.engine] DEBUG: Crawled (200) <GET https://carifilms.com/films/page/255?order=DESC&is_meta_key=0&orderby=title#038;is_meta_key=0&orderby=title> (referer: https://carifilms.com/films/page/254?order=DESC&is_meta_key=0&orderby=title)\n"
     ]
    },
    {
     "name": "stdout",
     "output_type": "stream",
     "text": [
      "https://carifilms.com/films/page/256?order=DESC&is_meta_key=0&orderby=title#038;is_meta_key=0&orderby=title\n",
      "256\n"
     ]
    },
    {
     "name": "stderr",
     "output_type": "stream",
     "text": [
      "2020-12-04 11:45:39 [scrapy.core.engine] DEBUG: Crawled (200) <GET https://carifilms.com/films/page/256?order=DESC&is_meta_key=0&orderby=title#038;is_meta_key=0&orderby=title> (referer: https://carifilms.com/films/page/255?order=DESC&is_meta_key=0&orderby=title)\n"
     ]
    },
    {
     "name": "stdout",
     "output_type": "stream",
     "text": [
      "https://carifilms.com/films/page/257?order=DESC&is_meta_key=0&orderby=title#038;is_meta_key=0&orderby=title\n",
      "257\n"
     ]
    },
    {
     "name": "stderr",
     "output_type": "stream",
     "text": [
      "2020-12-04 11:45:43 [scrapy.core.engine] DEBUG: Crawled (200) <GET https://carifilms.com/films/page/257?order=DESC&is_meta_key=0&orderby=title#038;is_meta_key=0&orderby=title> (referer: https://carifilms.com/films/page/256?order=DESC&is_meta_key=0&orderby=title)\n"
     ]
    },
    {
     "name": "stdout",
     "output_type": "stream",
     "text": [
      "https://carifilms.com/films/page/258?order=DESC&is_meta_key=0&orderby=title#038;is_meta_key=0&orderby=title\n",
      "258\n"
     ]
    },
    {
     "name": "stderr",
     "output_type": "stream",
     "text": [
      "2020-12-04 11:45:47 [scrapy.core.engine] DEBUG: Crawled (200) <GET https://carifilms.com/films/page/258?order=DESC&is_meta_key=0&orderby=title#038;is_meta_key=0&orderby=title> (referer: https://carifilms.com/films/page/257?order=DESC&is_meta_key=0&orderby=title)\n"
     ]
    },
    {
     "name": "stdout",
     "output_type": "stream",
     "text": [
      "https://carifilms.com/films/page/259?order=DESC&is_meta_key=0&orderby=title#038;is_meta_key=0&orderby=title\n",
      "259\n"
     ]
    },
    {
     "name": "stderr",
     "output_type": "stream",
     "text": [
      "2020-12-04 11:45:52 [scrapy.core.engine] DEBUG: Crawled (200) <GET https://carifilms.com/films/page/259?order=DESC&is_meta_key=0&orderby=title#038;is_meta_key=0&orderby=title> (referer: https://carifilms.com/films/page/258?order=DESC&is_meta_key=0&orderby=title)\n"
     ]
    },
    {
     "name": "stdout",
     "output_type": "stream",
     "text": [
      "https://carifilms.com/films/page/260?order=DESC&is_meta_key=0&orderby=title#038;is_meta_key=0&orderby=title\n",
      "260\n"
     ]
    },
    {
     "name": "stderr",
     "output_type": "stream",
     "text": [
      "2020-12-04 11:45:55 [scrapy.extensions.logstats] INFO: Crawled 259 pages (at 14 pages/min), scraped 0 items (at 0 items/min)\n",
      "2020-12-04 11:45:56 [scrapy.core.engine] DEBUG: Crawled (200) <GET https://carifilms.com/films/page/260?order=DESC&is_meta_key=0&orderby=title#038;is_meta_key=0&orderby=title> (referer: https://carifilms.com/films/page/259?order=DESC&is_meta_key=0&orderby=title)\n"
     ]
    },
    {
     "name": "stdout",
     "output_type": "stream",
     "text": [
      "https://carifilms.com/films/page/261?order=DESC&is_meta_key=0&orderby=title#038;is_meta_key=0&orderby=title\n",
      "261\n"
     ]
    },
    {
     "name": "stderr",
     "output_type": "stream",
     "text": [
      "2020-12-04 11:46:00 [scrapy.core.engine] DEBUG: Crawled (200) <GET https://carifilms.com/films/page/261?order=DESC&is_meta_key=0&orderby=title#038;is_meta_key=0&orderby=title> (referer: https://carifilms.com/films/page/260?order=DESC&is_meta_key=0&orderby=title)\n"
     ]
    },
    {
     "name": "stdout",
     "output_type": "stream",
     "text": [
      "https://carifilms.com/films/page/262?order=DESC&is_meta_key=0&orderby=title#038;is_meta_key=0&orderby=title\n",
      "262\n"
     ]
    },
    {
     "name": "stderr",
     "output_type": "stream",
     "text": [
      "2020-12-04 11:46:04 [scrapy.core.engine] DEBUG: Crawled (200) <GET https://carifilms.com/films/page/262?order=DESC&is_meta_key=0&orderby=title#038;is_meta_key=0&orderby=title> (referer: https://carifilms.com/films/page/261?order=DESC&is_meta_key=0&orderby=title)\n"
     ]
    },
    {
     "name": "stdout",
     "output_type": "stream",
     "text": [
      "https://carifilms.com/films/page/263?order=DESC&is_meta_key=0&orderby=title#038;is_meta_key=0&orderby=title\n",
      "263\n"
     ]
    },
    {
     "name": "stderr",
     "output_type": "stream",
     "text": [
      "2020-12-04 11:46:09 [scrapy.core.engine] DEBUG: Crawled (200) <GET https://carifilms.com/films/page/263?order=DESC&is_meta_key=0&orderby=title#038;is_meta_key=0&orderby=title> (referer: https://carifilms.com/films/page/262?order=DESC&is_meta_key=0&orderby=title)\n"
     ]
    },
    {
     "name": "stdout",
     "output_type": "stream",
     "text": [
      "https://carifilms.com/films/page/264?order=DESC&is_meta_key=0&orderby=title#038;is_meta_key=0&orderby=title\n",
      "264\n"
     ]
    },
    {
     "name": "stderr",
     "output_type": "stream",
     "text": [
      "2020-12-04 11:46:13 [scrapy.core.engine] DEBUG: Crawled (200) <GET https://carifilms.com/films/page/264?order=DESC&is_meta_key=0&orderby=title#038;is_meta_key=0&orderby=title> (referer: https://carifilms.com/films/page/263?order=DESC&is_meta_key=0&orderby=title)\n"
     ]
    },
    {
     "name": "stdout",
     "output_type": "stream",
     "text": [
      "https://carifilms.com/films/page/265?order=DESC&is_meta_key=0&orderby=title#038;is_meta_key=0&orderby=title\n",
      "265\n"
     ]
    },
    {
     "name": "stderr",
     "output_type": "stream",
     "text": [
      "2020-12-04 11:46:18 [scrapy.core.engine] DEBUG: Crawled (200) <GET https://carifilms.com/films/page/265?order=DESC&is_meta_key=0&orderby=title#038;is_meta_key=0&orderby=title> (referer: https://carifilms.com/films/page/264?order=DESC&is_meta_key=0&orderby=title)\n"
     ]
    },
    {
     "name": "stdout",
     "output_type": "stream",
     "text": [
      "https://carifilms.com/films/page/266?order=DESC&is_meta_key=0&orderby=title#038;is_meta_key=0&orderby=title\n",
      "266\n"
     ]
    },
    {
     "name": "stderr",
     "output_type": "stream",
     "text": [
      "2020-12-04 11:46:22 [scrapy.core.engine] DEBUG: Crawled (200) <GET https://carifilms.com/films/page/266?order=DESC&is_meta_key=0&orderby=title#038;is_meta_key=0&orderby=title> (referer: https://carifilms.com/films/page/265?order=DESC&is_meta_key=0&orderby=title)\n"
     ]
    },
    {
     "name": "stdout",
     "output_type": "stream",
     "text": [
      "https://carifilms.com/films/page/267?order=DESC&is_meta_key=0&orderby=title#038;is_meta_key=0&orderby=title\n",
      "267\n"
     ]
    },
    {
     "name": "stderr",
     "output_type": "stream",
     "text": [
      "2020-12-04 11:46:27 [scrapy.core.engine] DEBUG: Crawled (200) <GET https://carifilms.com/films/page/267?order=DESC&is_meta_key=0&orderby=title#038;is_meta_key=0&orderby=title> (referer: https://carifilms.com/films/page/266?order=DESC&is_meta_key=0&orderby=title)\n"
     ]
    },
    {
     "name": "stdout",
     "output_type": "stream",
     "text": [
      "https://carifilms.com/films/page/268?order=DESC&is_meta_key=0&orderby=title#038;is_meta_key=0&orderby=title\n",
      "268\n"
     ]
    },
    {
     "name": "stderr",
     "output_type": "stream",
     "text": [
      "2020-12-04 11:46:31 [scrapy.core.engine] DEBUG: Crawled (200) <GET https://carifilms.com/films/page/268?order=DESC&is_meta_key=0&orderby=title#038;is_meta_key=0&orderby=title> (referer: https://carifilms.com/films/page/267?order=DESC&is_meta_key=0&orderby=title)\n"
     ]
    },
    {
     "name": "stdout",
     "output_type": "stream",
     "text": [
      "https://carifilms.com/films/page/269?order=DESC&is_meta_key=0&orderby=title#038;is_meta_key=0&orderby=title\n",
      "269\n"
     ]
    },
    {
     "name": "stderr",
     "output_type": "stream",
     "text": [
      "2020-12-04 11:46:35 [scrapy.core.engine] DEBUG: Crawled (200) <GET https://carifilms.com/films/page/269?order=DESC&is_meta_key=0&orderby=title#038;is_meta_key=0&orderby=title> (referer: https://carifilms.com/films/page/268?order=DESC&is_meta_key=0&orderby=title)\n"
     ]
    },
    {
     "name": "stdout",
     "output_type": "stream",
     "text": [
      "https://carifilms.com/films/page/270?order=DESC&is_meta_key=0&orderby=title#038;is_meta_key=0&orderby=title\n",
      "270\n"
     ]
    },
    {
     "name": "stderr",
     "output_type": "stream",
     "text": [
      "2020-12-04 11:46:39 [scrapy.core.engine] DEBUG: Crawled (200) <GET https://carifilms.com/films/page/270?order=DESC&is_meta_key=0&orderby=title#038;is_meta_key=0&orderby=title> (referer: https://carifilms.com/films/page/269?order=DESC&is_meta_key=0&orderby=title)\n"
     ]
    },
    {
     "name": "stdout",
     "output_type": "stream",
     "text": [
      "https://carifilms.com/films/page/271?order=DESC&is_meta_key=0&orderby=title#038;is_meta_key=0&orderby=title\n",
      "271\n"
     ]
    },
    {
     "name": "stderr",
     "output_type": "stream",
     "text": [
      "2020-12-04 11:46:44 [scrapy.core.engine] DEBUG: Crawled (200) <GET https://carifilms.com/films/page/271?order=DESC&is_meta_key=0&orderby=title#038;is_meta_key=0&orderby=title> (referer: https://carifilms.com/films/page/270?order=DESC&is_meta_key=0&orderby=title)\n"
     ]
    },
    {
     "name": "stdout",
     "output_type": "stream",
     "text": [
      "https://carifilms.com/films/page/272?order=DESC&is_meta_key=0&orderby=title#038;is_meta_key=0&orderby=title\n",
      "272\n"
     ]
    },
    {
     "name": "stderr",
     "output_type": "stream",
     "text": [
      "2020-12-04 11:46:48 [scrapy.core.engine] DEBUG: Crawled (200) <GET https://carifilms.com/films/page/272?order=DESC&is_meta_key=0&orderby=title#038;is_meta_key=0&orderby=title> (referer: https://carifilms.com/films/page/271?order=DESC&is_meta_key=0&orderby=title)\n"
     ]
    },
    {
     "name": "stdout",
     "output_type": "stream",
     "text": [
      "https://carifilms.com/films/page/273?order=DESC&is_meta_key=0&orderby=title#038;is_meta_key=0&orderby=title\n",
      "273\n"
     ]
    },
    {
     "name": "stderr",
     "output_type": "stream",
     "text": [
      "2020-12-04 11:46:52 [scrapy.core.engine] DEBUG: Crawled (200) <GET https://carifilms.com/films/page/273?order=DESC&is_meta_key=0&orderby=title#038;is_meta_key=0&orderby=title> (referer: https://carifilms.com/films/page/272?order=DESC&is_meta_key=0&orderby=title)\n"
     ]
    },
    {
     "name": "stdout",
     "output_type": "stream",
     "text": [
      "https://carifilms.com/films/page/274?order=DESC&is_meta_key=0&orderby=title#038;is_meta_key=0&orderby=title\n",
      "274\n"
     ]
    },
    {
     "name": "stderr",
     "output_type": "stream",
     "text": [
      "2020-12-04 11:46:55 [scrapy.extensions.logstats] INFO: Crawled 273 pages (at 14 pages/min), scraped 0 items (at 0 items/min)\n",
      "2020-12-04 11:46:56 [scrapy.core.engine] DEBUG: Crawled (200) <GET https://carifilms.com/films/page/274?order=DESC&is_meta_key=0&orderby=title#038;is_meta_key=0&orderby=title> (referer: https://carifilms.com/films/page/273?order=DESC&is_meta_key=0&orderby=title)\n"
     ]
    },
    {
     "name": "stdout",
     "output_type": "stream",
     "text": [
      "https://carifilms.com/films/page/275?order=DESC&is_meta_key=0&orderby=title#038;is_meta_key=0&orderby=title\n",
      "275\n"
     ]
    },
    {
     "name": "stderr",
     "output_type": "stream",
     "text": [
      "2020-12-04 11:47:01 [scrapy.core.engine] DEBUG: Crawled (200) <GET https://carifilms.com/films/page/275?order=DESC&is_meta_key=0&orderby=title#038;is_meta_key=0&orderby=title> (referer: https://carifilms.com/films/page/274?order=DESC&is_meta_key=0&orderby=title)\n"
     ]
    },
    {
     "name": "stdout",
     "output_type": "stream",
     "text": [
      "https://carifilms.com/films/page/276?order=DESC&is_meta_key=0&orderby=title#038;is_meta_key=0&orderby=title\n",
      "276\n"
     ]
    },
    {
     "name": "stderr",
     "output_type": "stream",
     "text": [
      "2020-12-04 11:47:05 [scrapy.core.engine] DEBUG: Crawled (200) <GET https://carifilms.com/films/page/276?order=DESC&is_meta_key=0&orderby=title#038;is_meta_key=0&orderby=title> (referer: https://carifilms.com/films/page/275?order=DESC&is_meta_key=0&orderby=title)\n"
     ]
    },
    {
     "name": "stdout",
     "output_type": "stream",
     "text": [
      "https://carifilms.com/films/page/277?order=DESC&is_meta_key=0&orderby=title#038;is_meta_key=0&orderby=title\n",
      "277\n"
     ]
    },
    {
     "name": "stderr",
     "output_type": "stream",
     "text": [
      "2020-12-04 11:47:09 [scrapy.core.engine] DEBUG: Crawled (200) <GET https://carifilms.com/films/page/277?order=DESC&is_meta_key=0&orderby=title#038;is_meta_key=0&orderby=title> (referer: https://carifilms.com/films/page/276?order=DESC&is_meta_key=0&orderby=title)\n"
     ]
    },
    {
     "name": "stdout",
     "output_type": "stream",
     "text": [
      "https://carifilms.com/films/page/278?order=DESC&is_meta_key=0&orderby=title#038;is_meta_key=0&orderby=title\n",
      "278\n"
     ]
    },
    {
     "name": "stderr",
     "output_type": "stream",
     "text": [
      "2020-12-04 11:47:14 [scrapy.core.engine] DEBUG: Crawled (200) <GET https://carifilms.com/films/page/278?order=DESC&is_meta_key=0&orderby=title#038;is_meta_key=0&orderby=title> (referer: https://carifilms.com/films/page/277?order=DESC&is_meta_key=0&orderby=title)\n"
     ]
    },
    {
     "name": "stdout",
     "output_type": "stream",
     "text": [
      "https://carifilms.com/films/page/279?order=DESC&is_meta_key=0&orderby=title#038;is_meta_key=0&orderby=title\n",
      "279\n"
     ]
    },
    {
     "name": "stderr",
     "output_type": "stream",
     "text": [
      "2020-12-04 11:47:19 [scrapy.core.engine] DEBUG: Crawled (200) <GET https://carifilms.com/films/page/279?order=DESC&is_meta_key=0&orderby=title#038;is_meta_key=0&orderby=title> (referer: https://carifilms.com/films/page/278?order=DESC&is_meta_key=0&orderby=title)\n"
     ]
    },
    {
     "name": "stdout",
     "output_type": "stream",
     "text": [
      "https://carifilms.com/films/page/280?order=DESC&is_meta_key=0&orderby=title#038;is_meta_key=0&orderby=title\n",
      "280\n"
     ]
    },
    {
     "name": "stderr",
     "output_type": "stream",
     "text": [
      "2020-12-04 11:47:23 [scrapy.core.engine] DEBUG: Crawled (200) <GET https://carifilms.com/films/page/280?order=DESC&is_meta_key=0&orderby=title#038;is_meta_key=0&orderby=title> (referer: https://carifilms.com/films/page/279?order=DESC&is_meta_key=0&orderby=title)\n"
     ]
    },
    {
     "name": "stdout",
     "output_type": "stream",
     "text": [
      "https://carifilms.com/films/page/281?order=DESC&is_meta_key=0&orderby=title#038;is_meta_key=0&orderby=title\n",
      "281\n"
     ]
    },
    {
     "name": "stderr",
     "output_type": "stream",
     "text": [
      "2020-12-04 11:47:28 [scrapy.core.engine] DEBUG: Crawled (200) <GET https://carifilms.com/films/page/281?order=DESC&is_meta_key=0&orderby=title#038;is_meta_key=0&orderby=title> (referer: https://carifilms.com/films/page/280?order=DESC&is_meta_key=0&orderby=title)\n"
     ]
    },
    {
     "name": "stdout",
     "output_type": "stream",
     "text": [
      "https://carifilms.com/films/page/282?order=DESC&is_meta_key=0&orderby=title#038;is_meta_key=0&orderby=title\n",
      "282\n"
     ]
    },
    {
     "name": "stderr",
     "output_type": "stream",
     "text": [
      "2020-12-04 11:47:32 [scrapy.core.engine] DEBUG: Crawled (200) <GET https://carifilms.com/films/page/282?order=DESC&is_meta_key=0&orderby=title#038;is_meta_key=0&orderby=title> (referer: https://carifilms.com/films/page/281?order=DESC&is_meta_key=0&orderby=title)\n"
     ]
    },
    {
     "name": "stdout",
     "output_type": "stream",
     "text": [
      "https://carifilms.com/films/page/283?order=DESC&is_meta_key=0&orderby=title#038;is_meta_key=0&orderby=title\n",
      "283\n"
     ]
    },
    {
     "name": "stderr",
     "output_type": "stream",
     "text": [
      "2020-12-04 11:47:37 [scrapy.core.engine] DEBUG: Crawled (200) <GET https://carifilms.com/films/page/283?order=DESC&is_meta_key=0&orderby=title#038;is_meta_key=0&orderby=title> (referer: https://carifilms.com/films/page/282?order=DESC&is_meta_key=0&orderby=title)\n"
     ]
    },
    {
     "name": "stdout",
     "output_type": "stream",
     "text": [
      "https://carifilms.com/films/page/284?order=DESC&is_meta_key=0&orderby=title#038;is_meta_key=0&orderby=title\n",
      "284\n"
     ]
    },
    {
     "name": "stderr",
     "output_type": "stream",
     "text": [
      "2020-12-04 11:47:41 [scrapy.core.engine] DEBUG: Crawled (200) <GET https://carifilms.com/films/page/284?order=DESC&is_meta_key=0&orderby=title#038;is_meta_key=0&orderby=title> (referer: https://carifilms.com/films/page/283?order=DESC&is_meta_key=0&orderby=title)\n"
     ]
    },
    {
     "name": "stdout",
     "output_type": "stream",
     "text": [
      "https://carifilms.com/films/page/285?order=DESC&is_meta_key=0&orderby=title#038;is_meta_key=0&orderby=title\n",
      "285\n"
     ]
    },
    {
     "name": "stderr",
     "output_type": "stream",
     "text": [
      "2020-12-04 11:47:46 [scrapy.core.engine] DEBUG: Crawled (200) <GET https://carifilms.com/films/page/285?order=DESC&is_meta_key=0&orderby=title#038;is_meta_key=0&orderby=title> (referer: https://carifilms.com/films/page/284?order=DESC&is_meta_key=0&orderby=title)\n"
     ]
    },
    {
     "name": "stdout",
     "output_type": "stream",
     "text": [
      "https://carifilms.com/films/page/286?order=DESC&is_meta_key=0&orderby=title#038;is_meta_key=0&orderby=title\n",
      "286\n"
     ]
    },
    {
     "name": "stderr",
     "output_type": "stream",
     "text": [
      "2020-12-04 11:47:50 [scrapy.core.engine] DEBUG: Crawled (200) <GET https://carifilms.com/films/page/286?order=DESC&is_meta_key=0&orderby=title#038;is_meta_key=0&orderby=title> (referer: https://carifilms.com/films/page/285?order=DESC&is_meta_key=0&orderby=title)\n"
     ]
    },
    {
     "name": "stdout",
     "output_type": "stream",
     "text": [
      "https://carifilms.com/films/page/287?order=DESC&is_meta_key=0&orderby=title#038;is_meta_key=0&orderby=title\n",
      "287\n"
     ]
    },
    {
     "name": "stderr",
     "output_type": "stream",
     "text": [
      "2020-12-04 11:47:55 [scrapy.core.engine] DEBUG: Crawled (200) <GET https://carifilms.com/films/page/287?order=DESC&is_meta_key=0&orderby=title#038;is_meta_key=0&orderby=title> (referer: https://carifilms.com/films/page/286?order=DESC&is_meta_key=0&orderby=title)\n",
      "2020-12-04 11:47:55 [scrapy.extensions.logstats] INFO: Crawled 287 pages (at 14 pages/min), scraped 0 items (at 0 items/min)\n"
     ]
    },
    {
     "name": "stdout",
     "output_type": "stream",
     "text": [
      "https://carifilms.com/films/page/288?order=DESC&is_meta_key=0&orderby=title#038;is_meta_key=0&orderby=title\n",
      "288\n"
     ]
    },
    {
     "name": "stderr",
     "output_type": "stream",
     "text": [
      "2020-12-04 11:47:59 [scrapy.core.engine] DEBUG: Crawled (200) <GET https://carifilms.com/films/page/288?order=DESC&is_meta_key=0&orderby=title#038;is_meta_key=0&orderby=title> (referer: https://carifilms.com/films/page/287?order=DESC&is_meta_key=0&orderby=title)\n"
     ]
    },
    {
     "name": "stdout",
     "output_type": "stream",
     "text": [
      "https://carifilms.com/films/page/289?order=DESC&is_meta_key=0&orderby=title#038;is_meta_key=0&orderby=title\n",
      "289\n"
     ]
    },
    {
     "name": "stderr",
     "output_type": "stream",
     "text": [
      "2020-12-04 11:48:03 [scrapy.core.engine] DEBUG: Crawled (200) <GET https://carifilms.com/films/page/289?order=DESC&is_meta_key=0&orderby=title#038;is_meta_key=0&orderby=title> (referer: https://carifilms.com/films/page/288?order=DESC&is_meta_key=0&orderby=title)\n"
     ]
    },
    {
     "name": "stdout",
     "output_type": "stream",
     "text": [
      "https://carifilms.com/films/page/290?order=DESC&is_meta_key=0&orderby=title#038;is_meta_key=0&orderby=title\n",
      "290\n"
     ]
    },
    {
     "name": "stderr",
     "output_type": "stream",
     "text": [
      "2020-12-04 11:48:07 [scrapy.core.engine] DEBUG: Crawled (200) <GET https://carifilms.com/films/page/290?order=DESC&is_meta_key=0&orderby=title#038;is_meta_key=0&orderby=title> (referer: https://carifilms.com/films/page/289?order=DESC&is_meta_key=0&orderby=title)\n"
     ]
    },
    {
     "name": "stdout",
     "output_type": "stream",
     "text": [
      "https://carifilms.com/films/page/291?order=DESC&is_meta_key=0&orderby=title#038;is_meta_key=0&orderby=title\n",
      "291\n"
     ]
    },
    {
     "name": "stderr",
     "output_type": "stream",
     "text": [
      "2020-12-04 11:48:12 [scrapy.core.engine] DEBUG: Crawled (200) <GET https://carifilms.com/films/page/291?order=DESC&is_meta_key=0&orderby=title#038;is_meta_key=0&orderby=title> (referer: https://carifilms.com/films/page/290?order=DESC&is_meta_key=0&orderby=title)\n"
     ]
    },
    {
     "name": "stdout",
     "output_type": "stream",
     "text": [
      "https://carifilms.com/films/page/292?order=DESC&is_meta_key=0&orderby=title#038;is_meta_key=0&orderby=title\n",
      "292\n"
     ]
    },
    {
     "name": "stderr",
     "output_type": "stream",
     "text": [
      "2020-12-04 11:48:16 [scrapy.core.engine] DEBUG: Crawled (200) <GET https://carifilms.com/films/page/292?order=DESC&is_meta_key=0&orderby=title#038;is_meta_key=0&orderby=title> (referer: https://carifilms.com/films/page/291?order=DESC&is_meta_key=0&orderby=title)\n"
     ]
    },
    {
     "name": "stdout",
     "output_type": "stream",
     "text": [
      "https://carifilms.com/films/page/293?order=DESC&is_meta_key=0&orderby=title#038;is_meta_key=0&orderby=title\n",
      "293\n"
     ]
    },
    {
     "name": "stderr",
     "output_type": "stream",
     "text": [
      "2020-12-04 11:48:20 [scrapy.core.engine] DEBUG: Crawled (200) <GET https://carifilms.com/films/page/293?order=DESC&is_meta_key=0&orderby=title#038;is_meta_key=0&orderby=title> (referer: https://carifilms.com/films/page/292?order=DESC&is_meta_key=0&orderby=title)\n"
     ]
    },
    {
     "name": "stdout",
     "output_type": "stream",
     "text": [
      "https://carifilms.com/films/page/294?order=DESC&is_meta_key=0&orderby=title#038;is_meta_key=0&orderby=title\n",
      "294\n"
     ]
    },
    {
     "name": "stderr",
     "output_type": "stream",
     "text": [
      "2020-12-04 11:48:25 [scrapy.core.engine] DEBUG: Crawled (200) <GET https://carifilms.com/films/page/294?order=DESC&is_meta_key=0&orderby=title#038;is_meta_key=0&orderby=title> (referer: https://carifilms.com/films/page/293?order=DESC&is_meta_key=0&orderby=title)\n"
     ]
    },
    {
     "name": "stdout",
     "output_type": "stream",
     "text": [
      "https://carifilms.com/films/page/295?order=DESC&is_meta_key=0&orderby=title#038;is_meta_key=0&orderby=title\n",
      "295\n"
     ]
    },
    {
     "name": "stderr",
     "output_type": "stream",
     "text": [
      "2020-12-04 11:48:29 [scrapy.core.engine] DEBUG: Crawled (200) <GET https://carifilms.com/films/page/295?order=DESC&is_meta_key=0&orderby=title#038;is_meta_key=0&orderby=title> (referer: https://carifilms.com/films/page/294?order=DESC&is_meta_key=0&orderby=title)\n"
     ]
    },
    {
     "name": "stdout",
     "output_type": "stream",
     "text": [
      "https://carifilms.com/films/page/296?order=DESC&is_meta_key=0&orderby=title#038;is_meta_key=0&orderby=title\n",
      "296\n"
     ]
    },
    {
     "name": "stderr",
     "output_type": "stream",
     "text": [
      "2020-12-04 11:48:34 [scrapy.core.engine] DEBUG: Crawled (200) <GET https://carifilms.com/films/page/296?order=DESC&is_meta_key=0&orderby=title#038;is_meta_key=0&orderby=title> (referer: https://carifilms.com/films/page/295?order=DESC&is_meta_key=0&orderby=title)\n"
     ]
    },
    {
     "name": "stdout",
     "output_type": "stream",
     "text": [
      "https://carifilms.com/films/page/297?order=DESC&is_meta_key=0&orderby=title#038;is_meta_key=0&orderby=title\n",
      "297\n"
     ]
    },
    {
     "name": "stderr",
     "output_type": "stream",
     "text": [
      "2020-12-04 11:48:38 [scrapy.core.engine] DEBUG: Crawled (200) <GET https://carifilms.com/films/page/297?order=DESC&is_meta_key=0&orderby=title#038;is_meta_key=0&orderby=title> (referer: https://carifilms.com/films/page/296?order=DESC&is_meta_key=0&orderby=title)\n"
     ]
    },
    {
     "name": "stdout",
     "output_type": "stream",
     "text": [
      "https://carifilms.com/films/page/298?order=DESC&is_meta_key=0&orderby=title#038;is_meta_key=0&orderby=title\n",
      "298\n"
     ]
    },
    {
     "name": "stderr",
     "output_type": "stream",
     "text": [
      "2020-12-04 11:48:42 [scrapy.core.engine] DEBUG: Crawled (200) <GET https://carifilms.com/films/page/298?order=DESC&is_meta_key=0&orderby=title#038;is_meta_key=0&orderby=title> (referer: https://carifilms.com/films/page/297?order=DESC&is_meta_key=0&orderby=title)\n"
     ]
    },
    {
     "name": "stdout",
     "output_type": "stream",
     "text": [
      "https://carifilms.com/films/page/299?order=DESC&is_meta_key=0&orderby=title#038;is_meta_key=0&orderby=title\n",
      "299\n"
     ]
    },
    {
     "name": "stderr",
     "output_type": "stream",
     "text": [
      "2020-12-04 11:48:46 [scrapy.core.engine] DEBUG: Crawled (200) <GET https://carifilms.com/films/page/299?order=DESC&is_meta_key=0&orderby=title#038;is_meta_key=0&orderby=title> (referer: https://carifilms.com/films/page/298?order=DESC&is_meta_key=0&orderby=title)\n"
     ]
    },
    {
     "name": "stdout",
     "output_type": "stream",
     "text": [
      "https://carifilms.com/films/page/300?order=DESC&is_meta_key=0&orderby=title#038;is_meta_key=0&orderby=title\n",
      "300\n"
     ]
    },
    {
     "name": "stderr",
     "output_type": "stream",
     "text": [
      "2020-12-04 11:48:51 [scrapy.core.engine] DEBUG: Crawled (200) <GET https://carifilms.com/films/page/300?order=DESC&is_meta_key=0&orderby=title#038;is_meta_key=0&orderby=title> (referer: https://carifilms.com/films/page/299?order=DESC&is_meta_key=0&orderby=title)\n"
     ]
    },
    {
     "name": "stdout",
     "output_type": "stream",
     "text": [
      "https://carifilms.com/films/page/301?order=DESC&is_meta_key=0&orderby=title#038;is_meta_key=0&orderby=title\n",
      "301\n"
     ]
    },
    {
     "name": "stderr",
     "output_type": "stream",
     "text": [
      "2020-12-04 11:48:55 [scrapy.extensions.logstats] INFO: Crawled 300 pages (at 13 pages/min), scraped 0 items (at 0 items/min)\n",
      "2020-12-04 11:48:55 [scrapy.core.engine] DEBUG: Crawled (200) <GET https://carifilms.com/films/page/301?order=DESC&is_meta_key=0&orderby=title#038;is_meta_key=0&orderby=title> (referer: https://carifilms.com/films/page/300?order=DESC&is_meta_key=0&orderby=title)\n"
     ]
    },
    {
     "name": "stdout",
     "output_type": "stream",
     "text": [
      "https://carifilms.com/films/page/302?order=DESC&is_meta_key=0&orderby=title#038;is_meta_key=0&orderby=title\n",
      "302\n"
     ]
    },
    {
     "name": "stderr",
     "output_type": "stream",
     "text": [
      "2020-12-04 11:48:59 [scrapy.core.engine] DEBUG: Crawled (200) <GET https://carifilms.com/films/page/302?order=DESC&is_meta_key=0&orderby=title#038;is_meta_key=0&orderby=title> (referer: https://carifilms.com/films/page/301?order=DESC&is_meta_key=0&orderby=title)\n"
     ]
    },
    {
     "name": "stdout",
     "output_type": "stream",
     "text": [
      "https://carifilms.com/films/page/303?order=DESC&is_meta_key=0&orderby=title#038;is_meta_key=0&orderby=title\n",
      "303\n"
     ]
    },
    {
     "name": "stderr",
     "output_type": "stream",
     "text": [
      "2020-12-04 11:49:04 [scrapy.core.engine] DEBUG: Crawled (200) <GET https://carifilms.com/films/page/303?order=DESC&is_meta_key=0&orderby=title#038;is_meta_key=0&orderby=title> (referer: https://carifilms.com/films/page/302?order=DESC&is_meta_key=0&orderby=title)\n"
     ]
    },
    {
     "name": "stdout",
     "output_type": "stream",
     "text": [
      "https://carifilms.com/films/page/304?order=DESC&is_meta_key=0&orderby=title#038;is_meta_key=0&orderby=title\n",
      "304\n"
     ]
    },
    {
     "name": "stderr",
     "output_type": "stream",
     "text": [
      "2020-12-04 11:49:08 [scrapy.core.engine] DEBUG: Crawled (200) <GET https://carifilms.com/films/page/304?order=DESC&is_meta_key=0&orderby=title#038;is_meta_key=0&orderby=title> (referer: https://carifilms.com/films/page/303?order=DESC&is_meta_key=0&orderby=title)\n"
     ]
    },
    {
     "name": "stdout",
     "output_type": "stream",
     "text": [
      "https://carifilms.com/films/page/305?order=DESC&is_meta_key=0&orderby=title#038;is_meta_key=0&orderby=title\n",
      "305\n"
     ]
    },
    {
     "name": "stderr",
     "output_type": "stream",
     "text": [
      "2020-12-04 11:49:13 [scrapy.core.engine] DEBUG: Crawled (200) <GET https://carifilms.com/films/page/305?order=DESC&is_meta_key=0&orderby=title#038;is_meta_key=0&orderby=title> (referer: https://carifilms.com/films/page/304?order=DESC&is_meta_key=0&orderby=title)\n"
     ]
    },
    {
     "name": "stdout",
     "output_type": "stream",
     "text": [
      "https://carifilms.com/films/page/306?order=DESC&is_meta_key=0&orderby=title#038;is_meta_key=0&orderby=title\n",
      "306\n"
     ]
    },
    {
     "name": "stderr",
     "output_type": "stream",
     "text": [
      "2020-12-04 11:49:17 [scrapy.core.engine] DEBUG: Crawled (200) <GET https://carifilms.com/films/page/306?order=DESC&is_meta_key=0&orderby=title#038;is_meta_key=0&orderby=title> (referer: https://carifilms.com/films/page/305?order=DESC&is_meta_key=0&orderby=title)\n"
     ]
    },
    {
     "name": "stdout",
     "output_type": "stream",
     "text": [
      "https://carifilms.com/films/page/307?order=DESC&is_meta_key=0&orderby=title#038;is_meta_key=0&orderby=title\n",
      "307\n"
     ]
    },
    {
     "name": "stderr",
     "output_type": "stream",
     "text": [
      "2020-12-04 11:49:21 [scrapy.core.engine] DEBUG: Crawled (200) <GET https://carifilms.com/films/page/307?order=DESC&is_meta_key=0&orderby=title#038;is_meta_key=0&orderby=title> (referer: https://carifilms.com/films/page/306?order=DESC&is_meta_key=0&orderby=title)\n"
     ]
    },
    {
     "name": "stdout",
     "output_type": "stream",
     "text": [
      "https://carifilms.com/films/page/308?order=DESC&is_meta_key=0&orderby=title#038;is_meta_key=0&orderby=title\n",
      "308\n"
     ]
    },
    {
     "name": "stderr",
     "output_type": "stream",
     "text": [
      "2020-12-04 11:49:26 [scrapy.core.engine] DEBUG: Crawled (200) <GET https://carifilms.com/films/page/308?order=DESC&is_meta_key=0&orderby=title#038;is_meta_key=0&orderby=title> (referer: https://carifilms.com/films/page/307?order=DESC&is_meta_key=0&orderby=title)\n"
     ]
    },
    {
     "name": "stdout",
     "output_type": "stream",
     "text": [
      "https://carifilms.com/films/page/309?order=DESC&is_meta_key=0&orderby=title#038;is_meta_key=0&orderby=title\n",
      "309\n"
     ]
    },
    {
     "name": "stderr",
     "output_type": "stream",
     "text": [
      "2020-12-04 11:49:30 [scrapy.core.engine] DEBUG: Crawled (200) <GET https://carifilms.com/films/page/309?order=DESC&is_meta_key=0&orderby=title#038;is_meta_key=0&orderby=title> (referer: https://carifilms.com/films/page/308?order=DESC&is_meta_key=0&orderby=title)\n"
     ]
    },
    {
     "name": "stdout",
     "output_type": "stream",
     "text": [
      "https://carifilms.com/films/page/310?order=DESC&is_meta_key=0&orderby=title#038;is_meta_key=0&orderby=title\n",
      "310\n"
     ]
    },
    {
     "name": "stderr",
     "output_type": "stream",
     "text": [
      "2020-12-04 11:49:34 [scrapy.core.engine] DEBUG: Crawled (200) <GET https://carifilms.com/films/page/310?order=DESC&is_meta_key=0&orderby=title#038;is_meta_key=0&orderby=title> (referer: https://carifilms.com/films/page/309?order=DESC&is_meta_key=0&orderby=title)\n"
     ]
    },
    {
     "name": "stdout",
     "output_type": "stream",
     "text": [
      "https://carifilms.com/films/page/311?order=DESC&is_meta_key=0&orderby=title#038;is_meta_key=0&orderby=title\n",
      "311\n"
     ]
    },
    {
     "name": "stderr",
     "output_type": "stream",
     "text": [
      "2020-12-04 11:49:38 [scrapy.core.engine] DEBUG: Crawled (200) <GET https://carifilms.com/films/page/311?order=DESC&is_meta_key=0&orderby=title#038;is_meta_key=0&orderby=title> (referer: https://carifilms.com/films/page/310?order=DESC&is_meta_key=0&orderby=title)\n"
     ]
    },
    {
     "name": "stdout",
     "output_type": "stream",
     "text": [
      "https://carifilms.com/films/page/312?order=DESC&is_meta_key=0&orderby=title#038;is_meta_key=0&orderby=title\n",
      "312\n"
     ]
    },
    {
     "name": "stderr",
     "output_type": "stream",
     "text": [
      "2020-12-04 11:49:43 [scrapy.core.engine] DEBUG: Crawled (200) <GET https://carifilms.com/films/page/312?order=DESC&is_meta_key=0&orderby=title#038;is_meta_key=0&orderby=title> (referer: https://carifilms.com/films/page/311?order=DESC&is_meta_key=0&orderby=title)\n"
     ]
    },
    {
     "name": "stdout",
     "output_type": "stream",
     "text": [
      "https://carifilms.com/films/page/313?order=DESC&is_meta_key=0&orderby=title#038;is_meta_key=0&orderby=title\n",
      "313\n"
     ]
    },
    {
     "name": "stderr",
     "output_type": "stream",
     "text": [
      "2020-12-04 11:49:47 [scrapy.core.engine] DEBUG: Crawled (200) <GET https://carifilms.com/films/page/313?order=DESC&is_meta_key=0&orderby=title#038;is_meta_key=0&orderby=title> (referer: https://carifilms.com/films/page/312?order=DESC&is_meta_key=0&orderby=title)\n"
     ]
    },
    {
     "name": "stdout",
     "output_type": "stream",
     "text": [
      "https://carifilms.com/films/page/314?order=DESC&is_meta_key=0&orderby=title#038;is_meta_key=0&orderby=title\n",
      "314\n"
     ]
    },
    {
     "name": "stderr",
     "output_type": "stream",
     "text": [
      "2020-12-04 11:49:51 [scrapy.core.engine] DEBUG: Crawled (200) <GET https://carifilms.com/films/page/314?order=DESC&is_meta_key=0&orderby=title#038;is_meta_key=0&orderby=title> (referer: https://carifilms.com/films/page/313?order=DESC&is_meta_key=0&orderby=title)\n"
     ]
    },
    {
     "name": "stdout",
     "output_type": "stream",
     "text": [
      "https://carifilms.com/films/page/315?order=DESC&is_meta_key=0&orderby=title#038;is_meta_key=0&orderby=title\n",
      "315\n"
     ]
    },
    {
     "name": "stderr",
     "output_type": "stream",
     "text": [
      "2020-12-04 11:49:55 [scrapy.extensions.logstats] INFO: Crawled 314 pages (at 14 pages/min), scraped 0 items (at 0 items/min)\n",
      "2020-12-04 11:49:55 [scrapy.core.engine] DEBUG: Crawled (200) <GET https://carifilms.com/films/page/315?order=DESC&is_meta_key=0&orderby=title#038;is_meta_key=0&orderby=title> (referer: https://carifilms.com/films/page/314?order=DESC&is_meta_key=0&orderby=title)\n"
     ]
    },
    {
     "name": "stdout",
     "output_type": "stream",
     "text": [
      "https://carifilms.com/films/page/316?order=DESC&is_meta_key=0&orderby=title#038;is_meta_key=0&orderby=title\n",
      "316\n"
     ]
    },
    {
     "name": "stderr",
     "output_type": "stream",
     "text": [
      "2020-12-04 11:49:59 [scrapy.core.engine] DEBUG: Crawled (200) <GET https://carifilms.com/films/page/316?order=DESC&is_meta_key=0&orderby=title#038;is_meta_key=0&orderby=title> (referer: https://carifilms.com/films/page/315?order=DESC&is_meta_key=0&orderby=title)\n"
     ]
    },
    {
     "name": "stdout",
     "output_type": "stream",
     "text": [
      "https://carifilms.com/films/page/317?order=DESC&is_meta_key=0&orderby=title#038;is_meta_key=0&orderby=title\n",
      "317\n"
     ]
    },
    {
     "name": "stderr",
     "output_type": "stream",
     "text": [
      "2020-12-04 11:50:06 [scrapy.core.engine] DEBUG: Crawled (200) <GET https://carifilms.com/films/page/317?order=DESC&is_meta_key=0&orderby=title#038;is_meta_key=0&orderby=title> (referer: https://carifilms.com/films/page/316?order=DESC&is_meta_key=0&orderby=title)\n"
     ]
    },
    {
     "name": "stdout",
     "output_type": "stream",
     "text": [
      "https://carifilms.com/films/page/318?order=DESC&is_meta_key=0&orderby=title#038;is_meta_key=0&orderby=title\n",
      "318\n"
     ]
    },
    {
     "name": "stderr",
     "output_type": "stream",
     "text": [
      "2020-12-04 11:50:11 [scrapy.core.engine] DEBUG: Crawled (200) <GET https://carifilms.com/films/page/318?order=DESC&is_meta_key=0&orderby=title#038;is_meta_key=0&orderby=title> (referer: https://carifilms.com/films/page/317?order=DESC&is_meta_key=0&orderby=title)\n"
     ]
    },
    {
     "name": "stdout",
     "output_type": "stream",
     "text": [
      "https://carifilms.com/films/page/319?order=DESC&is_meta_key=0&orderby=title#038;is_meta_key=0&orderby=title\n",
      "319\n"
     ]
    },
    {
     "name": "stderr",
     "output_type": "stream",
     "text": [
      "2020-12-04 11:50:15 [scrapy.core.engine] DEBUG: Crawled (200) <GET https://carifilms.com/films/page/319?order=DESC&is_meta_key=0&orderby=title#038;is_meta_key=0&orderby=title> (referer: https://carifilms.com/films/page/318?order=DESC&is_meta_key=0&orderby=title)\n"
     ]
    },
    {
     "name": "stdout",
     "output_type": "stream",
     "text": [
      "https://carifilms.com/films/page/320?order=DESC&is_meta_key=0&orderby=title#038;is_meta_key=0&orderby=title\n",
      "320\n"
     ]
    },
    {
     "name": "stderr",
     "output_type": "stream",
     "text": [
      "2020-12-04 11:50:19 [scrapy.core.engine] DEBUG: Crawled (200) <GET https://carifilms.com/films/page/320?order=DESC&is_meta_key=0&orderby=title#038;is_meta_key=0&orderby=title> (referer: https://carifilms.com/films/page/319?order=DESC&is_meta_key=0&orderby=title)\n"
     ]
    },
    {
     "name": "stdout",
     "output_type": "stream",
     "text": [
      "https://carifilms.com/films/page/321?order=DESC&is_meta_key=0&orderby=title#038;is_meta_key=0&orderby=title\n",
      "321\n"
     ]
    },
    {
     "name": "stderr",
     "output_type": "stream",
     "text": [
      "2020-12-04 11:50:23 [scrapy.core.engine] DEBUG: Crawled (200) <GET https://carifilms.com/films/page/321?order=DESC&is_meta_key=0&orderby=title#038;is_meta_key=0&orderby=title> (referer: https://carifilms.com/films/page/320?order=DESC&is_meta_key=0&orderby=title)\n"
     ]
    },
    {
     "name": "stdout",
     "output_type": "stream",
     "text": [
      "https://carifilms.com/films/page/322?order=DESC&is_meta_key=0&orderby=title#038;is_meta_key=0&orderby=title\n",
      "322\n"
     ]
    },
    {
     "name": "stderr",
     "output_type": "stream",
     "text": [
      "2020-12-04 11:50:28 [scrapy.core.engine] DEBUG: Crawled (200) <GET https://carifilms.com/films/page/322?order=DESC&is_meta_key=0&orderby=title#038;is_meta_key=0&orderby=title> (referer: https://carifilms.com/films/page/321?order=DESC&is_meta_key=0&orderby=title)\n"
     ]
    },
    {
     "name": "stdout",
     "output_type": "stream",
     "text": [
      "https://carifilms.com/films/page/323?order=DESC&is_meta_key=0&orderby=title#038;is_meta_key=0&orderby=title\n",
      "323\n"
     ]
    },
    {
     "name": "stderr",
     "output_type": "stream",
     "text": [
      "2020-12-04 11:50:32 [scrapy.core.engine] DEBUG: Crawled (200) <GET https://carifilms.com/films/page/323?order=DESC&is_meta_key=0&orderby=title#038;is_meta_key=0&orderby=title> (referer: https://carifilms.com/films/page/322?order=DESC&is_meta_key=0&orderby=title)\n"
     ]
    },
    {
     "name": "stdout",
     "output_type": "stream",
     "text": [
      "https://carifilms.com/films/page/324?order=DESC&is_meta_key=0&orderby=title#038;is_meta_key=0&orderby=title\n",
      "324\n"
     ]
    },
    {
     "name": "stderr",
     "output_type": "stream",
     "text": [
      "2020-12-04 11:50:37 [scrapy.core.engine] DEBUG: Crawled (200) <GET https://carifilms.com/films/page/324?order=DESC&is_meta_key=0&orderby=title#038;is_meta_key=0&orderby=title> (referer: https://carifilms.com/films/page/323?order=DESC&is_meta_key=0&orderby=title)\n"
     ]
    },
    {
     "name": "stdout",
     "output_type": "stream",
     "text": [
      "https://carifilms.com/films/page/325?order=DESC&is_meta_key=0&orderby=title#038;is_meta_key=0&orderby=title\n",
      "325\n"
     ]
    },
    {
     "name": "stderr",
     "output_type": "stream",
     "text": [
      "2020-12-04 11:50:41 [scrapy.core.engine] DEBUG: Crawled (200) <GET https://carifilms.com/films/page/325?order=DESC&is_meta_key=0&orderby=title#038;is_meta_key=0&orderby=title> (referer: https://carifilms.com/films/page/324?order=DESC&is_meta_key=0&orderby=title)\n"
     ]
    },
    {
     "name": "stdout",
     "output_type": "stream",
     "text": [
      "https://carifilms.com/films/page/326?order=DESC&is_meta_key=0&orderby=title#038;is_meta_key=0&orderby=title\n",
      "326\n"
     ]
    },
    {
     "name": "stderr",
     "output_type": "stream",
     "text": [
      "2020-12-04 11:50:45 [scrapy.core.engine] DEBUG: Crawled (200) <GET https://carifilms.com/films/page/326?order=DESC&is_meta_key=0&orderby=title#038;is_meta_key=0&orderby=title> (referer: https://carifilms.com/films/page/325?order=DESC&is_meta_key=0&orderby=title)\n"
     ]
    },
    {
     "name": "stdout",
     "output_type": "stream",
     "text": [
      "https://carifilms.com/films/page/327?order=DESC&is_meta_key=0&orderby=title#038;is_meta_key=0&orderby=title\n",
      "327\n"
     ]
    },
    {
     "name": "stderr",
     "output_type": "stream",
     "text": [
      "2020-12-04 11:50:49 [scrapy.core.engine] DEBUG: Crawled (200) <GET https://carifilms.com/films/page/327?order=DESC&is_meta_key=0&orderby=title#038;is_meta_key=0&orderby=title> (referer: https://carifilms.com/films/page/326?order=DESC&is_meta_key=0&orderby=title)\n"
     ]
    },
    {
     "name": "stdout",
     "output_type": "stream",
     "text": [
      "https://carifilms.com/films/page/328?order=DESC&is_meta_key=0&orderby=title#038;is_meta_key=0&orderby=title\n",
      "328\n"
     ]
    },
    {
     "name": "stderr",
     "output_type": "stream",
     "text": [
      "2020-12-04 11:50:54 [scrapy.core.engine] DEBUG: Crawled (200) <GET https://carifilms.com/films/page/328?order=DESC&is_meta_key=0&orderby=title#038;is_meta_key=0&orderby=title> (referer: https://carifilms.com/films/page/327?order=DESC&is_meta_key=0&orderby=title)\n"
     ]
    },
    {
     "name": "stdout",
     "output_type": "stream",
     "text": [
      "https://carifilms.com/films/page/329?order=DESC&is_meta_key=0&orderby=title#038;is_meta_key=0&orderby=title\n",
      "329\n"
     ]
    },
    {
     "name": "stderr",
     "output_type": "stream",
     "text": [
      "2020-12-04 11:50:55 [scrapy.extensions.logstats] INFO: Crawled 328 pages (at 14 pages/min), scraped 0 items (at 0 items/min)\n",
      "2020-12-04 11:50:58 [scrapy.core.engine] DEBUG: Crawled (200) <GET https://carifilms.com/films/page/329?order=DESC&is_meta_key=0&orderby=title#038;is_meta_key=0&orderby=title> (referer: https://carifilms.com/films/page/328?order=DESC&is_meta_key=0&orderby=title)\n"
     ]
    },
    {
     "name": "stdout",
     "output_type": "stream",
     "text": [
      "https://carifilms.com/films/page/330?order=DESC&is_meta_key=0&orderby=title#038;is_meta_key=0&orderby=title\n",
      "330\n"
     ]
    },
    {
     "name": "stderr",
     "output_type": "stream",
     "text": [
      "2020-12-04 11:51:02 [scrapy.core.engine] DEBUG: Crawled (200) <GET https://carifilms.com/films/page/330?order=DESC&is_meta_key=0&orderby=title#038;is_meta_key=0&orderby=title> (referer: https://carifilms.com/films/page/329?order=DESC&is_meta_key=0&orderby=title)\n"
     ]
    },
    {
     "name": "stdout",
     "output_type": "stream",
     "text": [
      "https://carifilms.com/films/page/331?order=DESC&is_meta_key=0&orderby=title#038;is_meta_key=0&orderby=title\n",
      "331\n"
     ]
    },
    {
     "name": "stderr",
     "output_type": "stream",
     "text": [
      "2020-12-04 11:51:07 [scrapy.core.engine] DEBUG: Crawled (200) <GET https://carifilms.com/films/page/331?order=DESC&is_meta_key=0&orderby=title#038;is_meta_key=0&orderby=title> (referer: https://carifilms.com/films/page/330?order=DESC&is_meta_key=0&orderby=title)\n"
     ]
    },
    {
     "name": "stdout",
     "output_type": "stream",
     "text": [
      "https://carifilms.com/films/page/332?order=DESC&is_meta_key=0&orderby=title#038;is_meta_key=0&orderby=title\n",
      "332\n"
     ]
    },
    {
     "name": "stderr",
     "output_type": "stream",
     "text": [
      "2020-12-04 11:51:11 [scrapy.core.engine] DEBUG: Crawled (200) <GET https://carifilms.com/films/page/332?order=DESC&is_meta_key=0&orderby=title#038;is_meta_key=0&orderby=title> (referer: https://carifilms.com/films/page/331?order=DESC&is_meta_key=0&orderby=title)\n"
     ]
    },
    {
     "name": "stdout",
     "output_type": "stream",
     "text": [
      "https://carifilms.com/films/page/333?order=DESC&is_meta_key=0&orderby=title#038;is_meta_key=0&orderby=title\n",
      "333\n"
     ]
    },
    {
     "name": "stderr",
     "output_type": "stream",
     "text": [
      "2020-12-04 11:51:15 [scrapy.core.engine] DEBUG: Crawled (200) <GET https://carifilms.com/films/page/333?order=DESC&is_meta_key=0&orderby=title#038;is_meta_key=0&orderby=title> (referer: https://carifilms.com/films/page/332?order=DESC&is_meta_key=0&orderby=title)\n"
     ]
    },
    {
     "name": "stdout",
     "output_type": "stream",
     "text": [
      "https://carifilms.com/films/page/334?order=DESC&is_meta_key=0&orderby=title#038;is_meta_key=0&orderby=title\n",
      "334\n"
     ]
    },
    {
     "name": "stderr",
     "output_type": "stream",
     "text": [
      "2020-12-04 11:51:19 [scrapy.core.engine] DEBUG: Crawled (200) <GET https://carifilms.com/films/page/334?order=DESC&is_meta_key=0&orderby=title#038;is_meta_key=0&orderby=title> (referer: https://carifilms.com/films/page/333?order=DESC&is_meta_key=0&orderby=title)\n"
     ]
    },
    {
     "name": "stdout",
     "output_type": "stream",
     "text": [
      "https://carifilms.com/films/page/335?order=DESC&is_meta_key=0&orderby=title#038;is_meta_key=0&orderby=title\n",
      "335\n"
     ]
    },
    {
     "name": "stderr",
     "output_type": "stream",
     "text": [
      "2020-12-04 11:51:24 [scrapy.core.engine] DEBUG: Crawled (200) <GET https://carifilms.com/films/page/335?order=DESC&is_meta_key=0&orderby=title#038;is_meta_key=0&orderby=title> (referer: https://carifilms.com/films/page/334?order=DESC&is_meta_key=0&orderby=title)\n"
     ]
    },
    {
     "name": "stdout",
     "output_type": "stream",
     "text": [
      "https://carifilms.com/films/page/336?order=DESC&is_meta_key=0&orderby=title#038;is_meta_key=0&orderby=title\n",
      "336\n"
     ]
    },
    {
     "name": "stderr",
     "output_type": "stream",
     "text": [
      "2020-12-04 11:51:28 [scrapy.core.engine] DEBUG: Crawled (200) <GET https://carifilms.com/films/page/336?order=DESC&is_meta_key=0&orderby=title#038;is_meta_key=0&orderby=title> (referer: https://carifilms.com/films/page/335?order=DESC&is_meta_key=0&orderby=title)\n"
     ]
    },
    {
     "name": "stdout",
     "output_type": "stream",
     "text": [
      "https://carifilms.com/films/page/337?order=DESC&is_meta_key=0&orderby=title#038;is_meta_key=0&orderby=title\n",
      "337\n"
     ]
    },
    {
     "name": "stderr",
     "output_type": "stream",
     "text": [
      "2020-12-04 11:51:33 [scrapy.core.engine] DEBUG: Crawled (200) <GET https://carifilms.com/films/page/337?order=DESC&is_meta_key=0&orderby=title#038;is_meta_key=0&orderby=title> (referer: https://carifilms.com/films/page/336?order=DESC&is_meta_key=0&orderby=title)\n"
     ]
    },
    {
     "name": "stdout",
     "output_type": "stream",
     "text": [
      "https://carifilms.com/films/page/338?order=DESC&is_meta_key=0&orderby=title#038;is_meta_key=0&orderby=title\n",
      "338\n"
     ]
    },
    {
     "name": "stderr",
     "output_type": "stream",
     "text": [
      "2020-12-04 11:51:37 [scrapy.core.engine] DEBUG: Crawled (200) <GET https://carifilms.com/films/page/338?order=DESC&is_meta_key=0&orderby=title#038;is_meta_key=0&orderby=title> (referer: https://carifilms.com/films/page/337?order=DESC&is_meta_key=0&orderby=title)\n"
     ]
    },
    {
     "name": "stdout",
     "output_type": "stream",
     "text": [
      "https://carifilms.com/films/page/339?order=DESC&is_meta_key=0&orderby=title#038;is_meta_key=0&orderby=title\n",
      "339\n"
     ]
    },
    {
     "name": "stderr",
     "output_type": "stream",
     "text": [
      "2020-12-04 11:51:41 [scrapy.core.engine] DEBUG: Crawled (200) <GET https://carifilms.com/films/page/339?order=DESC&is_meta_key=0&orderby=title#038;is_meta_key=0&orderby=title> (referer: https://carifilms.com/films/page/338?order=DESC&is_meta_key=0&orderby=title)\n"
     ]
    },
    {
     "name": "stdout",
     "output_type": "stream",
     "text": [
      "https://carifilms.com/films/page/340?order=DESC&is_meta_key=0&orderby=title#038;is_meta_key=0&orderby=title\n",
      "340\n"
     ]
    },
    {
     "name": "stderr",
     "output_type": "stream",
     "text": [
      "2020-12-04 11:51:46 [scrapy.core.engine] DEBUG: Crawled (200) <GET https://carifilms.com/films/page/340?order=DESC&is_meta_key=0&orderby=title#038;is_meta_key=0&orderby=title> (referer: https://carifilms.com/films/page/339?order=DESC&is_meta_key=0&orderby=title)\n"
     ]
    },
    {
     "name": "stdout",
     "output_type": "stream",
     "text": [
      "https://carifilms.com/films/page/341?order=DESC&is_meta_key=0&orderby=title#038;is_meta_key=0&orderby=title\n",
      "341\n"
     ]
    },
    {
     "name": "stderr",
     "output_type": "stream",
     "text": [
      "2020-12-04 11:51:50 [scrapy.core.engine] DEBUG: Crawled (200) <GET https://carifilms.com/films/page/341?order=DESC&is_meta_key=0&orderby=title#038;is_meta_key=0&orderby=title> (referer: https://carifilms.com/films/page/340?order=DESC&is_meta_key=0&orderby=title)\n"
     ]
    },
    {
     "name": "stdout",
     "output_type": "stream",
     "text": [
      "https://carifilms.com/films/page/342?order=DESC&is_meta_key=0&orderby=title#038;is_meta_key=0&orderby=title\n",
      "342\n"
     ]
    },
    {
     "name": "stderr",
     "output_type": "stream",
     "text": [
      "2020-12-04 11:51:55 [scrapy.core.engine] DEBUG: Crawled (200) <GET https://carifilms.com/films/page/342?order=DESC&is_meta_key=0&orderby=title#038;is_meta_key=0&orderby=title> (referer: https://carifilms.com/films/page/341?order=DESC&is_meta_key=0&orderby=title)\n",
      "2020-12-04 11:51:55 [scrapy.extensions.logstats] INFO: Crawled 342 pages (at 14 pages/min), scraped 0 items (at 0 items/min)\n"
     ]
    },
    {
     "name": "stdout",
     "output_type": "stream",
     "text": [
      "https://carifilms.com/films/page/343?order=DESC&is_meta_key=0&orderby=title#038;is_meta_key=0&orderby=title\n",
      "343\n"
     ]
    },
    {
     "name": "stderr",
     "output_type": "stream",
     "text": [
      "2020-12-04 11:51:59 [scrapy.core.engine] DEBUG: Crawled (200) <GET https://carifilms.com/films/page/343?order=DESC&is_meta_key=0&orderby=title#038;is_meta_key=0&orderby=title> (referer: https://carifilms.com/films/page/342?order=DESC&is_meta_key=0&orderby=title)\n"
     ]
    },
    {
     "name": "stdout",
     "output_type": "stream",
     "text": [
      "https://carifilms.com/films/page/344?order=DESC&is_meta_key=0&orderby=title#038;is_meta_key=0&orderby=title\n",
      "344\n"
     ]
    },
    {
     "name": "stderr",
     "output_type": "stream",
     "text": [
      "2020-12-04 11:52:03 [scrapy.core.engine] DEBUG: Crawled (200) <GET https://carifilms.com/films/page/344?order=DESC&is_meta_key=0&orderby=title#038;is_meta_key=0&orderby=title> (referer: https://carifilms.com/films/page/343?order=DESC&is_meta_key=0&orderby=title)\n"
     ]
    },
    {
     "name": "stdout",
     "output_type": "stream",
     "text": [
      "https://carifilms.com/films/page/345?order=DESC&is_meta_key=0&orderby=title#038;is_meta_key=0&orderby=title\n",
      "345\n"
     ]
    },
    {
     "name": "stderr",
     "output_type": "stream",
     "text": [
      "2020-12-04 11:52:07 [scrapy.core.engine] DEBUG: Crawled (200) <GET https://carifilms.com/films/page/345?order=DESC&is_meta_key=0&orderby=title#038;is_meta_key=0&orderby=title> (referer: https://carifilms.com/films/page/344?order=DESC&is_meta_key=0&orderby=title)\n"
     ]
    },
    {
     "name": "stdout",
     "output_type": "stream",
     "text": [
      "https://carifilms.com/films/page/346?order=DESC&is_meta_key=0&orderby=title#038;is_meta_key=0&orderby=title\n",
      "346\n"
     ]
    },
    {
     "name": "stderr",
     "output_type": "stream",
     "text": [
      "2020-12-04 11:52:11 [scrapy.core.engine] DEBUG: Crawled (200) <GET https://carifilms.com/films/page/346?order=DESC&is_meta_key=0&orderby=title#038;is_meta_key=0&orderby=title> (referer: https://carifilms.com/films/page/345?order=DESC&is_meta_key=0&orderby=title)\n"
     ]
    },
    {
     "name": "stdout",
     "output_type": "stream",
     "text": [
      "https://carifilms.com/films/page/347?order=DESC&is_meta_key=0&orderby=title#038;is_meta_key=0&orderby=title\n",
      "347\n"
     ]
    },
    {
     "name": "stderr",
     "output_type": "stream",
     "text": [
      "2020-12-04 11:52:16 [scrapy.core.engine] DEBUG: Crawled (200) <GET https://carifilms.com/films/page/347?order=DESC&is_meta_key=0&orderby=title#038;is_meta_key=0&orderby=title> (referer: https://carifilms.com/films/page/346?order=DESC&is_meta_key=0&orderby=title)\n"
     ]
    },
    {
     "name": "stdout",
     "output_type": "stream",
     "text": [
      "https://carifilms.com/films/page/348?order=DESC&is_meta_key=0&orderby=title#038;is_meta_key=0&orderby=title\n",
      "348\n"
     ]
    },
    {
     "name": "stderr",
     "output_type": "stream",
     "text": [
      "2020-12-04 11:52:20 [scrapy.core.engine] DEBUG: Crawled (200) <GET https://carifilms.com/films/page/348?order=DESC&is_meta_key=0&orderby=title#038;is_meta_key=0&orderby=title> (referer: https://carifilms.com/films/page/347?order=DESC&is_meta_key=0&orderby=title)\n"
     ]
    },
    {
     "name": "stdout",
     "output_type": "stream",
     "text": [
      "https://carifilms.com/films/page/349?order=DESC&is_meta_key=0&orderby=title#038;is_meta_key=0&orderby=title\n",
      "349\n"
     ]
    },
    {
     "name": "stderr",
     "output_type": "stream",
     "text": [
      "2020-12-04 11:52:24 [scrapy.core.engine] DEBUG: Crawled (200) <GET https://carifilms.com/films/page/349?order=DESC&is_meta_key=0&orderby=title#038;is_meta_key=0&orderby=title> (referer: https://carifilms.com/films/page/348?order=DESC&is_meta_key=0&orderby=title)\n"
     ]
    },
    {
     "name": "stdout",
     "output_type": "stream",
     "text": [
      "https://carifilms.com/films/page/350?order=DESC&is_meta_key=0&orderby=title#038;is_meta_key=0&orderby=title\n",
      "350\n"
     ]
    },
    {
     "name": "stderr",
     "output_type": "stream",
     "text": [
      "2020-12-04 11:52:29 [scrapy.core.engine] DEBUG: Crawled (200) <GET https://carifilms.com/films/page/350?order=DESC&is_meta_key=0&orderby=title#038;is_meta_key=0&orderby=title> (referer: https://carifilms.com/films/page/349?order=DESC&is_meta_key=0&orderby=title)\n"
     ]
    },
    {
     "name": "stdout",
     "output_type": "stream",
     "text": [
      "https://carifilms.com/films/page/351?order=DESC&is_meta_key=0&orderby=title#038;is_meta_key=0&orderby=title\n",
      "351\n"
     ]
    },
    {
     "name": "stderr",
     "output_type": "stream",
     "text": [
      "2020-12-04 11:52:33 [scrapy.core.engine] DEBUG: Crawled (200) <GET https://carifilms.com/films/page/351?order=DESC&is_meta_key=0&orderby=title#038;is_meta_key=0&orderby=title> (referer: https://carifilms.com/films/page/350?order=DESC&is_meta_key=0&orderby=title)\n"
     ]
    },
    {
     "name": "stdout",
     "output_type": "stream",
     "text": [
      "https://carifilms.com/films/page/352?order=DESC&is_meta_key=0&orderby=title#038;is_meta_key=0&orderby=title\n",
      "352\n"
     ]
    },
    {
     "name": "stderr",
     "output_type": "stream",
     "text": [
      "2020-12-04 11:52:37 [scrapy.core.engine] DEBUG: Crawled (200) <GET https://carifilms.com/films/page/352?order=DESC&is_meta_key=0&orderby=title#038;is_meta_key=0&orderby=title> (referer: https://carifilms.com/films/page/351?order=DESC&is_meta_key=0&orderby=title)\n"
     ]
    },
    {
     "name": "stdout",
     "output_type": "stream",
     "text": [
      "https://carifilms.com/films/page/353?order=DESC&is_meta_key=0&orderby=title#038;is_meta_key=0&orderby=title\n",
      "353\n"
     ]
    },
    {
     "name": "stderr",
     "output_type": "stream",
     "text": [
      "2020-12-04 11:52:42 [scrapy.core.engine] DEBUG: Crawled (200) <GET https://carifilms.com/films/page/353?order=DESC&is_meta_key=0&orderby=title#038;is_meta_key=0&orderby=title> (referer: https://carifilms.com/films/page/352?order=DESC&is_meta_key=0&orderby=title)\n"
     ]
    },
    {
     "name": "stdout",
     "output_type": "stream",
     "text": [
      "https://carifilms.com/films/page/354?order=DESC&is_meta_key=0&orderby=title#038;is_meta_key=0&orderby=title\n",
      "354\n"
     ]
    },
    {
     "name": "stderr",
     "output_type": "stream",
     "text": [
      "2020-12-04 11:52:46 [scrapy.core.engine] DEBUG: Crawled (200) <GET https://carifilms.com/films/page/354?order=DESC&is_meta_key=0&orderby=title#038;is_meta_key=0&orderby=title> (referer: https://carifilms.com/films/page/353?order=DESC&is_meta_key=0&orderby=title)\n"
     ]
    },
    {
     "name": "stdout",
     "output_type": "stream",
     "text": [
      "https://carifilms.com/films/page/355?order=DESC&is_meta_key=0&orderby=title#038;is_meta_key=0&orderby=title\n",
      "355\n"
     ]
    },
    {
     "name": "stderr",
     "output_type": "stream",
     "text": [
      "2020-12-04 11:52:51 [scrapy.core.engine] DEBUG: Crawled (200) <GET https://carifilms.com/films/page/355?order=DESC&is_meta_key=0&orderby=title#038;is_meta_key=0&orderby=title> (referer: https://carifilms.com/films/page/354?order=DESC&is_meta_key=0&orderby=title)\n"
     ]
    },
    {
     "name": "stdout",
     "output_type": "stream",
     "text": [
      "https://carifilms.com/films/page/356?order=DESC&is_meta_key=0&orderby=title#038;is_meta_key=0&orderby=title\n",
      "356\n"
     ]
    },
    {
     "name": "stderr",
     "output_type": "stream",
     "text": [
      "2020-12-04 11:52:55 [scrapy.extensions.logstats] INFO: Crawled 355 pages (at 13 pages/min), scraped 0 items (at 0 items/min)\n",
      "2020-12-04 11:52:55 [scrapy.core.engine] DEBUG: Crawled (200) <GET https://carifilms.com/films/page/356?order=DESC&is_meta_key=0&orderby=title#038;is_meta_key=0&orderby=title> (referer: https://carifilms.com/films/page/355?order=DESC&is_meta_key=0&orderby=title)\n"
     ]
    },
    {
     "name": "stdout",
     "output_type": "stream",
     "text": [
      "https://carifilms.com/films/page/357?order=DESC&is_meta_key=0&orderby=title#038;is_meta_key=0&orderby=title\n",
      "357\n"
     ]
    },
    {
     "name": "stderr",
     "output_type": "stream",
     "text": [
      "2020-12-04 11:52:59 [scrapy.core.engine] DEBUG: Crawled (200) <GET https://carifilms.com/films/page/357?order=DESC&is_meta_key=0&orderby=title#038;is_meta_key=0&orderby=title> (referer: https://carifilms.com/films/page/356?order=DESC&is_meta_key=0&orderby=title)\n"
     ]
    },
    {
     "name": "stdout",
     "output_type": "stream",
     "text": [
      "https://carifilms.com/films/page/358?order=DESC&is_meta_key=0&orderby=title#038;is_meta_key=0&orderby=title\n",
      "358\n"
     ]
    },
    {
     "name": "stderr",
     "output_type": "stream",
     "text": [
      "2020-12-04 11:53:04 [scrapy.core.engine] DEBUG: Crawled (200) <GET https://carifilms.com/films/page/358?order=DESC&is_meta_key=0&orderby=title#038;is_meta_key=0&orderby=title> (referer: https://carifilms.com/films/page/357?order=DESC&is_meta_key=0&orderby=title)\n"
     ]
    },
    {
     "name": "stdout",
     "output_type": "stream",
     "text": [
      "https://carifilms.com/films/page/359?order=DESC&is_meta_key=0&orderby=title#038;is_meta_key=0&orderby=title\n",
      "359\n"
     ]
    },
    {
     "name": "stderr",
     "output_type": "stream",
     "text": [
      "2020-12-04 11:53:08 [scrapy.core.engine] DEBUG: Crawled (200) <GET https://carifilms.com/films/page/359?order=DESC&is_meta_key=0&orderby=title#038;is_meta_key=0&orderby=title> (referer: https://carifilms.com/films/page/358?order=DESC&is_meta_key=0&orderby=title)\n"
     ]
    },
    {
     "name": "stdout",
     "output_type": "stream",
     "text": [
      "https://carifilms.com/films/page/360?order=DESC&is_meta_key=0&orderby=title#038;is_meta_key=0&orderby=title\n",
      "360\n"
     ]
    },
    {
     "name": "stderr",
     "output_type": "stream",
     "text": [
      "2020-12-04 11:53:12 [scrapy.core.engine] DEBUG: Crawled (200) <GET https://carifilms.com/films/page/360?order=DESC&is_meta_key=0&orderby=title#038;is_meta_key=0&orderby=title> (referer: https://carifilms.com/films/page/359?order=DESC&is_meta_key=0&orderby=title)\n"
     ]
    },
    {
     "name": "stdout",
     "output_type": "stream",
     "text": [
      "https://carifilms.com/films/page/361?order=DESC&is_meta_key=0&orderby=title#038;is_meta_key=0&orderby=title\n",
      "361\n"
     ]
    },
    {
     "name": "stderr",
     "output_type": "stream",
     "text": [
      "2020-12-04 11:53:16 [scrapy.core.engine] DEBUG: Crawled (200) <GET https://carifilms.com/films/page/361?order=DESC&is_meta_key=0&orderby=title#038;is_meta_key=0&orderby=title> (referer: https://carifilms.com/films/page/360?order=DESC&is_meta_key=0&orderby=title)\n"
     ]
    },
    {
     "name": "stdout",
     "output_type": "stream",
     "text": [
      "https://carifilms.com/films/page/362?order=DESC&is_meta_key=0&orderby=title#038;is_meta_key=0&orderby=title\n",
      "362\n"
     ]
    },
    {
     "name": "stderr",
     "output_type": "stream",
     "text": [
      "2020-12-04 11:53:21 [scrapy.core.engine] DEBUG: Crawled (200) <GET https://carifilms.com/films/page/362?order=DESC&is_meta_key=0&orderby=title#038;is_meta_key=0&orderby=title> (referer: https://carifilms.com/films/page/361?order=DESC&is_meta_key=0&orderby=title)\n"
     ]
    },
    {
     "name": "stdout",
     "output_type": "stream",
     "text": [
      "https://carifilms.com/films/page/363?order=DESC&is_meta_key=0&orderby=title#038;is_meta_key=0&orderby=title\n",
      "363\n"
     ]
    },
    {
     "name": "stderr",
     "output_type": "stream",
     "text": [
      "2020-12-04 11:53:25 [scrapy.core.engine] DEBUG: Crawled (200) <GET https://carifilms.com/films/page/363?order=DESC&is_meta_key=0&orderby=title#038;is_meta_key=0&orderby=title> (referer: https://carifilms.com/films/page/362?order=DESC&is_meta_key=0&orderby=title)\n"
     ]
    },
    {
     "name": "stdout",
     "output_type": "stream",
     "text": [
      "https://carifilms.com/films/page/364?order=DESC&is_meta_key=0&orderby=title#038;is_meta_key=0&orderby=title\n",
      "364\n"
     ]
    },
    {
     "name": "stderr",
     "output_type": "stream",
     "text": [
      "2020-12-04 11:53:29 [scrapy.core.engine] DEBUG: Crawled (200) <GET https://carifilms.com/films/page/364?order=DESC&is_meta_key=0&orderby=title#038;is_meta_key=0&orderby=title> (referer: https://carifilms.com/films/page/363?order=DESC&is_meta_key=0&orderby=title)\n"
     ]
    },
    {
     "name": "stdout",
     "output_type": "stream",
     "text": [
      "https://carifilms.com/films/page/365?order=DESC&is_meta_key=0&orderby=title#038;is_meta_key=0&orderby=title\n",
      "365\n"
     ]
    },
    {
     "name": "stderr",
     "output_type": "stream",
     "text": [
      "2020-12-04 11:53:34 [scrapy.core.engine] DEBUG: Crawled (200) <GET https://carifilms.com/films/page/365?order=DESC&is_meta_key=0&orderby=title#038;is_meta_key=0&orderby=title> (referer: https://carifilms.com/films/page/364?order=DESC&is_meta_key=0&orderby=title)\n"
     ]
    },
    {
     "name": "stdout",
     "output_type": "stream",
     "text": [
      "https://carifilms.com/films/page/366?order=DESC&is_meta_key=0&orderby=title#038;is_meta_key=0&orderby=title\n",
      "366\n"
     ]
    },
    {
     "name": "stderr",
     "output_type": "stream",
     "text": [
      "2020-12-04 11:53:38 [scrapy.core.engine] DEBUG: Crawled (200) <GET https://carifilms.com/films/page/366?order=DESC&is_meta_key=0&orderby=title#038;is_meta_key=0&orderby=title> (referer: https://carifilms.com/films/page/365?order=DESC&is_meta_key=0&orderby=title)\n"
     ]
    },
    {
     "name": "stdout",
     "output_type": "stream",
     "text": [
      "https://carifilms.com/films/page/367?order=DESC&is_meta_key=0&orderby=title#038;is_meta_key=0&orderby=title\n",
      "367\n"
     ]
    },
    {
     "name": "stderr",
     "output_type": "stream",
     "text": [
      "2020-12-04 11:53:42 [scrapy.core.engine] DEBUG: Crawled (200) <GET https://carifilms.com/films/page/367?order=DESC&is_meta_key=0&orderby=title#038;is_meta_key=0&orderby=title> (referer: https://carifilms.com/films/page/366?order=DESC&is_meta_key=0&orderby=title)\n"
     ]
    },
    {
     "name": "stdout",
     "output_type": "stream",
     "text": [
      "https://carifilms.com/films/page/368?order=DESC&is_meta_key=0&orderby=title#038;is_meta_key=0&orderby=title\n",
      "368\n"
     ]
    },
    {
     "name": "stderr",
     "output_type": "stream",
     "text": [
      "2020-12-04 11:53:46 [scrapy.core.engine] DEBUG: Crawled (200) <GET https://carifilms.com/films/page/368?order=DESC&is_meta_key=0&orderby=title#038;is_meta_key=0&orderby=title> (referer: https://carifilms.com/films/page/367?order=DESC&is_meta_key=0&orderby=title)\n"
     ]
    },
    {
     "name": "stdout",
     "output_type": "stream",
     "text": [
      "https://carifilms.com/films/page/369?order=DESC&is_meta_key=0&orderby=title#038;is_meta_key=0&orderby=title\n",
      "369\n"
     ]
    },
    {
     "name": "stderr",
     "output_type": "stream",
     "text": [
      "2020-12-04 11:53:51 [scrapy.core.engine] DEBUG: Crawled (200) <GET https://carifilms.com/films/page/369?order=DESC&is_meta_key=0&orderby=title#038;is_meta_key=0&orderby=title> (referer: https://carifilms.com/films/page/368?order=DESC&is_meta_key=0&orderby=title)\n"
     ]
    },
    {
     "name": "stdout",
     "output_type": "stream",
     "text": [
      "https://carifilms.com/films/page/370?order=DESC&is_meta_key=0&orderby=title#038;is_meta_key=0&orderby=title\n",
      "370\n"
     ]
    },
    {
     "name": "stderr",
     "output_type": "stream",
     "text": [
      "2020-12-04 11:53:55 [scrapy.core.engine] DEBUG: Crawled (200) <GET https://carifilms.com/films/page/370?order=DESC&is_meta_key=0&orderby=title#038;is_meta_key=0&orderby=title> (referer: https://carifilms.com/films/page/369?order=DESC&is_meta_key=0&orderby=title)\n",
      "2020-12-04 11:53:55 [scrapy.extensions.logstats] INFO: Crawled 370 pages (at 15 pages/min), scraped 0 items (at 0 items/min)\n"
     ]
    },
    {
     "name": "stdout",
     "output_type": "stream",
     "text": [
      "https://carifilms.com/films/page/371?order=DESC&is_meta_key=0&orderby=title#038;is_meta_key=0&orderby=title\n",
      "371\n"
     ]
    },
    {
     "name": "stderr",
     "output_type": "stream",
     "text": [
      "2020-12-04 11:53:59 [scrapy.core.engine] DEBUG: Crawled (200) <GET https://carifilms.com/films/page/371?order=DESC&is_meta_key=0&orderby=title#038;is_meta_key=0&orderby=title> (referer: https://carifilms.com/films/page/370?order=DESC&is_meta_key=0&orderby=title)\n"
     ]
    },
    {
     "name": "stdout",
     "output_type": "stream",
     "text": [
      "https://carifilms.com/films/page/372?order=DESC&is_meta_key=0&orderby=title#038;is_meta_key=0&orderby=title\n",
      "372\n"
     ]
    },
    {
     "name": "stderr",
     "output_type": "stream",
     "text": [
      "2020-12-04 11:54:03 [scrapy.core.engine] DEBUG: Crawled (200) <GET https://carifilms.com/films/page/372?order=DESC&is_meta_key=0&orderby=title#038;is_meta_key=0&orderby=title> (referer: https://carifilms.com/films/page/371?order=DESC&is_meta_key=0&orderby=title)\n"
     ]
    },
    {
     "name": "stdout",
     "output_type": "stream",
     "text": [
      "https://carifilms.com/films/page/373?order=DESC&is_meta_key=0&orderby=title#038;is_meta_key=0&orderby=title\n",
      "373\n"
     ]
    },
    {
     "name": "stderr",
     "output_type": "stream",
     "text": [
      "2020-12-04 11:54:08 [scrapy.core.engine] DEBUG: Crawled (200) <GET https://carifilms.com/films/page/373?order=DESC&is_meta_key=0&orderby=title#038;is_meta_key=0&orderby=title> (referer: https://carifilms.com/films/page/372?order=DESC&is_meta_key=0&orderby=title)\n"
     ]
    },
    {
     "name": "stdout",
     "output_type": "stream",
     "text": [
      "https://carifilms.com/films/page/374?order=DESC&is_meta_key=0&orderby=title#038;is_meta_key=0&orderby=title\n",
      "374\n"
     ]
    },
    {
     "name": "stderr",
     "output_type": "stream",
     "text": [
      "2020-12-04 11:54:12 [scrapy.core.engine] DEBUG: Crawled (200) <GET https://carifilms.com/films/page/374?order=DESC&is_meta_key=0&orderby=title#038;is_meta_key=0&orderby=title> (referer: https://carifilms.com/films/page/373?order=DESC&is_meta_key=0&orderby=title)\n"
     ]
    },
    {
     "name": "stdout",
     "output_type": "stream",
     "text": [
      "https://carifilms.com/films/page/375?order=DESC&is_meta_key=0&orderby=title#038;is_meta_key=0&orderby=title\n",
      "375\n"
     ]
    },
    {
     "name": "stderr",
     "output_type": "stream",
     "text": [
      "2020-12-04 11:54:17 [scrapy.core.engine] DEBUG: Crawled (200) <GET https://carifilms.com/films/page/375?order=DESC&is_meta_key=0&orderby=title#038;is_meta_key=0&orderby=title> (referer: https://carifilms.com/films/page/374?order=DESC&is_meta_key=0&orderby=title)\n"
     ]
    },
    {
     "name": "stdout",
     "output_type": "stream",
     "text": [
      "https://carifilms.com/films/page/376?order=DESC&is_meta_key=0&orderby=title#038;is_meta_key=0&orderby=title\n",
      "376\n"
     ]
    },
    {
     "name": "stderr",
     "output_type": "stream",
     "text": [
      "2020-12-04 11:54:21 [scrapy.core.engine] DEBUG: Crawled (200) <GET https://carifilms.com/films/page/376?order=DESC&is_meta_key=0&orderby=title#038;is_meta_key=0&orderby=title> (referer: https://carifilms.com/films/page/375?order=DESC&is_meta_key=0&orderby=title)\n"
     ]
    },
    {
     "name": "stdout",
     "output_type": "stream",
     "text": [
      "https://carifilms.com/films/page/377?order=DESC&is_meta_key=0&orderby=title#038;is_meta_key=0&orderby=title\n",
      "377\n"
     ]
    },
    {
     "name": "stderr",
     "output_type": "stream",
     "text": [
      "2020-12-04 11:54:26 [scrapy.core.engine] DEBUG: Crawled (200) <GET https://carifilms.com/films/page/377?order=DESC&is_meta_key=0&orderby=title#038;is_meta_key=0&orderby=title> (referer: https://carifilms.com/films/page/376?order=DESC&is_meta_key=0&orderby=title)\n"
     ]
    },
    {
     "name": "stdout",
     "output_type": "stream",
     "text": [
      "https://carifilms.com/films/page/378?order=DESC&is_meta_key=0&orderby=title#038;is_meta_key=0&orderby=title\n",
      "378\n"
     ]
    },
    {
     "name": "stderr",
     "output_type": "stream",
     "text": [
      "2020-12-04 11:54:30 [scrapy.core.engine] DEBUG: Crawled (200) <GET https://carifilms.com/films/page/378?order=DESC&is_meta_key=0&orderby=title#038;is_meta_key=0&orderby=title> (referer: https://carifilms.com/films/page/377?order=DESC&is_meta_key=0&orderby=title)\n"
     ]
    },
    {
     "name": "stdout",
     "output_type": "stream",
     "text": [
      "https://carifilms.com/films/page/379?order=DESC&is_meta_key=0&orderby=title#038;is_meta_key=0&orderby=title\n",
      "379\n"
     ]
    },
    {
     "name": "stderr",
     "output_type": "stream",
     "text": [
      "2020-12-04 11:54:35 [scrapy.core.engine] DEBUG: Crawled (200) <GET https://carifilms.com/films/page/379?order=DESC&is_meta_key=0&orderby=title#038;is_meta_key=0&orderby=title> (referer: https://carifilms.com/films/page/378?order=DESC&is_meta_key=0&orderby=title)\n"
     ]
    },
    {
     "name": "stdout",
     "output_type": "stream",
     "text": [
      "https://carifilms.com/films/page/380?order=DESC&is_meta_key=0&orderby=title#038;is_meta_key=0&orderby=title\n",
      "380\n"
     ]
    },
    {
     "name": "stderr",
     "output_type": "stream",
     "text": [
      "2020-12-04 11:54:39 [scrapy.core.engine] DEBUG: Crawled (200) <GET https://carifilms.com/films/page/380?order=DESC&is_meta_key=0&orderby=title#038;is_meta_key=0&orderby=title> (referer: https://carifilms.com/films/page/379?order=DESC&is_meta_key=0&orderby=title)\n"
     ]
    },
    {
     "name": "stdout",
     "output_type": "stream",
     "text": [
      "https://carifilms.com/films/page/381?order=DESC&is_meta_key=0&orderby=title#038;is_meta_key=0&orderby=title\n",
      "381\n"
     ]
    },
    {
     "name": "stderr",
     "output_type": "stream",
     "text": [
      "2020-12-04 11:54:44 [scrapy.core.engine] DEBUG: Crawled (200) <GET https://carifilms.com/films/page/381?order=DESC&is_meta_key=0&orderby=title#038;is_meta_key=0&orderby=title> (referer: https://carifilms.com/films/page/380?order=DESC&is_meta_key=0&orderby=title)\n"
     ]
    },
    {
     "name": "stdout",
     "output_type": "stream",
     "text": [
      "https://carifilms.com/films/page/382?order=DESC&is_meta_key=0&orderby=title#038;is_meta_key=0&orderby=title\n",
      "382\n"
     ]
    },
    {
     "name": "stderr",
     "output_type": "stream",
     "text": [
      "2020-12-04 11:54:48 [scrapy.core.engine] DEBUG: Crawled (200) <GET https://carifilms.com/films/page/382?order=DESC&is_meta_key=0&orderby=title#038;is_meta_key=0&orderby=title> (referer: https://carifilms.com/films/page/381?order=DESC&is_meta_key=0&orderby=title)\n"
     ]
    },
    {
     "name": "stdout",
     "output_type": "stream",
     "text": [
      "https://carifilms.com/films/page/383?order=DESC&is_meta_key=0&orderby=title#038;is_meta_key=0&orderby=title\n",
      "383\n"
     ]
    },
    {
     "name": "stderr",
     "output_type": "stream",
     "text": [
      "2020-12-04 11:54:52 [scrapy.core.engine] DEBUG: Crawled (200) <GET https://carifilms.com/films/page/383?order=DESC&is_meta_key=0&orderby=title#038;is_meta_key=0&orderby=title> (referer: https://carifilms.com/films/page/382?order=DESC&is_meta_key=0&orderby=title)\n"
     ]
    },
    {
     "name": "stdout",
     "output_type": "stream",
     "text": [
      "https://carifilms.com/films/page/384?order=DESC&is_meta_key=0&orderby=title#038;is_meta_key=0&orderby=title\n",
      "384\n"
     ]
    },
    {
     "name": "stderr",
     "output_type": "stream",
     "text": [
      "2020-12-04 11:54:55 [scrapy.extensions.logstats] INFO: Crawled 383 pages (at 13 pages/min), scraped 0 items (at 0 items/min)\n",
      "2020-12-04 11:54:56 [scrapy.core.engine] DEBUG: Crawled (200) <GET https://carifilms.com/films/page/384?order=DESC&is_meta_key=0&orderby=title#038;is_meta_key=0&orderby=title> (referer: https://carifilms.com/films/page/383?order=DESC&is_meta_key=0&orderby=title)\n"
     ]
    },
    {
     "name": "stdout",
     "output_type": "stream",
     "text": [
      "https://carifilms.com/films/page/385?order=DESC&is_meta_key=0&orderby=title#038;is_meta_key=0&orderby=title\n",
      "385\n"
     ]
    },
    {
     "name": "stderr",
     "output_type": "stream",
     "text": [
      "2020-12-04 11:55:01 [scrapy.core.engine] DEBUG: Crawled (200) <GET https://carifilms.com/films/page/385?order=DESC&is_meta_key=0&orderby=title#038;is_meta_key=0&orderby=title> (referer: https://carifilms.com/films/page/384?order=DESC&is_meta_key=0&orderby=title)\n"
     ]
    },
    {
     "name": "stdout",
     "output_type": "stream",
     "text": [
      "https://carifilms.com/films/page/386?order=DESC&is_meta_key=0&orderby=title#038;is_meta_key=0&orderby=title\n",
      "386\n"
     ]
    },
    {
     "name": "stderr",
     "output_type": "stream",
     "text": [
      "2020-12-04 11:55:05 [scrapy.core.engine] DEBUG: Crawled (200) <GET https://carifilms.com/films/page/386?order=DESC&is_meta_key=0&orderby=title#038;is_meta_key=0&orderby=title> (referer: https://carifilms.com/films/page/385?order=DESC&is_meta_key=0&orderby=title)\n"
     ]
    },
    {
     "name": "stdout",
     "output_type": "stream",
     "text": [
      "https://carifilms.com/films/page/387?order=DESC&is_meta_key=0&orderby=title#038;is_meta_key=0&orderby=title\n",
      "387\n"
     ]
    },
    {
     "name": "stderr",
     "output_type": "stream",
     "text": [
      "2020-12-04 11:55:09 [scrapy.core.engine] DEBUG: Crawled (200) <GET https://carifilms.com/films/page/387?order=DESC&is_meta_key=0&orderby=title#038;is_meta_key=0&orderby=title> (referer: https://carifilms.com/films/page/386?order=DESC&is_meta_key=0&orderby=title)\n"
     ]
    },
    {
     "name": "stdout",
     "output_type": "stream",
     "text": [
      "https://carifilms.com/films/page/388?order=DESC&is_meta_key=0&orderby=title#038;is_meta_key=0&orderby=title\n",
      "388\n"
     ]
    },
    {
     "name": "stderr",
     "output_type": "stream",
     "text": [
      "2020-12-04 11:55:13 [scrapy.core.engine] DEBUG: Crawled (200) <GET https://carifilms.com/films/page/388?order=DESC&is_meta_key=0&orderby=title#038;is_meta_key=0&orderby=title> (referer: https://carifilms.com/films/page/387?order=DESC&is_meta_key=0&orderby=title)\n"
     ]
    },
    {
     "name": "stdout",
     "output_type": "stream",
     "text": [
      "https://carifilms.com/films/page/389?order=DESC&is_meta_key=0&orderby=title#038;is_meta_key=0&orderby=title\n",
      "389\n"
     ]
    },
    {
     "name": "stderr",
     "output_type": "stream",
     "text": [
      "2020-12-04 11:55:17 [scrapy.core.engine] DEBUG: Crawled (200) <GET https://carifilms.com/films/page/389?order=DESC&is_meta_key=0&orderby=title#038;is_meta_key=0&orderby=title> (referer: https://carifilms.com/films/page/388?order=DESC&is_meta_key=0&orderby=title)\n"
     ]
    },
    {
     "name": "stdout",
     "output_type": "stream",
     "text": [
      "https://carifilms.com/films/page/390?order=DESC&is_meta_key=0&orderby=title#038;is_meta_key=0&orderby=title\n",
      "390\n"
     ]
    },
    {
     "name": "stderr",
     "output_type": "stream",
     "text": [
      "2020-12-04 11:55:22 [scrapy.core.engine] DEBUG: Crawled (200) <GET https://carifilms.com/films/page/390?order=DESC&is_meta_key=0&orderby=title#038;is_meta_key=0&orderby=title> (referer: https://carifilms.com/films/page/389?order=DESC&is_meta_key=0&orderby=title)\n"
     ]
    },
    {
     "name": "stdout",
     "output_type": "stream",
     "text": [
      "https://carifilms.com/films/page/391?order=DESC&is_meta_key=0&orderby=title#038;is_meta_key=0&orderby=title\n",
      "391\n"
     ]
    },
    {
     "name": "stderr",
     "output_type": "stream",
     "text": [
      "2020-12-04 11:55:27 [scrapy.core.engine] DEBUG: Crawled (200) <GET https://carifilms.com/films/page/391?order=DESC&is_meta_key=0&orderby=title#038;is_meta_key=0&orderby=title> (referer: https://carifilms.com/films/page/390?order=DESC&is_meta_key=0&orderby=title)\n"
     ]
    },
    {
     "name": "stdout",
     "output_type": "stream",
     "text": [
      "https://carifilms.com/films/page/392?order=DESC&is_meta_key=0&orderby=title#038;is_meta_key=0&orderby=title\n",
      "392\n"
     ]
    },
    {
     "name": "stderr",
     "output_type": "stream",
     "text": [
      "2020-12-04 11:55:31 [scrapy.core.engine] DEBUG: Crawled (200) <GET https://carifilms.com/films/page/392?order=DESC&is_meta_key=0&orderby=title#038;is_meta_key=0&orderby=title> (referer: https://carifilms.com/films/page/391?order=DESC&is_meta_key=0&orderby=title)\n"
     ]
    },
    {
     "name": "stdout",
     "output_type": "stream",
     "text": [
      "https://carifilms.com/films/page/393?order=DESC&is_meta_key=0&orderby=title#038;is_meta_key=0&orderby=title\n",
      "393\n"
     ]
    },
    {
     "name": "stderr",
     "output_type": "stream",
     "text": [
      "2020-12-04 11:55:35 [scrapy.core.engine] DEBUG: Crawled (200) <GET https://carifilms.com/films/page/393?order=DESC&is_meta_key=0&orderby=title#038;is_meta_key=0&orderby=title> (referer: https://carifilms.com/films/page/392?order=DESC&is_meta_key=0&orderby=title)\n"
     ]
    },
    {
     "name": "stdout",
     "output_type": "stream",
     "text": [
      "https://carifilms.com/films/page/394?order=DESC&is_meta_key=0&orderby=title#038;is_meta_key=0&orderby=title\n",
      "394\n"
     ]
    },
    {
     "name": "stderr",
     "output_type": "stream",
     "text": [
      "2020-12-04 11:55:39 [scrapy.core.engine] DEBUG: Crawled (200) <GET https://carifilms.com/films/page/394?order=DESC&is_meta_key=0&orderby=title#038;is_meta_key=0&orderby=title> (referer: https://carifilms.com/films/page/393?order=DESC&is_meta_key=0&orderby=title)\n"
     ]
    },
    {
     "name": "stdout",
     "output_type": "stream",
     "text": [
      "https://carifilms.com/films/page/395?order=DESC&is_meta_key=0&orderby=title#038;is_meta_key=0&orderby=title\n",
      "395\n"
     ]
    },
    {
     "name": "stderr",
     "output_type": "stream",
     "text": [
      "2020-12-04 11:55:43 [scrapy.core.engine] DEBUG: Crawled (200) <GET https://carifilms.com/films/page/395?order=DESC&is_meta_key=0&orderby=title#038;is_meta_key=0&orderby=title> (referer: https://carifilms.com/films/page/394?order=DESC&is_meta_key=0&orderby=title)\n"
     ]
    },
    {
     "name": "stdout",
     "output_type": "stream",
     "text": [
      "https://carifilms.com/films/page/396?order=DESC&is_meta_key=0&orderby=title#038;is_meta_key=0&orderby=title\n",
      "396\n"
     ]
    },
    {
     "name": "stderr",
     "output_type": "stream",
     "text": [
      "2020-12-04 11:55:48 [scrapy.core.engine] DEBUG: Crawled (200) <GET https://carifilms.com/films/page/396?order=DESC&is_meta_key=0&orderby=title#038;is_meta_key=0&orderby=title> (referer: https://carifilms.com/films/page/395?order=DESC&is_meta_key=0&orderby=title)\n"
     ]
    },
    {
     "name": "stdout",
     "output_type": "stream",
     "text": [
      "https://carifilms.com/films/page/397?order=DESC&is_meta_key=0&orderby=title#038;is_meta_key=0&orderby=title\n",
      "397\n"
     ]
    },
    {
     "name": "stderr",
     "output_type": "stream",
     "text": [
      "2020-12-04 11:55:52 [scrapy.core.engine] DEBUG: Crawled (200) <GET https://carifilms.com/films/page/397?order=DESC&is_meta_key=0&orderby=title#038;is_meta_key=0&orderby=title> (referer: https://carifilms.com/films/page/396?order=DESC&is_meta_key=0&orderby=title)\n"
     ]
    },
    {
     "name": "stdout",
     "output_type": "stream",
     "text": [
      "https://carifilms.com/films/page/398?order=DESC&is_meta_key=0&orderby=title#038;is_meta_key=0&orderby=title\n",
      "398\n"
     ]
    },
    {
     "name": "stderr",
     "output_type": "stream",
     "text": [
      "2020-12-04 11:55:55 [scrapy.extensions.logstats] INFO: Crawled 397 pages (at 14 pages/min), scraped 0 items (at 0 items/min)\n",
      "2020-12-04 11:55:56 [scrapy.core.engine] DEBUG: Crawled (200) <GET https://carifilms.com/films/page/398?order=DESC&is_meta_key=0&orderby=title#038;is_meta_key=0&orderby=title> (referer: https://carifilms.com/films/page/397?order=DESC&is_meta_key=0&orderby=title)\n"
     ]
    },
    {
     "name": "stdout",
     "output_type": "stream",
     "text": [
      "https://carifilms.com/films/page/399?order=DESC&is_meta_key=0&orderby=title#038;is_meta_key=0&orderby=title\n",
      "399\n"
     ]
    },
    {
     "name": "stderr",
     "output_type": "stream",
     "text": [
      "2020-12-04 11:56:00 [scrapy.core.engine] DEBUG: Crawled (200) <GET https://carifilms.com/films/page/399?order=DESC&is_meta_key=0&orderby=title#038;is_meta_key=0&orderby=title> (referer: https://carifilms.com/films/page/398?order=DESC&is_meta_key=0&orderby=title)\n"
     ]
    },
    {
     "name": "stdout",
     "output_type": "stream",
     "text": [
      "https://carifilms.com/films/page/400?order=DESC&is_meta_key=0&orderby=title#038;is_meta_key=0&orderby=title\n",
      "400\n"
     ]
    },
    {
     "name": "stderr",
     "output_type": "stream",
     "text": [
      "2020-12-04 11:56:04 [scrapy.core.engine] DEBUG: Crawled (200) <GET https://carifilms.com/films/page/400?order=DESC&is_meta_key=0&orderby=title#038;is_meta_key=0&orderby=title> (referer: https://carifilms.com/films/page/399?order=DESC&is_meta_key=0&orderby=title)\n"
     ]
    },
    {
     "name": "stdout",
     "output_type": "stream",
     "text": [
      "https://carifilms.com/films/page/401?order=DESC&is_meta_key=0&orderby=title#038;is_meta_key=0&orderby=title\n",
      "401\n"
     ]
    },
    {
     "name": "stderr",
     "output_type": "stream",
     "text": [
      "2020-12-04 11:56:09 [scrapy.core.engine] DEBUG: Crawled (200) <GET https://carifilms.com/films/page/401?order=DESC&is_meta_key=0&orderby=title#038;is_meta_key=0&orderby=title> (referer: https://carifilms.com/films/page/400?order=DESC&is_meta_key=0&orderby=title)\n"
     ]
    },
    {
     "name": "stdout",
     "output_type": "stream",
     "text": [
      "https://carifilms.com/films/page/402?order=DESC&is_meta_key=0&orderby=title#038;is_meta_key=0&orderby=title\n",
      "402\n"
     ]
    },
    {
     "name": "stderr",
     "output_type": "stream",
     "text": [
      "2020-12-04 11:56:13 [scrapy.core.engine] DEBUG: Crawled (200) <GET https://carifilms.com/films/page/402?order=DESC&is_meta_key=0&orderby=title#038;is_meta_key=0&orderby=title> (referer: https://carifilms.com/films/page/401?order=DESC&is_meta_key=0&orderby=title)\n"
     ]
    },
    {
     "name": "stdout",
     "output_type": "stream",
     "text": [
      "https://carifilms.com/films/page/403?order=DESC&is_meta_key=0&orderby=title#038;is_meta_key=0&orderby=title\n",
      "403\n"
     ]
    },
    {
     "name": "stderr",
     "output_type": "stream",
     "text": [
      "2020-12-04 11:56:17 [scrapy.core.engine] DEBUG: Crawled (200) <GET https://carifilms.com/films/page/403?order=DESC&is_meta_key=0&orderby=title#038;is_meta_key=0&orderby=title> (referer: https://carifilms.com/films/page/402?order=DESC&is_meta_key=0&orderby=title)\n"
     ]
    },
    {
     "name": "stdout",
     "output_type": "stream",
     "text": [
      "https://carifilms.com/films/page/404?order=DESC&is_meta_key=0&orderby=title#038;is_meta_key=0&orderby=title\n",
      "404\n"
     ]
    },
    {
     "name": "stderr",
     "output_type": "stream",
     "text": [
      "2020-12-04 11:56:22 [scrapy.core.engine] DEBUG: Crawled (200) <GET https://carifilms.com/films/page/404?order=DESC&is_meta_key=0&orderby=title#038;is_meta_key=0&orderby=title> (referer: https://carifilms.com/films/page/403?order=DESC&is_meta_key=0&orderby=title)\n"
     ]
    },
    {
     "name": "stdout",
     "output_type": "stream",
     "text": [
      "https://carifilms.com/films/page/405?order=DESC&is_meta_key=0&orderby=title#038;is_meta_key=0&orderby=title\n",
      "405\n"
     ]
    },
    {
     "name": "stderr",
     "output_type": "stream",
     "text": [
      "2020-12-04 11:56:26 [scrapy.core.engine] DEBUG: Crawled (200) <GET https://carifilms.com/films/page/405?order=DESC&is_meta_key=0&orderby=title#038;is_meta_key=0&orderby=title> (referer: https://carifilms.com/films/page/404?order=DESC&is_meta_key=0&orderby=title)\n"
     ]
    },
    {
     "name": "stdout",
     "output_type": "stream",
     "text": [
      "https://carifilms.com/films/page/406?order=DESC&is_meta_key=0&orderby=title#038;is_meta_key=0&orderby=title\n",
      "406\n"
     ]
    },
    {
     "name": "stderr",
     "output_type": "stream",
     "text": [
      "2020-12-04 11:56:31 [scrapy.core.engine] DEBUG: Crawled (200) <GET https://carifilms.com/films/page/406?order=DESC&is_meta_key=0&orderby=title#038;is_meta_key=0&orderby=title> (referer: https://carifilms.com/films/page/405?order=DESC&is_meta_key=0&orderby=title)\n"
     ]
    },
    {
     "name": "stdout",
     "output_type": "stream",
     "text": [
      "https://carifilms.com/films/page/407?order=DESC&is_meta_key=0&orderby=title#038;is_meta_key=0&orderby=title\n",
      "407\n"
     ]
    },
    {
     "name": "stderr",
     "output_type": "stream",
     "text": [
      "2020-12-04 11:56:35 [scrapy.core.engine] DEBUG: Crawled (200) <GET https://carifilms.com/films/page/407?order=DESC&is_meta_key=0&orderby=title#038;is_meta_key=0&orderby=title> (referer: https://carifilms.com/films/page/406?order=DESC&is_meta_key=0&orderby=title)\n"
     ]
    },
    {
     "name": "stdout",
     "output_type": "stream",
     "text": [
      "https://carifilms.com/films/page/408?order=DESC&is_meta_key=0&orderby=title#038;is_meta_key=0&orderby=title\n",
      "408\n"
     ]
    },
    {
     "name": "stderr",
     "output_type": "stream",
     "text": [
      "2020-12-04 11:56:39 [scrapy.core.engine] DEBUG: Crawled (200) <GET https://carifilms.com/films/page/408?order=DESC&is_meta_key=0&orderby=title#038;is_meta_key=0&orderby=title> (referer: https://carifilms.com/films/page/407?order=DESC&is_meta_key=0&orderby=title)\n"
     ]
    },
    {
     "name": "stdout",
     "output_type": "stream",
     "text": [
      "https://carifilms.com/films/page/409?order=DESC&is_meta_key=0&orderby=title#038;is_meta_key=0&orderby=title\n",
      "409\n"
     ]
    },
    {
     "name": "stderr",
     "output_type": "stream",
     "text": [
      "2020-12-04 11:56:43 [scrapy.core.engine] DEBUG: Crawled (200) <GET https://carifilms.com/films/page/409?order=DESC&is_meta_key=0&orderby=title#038;is_meta_key=0&orderby=title> (referer: https://carifilms.com/films/page/408?order=DESC&is_meta_key=0&orderby=title)\n"
     ]
    },
    {
     "name": "stdout",
     "output_type": "stream",
     "text": [
      "https://carifilms.com/films/page/410?order=DESC&is_meta_key=0&orderby=title#038;is_meta_key=0&orderby=title\n",
      "410\n"
     ]
    },
    {
     "name": "stderr",
     "output_type": "stream",
     "text": [
      "2020-12-04 11:56:47 [scrapy.core.engine] DEBUG: Crawled (200) <GET https://carifilms.com/films/page/410?order=DESC&is_meta_key=0&orderby=title#038;is_meta_key=0&orderby=title> (referer: https://carifilms.com/films/page/409?order=DESC&is_meta_key=0&orderby=title)\n"
     ]
    },
    {
     "name": "stdout",
     "output_type": "stream",
     "text": [
      "https://carifilms.com/films/page/411?order=DESC&is_meta_key=0&orderby=title#038;is_meta_key=0&orderby=title\n",
      "411\n"
     ]
    },
    {
     "name": "stderr",
     "output_type": "stream",
     "text": [
      "2020-12-04 11:56:52 [scrapy.core.engine] DEBUG: Crawled (200) <GET https://carifilms.com/films/page/411?order=DESC&is_meta_key=0&orderby=title#038;is_meta_key=0&orderby=title> (referer: https://carifilms.com/films/page/410?order=DESC&is_meta_key=0&orderby=title)\n"
     ]
    },
    {
     "name": "stdout",
     "output_type": "stream",
     "text": [
      "https://carifilms.com/films/page/412?order=DESC&is_meta_key=0&orderby=title#038;is_meta_key=0&orderby=title\n",
      "412\n"
     ]
    },
    {
     "name": "stderr",
     "output_type": "stream",
     "text": [
      "2020-12-04 11:56:55 [scrapy.extensions.logstats] INFO: Crawled 411 pages (at 14 pages/min), scraped 0 items (at 0 items/min)\n",
      "2020-12-04 11:56:56 [scrapy.core.engine] DEBUG: Crawled (200) <GET https://carifilms.com/films/page/412?order=DESC&is_meta_key=0&orderby=title#038;is_meta_key=0&orderby=title> (referer: https://carifilms.com/films/page/411?order=DESC&is_meta_key=0&orderby=title)\n"
     ]
    },
    {
     "name": "stdout",
     "output_type": "stream",
     "text": [
      "https://carifilms.com/films/page/413?order=DESC&is_meta_key=0&orderby=title#038;is_meta_key=0&orderby=title\n",
      "413\n"
     ]
    },
    {
     "name": "stderr",
     "output_type": "stream",
     "text": [
      "2020-12-04 11:57:00 [scrapy.core.engine] DEBUG: Crawled (200) <GET https://carifilms.com/films/page/413?order=DESC&is_meta_key=0&orderby=title#038;is_meta_key=0&orderby=title> (referer: https://carifilms.com/films/page/412?order=DESC&is_meta_key=0&orderby=title)\n"
     ]
    },
    {
     "name": "stdout",
     "output_type": "stream",
     "text": [
      "https://carifilms.com/films/page/414?order=DESC&is_meta_key=0&orderby=title#038;is_meta_key=0&orderby=title\n",
      "414\n"
     ]
    },
    {
     "name": "stderr",
     "output_type": "stream",
     "text": [
      "2020-12-04 11:57:04 [scrapy.core.engine] DEBUG: Crawled (200) <GET https://carifilms.com/films/page/414?order=DESC&is_meta_key=0&orderby=title#038;is_meta_key=0&orderby=title> (referer: https://carifilms.com/films/page/413?order=DESC&is_meta_key=0&orderby=title)\n"
     ]
    },
    {
     "name": "stdout",
     "output_type": "stream",
     "text": [
      "https://carifilms.com/films/page/415?order=DESC&is_meta_key=0&orderby=title#038;is_meta_key=0&orderby=title\n",
      "415\n"
     ]
    },
    {
     "name": "stderr",
     "output_type": "stream",
     "text": [
      "2020-12-04 11:57:08 [scrapy.core.engine] DEBUG: Crawled (200) <GET https://carifilms.com/films/page/415?order=DESC&is_meta_key=0&orderby=title#038;is_meta_key=0&orderby=title> (referer: https://carifilms.com/films/page/414?order=DESC&is_meta_key=0&orderby=title)\n"
     ]
    },
    {
     "name": "stdout",
     "output_type": "stream",
     "text": [
      "https://carifilms.com/films/page/416?order=DESC&is_meta_key=0&orderby=title#038;is_meta_key=0&orderby=title\n",
      "416\n"
     ]
    },
    {
     "name": "stderr",
     "output_type": "stream",
     "text": [
      "2020-12-04 11:57:13 [scrapy.core.engine] DEBUG: Crawled (200) <GET https://carifilms.com/films/page/416?order=DESC&is_meta_key=0&orderby=title#038;is_meta_key=0&orderby=title> (referer: https://carifilms.com/films/page/415?order=DESC&is_meta_key=0&orderby=title)\n"
     ]
    },
    {
     "name": "stdout",
     "output_type": "stream",
     "text": [
      "https://carifilms.com/films/page/417?order=DESC&is_meta_key=0&orderby=title#038;is_meta_key=0&orderby=title\n",
      "417\n"
     ]
    },
    {
     "name": "stderr",
     "output_type": "stream",
     "text": [
      "2020-12-04 11:57:17 [scrapy.core.engine] DEBUG: Crawled (200) <GET https://carifilms.com/films/page/417?order=DESC&is_meta_key=0&orderby=title#038;is_meta_key=0&orderby=title> (referer: https://carifilms.com/films/page/416?order=DESC&is_meta_key=0&orderby=title)\n"
     ]
    },
    {
     "name": "stdout",
     "output_type": "stream",
     "text": [
      "https://carifilms.com/films/page/418?order=DESC&is_meta_key=0&orderby=title#038;is_meta_key=0&orderby=title\n",
      "418\n"
     ]
    },
    {
     "name": "stderr",
     "output_type": "stream",
     "text": [
      "2020-12-04 11:57:21 [scrapy.core.engine] DEBUG: Crawled (200) <GET https://carifilms.com/films/page/418?order=DESC&is_meta_key=0&orderby=title#038;is_meta_key=0&orderby=title> (referer: https://carifilms.com/films/page/417?order=DESC&is_meta_key=0&orderby=title)\n"
     ]
    },
    {
     "name": "stdout",
     "output_type": "stream",
     "text": [
      "https://carifilms.com/films/page/419?order=DESC&is_meta_key=0&orderby=title#038;is_meta_key=0&orderby=title\n",
      "419\n"
     ]
    },
    {
     "name": "stderr",
     "output_type": "stream",
     "text": [
      "2020-12-04 11:57:25 [scrapy.core.engine] DEBUG: Crawled (200) <GET https://carifilms.com/films/page/419?order=DESC&is_meta_key=0&orderby=title#038;is_meta_key=0&orderby=title> (referer: https://carifilms.com/films/page/418?order=DESC&is_meta_key=0&orderby=title)\n"
     ]
    },
    {
     "name": "stdout",
     "output_type": "stream",
     "text": [
      "https://carifilms.com/films/page/420?order=DESC&is_meta_key=0&orderby=title#038;is_meta_key=0&orderby=title\n",
      "420\n"
     ]
    },
    {
     "name": "stderr",
     "output_type": "stream",
     "text": [
      "2020-12-04 11:57:29 [scrapy.core.engine] DEBUG: Crawled (200) <GET https://carifilms.com/films/page/420?order=DESC&is_meta_key=0&orderby=title#038;is_meta_key=0&orderby=title> (referer: https://carifilms.com/films/page/419?order=DESC&is_meta_key=0&orderby=title)\n"
     ]
    },
    {
     "name": "stdout",
     "output_type": "stream",
     "text": [
      "https://carifilms.com/films/page/421?order=DESC&is_meta_key=0&orderby=title#038;is_meta_key=0&orderby=title\n",
      "421\n"
     ]
    },
    {
     "name": "stderr",
     "output_type": "stream",
     "text": [
      "2020-12-04 11:57:34 [scrapy.core.engine] DEBUG: Crawled (200) <GET https://carifilms.com/films/page/421?order=DESC&is_meta_key=0&orderby=title#038;is_meta_key=0&orderby=title> (referer: https://carifilms.com/films/page/420?order=DESC&is_meta_key=0&orderby=title)\n"
     ]
    },
    {
     "name": "stdout",
     "output_type": "stream",
     "text": [
      "https://carifilms.com/films/page/422?order=DESC&is_meta_key=0&orderby=title#038;is_meta_key=0&orderby=title\n",
      "422\n"
     ]
    },
    {
     "name": "stderr",
     "output_type": "stream",
     "text": [
      "2020-12-04 11:57:39 [scrapy.core.engine] DEBUG: Crawled (200) <GET https://carifilms.com/films/page/422?order=DESC&is_meta_key=0&orderby=title#038;is_meta_key=0&orderby=title> (referer: https://carifilms.com/films/page/421?order=DESC&is_meta_key=0&orderby=title)\n"
     ]
    },
    {
     "name": "stdout",
     "output_type": "stream",
     "text": [
      "https://carifilms.com/films/page/423?order=DESC&is_meta_key=0&orderby=title#038;is_meta_key=0&orderby=title\n",
      "423\n"
     ]
    },
    {
     "name": "stderr",
     "output_type": "stream",
     "text": [
      "2020-12-04 11:57:43 [scrapy.core.engine] DEBUG: Crawled (200) <GET https://carifilms.com/films/page/423?order=DESC&is_meta_key=0&orderby=title#038;is_meta_key=0&orderby=title> (referer: https://carifilms.com/films/page/422?order=DESC&is_meta_key=0&orderby=title)\n"
     ]
    },
    {
     "name": "stdout",
     "output_type": "stream",
     "text": [
      "https://carifilms.com/films/page/424?order=DESC&is_meta_key=0&orderby=title#038;is_meta_key=0&orderby=title\n",
      "424\n"
     ]
    },
    {
     "name": "stderr",
     "output_type": "stream",
     "text": [
      "2020-12-04 11:57:47 [scrapy.core.engine] DEBUG: Crawled (200) <GET https://carifilms.com/films/page/424?order=DESC&is_meta_key=0&orderby=title#038;is_meta_key=0&orderby=title> (referer: https://carifilms.com/films/page/423?order=DESC&is_meta_key=0&orderby=title)\n"
     ]
    },
    {
     "name": "stdout",
     "output_type": "stream",
     "text": [
      "https://carifilms.com/films/page/425?order=DESC&is_meta_key=0&orderby=title#038;is_meta_key=0&orderby=title\n",
      "425\n"
     ]
    },
    {
     "name": "stderr",
     "output_type": "stream",
     "text": [
      "2020-12-04 11:57:52 [scrapy.core.engine] DEBUG: Crawled (200) <GET https://carifilms.com/films/page/425?order=DESC&is_meta_key=0&orderby=title#038;is_meta_key=0&orderby=title> (referer: https://carifilms.com/films/page/424?order=DESC&is_meta_key=0&orderby=title)\n"
     ]
    },
    {
     "name": "stdout",
     "output_type": "stream",
     "text": [
      "https://carifilms.com/films/page/426?order=DESC&is_meta_key=0&orderby=title#038;is_meta_key=0&orderby=title\n",
      "426\n"
     ]
    },
    {
     "name": "stderr",
     "output_type": "stream",
     "text": [
      "2020-12-04 11:57:55 [scrapy.extensions.logstats] INFO: Crawled 425 pages (at 14 pages/min), scraped 0 items (at 0 items/min)\n",
      "2020-12-04 11:57:56 [scrapy.core.engine] DEBUG: Crawled (200) <GET https://carifilms.com/films/page/426?order=DESC&is_meta_key=0&orderby=title#038;is_meta_key=0&orderby=title> (referer: https://carifilms.com/films/page/425?order=DESC&is_meta_key=0&orderby=title)\n"
     ]
    },
    {
     "name": "stdout",
     "output_type": "stream",
     "text": [
      "https://carifilms.com/films/page/427?order=DESC&is_meta_key=0&orderby=title#038;is_meta_key=0&orderby=title\n",
      "427\n"
     ]
    },
    {
     "name": "stderr",
     "output_type": "stream",
     "text": [
      "2020-12-04 11:58:01 [scrapy.core.engine] DEBUG: Crawled (200) <GET https://carifilms.com/films/page/427?order=DESC&is_meta_key=0&orderby=title#038;is_meta_key=0&orderby=title> (referer: https://carifilms.com/films/page/426?order=DESC&is_meta_key=0&orderby=title)\n"
     ]
    },
    {
     "name": "stdout",
     "output_type": "stream",
     "text": [
      "https://carifilms.com/films/page/428?order=DESC&is_meta_key=0&orderby=title#038;is_meta_key=0&orderby=title\n",
      "428\n"
     ]
    },
    {
     "name": "stderr",
     "output_type": "stream",
     "text": [
      "2020-12-04 11:58:05 [scrapy.core.engine] DEBUG: Crawled (200) <GET https://carifilms.com/films/page/428?order=DESC&is_meta_key=0&orderby=title#038;is_meta_key=0&orderby=title> (referer: https://carifilms.com/films/page/427?order=DESC&is_meta_key=0&orderby=title)\n"
     ]
    },
    {
     "name": "stdout",
     "output_type": "stream",
     "text": [
      "https://carifilms.com/films/page/429?order=DESC&is_meta_key=0&orderby=title#038;is_meta_key=0&orderby=title\n",
      "429\n"
     ]
    },
    {
     "name": "stderr",
     "output_type": "stream",
     "text": [
      "2020-12-04 11:58:09 [scrapy.core.engine] DEBUG: Crawled (200) <GET https://carifilms.com/films/page/429?order=DESC&is_meta_key=0&orderby=title#038;is_meta_key=0&orderby=title> (referer: https://carifilms.com/films/page/428?order=DESC&is_meta_key=0&orderby=title)\n"
     ]
    },
    {
     "name": "stdout",
     "output_type": "stream",
     "text": [
      "https://carifilms.com/films/page/430?order=DESC&is_meta_key=0&orderby=title#038;is_meta_key=0&orderby=title\n",
      "430\n"
     ]
    },
    {
     "name": "stderr",
     "output_type": "stream",
     "text": [
      "2020-12-04 11:58:13 [scrapy.core.engine] DEBUG: Crawled (200) <GET https://carifilms.com/films/page/430?order=DESC&is_meta_key=0&orderby=title#038;is_meta_key=0&orderby=title> (referer: https://carifilms.com/films/page/429?order=DESC&is_meta_key=0&orderby=title)\n"
     ]
    },
    {
     "name": "stdout",
     "output_type": "stream",
     "text": [
      "https://carifilms.com/films/page/431?order=DESC&is_meta_key=0&orderby=title#038;is_meta_key=0&orderby=title\n",
      "431\n"
     ]
    },
    {
     "name": "stderr",
     "output_type": "stream",
     "text": [
      "2020-12-04 11:58:18 [scrapy.core.engine] DEBUG: Crawled (200) <GET https://carifilms.com/films/page/431?order=DESC&is_meta_key=0&orderby=title#038;is_meta_key=0&orderby=title> (referer: https://carifilms.com/films/page/430?order=DESC&is_meta_key=0&orderby=title)\n"
     ]
    },
    {
     "name": "stdout",
     "output_type": "stream",
     "text": [
      "https://carifilms.com/films/page/432?order=DESC&is_meta_key=0&orderby=title#038;is_meta_key=0&orderby=title\n",
      "432\n"
     ]
    },
    {
     "name": "stderr",
     "output_type": "stream",
     "text": [
      "2020-12-04 11:58:22 [scrapy.core.engine] DEBUG: Crawled (200) <GET https://carifilms.com/films/page/432?order=DESC&is_meta_key=0&orderby=title#038;is_meta_key=0&orderby=title> (referer: https://carifilms.com/films/page/431?order=DESC&is_meta_key=0&orderby=title)\n"
     ]
    },
    {
     "name": "stdout",
     "output_type": "stream",
     "text": [
      "https://carifilms.com/films/page/433?order=DESC&is_meta_key=0&orderby=title#038;is_meta_key=0&orderby=title\n",
      "433\n"
     ]
    },
    {
     "name": "stderr",
     "output_type": "stream",
     "text": [
      "2020-12-04 11:58:26 [scrapy.core.engine] DEBUG: Crawled (200) <GET https://carifilms.com/films/page/433?order=DESC&is_meta_key=0&orderby=title#038;is_meta_key=0&orderby=title> (referer: https://carifilms.com/films/page/432?order=DESC&is_meta_key=0&orderby=title)\n"
     ]
    },
    {
     "name": "stdout",
     "output_type": "stream",
     "text": [
      "https://carifilms.com/films/page/434?order=DESC&is_meta_key=0&orderby=title#038;is_meta_key=0&orderby=title\n",
      "434\n"
     ]
    },
    {
     "name": "stderr",
     "output_type": "stream",
     "text": [
      "2020-12-04 11:58:30 [scrapy.core.engine] DEBUG: Crawled (200) <GET https://carifilms.com/films/page/434?order=DESC&is_meta_key=0&orderby=title#038;is_meta_key=0&orderby=title> (referer: https://carifilms.com/films/page/433?order=DESC&is_meta_key=0&orderby=title)\n"
     ]
    },
    {
     "name": "stdout",
     "output_type": "stream",
     "text": [
      "https://carifilms.com/films/page/435?order=DESC&is_meta_key=0&orderby=title#038;is_meta_key=0&orderby=title\n",
      "435\n"
     ]
    },
    {
     "name": "stderr",
     "output_type": "stream",
     "text": [
      "2020-12-04 11:58:34 [scrapy.core.engine] DEBUG: Crawled (200) <GET https://carifilms.com/films/page/435?order=DESC&is_meta_key=0&orderby=title#038;is_meta_key=0&orderby=title> (referer: https://carifilms.com/films/page/434?order=DESC&is_meta_key=0&orderby=title)\n"
     ]
    },
    {
     "name": "stdout",
     "output_type": "stream",
     "text": [
      "https://carifilms.com/films/page/436?order=DESC&is_meta_key=0&orderby=title#038;is_meta_key=0&orderby=title\n",
      "436\n"
     ]
    },
    {
     "name": "stderr",
     "output_type": "stream",
     "text": [
      "2020-12-04 11:58:39 [scrapy.core.engine] DEBUG: Crawled (200) <GET https://carifilms.com/films/page/436?order=DESC&is_meta_key=0&orderby=title#038;is_meta_key=0&orderby=title> (referer: https://carifilms.com/films/page/435?order=DESC&is_meta_key=0&orderby=title)\n"
     ]
    },
    {
     "name": "stdout",
     "output_type": "stream",
     "text": [
      "https://carifilms.com/films/page/437?order=DESC&is_meta_key=0&orderby=title#038;is_meta_key=0&orderby=title\n",
      "437\n"
     ]
    },
    {
     "name": "stderr",
     "output_type": "stream",
     "text": [
      "2020-12-04 11:58:44 [scrapy.core.engine] DEBUG: Crawled (200) <GET https://carifilms.com/films/page/437?order=DESC&is_meta_key=0&orderby=title#038;is_meta_key=0&orderby=title> (referer: https://carifilms.com/films/page/436?order=DESC&is_meta_key=0&orderby=title)\n"
     ]
    },
    {
     "name": "stdout",
     "output_type": "stream",
     "text": [
      "https://carifilms.com/films/page/438?order=DESC&is_meta_key=0&orderby=title#038;is_meta_key=0&orderby=title\n",
      "438\n"
     ]
    },
    {
     "name": "stderr",
     "output_type": "stream",
     "text": [
      "2020-12-04 11:58:48 [scrapy.core.engine] DEBUG: Crawled (200) <GET https://carifilms.com/films/page/438?order=DESC&is_meta_key=0&orderby=title#038;is_meta_key=0&orderby=title> (referer: https://carifilms.com/films/page/437?order=DESC&is_meta_key=0&orderby=title)\n"
     ]
    },
    {
     "name": "stdout",
     "output_type": "stream",
     "text": [
      "https://carifilms.com/films/page/439?order=DESC&is_meta_key=0&orderby=title#038;is_meta_key=0&orderby=title\n",
      "439\n"
     ]
    },
    {
     "name": "stderr",
     "output_type": "stream",
     "text": [
      "2020-12-04 11:58:53 [scrapy.core.engine] DEBUG: Crawled (200) <GET https://carifilms.com/films/page/439?order=DESC&is_meta_key=0&orderby=title#038;is_meta_key=0&orderby=title> (referer: https://carifilms.com/films/page/438?order=DESC&is_meta_key=0&orderby=title)\n"
     ]
    },
    {
     "name": "stdout",
     "output_type": "stream",
     "text": [
      "https://carifilms.com/films/page/440?order=DESC&is_meta_key=0&orderby=title#038;is_meta_key=0&orderby=title\n",
      "440\n"
     ]
    },
    {
     "name": "stderr",
     "output_type": "stream",
     "text": [
      "2020-12-04 11:58:55 [scrapy.extensions.logstats] INFO: Crawled 439 pages (at 14 pages/min), scraped 0 items (at 0 items/min)\n",
      "2020-12-04 11:58:57 [scrapy.core.engine] DEBUG: Crawled (200) <GET https://carifilms.com/films/page/440?order=DESC&is_meta_key=0&orderby=title#038;is_meta_key=0&orderby=title> (referer: https://carifilms.com/films/page/439?order=DESC&is_meta_key=0&orderby=title)\n"
     ]
    },
    {
     "name": "stdout",
     "output_type": "stream",
     "text": [
      "https://carifilms.com/films/page/441?order=DESC&is_meta_key=0&orderby=title#038;is_meta_key=0&orderby=title\n",
      "441\n"
     ]
    },
    {
     "name": "stderr",
     "output_type": "stream",
     "text": [
      "2020-12-04 11:59:01 [scrapy.core.engine] DEBUG: Crawled (200) <GET https://carifilms.com/films/page/441?order=DESC&is_meta_key=0&orderby=title#038;is_meta_key=0&orderby=title> (referer: https://carifilms.com/films/page/440?order=DESC&is_meta_key=0&orderby=title)\n"
     ]
    },
    {
     "name": "stdout",
     "output_type": "stream",
     "text": [
      "https://carifilms.com/films/page/442?order=DESC&is_meta_key=0&orderby=title#038;is_meta_key=0&orderby=title\n",
      "442\n"
     ]
    },
    {
     "name": "stderr",
     "output_type": "stream",
     "text": [
      "2020-12-04 11:59:06 [scrapy.core.engine] DEBUG: Crawled (200) <GET https://carifilms.com/films/page/442?order=DESC&is_meta_key=0&orderby=title#038;is_meta_key=0&orderby=title> (referer: https://carifilms.com/films/page/441?order=DESC&is_meta_key=0&orderby=title)\n"
     ]
    },
    {
     "name": "stdout",
     "output_type": "stream",
     "text": [
      "https://carifilms.com/films/page/443?order=DESC&is_meta_key=0&orderby=title#038;is_meta_key=0&orderby=title\n",
      "443\n"
     ]
    },
    {
     "name": "stderr",
     "output_type": "stream",
     "text": [
      "2020-12-04 11:59:10 [scrapy.core.engine] DEBUG: Crawled (200) <GET https://carifilms.com/films/page/443?order=DESC&is_meta_key=0&orderby=title#038;is_meta_key=0&orderby=title> (referer: https://carifilms.com/films/page/442?order=DESC&is_meta_key=0&orderby=title)\n"
     ]
    },
    {
     "name": "stdout",
     "output_type": "stream",
     "text": [
      "https://carifilms.com/films/page/444?order=DESC&is_meta_key=0&orderby=title#038;is_meta_key=0&orderby=title\n",
      "444\n"
     ]
    },
    {
     "name": "stderr",
     "output_type": "stream",
     "text": [
      "2020-12-04 11:59:15 [scrapy.core.engine] DEBUG: Crawled (200) <GET https://carifilms.com/films/page/444?order=DESC&is_meta_key=0&orderby=title#038;is_meta_key=0&orderby=title> (referer: https://carifilms.com/films/page/443?order=DESC&is_meta_key=0&orderby=title)\n"
     ]
    },
    {
     "name": "stdout",
     "output_type": "stream",
     "text": [
      "https://carifilms.com/films/page/445?order=DESC&is_meta_key=0&orderby=title#038;is_meta_key=0&orderby=title\n",
      "445\n"
     ]
    },
    {
     "name": "stderr",
     "output_type": "stream",
     "text": [
      "2020-12-04 11:59:19 [scrapy.core.engine] DEBUG: Crawled (200) <GET https://carifilms.com/films/page/445?order=DESC&is_meta_key=0&orderby=title#038;is_meta_key=0&orderby=title> (referer: https://carifilms.com/films/page/444?order=DESC&is_meta_key=0&orderby=title)\n"
     ]
    },
    {
     "name": "stdout",
     "output_type": "stream",
     "text": [
      "https://carifilms.com/films/page/446?order=DESC&is_meta_key=0&orderby=title#038;is_meta_key=0&orderby=title\n",
      "446\n"
     ]
    },
    {
     "name": "stderr",
     "output_type": "stream",
     "text": [
      "2020-12-04 11:59:24 [scrapy.core.engine] DEBUG: Crawled (200) <GET https://carifilms.com/films/page/446?order=DESC&is_meta_key=0&orderby=title#038;is_meta_key=0&orderby=title> (referer: https://carifilms.com/films/page/445?order=DESC&is_meta_key=0&orderby=title)\n"
     ]
    },
    {
     "name": "stdout",
     "output_type": "stream",
     "text": [
      "https://carifilms.com/films/page/447?order=DESC&is_meta_key=0&orderby=title#038;is_meta_key=0&orderby=title\n",
      "447\n"
     ]
    },
    {
     "name": "stderr",
     "output_type": "stream",
     "text": [
      "2020-12-04 11:59:28 [scrapy.core.engine] DEBUG: Crawled (200) <GET https://carifilms.com/films/page/447?order=DESC&is_meta_key=0&orderby=title#038;is_meta_key=0&orderby=title> (referer: https://carifilms.com/films/page/446?order=DESC&is_meta_key=0&orderby=title)\n"
     ]
    },
    {
     "name": "stdout",
     "output_type": "stream",
     "text": [
      "https://carifilms.com/films/page/448?order=DESC&is_meta_key=0&orderby=title#038;is_meta_key=0&orderby=title\n",
      "448\n"
     ]
    },
    {
     "name": "stderr",
     "output_type": "stream",
     "text": [
      "2020-12-04 11:59:32 [scrapy.core.engine] DEBUG: Crawled (200) <GET https://carifilms.com/films/page/448?order=DESC&is_meta_key=0&orderby=title#038;is_meta_key=0&orderby=title> (referer: https://carifilms.com/films/page/447?order=DESC&is_meta_key=0&orderby=title)\n"
     ]
    },
    {
     "name": "stdout",
     "output_type": "stream",
     "text": [
      "https://carifilms.com/films/page/449?order=DESC&is_meta_key=0&orderby=title#038;is_meta_key=0&orderby=title\n",
      "449\n"
     ]
    },
    {
     "name": "stderr",
     "output_type": "stream",
     "text": [
      "2020-12-04 11:59:36 [scrapy.core.engine] DEBUG: Crawled (200) <GET https://carifilms.com/films/page/449?order=DESC&is_meta_key=0&orderby=title#038;is_meta_key=0&orderby=title> (referer: https://carifilms.com/films/page/448?order=DESC&is_meta_key=0&orderby=title)\n"
     ]
    },
    {
     "name": "stdout",
     "output_type": "stream",
     "text": [
      "https://carifilms.com/films/page/450?order=DESC&is_meta_key=0&orderby=title#038;is_meta_key=0&orderby=title\n",
      "450\n"
     ]
    },
    {
     "name": "stderr",
     "output_type": "stream",
     "text": [
      "2020-12-04 11:59:40 [scrapy.core.engine] DEBUG: Crawled (200) <GET https://carifilms.com/films/page/450?order=DESC&is_meta_key=0&orderby=title#038;is_meta_key=0&orderby=title> (referer: https://carifilms.com/films/page/449?order=DESC&is_meta_key=0&orderby=title)\n"
     ]
    },
    {
     "name": "stdout",
     "output_type": "stream",
     "text": [
      "https://carifilms.com/films/page/451?order=DESC&is_meta_key=0&orderby=title#038;is_meta_key=0&orderby=title\n",
      "451\n"
     ]
    },
    {
     "name": "stderr",
     "output_type": "stream",
     "text": [
      "2020-12-04 11:59:45 [scrapy.core.engine] DEBUG: Crawled (200) <GET https://carifilms.com/films/page/451?order=DESC&is_meta_key=0&orderby=title#038;is_meta_key=0&orderby=title> (referer: https://carifilms.com/films/page/450?order=DESC&is_meta_key=0&orderby=title)\n"
     ]
    },
    {
     "name": "stdout",
     "output_type": "stream",
     "text": [
      "https://carifilms.com/films/page/452?order=DESC&is_meta_key=0&orderby=title#038;is_meta_key=0&orderby=title\n",
      "452\n"
     ]
    },
    {
     "name": "stderr",
     "output_type": "stream",
     "text": [
      "2020-12-04 11:59:49 [scrapy.core.engine] DEBUG: Crawled (200) <GET https://carifilms.com/films/page/452?order=DESC&is_meta_key=0&orderby=title#038;is_meta_key=0&orderby=title> (referer: https://carifilms.com/films/page/451?order=DESC&is_meta_key=0&orderby=title)\n"
     ]
    },
    {
     "name": "stdout",
     "output_type": "stream",
     "text": [
      "https://carifilms.com/films/page/453?order=DESC&is_meta_key=0&orderby=title#038;is_meta_key=0&orderby=title\n",
      "453\n"
     ]
    },
    {
     "name": "stderr",
     "output_type": "stream",
     "text": [
      "2020-12-04 11:59:53 [scrapy.core.engine] DEBUG: Crawled (200) <GET https://carifilms.com/films/page/453?order=DESC&is_meta_key=0&orderby=title#038;is_meta_key=0&orderby=title> (referer: https://carifilms.com/films/page/452?order=DESC&is_meta_key=0&orderby=title)\n"
     ]
    },
    {
     "name": "stdout",
     "output_type": "stream",
     "text": [
      "https://carifilms.com/films/page/454?order=DESC&is_meta_key=0&orderby=title#038;is_meta_key=0&orderby=title\n",
      "454\n"
     ]
    },
    {
     "name": "stderr",
     "output_type": "stream",
     "text": [
      "2020-12-04 11:59:55 [scrapy.extensions.logstats] INFO: Crawled 453 pages (at 14 pages/min), scraped 0 items (at 0 items/min)\n",
      "2020-12-04 11:59:58 [scrapy.core.engine] DEBUG: Crawled (200) <GET https://carifilms.com/films/page/454?order=DESC&is_meta_key=0&orderby=title#038;is_meta_key=0&orderby=title> (referer: https://carifilms.com/films/page/453?order=DESC&is_meta_key=0&orderby=title)\n"
     ]
    },
    {
     "name": "stdout",
     "output_type": "stream",
     "text": [
      "https://carifilms.com/films/page/455?order=DESC&is_meta_key=0&orderby=title#038;is_meta_key=0&orderby=title\n",
      "455\n"
     ]
    },
    {
     "name": "stderr",
     "output_type": "stream",
     "text": [
      "2020-12-04 12:00:04 [scrapy.core.engine] DEBUG: Crawled (200) <GET https://carifilms.com/films/page/455?order=DESC&is_meta_key=0&orderby=title#038;is_meta_key=0&orderby=title> (referer: https://carifilms.com/films/page/454?order=DESC&is_meta_key=0&orderby=title)\n"
     ]
    },
    {
     "name": "stdout",
     "output_type": "stream",
     "text": [
      "https://carifilms.com/films/page/456?order=DESC&is_meta_key=0&orderby=title#038;is_meta_key=0&orderby=title\n",
      "456\n"
     ]
    },
    {
     "name": "stderr",
     "output_type": "stream",
     "text": [
      "2020-12-04 12:00:08 [scrapy.core.engine] DEBUG: Crawled (200) <GET https://carifilms.com/films/page/456?order=DESC&is_meta_key=0&orderby=title#038;is_meta_key=0&orderby=title> (referer: https://carifilms.com/films/page/455?order=DESC&is_meta_key=0&orderby=title)\n"
     ]
    },
    {
     "name": "stdout",
     "output_type": "stream",
     "text": [
      "https://carifilms.com/films/page/457?order=DESC&is_meta_key=0&orderby=title#038;is_meta_key=0&orderby=title\n",
      "457\n"
     ]
    },
    {
     "name": "stderr",
     "output_type": "stream",
     "text": [
      "2020-12-04 12:00:13 [scrapy.core.engine] DEBUG: Crawled (200) <GET https://carifilms.com/films/page/457?order=DESC&is_meta_key=0&orderby=title#038;is_meta_key=0&orderby=title> (referer: https://carifilms.com/films/page/456?order=DESC&is_meta_key=0&orderby=title)\n"
     ]
    },
    {
     "name": "stdout",
     "output_type": "stream",
     "text": [
      "https://carifilms.com/films/page/458?order=DESC&is_meta_key=0&orderby=title#038;is_meta_key=0&orderby=title\n",
      "458\n"
     ]
    },
    {
     "name": "stderr",
     "output_type": "stream",
     "text": [
      "2020-12-04 12:00:20 [scrapy.core.engine] DEBUG: Crawled (200) <GET https://carifilms.com/films/page/458?order=DESC&is_meta_key=0&orderby=title#038;is_meta_key=0&orderby=title> (referer: https://carifilms.com/films/page/457?order=DESC&is_meta_key=0&orderby=title)\n"
     ]
    },
    {
     "name": "stdout",
     "output_type": "stream",
     "text": [
      "https://carifilms.com/films/page/459?order=DESC&is_meta_key=0&orderby=title#038;is_meta_key=0&orderby=title\n",
      "459\n"
     ]
    },
    {
     "name": "stderr",
     "output_type": "stream",
     "text": [
      "2020-12-04 12:00:26 [scrapy.core.engine] DEBUG: Crawled (200) <GET https://carifilms.com/films/page/459?order=DESC&is_meta_key=0&orderby=title#038;is_meta_key=0&orderby=title> (referer: https://carifilms.com/films/page/458?order=DESC&is_meta_key=0&orderby=title)\n"
     ]
    },
    {
     "name": "stdout",
     "output_type": "stream",
     "text": [
      "https://carifilms.com/films/page/460?order=DESC&is_meta_key=0&orderby=title#038;is_meta_key=0&orderby=title\n",
      "460\n"
     ]
    },
    {
     "name": "stderr",
     "output_type": "stream",
     "text": [
      "2020-12-04 12:00:30 [scrapy.core.engine] DEBUG: Crawled (200) <GET https://carifilms.com/films/page/460?order=DESC&is_meta_key=0&orderby=title#038;is_meta_key=0&orderby=title> (referer: https://carifilms.com/films/page/459?order=DESC&is_meta_key=0&orderby=title)\n"
     ]
    },
    {
     "name": "stdout",
     "output_type": "stream",
     "text": [
      "https://carifilms.com/films/page/461?order=DESC&is_meta_key=0&orderby=title#038;is_meta_key=0&orderby=title\n",
      "461\n"
     ]
    },
    {
     "name": "stderr",
     "output_type": "stream",
     "text": [
      "2020-12-04 12:00:34 [scrapy.core.engine] DEBUG: Crawled (200) <GET https://carifilms.com/films/page/461?order=DESC&is_meta_key=0&orderby=title#038;is_meta_key=0&orderby=title> (referer: https://carifilms.com/films/page/460?order=DESC&is_meta_key=0&orderby=title)\n"
     ]
    },
    {
     "name": "stdout",
     "output_type": "stream",
     "text": [
      "https://carifilms.com/films/page/462?order=DESC&is_meta_key=0&orderby=title#038;is_meta_key=0&orderby=title\n",
      "462\n"
     ]
    },
    {
     "name": "stderr",
     "output_type": "stream",
     "text": [
      "2020-12-04 12:00:39 [scrapy.core.engine] DEBUG: Crawled (200) <GET https://carifilms.com/films/page/462?order=DESC&is_meta_key=0&orderby=title#038;is_meta_key=0&orderby=title> (referer: https://carifilms.com/films/page/461?order=DESC&is_meta_key=0&orderby=title)\n"
     ]
    },
    {
     "name": "stdout",
     "output_type": "stream",
     "text": [
      "https://carifilms.com/films/page/463?order=DESC&is_meta_key=0&orderby=title#038;is_meta_key=0&orderby=title\n",
      "463\n"
     ]
    },
    {
     "name": "stderr",
     "output_type": "stream",
     "text": [
      "2020-12-04 12:00:43 [scrapy.core.engine] DEBUG: Crawled (200) <GET https://carifilms.com/films/page/463?order=DESC&is_meta_key=0&orderby=title#038;is_meta_key=0&orderby=title> (referer: https://carifilms.com/films/page/462?order=DESC&is_meta_key=0&orderby=title)\n"
     ]
    },
    {
     "name": "stdout",
     "output_type": "stream",
     "text": [
      "https://carifilms.com/films/page/464?order=DESC&is_meta_key=0&orderby=title#038;is_meta_key=0&orderby=title\n",
      "464\n"
     ]
    },
    {
     "name": "stderr",
     "output_type": "stream",
     "text": [
      "2020-12-04 12:00:47 [scrapy.core.engine] DEBUG: Crawled (200) <GET https://carifilms.com/films/page/464?order=DESC&is_meta_key=0&orderby=title#038;is_meta_key=0&orderby=title> (referer: https://carifilms.com/films/page/463?order=DESC&is_meta_key=0&orderby=title)\n"
     ]
    },
    {
     "name": "stdout",
     "output_type": "stream",
     "text": [
      "https://carifilms.com/films/page/465?order=DESC&is_meta_key=0&orderby=title#038;is_meta_key=0&orderby=title\n",
      "465\n"
     ]
    },
    {
     "name": "stderr",
     "output_type": "stream",
     "text": [
      "2020-12-04 12:00:51 [scrapy.core.engine] DEBUG: Crawled (200) <GET https://carifilms.com/films/page/465?order=DESC&is_meta_key=0&orderby=title#038;is_meta_key=0&orderby=title> (referer: https://carifilms.com/films/page/464?order=DESC&is_meta_key=0&orderby=title)\n"
     ]
    },
    {
     "name": "stdout",
     "output_type": "stream",
     "text": [
      "https://carifilms.com/films/page/466?order=DESC&is_meta_key=0&orderby=title#038;is_meta_key=0&orderby=title\n",
      "466\n"
     ]
    },
    {
     "name": "stderr",
     "output_type": "stream",
     "text": [
      "2020-12-04 12:00:55 [scrapy.extensions.logstats] INFO: Crawled 465 pages (at 12 pages/min), scraped 0 items (at 0 items/min)\n",
      "2020-12-04 12:00:56 [scrapy.core.engine] DEBUG: Crawled (200) <GET https://carifilms.com/films/page/466?order=DESC&is_meta_key=0&orderby=title#038;is_meta_key=0&orderby=title> (referer: https://carifilms.com/films/page/465?order=DESC&is_meta_key=0&orderby=title)\n"
     ]
    },
    {
     "name": "stdout",
     "output_type": "stream",
     "text": [
      "https://carifilms.com/films/page/467?order=DESC&is_meta_key=0&orderby=title#038;is_meta_key=0&orderby=title\n",
      "467\n"
     ]
    },
    {
     "name": "stderr",
     "output_type": "stream",
     "text": [
      "2020-12-04 12:01:00 [scrapy.core.engine] DEBUG: Crawled (200) <GET https://carifilms.com/films/page/467?order=DESC&is_meta_key=0&orderby=title#038;is_meta_key=0&orderby=title> (referer: https://carifilms.com/films/page/466?order=DESC&is_meta_key=0&orderby=title)\n"
     ]
    },
    {
     "name": "stdout",
     "output_type": "stream",
     "text": [
      "https://carifilms.com/films/page/468?order=DESC&is_meta_key=0&orderby=title#038;is_meta_key=0&orderby=title\n",
      "468\n"
     ]
    },
    {
     "name": "stderr",
     "output_type": "stream",
     "text": [
      "2020-12-04 12:01:05 [scrapy.core.engine] DEBUG: Crawled (200) <GET https://carifilms.com/films/page/468?order=DESC&is_meta_key=0&orderby=title#038;is_meta_key=0&orderby=title> (referer: https://carifilms.com/films/page/467?order=DESC&is_meta_key=0&orderby=title)\n"
     ]
    },
    {
     "name": "stdout",
     "output_type": "stream",
     "text": [
      "https://carifilms.com/films/page/469?order=DESC&is_meta_key=0&orderby=title#038;is_meta_key=0&orderby=title\n",
      "469\n"
     ]
    },
    {
     "name": "stderr",
     "output_type": "stream",
     "text": [
      "2020-12-04 12:01:09 [scrapy.core.engine] DEBUG: Crawled (200) <GET https://carifilms.com/films/page/469?order=DESC&is_meta_key=0&orderby=title#038;is_meta_key=0&orderby=title> (referer: https://carifilms.com/films/page/468?order=DESC&is_meta_key=0&orderby=title)\n"
     ]
    },
    {
     "name": "stdout",
     "output_type": "stream",
     "text": [
      "https://carifilms.com/films/page/470?order=DESC&is_meta_key=0&orderby=title#038;is_meta_key=0&orderby=title\n",
      "470\n"
     ]
    },
    {
     "name": "stderr",
     "output_type": "stream",
     "text": [
      "2020-12-04 12:01:13 [scrapy.core.engine] DEBUG: Crawled (200) <GET https://carifilms.com/films/page/470?order=DESC&is_meta_key=0&orderby=title#038;is_meta_key=0&orderby=title> (referer: https://carifilms.com/films/page/469?order=DESC&is_meta_key=0&orderby=title)\n"
     ]
    },
    {
     "name": "stdout",
     "output_type": "stream",
     "text": [
      "https://carifilms.com/films/page/471?order=DESC&is_meta_key=0&orderby=title#038;is_meta_key=0&orderby=title\n",
      "471\n"
     ]
    },
    {
     "name": "stderr",
     "output_type": "stream",
     "text": [
      "2020-12-04 12:01:17 [scrapy.core.engine] DEBUG: Crawled (200) <GET https://carifilms.com/films/page/471?order=DESC&is_meta_key=0&orderby=title#038;is_meta_key=0&orderby=title> (referer: https://carifilms.com/films/page/470?order=DESC&is_meta_key=0&orderby=title)\n"
     ]
    },
    {
     "name": "stdout",
     "output_type": "stream",
     "text": [
      "https://carifilms.com/films/page/472?order=DESC&is_meta_key=0&orderby=title#038;is_meta_key=0&orderby=title\n",
      "472\n"
     ]
    },
    {
     "name": "stderr",
     "output_type": "stream",
     "text": [
      "2020-12-04 12:01:22 [scrapy.core.engine] DEBUG: Crawled (200) <GET https://carifilms.com/films/page/472?order=DESC&is_meta_key=0&orderby=title#038;is_meta_key=0&orderby=title> (referer: https://carifilms.com/films/page/471?order=DESC&is_meta_key=0&orderby=title)\n"
     ]
    },
    {
     "name": "stdout",
     "output_type": "stream",
     "text": [
      "https://carifilms.com/films/page/473?order=DESC&is_meta_key=0&orderby=title#038;is_meta_key=0&orderby=title\n",
      "473\n"
     ]
    },
    {
     "name": "stderr",
     "output_type": "stream",
     "text": [
      "2020-12-04 12:01:26 [scrapy.core.engine] DEBUG: Crawled (200) <GET https://carifilms.com/films/page/473?order=DESC&is_meta_key=0&orderby=title#038;is_meta_key=0&orderby=title> (referer: https://carifilms.com/films/page/472?order=DESC&is_meta_key=0&orderby=title)\n"
     ]
    },
    {
     "name": "stdout",
     "output_type": "stream",
     "text": [
      "https://carifilms.com/films/page/474?order=DESC&is_meta_key=0&orderby=title#038;is_meta_key=0&orderby=title\n",
      "474\n"
     ]
    },
    {
     "name": "stderr",
     "output_type": "stream",
     "text": [
      "2020-12-04 12:01:31 [scrapy.core.engine] DEBUG: Crawled (200) <GET https://carifilms.com/films/page/474?order=DESC&is_meta_key=0&orderby=title#038;is_meta_key=0&orderby=title> (referer: https://carifilms.com/films/page/473?order=DESC&is_meta_key=0&orderby=title)\n"
     ]
    },
    {
     "name": "stdout",
     "output_type": "stream",
     "text": [
      "https://carifilms.com/films/page/475?order=DESC&is_meta_key=0&orderby=title#038;is_meta_key=0&orderby=title\n",
      "475\n"
     ]
    },
    {
     "name": "stderr",
     "output_type": "stream",
     "text": [
      "2020-12-04 12:01:35 [scrapy.core.engine] DEBUG: Crawled (200) <GET https://carifilms.com/films/page/475?order=DESC&is_meta_key=0&orderby=title#038;is_meta_key=0&orderby=title> (referer: https://carifilms.com/films/page/474?order=DESC&is_meta_key=0&orderby=title)\n"
     ]
    },
    {
     "name": "stdout",
     "output_type": "stream",
     "text": [
      "https://carifilms.com/films/page/476?order=DESC&is_meta_key=0&orderby=title#038;is_meta_key=0&orderby=title\n",
      "476\n"
     ]
    },
    {
     "name": "stderr",
     "output_type": "stream",
     "text": [
      "2020-12-04 12:01:40 [scrapy.core.engine] DEBUG: Crawled (200) <GET https://carifilms.com/films/page/476?order=DESC&is_meta_key=0&orderby=title#038;is_meta_key=0&orderby=title> (referer: https://carifilms.com/films/page/475?order=DESC&is_meta_key=0&orderby=title)\n"
     ]
    },
    {
     "name": "stdout",
     "output_type": "stream",
     "text": [
      "https://carifilms.com/films/page/477?order=DESC&is_meta_key=0&orderby=title#038;is_meta_key=0&orderby=title\n",
      "477\n"
     ]
    },
    {
     "name": "stderr",
     "output_type": "stream",
     "text": [
      "2020-12-04 12:01:44 [scrapy.core.engine] DEBUG: Crawled (200) <GET https://carifilms.com/films/page/477?order=DESC&is_meta_key=0&orderby=title#038;is_meta_key=0&orderby=title> (referer: https://carifilms.com/films/page/476?order=DESC&is_meta_key=0&orderby=title)\n"
     ]
    },
    {
     "name": "stdout",
     "output_type": "stream",
     "text": [
      "https://carifilms.com/films/page/478?order=DESC&is_meta_key=0&orderby=title#038;is_meta_key=0&orderby=title\n",
      "478\n"
     ]
    },
    {
     "name": "stderr",
     "output_type": "stream",
     "text": [
      "2020-12-04 12:01:48 [scrapy.core.engine] DEBUG: Crawled (200) <GET https://carifilms.com/films/page/478?order=DESC&is_meta_key=0&orderby=title#038;is_meta_key=0&orderby=title> (referer: https://carifilms.com/films/page/477?order=DESC&is_meta_key=0&orderby=title)\n"
     ]
    },
    {
     "name": "stdout",
     "output_type": "stream",
     "text": [
      "https://carifilms.com/films/page/479?order=DESC&is_meta_key=0&orderby=title#038;is_meta_key=0&orderby=title\n",
      "479\n"
     ]
    },
    {
     "name": "stderr",
     "output_type": "stream",
     "text": [
      "2020-12-04 12:01:52 [scrapy.core.engine] DEBUG: Crawled (200) <GET https://carifilms.com/films/page/479?order=DESC&is_meta_key=0&orderby=title#038;is_meta_key=0&orderby=title> (referer: https://carifilms.com/films/page/478?order=DESC&is_meta_key=0&orderby=title)\n"
     ]
    },
    {
     "name": "stdout",
     "output_type": "stream",
     "text": [
      "https://carifilms.com/films/page/480?order=DESC&is_meta_key=0&orderby=title#038;is_meta_key=0&orderby=title\n",
      "480\n"
     ]
    },
    {
     "name": "stderr",
     "output_type": "stream",
     "text": [
      "2020-12-04 12:01:55 [scrapy.extensions.logstats] INFO: Crawled 479 pages (at 14 pages/min), scraped 0 items (at 0 items/min)\n",
      "2020-12-04 12:01:57 [scrapy.core.engine] DEBUG: Crawled (200) <GET https://carifilms.com/films/page/480?order=DESC&is_meta_key=0&orderby=title#038;is_meta_key=0&orderby=title> (referer: https://carifilms.com/films/page/479?order=DESC&is_meta_key=0&orderby=title)\n"
     ]
    },
    {
     "name": "stdout",
     "output_type": "stream",
     "text": [
      "https://carifilms.com/films/page/481?order=DESC&is_meta_key=0&orderby=title#038;is_meta_key=0&orderby=title\n",
      "481\n"
     ]
    },
    {
     "name": "stderr",
     "output_type": "stream",
     "text": [
      "2020-12-04 12:02:01 [scrapy.core.engine] DEBUG: Crawled (200) <GET https://carifilms.com/films/page/481?order=DESC&is_meta_key=0&orderby=title#038;is_meta_key=0&orderby=title> (referer: https://carifilms.com/films/page/480?order=DESC&is_meta_key=0&orderby=title)\n"
     ]
    },
    {
     "name": "stdout",
     "output_type": "stream",
     "text": [
      "https://carifilms.com/films/page/482?order=DESC&is_meta_key=0&orderby=title#038;is_meta_key=0&orderby=title\n",
      "482\n"
     ]
    },
    {
     "name": "stderr",
     "output_type": "stream",
     "text": [
      "2020-12-04 12:02:05 [scrapy.core.engine] DEBUG: Crawled (200) <GET https://carifilms.com/films/page/482?order=DESC&is_meta_key=0&orderby=title#038;is_meta_key=0&orderby=title> (referer: https://carifilms.com/films/page/481?order=DESC&is_meta_key=0&orderby=title)\n"
     ]
    },
    {
     "name": "stdout",
     "output_type": "stream",
     "text": [
      "https://carifilms.com/films/page/483?order=DESC&is_meta_key=0&orderby=title#038;is_meta_key=0&orderby=title\n",
      "483\n"
     ]
    },
    {
     "name": "stderr",
     "output_type": "stream",
     "text": [
      "2020-12-04 12:02:10 [scrapy.core.engine] DEBUG: Crawled (200) <GET https://carifilms.com/films/page/483?order=DESC&is_meta_key=0&orderby=title#038;is_meta_key=0&orderby=title> (referer: https://carifilms.com/films/page/482?order=DESC&is_meta_key=0&orderby=title)\n"
     ]
    },
    {
     "name": "stdout",
     "output_type": "stream",
     "text": [
      "https://carifilms.com/films/page/484?order=DESC&is_meta_key=0&orderby=title#038;is_meta_key=0&orderby=title\n",
      "484\n"
     ]
    },
    {
     "name": "stderr",
     "output_type": "stream",
     "text": [
      "2020-12-04 12:02:14 [scrapy.core.engine] DEBUG: Crawled (200) <GET https://carifilms.com/films/page/484?order=DESC&is_meta_key=0&orderby=title#038;is_meta_key=0&orderby=title> (referer: https://carifilms.com/films/page/483?order=DESC&is_meta_key=0&orderby=title)\n"
     ]
    },
    {
     "name": "stdout",
     "output_type": "stream",
     "text": [
      "https://carifilms.com/films/page/485?order=DESC&is_meta_key=0&orderby=title#038;is_meta_key=0&orderby=title\n",
      "485\n"
     ]
    },
    {
     "name": "stderr",
     "output_type": "stream",
     "text": [
      "2020-12-04 12:02:18 [scrapy.core.engine] DEBUG: Crawled (200) <GET https://carifilms.com/films/page/485?order=DESC&is_meta_key=0&orderby=title#038;is_meta_key=0&orderby=title> (referer: https://carifilms.com/films/page/484?order=DESC&is_meta_key=0&orderby=title)\n"
     ]
    },
    {
     "name": "stdout",
     "output_type": "stream",
     "text": [
      "https://carifilms.com/films/page/486?order=DESC&is_meta_key=0&orderby=title#038;is_meta_key=0&orderby=title\n",
      "486\n"
     ]
    },
    {
     "name": "stderr",
     "output_type": "stream",
     "text": [
      "2020-12-04 12:02:22 [scrapy.core.engine] DEBUG: Crawled (200) <GET https://carifilms.com/films/page/486?order=DESC&is_meta_key=0&orderby=title#038;is_meta_key=0&orderby=title> (referer: https://carifilms.com/films/page/485?order=DESC&is_meta_key=0&orderby=title)\n"
     ]
    },
    {
     "name": "stdout",
     "output_type": "stream",
     "text": [
      "https://carifilms.com/films/page/487?order=DESC&is_meta_key=0&orderby=title#038;is_meta_key=0&orderby=title\n",
      "487\n"
     ]
    },
    {
     "name": "stderr",
     "output_type": "stream",
     "text": [
      "2020-12-04 12:02:27 [scrapy.core.engine] DEBUG: Crawled (200) <GET https://carifilms.com/films/page/487?order=DESC&is_meta_key=0&orderby=title#038;is_meta_key=0&orderby=title> (referer: https://carifilms.com/films/page/486?order=DESC&is_meta_key=0&orderby=title)\n"
     ]
    },
    {
     "name": "stdout",
     "output_type": "stream",
     "text": [
      "https://carifilms.com/films/page/488?order=DESC&is_meta_key=0&orderby=title#038;is_meta_key=0&orderby=title\n",
      "488\n"
     ]
    },
    {
     "name": "stderr",
     "output_type": "stream",
     "text": [
      "2020-12-04 12:02:31 [scrapy.core.engine] DEBUG: Crawled (200) <GET https://carifilms.com/films/page/488?order=DESC&is_meta_key=0&orderby=title#038;is_meta_key=0&orderby=title> (referer: https://carifilms.com/films/page/487?order=DESC&is_meta_key=0&orderby=title)\n"
     ]
    },
    {
     "name": "stdout",
     "output_type": "stream",
     "text": [
      "https://carifilms.com/films/page/489?order=DESC&is_meta_key=0&orderby=title#038;is_meta_key=0&orderby=title\n",
      "489\n"
     ]
    },
    {
     "name": "stderr",
     "output_type": "stream",
     "text": [
      "2020-12-04 12:02:35 [scrapy.core.engine] DEBUG: Crawled (200) <GET https://carifilms.com/films/page/489?order=DESC&is_meta_key=0&orderby=title#038;is_meta_key=0&orderby=title> (referer: https://carifilms.com/films/page/488?order=DESC&is_meta_key=0&orderby=title)\n"
     ]
    },
    {
     "name": "stdout",
     "output_type": "stream",
     "text": [
      "https://carifilms.com/films/page/490?order=DESC&is_meta_key=0&orderby=title#038;is_meta_key=0&orderby=title\n",
      "490\n"
     ]
    },
    {
     "name": "stderr",
     "output_type": "stream",
     "text": [
      "2020-12-04 12:02:40 [scrapy.core.engine] DEBUG: Crawled (200) <GET https://carifilms.com/films/page/490?order=DESC&is_meta_key=0&orderby=title#038;is_meta_key=0&orderby=title> (referer: https://carifilms.com/films/page/489?order=DESC&is_meta_key=0&orderby=title)\n"
     ]
    },
    {
     "name": "stdout",
     "output_type": "stream",
     "text": [
      "https://carifilms.com/films/page/491?order=DESC&is_meta_key=0&orderby=title#038;is_meta_key=0&orderby=title\n",
      "491\n"
     ]
    },
    {
     "name": "stderr",
     "output_type": "stream",
     "text": [
      "2020-12-04 12:02:44 [scrapy.core.engine] DEBUG: Crawled (200) <GET https://carifilms.com/films/page/491?order=DESC&is_meta_key=0&orderby=title#038;is_meta_key=0&orderby=title> (referer: https://carifilms.com/films/page/490?order=DESC&is_meta_key=0&orderby=title)\n"
     ]
    },
    {
     "name": "stdout",
     "output_type": "stream",
     "text": [
      "https://carifilms.com/films/page/492?order=DESC&is_meta_key=0&orderby=title#038;is_meta_key=0&orderby=title\n",
      "492\n"
     ]
    },
    {
     "name": "stderr",
     "output_type": "stream",
     "text": [
      "2020-12-04 12:02:48 [scrapy.core.engine] DEBUG: Crawled (200) <GET https://carifilms.com/films/page/492?order=DESC&is_meta_key=0&orderby=title#038;is_meta_key=0&orderby=title> (referer: https://carifilms.com/films/page/491?order=DESC&is_meta_key=0&orderby=title)\n"
     ]
    },
    {
     "name": "stdout",
     "output_type": "stream",
     "text": [
      "https://carifilms.com/films/page/493?order=DESC&is_meta_key=0&orderby=title#038;is_meta_key=0&orderby=title\n",
      "493\n"
     ]
    },
    {
     "name": "stderr",
     "output_type": "stream",
     "text": [
      "2020-12-04 12:02:53 [scrapy.core.engine] DEBUG: Crawled (200) <GET https://carifilms.com/films/page/493?order=DESC&is_meta_key=0&orderby=title#038;is_meta_key=0&orderby=title> (referer: https://carifilms.com/films/page/492?order=DESC&is_meta_key=0&orderby=title)\n"
     ]
    },
    {
     "name": "stdout",
     "output_type": "stream",
     "text": [
      "https://carifilms.com/films/page/494?order=DESC&is_meta_key=0&orderby=title#038;is_meta_key=0&orderby=title\n",
      "494\n"
     ]
    },
    {
     "name": "stderr",
     "output_type": "stream",
     "text": [
      "2020-12-04 12:02:55 [scrapy.extensions.logstats] INFO: Crawled 493 pages (at 14 pages/min), scraped 0 items (at 0 items/min)\n",
      "2020-12-04 12:02:57 [scrapy.core.engine] DEBUG: Crawled (200) <GET https://carifilms.com/films/page/494?order=DESC&is_meta_key=0&orderby=title#038;is_meta_key=0&orderby=title> (referer: https://carifilms.com/films/page/493?order=DESC&is_meta_key=0&orderby=title)\n"
     ]
    },
    {
     "name": "stdout",
     "output_type": "stream",
     "text": [
      "https://carifilms.com/films/page/495?order=DESC&is_meta_key=0&orderby=title#038;is_meta_key=0&orderby=title\n",
      "495\n"
     ]
    },
    {
     "name": "stderr",
     "output_type": "stream",
     "text": [
      "2020-12-04 12:03:02 [scrapy.core.engine] DEBUG: Crawled (200) <GET https://carifilms.com/films/page/495?order=DESC&is_meta_key=0&orderby=title#038;is_meta_key=0&orderby=title> (referer: https://carifilms.com/films/page/494?order=DESC&is_meta_key=0&orderby=title)\n"
     ]
    },
    {
     "name": "stdout",
     "output_type": "stream",
     "text": [
      "https://carifilms.com/films/page/496?order=DESC&is_meta_key=0&orderby=title#038;is_meta_key=0&orderby=title\n",
      "496\n"
     ]
    },
    {
     "name": "stderr",
     "output_type": "stream",
     "text": [
      "2020-12-04 12:03:06 [scrapy.core.engine] DEBUG: Crawled (200) <GET https://carifilms.com/films/page/496?order=DESC&is_meta_key=0&orderby=title#038;is_meta_key=0&orderby=title> (referer: https://carifilms.com/films/page/495?order=DESC&is_meta_key=0&orderby=title)\n"
     ]
    },
    {
     "name": "stdout",
     "output_type": "stream",
     "text": [
      "https://carifilms.com/films/page/497?order=DESC&is_meta_key=0&orderby=title#038;is_meta_key=0&orderby=title\n",
      "497\n"
     ]
    },
    {
     "name": "stderr",
     "output_type": "stream",
     "text": [
      "2020-12-04 12:03:11 [scrapy.core.engine] DEBUG: Crawled (200) <GET https://carifilms.com/films/page/497?order=DESC&is_meta_key=0&orderby=title#038;is_meta_key=0&orderby=title> (referer: https://carifilms.com/films/page/496?order=DESC&is_meta_key=0&orderby=title)\n"
     ]
    },
    {
     "name": "stdout",
     "output_type": "stream",
     "text": [
      "https://carifilms.com/films/page/498?order=DESC&is_meta_key=0&orderby=title#038;is_meta_key=0&orderby=title\n",
      "498\n"
     ]
    },
    {
     "name": "stderr",
     "output_type": "stream",
     "text": [
      "2020-12-04 12:03:15 [scrapy.core.engine] DEBUG: Crawled (200) <GET https://carifilms.com/films/page/498?order=DESC&is_meta_key=0&orderby=title#038;is_meta_key=0&orderby=title> (referer: https://carifilms.com/films/page/497?order=DESC&is_meta_key=0&orderby=title)\n"
     ]
    },
    {
     "name": "stdout",
     "output_type": "stream",
     "text": [
      "https://carifilms.com/films/page/499?order=DESC&is_meta_key=0&orderby=title#038;is_meta_key=0&orderby=title\n",
      "499\n"
     ]
    },
    {
     "name": "stderr",
     "output_type": "stream",
     "text": [
      "2020-12-04 12:03:19 [scrapy.core.engine] DEBUG: Crawled (200) <GET https://carifilms.com/films/page/499?order=DESC&is_meta_key=0&orderby=title#038;is_meta_key=0&orderby=title> (referer: https://carifilms.com/films/page/498?order=DESC&is_meta_key=0&orderby=title)\n"
     ]
    },
    {
     "name": "stdout",
     "output_type": "stream",
     "text": [
      "https://carifilms.com/films/page/500?order=DESC&is_meta_key=0&orderby=title#038;is_meta_key=0&orderby=title\n",
      "500\n"
     ]
    },
    {
     "name": "stderr",
     "output_type": "stream",
     "text": [
      "2020-12-04 12:03:23 [scrapy.core.engine] DEBUG: Crawled (200) <GET https://carifilms.com/films/page/500?order=DESC&is_meta_key=0&orderby=title#038;is_meta_key=0&orderby=title> (referer: https://carifilms.com/films/page/499?order=DESC&is_meta_key=0&orderby=title)\n"
     ]
    },
    {
     "name": "stdout",
     "output_type": "stream",
     "text": [
      "https://carifilms.com/films/page/501?order=DESC&is_meta_key=0&orderby=title#038;is_meta_key=0&orderby=title\n",
      "501\n"
     ]
    },
    {
     "name": "stderr",
     "output_type": "stream",
     "text": [
      "2020-12-04 12:03:28 [scrapy.core.engine] DEBUG: Crawled (200) <GET https://carifilms.com/films/page/501?order=DESC&is_meta_key=0&orderby=title#038;is_meta_key=0&orderby=title> (referer: https://carifilms.com/films/page/500?order=DESC&is_meta_key=0&orderby=title)\n"
     ]
    },
    {
     "name": "stdout",
     "output_type": "stream",
     "text": [
      "https://carifilms.com/films/page/502?order=DESC&is_meta_key=0&orderby=title#038;is_meta_key=0&orderby=title\n",
      "502\n"
     ]
    },
    {
     "name": "stderr",
     "output_type": "stream",
     "text": [
      "2020-12-04 12:03:32 [scrapy.core.engine] DEBUG: Crawled (200) <GET https://carifilms.com/films/page/502?order=DESC&is_meta_key=0&orderby=title#038;is_meta_key=0&orderby=title> (referer: https://carifilms.com/films/page/501?order=DESC&is_meta_key=0&orderby=title)\n"
     ]
    },
    {
     "name": "stdout",
     "output_type": "stream",
     "text": [
      "https://carifilms.com/films/page/503?order=DESC&is_meta_key=0&orderby=title#038;is_meta_key=0&orderby=title\n",
      "503\n"
     ]
    },
    {
     "name": "stderr",
     "output_type": "stream",
     "text": [
      "2020-12-04 12:03:36 [scrapy.core.engine] DEBUG: Crawled (200) <GET https://carifilms.com/films/page/503?order=DESC&is_meta_key=0&orderby=title#038;is_meta_key=0&orderby=title> (referer: https://carifilms.com/films/page/502?order=DESC&is_meta_key=0&orderby=title)\n"
     ]
    },
    {
     "name": "stdout",
     "output_type": "stream",
     "text": [
      "https://carifilms.com/films/page/504?order=DESC&is_meta_key=0&orderby=title#038;is_meta_key=0&orderby=title\n",
      "504\n"
     ]
    },
    {
     "name": "stderr",
     "output_type": "stream",
     "text": [
      "2020-12-04 12:03:41 [scrapy.core.engine] DEBUG: Crawled (200) <GET https://carifilms.com/films/page/504?order=DESC&is_meta_key=0&orderby=title#038;is_meta_key=0&orderby=title> (referer: https://carifilms.com/films/page/503?order=DESC&is_meta_key=0&orderby=title)\n"
     ]
    },
    {
     "name": "stdout",
     "output_type": "stream",
     "text": [
      "https://carifilms.com/films/page/505?order=DESC&is_meta_key=0&orderby=title#038;is_meta_key=0&orderby=title\n",
      "505\n"
     ]
    },
    {
     "name": "stderr",
     "output_type": "stream",
     "text": [
      "2020-12-04 12:03:45 [scrapy.core.engine] DEBUG: Crawled (200) <GET https://carifilms.com/films/page/505?order=DESC&is_meta_key=0&orderby=title#038;is_meta_key=0&orderby=title> (referer: https://carifilms.com/films/page/504?order=DESC&is_meta_key=0&orderby=title)\n"
     ]
    },
    {
     "name": "stdout",
     "output_type": "stream",
     "text": [
      "https://carifilms.com/films/page/506?order=DESC&is_meta_key=0&orderby=title#038;is_meta_key=0&orderby=title\n",
      "506\n"
     ]
    },
    {
     "name": "stderr",
     "output_type": "stream",
     "text": [
      "2020-12-04 12:03:49 [scrapy.core.engine] DEBUG: Crawled (200) <GET https://carifilms.com/films/page/506?order=DESC&is_meta_key=0&orderby=title#038;is_meta_key=0&orderby=title> (referer: https://carifilms.com/films/page/505?order=DESC&is_meta_key=0&orderby=title)\n"
     ]
    },
    {
     "name": "stdout",
     "output_type": "stream",
     "text": [
      "https://carifilms.com/films/page/507?order=DESC&is_meta_key=0&orderby=title#038;is_meta_key=0&orderby=title\n",
      "507\n"
     ]
    },
    {
     "name": "stderr",
     "output_type": "stream",
     "text": [
      "2020-12-04 12:03:53 [scrapy.core.engine] DEBUG: Crawled (200) <GET https://carifilms.com/films/page/507?order=DESC&is_meta_key=0&orderby=title#038;is_meta_key=0&orderby=title> (referer: https://carifilms.com/films/page/506?order=DESC&is_meta_key=0&orderby=title)\n"
     ]
    },
    {
     "name": "stdout",
     "output_type": "stream",
     "text": [
      "https://carifilms.com/films/page/508?order=DESC&is_meta_key=0&orderby=title#038;is_meta_key=0&orderby=title\n",
      "508\n"
     ]
    },
    {
     "name": "stderr",
     "output_type": "stream",
     "text": [
      "2020-12-04 12:03:55 [scrapy.extensions.logstats] INFO: Crawled 507 pages (at 14 pages/min), scraped 0 items (at 0 items/min)\n",
      "2020-12-04 12:03:58 [scrapy.core.engine] DEBUG: Crawled (200) <GET https://carifilms.com/films/page/508?order=DESC&is_meta_key=0&orderby=title#038;is_meta_key=0&orderby=title> (referer: https://carifilms.com/films/page/507?order=DESC&is_meta_key=0&orderby=title)\n"
     ]
    },
    {
     "name": "stdout",
     "output_type": "stream",
     "text": [
      "https://carifilms.com/films/page/509?order=DESC&is_meta_key=0&orderby=title#038;is_meta_key=0&orderby=title\n",
      "509\n"
     ]
    },
    {
     "name": "stderr",
     "output_type": "stream",
     "text": [
      "2020-12-04 12:04:02 [scrapy.core.engine] DEBUG: Crawled (200) <GET https://carifilms.com/films/page/509?order=DESC&is_meta_key=0&orderby=title#038;is_meta_key=0&orderby=title> (referer: https://carifilms.com/films/page/508?order=DESC&is_meta_key=0&orderby=title)\n"
     ]
    },
    {
     "name": "stdout",
     "output_type": "stream",
     "text": [
      "https://carifilms.com/films/page/510?order=DESC&is_meta_key=0&orderby=title#038;is_meta_key=0&orderby=title\n",
      "510\n"
     ]
    },
    {
     "name": "stderr",
     "output_type": "stream",
     "text": [
      "2020-12-04 12:04:07 [scrapy.core.engine] DEBUG: Crawled (200) <GET https://carifilms.com/films/page/510?order=DESC&is_meta_key=0&orderby=title#038;is_meta_key=0&orderby=title> (referer: https://carifilms.com/films/page/509?order=DESC&is_meta_key=0&orderby=title)\n"
     ]
    },
    {
     "name": "stdout",
     "output_type": "stream",
     "text": [
      "https://carifilms.com/films/page/511?order=DESC&is_meta_key=0&orderby=title#038;is_meta_key=0&orderby=title\n",
      "511\n"
     ]
    },
    {
     "name": "stderr",
     "output_type": "stream",
     "text": [
      "2020-12-04 12:04:11 [scrapy.core.engine] DEBUG: Crawled (200) <GET https://carifilms.com/films/page/511?order=DESC&is_meta_key=0&orderby=title#038;is_meta_key=0&orderby=title> (referer: https://carifilms.com/films/page/510?order=DESC&is_meta_key=0&orderby=title)\n"
     ]
    },
    {
     "name": "stdout",
     "output_type": "stream",
     "text": [
      "https://carifilms.com/films/page/512?order=DESC&is_meta_key=0&orderby=title#038;is_meta_key=0&orderby=title\n",
      "512\n"
     ]
    },
    {
     "name": "stderr",
     "output_type": "stream",
     "text": [
      "2020-12-04 12:04:16 [scrapy.core.engine] DEBUG: Crawled (200) <GET https://carifilms.com/films/page/512?order=DESC&is_meta_key=0&orderby=title#038;is_meta_key=0&orderby=title> (referer: https://carifilms.com/films/page/511?order=DESC&is_meta_key=0&orderby=title)\n"
     ]
    },
    {
     "name": "stdout",
     "output_type": "stream",
     "text": [
      "https://carifilms.com/films/page/513?order=DESC&is_meta_key=0&orderby=title#038;is_meta_key=0&orderby=title\n",
      "513\n"
     ]
    },
    {
     "name": "stderr",
     "output_type": "stream",
     "text": [
      "2020-12-04 12:04:20 [scrapy.core.engine] DEBUG: Crawled (200) <GET https://carifilms.com/films/page/513?order=DESC&is_meta_key=0&orderby=title#038;is_meta_key=0&orderby=title> (referer: https://carifilms.com/films/page/512?order=DESC&is_meta_key=0&orderby=title)\n"
     ]
    },
    {
     "name": "stdout",
     "output_type": "stream",
     "text": [
      "https://carifilms.com/films/page/514?order=DESC&is_meta_key=0&orderby=title#038;is_meta_key=0&orderby=title\n",
      "514\n"
     ]
    },
    {
     "name": "stderr",
     "output_type": "stream",
     "text": [
      "2020-12-04 12:04:24 [scrapy.core.engine] DEBUG: Crawled (200) <GET https://carifilms.com/films/page/514?order=DESC&is_meta_key=0&orderby=title#038;is_meta_key=0&orderby=title> (referer: https://carifilms.com/films/page/513?order=DESC&is_meta_key=0&orderby=title)\n"
     ]
    },
    {
     "name": "stdout",
     "output_type": "stream",
     "text": [
      "https://carifilms.com/films/page/515?order=DESC&is_meta_key=0&orderby=title#038;is_meta_key=0&orderby=title\n",
      "515\n"
     ]
    },
    {
     "name": "stderr",
     "output_type": "stream",
     "text": [
      "2020-12-04 12:04:29 [scrapy.core.engine] DEBUG: Crawled (200) <GET https://carifilms.com/films/page/515?order=DESC&is_meta_key=0&orderby=title#038;is_meta_key=0&orderby=title> (referer: https://carifilms.com/films/page/514?order=DESC&is_meta_key=0&orderby=title)\n"
     ]
    },
    {
     "name": "stdout",
     "output_type": "stream",
     "text": [
      "https://carifilms.com/films/page/516?order=DESC&is_meta_key=0&orderby=title#038;is_meta_key=0&orderby=title\n",
      "516\n"
     ]
    },
    {
     "name": "stderr",
     "output_type": "stream",
     "text": [
      "2020-12-04 12:04:34 [scrapy.core.engine] DEBUG: Crawled (200) <GET https://carifilms.com/films/page/516?order=DESC&is_meta_key=0&orderby=title#038;is_meta_key=0&orderby=title> (referer: https://carifilms.com/films/page/515?order=DESC&is_meta_key=0&orderby=title)\n"
     ]
    },
    {
     "name": "stdout",
     "output_type": "stream",
     "text": [
      "https://carifilms.com/films/page/517?order=DESC&is_meta_key=0&orderby=title#038;is_meta_key=0&orderby=title\n",
      "517\n"
     ]
    },
    {
     "name": "stderr",
     "output_type": "stream",
     "text": [
      "2020-12-04 12:04:38 [scrapy.core.engine] DEBUG: Crawled (200) <GET https://carifilms.com/films/page/517?order=DESC&is_meta_key=0&orderby=title#038;is_meta_key=0&orderby=title> (referer: https://carifilms.com/films/page/516?order=DESC&is_meta_key=0&orderby=title)\n"
     ]
    },
    {
     "name": "stdout",
     "output_type": "stream",
     "text": [
      "https://carifilms.com/films/page/518?order=DESC&is_meta_key=0&orderby=title#038;is_meta_key=0&orderby=title\n",
      "518\n"
     ]
    },
    {
     "name": "stderr",
     "output_type": "stream",
     "text": [
      "2020-12-04 12:04:42 [scrapy.core.engine] DEBUG: Crawled (200) <GET https://carifilms.com/films/page/518?order=DESC&is_meta_key=0&orderby=title#038;is_meta_key=0&orderby=title> (referer: https://carifilms.com/films/page/517?order=DESC&is_meta_key=0&orderby=title)\n"
     ]
    },
    {
     "name": "stdout",
     "output_type": "stream",
     "text": [
      "https://carifilms.com/films/page/519?order=DESC&is_meta_key=0&orderby=title#038;is_meta_key=0&orderby=title\n",
      "519\n"
     ]
    },
    {
     "name": "stderr",
     "output_type": "stream",
     "text": [
      "2020-12-04 12:04:47 [scrapy.core.engine] DEBUG: Crawled (200) <GET https://carifilms.com/films/page/519?order=DESC&is_meta_key=0&orderby=title#038;is_meta_key=0&orderby=title> (referer: https://carifilms.com/films/page/518?order=DESC&is_meta_key=0&orderby=title)\n"
     ]
    },
    {
     "name": "stdout",
     "output_type": "stream",
     "text": [
      "https://carifilms.com/films/page/520?order=DESC&is_meta_key=0&orderby=title#038;is_meta_key=0&orderby=title\n",
      "520\n"
     ]
    },
    {
     "name": "stderr",
     "output_type": "stream",
     "text": [
      "2020-12-04 12:04:51 [scrapy.core.engine] DEBUG: Crawled (200) <GET https://carifilms.com/films/page/520?order=DESC&is_meta_key=0&orderby=title#038;is_meta_key=0&orderby=title> (referer: https://carifilms.com/films/page/519?order=DESC&is_meta_key=0&orderby=title)\n"
     ]
    },
    {
     "name": "stdout",
     "output_type": "stream",
     "text": [
      "https://carifilms.com/films/page/521?order=DESC&is_meta_key=0&orderby=title#038;is_meta_key=0&orderby=title\n",
      "521\n"
     ]
    },
    {
     "name": "stderr",
     "output_type": "stream",
     "text": [
      "2020-12-04 12:04:55 [scrapy.extensions.logstats] INFO: Crawled 520 pages (at 13 pages/min), scraped 0 items (at 0 items/min)\n",
      "2020-12-04 12:04:55 [scrapy.core.engine] DEBUG: Crawled (200) <GET https://carifilms.com/films/page/521?order=DESC&is_meta_key=0&orderby=title#038;is_meta_key=0&orderby=title> (referer: https://carifilms.com/films/page/520?order=DESC&is_meta_key=0&orderby=title)\n"
     ]
    },
    {
     "name": "stdout",
     "output_type": "stream",
     "text": [
      "https://carifilms.com/films/page/522?order=DESC&is_meta_key=0&orderby=title#038;is_meta_key=0&orderby=title\n",
      "522\n"
     ]
    },
    {
     "name": "stderr",
     "output_type": "stream",
     "text": [
      "2020-12-04 12:04:59 [scrapy.core.engine] DEBUG: Crawled (200) <GET https://carifilms.com/films/page/522?order=DESC&is_meta_key=0&orderby=title#038;is_meta_key=0&orderby=title> (referer: https://carifilms.com/films/page/521?order=DESC&is_meta_key=0&orderby=title)\n"
     ]
    },
    {
     "name": "stdout",
     "output_type": "stream",
     "text": [
      "https://carifilms.com/films/page/523?order=DESC&is_meta_key=0&orderby=title#038;is_meta_key=0&orderby=title\n",
      "523\n"
     ]
    },
    {
     "name": "stderr",
     "output_type": "stream",
     "text": [
      "2020-12-04 12:05:03 [scrapy.core.engine] DEBUG: Crawled (200) <GET https://carifilms.com/films/page/523?order=DESC&is_meta_key=0&orderby=title#038;is_meta_key=0&orderby=title> (referer: https://carifilms.com/films/page/522?order=DESC&is_meta_key=0&orderby=title)\n"
     ]
    },
    {
     "name": "stdout",
     "output_type": "stream",
     "text": [
      "https://carifilms.com/films/page/524?order=DESC&is_meta_key=0&orderby=title#038;is_meta_key=0&orderby=title\n",
      "524\n"
     ]
    },
    {
     "name": "stderr",
     "output_type": "stream",
     "text": [
      "2020-12-04 12:05:08 [scrapy.core.engine] DEBUG: Crawled (200) <GET https://carifilms.com/films/page/524?order=DESC&is_meta_key=0&orderby=title#038;is_meta_key=0&orderby=title> (referer: https://carifilms.com/films/page/523?order=DESC&is_meta_key=0&orderby=title)\n"
     ]
    },
    {
     "name": "stdout",
     "output_type": "stream",
     "text": [
      "https://carifilms.com/films/page/525?order=DESC&is_meta_key=0&orderby=title#038;is_meta_key=0&orderby=title\n",
      "525\n"
     ]
    },
    {
     "name": "stderr",
     "output_type": "stream",
     "text": [
      "2020-12-04 12:05:12 [scrapy.core.engine] DEBUG: Crawled (200) <GET https://carifilms.com/films/page/525?order=DESC&is_meta_key=0&orderby=title#038;is_meta_key=0&orderby=title> (referer: https://carifilms.com/films/page/524?order=DESC&is_meta_key=0&orderby=title)\n"
     ]
    },
    {
     "name": "stdout",
     "output_type": "stream",
     "text": [
      "https://carifilms.com/films/page/526?order=DESC&is_meta_key=0&orderby=title#038;is_meta_key=0&orderby=title\n",
      "526\n"
     ]
    },
    {
     "name": "stderr",
     "output_type": "stream",
     "text": [
      "2020-12-04 12:05:16 [scrapy.core.engine] DEBUG: Crawled (200) <GET https://carifilms.com/films/page/526?order=DESC&is_meta_key=0&orderby=title#038;is_meta_key=0&orderby=title> (referer: https://carifilms.com/films/page/525?order=DESC&is_meta_key=0&orderby=title)\n"
     ]
    },
    {
     "name": "stdout",
     "output_type": "stream",
     "text": [
      "https://carifilms.com/films/page/527?order=DESC&is_meta_key=0&orderby=title#038;is_meta_key=0&orderby=title\n",
      "527\n"
     ]
    },
    {
     "name": "stderr",
     "output_type": "stream",
     "text": [
      "2020-12-04 12:05:20 [scrapy.core.engine] DEBUG: Crawled (200) <GET https://carifilms.com/films/page/527?order=DESC&is_meta_key=0&orderby=title#038;is_meta_key=0&orderby=title> (referer: https://carifilms.com/films/page/526?order=DESC&is_meta_key=0&orderby=title)\n"
     ]
    },
    {
     "name": "stdout",
     "output_type": "stream",
     "text": [
      "https://carifilms.com/films/page/528?order=DESC&is_meta_key=0&orderby=title#038;is_meta_key=0&orderby=title\n",
      "528\n"
     ]
    },
    {
     "name": "stderr",
     "output_type": "stream",
     "text": [
      "2020-12-04 12:05:25 [scrapy.core.engine] DEBUG: Crawled (200) <GET https://carifilms.com/films/page/528?order=DESC&is_meta_key=0&orderby=title#038;is_meta_key=0&orderby=title> (referer: https://carifilms.com/films/page/527?order=DESC&is_meta_key=0&orderby=title)\n"
     ]
    },
    {
     "name": "stdout",
     "output_type": "stream",
     "text": [
      "https://carifilms.com/films/page/529?order=DESC&is_meta_key=0&orderby=title#038;is_meta_key=0&orderby=title\n",
      "529\n"
     ]
    },
    {
     "name": "stderr",
     "output_type": "stream",
     "text": [
      "2020-12-04 12:05:29 [scrapy.core.engine] DEBUG: Crawled (200) <GET https://carifilms.com/films/page/529?order=DESC&is_meta_key=0&orderby=title#038;is_meta_key=0&orderby=title> (referer: https://carifilms.com/films/page/528?order=DESC&is_meta_key=0&orderby=title)\n"
     ]
    },
    {
     "name": "stdout",
     "output_type": "stream",
     "text": [
      "https://carifilms.com/films/page/530?order=DESC&is_meta_key=0&orderby=title#038;is_meta_key=0&orderby=title\n",
      "530\n"
     ]
    },
    {
     "name": "stderr",
     "output_type": "stream",
     "text": [
      "2020-12-04 12:05:34 [scrapy.core.engine] DEBUG: Crawled (200) <GET https://carifilms.com/films/page/530?order=DESC&is_meta_key=0&orderby=title#038;is_meta_key=0&orderby=title> (referer: https://carifilms.com/films/page/529?order=DESC&is_meta_key=0&orderby=title)\n"
     ]
    },
    {
     "name": "stdout",
     "output_type": "stream",
     "text": [
      "https://carifilms.com/films/page/531?order=DESC&is_meta_key=0&orderby=title#038;is_meta_key=0&orderby=title\n",
      "531\n"
     ]
    },
    {
     "name": "stderr",
     "output_type": "stream",
     "text": [
      "2020-12-04 12:05:38 [scrapy.core.engine] DEBUG: Crawled (200) <GET https://carifilms.com/films/page/531?order=DESC&is_meta_key=0&orderby=title#038;is_meta_key=0&orderby=title> (referer: https://carifilms.com/films/page/530?order=DESC&is_meta_key=0&orderby=title)\n"
     ]
    },
    {
     "name": "stdout",
     "output_type": "stream",
     "text": [
      "https://carifilms.com/films/page/532?order=DESC&is_meta_key=0&orderby=title#038;is_meta_key=0&orderby=title\n",
      "532\n"
     ]
    },
    {
     "name": "stderr",
     "output_type": "stream",
     "text": [
      "2020-12-04 12:05:43 [scrapy.core.engine] DEBUG: Crawled (200) <GET https://carifilms.com/films/page/532?order=DESC&is_meta_key=0&orderby=title#038;is_meta_key=0&orderby=title> (referer: https://carifilms.com/films/page/531?order=DESC&is_meta_key=0&orderby=title)\n"
     ]
    },
    {
     "name": "stdout",
     "output_type": "stream",
     "text": [
      "https://carifilms.com/films/page/533?order=DESC&is_meta_key=0&orderby=title#038;is_meta_key=0&orderby=title\n",
      "533\n"
     ]
    },
    {
     "name": "stderr",
     "output_type": "stream",
     "text": [
      "2020-12-04 12:05:47 [scrapy.core.engine] DEBUG: Crawled (200) <GET https://carifilms.com/films/page/533?order=DESC&is_meta_key=0&orderby=title#038;is_meta_key=0&orderby=title> (referer: https://carifilms.com/films/page/532?order=DESC&is_meta_key=0&orderby=title)\n"
     ]
    },
    {
     "name": "stdout",
     "output_type": "stream",
     "text": [
      "https://carifilms.com/films/page/534?order=DESC&is_meta_key=0&orderby=title#038;is_meta_key=0&orderby=title\n",
      "534\n"
     ]
    },
    {
     "name": "stderr",
     "output_type": "stream",
     "text": [
      "2020-12-04 12:05:52 [scrapy.core.engine] DEBUG: Crawled (200) <GET https://carifilms.com/films/page/534?order=DESC&is_meta_key=0&orderby=title#038;is_meta_key=0&orderby=title> (referer: https://carifilms.com/films/page/533?order=DESC&is_meta_key=0&orderby=title)\n"
     ]
    },
    {
     "name": "stdout",
     "output_type": "stream",
     "text": [
      "https://carifilms.com/films/page/535?order=DESC&is_meta_key=0&orderby=title#038;is_meta_key=0&orderby=title\n",
      "535\n"
     ]
    },
    {
     "name": "stderr",
     "output_type": "stream",
     "text": [
      "2020-12-04 12:05:55 [scrapy.extensions.logstats] INFO: Crawled 534 pages (at 14 pages/min), scraped 0 items (at 0 items/min)\n",
      "2020-12-04 12:05:56 [scrapy.core.engine] DEBUG: Crawled (200) <GET https://carifilms.com/films/page/535?order=DESC&is_meta_key=0&orderby=title#038;is_meta_key=0&orderby=title> (referer: https://carifilms.com/films/page/534?order=DESC&is_meta_key=0&orderby=title)\n"
     ]
    },
    {
     "name": "stdout",
     "output_type": "stream",
     "text": [
      "https://carifilms.com/films/page/536?order=DESC&is_meta_key=0&orderby=title#038;is_meta_key=0&orderby=title\n",
      "536\n"
     ]
    },
    {
     "name": "stderr",
     "output_type": "stream",
     "text": [
      "2020-12-04 12:06:00 [scrapy.core.engine] DEBUG: Crawled (200) <GET https://carifilms.com/films/page/536?order=DESC&is_meta_key=0&orderby=title#038;is_meta_key=0&orderby=title> (referer: https://carifilms.com/films/page/535?order=DESC&is_meta_key=0&orderby=title)\n"
     ]
    },
    {
     "name": "stdout",
     "output_type": "stream",
     "text": [
      "https://carifilms.com/films/page/537?order=DESC&is_meta_key=0&orderby=title#038;is_meta_key=0&orderby=title\n",
      "537\n"
     ]
    },
    {
     "name": "stderr",
     "output_type": "stream",
     "text": [
      "2020-12-04 12:06:04 [scrapy.core.engine] DEBUG: Crawled (200) <GET https://carifilms.com/films/page/537?order=DESC&is_meta_key=0&orderby=title#038;is_meta_key=0&orderby=title> (referer: https://carifilms.com/films/page/536?order=DESC&is_meta_key=0&orderby=title)\n"
     ]
    },
    {
     "name": "stdout",
     "output_type": "stream",
     "text": [
      "https://carifilms.com/films/page/538?order=DESC&is_meta_key=0&orderby=title#038;is_meta_key=0&orderby=title\n",
      "538\n"
     ]
    },
    {
     "name": "stderr",
     "output_type": "stream",
     "text": [
      "2020-12-04 12:06:09 [scrapy.core.engine] DEBUG: Crawled (200) <GET https://carifilms.com/films/page/538?order=DESC&is_meta_key=0&orderby=title#038;is_meta_key=0&orderby=title> (referer: https://carifilms.com/films/page/537?order=DESC&is_meta_key=0&orderby=title)\n"
     ]
    },
    {
     "name": "stdout",
     "output_type": "stream",
     "text": [
      "https://carifilms.com/films/page/539?order=DESC&is_meta_key=0&orderby=title#038;is_meta_key=0&orderby=title\n",
      "539\n"
     ]
    },
    {
     "name": "stderr",
     "output_type": "stream",
     "text": [
      "2020-12-04 12:06:13 [scrapy.core.engine] DEBUG: Crawled (200) <GET https://carifilms.com/films/page/539?order=DESC&is_meta_key=0&orderby=title#038;is_meta_key=0&orderby=title> (referer: https://carifilms.com/films/page/538?order=DESC&is_meta_key=0&orderby=title)\n"
     ]
    },
    {
     "name": "stdout",
     "output_type": "stream",
     "text": [
      "https://carifilms.com/films/page/540?order=DESC&is_meta_key=0&orderby=title#038;is_meta_key=0&orderby=title\n",
      "540\n"
     ]
    },
    {
     "name": "stderr",
     "output_type": "stream",
     "text": [
      "2020-12-04 12:06:17 [scrapy.core.engine] DEBUG: Crawled (200) <GET https://carifilms.com/films/page/540?order=DESC&is_meta_key=0&orderby=title#038;is_meta_key=0&orderby=title> (referer: https://carifilms.com/films/page/539?order=DESC&is_meta_key=0&orderby=title)\n"
     ]
    },
    {
     "name": "stdout",
     "output_type": "stream",
     "text": [
      "https://carifilms.com/films/page/541?order=DESC&is_meta_key=0&orderby=title#038;is_meta_key=0&orderby=title\n",
      "541\n"
     ]
    },
    {
     "name": "stderr",
     "output_type": "stream",
     "text": [
      "2020-12-04 12:06:22 [scrapy.core.engine] DEBUG: Crawled (200) <GET https://carifilms.com/films/page/541?order=DESC&is_meta_key=0&orderby=title#038;is_meta_key=0&orderby=title> (referer: https://carifilms.com/films/page/540?order=DESC&is_meta_key=0&orderby=title)\n"
     ]
    },
    {
     "name": "stdout",
     "output_type": "stream",
     "text": [
      "https://carifilms.com/films/page/542?order=DESC&is_meta_key=0&orderby=title#038;is_meta_key=0&orderby=title\n",
      "542\n"
     ]
    },
    {
     "name": "stderr",
     "output_type": "stream",
     "text": [
      "2020-12-04 12:06:26 [scrapy.core.engine] DEBUG: Crawled (200) <GET https://carifilms.com/films/page/542?order=DESC&is_meta_key=0&orderby=title#038;is_meta_key=0&orderby=title> (referer: https://carifilms.com/films/page/541?order=DESC&is_meta_key=0&orderby=title)\n"
     ]
    },
    {
     "name": "stdout",
     "output_type": "stream",
     "text": [
      "https://carifilms.com/films/page/543?order=DESC&is_meta_key=0&orderby=title#038;is_meta_key=0&orderby=title\n",
      "543\n"
     ]
    },
    {
     "name": "stderr",
     "output_type": "stream",
     "text": [
      "2020-12-04 12:06:30 [scrapy.core.engine] DEBUG: Crawled (200) <GET https://carifilms.com/films/page/543?order=DESC&is_meta_key=0&orderby=title#038;is_meta_key=0&orderby=title> (referer: https://carifilms.com/films/page/542?order=DESC&is_meta_key=0&orderby=title)\n"
     ]
    },
    {
     "name": "stdout",
     "output_type": "stream",
     "text": [
      "https://carifilms.com/films/page/544?order=DESC&is_meta_key=0&orderby=title#038;is_meta_key=0&orderby=title\n",
      "544\n"
     ]
    },
    {
     "name": "stderr",
     "output_type": "stream",
     "text": [
      "2020-12-04 12:06:35 [scrapy.core.engine] DEBUG: Crawled (200) <GET https://carifilms.com/films/page/544?order=DESC&is_meta_key=0&orderby=title#038;is_meta_key=0&orderby=title> (referer: https://carifilms.com/films/page/543?order=DESC&is_meta_key=0&orderby=title)\n"
     ]
    },
    {
     "name": "stdout",
     "output_type": "stream",
     "text": [
      "https://carifilms.com/films/page/545?order=DESC&is_meta_key=0&orderby=title#038;is_meta_key=0&orderby=title\n",
      "545\n"
     ]
    },
    {
     "name": "stderr",
     "output_type": "stream",
     "text": [
      "2020-12-04 12:06:39 [scrapy.core.engine] DEBUG: Crawled (200) <GET https://carifilms.com/films/page/545?order=DESC&is_meta_key=0&orderby=title#038;is_meta_key=0&orderby=title> (referer: https://carifilms.com/films/page/544?order=DESC&is_meta_key=0&orderby=title)\n"
     ]
    },
    {
     "name": "stdout",
     "output_type": "stream",
     "text": [
      "https://carifilms.com/films/page/546?order=DESC&is_meta_key=0&orderby=title#038;is_meta_key=0&orderby=title\n",
      "546\n"
     ]
    },
    {
     "name": "stderr",
     "output_type": "stream",
     "text": [
      "2020-12-04 12:06:43 [scrapy.core.engine] DEBUG: Crawled (200) <GET https://carifilms.com/films/page/546?order=DESC&is_meta_key=0&orderby=title#038;is_meta_key=0&orderby=title> (referer: https://carifilms.com/films/page/545?order=DESC&is_meta_key=0&orderby=title)\n"
     ]
    },
    {
     "name": "stdout",
     "output_type": "stream",
     "text": [
      "https://carifilms.com/films/page/547?order=DESC&is_meta_key=0&orderby=title#038;is_meta_key=0&orderby=title\n",
      "547\n"
     ]
    },
    {
     "name": "stderr",
     "output_type": "stream",
     "text": [
      "2020-12-04 12:06:48 [scrapy.core.engine] DEBUG: Crawled (200) <GET https://carifilms.com/films/page/547?order=DESC&is_meta_key=0&orderby=title#038;is_meta_key=0&orderby=title> (referer: https://carifilms.com/films/page/546?order=DESC&is_meta_key=0&orderby=title)\n"
     ]
    },
    {
     "name": "stdout",
     "output_type": "stream",
     "text": [
      "https://carifilms.com/films/page/548?order=DESC&is_meta_key=0&orderby=title#038;is_meta_key=0&orderby=title\n",
      "548\n"
     ]
    },
    {
     "name": "stderr",
     "output_type": "stream",
     "text": [
      "2020-12-04 12:06:52 [scrapy.core.engine] DEBUG: Crawled (200) <GET https://carifilms.com/films/page/548?order=DESC&is_meta_key=0&orderby=title#038;is_meta_key=0&orderby=title> (referer: https://carifilms.com/films/page/547?order=DESC&is_meta_key=0&orderby=title)\n"
     ]
    },
    {
     "name": "stdout",
     "output_type": "stream",
     "text": [
      "https://carifilms.com/films/page/549?order=DESC&is_meta_key=0&orderby=title#038;is_meta_key=0&orderby=title\n",
      "549\n"
     ]
    },
    {
     "name": "stderr",
     "output_type": "stream",
     "text": [
      "2020-12-04 12:06:55 [scrapy.extensions.logstats] INFO: Crawled 548 pages (at 14 pages/min), scraped 0 items (at 0 items/min)\n",
      "2020-12-04 12:06:57 [scrapy.core.engine] DEBUG: Crawled (200) <GET https://carifilms.com/films/page/549?order=DESC&is_meta_key=0&orderby=title#038;is_meta_key=0&orderby=title> (referer: https://carifilms.com/films/page/548?order=DESC&is_meta_key=0&orderby=title)\n"
     ]
    },
    {
     "name": "stdout",
     "output_type": "stream",
     "text": [
      "https://carifilms.com/films/page/550?order=DESC&is_meta_key=0&orderby=title#038;is_meta_key=0&orderby=title\n",
      "550\n"
     ]
    },
    {
     "name": "stderr",
     "output_type": "stream",
     "text": [
      "2020-12-04 12:07:01 [scrapy.core.engine] DEBUG: Crawled (200) <GET https://carifilms.com/films/page/550?order=DESC&is_meta_key=0&orderby=title#038;is_meta_key=0&orderby=title> (referer: https://carifilms.com/films/page/549?order=DESC&is_meta_key=0&orderby=title)\n"
     ]
    },
    {
     "name": "stdout",
     "output_type": "stream",
     "text": [
      "https://carifilms.com/films/page/551?order=DESC&is_meta_key=0&orderby=title#038;is_meta_key=0&orderby=title\n",
      "551\n"
     ]
    },
    {
     "name": "stderr",
     "output_type": "stream",
     "text": [
      "2020-12-04 12:07:05 [scrapy.core.engine] DEBUG: Crawled (200) <GET https://carifilms.com/films/page/551?order=DESC&is_meta_key=0&orderby=title#038;is_meta_key=0&orderby=title> (referer: https://carifilms.com/films/page/550?order=DESC&is_meta_key=0&orderby=title)\n"
     ]
    },
    {
     "name": "stdout",
     "output_type": "stream",
     "text": [
      "https://carifilms.com/films/page/552?order=DESC&is_meta_key=0&orderby=title#038;is_meta_key=0&orderby=title\n",
      "552\n"
     ]
    },
    {
     "name": "stderr",
     "output_type": "stream",
     "text": [
      "2020-12-04 12:07:09 [scrapy.core.engine] DEBUG: Crawled (200) <GET https://carifilms.com/films/page/552?order=DESC&is_meta_key=0&orderby=title#038;is_meta_key=0&orderby=title> (referer: https://carifilms.com/films/page/551?order=DESC&is_meta_key=0&orderby=title)\n"
     ]
    },
    {
     "name": "stdout",
     "output_type": "stream",
     "text": [
      "https://carifilms.com/films/page/553?order=DESC&is_meta_key=0&orderby=title#038;is_meta_key=0&orderby=title\n",
      "553\n"
     ]
    },
    {
     "name": "stderr",
     "output_type": "stream",
     "text": [
      "2020-12-04 12:07:14 [scrapy.core.engine] DEBUG: Crawled (200) <GET https://carifilms.com/films/page/553?order=DESC&is_meta_key=0&orderby=title#038;is_meta_key=0&orderby=title> (referer: https://carifilms.com/films/page/552?order=DESC&is_meta_key=0&orderby=title)\n"
     ]
    },
    {
     "name": "stdout",
     "output_type": "stream",
     "text": [
      "https://carifilms.com/films/page/554?order=DESC&is_meta_key=0&orderby=title#038;is_meta_key=0&orderby=title\n",
      "554\n"
     ]
    },
    {
     "name": "stderr",
     "output_type": "stream",
     "text": [
      "2020-12-04 12:07:18 [scrapy.core.engine] DEBUG: Crawled (200) <GET https://carifilms.com/films/page/554?order=DESC&is_meta_key=0&orderby=title#038;is_meta_key=0&orderby=title> (referer: https://carifilms.com/films/page/553?order=DESC&is_meta_key=0&orderby=title)\n"
     ]
    },
    {
     "name": "stdout",
     "output_type": "stream",
     "text": [
      "https://carifilms.com/films/page/555?order=DESC&is_meta_key=0&orderby=title#038;is_meta_key=0&orderby=title\n",
      "555\n"
     ]
    },
    {
     "name": "stderr",
     "output_type": "stream",
     "text": [
      "2020-12-04 12:07:23 [scrapy.core.engine] DEBUG: Crawled (200) <GET https://carifilms.com/films/page/555?order=DESC&is_meta_key=0&orderby=title#038;is_meta_key=0&orderby=title> (referer: https://carifilms.com/films/page/554?order=DESC&is_meta_key=0&orderby=title)\n"
     ]
    },
    {
     "name": "stdout",
     "output_type": "stream",
     "text": [
      "https://carifilms.com/films/page/556?order=DESC&is_meta_key=0&orderby=title#038;is_meta_key=0&orderby=title\n",
      "556\n"
     ]
    },
    {
     "name": "stderr",
     "output_type": "stream",
     "text": [
      "2020-12-04 12:07:27 [scrapy.core.engine] DEBUG: Crawled (200) <GET https://carifilms.com/films/page/556?order=DESC&is_meta_key=0&orderby=title#038;is_meta_key=0&orderby=title> (referer: https://carifilms.com/films/page/555?order=DESC&is_meta_key=0&orderby=title)\n"
     ]
    },
    {
     "name": "stdout",
     "output_type": "stream",
     "text": [
      "https://carifilms.com/films/page/557?order=DESC&is_meta_key=0&orderby=title#038;is_meta_key=0&orderby=title\n",
      "557\n"
     ]
    },
    {
     "name": "stderr",
     "output_type": "stream",
     "text": [
      "2020-12-04 12:07:31 [scrapy.core.engine] DEBUG: Crawled (200) <GET https://carifilms.com/films/page/557?order=DESC&is_meta_key=0&orderby=title#038;is_meta_key=0&orderby=title> (referer: https://carifilms.com/films/page/556?order=DESC&is_meta_key=0&orderby=title)\n"
     ]
    },
    {
     "name": "stdout",
     "output_type": "stream",
     "text": [
      "https://carifilms.com/films/page/558?order=DESC&is_meta_key=0&orderby=title#038;is_meta_key=0&orderby=title\n",
      "558\n"
     ]
    },
    {
     "name": "stderr",
     "output_type": "stream",
     "text": [
      "2020-12-04 12:07:36 [scrapy.core.engine] DEBUG: Crawled (200) <GET https://carifilms.com/films/page/558?order=DESC&is_meta_key=0&orderby=title#038;is_meta_key=0&orderby=title> (referer: https://carifilms.com/films/page/557?order=DESC&is_meta_key=0&orderby=title)\n"
     ]
    },
    {
     "name": "stdout",
     "output_type": "stream",
     "text": [
      "https://carifilms.com/films/page/559?order=DESC&is_meta_key=0&orderby=title#038;is_meta_key=0&orderby=title\n",
      "559\n"
     ]
    },
    {
     "name": "stderr",
     "output_type": "stream",
     "text": [
      "2020-12-04 12:07:40 [scrapy.core.engine] DEBUG: Crawled (200) <GET https://carifilms.com/films/page/559?order=DESC&is_meta_key=0&orderby=title#038;is_meta_key=0&orderby=title> (referer: https://carifilms.com/films/page/558?order=DESC&is_meta_key=0&orderby=title)\n"
     ]
    },
    {
     "name": "stdout",
     "output_type": "stream",
     "text": [
      "https://carifilms.com/films/page/560?order=DESC&is_meta_key=0&orderby=title#038;is_meta_key=0&orderby=title\n",
      "560\n"
     ]
    },
    {
     "name": "stderr",
     "output_type": "stream",
     "text": [
      "2020-12-04 12:07:44 [scrapy.core.engine] DEBUG: Crawled (200) <GET https://carifilms.com/films/page/560?order=DESC&is_meta_key=0&orderby=title#038;is_meta_key=0&orderby=title> (referer: https://carifilms.com/films/page/559?order=DESC&is_meta_key=0&orderby=title)\n"
     ]
    },
    {
     "name": "stdout",
     "output_type": "stream",
     "text": [
      "https://carifilms.com/films/page/561?order=DESC&is_meta_key=0&orderby=title#038;is_meta_key=0&orderby=title\n",
      "561\n"
     ]
    },
    {
     "name": "stderr",
     "output_type": "stream",
     "text": [
      "2020-12-04 12:07:48 [scrapy.core.engine] DEBUG: Crawled (200) <GET https://carifilms.com/films/page/561?order=DESC&is_meta_key=0&orderby=title#038;is_meta_key=0&orderby=title> (referer: https://carifilms.com/films/page/560?order=DESC&is_meta_key=0&orderby=title)\n"
     ]
    },
    {
     "name": "stdout",
     "output_type": "stream",
     "text": [
      "https://carifilms.com/films/page/562?order=DESC&is_meta_key=0&orderby=title#038;is_meta_key=0&orderby=title\n",
      "562\n"
     ]
    },
    {
     "name": "stderr",
     "output_type": "stream",
     "text": [
      "2020-12-04 12:07:53 [scrapy.core.engine] DEBUG: Crawled (200) <GET https://carifilms.com/films/page/562?order=DESC&is_meta_key=0&orderby=title#038;is_meta_key=0&orderby=title> (referer: https://carifilms.com/films/page/561?order=DESC&is_meta_key=0&orderby=title)\n"
     ]
    },
    {
     "name": "stdout",
     "output_type": "stream",
     "text": [
      "https://carifilms.com/films/page/563?order=DESC&is_meta_key=0&orderby=title#038;is_meta_key=0&orderby=title\n",
      "563\n"
     ]
    },
    {
     "name": "stderr",
     "output_type": "stream",
     "text": [
      "2020-12-04 12:07:55 [scrapy.extensions.logstats] INFO: Crawled 562 pages (at 14 pages/min), scraped 0 items (at 0 items/min)\n",
      "2020-12-04 12:07:57 [scrapy.core.engine] DEBUG: Crawled (200) <GET https://carifilms.com/films/page/563?order=DESC&is_meta_key=0&orderby=title#038;is_meta_key=0&orderby=title> (referer: https://carifilms.com/films/page/562?order=DESC&is_meta_key=0&orderby=title)\n"
     ]
    },
    {
     "name": "stdout",
     "output_type": "stream",
     "text": [
      "https://carifilms.com/films/page/564?order=DESC&is_meta_key=0&orderby=title#038;is_meta_key=0&orderby=title\n",
      "564\n"
     ]
    },
    {
     "name": "stderr",
     "output_type": "stream",
     "text": [
      "2020-12-04 12:08:02 [scrapy.core.engine] DEBUG: Crawled (200) <GET https://carifilms.com/films/page/564?order=DESC&is_meta_key=0&orderby=title#038;is_meta_key=0&orderby=title> (referer: https://carifilms.com/films/page/563?order=DESC&is_meta_key=0&orderby=title)\n"
     ]
    },
    {
     "name": "stdout",
     "output_type": "stream",
     "text": [
      "https://carifilms.com/films/page/565?order=DESC&is_meta_key=0&orderby=title#038;is_meta_key=0&orderby=title\n",
      "565\n"
     ]
    },
    {
     "name": "stderr",
     "output_type": "stream",
     "text": [
      "2020-12-04 12:08:06 [scrapy.core.engine] DEBUG: Crawled (200) <GET https://carifilms.com/films/page/565?order=DESC&is_meta_key=0&orderby=title#038;is_meta_key=0&orderby=title> (referer: https://carifilms.com/films/page/564?order=DESC&is_meta_key=0&orderby=title)\n"
     ]
    },
    {
     "name": "stdout",
     "output_type": "stream",
     "text": [
      "https://carifilms.com/films/page/566?order=DESC&is_meta_key=0&orderby=title#038;is_meta_key=0&orderby=title\n",
      "566\n"
     ]
    },
    {
     "name": "stderr",
     "output_type": "stream",
     "text": [
      "2020-12-04 12:08:10 [scrapy.core.engine] DEBUG: Crawled (200) <GET https://carifilms.com/films/page/566?order=DESC&is_meta_key=0&orderby=title#038;is_meta_key=0&orderby=title> (referer: https://carifilms.com/films/page/565?order=DESC&is_meta_key=0&orderby=title)\n"
     ]
    },
    {
     "name": "stdout",
     "output_type": "stream",
     "text": [
      "https://carifilms.com/films/page/567?order=DESC&is_meta_key=0&orderby=title#038;is_meta_key=0&orderby=title\n",
      "567\n"
     ]
    },
    {
     "name": "stderr",
     "output_type": "stream",
     "text": [
      "2020-12-04 12:08:14 [scrapy.core.engine] DEBUG: Crawled (200) <GET https://carifilms.com/films/page/567?order=DESC&is_meta_key=0&orderby=title#038;is_meta_key=0&orderby=title> (referer: https://carifilms.com/films/page/566?order=DESC&is_meta_key=0&orderby=title)\n"
     ]
    },
    {
     "name": "stdout",
     "output_type": "stream",
     "text": [
      "https://carifilms.com/films/page/568?order=DESC&is_meta_key=0&orderby=title#038;is_meta_key=0&orderby=title\n",
      "568\n"
     ]
    },
    {
     "name": "stderr",
     "output_type": "stream",
     "text": [
      "2020-12-04 12:08:19 [scrapy.core.engine] DEBUG: Crawled (200) <GET https://carifilms.com/films/page/568?order=DESC&is_meta_key=0&orderby=title#038;is_meta_key=0&orderby=title> (referer: https://carifilms.com/films/page/567?order=DESC&is_meta_key=0&orderby=title)\n"
     ]
    },
    {
     "name": "stdout",
     "output_type": "stream",
     "text": [
      "https://carifilms.com/films/page/569?order=DESC&is_meta_key=0&orderby=title#038;is_meta_key=0&orderby=title\n",
      "569\n"
     ]
    },
    {
     "name": "stderr",
     "output_type": "stream",
     "text": [
      "2020-12-04 12:08:23 [scrapy.core.engine] DEBUG: Crawled (200) <GET https://carifilms.com/films/page/569?order=DESC&is_meta_key=0&orderby=title#038;is_meta_key=0&orderby=title> (referer: https://carifilms.com/films/page/568?order=DESC&is_meta_key=0&orderby=title)\n"
     ]
    },
    {
     "name": "stdout",
     "output_type": "stream",
     "text": [
      "https://carifilms.com/films/page/570?order=DESC&is_meta_key=0&orderby=title#038;is_meta_key=0&orderby=title\n",
      "570\n"
     ]
    },
    {
     "name": "stderr",
     "output_type": "stream",
     "text": [
      "2020-12-04 12:08:27 [scrapy.core.engine] DEBUG: Crawled (200) <GET https://carifilms.com/films/page/570?order=DESC&is_meta_key=0&orderby=title#038;is_meta_key=0&orderby=title> (referer: https://carifilms.com/films/page/569?order=DESC&is_meta_key=0&orderby=title)\n"
     ]
    },
    {
     "name": "stdout",
     "output_type": "stream",
     "text": [
      "https://carifilms.com/films/page/571?order=DESC&is_meta_key=0&orderby=title#038;is_meta_key=0&orderby=title\n",
      "571\n"
     ]
    },
    {
     "name": "stderr",
     "output_type": "stream",
     "text": [
      "2020-12-04 12:08:32 [scrapy.core.engine] DEBUG: Crawled (200) <GET https://carifilms.com/films/page/571?order=DESC&is_meta_key=0&orderby=title#038;is_meta_key=0&orderby=title> (referer: https://carifilms.com/films/page/570?order=DESC&is_meta_key=0&orderby=title)\n"
     ]
    },
    {
     "name": "stdout",
     "output_type": "stream",
     "text": [
      "https://carifilms.com/films/page/572?order=DESC&is_meta_key=0&orderby=title#038;is_meta_key=0&orderby=title\n",
      "572\n"
     ]
    },
    {
     "name": "stderr",
     "output_type": "stream",
     "text": [
      "2020-12-04 12:08:36 [scrapy.core.engine] DEBUG: Crawled (200) <GET https://carifilms.com/films/page/572?order=DESC&is_meta_key=0&orderby=title#038;is_meta_key=0&orderby=title> (referer: https://carifilms.com/films/page/571?order=DESC&is_meta_key=0&orderby=title)\n"
     ]
    },
    {
     "name": "stdout",
     "output_type": "stream",
     "text": [
      "https://carifilms.com/films/page/573?order=DESC&is_meta_key=0&orderby=title#038;is_meta_key=0&orderby=title\n",
      "573\n"
     ]
    },
    {
     "name": "stderr",
     "output_type": "stream",
     "text": [
      "2020-12-04 12:08:40 [scrapy.core.engine] DEBUG: Crawled (200) <GET https://carifilms.com/films/page/573?order=DESC&is_meta_key=0&orderby=title#038;is_meta_key=0&orderby=title> (referer: https://carifilms.com/films/page/572?order=DESC&is_meta_key=0&orderby=title)\n"
     ]
    },
    {
     "name": "stdout",
     "output_type": "stream",
     "text": [
      "https://carifilms.com/films/page/574?order=DESC&is_meta_key=0&orderby=title#038;is_meta_key=0&orderby=title\n",
      "574\n"
     ]
    },
    {
     "name": "stderr",
     "output_type": "stream",
     "text": [
      "2020-12-04 12:08:45 [scrapy.core.engine] DEBUG: Crawled (200) <GET https://carifilms.com/films/page/574?order=DESC&is_meta_key=0&orderby=title#038;is_meta_key=0&orderby=title> (referer: https://carifilms.com/films/page/573?order=DESC&is_meta_key=0&orderby=title)\n"
     ]
    },
    {
     "name": "stdout",
     "output_type": "stream",
     "text": [
      "https://carifilms.com/films/page/575?order=DESC&is_meta_key=0&orderby=title#038;is_meta_key=0&orderby=title\n",
      "575\n"
     ]
    },
    {
     "name": "stderr",
     "output_type": "stream",
     "text": [
      "2020-12-04 12:08:49 [scrapy.core.engine] DEBUG: Crawled (200) <GET https://carifilms.com/films/page/575?order=DESC&is_meta_key=0&orderby=title#038;is_meta_key=0&orderby=title> (referer: https://carifilms.com/films/page/574?order=DESC&is_meta_key=0&orderby=title)\n"
     ]
    },
    {
     "name": "stdout",
     "output_type": "stream",
     "text": [
      "https://carifilms.com/films/page/576?order=DESC&is_meta_key=0&orderby=title#038;is_meta_key=0&orderby=title\n",
      "576\n"
     ]
    },
    {
     "name": "stderr",
     "output_type": "stream",
     "text": [
      "2020-12-04 12:08:53 [scrapy.core.engine] DEBUG: Crawled (200) <GET https://carifilms.com/films/page/576?order=DESC&is_meta_key=0&orderby=title#038;is_meta_key=0&orderby=title> (referer: https://carifilms.com/films/page/575?order=DESC&is_meta_key=0&orderby=title)\n"
     ]
    },
    {
     "name": "stdout",
     "output_type": "stream",
     "text": [
      "https://carifilms.com/films/page/577?order=DESC&is_meta_key=0&orderby=title#038;is_meta_key=0&orderby=title\n",
      "577\n"
     ]
    },
    {
     "name": "stderr",
     "output_type": "stream",
     "text": [
      "2020-12-04 12:08:55 [scrapy.extensions.logstats] INFO: Crawled 576 pages (at 14 pages/min), scraped 0 items (at 0 items/min)\n",
      "2020-12-04 12:08:57 [scrapy.core.engine] DEBUG: Crawled (200) <GET https://carifilms.com/films/page/577?order=DESC&is_meta_key=0&orderby=title#038;is_meta_key=0&orderby=title> (referer: https://carifilms.com/films/page/576?order=DESC&is_meta_key=0&orderby=title)\n"
     ]
    },
    {
     "name": "stdout",
     "output_type": "stream",
     "text": [
      "https://carifilms.com/films/page/578?order=DESC&is_meta_key=0&orderby=title#038;is_meta_key=0&orderby=title\n",
      "578\n"
     ]
    },
    {
     "name": "stderr",
     "output_type": "stream",
     "text": [
      "2020-12-04 12:09:01 [scrapy.core.engine] DEBUG: Crawled (200) <GET https://carifilms.com/films/page/578?order=DESC&is_meta_key=0&orderby=title#038;is_meta_key=0&orderby=title> (referer: https://carifilms.com/films/page/577?order=DESC&is_meta_key=0&orderby=title)\n"
     ]
    },
    {
     "name": "stdout",
     "output_type": "stream",
     "text": [
      "https://carifilms.com/films/page/579?order=DESC&is_meta_key=0&orderby=title#038;is_meta_key=0&orderby=title\n",
      "579\n"
     ]
    },
    {
     "name": "stderr",
     "output_type": "stream",
     "text": [
      "2020-12-04 12:09:06 [scrapy.core.engine] DEBUG: Crawled (200) <GET https://carifilms.com/films/page/579?order=DESC&is_meta_key=0&orderby=title#038;is_meta_key=0&orderby=title> (referer: https://carifilms.com/films/page/578?order=DESC&is_meta_key=0&orderby=title)\n"
     ]
    },
    {
     "name": "stdout",
     "output_type": "stream",
     "text": [
      "https://carifilms.com/films/page/580?order=DESC&is_meta_key=0&orderby=title#038;is_meta_key=0&orderby=title\n",
      "580\n"
     ]
    },
    {
     "name": "stderr",
     "output_type": "stream",
     "text": [
      "2020-12-04 12:09:10 [scrapy.core.engine] DEBUG: Crawled (200) <GET https://carifilms.com/films/page/580?order=DESC&is_meta_key=0&orderby=title#038;is_meta_key=0&orderby=title> (referer: https://carifilms.com/films/page/579?order=DESC&is_meta_key=0&orderby=title)\n"
     ]
    },
    {
     "name": "stdout",
     "output_type": "stream",
     "text": [
      "https://carifilms.com/films/page/581?order=DESC&is_meta_key=0&orderby=title#038;is_meta_key=0&orderby=title\n",
      "581\n"
     ]
    },
    {
     "name": "stderr",
     "output_type": "stream",
     "text": [
      "2020-12-04 12:09:15 [scrapy.core.engine] DEBUG: Crawled (200) <GET https://carifilms.com/films/page/581?order=DESC&is_meta_key=0&orderby=title#038;is_meta_key=0&orderby=title> (referer: https://carifilms.com/films/page/580?order=DESC&is_meta_key=0&orderby=title)\n"
     ]
    },
    {
     "name": "stdout",
     "output_type": "stream",
     "text": [
      "https://carifilms.com/films/page/582?order=DESC&is_meta_key=0&orderby=title#038;is_meta_key=0&orderby=title\n",
      "582\n"
     ]
    },
    {
     "name": "stderr",
     "output_type": "stream",
     "text": [
      "2020-12-04 12:09:19 [scrapy.core.engine] DEBUG: Crawled (200) <GET https://carifilms.com/films/page/582?order=DESC&is_meta_key=0&orderby=title#038;is_meta_key=0&orderby=title> (referer: https://carifilms.com/films/page/581?order=DESC&is_meta_key=0&orderby=title)\n"
     ]
    },
    {
     "name": "stdout",
     "output_type": "stream",
     "text": [
      "https://carifilms.com/films/page/583?order=DESC&is_meta_key=0&orderby=title#038;is_meta_key=0&orderby=title\n",
      "583\n"
     ]
    },
    {
     "name": "stderr",
     "output_type": "stream",
     "text": [
      "2020-12-04 12:09:24 [scrapy.core.engine] DEBUG: Crawled (200) <GET https://carifilms.com/films/page/583?order=DESC&is_meta_key=0&orderby=title#038;is_meta_key=0&orderby=title> (referer: https://carifilms.com/films/page/582?order=DESC&is_meta_key=0&orderby=title)\n"
     ]
    },
    {
     "name": "stdout",
     "output_type": "stream",
     "text": [
      "https://carifilms.com/films/page/584?order=DESC&is_meta_key=0&orderby=title#038;is_meta_key=0&orderby=title\n",
      "584\n"
     ]
    },
    {
     "name": "stderr",
     "output_type": "stream",
     "text": [
      "2020-12-04 12:09:28 [scrapy.core.engine] DEBUG: Crawled (200) <GET https://carifilms.com/films/page/584?order=DESC&is_meta_key=0&orderby=title#038;is_meta_key=0&orderby=title> (referer: https://carifilms.com/films/page/583?order=DESC&is_meta_key=0&orderby=title)\n"
     ]
    },
    {
     "name": "stdout",
     "output_type": "stream",
     "text": [
      "https://carifilms.com/films/page/585?order=DESC&is_meta_key=0&orderby=title#038;is_meta_key=0&orderby=title\n",
      "585\n"
     ]
    },
    {
     "name": "stderr",
     "output_type": "stream",
     "text": [
      "2020-12-04 12:09:33 [scrapy.core.engine] DEBUG: Crawled (200) <GET https://carifilms.com/films/page/585?order=DESC&is_meta_key=0&orderby=title#038;is_meta_key=0&orderby=title> (referer: https://carifilms.com/films/page/584?order=DESC&is_meta_key=0&orderby=title)\n"
     ]
    },
    {
     "name": "stdout",
     "output_type": "stream",
     "text": [
      "https://carifilms.com/films/page/586?order=DESC&is_meta_key=0&orderby=title#038;is_meta_key=0&orderby=title\n",
      "586\n"
     ]
    },
    {
     "name": "stderr",
     "output_type": "stream",
     "text": [
      "2020-12-04 12:09:37 [scrapy.core.engine] DEBUG: Crawled (200) <GET https://carifilms.com/films/page/586?order=DESC&is_meta_key=0&orderby=title#038;is_meta_key=0&orderby=title> (referer: https://carifilms.com/films/page/585?order=DESC&is_meta_key=0&orderby=title)\n"
     ]
    },
    {
     "name": "stdout",
     "output_type": "stream",
     "text": [
      "https://carifilms.com/films/page/587?order=DESC&is_meta_key=0&orderby=title#038;is_meta_key=0&orderby=title\n",
      "587\n"
     ]
    },
    {
     "name": "stderr",
     "output_type": "stream",
     "text": [
      "2020-12-04 12:09:42 [scrapy.core.engine] DEBUG: Crawled (200) <GET https://carifilms.com/films/page/587?order=DESC&is_meta_key=0&orderby=title#038;is_meta_key=0&orderby=title> (referer: https://carifilms.com/films/page/586?order=DESC&is_meta_key=0&orderby=title)\n"
     ]
    },
    {
     "name": "stdout",
     "output_type": "stream",
     "text": [
      "https://carifilms.com/films/page/588?order=DESC&is_meta_key=0&orderby=title#038;is_meta_key=0&orderby=title\n",
      "588\n"
     ]
    },
    {
     "name": "stderr",
     "output_type": "stream",
     "text": [
      "2020-12-04 12:09:46 [scrapy.core.engine] DEBUG: Crawled (200) <GET https://carifilms.com/films/page/588?order=DESC&is_meta_key=0&orderby=title#038;is_meta_key=0&orderby=title> (referer: https://carifilms.com/films/page/587?order=DESC&is_meta_key=0&orderby=title)\n"
     ]
    },
    {
     "name": "stdout",
     "output_type": "stream",
     "text": [
      "https://carifilms.com/films/page/589?order=DESC&is_meta_key=0&orderby=title#038;is_meta_key=0&orderby=title\n",
      "589\n"
     ]
    },
    {
     "name": "stderr",
     "output_type": "stream",
     "text": [
      "2020-12-04 12:09:51 [scrapy.core.engine] DEBUG: Crawled (200) <GET https://carifilms.com/films/page/589?order=DESC&is_meta_key=0&orderby=title#038;is_meta_key=0&orderby=title> (referer: https://carifilms.com/films/page/588?order=DESC&is_meta_key=0&orderby=title)\n"
     ]
    },
    {
     "name": "stdout",
     "output_type": "stream",
     "text": [
      "https://carifilms.com/films/page/590?order=DESC&is_meta_key=0&orderby=title#038;is_meta_key=0&orderby=title\n",
      "590\n"
     ]
    },
    {
     "name": "stderr",
     "output_type": "stream",
     "text": [
      "2020-12-04 12:09:55 [scrapy.extensions.logstats] INFO: Crawled 589 pages (at 13 pages/min), scraped 0 items (at 0 items/min)\n",
      "2020-12-04 12:09:55 [scrapy.core.engine] DEBUG: Crawled (200) <GET https://carifilms.com/films/page/590?order=DESC&is_meta_key=0&orderby=title#038;is_meta_key=0&orderby=title> (referer: https://carifilms.com/films/page/589?order=DESC&is_meta_key=0&orderby=title)\n"
     ]
    },
    {
     "name": "stdout",
     "output_type": "stream",
     "text": [
      "https://carifilms.com/films/page/591?order=DESC&is_meta_key=0&orderby=title#038;is_meta_key=0&orderby=title\n",
      "591\n"
     ]
    },
    {
     "name": "stderr",
     "output_type": "stream",
     "text": [
      "2020-12-04 12:10:00 [scrapy.core.engine] DEBUG: Crawled (200) <GET https://carifilms.com/films/page/591?order=DESC&is_meta_key=0&orderby=title#038;is_meta_key=0&orderby=title> (referer: https://carifilms.com/films/page/590?order=DESC&is_meta_key=0&orderby=title)\n"
     ]
    },
    {
     "name": "stdout",
     "output_type": "stream",
     "text": [
      "https://carifilms.com/films/page/592?order=DESC&is_meta_key=0&orderby=title#038;is_meta_key=0&orderby=title\n",
      "592\n"
     ]
    },
    {
     "name": "stderr",
     "output_type": "stream",
     "text": [
      "2020-12-04 12:10:04 [scrapy.core.engine] DEBUG: Crawled (200) <GET https://carifilms.com/films/page/592?order=DESC&is_meta_key=0&orderby=title#038;is_meta_key=0&orderby=title> (referer: https://carifilms.com/films/page/591?order=DESC&is_meta_key=0&orderby=title)\n"
     ]
    },
    {
     "name": "stdout",
     "output_type": "stream",
     "text": [
      "https://carifilms.com/films/page/593?order=DESC&is_meta_key=0&orderby=title#038;is_meta_key=0&orderby=title\n",
      "593\n"
     ]
    },
    {
     "name": "stderr",
     "output_type": "stream",
     "text": [
      "2020-12-04 12:10:09 [scrapy.core.engine] DEBUG: Crawled (200) <GET https://carifilms.com/films/page/593?order=DESC&is_meta_key=0&orderby=title#038;is_meta_key=0&orderby=title> (referer: https://carifilms.com/films/page/592?order=DESC&is_meta_key=0&orderby=title)\n"
     ]
    },
    {
     "name": "stdout",
     "output_type": "stream",
     "text": [
      "https://carifilms.com/films/page/594?order=DESC&is_meta_key=0&orderby=title#038;is_meta_key=0&orderby=title\n",
      "594\n"
     ]
    },
    {
     "name": "stderr",
     "output_type": "stream",
     "text": [
      "2020-12-04 12:10:13 [scrapy.core.engine] DEBUG: Crawled (200) <GET https://carifilms.com/films/page/594?order=DESC&is_meta_key=0&orderby=title#038;is_meta_key=0&orderby=title> (referer: https://carifilms.com/films/page/593?order=DESC&is_meta_key=0&orderby=title)\n"
     ]
    },
    {
     "name": "stdout",
     "output_type": "stream",
     "text": [
      "https://carifilms.com/films/page/595?order=DESC&is_meta_key=0&orderby=title#038;is_meta_key=0&orderby=title\n",
      "595\n"
     ]
    },
    {
     "name": "stderr",
     "output_type": "stream",
     "text": [
      "2020-12-04 12:10:18 [scrapy.core.engine] DEBUG: Crawled (200) <GET https://carifilms.com/films/page/595?order=DESC&is_meta_key=0&orderby=title#038;is_meta_key=0&orderby=title> (referer: https://carifilms.com/films/page/594?order=DESC&is_meta_key=0&orderby=title)\n"
     ]
    },
    {
     "name": "stdout",
     "output_type": "stream",
     "text": [
      "https://carifilms.com/films/page/596?order=DESC&is_meta_key=0&orderby=title#038;is_meta_key=0&orderby=title\n",
      "596\n"
     ]
    },
    {
     "name": "stderr",
     "output_type": "stream",
     "text": [
      "2020-12-04 12:10:22 [scrapy.core.engine] DEBUG: Crawled (200) <GET https://carifilms.com/films/page/596?order=DESC&is_meta_key=0&orderby=title#038;is_meta_key=0&orderby=title> (referer: https://carifilms.com/films/page/595?order=DESC&is_meta_key=0&orderby=title)\n"
     ]
    },
    {
     "name": "stdout",
     "output_type": "stream",
     "text": [
      "https://carifilms.com/films/page/597?order=DESC&is_meta_key=0&orderby=title#038;is_meta_key=0&orderby=title\n",
      "597\n"
     ]
    },
    {
     "name": "stderr",
     "output_type": "stream",
     "text": [
      "2020-12-04 12:10:26 [scrapy.core.engine] DEBUG: Crawled (200) <GET https://carifilms.com/films/page/597?order=DESC&is_meta_key=0&orderby=title#038;is_meta_key=0&orderby=title> (referer: https://carifilms.com/films/page/596?order=DESC&is_meta_key=0&orderby=title)\n"
     ]
    },
    {
     "name": "stdout",
     "output_type": "stream",
     "text": [
      "https://carifilms.com/films/page/598?order=DESC&is_meta_key=0&orderby=title#038;is_meta_key=0&orderby=title\n",
      "598\n"
     ]
    },
    {
     "name": "stderr",
     "output_type": "stream",
     "text": [
      "2020-12-04 12:10:31 [scrapy.core.engine] DEBUG: Crawled (200) <GET https://carifilms.com/films/page/598?order=DESC&is_meta_key=0&orderby=title#038;is_meta_key=0&orderby=title> (referer: https://carifilms.com/films/page/597?order=DESC&is_meta_key=0&orderby=title)\n"
     ]
    },
    {
     "name": "stdout",
     "output_type": "stream",
     "text": [
      "https://carifilms.com/films/page/599?order=DESC&is_meta_key=0&orderby=title#038;is_meta_key=0&orderby=title\n",
      "599\n"
     ]
    },
    {
     "name": "stderr",
     "output_type": "stream",
     "text": [
      "2020-12-04 12:10:35 [scrapy.core.engine] DEBUG: Crawled (200) <GET https://carifilms.com/films/page/599?order=DESC&is_meta_key=0&orderby=title#038;is_meta_key=0&orderby=title> (referer: https://carifilms.com/films/page/598?order=DESC&is_meta_key=0&orderby=title)\n"
     ]
    },
    {
     "name": "stdout",
     "output_type": "stream",
     "text": [
      "https://carifilms.com/films/page/600?order=DESC&is_meta_key=0&orderby=title#038;is_meta_key=0&orderby=title\n",
      "600\n"
     ]
    },
    {
     "name": "stderr",
     "output_type": "stream",
     "text": [
      "2020-12-04 12:10:39 [scrapy.core.engine] DEBUG: Crawled (200) <GET https://carifilms.com/films/page/600?order=DESC&is_meta_key=0&orderby=title#038;is_meta_key=0&orderby=title> (referer: https://carifilms.com/films/page/599?order=DESC&is_meta_key=0&orderby=title)\n"
     ]
    },
    {
     "name": "stdout",
     "output_type": "stream",
     "text": [
      "https://carifilms.com/films/page/601?order=DESC&is_meta_key=0&orderby=title#038;is_meta_key=0&orderby=title\n",
      "601\n"
     ]
    },
    {
     "name": "stderr",
     "output_type": "stream",
     "text": [
      "2020-12-04 12:10:44 [scrapy.core.engine] DEBUG: Crawled (200) <GET https://carifilms.com/films/page/601?order=DESC&is_meta_key=0&orderby=title#038;is_meta_key=0&orderby=title> (referer: https://carifilms.com/films/page/600?order=DESC&is_meta_key=0&orderby=title)\n"
     ]
    },
    {
     "name": "stdout",
     "output_type": "stream",
     "text": [
      "https://carifilms.com/films/page/602?order=DESC&is_meta_key=0&orderby=title#038;is_meta_key=0&orderby=title\n",
      "602\n"
     ]
    },
    {
     "name": "stderr",
     "output_type": "stream",
     "text": [
      "2020-12-04 12:10:48 [scrapy.core.engine] DEBUG: Crawled (200) <GET https://carifilms.com/films/page/602?order=DESC&is_meta_key=0&orderby=title#038;is_meta_key=0&orderby=title> (referer: https://carifilms.com/films/page/601?order=DESC&is_meta_key=0&orderby=title)\n"
     ]
    },
    {
     "name": "stdout",
     "output_type": "stream",
     "text": [
      "https://carifilms.com/films/page/603?order=DESC&is_meta_key=0&orderby=title#038;is_meta_key=0&orderby=title\n",
      "603\n"
     ]
    },
    {
     "name": "stderr",
     "output_type": "stream",
     "text": [
      "2020-12-04 12:10:52 [scrapy.core.engine] DEBUG: Crawled (200) <GET https://carifilms.com/films/page/603?order=DESC&is_meta_key=0&orderby=title#038;is_meta_key=0&orderby=title> (referer: https://carifilms.com/films/page/602?order=DESC&is_meta_key=0&orderby=title)\n"
     ]
    },
    {
     "name": "stdout",
     "output_type": "stream",
     "text": [
      "https://carifilms.com/films/page/604?order=DESC&is_meta_key=0&orderby=title#038;is_meta_key=0&orderby=title\n",
      "604\n"
     ]
    },
    {
     "name": "stderr",
     "output_type": "stream",
     "text": [
      "2020-12-04 12:10:55 [scrapy.extensions.logstats] INFO: Crawled 603 pages (at 14 pages/min), scraped 0 items (at 0 items/min)\n",
      "2020-12-04 12:10:56 [scrapy.core.engine] DEBUG: Crawled (200) <GET https://carifilms.com/films/page/604?order=DESC&is_meta_key=0&orderby=title#038;is_meta_key=0&orderby=title> (referer: https://carifilms.com/films/page/603?order=DESC&is_meta_key=0&orderby=title)\n"
     ]
    },
    {
     "name": "stdout",
     "output_type": "stream",
     "text": [
      "https://carifilms.com/films/page/605?order=DESC&is_meta_key=0&orderby=title#038;is_meta_key=0&orderby=title\n",
      "605\n"
     ]
    },
    {
     "name": "stderr",
     "output_type": "stream",
     "text": [
      "2020-12-04 12:11:01 [scrapy.core.engine] DEBUG: Crawled (200) <GET https://carifilms.com/films/page/605?order=DESC&is_meta_key=0&orderby=title#038;is_meta_key=0&orderby=title> (referer: https://carifilms.com/films/page/604?order=DESC&is_meta_key=0&orderby=title)\n"
     ]
    },
    {
     "name": "stdout",
     "output_type": "stream",
     "text": [
      "https://carifilms.com/films/page/606?order=DESC&is_meta_key=0&orderby=title#038;is_meta_key=0&orderby=title\n",
      "606\n"
     ]
    },
    {
     "name": "stderr",
     "output_type": "stream",
     "text": [
      "2020-12-04 12:11:05 [scrapy.core.engine] DEBUG: Crawled (200) <GET https://carifilms.com/films/page/606?order=DESC&is_meta_key=0&orderby=title#038;is_meta_key=0&orderby=title> (referer: https://carifilms.com/films/page/605?order=DESC&is_meta_key=0&orderby=title)\n"
     ]
    },
    {
     "name": "stdout",
     "output_type": "stream",
     "text": [
      "https://carifilms.com/films/page/607?order=DESC&is_meta_key=0&orderby=title#038;is_meta_key=0&orderby=title\n",
      "607\n"
     ]
    },
    {
     "name": "stderr",
     "output_type": "stream",
     "text": [
      "2020-12-04 12:11:10 [scrapy.core.engine] DEBUG: Crawled (200) <GET https://carifilms.com/films/page/607?order=DESC&is_meta_key=0&orderby=title#038;is_meta_key=0&orderby=title> (referer: https://carifilms.com/films/page/606?order=DESC&is_meta_key=0&orderby=title)\n"
     ]
    },
    {
     "name": "stdout",
     "output_type": "stream",
     "text": [
      "https://carifilms.com/films/page/608?order=DESC&is_meta_key=0&orderby=title#038;is_meta_key=0&orderby=title\n",
      "608\n"
     ]
    },
    {
     "name": "stderr",
     "output_type": "stream",
     "text": [
      "2020-12-04 12:11:14 [scrapy.core.engine] DEBUG: Crawled (200) <GET https://carifilms.com/films/page/608?order=DESC&is_meta_key=0&orderby=title#038;is_meta_key=0&orderby=title> (referer: https://carifilms.com/films/page/607?order=DESC&is_meta_key=0&orderby=title)\n"
     ]
    },
    {
     "name": "stdout",
     "output_type": "stream",
     "text": [
      "https://carifilms.com/films/page/609?order=DESC&is_meta_key=0&orderby=title#038;is_meta_key=0&orderby=title\n",
      "609\n"
     ]
    },
    {
     "name": "stderr",
     "output_type": "stream",
     "text": [
      "2020-12-04 12:11:18 [scrapy.core.engine] DEBUG: Crawled (200) <GET https://carifilms.com/films/page/609?order=DESC&is_meta_key=0&orderby=title#038;is_meta_key=0&orderby=title> (referer: https://carifilms.com/films/page/608?order=DESC&is_meta_key=0&orderby=title)\n"
     ]
    },
    {
     "name": "stdout",
     "output_type": "stream",
     "text": [
      "https://carifilms.com/films/page/610?order=DESC&is_meta_key=0&orderby=title#038;is_meta_key=0&orderby=title\n",
      "610\n"
     ]
    },
    {
     "name": "stderr",
     "output_type": "stream",
     "text": [
      "2020-12-04 12:11:22 [scrapy.core.engine] DEBUG: Crawled (200) <GET https://carifilms.com/films/page/610?order=DESC&is_meta_key=0&orderby=title#038;is_meta_key=0&orderby=title> (referer: https://carifilms.com/films/page/609?order=DESC&is_meta_key=0&orderby=title)\n"
     ]
    },
    {
     "name": "stdout",
     "output_type": "stream",
     "text": [
      "https://carifilms.com/films/page/611?order=DESC&is_meta_key=0&orderby=title#038;is_meta_key=0&orderby=title\n",
      "611\n"
     ]
    },
    {
     "name": "stderr",
     "output_type": "stream",
     "text": [
      "2020-12-04 12:11:26 [scrapy.core.engine] DEBUG: Crawled (200) <GET https://carifilms.com/films/page/611?order=DESC&is_meta_key=0&orderby=title#038;is_meta_key=0&orderby=title> (referer: https://carifilms.com/films/page/610?order=DESC&is_meta_key=0&orderby=title)\n"
     ]
    },
    {
     "name": "stdout",
     "output_type": "stream",
     "text": [
      "https://carifilms.com/films/page/612?order=DESC&is_meta_key=0&orderby=title#038;is_meta_key=0&orderby=title\n",
      "612\n"
     ]
    },
    {
     "name": "stderr",
     "output_type": "stream",
     "text": [
      "2020-12-04 12:11:31 [scrapy.core.engine] DEBUG: Crawled (200) <GET https://carifilms.com/films/page/612?order=DESC&is_meta_key=0&orderby=title#038;is_meta_key=0&orderby=title> (referer: https://carifilms.com/films/page/611?order=DESC&is_meta_key=0&orderby=title)\n"
     ]
    },
    {
     "name": "stdout",
     "output_type": "stream",
     "text": [
      "https://carifilms.com/films/page/613?order=DESC&is_meta_key=0&orderby=title#038;is_meta_key=0&orderby=title\n",
      "613\n"
     ]
    },
    {
     "name": "stderr",
     "output_type": "stream",
     "text": [
      "2020-12-04 12:11:35 [scrapy.core.engine] DEBUG: Crawled (200) <GET https://carifilms.com/films/page/613?order=DESC&is_meta_key=0&orderby=title#038;is_meta_key=0&orderby=title> (referer: https://carifilms.com/films/page/612?order=DESC&is_meta_key=0&orderby=title)\n"
     ]
    },
    {
     "name": "stdout",
     "output_type": "stream",
     "text": [
      "https://carifilms.com/films/page/614?order=DESC&is_meta_key=0&orderby=title#038;is_meta_key=0&orderby=title\n",
      "614\n"
     ]
    },
    {
     "name": "stderr",
     "output_type": "stream",
     "text": [
      "2020-12-04 12:11:40 [scrapy.core.engine] DEBUG: Crawled (200) <GET https://carifilms.com/films/page/614?order=DESC&is_meta_key=0&orderby=title#038;is_meta_key=0&orderby=title> (referer: https://carifilms.com/films/page/613?order=DESC&is_meta_key=0&orderby=title)\n"
     ]
    },
    {
     "name": "stdout",
     "output_type": "stream",
     "text": [
      "https://carifilms.com/films/page/615?order=DESC&is_meta_key=0&orderby=title#038;is_meta_key=0&orderby=title\n",
      "615\n"
     ]
    },
    {
     "name": "stderr",
     "output_type": "stream",
     "text": [
      "2020-12-04 12:11:44 [scrapy.core.engine] DEBUG: Crawled (200) <GET https://carifilms.com/films/page/615?order=DESC&is_meta_key=0&orderby=title#038;is_meta_key=0&orderby=title> (referer: https://carifilms.com/films/page/614?order=DESC&is_meta_key=0&orderby=title)\n"
     ]
    },
    {
     "name": "stdout",
     "output_type": "stream",
     "text": [
      "https://carifilms.com/films/page/616?order=DESC&is_meta_key=0&orderby=title#038;is_meta_key=0&orderby=title\n",
      "616\n"
     ]
    },
    {
     "name": "stderr",
     "output_type": "stream",
     "text": [
      "2020-12-04 12:11:48 [scrapy.core.engine] DEBUG: Crawled (200) <GET https://carifilms.com/films/page/616?order=DESC&is_meta_key=0&orderby=title#038;is_meta_key=0&orderby=title> (referer: https://carifilms.com/films/page/615?order=DESC&is_meta_key=0&orderby=title)\n"
     ]
    },
    {
     "name": "stdout",
     "output_type": "stream",
     "text": [
      "https://carifilms.com/films/page/617?order=DESC&is_meta_key=0&orderby=title#038;is_meta_key=0&orderby=title\n",
      "617\n"
     ]
    },
    {
     "name": "stderr",
     "output_type": "stream",
     "text": [
      "2020-12-04 12:11:53 [scrapy.core.engine] DEBUG: Crawled (200) <GET https://carifilms.com/films/page/617?order=DESC&is_meta_key=0&orderby=title#038;is_meta_key=0&orderby=title> (referer: https://carifilms.com/films/page/616?order=DESC&is_meta_key=0&orderby=title)\n"
     ]
    },
    {
     "name": "stdout",
     "output_type": "stream",
     "text": [
      "https://carifilms.com/films/page/618?order=DESC&is_meta_key=0&orderby=title#038;is_meta_key=0&orderby=title\n",
      "618\n"
     ]
    },
    {
     "name": "stderr",
     "output_type": "stream",
     "text": [
      "2020-12-04 12:11:55 [scrapy.extensions.logstats] INFO: Crawled 617 pages (at 14 pages/min), scraped 0 items (at 0 items/min)\n",
      "2020-12-04 12:11:57 [scrapy.core.engine] DEBUG: Crawled (200) <GET https://carifilms.com/films/page/618?order=DESC&is_meta_key=0&orderby=title#038;is_meta_key=0&orderby=title> (referer: https://carifilms.com/films/page/617?order=DESC&is_meta_key=0&orderby=title)\n"
     ]
    },
    {
     "name": "stdout",
     "output_type": "stream",
     "text": [
      "https://carifilms.com/films/page/619?order=DESC&is_meta_key=0&orderby=title#038;is_meta_key=0&orderby=title\n",
      "619\n"
     ]
    },
    {
     "name": "stderr",
     "output_type": "stream",
     "text": [
      "2020-12-04 12:12:01 [scrapy.core.engine] DEBUG: Crawled (200) <GET https://carifilms.com/films/page/619?order=DESC&is_meta_key=0&orderby=title#038;is_meta_key=0&orderby=title> (referer: https://carifilms.com/films/page/618?order=DESC&is_meta_key=0&orderby=title)\n"
     ]
    },
    {
     "name": "stdout",
     "output_type": "stream",
     "text": [
      "https://carifilms.com/films/page/620?order=DESC&is_meta_key=0&orderby=title#038;is_meta_key=0&orderby=title\n",
      "620\n"
     ]
    },
    {
     "name": "stderr",
     "output_type": "stream",
     "text": [
      "2020-12-04 12:12:06 [scrapy.core.engine] DEBUG: Crawled (200) <GET https://carifilms.com/films/page/620?order=DESC&is_meta_key=0&orderby=title#038;is_meta_key=0&orderby=title> (referer: https://carifilms.com/films/page/619?order=DESC&is_meta_key=0&orderby=title)\n"
     ]
    },
    {
     "name": "stdout",
     "output_type": "stream",
     "text": [
      "https://carifilms.com/films/page/621?order=DESC&is_meta_key=0&orderby=title#038;is_meta_key=0&orderby=title\n",
      "621\n"
     ]
    },
    {
     "name": "stderr",
     "output_type": "stream",
     "text": [
      "2020-12-04 12:12:10 [scrapy.core.engine] DEBUG: Crawled (200) <GET https://carifilms.com/films/page/621?order=DESC&is_meta_key=0&orderby=title#038;is_meta_key=0&orderby=title> (referer: https://carifilms.com/films/page/620?order=DESC&is_meta_key=0&orderby=title)\n"
     ]
    },
    {
     "name": "stdout",
     "output_type": "stream",
     "text": [
      "https://carifilms.com/films/page/622?order=DESC&is_meta_key=0&orderby=title#038;is_meta_key=0&orderby=title\n",
      "622\n"
     ]
    },
    {
     "name": "stderr",
     "output_type": "stream",
     "text": [
      "2020-12-04 12:12:14 [scrapy.core.engine] DEBUG: Crawled (200) <GET https://carifilms.com/films/page/622?order=DESC&is_meta_key=0&orderby=title#038;is_meta_key=0&orderby=title> (referer: https://carifilms.com/films/page/621?order=DESC&is_meta_key=0&orderby=title)\n"
     ]
    },
    {
     "name": "stdout",
     "output_type": "stream",
     "text": [
      "https://carifilms.com/films/page/623?order=DESC&is_meta_key=0&orderby=title#038;is_meta_key=0&orderby=title\n",
      "623\n"
     ]
    },
    {
     "name": "stderr",
     "output_type": "stream",
     "text": [
      "2020-12-04 12:12:18 [scrapy.core.engine] DEBUG: Crawled (200) <GET https://carifilms.com/films/page/623?order=DESC&is_meta_key=0&orderby=title#038;is_meta_key=0&orderby=title> (referer: https://carifilms.com/films/page/622?order=DESC&is_meta_key=0&orderby=title)\n"
     ]
    },
    {
     "name": "stdout",
     "output_type": "stream",
     "text": [
      "https://carifilms.com/films/page/624?order=DESC&is_meta_key=0&orderby=title#038;is_meta_key=0&orderby=title\n",
      "624\n"
     ]
    },
    {
     "name": "stderr",
     "output_type": "stream",
     "text": [
      "2020-12-04 12:12:22 [scrapy.core.engine] DEBUG: Crawled (200) <GET https://carifilms.com/films/page/624?order=DESC&is_meta_key=0&orderby=title#038;is_meta_key=0&orderby=title> (referer: https://carifilms.com/films/page/623?order=DESC&is_meta_key=0&orderby=title)\n"
     ]
    },
    {
     "name": "stdout",
     "output_type": "stream",
     "text": [
      "https://carifilms.com/films/page/625?order=DESC&is_meta_key=0&orderby=title#038;is_meta_key=0&orderby=title\n",
      "625\n"
     ]
    },
    {
     "name": "stderr",
     "output_type": "stream",
     "text": [
      "2020-12-04 12:12:27 [scrapy.core.engine] DEBUG: Crawled (200) <GET https://carifilms.com/films/page/625?order=DESC&is_meta_key=0&orderby=title#038;is_meta_key=0&orderby=title> (referer: https://carifilms.com/films/page/624?order=DESC&is_meta_key=0&orderby=title)\n"
     ]
    },
    {
     "name": "stdout",
     "output_type": "stream",
     "text": [
      "https://carifilms.com/films/page/626?order=DESC&is_meta_key=0&orderby=title#038;is_meta_key=0&orderby=title\n",
      "626\n"
     ]
    },
    {
     "name": "stderr",
     "output_type": "stream",
     "text": [
      "2020-12-04 12:12:31 [scrapy.core.engine] DEBUG: Crawled (200) <GET https://carifilms.com/films/page/626?order=DESC&is_meta_key=0&orderby=title#038;is_meta_key=0&orderby=title> (referer: https://carifilms.com/films/page/625?order=DESC&is_meta_key=0&orderby=title)\n"
     ]
    },
    {
     "name": "stdout",
     "output_type": "stream",
     "text": [
      "https://carifilms.com/films/page/627?order=DESC&is_meta_key=0&orderby=title#038;is_meta_key=0&orderby=title\n",
      "627\n"
     ]
    },
    {
     "name": "stderr",
     "output_type": "stream",
     "text": [
      "2020-12-04 12:12:35 [scrapy.core.engine] DEBUG: Crawled (200) <GET https://carifilms.com/films/page/627?order=DESC&is_meta_key=0&orderby=title#038;is_meta_key=0&orderby=title> (referer: https://carifilms.com/films/page/626?order=DESC&is_meta_key=0&orderby=title)\n"
     ]
    },
    {
     "name": "stdout",
     "output_type": "stream",
     "text": [
      "https://carifilms.com/films/page/628?order=DESC&is_meta_key=0&orderby=title#038;is_meta_key=0&orderby=title\n",
      "628\n"
     ]
    },
    {
     "name": "stderr",
     "output_type": "stream",
     "text": [
      "2020-12-04 12:12:39 [scrapy.core.engine] DEBUG: Crawled (200) <GET https://carifilms.com/films/page/628?order=DESC&is_meta_key=0&orderby=title#038;is_meta_key=0&orderby=title> (referer: https://carifilms.com/films/page/627?order=DESC&is_meta_key=0&orderby=title)\n"
     ]
    },
    {
     "name": "stdout",
     "output_type": "stream",
     "text": [
      "https://carifilms.com/films/page/629?order=DESC&is_meta_key=0&orderby=title#038;is_meta_key=0&orderby=title\n",
      "629\n"
     ]
    },
    {
     "name": "stderr",
     "output_type": "stream",
     "text": [
      "2020-12-04 12:12:44 [scrapy.core.engine] DEBUG: Crawled (200) <GET https://carifilms.com/films/page/629?order=DESC&is_meta_key=0&orderby=title#038;is_meta_key=0&orderby=title> (referer: https://carifilms.com/films/page/628?order=DESC&is_meta_key=0&orderby=title)\n"
     ]
    },
    {
     "name": "stdout",
     "output_type": "stream",
     "text": [
      "https://carifilms.com/films/page/630?order=DESC&is_meta_key=0&orderby=title#038;is_meta_key=0&orderby=title\n",
      "630\n"
     ]
    },
    {
     "name": "stderr",
     "output_type": "stream",
     "text": [
      "2020-12-04 12:12:48 [scrapy.core.engine] DEBUG: Crawled (200) <GET https://carifilms.com/films/page/630?order=DESC&is_meta_key=0&orderby=title#038;is_meta_key=0&orderby=title> (referer: https://carifilms.com/films/page/629?order=DESC&is_meta_key=0&orderby=title)\n"
     ]
    },
    {
     "name": "stdout",
     "output_type": "stream",
     "text": [
      "https://carifilms.com/films/page/631?order=DESC&is_meta_key=0&orderby=title#038;is_meta_key=0&orderby=title\n",
      "631\n"
     ]
    },
    {
     "name": "stderr",
     "output_type": "stream",
     "text": [
      "2020-12-04 12:12:52 [scrapy.core.engine] DEBUG: Crawled (200) <GET https://carifilms.com/films/page/631?order=DESC&is_meta_key=0&orderby=title#038;is_meta_key=0&orderby=title> (referer: https://carifilms.com/films/page/630?order=DESC&is_meta_key=0&orderby=title)\n"
     ]
    },
    {
     "name": "stdout",
     "output_type": "stream",
     "text": [
      "https://carifilms.com/films/page/632?order=DESC&is_meta_key=0&orderby=title#038;is_meta_key=0&orderby=title\n",
      "632\n"
     ]
    },
    {
     "name": "stderr",
     "output_type": "stream",
     "text": [
      "2020-12-04 12:12:55 [scrapy.extensions.logstats] INFO: Crawled 631 pages (at 14 pages/min), scraped 0 items (at 0 items/min)\n",
      "2020-12-04 12:12:56 [scrapy.core.engine] DEBUG: Crawled (200) <GET https://carifilms.com/films/page/632?order=DESC&is_meta_key=0&orderby=title#038;is_meta_key=0&orderby=title> (referer: https://carifilms.com/films/page/631?order=DESC&is_meta_key=0&orderby=title)\n"
     ]
    },
    {
     "name": "stdout",
     "output_type": "stream",
     "text": [
      "https://carifilms.com/films/page/633?order=DESC&is_meta_key=0&orderby=title#038;is_meta_key=0&orderby=title\n",
      "633\n"
     ]
    },
    {
     "name": "stderr",
     "output_type": "stream",
     "text": [
      "2020-12-04 12:13:01 [scrapy.core.engine] DEBUG: Crawled (200) <GET https://carifilms.com/films/page/633?order=DESC&is_meta_key=0&orderby=title#038;is_meta_key=0&orderby=title> (referer: https://carifilms.com/films/page/632?order=DESC&is_meta_key=0&orderby=title)\n"
     ]
    },
    {
     "name": "stdout",
     "output_type": "stream",
     "text": [
      "https://carifilms.com/films/page/634?order=DESC&is_meta_key=0&orderby=title#038;is_meta_key=0&orderby=title\n",
      "634\n"
     ]
    },
    {
     "name": "stderr",
     "output_type": "stream",
     "text": [
      "2020-12-04 12:13:05 [scrapy.core.engine] DEBUG: Crawled (200) <GET https://carifilms.com/films/page/634?order=DESC&is_meta_key=0&orderby=title#038;is_meta_key=0&orderby=title> (referer: https://carifilms.com/films/page/633?order=DESC&is_meta_key=0&orderby=title)\n"
     ]
    },
    {
     "name": "stdout",
     "output_type": "stream",
     "text": [
      "https://carifilms.com/films/page/635?order=DESC&is_meta_key=0&orderby=title#038;is_meta_key=0&orderby=title\n",
      "635\n"
     ]
    },
    {
     "name": "stderr",
     "output_type": "stream",
     "text": [
      "2020-12-04 12:13:09 [scrapy.core.engine] DEBUG: Crawled (200) <GET https://carifilms.com/films/page/635?order=DESC&is_meta_key=0&orderby=title#038;is_meta_key=0&orderby=title> (referer: https://carifilms.com/films/page/634?order=DESC&is_meta_key=0&orderby=title)\n"
     ]
    },
    {
     "name": "stdout",
     "output_type": "stream",
     "text": [
      "https://carifilms.com/films/page/636?order=DESC&is_meta_key=0&orderby=title#038;is_meta_key=0&orderby=title\n",
      "636\n"
     ]
    },
    {
     "name": "stderr",
     "output_type": "stream",
     "text": [
      "2020-12-04 12:13:13 [scrapy.core.engine] DEBUG: Crawled (200) <GET https://carifilms.com/films/page/636?order=DESC&is_meta_key=0&orderby=title#038;is_meta_key=0&orderby=title> (referer: https://carifilms.com/films/page/635?order=DESC&is_meta_key=0&orderby=title)\n"
     ]
    },
    {
     "name": "stdout",
     "output_type": "stream",
     "text": [
      "https://carifilms.com/films/page/637?order=DESC&is_meta_key=0&orderby=title#038;is_meta_key=0&orderby=title\n",
      "637\n"
     ]
    },
    {
     "name": "stderr",
     "output_type": "stream",
     "text": [
      "2020-12-04 12:13:18 [scrapy.core.engine] DEBUG: Crawled (200) <GET https://carifilms.com/films/page/637?order=DESC&is_meta_key=0&orderby=title#038;is_meta_key=0&orderby=title> (referer: https://carifilms.com/films/page/636?order=DESC&is_meta_key=0&orderby=title)\n"
     ]
    },
    {
     "name": "stdout",
     "output_type": "stream",
     "text": [
      "https://carifilms.com/films/page/638?order=DESC&is_meta_key=0&orderby=title#038;is_meta_key=0&orderby=title\n",
      "638\n"
     ]
    },
    {
     "name": "stderr",
     "output_type": "stream",
     "text": [
      "2020-12-04 12:13:23 [scrapy.core.engine] DEBUG: Crawled (200) <GET https://carifilms.com/films/page/638?order=DESC&is_meta_key=0&orderby=title#038;is_meta_key=0&orderby=title> (referer: https://carifilms.com/films/page/637?order=DESC&is_meta_key=0&orderby=title)\n"
     ]
    },
    {
     "name": "stdout",
     "output_type": "stream",
     "text": [
      "https://carifilms.com/films/page/639?order=DESC&is_meta_key=0&orderby=title#038;is_meta_key=0&orderby=title\n",
      "639\n"
     ]
    },
    {
     "name": "stderr",
     "output_type": "stream",
     "text": [
      "2020-12-04 12:13:27 [scrapy.core.engine] DEBUG: Crawled (200) <GET https://carifilms.com/films/page/639?order=DESC&is_meta_key=0&orderby=title#038;is_meta_key=0&orderby=title> (referer: https://carifilms.com/films/page/638?order=DESC&is_meta_key=0&orderby=title)\n"
     ]
    },
    {
     "name": "stdout",
     "output_type": "stream",
     "text": [
      "https://carifilms.com/films/page/640?order=DESC&is_meta_key=0&orderby=title#038;is_meta_key=0&orderby=title\n",
      "640\n"
     ]
    },
    {
     "name": "stderr",
     "output_type": "stream",
     "text": [
      "2020-12-04 12:13:31 [scrapy.core.engine] DEBUG: Crawled (200) <GET https://carifilms.com/films/page/640?order=DESC&is_meta_key=0&orderby=title#038;is_meta_key=0&orderby=title> (referer: https://carifilms.com/films/page/639?order=DESC&is_meta_key=0&orderby=title)\n"
     ]
    },
    {
     "name": "stdout",
     "output_type": "stream",
     "text": [
      "https://carifilms.com/films/page/641?order=DESC&is_meta_key=0&orderby=title#038;is_meta_key=0&orderby=title\n",
      "641\n"
     ]
    },
    {
     "name": "stderr",
     "output_type": "stream",
     "text": [
      "2020-12-04 12:13:35 [scrapy.core.engine] DEBUG: Crawled (200) <GET https://carifilms.com/films/page/641?order=DESC&is_meta_key=0&orderby=title#038;is_meta_key=0&orderby=title> (referer: https://carifilms.com/films/page/640?order=DESC&is_meta_key=0&orderby=title)\n"
     ]
    },
    {
     "name": "stdout",
     "output_type": "stream",
     "text": [
      "https://carifilms.com/films/page/642?order=DESC&is_meta_key=0&orderby=title#038;is_meta_key=0&orderby=title\n",
      "642\n"
     ]
    },
    {
     "name": "stderr",
     "output_type": "stream",
     "text": [
      "2020-12-04 12:13:40 [scrapy.core.engine] DEBUG: Crawled (200) <GET https://carifilms.com/films/page/642?order=DESC&is_meta_key=0&orderby=title#038;is_meta_key=0&orderby=title> (referer: https://carifilms.com/films/page/641?order=DESC&is_meta_key=0&orderby=title)\n"
     ]
    },
    {
     "name": "stdout",
     "output_type": "stream",
     "text": [
      "https://carifilms.com/films/page/643?order=DESC&is_meta_key=0&orderby=title#038;is_meta_key=0&orderby=title\n",
      "643\n"
     ]
    },
    {
     "name": "stderr",
     "output_type": "stream",
     "text": [
      "2020-12-04 12:13:44 [scrapy.core.engine] DEBUG: Crawled (200) <GET https://carifilms.com/films/page/643?order=DESC&is_meta_key=0&orderby=title#038;is_meta_key=0&orderby=title> (referer: https://carifilms.com/films/page/642?order=DESC&is_meta_key=0&orderby=title)\n"
     ]
    },
    {
     "name": "stdout",
     "output_type": "stream",
     "text": [
      "https://carifilms.com/films/page/644?order=DESC&is_meta_key=0&orderby=title#038;is_meta_key=0&orderby=title\n",
      "644\n"
     ]
    },
    {
     "name": "stderr",
     "output_type": "stream",
     "text": [
      "2020-12-04 12:13:48 [scrapy.core.engine] DEBUG: Crawled (200) <GET https://carifilms.com/films/page/644?order=DESC&is_meta_key=0&orderby=title#038;is_meta_key=0&orderby=title> (referer: https://carifilms.com/films/page/643?order=DESC&is_meta_key=0&orderby=title)\n"
     ]
    },
    {
     "name": "stdout",
     "output_type": "stream",
     "text": [
      "https://carifilms.com/films/page/645?order=DESC&is_meta_key=0&orderby=title#038;is_meta_key=0&orderby=title\n",
      "645\n"
     ]
    },
    {
     "name": "stderr",
     "output_type": "stream",
     "text": [
      "2020-12-04 12:13:53 [scrapy.core.engine] DEBUG: Crawled (200) <GET https://carifilms.com/films/page/645?order=DESC&is_meta_key=0&orderby=title#038;is_meta_key=0&orderby=title> (referer: https://carifilms.com/films/page/644?order=DESC&is_meta_key=0&orderby=title)\n"
     ]
    },
    {
     "name": "stdout",
     "output_type": "stream",
     "text": [
      "https://carifilms.com/films/page/646?order=DESC&is_meta_key=0&orderby=title#038;is_meta_key=0&orderby=title\n",
      "646\n"
     ]
    },
    {
     "name": "stderr",
     "output_type": "stream",
     "text": [
      "2020-12-04 12:13:55 [scrapy.extensions.logstats] INFO: Crawled 645 pages (at 14 pages/min), scraped 0 items (at 0 items/min)\n",
      "2020-12-04 12:13:58 [scrapy.core.engine] DEBUG: Crawled (200) <GET https://carifilms.com/films/page/646?order=DESC&is_meta_key=0&orderby=title#038;is_meta_key=0&orderby=title> (referer: https://carifilms.com/films/page/645?order=DESC&is_meta_key=0&orderby=title)\n"
     ]
    },
    {
     "name": "stdout",
     "output_type": "stream",
     "text": [
      "https://carifilms.com/films/page/647?order=DESC&is_meta_key=0&orderby=title#038;is_meta_key=0&orderby=title\n",
      "647\n"
     ]
    },
    {
     "name": "stderr",
     "output_type": "stream",
     "text": [
      "2020-12-04 12:14:02 [scrapy.core.engine] DEBUG: Crawled (200) <GET https://carifilms.com/films/page/647?order=DESC&is_meta_key=0&orderby=title#038;is_meta_key=0&orderby=title> (referer: https://carifilms.com/films/page/646?order=DESC&is_meta_key=0&orderby=title)\n"
     ]
    },
    {
     "name": "stdout",
     "output_type": "stream",
     "text": [
      "https://carifilms.com/films/page/648?order=DESC&is_meta_key=0&orderby=title#038;is_meta_key=0&orderby=title\n",
      "648\n"
     ]
    },
    {
     "name": "stderr",
     "output_type": "stream",
     "text": [
      "2020-12-04 12:14:06 [scrapy.core.engine] DEBUG: Crawled (200) <GET https://carifilms.com/films/page/648?order=DESC&is_meta_key=0&orderby=title#038;is_meta_key=0&orderby=title> (referer: https://carifilms.com/films/page/647?order=DESC&is_meta_key=0&orderby=title)\n"
     ]
    },
    {
     "name": "stdout",
     "output_type": "stream",
     "text": [
      "https://carifilms.com/films/page/649?order=DESC&is_meta_key=0&orderby=title#038;is_meta_key=0&orderby=title\n",
      "649\n"
     ]
    },
    {
     "name": "stderr",
     "output_type": "stream",
     "text": [
      "2020-12-04 12:14:10 [scrapy.core.engine] DEBUG: Crawled (200) <GET https://carifilms.com/films/page/649?order=DESC&is_meta_key=0&orderby=title#038;is_meta_key=0&orderby=title> (referer: https://carifilms.com/films/page/648?order=DESC&is_meta_key=0&orderby=title)\n"
     ]
    },
    {
     "name": "stdout",
     "output_type": "stream",
     "text": [
      "https://carifilms.com/films/page/650?order=DESC&is_meta_key=0&orderby=title#038;is_meta_key=0&orderby=title\n",
      "650\n"
     ]
    },
    {
     "name": "stderr",
     "output_type": "stream",
     "text": [
      "2020-12-04 12:14:15 [scrapy.core.engine] DEBUG: Crawled (200) <GET https://carifilms.com/films/page/650?order=DESC&is_meta_key=0&orderby=title#038;is_meta_key=0&orderby=title> (referer: https://carifilms.com/films/page/649?order=DESC&is_meta_key=0&orderby=title)\n"
     ]
    },
    {
     "name": "stdout",
     "output_type": "stream",
     "text": [
      "https://carifilms.com/films/page/651?order=DESC&is_meta_key=0&orderby=title#038;is_meta_key=0&orderby=title\n",
      "651\n"
     ]
    },
    {
     "name": "stderr",
     "output_type": "stream",
     "text": [
      "2020-12-04 12:14:19 [scrapy.core.engine] DEBUG: Crawled (200) <GET https://carifilms.com/films/page/651?order=DESC&is_meta_key=0&orderby=title#038;is_meta_key=0&orderby=title> (referer: https://carifilms.com/films/page/650?order=DESC&is_meta_key=0&orderby=title)\n"
     ]
    },
    {
     "name": "stdout",
     "output_type": "stream",
     "text": [
      "https://carifilms.com/films/page/652?order=DESC&is_meta_key=0&orderby=title#038;is_meta_key=0&orderby=title\n",
      "652\n"
     ]
    },
    {
     "name": "stderr",
     "output_type": "stream",
     "text": [
      "2020-12-04 12:14:23 [scrapy.core.engine] DEBUG: Crawled (200) <GET https://carifilms.com/films/page/652?order=DESC&is_meta_key=0&orderby=title#038;is_meta_key=0&orderby=title> (referer: https://carifilms.com/films/page/651?order=DESC&is_meta_key=0&orderby=title)\n"
     ]
    },
    {
     "name": "stdout",
     "output_type": "stream",
     "text": [
      "https://carifilms.com/films/page/653?order=DESC&is_meta_key=0&orderby=title#038;is_meta_key=0&orderby=title\n",
      "653\n"
     ]
    },
    {
     "name": "stderr",
     "output_type": "stream",
     "text": [
      "2020-12-04 12:14:28 [scrapy.core.engine] DEBUG: Crawled (200) <GET https://carifilms.com/films/page/653?order=DESC&is_meta_key=0&orderby=title#038;is_meta_key=0&orderby=title> (referer: https://carifilms.com/films/page/652?order=DESC&is_meta_key=0&orderby=title)\n"
     ]
    },
    {
     "name": "stdout",
     "output_type": "stream",
     "text": [
      "https://carifilms.com/films/page/654?order=DESC&is_meta_key=0&orderby=title#038;is_meta_key=0&orderby=title\n",
      "654\n"
     ]
    },
    {
     "name": "stderr",
     "output_type": "stream",
     "text": [
      "2020-12-04 12:14:32 [scrapy.core.engine] DEBUG: Crawled (200) <GET https://carifilms.com/films/page/654?order=DESC&is_meta_key=0&orderby=title#038;is_meta_key=0&orderby=title> (referer: https://carifilms.com/films/page/653?order=DESC&is_meta_key=0&orderby=title)\n"
     ]
    },
    {
     "name": "stdout",
     "output_type": "stream",
     "text": [
      "https://carifilms.com/films/page/655?order=DESC&is_meta_key=0&orderby=title#038;is_meta_key=0&orderby=title\n",
      "655\n"
     ]
    },
    {
     "name": "stderr",
     "output_type": "stream",
     "text": [
      "2020-12-04 12:14:36 [scrapy.core.engine] DEBUG: Crawled (200) <GET https://carifilms.com/films/page/655?order=DESC&is_meta_key=0&orderby=title#038;is_meta_key=0&orderby=title> (referer: https://carifilms.com/films/page/654?order=DESC&is_meta_key=0&orderby=title)\n"
     ]
    },
    {
     "name": "stdout",
     "output_type": "stream",
     "text": [
      "https://carifilms.com/films/page/656?order=DESC&is_meta_key=0&orderby=title#038;is_meta_key=0&orderby=title\n",
      "656\n"
     ]
    },
    {
     "name": "stderr",
     "output_type": "stream",
     "text": [
      "2020-12-04 12:14:41 [scrapy.core.engine] DEBUG: Crawled (200) <GET https://carifilms.com/films/page/656?order=DESC&is_meta_key=0&orderby=title#038;is_meta_key=0&orderby=title> (referer: https://carifilms.com/films/page/655?order=DESC&is_meta_key=0&orderby=title)\n"
     ]
    },
    {
     "name": "stdout",
     "output_type": "stream",
     "text": [
      "https://carifilms.com/films/page/657?order=DESC&is_meta_key=0&orderby=title#038;is_meta_key=0&orderby=title\n",
      "657\n"
     ]
    },
    {
     "name": "stderr",
     "output_type": "stream",
     "text": [
      "2020-12-04 12:14:45 [scrapy.core.engine] DEBUG: Crawled (200) <GET https://carifilms.com/films/page/657?order=DESC&is_meta_key=0&orderby=title#038;is_meta_key=0&orderby=title> (referer: https://carifilms.com/films/page/656?order=DESC&is_meta_key=0&orderby=title)\n"
     ]
    },
    {
     "name": "stdout",
     "output_type": "stream",
     "text": [
      "https://carifilms.com/films/page/658?order=DESC&is_meta_key=0&orderby=title#038;is_meta_key=0&orderby=title\n",
      "658\n"
     ]
    },
    {
     "name": "stderr",
     "output_type": "stream",
     "text": [
      "2020-12-04 12:14:49 [scrapy.core.engine] DEBUG: Crawled (200) <GET https://carifilms.com/films/page/658?order=DESC&is_meta_key=0&orderby=title#038;is_meta_key=0&orderby=title> (referer: https://carifilms.com/films/page/657?order=DESC&is_meta_key=0&orderby=title)\n"
     ]
    },
    {
     "name": "stdout",
     "output_type": "stream",
     "text": [
      "https://carifilms.com/films/page/659?order=DESC&is_meta_key=0&orderby=title#038;is_meta_key=0&orderby=title\n",
      "659\n"
     ]
    },
    {
     "name": "stderr",
     "output_type": "stream",
     "text": [
      "2020-12-04 12:14:53 [scrapy.core.engine] DEBUG: Crawled (200) <GET https://carifilms.com/films/page/659?order=DESC&is_meta_key=0&orderby=title#038;is_meta_key=0&orderby=title> (referer: https://carifilms.com/films/page/658?order=DESC&is_meta_key=0&orderby=title)\n"
     ]
    },
    {
     "name": "stdout",
     "output_type": "stream",
     "text": [
      "https://carifilms.com/films/page/660?order=DESC&is_meta_key=0&orderby=title#038;is_meta_key=0&orderby=title\n",
      "660\n"
     ]
    },
    {
     "name": "stderr",
     "output_type": "stream",
     "text": [
      "2020-12-04 12:14:55 [scrapy.extensions.logstats] INFO: Crawled 659 pages (at 14 pages/min), scraped 0 items (at 0 items/min)\n",
      "2020-12-04 12:14:58 [scrapy.core.engine] DEBUG: Crawled (200) <GET https://carifilms.com/films/page/660?order=DESC&is_meta_key=0&orderby=title#038;is_meta_key=0&orderby=title> (referer: https://carifilms.com/films/page/659?order=DESC&is_meta_key=0&orderby=title)\n"
     ]
    },
    {
     "name": "stdout",
     "output_type": "stream",
     "text": [
      "https://carifilms.com/films/page/661?order=DESC&is_meta_key=0&orderby=title#038;is_meta_key=0&orderby=title\n",
      "661\n"
     ]
    },
    {
     "name": "stderr",
     "output_type": "stream",
     "text": [
      "2020-12-04 12:15:02 [scrapy.core.engine] DEBUG: Crawled (200) <GET https://carifilms.com/films/page/661?order=DESC&is_meta_key=0&orderby=title#038;is_meta_key=0&orderby=title> (referer: https://carifilms.com/films/page/660?order=DESC&is_meta_key=0&orderby=title)\n"
     ]
    },
    {
     "name": "stdout",
     "output_type": "stream",
     "text": [
      "https://carifilms.com/films/page/662?order=DESC&is_meta_key=0&orderby=title#038;is_meta_key=0&orderby=title\n",
      "662\n"
     ]
    },
    {
     "name": "stderr",
     "output_type": "stream",
     "text": [
      "2020-12-04 12:15:07 [scrapy.core.engine] DEBUG: Crawled (200) <GET https://carifilms.com/films/page/662?order=DESC&is_meta_key=0&orderby=title#038;is_meta_key=0&orderby=title> (referer: https://carifilms.com/films/page/661?order=DESC&is_meta_key=0&orderby=title)\n"
     ]
    },
    {
     "name": "stdout",
     "output_type": "stream",
     "text": [
      "https://carifilms.com/films/page/663?order=DESC&is_meta_key=0&orderby=title#038;is_meta_key=0&orderby=title\n",
      "663\n"
     ]
    },
    {
     "name": "stderr",
     "output_type": "stream",
     "text": [
      "2020-12-04 12:15:11 [scrapy.core.engine] DEBUG: Crawled (200) <GET https://carifilms.com/films/page/663?order=DESC&is_meta_key=0&orderby=title#038;is_meta_key=0&orderby=title> (referer: https://carifilms.com/films/page/662?order=DESC&is_meta_key=0&orderby=title)\n"
     ]
    },
    {
     "name": "stdout",
     "output_type": "stream",
     "text": [
      "https://carifilms.com/films/page/664?order=DESC&is_meta_key=0&orderby=title#038;is_meta_key=0&orderby=title\n",
      "664\n"
     ]
    },
    {
     "name": "stderr",
     "output_type": "stream",
     "text": [
      "2020-12-04 12:15:15 [scrapy.core.engine] DEBUG: Crawled (200) <GET https://carifilms.com/films/page/664?order=DESC&is_meta_key=0&orderby=title#038;is_meta_key=0&orderby=title> (referer: https://carifilms.com/films/page/663?order=DESC&is_meta_key=0&orderby=title)\n"
     ]
    },
    {
     "name": "stdout",
     "output_type": "stream",
     "text": [
      "https://carifilms.com/films/page/665?order=DESC&is_meta_key=0&orderby=title#038;is_meta_key=0&orderby=title\n",
      "665\n"
     ]
    },
    {
     "name": "stderr",
     "output_type": "stream",
     "text": [
      "2020-12-04 12:15:20 [scrapy.core.engine] DEBUG: Crawled (200) <GET https://carifilms.com/films/page/665?order=DESC&is_meta_key=0&orderby=title#038;is_meta_key=0&orderby=title> (referer: https://carifilms.com/films/page/664?order=DESC&is_meta_key=0&orderby=title)\n"
     ]
    },
    {
     "name": "stdout",
     "output_type": "stream",
     "text": [
      "https://carifilms.com/films/page/666?order=DESC&is_meta_key=0&orderby=title#038;is_meta_key=0&orderby=title\n",
      "666\n"
     ]
    },
    {
     "name": "stderr",
     "output_type": "stream",
     "text": [
      "2020-12-04 12:15:24 [scrapy.core.engine] DEBUG: Crawled (200) <GET https://carifilms.com/films/page/666?order=DESC&is_meta_key=0&orderby=title#038;is_meta_key=0&orderby=title> (referer: https://carifilms.com/films/page/665?order=DESC&is_meta_key=0&orderby=title)\n"
     ]
    },
    {
     "name": "stdout",
     "output_type": "stream",
     "text": [
      "https://carifilms.com/films/page/667?order=DESC&is_meta_key=0&orderby=title#038;is_meta_key=0&orderby=title\n",
      "667\n"
     ]
    },
    {
     "name": "stderr",
     "output_type": "stream",
     "text": [
      "2020-12-04 12:15:28 [scrapy.core.engine] DEBUG: Crawled (200) <GET https://carifilms.com/films/page/667?order=DESC&is_meta_key=0&orderby=title#038;is_meta_key=0&orderby=title> (referer: https://carifilms.com/films/page/666?order=DESC&is_meta_key=0&orderby=title)\n"
     ]
    },
    {
     "name": "stdout",
     "output_type": "stream",
     "text": [
      "https://carifilms.com/films/page/668?order=DESC&is_meta_key=0&orderby=title#038;is_meta_key=0&orderby=title\n",
      "668\n"
     ]
    },
    {
     "name": "stderr",
     "output_type": "stream",
     "text": [
      "2020-12-04 12:15:33 [scrapy.core.engine] DEBUG: Crawled (200) <GET https://carifilms.com/films/page/668?order=DESC&is_meta_key=0&orderby=title#038;is_meta_key=0&orderby=title> (referer: https://carifilms.com/films/page/667?order=DESC&is_meta_key=0&orderby=title)\n"
     ]
    },
    {
     "name": "stdout",
     "output_type": "stream",
     "text": [
      "https://carifilms.com/films/page/669?order=DESC&is_meta_key=0&orderby=title#038;is_meta_key=0&orderby=title\n",
      "669\n"
     ]
    },
    {
     "name": "stderr",
     "output_type": "stream",
     "text": [
      "2020-12-04 12:15:37 [scrapy.core.engine] DEBUG: Crawled (200) <GET https://carifilms.com/films/page/669?order=DESC&is_meta_key=0&orderby=title#038;is_meta_key=0&orderby=title> (referer: https://carifilms.com/films/page/668?order=DESC&is_meta_key=0&orderby=title)\n"
     ]
    },
    {
     "name": "stdout",
     "output_type": "stream",
     "text": [
      "https://carifilms.com/films/page/670?order=DESC&is_meta_key=0&orderby=title#038;is_meta_key=0&orderby=title\n",
      "670\n"
     ]
    },
    {
     "name": "stderr",
     "output_type": "stream",
     "text": [
      "2020-12-04 12:15:42 [scrapy.core.engine] DEBUG: Crawled (200) <GET https://carifilms.com/films/page/670?order=DESC&is_meta_key=0&orderby=title#038;is_meta_key=0&orderby=title> (referer: https://carifilms.com/films/page/669?order=DESC&is_meta_key=0&orderby=title)\n"
     ]
    },
    {
     "name": "stdout",
     "output_type": "stream",
     "text": [
      "https://carifilms.com/films/page/671?order=DESC&is_meta_key=0&orderby=title#038;is_meta_key=0&orderby=title\n",
      "671\n"
     ]
    },
    {
     "name": "stderr",
     "output_type": "stream",
     "text": [
      "2020-12-04 12:15:46 [scrapy.core.engine] DEBUG: Crawled (200) <GET https://carifilms.com/films/page/671?order=DESC&is_meta_key=0&orderby=title#038;is_meta_key=0&orderby=title> (referer: https://carifilms.com/films/page/670?order=DESC&is_meta_key=0&orderby=title)\n"
     ]
    },
    {
     "name": "stdout",
     "output_type": "stream",
     "text": [
      "https://carifilms.com/films/page/672?order=DESC&is_meta_key=0&orderby=title#038;is_meta_key=0&orderby=title\n",
      "672\n"
     ]
    },
    {
     "name": "stderr",
     "output_type": "stream",
     "text": [
      "2020-12-04 12:15:50 [scrapy.core.engine] DEBUG: Crawled (200) <GET https://carifilms.com/films/page/672?order=DESC&is_meta_key=0&orderby=title#038;is_meta_key=0&orderby=title> (referer: https://carifilms.com/films/page/671?order=DESC&is_meta_key=0&orderby=title)\n"
     ]
    },
    {
     "name": "stdout",
     "output_type": "stream",
     "text": [
      "https://carifilms.com/films/page/673?order=DESC&is_meta_key=0&orderby=title#038;is_meta_key=0&orderby=title\n",
      "673\n"
     ]
    },
    {
     "name": "stderr",
     "output_type": "stream",
     "text": [
      "2020-12-04 12:15:54 [scrapy.core.engine] DEBUG: Crawled (200) <GET https://carifilms.com/films/page/673?order=DESC&is_meta_key=0&orderby=title#038;is_meta_key=0&orderby=title> (referer: https://carifilms.com/films/page/672?order=DESC&is_meta_key=0&orderby=title)\n"
     ]
    },
    {
     "name": "stdout",
     "output_type": "stream",
     "text": [
      "https://carifilms.com/films/page/674?order=DESC&is_meta_key=0&orderby=title#038;is_meta_key=0&orderby=title\n",
      "674\n"
     ]
    },
    {
     "name": "stderr",
     "output_type": "stream",
     "text": [
      "2020-12-04 12:15:55 [scrapy.extensions.logstats] INFO: Crawled 673 pages (at 14 pages/min), scraped 0 items (at 0 items/min)\n",
      "2020-12-04 12:15:59 [scrapy.core.engine] DEBUG: Crawled (200) <GET https://carifilms.com/films/page/674?order=DESC&is_meta_key=0&orderby=title#038;is_meta_key=0&orderby=title> (referer: https://carifilms.com/films/page/673?order=DESC&is_meta_key=0&orderby=title)\n"
     ]
    },
    {
     "name": "stdout",
     "output_type": "stream",
     "text": [
      "https://carifilms.com/films/page/675?order=DESC&is_meta_key=0&orderby=title#038;is_meta_key=0&orderby=title\n",
      "675\n"
     ]
    },
    {
     "name": "stderr",
     "output_type": "stream",
     "text": [
      "2020-12-04 12:16:03 [scrapy.core.engine] DEBUG: Crawled (200) <GET https://carifilms.com/films/page/675?order=DESC&is_meta_key=0&orderby=title#038;is_meta_key=0&orderby=title> (referer: https://carifilms.com/films/page/674?order=DESC&is_meta_key=0&orderby=title)\n"
     ]
    },
    {
     "name": "stdout",
     "output_type": "stream",
     "text": [
      "https://carifilms.com/films/page/676?order=DESC&is_meta_key=0&orderby=title#038;is_meta_key=0&orderby=title\n",
      "676\n"
     ]
    },
    {
     "name": "stderr",
     "output_type": "stream",
     "text": [
      "2020-12-04 12:16:08 [scrapy.core.engine] DEBUG: Crawled (200) <GET https://carifilms.com/films/page/676?order=DESC&is_meta_key=0&orderby=title#038;is_meta_key=0&orderby=title> (referer: https://carifilms.com/films/page/675?order=DESC&is_meta_key=0&orderby=title)\n"
     ]
    },
    {
     "name": "stdout",
     "output_type": "stream",
     "text": [
      "https://carifilms.com/films/page/677?order=DESC&is_meta_key=0&orderby=title#038;is_meta_key=0&orderby=title\n",
      "677\n"
     ]
    },
    {
     "name": "stderr",
     "output_type": "stream",
     "text": [
      "2020-12-04 12:16:12 [scrapy.core.engine] DEBUG: Crawled (200) <GET https://carifilms.com/films/page/677?order=DESC&is_meta_key=0&orderby=title#038;is_meta_key=0&orderby=title> (referer: https://carifilms.com/films/page/676?order=DESC&is_meta_key=0&orderby=title)\n"
     ]
    },
    {
     "name": "stdout",
     "output_type": "stream",
     "text": [
      "https://carifilms.com/films/page/678?order=DESC&is_meta_key=0&orderby=title#038;is_meta_key=0&orderby=title\n",
      "678\n"
     ]
    },
    {
     "name": "stderr",
     "output_type": "stream",
     "text": [
      "2020-12-04 12:16:16 [scrapy.core.engine] DEBUG: Crawled (200) <GET https://carifilms.com/films/page/678?order=DESC&is_meta_key=0&orderby=title#038;is_meta_key=0&orderby=title> (referer: https://carifilms.com/films/page/677?order=DESC&is_meta_key=0&orderby=title)\n"
     ]
    },
    {
     "name": "stdout",
     "output_type": "stream",
     "text": [
      "https://carifilms.com/films/page/679?order=DESC&is_meta_key=0&orderby=title#038;is_meta_key=0&orderby=title\n",
      "679\n"
     ]
    },
    {
     "name": "stderr",
     "output_type": "stream",
     "text": [
      "2020-12-04 12:16:20 [scrapy.core.engine] DEBUG: Crawled (200) <GET https://carifilms.com/films/page/679?order=DESC&is_meta_key=0&orderby=title#038;is_meta_key=0&orderby=title> (referer: https://carifilms.com/films/page/678?order=DESC&is_meta_key=0&orderby=title)\n"
     ]
    },
    {
     "name": "stdout",
     "output_type": "stream",
     "text": [
      "https://carifilms.com/films/page/680?order=DESC&is_meta_key=0&orderby=title#038;is_meta_key=0&orderby=title\n",
      "680\n"
     ]
    },
    {
     "name": "stderr",
     "output_type": "stream",
     "text": [
      "2020-12-04 12:16:25 [scrapy.core.engine] DEBUG: Crawled (200) <GET https://carifilms.com/films/page/680?order=DESC&is_meta_key=0&orderby=title#038;is_meta_key=0&orderby=title> (referer: https://carifilms.com/films/page/679?order=DESC&is_meta_key=0&orderby=title)\n"
     ]
    },
    {
     "name": "stdout",
     "output_type": "stream",
     "text": [
      "https://carifilms.com/films/page/681?order=DESC&is_meta_key=0&orderby=title#038;is_meta_key=0&orderby=title\n",
      "681\n"
     ]
    },
    {
     "name": "stderr",
     "output_type": "stream",
     "text": [
      "2020-12-04 12:16:29 [scrapy.core.engine] DEBUG: Crawled (200) <GET https://carifilms.com/films/page/681?order=DESC&is_meta_key=0&orderby=title#038;is_meta_key=0&orderby=title> (referer: https://carifilms.com/films/page/680?order=DESC&is_meta_key=0&orderby=title)\n"
     ]
    },
    {
     "name": "stdout",
     "output_type": "stream",
     "text": [
      "https://carifilms.com/films/page/682?order=DESC&is_meta_key=0&orderby=title#038;is_meta_key=0&orderby=title\n",
      "682\n"
     ]
    },
    {
     "name": "stderr",
     "output_type": "stream",
     "text": [
      "2020-12-04 12:16:34 [scrapy.core.engine] DEBUG: Crawled (200) <GET https://carifilms.com/films/page/682?order=DESC&is_meta_key=0&orderby=title#038;is_meta_key=0&orderby=title> (referer: https://carifilms.com/films/page/681?order=DESC&is_meta_key=0&orderby=title)\n"
     ]
    },
    {
     "name": "stdout",
     "output_type": "stream",
     "text": [
      "https://carifilms.com/films/page/683?order=DESC&is_meta_key=0&orderby=title#038;is_meta_key=0&orderby=title\n",
      "683\n"
     ]
    },
    {
     "name": "stderr",
     "output_type": "stream",
     "text": [
      "2020-12-04 12:16:38 [scrapy.core.engine] DEBUG: Crawled (200) <GET https://carifilms.com/films/page/683?order=DESC&is_meta_key=0&orderby=title#038;is_meta_key=0&orderby=title> (referer: https://carifilms.com/films/page/682?order=DESC&is_meta_key=0&orderby=title)\n"
     ]
    },
    {
     "name": "stdout",
     "output_type": "stream",
     "text": [
      "https://carifilms.com/films/page/684?order=DESC&is_meta_key=0&orderby=title#038;is_meta_key=0&orderby=title\n",
      "684\n"
     ]
    },
    {
     "name": "stderr",
     "output_type": "stream",
     "text": [
      "2020-12-04 12:16:42 [scrapy.core.engine] DEBUG: Crawled (200) <GET https://carifilms.com/films/page/684?order=DESC&is_meta_key=0&orderby=title#038;is_meta_key=0&orderby=title> (referer: https://carifilms.com/films/page/683?order=DESC&is_meta_key=0&orderby=title)\n"
     ]
    },
    {
     "name": "stdout",
     "output_type": "stream",
     "text": [
      "https://carifilms.com/films/page/685?order=DESC&is_meta_key=0&orderby=title#038;is_meta_key=0&orderby=title\n",
      "685\n"
     ]
    },
    {
     "name": "stderr",
     "output_type": "stream",
     "text": [
      "2020-12-04 12:16:46 [scrapy.core.engine] DEBUG: Crawled (200) <GET https://carifilms.com/films/page/685?order=DESC&is_meta_key=0&orderby=title#038;is_meta_key=0&orderby=title> (referer: https://carifilms.com/films/page/684?order=DESC&is_meta_key=0&orderby=title)\n"
     ]
    },
    {
     "name": "stdout",
     "output_type": "stream",
     "text": [
      "https://carifilms.com/films/page/686?order=DESC&is_meta_key=0&orderby=title#038;is_meta_key=0&orderby=title\n",
      "686\n"
     ]
    },
    {
     "name": "stderr",
     "output_type": "stream",
     "text": [
      "2020-12-04 12:16:51 [scrapy.core.engine] DEBUG: Crawled (200) <GET https://carifilms.com/films/page/686?order=DESC&is_meta_key=0&orderby=title#038;is_meta_key=0&orderby=title> (referer: https://carifilms.com/films/page/685?order=DESC&is_meta_key=0&orderby=title)\n"
     ]
    },
    {
     "name": "stdout",
     "output_type": "stream",
     "text": [
      "https://carifilms.com/films/page/687?order=DESC&is_meta_key=0&orderby=title#038;is_meta_key=0&orderby=title\n",
      "687\n"
     ]
    },
    {
     "name": "stderr",
     "output_type": "stream",
     "text": [
      "2020-12-04 12:16:55 [scrapy.extensions.logstats] INFO: Crawled 686 pages (at 13 pages/min), scraped 0 items (at 0 items/min)\n",
      "2020-12-04 12:16:55 [scrapy.core.engine] DEBUG: Crawled (200) <GET https://carifilms.com/films/page/687?order=DESC&is_meta_key=0&orderby=title#038;is_meta_key=0&orderby=title> (referer: https://carifilms.com/films/page/686?order=DESC&is_meta_key=0&orderby=title)\n"
     ]
    },
    {
     "name": "stdout",
     "output_type": "stream",
     "text": [
      "https://carifilms.com/films/page/688?order=DESC&is_meta_key=0&orderby=title#038;is_meta_key=0&orderby=title\n",
      "688\n"
     ]
    },
    {
     "name": "stderr",
     "output_type": "stream",
     "text": [
      "2020-12-04 12:16:59 [scrapy.core.engine] DEBUG: Crawled (200) <GET https://carifilms.com/films/page/688?order=DESC&is_meta_key=0&orderby=title#038;is_meta_key=0&orderby=title> (referer: https://carifilms.com/films/page/687?order=DESC&is_meta_key=0&orderby=title)\n"
     ]
    },
    {
     "name": "stdout",
     "output_type": "stream",
     "text": [
      "https://carifilms.com/films/page/689?order=DESC&is_meta_key=0&orderby=title#038;is_meta_key=0&orderby=title\n",
      "689\n"
     ]
    },
    {
     "name": "stderr",
     "output_type": "stream",
     "text": [
      "2020-12-04 12:17:04 [scrapy.core.engine] DEBUG: Crawled (200) <GET https://carifilms.com/films/page/689?order=DESC&is_meta_key=0&orderby=title#038;is_meta_key=0&orderby=title> (referer: https://carifilms.com/films/page/688?order=DESC&is_meta_key=0&orderby=title)\n"
     ]
    },
    {
     "name": "stdout",
     "output_type": "stream",
     "text": [
      "https://carifilms.com/films/page/690?order=DESC&is_meta_key=0&orderby=title#038;is_meta_key=0&orderby=title\n",
      "690\n"
     ]
    },
    {
     "name": "stderr",
     "output_type": "stream",
     "text": [
      "2020-12-04 12:17:08 [scrapy.core.engine] DEBUG: Crawled (200) <GET https://carifilms.com/films/page/690?order=DESC&is_meta_key=0&orderby=title#038;is_meta_key=0&orderby=title> (referer: https://carifilms.com/films/page/689?order=DESC&is_meta_key=0&orderby=title)\n"
     ]
    },
    {
     "name": "stdout",
     "output_type": "stream",
     "text": [
      "https://carifilms.com/films/page/691?order=DESC&is_meta_key=0&orderby=title#038;is_meta_key=0&orderby=title\n",
      "691\n"
     ]
    },
    {
     "name": "stderr",
     "output_type": "stream",
     "text": [
      "2020-12-04 12:17:12 [scrapy.core.engine] DEBUG: Crawled (200) <GET https://carifilms.com/films/page/691?order=DESC&is_meta_key=0&orderby=title#038;is_meta_key=0&orderby=title> (referer: https://carifilms.com/films/page/690?order=DESC&is_meta_key=0&orderby=title)\n"
     ]
    },
    {
     "name": "stdout",
     "output_type": "stream",
     "text": [
      "https://carifilms.com/films/page/692?order=DESC&is_meta_key=0&orderby=title#038;is_meta_key=0&orderby=title\n",
      "692\n"
     ]
    },
    {
     "name": "stderr",
     "output_type": "stream",
     "text": [
      "2020-12-04 12:17:16 [scrapy.core.engine] DEBUG: Crawled (200) <GET https://carifilms.com/films/page/692?order=DESC&is_meta_key=0&orderby=title#038;is_meta_key=0&orderby=title> (referer: https://carifilms.com/films/page/691?order=DESC&is_meta_key=0&orderby=title)\n"
     ]
    },
    {
     "name": "stdout",
     "output_type": "stream",
     "text": [
      "https://carifilms.com/films/page/693?order=DESC&is_meta_key=0&orderby=title#038;is_meta_key=0&orderby=title\n",
      "693\n"
     ]
    },
    {
     "name": "stderr",
     "output_type": "stream",
     "text": [
      "2020-12-04 12:17:20 [scrapy.core.engine] DEBUG: Crawled (200) <GET https://carifilms.com/films/page/693?order=DESC&is_meta_key=0&orderby=title#038;is_meta_key=0&orderby=title> (referer: https://carifilms.com/films/page/692?order=DESC&is_meta_key=0&orderby=title)\n"
     ]
    },
    {
     "name": "stdout",
     "output_type": "stream",
     "text": [
      "https://carifilms.com/films/page/694?order=DESC&is_meta_key=0&orderby=title#038;is_meta_key=0&orderby=title\n",
      "694\n"
     ]
    },
    {
     "name": "stderr",
     "output_type": "stream",
     "text": [
      "2020-12-04 12:17:25 [scrapy.core.engine] DEBUG: Crawled (200) <GET https://carifilms.com/films/page/694?order=DESC&is_meta_key=0&orderby=title#038;is_meta_key=0&orderby=title> (referer: https://carifilms.com/films/page/693?order=DESC&is_meta_key=0&orderby=title)\n"
     ]
    },
    {
     "name": "stdout",
     "output_type": "stream",
     "text": [
      "https://carifilms.com/films/page/695?order=DESC&is_meta_key=0&orderby=title#038;is_meta_key=0&orderby=title\n",
      "695\n"
     ]
    },
    {
     "name": "stderr",
     "output_type": "stream",
     "text": [
      "2020-12-04 12:17:29 [scrapy.core.engine] DEBUG: Crawled (200) <GET https://carifilms.com/films/page/695?order=DESC&is_meta_key=0&orderby=title#038;is_meta_key=0&orderby=title> (referer: https://carifilms.com/films/page/694?order=DESC&is_meta_key=0&orderby=title)\n"
     ]
    },
    {
     "name": "stdout",
     "output_type": "stream",
     "text": [
      "https://carifilms.com/films/page/696?order=DESC&is_meta_key=0&orderby=title#038;is_meta_key=0&orderby=title\n",
      "696\n"
     ]
    },
    {
     "name": "stderr",
     "output_type": "stream",
     "text": [
      "2020-12-04 12:17:33 [scrapy.core.engine] DEBUG: Crawled (200) <GET https://carifilms.com/films/page/696?order=DESC&is_meta_key=0&orderby=title#038;is_meta_key=0&orderby=title> (referer: https://carifilms.com/films/page/695?order=DESC&is_meta_key=0&orderby=title)\n"
     ]
    },
    {
     "name": "stdout",
     "output_type": "stream",
     "text": [
      "https://carifilms.com/films/page/697?order=DESC&is_meta_key=0&orderby=title#038;is_meta_key=0&orderby=title\n",
      "697\n"
     ]
    },
    {
     "name": "stderr",
     "output_type": "stream",
     "text": [
      "2020-12-04 12:17:38 [scrapy.core.engine] DEBUG: Crawled (200) <GET https://carifilms.com/films/page/697?order=DESC&is_meta_key=0&orderby=title#038;is_meta_key=0&orderby=title> (referer: https://carifilms.com/films/page/696?order=DESC&is_meta_key=0&orderby=title)\n"
     ]
    },
    {
     "name": "stdout",
     "output_type": "stream",
     "text": [
      "https://carifilms.com/films/page/698?order=DESC&is_meta_key=0&orderby=title#038;is_meta_key=0&orderby=title\n",
      "698\n"
     ]
    },
    {
     "name": "stderr",
     "output_type": "stream",
     "text": [
      "2020-12-04 12:17:42 [scrapy.core.engine] DEBUG: Crawled (200) <GET https://carifilms.com/films/page/698?order=DESC&is_meta_key=0&orderby=title#038;is_meta_key=0&orderby=title> (referer: https://carifilms.com/films/page/697?order=DESC&is_meta_key=0&orderby=title)\n"
     ]
    },
    {
     "name": "stdout",
     "output_type": "stream",
     "text": [
      "https://carifilms.com/films/page/699?order=DESC&is_meta_key=0&orderby=title#038;is_meta_key=0&orderby=title\n",
      "699\n"
     ]
    },
    {
     "name": "stderr",
     "output_type": "stream",
     "text": [
      "2020-12-04 12:17:47 [scrapy.core.engine] DEBUG: Crawled (200) <GET https://carifilms.com/films/page/699?order=DESC&is_meta_key=0&orderby=title#038;is_meta_key=0&orderby=title> (referer: https://carifilms.com/films/page/698?order=DESC&is_meta_key=0&orderby=title)\n"
     ]
    },
    {
     "name": "stdout",
     "output_type": "stream",
     "text": [
      "https://carifilms.com/films/page/700?order=DESC&is_meta_key=0&orderby=title#038;is_meta_key=0&orderby=title\n",
      "700\n"
     ]
    },
    {
     "name": "stderr",
     "output_type": "stream",
     "text": [
      "2020-12-04 12:17:51 [scrapy.core.engine] DEBUG: Crawled (200) <GET https://carifilms.com/films/page/700?order=DESC&is_meta_key=0&orderby=title#038;is_meta_key=0&orderby=title> (referer: https://carifilms.com/films/page/699?order=DESC&is_meta_key=0&orderby=title)\n"
     ]
    },
    {
     "name": "stdout",
     "output_type": "stream",
     "text": [
      "https://carifilms.com/films/page/701?order=DESC&is_meta_key=0&orderby=title#038;is_meta_key=0&orderby=title\n",
      "701\n"
     ]
    },
    {
     "name": "stderr",
     "output_type": "stream",
     "text": [
      "2020-12-04 12:17:55 [scrapy.extensions.logstats] INFO: Crawled 700 pages (at 14 pages/min), scraped 0 items (at 0 items/min)\n",
      "2020-12-04 12:17:55 [scrapy.core.engine] DEBUG: Crawled (200) <GET https://carifilms.com/films/page/701?order=DESC&is_meta_key=0&orderby=title#038;is_meta_key=0&orderby=title> (referer: https://carifilms.com/films/page/700?order=DESC&is_meta_key=0&orderby=title)\n"
     ]
    },
    {
     "name": "stdout",
     "output_type": "stream",
     "text": [
      "https://carifilms.com/films/page/702?order=DESC&is_meta_key=0&orderby=title#038;is_meta_key=0&orderby=title\n",
      "702\n"
     ]
    },
    {
     "name": "stderr",
     "output_type": "stream",
     "text": [
      "2020-12-04 12:17:59 [scrapy.core.engine] DEBUG: Crawled (200) <GET https://carifilms.com/films/page/702?order=DESC&is_meta_key=0&orderby=title#038;is_meta_key=0&orderby=title> (referer: https://carifilms.com/films/page/701?order=DESC&is_meta_key=0&orderby=title)\n"
     ]
    },
    {
     "name": "stdout",
     "output_type": "stream",
     "text": [
      "https://carifilms.com/films/page/703?order=DESC&is_meta_key=0&orderby=title#038;is_meta_key=0&orderby=title\n",
      "703\n"
     ]
    },
    {
     "name": "stderr",
     "output_type": "stream",
     "text": [
      "2020-12-04 12:18:04 [scrapy.core.engine] DEBUG: Crawled (200) <GET https://carifilms.com/films/page/703?order=DESC&is_meta_key=0&orderby=title#038;is_meta_key=0&orderby=title> (referer: https://carifilms.com/films/page/702?order=DESC&is_meta_key=0&orderby=title)\n"
     ]
    },
    {
     "name": "stdout",
     "output_type": "stream",
     "text": [
      "https://carifilms.com/films/page/704?order=DESC&is_meta_key=0&orderby=title#038;is_meta_key=0&orderby=title\n",
      "704\n"
     ]
    },
    {
     "name": "stderr",
     "output_type": "stream",
     "text": [
      "2020-12-04 12:18:08 [scrapy.core.engine] DEBUG: Crawled (200) <GET https://carifilms.com/films/page/704?order=DESC&is_meta_key=0&orderby=title#038;is_meta_key=0&orderby=title> (referer: https://carifilms.com/films/page/703?order=DESC&is_meta_key=0&orderby=title)\n"
     ]
    },
    {
     "name": "stdout",
     "output_type": "stream",
     "text": [
      "https://carifilms.com/films/page/705?order=DESC&is_meta_key=0&orderby=title#038;is_meta_key=0&orderby=title\n",
      "705\n"
     ]
    },
    {
     "name": "stderr",
     "output_type": "stream",
     "text": [
      "2020-12-04 12:18:13 [scrapy.core.engine] DEBUG: Crawled (200) <GET https://carifilms.com/films/page/705?order=DESC&is_meta_key=0&orderby=title#038;is_meta_key=0&orderby=title> (referer: https://carifilms.com/films/page/704?order=DESC&is_meta_key=0&orderby=title)\n"
     ]
    },
    {
     "name": "stdout",
     "output_type": "stream",
     "text": [
      "https://carifilms.com/films/page/706?order=DESC&is_meta_key=0&orderby=title#038;is_meta_key=0&orderby=title\n",
      "706\n"
     ]
    },
    {
     "name": "stderr",
     "output_type": "stream",
     "text": [
      "2020-12-04 12:18:17 [scrapy.core.engine] DEBUG: Crawled (200) <GET https://carifilms.com/films/page/706?order=DESC&is_meta_key=0&orderby=title#038;is_meta_key=0&orderby=title> (referer: https://carifilms.com/films/page/705?order=DESC&is_meta_key=0&orderby=title)\n"
     ]
    },
    {
     "name": "stdout",
     "output_type": "stream",
     "text": [
      "https://carifilms.com/films/page/707?order=DESC&is_meta_key=0&orderby=title#038;is_meta_key=0&orderby=title\n",
      "707\n"
     ]
    },
    {
     "name": "stderr",
     "output_type": "stream",
     "text": [
      "2020-12-04 12:18:21 [scrapy.core.engine] DEBUG: Crawled (200) <GET https://carifilms.com/films/page/707?order=DESC&is_meta_key=0&orderby=title#038;is_meta_key=0&orderby=title> (referer: https://carifilms.com/films/page/706?order=DESC&is_meta_key=0&orderby=title)\n"
     ]
    },
    {
     "name": "stdout",
     "output_type": "stream",
     "text": [
      "https://carifilms.com/films/page/708?order=DESC&is_meta_key=0&orderby=title#038;is_meta_key=0&orderby=title\n",
      "708\n"
     ]
    },
    {
     "name": "stderr",
     "output_type": "stream",
     "text": [
      "2020-12-04 12:18:26 [scrapy.core.engine] DEBUG: Crawled (200) <GET https://carifilms.com/films/page/708?order=DESC&is_meta_key=0&orderby=title#038;is_meta_key=0&orderby=title> (referer: https://carifilms.com/films/page/707?order=DESC&is_meta_key=0&orderby=title)\n"
     ]
    },
    {
     "name": "stdout",
     "output_type": "stream",
     "text": [
      "https://carifilms.com/films/page/709?order=DESC&is_meta_key=0&orderby=title#038;is_meta_key=0&orderby=title\n",
      "709\n"
     ]
    },
    {
     "name": "stderr",
     "output_type": "stream",
     "text": [
      "2020-12-04 12:18:30 [scrapy.core.engine] DEBUG: Crawled (200) <GET https://carifilms.com/films/page/709?order=DESC&is_meta_key=0&orderby=title#038;is_meta_key=0&orderby=title> (referer: https://carifilms.com/films/page/708?order=DESC&is_meta_key=0&orderby=title)\n"
     ]
    },
    {
     "name": "stdout",
     "output_type": "stream",
     "text": [
      "https://carifilms.com/films/page/710?order=DESC&is_meta_key=0&orderby=title#038;is_meta_key=0&orderby=title\n",
      "710\n"
     ]
    },
    {
     "name": "stderr",
     "output_type": "stream",
     "text": [
      "2020-12-04 12:18:35 [scrapy.core.engine] DEBUG: Crawled (200) <GET https://carifilms.com/films/page/710?order=DESC&is_meta_key=0&orderby=title#038;is_meta_key=0&orderby=title> (referer: https://carifilms.com/films/page/709?order=DESC&is_meta_key=0&orderby=title)\n"
     ]
    },
    {
     "name": "stdout",
     "output_type": "stream",
     "text": [
      "https://carifilms.com/films/page/711?order=DESC&is_meta_key=0&orderby=title#038;is_meta_key=0&orderby=title\n",
      "711\n"
     ]
    },
    {
     "name": "stderr",
     "output_type": "stream",
     "text": [
      "2020-12-04 12:18:39 [scrapy.core.engine] DEBUG: Crawled (200) <GET https://carifilms.com/films/page/711?order=DESC&is_meta_key=0&orderby=title#038;is_meta_key=0&orderby=title> (referer: https://carifilms.com/films/page/710?order=DESC&is_meta_key=0&orderby=title)\n"
     ]
    },
    {
     "name": "stdout",
     "output_type": "stream",
     "text": [
      "https://carifilms.com/films/page/712?order=DESC&is_meta_key=0&orderby=title#038;is_meta_key=0&orderby=title\n",
      "712\n"
     ]
    },
    {
     "name": "stderr",
     "output_type": "stream",
     "text": [
      "2020-12-04 12:18:44 [scrapy.core.engine] DEBUG: Crawled (200) <GET https://carifilms.com/films/page/712?order=DESC&is_meta_key=0&orderby=title#038;is_meta_key=0&orderby=title> (referer: https://carifilms.com/films/page/711?order=DESC&is_meta_key=0&orderby=title)\n"
     ]
    },
    {
     "name": "stdout",
     "output_type": "stream",
     "text": [
      "https://carifilms.com/films/page/713?order=DESC&is_meta_key=0&orderby=title#038;is_meta_key=0&orderby=title\n",
      "713\n"
     ]
    },
    {
     "name": "stderr",
     "output_type": "stream",
     "text": [
      "2020-12-04 12:18:48 [scrapy.core.engine] DEBUG: Crawled (200) <GET https://carifilms.com/films/page/713?order=DESC&is_meta_key=0&orderby=title#038;is_meta_key=0&orderby=title> (referer: https://carifilms.com/films/page/712?order=DESC&is_meta_key=0&orderby=title)\n"
     ]
    },
    {
     "name": "stdout",
     "output_type": "stream",
     "text": [
      "https://carifilms.com/films/page/714?order=DESC&is_meta_key=0&orderby=title#038;is_meta_key=0&orderby=title\n",
      "714\n"
     ]
    },
    {
     "name": "stderr",
     "output_type": "stream",
     "text": [
      "2020-12-04 12:18:52 [scrapy.core.engine] DEBUG: Crawled (200) <GET https://carifilms.com/films/page/714?order=DESC&is_meta_key=0&orderby=title#038;is_meta_key=0&orderby=title> (referer: https://carifilms.com/films/page/713?order=DESC&is_meta_key=0&orderby=title)\n"
     ]
    },
    {
     "name": "stdout",
     "output_type": "stream",
     "text": [
      "https://carifilms.com/films/page/715?order=DESC&is_meta_key=0&orderby=title#038;is_meta_key=0&orderby=title\n",
      "715\n"
     ]
    },
    {
     "name": "stderr",
     "output_type": "stream",
     "text": [
      "2020-12-04 12:18:55 [scrapy.extensions.logstats] INFO: Crawled 714 pages (at 14 pages/min), scraped 0 items (at 0 items/min)\n",
      "2020-12-04 12:18:56 [scrapy.core.engine] DEBUG: Crawled (200) <GET https://carifilms.com/films/page/715?order=DESC&is_meta_key=0&orderby=title#038;is_meta_key=0&orderby=title> (referer: https://carifilms.com/films/page/714?order=DESC&is_meta_key=0&orderby=title)\n"
     ]
    },
    {
     "name": "stdout",
     "output_type": "stream",
     "text": [
      "https://carifilms.com/films/page/716?order=DESC&is_meta_key=0&orderby=title#038;is_meta_key=0&orderby=title\n",
      "716\n"
     ]
    },
    {
     "name": "stderr",
     "output_type": "stream",
     "text": [
      "2020-12-04 12:19:01 [scrapy.core.engine] DEBUG: Crawled (200) <GET https://carifilms.com/films/page/716?order=DESC&is_meta_key=0&orderby=title#038;is_meta_key=0&orderby=title> (referer: https://carifilms.com/films/page/715?order=DESC&is_meta_key=0&orderby=title)\n"
     ]
    },
    {
     "name": "stdout",
     "output_type": "stream",
     "text": [
      "https://carifilms.com/films/page/717?order=DESC&is_meta_key=0&orderby=title#038;is_meta_key=0&orderby=title\n",
      "717\n"
     ]
    },
    {
     "name": "stderr",
     "output_type": "stream",
     "text": [
      "2020-12-04 12:19:05 [scrapy.core.engine] DEBUG: Crawled (200) <GET https://carifilms.com/films/page/717?order=DESC&is_meta_key=0&orderby=title#038;is_meta_key=0&orderby=title> (referer: https://carifilms.com/films/page/716?order=DESC&is_meta_key=0&orderby=title)\n"
     ]
    },
    {
     "name": "stdout",
     "output_type": "stream",
     "text": [
      "https://carifilms.com/films/page/718?order=DESC&is_meta_key=0&orderby=title#038;is_meta_key=0&orderby=title\n",
      "718\n"
     ]
    },
    {
     "name": "stderr",
     "output_type": "stream",
     "text": [
      "2020-12-04 12:19:10 [scrapy.core.engine] DEBUG: Crawled (200) <GET https://carifilms.com/films/page/718?order=DESC&is_meta_key=0&orderby=title#038;is_meta_key=0&orderby=title> (referer: https://carifilms.com/films/page/717?order=DESC&is_meta_key=0&orderby=title)\n"
     ]
    },
    {
     "name": "stdout",
     "output_type": "stream",
     "text": [
      "https://carifilms.com/films/page/719?order=DESC&is_meta_key=0&orderby=title#038;is_meta_key=0&orderby=title\n",
      "719\n"
     ]
    },
    {
     "name": "stderr",
     "output_type": "stream",
     "text": [
      "2020-12-04 12:19:14 [scrapy.core.engine] DEBUG: Crawled (200) <GET https://carifilms.com/films/page/719?order=DESC&is_meta_key=0&orderby=title#038;is_meta_key=0&orderby=title> (referer: https://carifilms.com/films/page/718?order=DESC&is_meta_key=0&orderby=title)\n"
     ]
    },
    {
     "name": "stdout",
     "output_type": "stream",
     "text": [
      "https://carifilms.com/films/page/720?order=DESC&is_meta_key=0&orderby=title#038;is_meta_key=0&orderby=title\n",
      "720\n"
     ]
    },
    {
     "name": "stderr",
     "output_type": "stream",
     "text": [
      "2020-12-04 12:19:18 [scrapy.core.engine] DEBUG: Crawled (200) <GET https://carifilms.com/films/page/720?order=DESC&is_meta_key=0&orderby=title#038;is_meta_key=0&orderby=title> (referer: https://carifilms.com/films/page/719?order=DESC&is_meta_key=0&orderby=title)\n"
     ]
    },
    {
     "name": "stdout",
     "output_type": "stream",
     "text": [
      "https://carifilms.com/films/page/721?order=DESC&is_meta_key=0&orderby=title#038;is_meta_key=0&orderby=title\n",
      "721\n"
     ]
    },
    {
     "name": "stderr",
     "output_type": "stream",
     "text": [
      "2020-12-04 12:19:22 [scrapy.core.engine] DEBUG: Crawled (200) <GET https://carifilms.com/films/page/721?order=DESC&is_meta_key=0&orderby=title#038;is_meta_key=0&orderby=title> (referer: https://carifilms.com/films/page/720?order=DESC&is_meta_key=0&orderby=title)\n"
     ]
    },
    {
     "name": "stdout",
     "output_type": "stream",
     "text": [
      "https://carifilms.com/films/page/722?order=DESC&is_meta_key=0&orderby=title#038;is_meta_key=0&orderby=title\n",
      "722\n"
     ]
    },
    {
     "name": "stderr",
     "output_type": "stream",
     "text": [
      "2020-12-04 12:19:27 [scrapy.core.engine] DEBUG: Crawled (200) <GET https://carifilms.com/films/page/722?order=DESC&is_meta_key=0&orderby=title#038;is_meta_key=0&orderby=title> (referer: https://carifilms.com/films/page/721?order=DESC&is_meta_key=0&orderby=title)\n"
     ]
    },
    {
     "name": "stdout",
     "output_type": "stream",
     "text": [
      "https://carifilms.com/films/page/723?order=DESC&is_meta_key=0&orderby=title#038;is_meta_key=0&orderby=title\n",
      "723\n"
     ]
    },
    {
     "name": "stderr",
     "output_type": "stream",
     "text": [
      "2020-12-04 12:19:31 [scrapy.core.engine] DEBUG: Crawled (200) <GET https://carifilms.com/films/page/723?order=DESC&is_meta_key=0&orderby=title#038;is_meta_key=0&orderby=title> (referer: https://carifilms.com/films/page/722?order=DESC&is_meta_key=0&orderby=title)\n"
     ]
    },
    {
     "name": "stdout",
     "output_type": "stream",
     "text": [
      "https://carifilms.com/films/page/724?order=DESC&is_meta_key=0&orderby=title#038;is_meta_key=0&orderby=title\n",
      "724\n"
     ]
    },
    {
     "name": "stderr",
     "output_type": "stream",
     "text": [
      "2020-12-04 12:19:36 [scrapy.core.engine] DEBUG: Crawled (200) <GET https://carifilms.com/films/page/724?order=DESC&is_meta_key=0&orderby=title#038;is_meta_key=0&orderby=title> (referer: https://carifilms.com/films/page/723?order=DESC&is_meta_key=0&orderby=title)\n"
     ]
    },
    {
     "name": "stdout",
     "output_type": "stream",
     "text": [
      "https://carifilms.com/films/page/725?order=DESC&is_meta_key=0&orderby=title#038;is_meta_key=0&orderby=title\n",
      "725\n"
     ]
    },
    {
     "name": "stderr",
     "output_type": "stream",
     "text": [
      "2020-12-04 12:19:40 [scrapy.core.engine] DEBUG: Crawled (200) <GET https://carifilms.com/films/page/725?order=DESC&is_meta_key=0&orderby=title#038;is_meta_key=0&orderby=title> (referer: https://carifilms.com/films/page/724?order=DESC&is_meta_key=0&orderby=title)\n"
     ]
    },
    {
     "name": "stdout",
     "output_type": "stream",
     "text": [
      "https://carifilms.com/films/page/726?order=DESC&is_meta_key=0&orderby=title#038;is_meta_key=0&orderby=title\n",
      "726\n"
     ]
    },
    {
     "name": "stderr",
     "output_type": "stream",
     "text": [
      "2020-12-04 12:19:45 [scrapy.core.engine] DEBUG: Crawled (200) <GET https://carifilms.com/films/page/726?order=DESC&is_meta_key=0&orderby=title#038;is_meta_key=0&orderby=title> (referer: https://carifilms.com/films/page/725?order=DESC&is_meta_key=0&orderby=title)\n"
     ]
    },
    {
     "name": "stdout",
     "output_type": "stream",
     "text": [
      "https://carifilms.com/films/page/727?order=DESC&is_meta_key=0&orderby=title#038;is_meta_key=0&orderby=title\n",
      "727\n"
     ]
    },
    {
     "name": "stderr",
     "output_type": "stream",
     "text": [
      "2020-12-04 12:19:49 [scrapy.core.engine] DEBUG: Crawled (200) <GET https://carifilms.com/films/page/727?order=DESC&is_meta_key=0&orderby=title#038;is_meta_key=0&orderby=title> (referer: https://carifilms.com/films/page/726?order=DESC&is_meta_key=0&orderby=title)\n"
     ]
    },
    {
     "name": "stdout",
     "output_type": "stream",
     "text": [
      "https://carifilms.com/films/page/728?order=DESC&is_meta_key=0&orderby=title#038;is_meta_key=0&orderby=title\n",
      "728\n"
     ]
    },
    {
     "name": "stderr",
     "output_type": "stream",
     "text": [
      "2020-12-04 12:19:53 [scrapy.core.engine] DEBUG: Crawled (200) <GET https://carifilms.com/films/page/728?order=DESC&is_meta_key=0&orderby=title#038;is_meta_key=0&orderby=title> (referer: https://carifilms.com/films/page/727?order=DESC&is_meta_key=0&orderby=title)\n"
     ]
    },
    {
     "name": "stdout",
     "output_type": "stream",
     "text": [
      "https://carifilms.com/films/page/729?order=DESC&is_meta_key=0&orderby=title#038;is_meta_key=0&orderby=title\n",
      "729\n"
     ]
    },
    {
     "name": "stderr",
     "output_type": "stream",
     "text": [
      "2020-12-04 12:19:55 [scrapy.extensions.logstats] INFO: Crawled 728 pages (at 14 pages/min), scraped 0 items (at 0 items/min)\n",
      "2020-12-04 12:19:57 [scrapy.core.engine] DEBUG: Crawled (200) <GET https://carifilms.com/films/page/729?order=DESC&is_meta_key=0&orderby=title#038;is_meta_key=0&orderby=title> (referer: https://carifilms.com/films/page/728?order=DESC&is_meta_key=0&orderby=title)\n"
     ]
    },
    {
     "name": "stdout",
     "output_type": "stream",
     "text": [
      "https://carifilms.com/films/page/730?order=DESC&is_meta_key=0&orderby=title#038;is_meta_key=0&orderby=title\n",
      "730\n"
     ]
    },
    {
     "name": "stderr",
     "output_type": "stream",
     "text": [
      "2020-12-04 12:20:02 [scrapy.core.engine] DEBUG: Crawled (200) <GET https://carifilms.com/films/page/730?order=DESC&is_meta_key=0&orderby=title#038;is_meta_key=0&orderby=title> (referer: https://carifilms.com/films/page/729?order=DESC&is_meta_key=0&orderby=title)\n"
     ]
    },
    {
     "name": "stdout",
     "output_type": "stream",
     "text": [
      "https://carifilms.com/films/page/731?order=DESC&is_meta_key=0&orderby=title#038;is_meta_key=0&orderby=title\n",
      "731\n"
     ]
    },
    {
     "name": "stderr",
     "output_type": "stream",
     "text": [
      "2020-12-04 12:20:06 [scrapy.core.engine] DEBUG: Crawled (200) <GET https://carifilms.com/films/page/731?order=DESC&is_meta_key=0&orderby=title#038;is_meta_key=0&orderby=title> (referer: https://carifilms.com/films/page/730?order=DESC&is_meta_key=0&orderby=title)\n"
     ]
    },
    {
     "name": "stdout",
     "output_type": "stream",
     "text": [
      "https://carifilms.com/films/page/732?order=DESC&is_meta_key=0&orderby=title#038;is_meta_key=0&orderby=title\n",
      "732\n"
     ]
    },
    {
     "name": "stderr",
     "output_type": "stream",
     "text": [
      "2020-12-04 12:20:11 [scrapy.core.engine] DEBUG: Crawled (200) <GET https://carifilms.com/films/page/732?order=DESC&is_meta_key=0&orderby=title#038;is_meta_key=0&orderby=title> (referer: https://carifilms.com/films/page/731?order=DESC&is_meta_key=0&orderby=title)\n"
     ]
    },
    {
     "name": "stdout",
     "output_type": "stream",
     "text": [
      "https://carifilms.com/films/page/733?order=DESC&is_meta_key=0&orderby=title#038;is_meta_key=0&orderby=title\n",
      "733\n"
     ]
    },
    {
     "name": "stderr",
     "output_type": "stream",
     "text": [
      "2020-12-04 12:20:15 [scrapy.core.engine] DEBUG: Crawled (200) <GET https://carifilms.com/films/page/733?order=DESC&is_meta_key=0&orderby=title#038;is_meta_key=0&orderby=title> (referer: https://carifilms.com/films/page/732?order=DESC&is_meta_key=0&orderby=title)\n"
     ]
    },
    {
     "name": "stdout",
     "output_type": "stream",
     "text": [
      "https://carifilms.com/films/page/734?order=DESC&is_meta_key=0&orderby=title#038;is_meta_key=0&orderby=title\n",
      "734\n"
     ]
    },
    {
     "name": "stderr",
     "output_type": "stream",
     "text": [
      "2020-12-04 12:20:20 [scrapy.core.engine] DEBUG: Crawled (200) <GET https://carifilms.com/films/page/734?order=DESC&is_meta_key=0&orderby=title#038;is_meta_key=0&orderby=title> (referer: https://carifilms.com/films/page/733?order=DESC&is_meta_key=0&orderby=title)\n"
     ]
    },
    {
     "name": "stdout",
     "output_type": "stream",
     "text": [
      "https://carifilms.com/films/page/735?order=DESC&is_meta_key=0&orderby=title#038;is_meta_key=0&orderby=title\n",
      "735\n"
     ]
    },
    {
     "name": "stderr",
     "output_type": "stream",
     "text": [
      "2020-12-04 12:20:24 [scrapy.core.engine] DEBUG: Crawled (200) <GET https://carifilms.com/films/page/735?order=DESC&is_meta_key=0&orderby=title#038;is_meta_key=0&orderby=title> (referer: https://carifilms.com/films/page/734?order=DESC&is_meta_key=0&orderby=title)\n"
     ]
    },
    {
     "name": "stdout",
     "output_type": "stream",
     "text": [
      "https://carifilms.com/films/page/736?order=DESC&is_meta_key=0&orderby=title#038;is_meta_key=0&orderby=title\n",
      "736\n"
     ]
    },
    {
     "name": "stderr",
     "output_type": "stream",
     "text": [
      "2020-12-04 12:20:28 [scrapy.core.engine] DEBUG: Crawled (200) <GET https://carifilms.com/films/page/736?order=DESC&is_meta_key=0&orderby=title#038;is_meta_key=0&orderby=title> (referer: https://carifilms.com/films/page/735?order=DESC&is_meta_key=0&orderby=title)\n"
     ]
    },
    {
     "name": "stdout",
     "output_type": "stream",
     "text": [
      "https://carifilms.com/films/page/737?order=DESC&is_meta_key=0&orderby=title#038;is_meta_key=0&orderby=title\n",
      "737\n"
     ]
    },
    {
     "name": "stderr",
     "output_type": "stream",
     "text": [
      "2020-12-04 12:20:32 [scrapy.core.engine] DEBUG: Crawled (200) <GET https://carifilms.com/films/page/737?order=DESC&is_meta_key=0&orderby=title#038;is_meta_key=0&orderby=title> (referer: https://carifilms.com/films/page/736?order=DESC&is_meta_key=0&orderby=title)\n"
     ]
    },
    {
     "name": "stdout",
     "output_type": "stream",
     "text": [
      "https://carifilms.com/films/page/738?order=DESC&is_meta_key=0&orderby=title#038;is_meta_key=0&orderby=title\n",
      "738\n"
     ]
    },
    {
     "name": "stderr",
     "output_type": "stream",
     "text": [
      "2020-12-04 12:20:37 [scrapy.core.engine] DEBUG: Crawled (200) <GET https://carifilms.com/films/page/738?order=DESC&is_meta_key=0&orderby=title#038;is_meta_key=0&orderby=title> (referer: https://carifilms.com/films/page/737?order=DESC&is_meta_key=0&orderby=title)\n"
     ]
    },
    {
     "name": "stdout",
     "output_type": "stream",
     "text": [
      "https://carifilms.com/films/page/739?order=DESC&is_meta_key=0&orderby=title#038;is_meta_key=0&orderby=title\n",
      "739\n"
     ]
    },
    {
     "name": "stderr",
     "output_type": "stream",
     "text": [
      "2020-12-04 12:20:41 [scrapy.core.engine] DEBUG: Crawled (200) <GET https://carifilms.com/films/page/739?order=DESC&is_meta_key=0&orderby=title#038;is_meta_key=0&orderby=title> (referer: https://carifilms.com/films/page/738?order=DESC&is_meta_key=0&orderby=title)\n"
     ]
    },
    {
     "name": "stdout",
     "output_type": "stream",
     "text": [
      "https://carifilms.com/films/page/740?order=DESC&is_meta_key=0&orderby=title#038;is_meta_key=0&orderby=title\n",
      "740\n"
     ]
    },
    {
     "name": "stderr",
     "output_type": "stream",
     "text": [
      "2020-12-04 12:20:45 [scrapy.core.engine] DEBUG: Crawled (200) <GET https://carifilms.com/films/page/740?order=DESC&is_meta_key=0&orderby=title#038;is_meta_key=0&orderby=title> (referer: https://carifilms.com/films/page/739?order=DESC&is_meta_key=0&orderby=title)\n",
      "2020-12-04 12:20:45 [scrapy.core.scraper] ERROR: Spider error processing <GET https://carifilms.com/films/page/740?order=DESC&is_meta_key=0&orderby=title#038;is_meta_key=0&orderby=title> (referer: https://carifilms.com/films/page/739?order=DESC&is_meta_key=0&orderby=title)\n",
      "Traceback (most recent call last):\n",
      "  File \"C:\\Users\\ACER\\anaconda3\\lib\\site-packages\\scrapy\\utils\\defer.py\", line 120, in iter_errback\n",
      "    yield next(it)\n",
      "  File \"C:\\Users\\ACER\\anaconda3\\lib\\site-packages\\scrapy\\utils\\python.py\", line 353, in __next__\n",
      "    return next(self.data)\n",
      "  File \"C:\\Users\\ACER\\anaconda3\\lib\\site-packages\\scrapy\\utils\\python.py\", line 353, in __next__\n",
      "    return next(self.data)\n",
      "  File \"C:\\Users\\ACER\\anaconda3\\lib\\site-packages\\scrapy\\core\\spidermw.py\", line 62, in _evaluate_iterable\n",
      "    for r in iterable:\n",
      "  File \"C:\\Users\\ACER\\anaconda3\\lib\\site-packages\\scrapy\\spidermiddlewares\\offsite.py\", line 29, in process_spider_output\n",
      "    for x in result:\n",
      "  File \"C:\\Users\\ACER\\anaconda3\\lib\\site-packages\\scrapy\\core\\spidermw.py\", line 62, in _evaluate_iterable\n",
      "    for r in iterable:\n",
      "  File \"C:\\Users\\ACER\\anaconda3\\lib\\site-packages\\scrapy\\spidermiddlewares\\referer.py\", line 340, in <genexpr>\n",
      "    return (_set_referer(r) for r in result or ())\n",
      "  File \"C:\\Users\\ACER\\anaconda3\\lib\\site-packages\\scrapy\\core\\spidermw.py\", line 62, in _evaluate_iterable\n",
      "    for r in iterable:\n",
      "  File \"C:\\Users\\ACER\\anaconda3\\lib\\site-packages\\scrapy\\spidermiddlewares\\urllength.py\", line 37, in <genexpr>\n",
      "    return (r for r in result or () if _filter(r))\n",
      "  File \"C:\\Users\\ACER\\anaconda3\\lib\\site-packages\\scrapy\\core\\spidermw.py\", line 62, in _evaluate_iterable\n",
      "    for r in iterable:\n",
      "  File \"C:\\Users\\ACER\\anaconda3\\lib\\site-packages\\scrapy\\spidermiddlewares\\depth.py\", line 58, in <genexpr>\n",
      "    return (r for r in result or () if _filter(r))\n",
      "  File \"C:\\Users\\ACER\\anaconda3\\lib\\site-packages\\scrapy\\core\\spidermw.py\", line 62, in _evaluate_iterable\n",
      "    for r in iterable:\n",
      "  File \"<ipython-input-1-867f76a469a5>\", line 17, in next_page\n",
      "    next_href = next_page_link[0]\n",
      "IndexError: list index out of range\n",
      "2020-12-04 12:20:45 [scrapy.core.engine] INFO: Closing spider (finished)\n",
      "2020-12-04 12:20:45 [scrapy.statscollectors] INFO: Dumping Scrapy stats:\n",
      "{'downloader/request_bytes': 338498,\n",
      " 'downloader/request_count': 740,\n",
      " 'downloader/request_method_count/GET': 740,\n",
      " 'downloader/response_bytes': 8773946,\n",
      " 'downloader/response_count': 740,\n",
      " 'downloader/response_status_count/200': 740,\n",
      " 'elapsed_time_seconds': 3230.592532,\n",
      " 'finish_reason': 'finished',\n",
      " 'finish_time': datetime.datetime(2020, 12, 4, 5, 20, 45, 953540),\n",
      " 'log_count/DEBUG': 740,\n",
      " 'log_count/ERROR': 1,\n",
      " 'log_count/INFO': 63,\n",
      " 'request_depth_max': 739,\n",
      " 'response_received_count': 740,\n",
      " 'scheduler/dequeued': 740,\n",
      " 'scheduler/dequeued/memory': 740,\n",
      " 'scheduler/enqueued': 740,\n",
      " 'scheduler/enqueued/memory': 740,\n",
      " 'spider_exceptions/IndexError': 1,\n",
      " 'start_time': datetime.datetime(2020, 12, 4, 4, 26, 55, 361008)}\n",
      "2020-12-04 12:20:45 [scrapy.core.engine] INFO: Spider closed (finished)\n"
     ]
    }
   ],
   "source": [
    "url_list = list()\n",
    "process = CrawlerProcess()\n",
    "process.crawl(DC_Description_Spider)\n",
    "process.start()\n",
    "# process.start(stop_after_crawl=False)"
   ]
  },
  {
   "cell_type": "code",
   "execution_count": 5,
   "metadata": {},
   "outputs": [],
   "source": [
    "import pandas as pd\n",
    "# dictionary of lists   \n",
    "dict = {'url': url_list}   \n",
    "       \n",
    "df = pd.DataFrame(dict)  \n",
    "    \n",
    "# saving the dataframe  \n",
    "df.to_csv('URL.csv', index=False) "
   ]
  },
  {
   "cell_type": "code",
   "execution_count": 3,
   "metadata": {},
   "outputs": [
    {
     "data": {
      "text/plain": [
       "['https://carifilms.com/films?order=DESC&is_meta_key=0&orderby=title',\n",
       " 'https://carifilms.com/films/page/2?order=DESC&is_meta_key=0&orderby=title#038;is_meta_key=0&orderby=title',\n",
       " 'https://carifilms.com/films/page/3?order=DESC&is_meta_key=0&orderby=title#038;is_meta_key=0&orderby=title',\n",
       " 'https://carifilms.com/films/page/4?order=DESC&is_meta_key=0&orderby=title#038;is_meta_key=0&orderby=title',\n",
       " 'https://carifilms.com/films/page/5?order=DESC&is_meta_key=0&orderby=title#038;is_meta_key=0&orderby=title',\n",
       " 'https://carifilms.com/films/page/6?order=DESC&is_meta_key=0&orderby=title#038;is_meta_key=0&orderby=title',\n",
       " 'https://carifilms.com/films/page/7?order=DESC&is_meta_key=0&orderby=title#038;is_meta_key=0&orderby=title',\n",
       " 'https://carifilms.com/films/page/8?order=DESC&is_meta_key=0&orderby=title#038;is_meta_key=0&orderby=title',\n",
       " 'https://carifilms.com/films/page/9?order=DESC&is_meta_key=0&orderby=title#038;is_meta_key=0&orderby=title',\n",
       " 'https://carifilms.com/films/page/10?order=DESC&is_meta_key=0&orderby=title#038;is_meta_key=0&orderby=title',\n",
       " 'https://carifilms.com/films/page/11?order=DESC&is_meta_key=0&orderby=title#038;is_meta_key=0&orderby=title',\n",
       " 'https://carifilms.com/films/page/12?order=DESC&is_meta_key=0&orderby=title#038;is_meta_key=0&orderby=title',\n",
       " 'https://carifilms.com/films/page/13?order=DESC&is_meta_key=0&orderby=title#038;is_meta_key=0&orderby=title',\n",
       " 'https://carifilms.com/films/page/14?order=DESC&is_meta_key=0&orderby=title#038;is_meta_key=0&orderby=title',\n",
       " 'https://carifilms.com/films/page/15?order=DESC&is_meta_key=0&orderby=title#038;is_meta_key=0&orderby=title',\n",
       " 'https://carifilms.com/films/page/16?order=DESC&is_meta_key=0&orderby=title#038;is_meta_key=0&orderby=title',\n",
       " 'https://carifilms.com/films/page/17?order=DESC&is_meta_key=0&orderby=title#038;is_meta_key=0&orderby=title',\n",
       " 'https://carifilms.com/films/page/18?order=DESC&is_meta_key=0&orderby=title#038;is_meta_key=0&orderby=title',\n",
       " 'https://carifilms.com/films/page/19?order=DESC&is_meta_key=0&orderby=title#038;is_meta_key=0&orderby=title',\n",
       " 'https://carifilms.com/films/page/20?order=DESC&is_meta_key=0&orderby=title#038;is_meta_key=0&orderby=title',\n",
       " 'https://carifilms.com/films/page/21?order=DESC&is_meta_key=0&orderby=title#038;is_meta_key=0&orderby=title',\n",
       " 'https://carifilms.com/films/page/22?order=DESC&is_meta_key=0&orderby=title#038;is_meta_key=0&orderby=title',\n",
       " 'https://carifilms.com/films/page/23?order=DESC&is_meta_key=0&orderby=title#038;is_meta_key=0&orderby=title',\n",
       " 'https://carifilms.com/films/page/24?order=DESC&is_meta_key=0&orderby=title#038;is_meta_key=0&orderby=title',\n",
       " 'https://carifilms.com/films/page/25?order=DESC&is_meta_key=0&orderby=title#038;is_meta_key=0&orderby=title',\n",
       " 'https://carifilms.com/films/page/26?order=DESC&is_meta_key=0&orderby=title#038;is_meta_key=0&orderby=title',\n",
       " 'https://carifilms.com/films/page/27?order=DESC&is_meta_key=0&orderby=title#038;is_meta_key=0&orderby=title',\n",
       " 'https://carifilms.com/films/page/28?order=DESC&is_meta_key=0&orderby=title#038;is_meta_key=0&orderby=title',\n",
       " 'https://carifilms.com/films/page/29?order=DESC&is_meta_key=0&orderby=title#038;is_meta_key=0&orderby=title',\n",
       " 'https://carifilms.com/films/page/30?order=DESC&is_meta_key=0&orderby=title#038;is_meta_key=0&orderby=title',\n",
       " 'https://carifilms.com/films/page/31?order=DESC&is_meta_key=0&orderby=title#038;is_meta_key=0&orderby=title',\n",
       " 'https://carifilms.com/films/page/32?order=DESC&is_meta_key=0&orderby=title#038;is_meta_key=0&orderby=title',\n",
       " 'https://carifilms.com/films/page/33?order=DESC&is_meta_key=0&orderby=title#038;is_meta_key=0&orderby=title',\n",
       " 'https://carifilms.com/films/page/34?order=DESC&is_meta_key=0&orderby=title#038;is_meta_key=0&orderby=title',\n",
       " 'https://carifilms.com/films/page/35?order=DESC&is_meta_key=0&orderby=title#038;is_meta_key=0&orderby=title',\n",
       " 'https://carifilms.com/films/page/36?order=DESC&is_meta_key=0&orderby=title#038;is_meta_key=0&orderby=title',\n",
       " 'https://carifilms.com/films/page/37?order=DESC&is_meta_key=0&orderby=title#038;is_meta_key=0&orderby=title',\n",
       " 'https://carifilms.com/films/page/38?order=DESC&is_meta_key=0&orderby=title#038;is_meta_key=0&orderby=title',\n",
       " 'https://carifilms.com/films/page/39?order=DESC&is_meta_key=0&orderby=title#038;is_meta_key=0&orderby=title',\n",
       " 'https://carifilms.com/films/page/40?order=DESC&is_meta_key=0&orderby=title#038;is_meta_key=0&orderby=title',\n",
       " 'https://carifilms.com/films/page/41?order=DESC&is_meta_key=0&orderby=title#038;is_meta_key=0&orderby=title',\n",
       " 'https://carifilms.com/films/page/42?order=DESC&is_meta_key=0&orderby=title#038;is_meta_key=0&orderby=title',\n",
       " 'https://carifilms.com/films/page/43?order=DESC&is_meta_key=0&orderby=title#038;is_meta_key=0&orderby=title',\n",
       " 'https://carifilms.com/films/page/44?order=DESC&is_meta_key=0&orderby=title#038;is_meta_key=0&orderby=title',\n",
       " 'https://carifilms.com/films/page/45?order=DESC&is_meta_key=0&orderby=title#038;is_meta_key=0&orderby=title',\n",
       " 'https://carifilms.com/films/page/46?order=DESC&is_meta_key=0&orderby=title#038;is_meta_key=0&orderby=title',\n",
       " 'https://carifilms.com/films/page/47?order=DESC&is_meta_key=0&orderby=title#038;is_meta_key=0&orderby=title',\n",
       " 'https://carifilms.com/films/page/48?order=DESC&is_meta_key=0&orderby=title#038;is_meta_key=0&orderby=title',\n",
       " 'https://carifilms.com/films/page/49?order=DESC&is_meta_key=0&orderby=title#038;is_meta_key=0&orderby=title',\n",
       " 'https://carifilms.com/films/page/50?order=DESC&is_meta_key=0&orderby=title#038;is_meta_key=0&orderby=title',\n",
       " 'https://carifilms.com/films/page/51?order=DESC&is_meta_key=0&orderby=title#038;is_meta_key=0&orderby=title',\n",
       " 'https://carifilms.com/films/page/52?order=DESC&is_meta_key=0&orderby=title#038;is_meta_key=0&orderby=title',\n",
       " 'https://carifilms.com/films/page/53?order=DESC&is_meta_key=0&orderby=title#038;is_meta_key=0&orderby=title',\n",
       " 'https://carifilms.com/films/page/54?order=DESC&is_meta_key=0&orderby=title#038;is_meta_key=0&orderby=title',\n",
       " 'https://carifilms.com/films/page/55?order=DESC&is_meta_key=0&orderby=title#038;is_meta_key=0&orderby=title',\n",
       " 'https://carifilms.com/films/page/56?order=DESC&is_meta_key=0&orderby=title#038;is_meta_key=0&orderby=title',\n",
       " 'https://carifilms.com/films/page/57?order=DESC&is_meta_key=0&orderby=title#038;is_meta_key=0&orderby=title',\n",
       " 'https://carifilms.com/films/page/58?order=DESC&is_meta_key=0&orderby=title#038;is_meta_key=0&orderby=title',\n",
       " 'https://carifilms.com/films/page/59?order=DESC&is_meta_key=0&orderby=title#038;is_meta_key=0&orderby=title',\n",
       " 'https://carifilms.com/films/page/60?order=DESC&is_meta_key=0&orderby=title#038;is_meta_key=0&orderby=title',\n",
       " 'https://carifilms.com/films/page/61?order=DESC&is_meta_key=0&orderby=title#038;is_meta_key=0&orderby=title',\n",
       " 'https://carifilms.com/films/page/62?order=DESC&is_meta_key=0&orderby=title#038;is_meta_key=0&orderby=title',\n",
       " 'https://carifilms.com/films/page/63?order=DESC&is_meta_key=0&orderby=title#038;is_meta_key=0&orderby=title',\n",
       " 'https://carifilms.com/films/page/64?order=DESC&is_meta_key=0&orderby=title#038;is_meta_key=0&orderby=title',\n",
       " 'https://carifilms.com/films/page/65?order=DESC&is_meta_key=0&orderby=title#038;is_meta_key=0&orderby=title',\n",
       " 'https://carifilms.com/films/page/66?order=DESC&is_meta_key=0&orderby=title#038;is_meta_key=0&orderby=title',\n",
       " 'https://carifilms.com/films/page/67?order=DESC&is_meta_key=0&orderby=title#038;is_meta_key=0&orderby=title',\n",
       " 'https://carifilms.com/films/page/68?order=DESC&is_meta_key=0&orderby=title#038;is_meta_key=0&orderby=title',\n",
       " 'https://carifilms.com/films/page/69?order=DESC&is_meta_key=0&orderby=title#038;is_meta_key=0&orderby=title',\n",
       " 'https://carifilms.com/films/page/70?order=DESC&is_meta_key=0&orderby=title#038;is_meta_key=0&orderby=title',\n",
       " 'https://carifilms.com/films/page/71?order=DESC&is_meta_key=0&orderby=title#038;is_meta_key=0&orderby=title',\n",
       " 'https://carifilms.com/films/page/72?order=DESC&is_meta_key=0&orderby=title#038;is_meta_key=0&orderby=title',\n",
       " 'https://carifilms.com/films/page/73?order=DESC&is_meta_key=0&orderby=title#038;is_meta_key=0&orderby=title',\n",
       " 'https://carifilms.com/films/page/74?order=DESC&is_meta_key=0&orderby=title#038;is_meta_key=0&orderby=title',\n",
       " 'https://carifilms.com/films/page/75?order=DESC&is_meta_key=0&orderby=title#038;is_meta_key=0&orderby=title',\n",
       " 'https://carifilms.com/films/page/76?order=DESC&is_meta_key=0&orderby=title#038;is_meta_key=0&orderby=title',\n",
       " 'https://carifilms.com/films/page/77?order=DESC&is_meta_key=0&orderby=title#038;is_meta_key=0&orderby=title',\n",
       " 'https://carifilms.com/films/page/78?order=DESC&is_meta_key=0&orderby=title#038;is_meta_key=0&orderby=title',\n",
       " 'https://carifilms.com/films/page/79?order=DESC&is_meta_key=0&orderby=title#038;is_meta_key=0&orderby=title',\n",
       " 'https://carifilms.com/films/page/80?order=DESC&is_meta_key=0&orderby=title#038;is_meta_key=0&orderby=title',\n",
       " 'https://carifilms.com/films/page/81?order=DESC&is_meta_key=0&orderby=title#038;is_meta_key=0&orderby=title',\n",
       " 'https://carifilms.com/films/page/82?order=DESC&is_meta_key=0&orderby=title#038;is_meta_key=0&orderby=title',\n",
       " 'https://carifilms.com/films/page/83?order=DESC&is_meta_key=0&orderby=title#038;is_meta_key=0&orderby=title',\n",
       " 'https://carifilms.com/films/page/84?order=DESC&is_meta_key=0&orderby=title#038;is_meta_key=0&orderby=title',\n",
       " 'https://carifilms.com/films/page/85?order=DESC&is_meta_key=0&orderby=title#038;is_meta_key=0&orderby=title',\n",
       " 'https://carifilms.com/films/page/86?order=DESC&is_meta_key=0&orderby=title#038;is_meta_key=0&orderby=title',\n",
       " 'https://carifilms.com/films/page/87?order=DESC&is_meta_key=0&orderby=title#038;is_meta_key=0&orderby=title',\n",
       " 'https://carifilms.com/films/page/88?order=DESC&is_meta_key=0&orderby=title#038;is_meta_key=0&orderby=title',\n",
       " 'https://carifilms.com/films/page/89?order=DESC&is_meta_key=0&orderby=title#038;is_meta_key=0&orderby=title',\n",
       " 'https://carifilms.com/films/page/90?order=DESC&is_meta_key=0&orderby=title#038;is_meta_key=0&orderby=title',\n",
       " 'https://carifilms.com/films/page/91?order=DESC&is_meta_key=0&orderby=title#038;is_meta_key=0&orderby=title',\n",
       " 'https://carifilms.com/films/page/92?order=DESC&is_meta_key=0&orderby=title#038;is_meta_key=0&orderby=title',\n",
       " 'https://carifilms.com/films/page/93?order=DESC&is_meta_key=0&orderby=title#038;is_meta_key=0&orderby=title',\n",
       " 'https://carifilms.com/films/page/94?order=DESC&is_meta_key=0&orderby=title#038;is_meta_key=0&orderby=title',\n",
       " 'https://carifilms.com/films/page/95?order=DESC&is_meta_key=0&orderby=title#038;is_meta_key=0&orderby=title',\n",
       " 'https://carifilms.com/films/page/96?order=DESC&is_meta_key=0&orderby=title#038;is_meta_key=0&orderby=title',\n",
       " 'https://carifilms.com/films/page/97?order=DESC&is_meta_key=0&orderby=title#038;is_meta_key=0&orderby=title',\n",
       " 'https://carifilms.com/films/page/98?order=DESC&is_meta_key=0&orderby=title#038;is_meta_key=0&orderby=title',\n",
       " 'https://carifilms.com/films/page/99?order=DESC&is_meta_key=0&orderby=title#038;is_meta_key=0&orderby=title',\n",
       " 'https://carifilms.com/films/page/100?order=DESC&is_meta_key=0&orderby=title#038;is_meta_key=0&orderby=title',\n",
       " 'https://carifilms.com/films/page/101?order=DESC&is_meta_key=0&orderby=title#038;is_meta_key=0&orderby=title',\n",
       " 'https://carifilms.com/films/page/102?order=DESC&is_meta_key=0&orderby=title#038;is_meta_key=0&orderby=title',\n",
       " 'https://carifilms.com/films/page/103?order=DESC&is_meta_key=0&orderby=title#038;is_meta_key=0&orderby=title',\n",
       " 'https://carifilms.com/films/page/104?order=DESC&is_meta_key=0&orderby=title#038;is_meta_key=0&orderby=title',\n",
       " 'https://carifilms.com/films/page/105?order=DESC&is_meta_key=0&orderby=title#038;is_meta_key=0&orderby=title',\n",
       " 'https://carifilms.com/films/page/106?order=DESC&is_meta_key=0&orderby=title#038;is_meta_key=0&orderby=title',\n",
       " 'https://carifilms.com/films/page/107?order=DESC&is_meta_key=0&orderby=title#038;is_meta_key=0&orderby=title',\n",
       " 'https://carifilms.com/films/page/108?order=DESC&is_meta_key=0&orderby=title#038;is_meta_key=0&orderby=title',\n",
       " 'https://carifilms.com/films/page/109?order=DESC&is_meta_key=0&orderby=title#038;is_meta_key=0&orderby=title',\n",
       " 'https://carifilms.com/films/page/110?order=DESC&is_meta_key=0&orderby=title#038;is_meta_key=0&orderby=title',\n",
       " 'https://carifilms.com/films/page/111?order=DESC&is_meta_key=0&orderby=title#038;is_meta_key=0&orderby=title',\n",
       " 'https://carifilms.com/films/page/112?order=DESC&is_meta_key=0&orderby=title#038;is_meta_key=0&orderby=title',\n",
       " 'https://carifilms.com/films/page/113?order=DESC&is_meta_key=0&orderby=title#038;is_meta_key=0&orderby=title',\n",
       " 'https://carifilms.com/films/page/114?order=DESC&is_meta_key=0&orderby=title#038;is_meta_key=0&orderby=title',\n",
       " 'https://carifilms.com/films/page/115?order=DESC&is_meta_key=0&orderby=title#038;is_meta_key=0&orderby=title',\n",
       " 'https://carifilms.com/films/page/116?order=DESC&is_meta_key=0&orderby=title#038;is_meta_key=0&orderby=title',\n",
       " 'https://carifilms.com/films/page/117?order=DESC&is_meta_key=0&orderby=title#038;is_meta_key=0&orderby=title',\n",
       " 'https://carifilms.com/films/page/118?order=DESC&is_meta_key=0&orderby=title#038;is_meta_key=0&orderby=title',\n",
       " 'https://carifilms.com/films/page/119?order=DESC&is_meta_key=0&orderby=title#038;is_meta_key=0&orderby=title',\n",
       " 'https://carifilms.com/films/page/120?order=DESC&is_meta_key=0&orderby=title#038;is_meta_key=0&orderby=title',\n",
       " 'https://carifilms.com/films/page/121?order=DESC&is_meta_key=0&orderby=title#038;is_meta_key=0&orderby=title',\n",
       " 'https://carifilms.com/films/page/122?order=DESC&is_meta_key=0&orderby=title#038;is_meta_key=0&orderby=title',\n",
       " 'https://carifilms.com/films/page/123?order=DESC&is_meta_key=0&orderby=title#038;is_meta_key=0&orderby=title',\n",
       " 'https://carifilms.com/films/page/124?order=DESC&is_meta_key=0&orderby=title#038;is_meta_key=0&orderby=title',\n",
       " 'https://carifilms.com/films/page/125?order=DESC&is_meta_key=0&orderby=title#038;is_meta_key=0&orderby=title',\n",
       " 'https://carifilms.com/films/page/126?order=DESC&is_meta_key=0&orderby=title#038;is_meta_key=0&orderby=title',\n",
       " 'https://carifilms.com/films/page/127?order=DESC&is_meta_key=0&orderby=title#038;is_meta_key=0&orderby=title',\n",
       " 'https://carifilms.com/films/page/128?order=DESC&is_meta_key=0&orderby=title#038;is_meta_key=0&orderby=title',\n",
       " 'https://carifilms.com/films/page/129?order=DESC&is_meta_key=0&orderby=title#038;is_meta_key=0&orderby=title',\n",
       " 'https://carifilms.com/films/page/130?order=DESC&is_meta_key=0&orderby=title#038;is_meta_key=0&orderby=title',\n",
       " 'https://carifilms.com/films/page/131?order=DESC&is_meta_key=0&orderby=title#038;is_meta_key=0&orderby=title',\n",
       " 'https://carifilms.com/films/page/132?order=DESC&is_meta_key=0&orderby=title#038;is_meta_key=0&orderby=title',\n",
       " 'https://carifilms.com/films/page/133?order=DESC&is_meta_key=0&orderby=title#038;is_meta_key=0&orderby=title',\n",
       " 'https://carifilms.com/films/page/134?order=DESC&is_meta_key=0&orderby=title#038;is_meta_key=0&orderby=title',\n",
       " 'https://carifilms.com/films/page/135?order=DESC&is_meta_key=0&orderby=title#038;is_meta_key=0&orderby=title',\n",
       " 'https://carifilms.com/films/page/136?order=DESC&is_meta_key=0&orderby=title#038;is_meta_key=0&orderby=title',\n",
       " 'https://carifilms.com/films/page/137?order=DESC&is_meta_key=0&orderby=title#038;is_meta_key=0&orderby=title',\n",
       " 'https://carifilms.com/films/page/138?order=DESC&is_meta_key=0&orderby=title#038;is_meta_key=0&orderby=title',\n",
       " 'https://carifilms.com/films/page/139?order=DESC&is_meta_key=0&orderby=title#038;is_meta_key=0&orderby=title',\n",
       " 'https://carifilms.com/films/page/140?order=DESC&is_meta_key=0&orderby=title#038;is_meta_key=0&orderby=title',\n",
       " 'https://carifilms.com/films/page/141?order=DESC&is_meta_key=0&orderby=title#038;is_meta_key=0&orderby=title',\n",
       " 'https://carifilms.com/films/page/142?order=DESC&is_meta_key=0&orderby=title#038;is_meta_key=0&orderby=title',\n",
       " 'https://carifilms.com/films/page/143?order=DESC&is_meta_key=0&orderby=title#038;is_meta_key=0&orderby=title',\n",
       " 'https://carifilms.com/films/page/144?order=DESC&is_meta_key=0&orderby=title#038;is_meta_key=0&orderby=title',\n",
       " 'https://carifilms.com/films/page/145?order=DESC&is_meta_key=0&orderby=title#038;is_meta_key=0&orderby=title',\n",
       " 'https://carifilms.com/films/page/146?order=DESC&is_meta_key=0&orderby=title#038;is_meta_key=0&orderby=title',\n",
       " 'https://carifilms.com/films/page/147?order=DESC&is_meta_key=0&orderby=title#038;is_meta_key=0&orderby=title',\n",
       " 'https://carifilms.com/films/page/148?order=DESC&is_meta_key=0&orderby=title#038;is_meta_key=0&orderby=title',\n",
       " 'https://carifilms.com/films/page/149?order=DESC&is_meta_key=0&orderby=title#038;is_meta_key=0&orderby=title',\n",
       " 'https://carifilms.com/films/page/150?order=DESC&is_meta_key=0&orderby=title#038;is_meta_key=0&orderby=title',\n",
       " 'https://carifilms.com/films/page/151?order=DESC&is_meta_key=0&orderby=title#038;is_meta_key=0&orderby=title',\n",
       " 'https://carifilms.com/films/page/152?order=DESC&is_meta_key=0&orderby=title#038;is_meta_key=0&orderby=title',\n",
       " 'https://carifilms.com/films/page/153?order=DESC&is_meta_key=0&orderby=title#038;is_meta_key=0&orderby=title',\n",
       " 'https://carifilms.com/films/page/154?order=DESC&is_meta_key=0&orderby=title#038;is_meta_key=0&orderby=title',\n",
       " 'https://carifilms.com/films/page/155?order=DESC&is_meta_key=0&orderby=title#038;is_meta_key=0&orderby=title',\n",
       " 'https://carifilms.com/films/page/156?order=DESC&is_meta_key=0&orderby=title#038;is_meta_key=0&orderby=title',\n",
       " 'https://carifilms.com/films/page/157?order=DESC&is_meta_key=0&orderby=title#038;is_meta_key=0&orderby=title',\n",
       " 'https://carifilms.com/films/page/158?order=DESC&is_meta_key=0&orderby=title#038;is_meta_key=0&orderby=title',\n",
       " 'https://carifilms.com/films/page/159?order=DESC&is_meta_key=0&orderby=title#038;is_meta_key=0&orderby=title',\n",
       " 'https://carifilms.com/films/page/160?order=DESC&is_meta_key=0&orderby=title#038;is_meta_key=0&orderby=title',\n",
       " 'https://carifilms.com/films/page/161?order=DESC&is_meta_key=0&orderby=title#038;is_meta_key=0&orderby=title',\n",
       " 'https://carifilms.com/films/page/162?order=DESC&is_meta_key=0&orderby=title#038;is_meta_key=0&orderby=title',\n",
       " 'https://carifilms.com/films/page/163?order=DESC&is_meta_key=0&orderby=title#038;is_meta_key=0&orderby=title',\n",
       " 'https://carifilms.com/films/page/164?order=DESC&is_meta_key=0&orderby=title#038;is_meta_key=0&orderby=title',\n",
       " 'https://carifilms.com/films/page/165?order=DESC&is_meta_key=0&orderby=title#038;is_meta_key=0&orderby=title',\n",
       " 'https://carifilms.com/films/page/166?order=DESC&is_meta_key=0&orderby=title#038;is_meta_key=0&orderby=title',\n",
       " 'https://carifilms.com/films/page/167?order=DESC&is_meta_key=0&orderby=title#038;is_meta_key=0&orderby=title',\n",
       " 'https://carifilms.com/films/page/168?order=DESC&is_meta_key=0&orderby=title#038;is_meta_key=0&orderby=title',\n",
       " 'https://carifilms.com/films/page/169?order=DESC&is_meta_key=0&orderby=title#038;is_meta_key=0&orderby=title',\n",
       " 'https://carifilms.com/films/page/170?order=DESC&is_meta_key=0&orderby=title#038;is_meta_key=0&orderby=title',\n",
       " 'https://carifilms.com/films/page/171?order=DESC&is_meta_key=0&orderby=title#038;is_meta_key=0&orderby=title',\n",
       " 'https://carifilms.com/films/page/172?order=DESC&is_meta_key=0&orderby=title#038;is_meta_key=0&orderby=title',\n",
       " 'https://carifilms.com/films/page/173?order=DESC&is_meta_key=0&orderby=title#038;is_meta_key=0&orderby=title',\n",
       " 'https://carifilms.com/films/page/174?order=DESC&is_meta_key=0&orderby=title#038;is_meta_key=0&orderby=title',\n",
       " 'https://carifilms.com/films/page/175?order=DESC&is_meta_key=0&orderby=title#038;is_meta_key=0&orderby=title',\n",
       " 'https://carifilms.com/films/page/176?order=DESC&is_meta_key=0&orderby=title#038;is_meta_key=0&orderby=title',\n",
       " 'https://carifilms.com/films/page/177?order=DESC&is_meta_key=0&orderby=title#038;is_meta_key=0&orderby=title',\n",
       " 'https://carifilms.com/films/page/178?order=DESC&is_meta_key=0&orderby=title#038;is_meta_key=0&orderby=title',\n",
       " 'https://carifilms.com/films/page/179?order=DESC&is_meta_key=0&orderby=title#038;is_meta_key=0&orderby=title',\n",
       " 'https://carifilms.com/films/page/180?order=DESC&is_meta_key=0&orderby=title#038;is_meta_key=0&orderby=title',\n",
       " 'https://carifilms.com/films/page/181?order=DESC&is_meta_key=0&orderby=title#038;is_meta_key=0&orderby=title',\n",
       " 'https://carifilms.com/films/page/182?order=DESC&is_meta_key=0&orderby=title#038;is_meta_key=0&orderby=title',\n",
       " 'https://carifilms.com/films/page/183?order=DESC&is_meta_key=0&orderby=title#038;is_meta_key=0&orderby=title',\n",
       " 'https://carifilms.com/films/page/184?order=DESC&is_meta_key=0&orderby=title#038;is_meta_key=0&orderby=title',\n",
       " 'https://carifilms.com/films/page/185?order=DESC&is_meta_key=0&orderby=title#038;is_meta_key=0&orderby=title',\n",
       " 'https://carifilms.com/films/page/186?order=DESC&is_meta_key=0&orderby=title#038;is_meta_key=0&orderby=title',\n",
       " 'https://carifilms.com/films/page/187?order=DESC&is_meta_key=0&orderby=title#038;is_meta_key=0&orderby=title',\n",
       " 'https://carifilms.com/films/page/188?order=DESC&is_meta_key=0&orderby=title#038;is_meta_key=0&orderby=title',\n",
       " 'https://carifilms.com/films/page/189?order=DESC&is_meta_key=0&orderby=title#038;is_meta_key=0&orderby=title',\n",
       " 'https://carifilms.com/films/page/190?order=DESC&is_meta_key=0&orderby=title#038;is_meta_key=0&orderby=title',\n",
       " 'https://carifilms.com/films/page/191?order=DESC&is_meta_key=0&orderby=title#038;is_meta_key=0&orderby=title',\n",
       " 'https://carifilms.com/films/page/192?order=DESC&is_meta_key=0&orderby=title#038;is_meta_key=0&orderby=title',\n",
       " 'https://carifilms.com/films/page/193?order=DESC&is_meta_key=0&orderby=title#038;is_meta_key=0&orderby=title',\n",
       " 'https://carifilms.com/films/page/194?order=DESC&is_meta_key=0&orderby=title#038;is_meta_key=0&orderby=title',\n",
       " 'https://carifilms.com/films/page/195?order=DESC&is_meta_key=0&orderby=title#038;is_meta_key=0&orderby=title',\n",
       " 'https://carifilms.com/films/page/196?order=DESC&is_meta_key=0&orderby=title#038;is_meta_key=0&orderby=title',\n",
       " 'https://carifilms.com/films/page/197?order=DESC&is_meta_key=0&orderby=title#038;is_meta_key=0&orderby=title',\n",
       " 'https://carifilms.com/films/page/198?order=DESC&is_meta_key=0&orderby=title#038;is_meta_key=0&orderby=title',\n",
       " 'https://carifilms.com/films/page/199?order=DESC&is_meta_key=0&orderby=title#038;is_meta_key=0&orderby=title',\n",
       " 'https://carifilms.com/films/page/200?order=DESC&is_meta_key=0&orderby=title#038;is_meta_key=0&orderby=title',\n",
       " 'https://carifilms.com/films/page/201?order=DESC&is_meta_key=0&orderby=title#038;is_meta_key=0&orderby=title',\n",
       " 'https://carifilms.com/films/page/202?order=DESC&is_meta_key=0&orderby=title#038;is_meta_key=0&orderby=title',\n",
       " 'https://carifilms.com/films/page/203?order=DESC&is_meta_key=0&orderby=title#038;is_meta_key=0&orderby=title',\n",
       " 'https://carifilms.com/films/page/204?order=DESC&is_meta_key=0&orderby=title#038;is_meta_key=0&orderby=title',\n",
       " 'https://carifilms.com/films/page/205?order=DESC&is_meta_key=0&orderby=title#038;is_meta_key=0&orderby=title',\n",
       " 'https://carifilms.com/films/page/206?order=DESC&is_meta_key=0&orderby=title#038;is_meta_key=0&orderby=title',\n",
       " 'https://carifilms.com/films/page/207?order=DESC&is_meta_key=0&orderby=title#038;is_meta_key=0&orderby=title',\n",
       " 'https://carifilms.com/films/page/208?order=DESC&is_meta_key=0&orderby=title#038;is_meta_key=0&orderby=title',\n",
       " 'https://carifilms.com/films/page/209?order=DESC&is_meta_key=0&orderby=title#038;is_meta_key=0&orderby=title',\n",
       " 'https://carifilms.com/films/page/210?order=DESC&is_meta_key=0&orderby=title#038;is_meta_key=0&orderby=title',\n",
       " 'https://carifilms.com/films/page/211?order=DESC&is_meta_key=0&orderby=title#038;is_meta_key=0&orderby=title',\n",
       " 'https://carifilms.com/films/page/212?order=DESC&is_meta_key=0&orderby=title#038;is_meta_key=0&orderby=title',\n",
       " 'https://carifilms.com/films/page/213?order=DESC&is_meta_key=0&orderby=title#038;is_meta_key=0&orderby=title',\n",
       " 'https://carifilms.com/films/page/214?order=DESC&is_meta_key=0&orderby=title#038;is_meta_key=0&orderby=title',\n",
       " 'https://carifilms.com/films/page/215?order=DESC&is_meta_key=0&orderby=title#038;is_meta_key=0&orderby=title',\n",
       " 'https://carifilms.com/films/page/216?order=DESC&is_meta_key=0&orderby=title#038;is_meta_key=0&orderby=title',\n",
       " 'https://carifilms.com/films/page/217?order=DESC&is_meta_key=0&orderby=title#038;is_meta_key=0&orderby=title',\n",
       " 'https://carifilms.com/films/page/218?order=DESC&is_meta_key=0&orderby=title#038;is_meta_key=0&orderby=title',\n",
       " 'https://carifilms.com/films/page/219?order=DESC&is_meta_key=0&orderby=title#038;is_meta_key=0&orderby=title',\n",
       " 'https://carifilms.com/films/page/220?order=DESC&is_meta_key=0&orderby=title#038;is_meta_key=0&orderby=title',\n",
       " 'https://carifilms.com/films/page/221?order=DESC&is_meta_key=0&orderby=title#038;is_meta_key=0&orderby=title',\n",
       " 'https://carifilms.com/films/page/222?order=DESC&is_meta_key=0&orderby=title#038;is_meta_key=0&orderby=title',\n",
       " 'https://carifilms.com/films/page/223?order=DESC&is_meta_key=0&orderby=title#038;is_meta_key=0&orderby=title',\n",
       " 'https://carifilms.com/films/page/224?order=DESC&is_meta_key=0&orderby=title#038;is_meta_key=0&orderby=title',\n",
       " 'https://carifilms.com/films/page/225?order=DESC&is_meta_key=0&orderby=title#038;is_meta_key=0&orderby=title',\n",
       " 'https://carifilms.com/films/page/226?order=DESC&is_meta_key=0&orderby=title#038;is_meta_key=0&orderby=title',\n",
       " 'https://carifilms.com/films/page/227?order=DESC&is_meta_key=0&orderby=title#038;is_meta_key=0&orderby=title',\n",
       " 'https://carifilms.com/films/page/228?order=DESC&is_meta_key=0&orderby=title#038;is_meta_key=0&orderby=title',\n",
       " 'https://carifilms.com/films/page/229?order=DESC&is_meta_key=0&orderby=title#038;is_meta_key=0&orderby=title',\n",
       " 'https://carifilms.com/films/page/230?order=DESC&is_meta_key=0&orderby=title#038;is_meta_key=0&orderby=title',\n",
       " 'https://carifilms.com/films/page/231?order=DESC&is_meta_key=0&orderby=title#038;is_meta_key=0&orderby=title',\n",
       " 'https://carifilms.com/films/page/232?order=DESC&is_meta_key=0&orderby=title#038;is_meta_key=0&orderby=title',\n",
       " 'https://carifilms.com/films/page/233?order=DESC&is_meta_key=0&orderby=title#038;is_meta_key=0&orderby=title',\n",
       " 'https://carifilms.com/films/page/234?order=DESC&is_meta_key=0&orderby=title#038;is_meta_key=0&orderby=title',\n",
       " 'https://carifilms.com/films/page/235?order=DESC&is_meta_key=0&orderby=title#038;is_meta_key=0&orderby=title',\n",
       " 'https://carifilms.com/films/page/236?order=DESC&is_meta_key=0&orderby=title#038;is_meta_key=0&orderby=title',\n",
       " 'https://carifilms.com/films/page/237?order=DESC&is_meta_key=0&orderby=title#038;is_meta_key=0&orderby=title',\n",
       " 'https://carifilms.com/films/page/238?order=DESC&is_meta_key=0&orderby=title#038;is_meta_key=0&orderby=title',\n",
       " 'https://carifilms.com/films/page/239?order=DESC&is_meta_key=0&orderby=title#038;is_meta_key=0&orderby=title',\n",
       " 'https://carifilms.com/films/page/240?order=DESC&is_meta_key=0&orderby=title#038;is_meta_key=0&orderby=title',\n",
       " 'https://carifilms.com/films/page/241?order=DESC&is_meta_key=0&orderby=title#038;is_meta_key=0&orderby=title',\n",
       " 'https://carifilms.com/films/page/242?order=DESC&is_meta_key=0&orderby=title#038;is_meta_key=0&orderby=title',\n",
       " 'https://carifilms.com/films/page/243?order=DESC&is_meta_key=0&orderby=title#038;is_meta_key=0&orderby=title',\n",
       " 'https://carifilms.com/films/page/244?order=DESC&is_meta_key=0&orderby=title#038;is_meta_key=0&orderby=title',\n",
       " 'https://carifilms.com/films/page/245?order=DESC&is_meta_key=0&orderby=title#038;is_meta_key=0&orderby=title',\n",
       " 'https://carifilms.com/films/page/246?order=DESC&is_meta_key=0&orderby=title#038;is_meta_key=0&orderby=title',\n",
       " 'https://carifilms.com/films/page/247?order=DESC&is_meta_key=0&orderby=title#038;is_meta_key=0&orderby=title',\n",
       " 'https://carifilms.com/films/page/248?order=DESC&is_meta_key=0&orderby=title#038;is_meta_key=0&orderby=title',\n",
       " 'https://carifilms.com/films/page/249?order=DESC&is_meta_key=0&orderby=title#038;is_meta_key=0&orderby=title',\n",
       " 'https://carifilms.com/films/page/250?order=DESC&is_meta_key=0&orderby=title#038;is_meta_key=0&orderby=title',\n",
       " 'https://carifilms.com/films/page/251?order=DESC&is_meta_key=0&orderby=title#038;is_meta_key=0&orderby=title',\n",
       " 'https://carifilms.com/films/page/252?order=DESC&is_meta_key=0&orderby=title#038;is_meta_key=0&orderby=title',\n",
       " 'https://carifilms.com/films/page/253?order=DESC&is_meta_key=0&orderby=title#038;is_meta_key=0&orderby=title',\n",
       " 'https://carifilms.com/films/page/254?order=DESC&is_meta_key=0&orderby=title#038;is_meta_key=0&orderby=title',\n",
       " 'https://carifilms.com/films/page/255?order=DESC&is_meta_key=0&orderby=title#038;is_meta_key=0&orderby=title',\n",
       " 'https://carifilms.com/films/page/256?order=DESC&is_meta_key=0&orderby=title#038;is_meta_key=0&orderby=title',\n",
       " 'https://carifilms.com/films/page/257?order=DESC&is_meta_key=0&orderby=title#038;is_meta_key=0&orderby=title',\n",
       " 'https://carifilms.com/films/page/258?order=DESC&is_meta_key=0&orderby=title#038;is_meta_key=0&orderby=title',\n",
       " 'https://carifilms.com/films/page/259?order=DESC&is_meta_key=0&orderby=title#038;is_meta_key=0&orderby=title',\n",
       " 'https://carifilms.com/films/page/260?order=DESC&is_meta_key=0&orderby=title#038;is_meta_key=0&orderby=title',\n",
       " 'https://carifilms.com/films/page/261?order=DESC&is_meta_key=0&orderby=title#038;is_meta_key=0&orderby=title',\n",
       " 'https://carifilms.com/films/page/262?order=DESC&is_meta_key=0&orderby=title#038;is_meta_key=0&orderby=title',\n",
       " 'https://carifilms.com/films/page/263?order=DESC&is_meta_key=0&orderby=title#038;is_meta_key=0&orderby=title',\n",
       " 'https://carifilms.com/films/page/264?order=DESC&is_meta_key=0&orderby=title#038;is_meta_key=0&orderby=title',\n",
       " 'https://carifilms.com/films/page/265?order=DESC&is_meta_key=0&orderby=title#038;is_meta_key=0&orderby=title',\n",
       " 'https://carifilms.com/films/page/266?order=DESC&is_meta_key=0&orderby=title#038;is_meta_key=0&orderby=title',\n",
       " 'https://carifilms.com/films/page/267?order=DESC&is_meta_key=0&orderby=title#038;is_meta_key=0&orderby=title',\n",
       " 'https://carifilms.com/films/page/268?order=DESC&is_meta_key=0&orderby=title#038;is_meta_key=0&orderby=title',\n",
       " 'https://carifilms.com/films/page/269?order=DESC&is_meta_key=0&orderby=title#038;is_meta_key=0&orderby=title',\n",
       " 'https://carifilms.com/films/page/270?order=DESC&is_meta_key=0&orderby=title#038;is_meta_key=0&orderby=title',\n",
       " 'https://carifilms.com/films/page/271?order=DESC&is_meta_key=0&orderby=title#038;is_meta_key=0&orderby=title',\n",
       " 'https://carifilms.com/films/page/272?order=DESC&is_meta_key=0&orderby=title#038;is_meta_key=0&orderby=title',\n",
       " 'https://carifilms.com/films/page/273?order=DESC&is_meta_key=0&orderby=title#038;is_meta_key=0&orderby=title',\n",
       " 'https://carifilms.com/films/page/274?order=DESC&is_meta_key=0&orderby=title#038;is_meta_key=0&orderby=title',\n",
       " 'https://carifilms.com/films/page/275?order=DESC&is_meta_key=0&orderby=title#038;is_meta_key=0&orderby=title',\n",
       " 'https://carifilms.com/films/page/276?order=DESC&is_meta_key=0&orderby=title#038;is_meta_key=0&orderby=title',\n",
       " 'https://carifilms.com/films/page/277?order=DESC&is_meta_key=0&orderby=title#038;is_meta_key=0&orderby=title',\n",
       " 'https://carifilms.com/films/page/278?order=DESC&is_meta_key=0&orderby=title#038;is_meta_key=0&orderby=title',\n",
       " 'https://carifilms.com/films/page/279?order=DESC&is_meta_key=0&orderby=title#038;is_meta_key=0&orderby=title',\n",
       " 'https://carifilms.com/films/page/280?order=DESC&is_meta_key=0&orderby=title#038;is_meta_key=0&orderby=title',\n",
       " 'https://carifilms.com/films/page/281?order=DESC&is_meta_key=0&orderby=title#038;is_meta_key=0&orderby=title',\n",
       " 'https://carifilms.com/films/page/282?order=DESC&is_meta_key=0&orderby=title#038;is_meta_key=0&orderby=title',\n",
       " 'https://carifilms.com/films/page/283?order=DESC&is_meta_key=0&orderby=title#038;is_meta_key=0&orderby=title',\n",
       " 'https://carifilms.com/films/page/284?order=DESC&is_meta_key=0&orderby=title#038;is_meta_key=0&orderby=title',\n",
       " 'https://carifilms.com/films/page/285?order=DESC&is_meta_key=0&orderby=title#038;is_meta_key=0&orderby=title',\n",
       " 'https://carifilms.com/films/page/286?order=DESC&is_meta_key=0&orderby=title#038;is_meta_key=0&orderby=title',\n",
       " 'https://carifilms.com/films/page/287?order=DESC&is_meta_key=0&orderby=title#038;is_meta_key=0&orderby=title',\n",
       " 'https://carifilms.com/films/page/288?order=DESC&is_meta_key=0&orderby=title#038;is_meta_key=0&orderby=title',\n",
       " 'https://carifilms.com/films/page/289?order=DESC&is_meta_key=0&orderby=title#038;is_meta_key=0&orderby=title',\n",
       " 'https://carifilms.com/films/page/290?order=DESC&is_meta_key=0&orderby=title#038;is_meta_key=0&orderby=title',\n",
       " 'https://carifilms.com/films/page/291?order=DESC&is_meta_key=0&orderby=title#038;is_meta_key=0&orderby=title',\n",
       " 'https://carifilms.com/films/page/292?order=DESC&is_meta_key=0&orderby=title#038;is_meta_key=0&orderby=title',\n",
       " 'https://carifilms.com/films/page/293?order=DESC&is_meta_key=0&orderby=title#038;is_meta_key=0&orderby=title',\n",
       " 'https://carifilms.com/films/page/294?order=DESC&is_meta_key=0&orderby=title#038;is_meta_key=0&orderby=title',\n",
       " 'https://carifilms.com/films/page/295?order=DESC&is_meta_key=0&orderby=title#038;is_meta_key=0&orderby=title',\n",
       " 'https://carifilms.com/films/page/296?order=DESC&is_meta_key=0&orderby=title#038;is_meta_key=0&orderby=title',\n",
       " 'https://carifilms.com/films/page/297?order=DESC&is_meta_key=0&orderby=title#038;is_meta_key=0&orderby=title',\n",
       " 'https://carifilms.com/films/page/298?order=DESC&is_meta_key=0&orderby=title#038;is_meta_key=0&orderby=title',\n",
       " 'https://carifilms.com/films/page/299?order=DESC&is_meta_key=0&orderby=title#038;is_meta_key=0&orderby=title',\n",
       " 'https://carifilms.com/films/page/300?order=DESC&is_meta_key=0&orderby=title#038;is_meta_key=0&orderby=title',\n",
       " 'https://carifilms.com/films/page/301?order=DESC&is_meta_key=0&orderby=title#038;is_meta_key=0&orderby=title',\n",
       " 'https://carifilms.com/films/page/302?order=DESC&is_meta_key=0&orderby=title#038;is_meta_key=0&orderby=title',\n",
       " 'https://carifilms.com/films/page/303?order=DESC&is_meta_key=0&orderby=title#038;is_meta_key=0&orderby=title',\n",
       " 'https://carifilms.com/films/page/304?order=DESC&is_meta_key=0&orderby=title#038;is_meta_key=0&orderby=title',\n",
       " 'https://carifilms.com/films/page/305?order=DESC&is_meta_key=0&orderby=title#038;is_meta_key=0&orderby=title',\n",
       " 'https://carifilms.com/films/page/306?order=DESC&is_meta_key=0&orderby=title#038;is_meta_key=0&orderby=title',\n",
       " 'https://carifilms.com/films/page/307?order=DESC&is_meta_key=0&orderby=title#038;is_meta_key=0&orderby=title',\n",
       " 'https://carifilms.com/films/page/308?order=DESC&is_meta_key=0&orderby=title#038;is_meta_key=0&orderby=title',\n",
       " 'https://carifilms.com/films/page/309?order=DESC&is_meta_key=0&orderby=title#038;is_meta_key=0&orderby=title',\n",
       " 'https://carifilms.com/films/page/310?order=DESC&is_meta_key=0&orderby=title#038;is_meta_key=0&orderby=title',\n",
       " 'https://carifilms.com/films/page/311?order=DESC&is_meta_key=0&orderby=title#038;is_meta_key=0&orderby=title',\n",
       " 'https://carifilms.com/films/page/312?order=DESC&is_meta_key=0&orderby=title#038;is_meta_key=0&orderby=title',\n",
       " 'https://carifilms.com/films/page/313?order=DESC&is_meta_key=0&orderby=title#038;is_meta_key=0&orderby=title',\n",
       " 'https://carifilms.com/films/page/314?order=DESC&is_meta_key=0&orderby=title#038;is_meta_key=0&orderby=title',\n",
       " 'https://carifilms.com/films/page/315?order=DESC&is_meta_key=0&orderby=title#038;is_meta_key=0&orderby=title',\n",
       " 'https://carifilms.com/films/page/316?order=DESC&is_meta_key=0&orderby=title#038;is_meta_key=0&orderby=title',\n",
       " 'https://carifilms.com/films/page/317?order=DESC&is_meta_key=0&orderby=title#038;is_meta_key=0&orderby=title',\n",
       " 'https://carifilms.com/films/page/318?order=DESC&is_meta_key=0&orderby=title#038;is_meta_key=0&orderby=title',\n",
       " 'https://carifilms.com/films/page/319?order=DESC&is_meta_key=0&orderby=title#038;is_meta_key=0&orderby=title',\n",
       " 'https://carifilms.com/films/page/320?order=DESC&is_meta_key=0&orderby=title#038;is_meta_key=0&orderby=title',\n",
       " 'https://carifilms.com/films/page/321?order=DESC&is_meta_key=0&orderby=title#038;is_meta_key=0&orderby=title',\n",
       " 'https://carifilms.com/films/page/322?order=DESC&is_meta_key=0&orderby=title#038;is_meta_key=0&orderby=title',\n",
       " 'https://carifilms.com/films/page/323?order=DESC&is_meta_key=0&orderby=title#038;is_meta_key=0&orderby=title',\n",
       " 'https://carifilms.com/films/page/324?order=DESC&is_meta_key=0&orderby=title#038;is_meta_key=0&orderby=title',\n",
       " 'https://carifilms.com/films/page/325?order=DESC&is_meta_key=0&orderby=title#038;is_meta_key=0&orderby=title',\n",
       " 'https://carifilms.com/films/page/326?order=DESC&is_meta_key=0&orderby=title#038;is_meta_key=0&orderby=title',\n",
       " 'https://carifilms.com/films/page/327?order=DESC&is_meta_key=0&orderby=title#038;is_meta_key=0&orderby=title',\n",
       " 'https://carifilms.com/films/page/328?order=DESC&is_meta_key=0&orderby=title#038;is_meta_key=0&orderby=title',\n",
       " 'https://carifilms.com/films/page/329?order=DESC&is_meta_key=0&orderby=title#038;is_meta_key=0&orderby=title',\n",
       " 'https://carifilms.com/films/page/330?order=DESC&is_meta_key=0&orderby=title#038;is_meta_key=0&orderby=title',\n",
       " 'https://carifilms.com/films/page/331?order=DESC&is_meta_key=0&orderby=title#038;is_meta_key=0&orderby=title',\n",
       " 'https://carifilms.com/films/page/332?order=DESC&is_meta_key=0&orderby=title#038;is_meta_key=0&orderby=title',\n",
       " 'https://carifilms.com/films/page/333?order=DESC&is_meta_key=0&orderby=title#038;is_meta_key=0&orderby=title',\n",
       " 'https://carifilms.com/films/page/334?order=DESC&is_meta_key=0&orderby=title#038;is_meta_key=0&orderby=title',\n",
       " 'https://carifilms.com/films/page/335?order=DESC&is_meta_key=0&orderby=title#038;is_meta_key=0&orderby=title',\n",
       " 'https://carifilms.com/films/page/336?order=DESC&is_meta_key=0&orderby=title#038;is_meta_key=0&orderby=title',\n",
       " 'https://carifilms.com/films/page/337?order=DESC&is_meta_key=0&orderby=title#038;is_meta_key=0&orderby=title',\n",
       " 'https://carifilms.com/films/page/338?order=DESC&is_meta_key=0&orderby=title#038;is_meta_key=0&orderby=title',\n",
       " 'https://carifilms.com/films/page/339?order=DESC&is_meta_key=0&orderby=title#038;is_meta_key=0&orderby=title',\n",
       " 'https://carifilms.com/films/page/340?order=DESC&is_meta_key=0&orderby=title#038;is_meta_key=0&orderby=title',\n",
       " 'https://carifilms.com/films/page/341?order=DESC&is_meta_key=0&orderby=title#038;is_meta_key=0&orderby=title',\n",
       " 'https://carifilms.com/films/page/342?order=DESC&is_meta_key=0&orderby=title#038;is_meta_key=0&orderby=title',\n",
       " 'https://carifilms.com/films/page/343?order=DESC&is_meta_key=0&orderby=title#038;is_meta_key=0&orderby=title',\n",
       " 'https://carifilms.com/films/page/344?order=DESC&is_meta_key=0&orderby=title#038;is_meta_key=0&orderby=title',\n",
       " 'https://carifilms.com/films/page/345?order=DESC&is_meta_key=0&orderby=title#038;is_meta_key=0&orderby=title',\n",
       " 'https://carifilms.com/films/page/346?order=DESC&is_meta_key=0&orderby=title#038;is_meta_key=0&orderby=title',\n",
       " 'https://carifilms.com/films/page/347?order=DESC&is_meta_key=0&orderby=title#038;is_meta_key=0&orderby=title',\n",
       " 'https://carifilms.com/films/page/348?order=DESC&is_meta_key=0&orderby=title#038;is_meta_key=0&orderby=title',\n",
       " 'https://carifilms.com/films/page/349?order=DESC&is_meta_key=0&orderby=title#038;is_meta_key=0&orderby=title',\n",
       " 'https://carifilms.com/films/page/350?order=DESC&is_meta_key=0&orderby=title#038;is_meta_key=0&orderby=title',\n",
       " 'https://carifilms.com/films/page/351?order=DESC&is_meta_key=0&orderby=title#038;is_meta_key=0&orderby=title',\n",
       " 'https://carifilms.com/films/page/352?order=DESC&is_meta_key=0&orderby=title#038;is_meta_key=0&orderby=title',\n",
       " 'https://carifilms.com/films/page/353?order=DESC&is_meta_key=0&orderby=title#038;is_meta_key=0&orderby=title',\n",
       " 'https://carifilms.com/films/page/354?order=DESC&is_meta_key=0&orderby=title#038;is_meta_key=0&orderby=title',\n",
       " 'https://carifilms.com/films/page/355?order=DESC&is_meta_key=0&orderby=title#038;is_meta_key=0&orderby=title',\n",
       " 'https://carifilms.com/films/page/356?order=DESC&is_meta_key=0&orderby=title#038;is_meta_key=0&orderby=title',\n",
       " 'https://carifilms.com/films/page/357?order=DESC&is_meta_key=0&orderby=title#038;is_meta_key=0&orderby=title',\n",
       " 'https://carifilms.com/films/page/358?order=DESC&is_meta_key=0&orderby=title#038;is_meta_key=0&orderby=title',\n",
       " 'https://carifilms.com/films/page/359?order=DESC&is_meta_key=0&orderby=title#038;is_meta_key=0&orderby=title',\n",
       " 'https://carifilms.com/films/page/360?order=DESC&is_meta_key=0&orderby=title#038;is_meta_key=0&orderby=title',\n",
       " 'https://carifilms.com/films/page/361?order=DESC&is_meta_key=0&orderby=title#038;is_meta_key=0&orderby=title',\n",
       " 'https://carifilms.com/films/page/362?order=DESC&is_meta_key=0&orderby=title#038;is_meta_key=0&orderby=title',\n",
       " 'https://carifilms.com/films/page/363?order=DESC&is_meta_key=0&orderby=title#038;is_meta_key=0&orderby=title',\n",
       " 'https://carifilms.com/films/page/364?order=DESC&is_meta_key=0&orderby=title#038;is_meta_key=0&orderby=title',\n",
       " 'https://carifilms.com/films/page/365?order=DESC&is_meta_key=0&orderby=title#038;is_meta_key=0&orderby=title',\n",
       " 'https://carifilms.com/films/page/366?order=DESC&is_meta_key=0&orderby=title#038;is_meta_key=0&orderby=title',\n",
       " 'https://carifilms.com/films/page/367?order=DESC&is_meta_key=0&orderby=title#038;is_meta_key=0&orderby=title',\n",
       " 'https://carifilms.com/films/page/368?order=DESC&is_meta_key=0&orderby=title#038;is_meta_key=0&orderby=title',\n",
       " 'https://carifilms.com/films/page/369?order=DESC&is_meta_key=0&orderby=title#038;is_meta_key=0&orderby=title',\n",
       " 'https://carifilms.com/films/page/370?order=DESC&is_meta_key=0&orderby=title#038;is_meta_key=0&orderby=title',\n",
       " 'https://carifilms.com/films/page/371?order=DESC&is_meta_key=0&orderby=title#038;is_meta_key=0&orderby=title',\n",
       " 'https://carifilms.com/films/page/372?order=DESC&is_meta_key=0&orderby=title#038;is_meta_key=0&orderby=title',\n",
       " 'https://carifilms.com/films/page/373?order=DESC&is_meta_key=0&orderby=title#038;is_meta_key=0&orderby=title',\n",
       " 'https://carifilms.com/films/page/374?order=DESC&is_meta_key=0&orderby=title#038;is_meta_key=0&orderby=title',\n",
       " 'https://carifilms.com/films/page/375?order=DESC&is_meta_key=0&orderby=title#038;is_meta_key=0&orderby=title',\n",
       " 'https://carifilms.com/films/page/376?order=DESC&is_meta_key=0&orderby=title#038;is_meta_key=0&orderby=title',\n",
       " 'https://carifilms.com/films/page/377?order=DESC&is_meta_key=0&orderby=title#038;is_meta_key=0&orderby=title',\n",
       " 'https://carifilms.com/films/page/378?order=DESC&is_meta_key=0&orderby=title#038;is_meta_key=0&orderby=title',\n",
       " 'https://carifilms.com/films/page/379?order=DESC&is_meta_key=0&orderby=title#038;is_meta_key=0&orderby=title',\n",
       " 'https://carifilms.com/films/page/380?order=DESC&is_meta_key=0&orderby=title#038;is_meta_key=0&orderby=title',\n",
       " 'https://carifilms.com/films/page/381?order=DESC&is_meta_key=0&orderby=title#038;is_meta_key=0&orderby=title',\n",
       " 'https://carifilms.com/films/page/382?order=DESC&is_meta_key=0&orderby=title#038;is_meta_key=0&orderby=title',\n",
       " 'https://carifilms.com/films/page/383?order=DESC&is_meta_key=0&orderby=title#038;is_meta_key=0&orderby=title',\n",
       " 'https://carifilms.com/films/page/384?order=DESC&is_meta_key=0&orderby=title#038;is_meta_key=0&orderby=title',\n",
       " 'https://carifilms.com/films/page/385?order=DESC&is_meta_key=0&orderby=title#038;is_meta_key=0&orderby=title',\n",
       " 'https://carifilms.com/films/page/386?order=DESC&is_meta_key=0&orderby=title#038;is_meta_key=0&orderby=title',\n",
       " 'https://carifilms.com/films/page/387?order=DESC&is_meta_key=0&orderby=title#038;is_meta_key=0&orderby=title',\n",
       " 'https://carifilms.com/films/page/388?order=DESC&is_meta_key=0&orderby=title#038;is_meta_key=0&orderby=title',\n",
       " 'https://carifilms.com/films/page/389?order=DESC&is_meta_key=0&orderby=title#038;is_meta_key=0&orderby=title',\n",
       " 'https://carifilms.com/films/page/390?order=DESC&is_meta_key=0&orderby=title#038;is_meta_key=0&orderby=title',\n",
       " 'https://carifilms.com/films/page/391?order=DESC&is_meta_key=0&orderby=title#038;is_meta_key=0&orderby=title',\n",
       " 'https://carifilms.com/films/page/392?order=DESC&is_meta_key=0&orderby=title#038;is_meta_key=0&orderby=title',\n",
       " 'https://carifilms.com/films/page/393?order=DESC&is_meta_key=0&orderby=title#038;is_meta_key=0&orderby=title',\n",
       " 'https://carifilms.com/films/page/394?order=DESC&is_meta_key=0&orderby=title#038;is_meta_key=0&orderby=title',\n",
       " 'https://carifilms.com/films/page/395?order=DESC&is_meta_key=0&orderby=title#038;is_meta_key=0&orderby=title',\n",
       " 'https://carifilms.com/films/page/396?order=DESC&is_meta_key=0&orderby=title#038;is_meta_key=0&orderby=title',\n",
       " 'https://carifilms.com/films/page/397?order=DESC&is_meta_key=0&orderby=title#038;is_meta_key=0&orderby=title',\n",
       " 'https://carifilms.com/films/page/398?order=DESC&is_meta_key=0&orderby=title#038;is_meta_key=0&orderby=title',\n",
       " 'https://carifilms.com/films/page/399?order=DESC&is_meta_key=0&orderby=title#038;is_meta_key=0&orderby=title',\n",
       " 'https://carifilms.com/films/page/400?order=DESC&is_meta_key=0&orderby=title#038;is_meta_key=0&orderby=title',\n",
       " 'https://carifilms.com/films/page/401?order=DESC&is_meta_key=0&orderby=title#038;is_meta_key=0&orderby=title',\n",
       " 'https://carifilms.com/films/page/402?order=DESC&is_meta_key=0&orderby=title#038;is_meta_key=0&orderby=title',\n",
       " 'https://carifilms.com/films/page/403?order=DESC&is_meta_key=0&orderby=title#038;is_meta_key=0&orderby=title',\n",
       " 'https://carifilms.com/films/page/404?order=DESC&is_meta_key=0&orderby=title#038;is_meta_key=0&orderby=title',\n",
       " 'https://carifilms.com/films/page/405?order=DESC&is_meta_key=0&orderby=title#038;is_meta_key=0&orderby=title',\n",
       " 'https://carifilms.com/films/page/406?order=DESC&is_meta_key=0&orderby=title#038;is_meta_key=0&orderby=title',\n",
       " 'https://carifilms.com/films/page/407?order=DESC&is_meta_key=0&orderby=title#038;is_meta_key=0&orderby=title',\n",
       " 'https://carifilms.com/films/page/408?order=DESC&is_meta_key=0&orderby=title#038;is_meta_key=0&orderby=title',\n",
       " 'https://carifilms.com/films/page/409?order=DESC&is_meta_key=0&orderby=title#038;is_meta_key=0&orderby=title',\n",
       " 'https://carifilms.com/films/page/410?order=DESC&is_meta_key=0&orderby=title#038;is_meta_key=0&orderby=title',\n",
       " 'https://carifilms.com/films/page/411?order=DESC&is_meta_key=0&orderby=title#038;is_meta_key=0&orderby=title',\n",
       " 'https://carifilms.com/films/page/412?order=DESC&is_meta_key=0&orderby=title#038;is_meta_key=0&orderby=title',\n",
       " 'https://carifilms.com/films/page/413?order=DESC&is_meta_key=0&orderby=title#038;is_meta_key=0&orderby=title',\n",
       " 'https://carifilms.com/films/page/414?order=DESC&is_meta_key=0&orderby=title#038;is_meta_key=0&orderby=title',\n",
       " 'https://carifilms.com/films/page/415?order=DESC&is_meta_key=0&orderby=title#038;is_meta_key=0&orderby=title',\n",
       " 'https://carifilms.com/films/page/416?order=DESC&is_meta_key=0&orderby=title#038;is_meta_key=0&orderby=title',\n",
       " 'https://carifilms.com/films/page/417?order=DESC&is_meta_key=0&orderby=title#038;is_meta_key=0&orderby=title',\n",
       " 'https://carifilms.com/films/page/418?order=DESC&is_meta_key=0&orderby=title#038;is_meta_key=0&orderby=title',\n",
       " 'https://carifilms.com/films/page/419?order=DESC&is_meta_key=0&orderby=title#038;is_meta_key=0&orderby=title',\n",
       " 'https://carifilms.com/films/page/420?order=DESC&is_meta_key=0&orderby=title#038;is_meta_key=0&orderby=title',\n",
       " 'https://carifilms.com/films/page/421?order=DESC&is_meta_key=0&orderby=title#038;is_meta_key=0&orderby=title',\n",
       " 'https://carifilms.com/films/page/422?order=DESC&is_meta_key=0&orderby=title#038;is_meta_key=0&orderby=title',\n",
       " 'https://carifilms.com/films/page/423?order=DESC&is_meta_key=0&orderby=title#038;is_meta_key=0&orderby=title',\n",
       " 'https://carifilms.com/films/page/424?order=DESC&is_meta_key=0&orderby=title#038;is_meta_key=0&orderby=title',\n",
       " 'https://carifilms.com/films/page/425?order=DESC&is_meta_key=0&orderby=title#038;is_meta_key=0&orderby=title',\n",
       " 'https://carifilms.com/films/page/426?order=DESC&is_meta_key=0&orderby=title#038;is_meta_key=0&orderby=title',\n",
       " 'https://carifilms.com/films/page/427?order=DESC&is_meta_key=0&orderby=title#038;is_meta_key=0&orderby=title',\n",
       " 'https://carifilms.com/films/page/428?order=DESC&is_meta_key=0&orderby=title#038;is_meta_key=0&orderby=title',\n",
       " 'https://carifilms.com/films/page/429?order=DESC&is_meta_key=0&orderby=title#038;is_meta_key=0&orderby=title',\n",
       " 'https://carifilms.com/films/page/430?order=DESC&is_meta_key=0&orderby=title#038;is_meta_key=0&orderby=title',\n",
       " 'https://carifilms.com/films/page/431?order=DESC&is_meta_key=0&orderby=title#038;is_meta_key=0&orderby=title',\n",
       " 'https://carifilms.com/films/page/432?order=DESC&is_meta_key=0&orderby=title#038;is_meta_key=0&orderby=title',\n",
       " 'https://carifilms.com/films/page/433?order=DESC&is_meta_key=0&orderby=title#038;is_meta_key=0&orderby=title',\n",
       " 'https://carifilms.com/films/page/434?order=DESC&is_meta_key=0&orderby=title#038;is_meta_key=0&orderby=title',\n",
       " 'https://carifilms.com/films/page/435?order=DESC&is_meta_key=0&orderby=title#038;is_meta_key=0&orderby=title',\n",
       " 'https://carifilms.com/films/page/436?order=DESC&is_meta_key=0&orderby=title#038;is_meta_key=0&orderby=title',\n",
       " 'https://carifilms.com/films/page/437?order=DESC&is_meta_key=0&orderby=title#038;is_meta_key=0&orderby=title',\n",
       " 'https://carifilms.com/films/page/438?order=DESC&is_meta_key=0&orderby=title#038;is_meta_key=0&orderby=title',\n",
       " 'https://carifilms.com/films/page/439?order=DESC&is_meta_key=0&orderby=title#038;is_meta_key=0&orderby=title',\n",
       " 'https://carifilms.com/films/page/440?order=DESC&is_meta_key=0&orderby=title#038;is_meta_key=0&orderby=title',\n",
       " 'https://carifilms.com/films/page/441?order=DESC&is_meta_key=0&orderby=title#038;is_meta_key=0&orderby=title',\n",
       " 'https://carifilms.com/films/page/442?order=DESC&is_meta_key=0&orderby=title#038;is_meta_key=0&orderby=title',\n",
       " 'https://carifilms.com/films/page/443?order=DESC&is_meta_key=0&orderby=title#038;is_meta_key=0&orderby=title',\n",
       " 'https://carifilms.com/films/page/444?order=DESC&is_meta_key=0&orderby=title#038;is_meta_key=0&orderby=title',\n",
       " 'https://carifilms.com/films/page/445?order=DESC&is_meta_key=0&orderby=title#038;is_meta_key=0&orderby=title',\n",
       " 'https://carifilms.com/films/page/446?order=DESC&is_meta_key=0&orderby=title#038;is_meta_key=0&orderby=title',\n",
       " 'https://carifilms.com/films/page/447?order=DESC&is_meta_key=0&orderby=title#038;is_meta_key=0&orderby=title',\n",
       " 'https://carifilms.com/films/page/448?order=DESC&is_meta_key=0&orderby=title#038;is_meta_key=0&orderby=title',\n",
       " 'https://carifilms.com/films/page/449?order=DESC&is_meta_key=0&orderby=title#038;is_meta_key=0&orderby=title',\n",
       " 'https://carifilms.com/films/page/450?order=DESC&is_meta_key=0&orderby=title#038;is_meta_key=0&orderby=title',\n",
       " 'https://carifilms.com/films/page/451?order=DESC&is_meta_key=0&orderby=title#038;is_meta_key=0&orderby=title',\n",
       " 'https://carifilms.com/films/page/452?order=DESC&is_meta_key=0&orderby=title#038;is_meta_key=0&orderby=title',\n",
       " 'https://carifilms.com/films/page/453?order=DESC&is_meta_key=0&orderby=title#038;is_meta_key=0&orderby=title',\n",
       " 'https://carifilms.com/films/page/454?order=DESC&is_meta_key=0&orderby=title#038;is_meta_key=0&orderby=title',\n",
       " 'https://carifilms.com/films/page/455?order=DESC&is_meta_key=0&orderby=title#038;is_meta_key=0&orderby=title',\n",
       " 'https://carifilms.com/films/page/456?order=DESC&is_meta_key=0&orderby=title#038;is_meta_key=0&orderby=title',\n",
       " 'https://carifilms.com/films/page/457?order=DESC&is_meta_key=0&orderby=title#038;is_meta_key=0&orderby=title',\n",
       " 'https://carifilms.com/films/page/458?order=DESC&is_meta_key=0&orderby=title#038;is_meta_key=0&orderby=title',\n",
       " 'https://carifilms.com/films/page/459?order=DESC&is_meta_key=0&orderby=title#038;is_meta_key=0&orderby=title',\n",
       " 'https://carifilms.com/films/page/460?order=DESC&is_meta_key=0&orderby=title#038;is_meta_key=0&orderby=title',\n",
       " 'https://carifilms.com/films/page/461?order=DESC&is_meta_key=0&orderby=title#038;is_meta_key=0&orderby=title',\n",
       " 'https://carifilms.com/films/page/462?order=DESC&is_meta_key=0&orderby=title#038;is_meta_key=0&orderby=title',\n",
       " 'https://carifilms.com/films/page/463?order=DESC&is_meta_key=0&orderby=title#038;is_meta_key=0&orderby=title',\n",
       " 'https://carifilms.com/films/page/464?order=DESC&is_meta_key=0&orderby=title#038;is_meta_key=0&orderby=title',\n",
       " 'https://carifilms.com/films/page/465?order=DESC&is_meta_key=0&orderby=title#038;is_meta_key=0&orderby=title',\n",
       " 'https://carifilms.com/films/page/466?order=DESC&is_meta_key=0&orderby=title#038;is_meta_key=0&orderby=title',\n",
       " 'https://carifilms.com/films/page/467?order=DESC&is_meta_key=0&orderby=title#038;is_meta_key=0&orderby=title',\n",
       " 'https://carifilms.com/films/page/468?order=DESC&is_meta_key=0&orderby=title#038;is_meta_key=0&orderby=title',\n",
       " 'https://carifilms.com/films/page/469?order=DESC&is_meta_key=0&orderby=title#038;is_meta_key=0&orderby=title',\n",
       " 'https://carifilms.com/films/page/470?order=DESC&is_meta_key=0&orderby=title#038;is_meta_key=0&orderby=title',\n",
       " 'https://carifilms.com/films/page/471?order=DESC&is_meta_key=0&orderby=title#038;is_meta_key=0&orderby=title',\n",
       " 'https://carifilms.com/films/page/472?order=DESC&is_meta_key=0&orderby=title#038;is_meta_key=0&orderby=title',\n",
       " 'https://carifilms.com/films/page/473?order=DESC&is_meta_key=0&orderby=title#038;is_meta_key=0&orderby=title',\n",
       " 'https://carifilms.com/films/page/474?order=DESC&is_meta_key=0&orderby=title#038;is_meta_key=0&orderby=title',\n",
       " 'https://carifilms.com/films/page/475?order=DESC&is_meta_key=0&orderby=title#038;is_meta_key=0&orderby=title',\n",
       " 'https://carifilms.com/films/page/476?order=DESC&is_meta_key=0&orderby=title#038;is_meta_key=0&orderby=title',\n",
       " 'https://carifilms.com/films/page/477?order=DESC&is_meta_key=0&orderby=title#038;is_meta_key=0&orderby=title',\n",
       " 'https://carifilms.com/films/page/478?order=DESC&is_meta_key=0&orderby=title#038;is_meta_key=0&orderby=title',\n",
       " 'https://carifilms.com/films/page/479?order=DESC&is_meta_key=0&orderby=title#038;is_meta_key=0&orderby=title',\n",
       " 'https://carifilms.com/films/page/480?order=DESC&is_meta_key=0&orderby=title#038;is_meta_key=0&orderby=title',\n",
       " 'https://carifilms.com/films/page/481?order=DESC&is_meta_key=0&orderby=title#038;is_meta_key=0&orderby=title',\n",
       " 'https://carifilms.com/films/page/482?order=DESC&is_meta_key=0&orderby=title#038;is_meta_key=0&orderby=title',\n",
       " 'https://carifilms.com/films/page/483?order=DESC&is_meta_key=0&orderby=title#038;is_meta_key=0&orderby=title',\n",
       " 'https://carifilms.com/films/page/484?order=DESC&is_meta_key=0&orderby=title#038;is_meta_key=0&orderby=title',\n",
       " 'https://carifilms.com/films/page/485?order=DESC&is_meta_key=0&orderby=title#038;is_meta_key=0&orderby=title',\n",
       " 'https://carifilms.com/films/page/486?order=DESC&is_meta_key=0&orderby=title#038;is_meta_key=0&orderby=title',\n",
       " 'https://carifilms.com/films/page/487?order=DESC&is_meta_key=0&orderby=title#038;is_meta_key=0&orderby=title',\n",
       " 'https://carifilms.com/films/page/488?order=DESC&is_meta_key=0&orderby=title#038;is_meta_key=0&orderby=title',\n",
       " 'https://carifilms.com/films/page/489?order=DESC&is_meta_key=0&orderby=title#038;is_meta_key=0&orderby=title',\n",
       " 'https://carifilms.com/films/page/490?order=DESC&is_meta_key=0&orderby=title#038;is_meta_key=0&orderby=title',\n",
       " 'https://carifilms.com/films/page/491?order=DESC&is_meta_key=0&orderby=title#038;is_meta_key=0&orderby=title',\n",
       " 'https://carifilms.com/films/page/492?order=DESC&is_meta_key=0&orderby=title#038;is_meta_key=0&orderby=title',\n",
       " 'https://carifilms.com/films/page/493?order=DESC&is_meta_key=0&orderby=title#038;is_meta_key=0&orderby=title',\n",
       " 'https://carifilms.com/films/page/494?order=DESC&is_meta_key=0&orderby=title#038;is_meta_key=0&orderby=title',\n",
       " 'https://carifilms.com/films/page/495?order=DESC&is_meta_key=0&orderby=title#038;is_meta_key=0&orderby=title',\n",
       " 'https://carifilms.com/films/page/496?order=DESC&is_meta_key=0&orderby=title#038;is_meta_key=0&orderby=title',\n",
       " 'https://carifilms.com/films/page/497?order=DESC&is_meta_key=0&orderby=title#038;is_meta_key=0&orderby=title',\n",
       " 'https://carifilms.com/films/page/498?order=DESC&is_meta_key=0&orderby=title#038;is_meta_key=0&orderby=title',\n",
       " 'https://carifilms.com/films/page/499?order=DESC&is_meta_key=0&orderby=title#038;is_meta_key=0&orderby=title',\n",
       " 'https://carifilms.com/films/page/500?order=DESC&is_meta_key=0&orderby=title#038;is_meta_key=0&orderby=title',\n",
       " 'https://carifilms.com/films/page/501?order=DESC&is_meta_key=0&orderby=title#038;is_meta_key=0&orderby=title',\n",
       " 'https://carifilms.com/films/page/502?order=DESC&is_meta_key=0&orderby=title#038;is_meta_key=0&orderby=title',\n",
       " 'https://carifilms.com/films/page/503?order=DESC&is_meta_key=0&orderby=title#038;is_meta_key=0&orderby=title',\n",
       " 'https://carifilms.com/films/page/504?order=DESC&is_meta_key=0&orderby=title#038;is_meta_key=0&orderby=title',\n",
       " 'https://carifilms.com/films/page/505?order=DESC&is_meta_key=0&orderby=title#038;is_meta_key=0&orderby=title',\n",
       " 'https://carifilms.com/films/page/506?order=DESC&is_meta_key=0&orderby=title#038;is_meta_key=0&orderby=title',\n",
       " 'https://carifilms.com/films/page/507?order=DESC&is_meta_key=0&orderby=title#038;is_meta_key=0&orderby=title',\n",
       " 'https://carifilms.com/films/page/508?order=DESC&is_meta_key=0&orderby=title#038;is_meta_key=0&orderby=title',\n",
       " 'https://carifilms.com/films/page/509?order=DESC&is_meta_key=0&orderby=title#038;is_meta_key=0&orderby=title',\n",
       " 'https://carifilms.com/films/page/510?order=DESC&is_meta_key=0&orderby=title#038;is_meta_key=0&orderby=title',\n",
       " 'https://carifilms.com/films/page/511?order=DESC&is_meta_key=0&orderby=title#038;is_meta_key=0&orderby=title',\n",
       " 'https://carifilms.com/films/page/512?order=DESC&is_meta_key=0&orderby=title#038;is_meta_key=0&orderby=title',\n",
       " 'https://carifilms.com/films/page/513?order=DESC&is_meta_key=0&orderby=title#038;is_meta_key=0&orderby=title',\n",
       " 'https://carifilms.com/films/page/514?order=DESC&is_meta_key=0&orderby=title#038;is_meta_key=0&orderby=title',\n",
       " 'https://carifilms.com/films/page/515?order=DESC&is_meta_key=0&orderby=title#038;is_meta_key=0&orderby=title',\n",
       " 'https://carifilms.com/films/page/516?order=DESC&is_meta_key=0&orderby=title#038;is_meta_key=0&orderby=title',\n",
       " 'https://carifilms.com/films/page/517?order=DESC&is_meta_key=0&orderby=title#038;is_meta_key=0&orderby=title',\n",
       " 'https://carifilms.com/films/page/518?order=DESC&is_meta_key=0&orderby=title#038;is_meta_key=0&orderby=title',\n",
       " 'https://carifilms.com/films/page/519?order=DESC&is_meta_key=0&orderby=title#038;is_meta_key=0&orderby=title',\n",
       " 'https://carifilms.com/films/page/520?order=DESC&is_meta_key=0&orderby=title#038;is_meta_key=0&orderby=title',\n",
       " 'https://carifilms.com/films/page/521?order=DESC&is_meta_key=0&orderby=title#038;is_meta_key=0&orderby=title',\n",
       " 'https://carifilms.com/films/page/522?order=DESC&is_meta_key=0&orderby=title#038;is_meta_key=0&orderby=title',\n",
       " 'https://carifilms.com/films/page/523?order=DESC&is_meta_key=0&orderby=title#038;is_meta_key=0&orderby=title',\n",
       " 'https://carifilms.com/films/page/524?order=DESC&is_meta_key=0&orderby=title#038;is_meta_key=0&orderby=title',\n",
       " 'https://carifilms.com/films/page/525?order=DESC&is_meta_key=0&orderby=title#038;is_meta_key=0&orderby=title',\n",
       " 'https://carifilms.com/films/page/526?order=DESC&is_meta_key=0&orderby=title#038;is_meta_key=0&orderby=title',\n",
       " 'https://carifilms.com/films/page/527?order=DESC&is_meta_key=0&orderby=title#038;is_meta_key=0&orderby=title',\n",
       " 'https://carifilms.com/films/page/528?order=DESC&is_meta_key=0&orderby=title#038;is_meta_key=0&orderby=title',\n",
       " 'https://carifilms.com/films/page/529?order=DESC&is_meta_key=0&orderby=title#038;is_meta_key=0&orderby=title',\n",
       " 'https://carifilms.com/films/page/530?order=DESC&is_meta_key=0&orderby=title#038;is_meta_key=0&orderby=title',\n",
       " 'https://carifilms.com/films/page/531?order=DESC&is_meta_key=0&orderby=title#038;is_meta_key=0&orderby=title',\n",
       " 'https://carifilms.com/films/page/532?order=DESC&is_meta_key=0&orderby=title#038;is_meta_key=0&orderby=title',\n",
       " 'https://carifilms.com/films/page/533?order=DESC&is_meta_key=0&orderby=title#038;is_meta_key=0&orderby=title',\n",
       " 'https://carifilms.com/films/page/534?order=DESC&is_meta_key=0&orderby=title#038;is_meta_key=0&orderby=title',\n",
       " 'https://carifilms.com/films/page/535?order=DESC&is_meta_key=0&orderby=title#038;is_meta_key=0&orderby=title',\n",
       " 'https://carifilms.com/films/page/536?order=DESC&is_meta_key=0&orderby=title#038;is_meta_key=0&orderby=title',\n",
       " 'https://carifilms.com/films/page/537?order=DESC&is_meta_key=0&orderby=title#038;is_meta_key=0&orderby=title',\n",
       " 'https://carifilms.com/films/page/538?order=DESC&is_meta_key=0&orderby=title#038;is_meta_key=0&orderby=title',\n",
       " 'https://carifilms.com/films/page/539?order=DESC&is_meta_key=0&orderby=title#038;is_meta_key=0&orderby=title',\n",
       " 'https://carifilms.com/films/page/540?order=DESC&is_meta_key=0&orderby=title#038;is_meta_key=0&orderby=title',\n",
       " 'https://carifilms.com/films/page/541?order=DESC&is_meta_key=0&orderby=title#038;is_meta_key=0&orderby=title',\n",
       " 'https://carifilms.com/films/page/542?order=DESC&is_meta_key=0&orderby=title#038;is_meta_key=0&orderby=title',\n",
       " 'https://carifilms.com/films/page/543?order=DESC&is_meta_key=0&orderby=title#038;is_meta_key=0&orderby=title',\n",
       " 'https://carifilms.com/films/page/544?order=DESC&is_meta_key=0&orderby=title#038;is_meta_key=0&orderby=title',\n",
       " 'https://carifilms.com/films/page/545?order=DESC&is_meta_key=0&orderby=title#038;is_meta_key=0&orderby=title',\n",
       " 'https://carifilms.com/films/page/546?order=DESC&is_meta_key=0&orderby=title#038;is_meta_key=0&orderby=title',\n",
       " 'https://carifilms.com/films/page/547?order=DESC&is_meta_key=0&orderby=title#038;is_meta_key=0&orderby=title',\n",
       " 'https://carifilms.com/films/page/548?order=DESC&is_meta_key=0&orderby=title#038;is_meta_key=0&orderby=title',\n",
       " 'https://carifilms.com/films/page/549?order=DESC&is_meta_key=0&orderby=title#038;is_meta_key=0&orderby=title',\n",
       " 'https://carifilms.com/films/page/550?order=DESC&is_meta_key=0&orderby=title#038;is_meta_key=0&orderby=title',\n",
       " 'https://carifilms.com/films/page/551?order=DESC&is_meta_key=0&orderby=title#038;is_meta_key=0&orderby=title',\n",
       " 'https://carifilms.com/films/page/552?order=DESC&is_meta_key=0&orderby=title#038;is_meta_key=0&orderby=title',\n",
       " 'https://carifilms.com/films/page/553?order=DESC&is_meta_key=0&orderby=title#038;is_meta_key=0&orderby=title',\n",
       " 'https://carifilms.com/films/page/554?order=DESC&is_meta_key=0&orderby=title#038;is_meta_key=0&orderby=title',\n",
       " 'https://carifilms.com/films/page/555?order=DESC&is_meta_key=0&orderby=title#038;is_meta_key=0&orderby=title',\n",
       " 'https://carifilms.com/films/page/556?order=DESC&is_meta_key=0&orderby=title#038;is_meta_key=0&orderby=title',\n",
       " 'https://carifilms.com/films/page/557?order=DESC&is_meta_key=0&orderby=title#038;is_meta_key=0&orderby=title',\n",
       " 'https://carifilms.com/films/page/558?order=DESC&is_meta_key=0&orderby=title#038;is_meta_key=0&orderby=title',\n",
       " 'https://carifilms.com/films/page/559?order=DESC&is_meta_key=0&orderby=title#038;is_meta_key=0&orderby=title',\n",
       " 'https://carifilms.com/films/page/560?order=DESC&is_meta_key=0&orderby=title#038;is_meta_key=0&orderby=title',\n",
       " 'https://carifilms.com/films/page/561?order=DESC&is_meta_key=0&orderby=title#038;is_meta_key=0&orderby=title',\n",
       " 'https://carifilms.com/films/page/562?order=DESC&is_meta_key=0&orderby=title#038;is_meta_key=0&orderby=title',\n",
       " 'https://carifilms.com/films/page/563?order=DESC&is_meta_key=0&orderby=title#038;is_meta_key=0&orderby=title',\n",
       " 'https://carifilms.com/films/page/564?order=DESC&is_meta_key=0&orderby=title#038;is_meta_key=0&orderby=title',\n",
       " 'https://carifilms.com/films/page/565?order=DESC&is_meta_key=0&orderby=title#038;is_meta_key=0&orderby=title',\n",
       " 'https://carifilms.com/films/page/566?order=DESC&is_meta_key=0&orderby=title#038;is_meta_key=0&orderby=title',\n",
       " 'https://carifilms.com/films/page/567?order=DESC&is_meta_key=0&orderby=title#038;is_meta_key=0&orderby=title',\n",
       " 'https://carifilms.com/films/page/568?order=DESC&is_meta_key=0&orderby=title#038;is_meta_key=0&orderby=title',\n",
       " 'https://carifilms.com/films/page/569?order=DESC&is_meta_key=0&orderby=title#038;is_meta_key=0&orderby=title',\n",
       " 'https://carifilms.com/films/page/570?order=DESC&is_meta_key=0&orderby=title#038;is_meta_key=0&orderby=title',\n",
       " 'https://carifilms.com/films/page/571?order=DESC&is_meta_key=0&orderby=title#038;is_meta_key=0&orderby=title',\n",
       " 'https://carifilms.com/films/page/572?order=DESC&is_meta_key=0&orderby=title#038;is_meta_key=0&orderby=title',\n",
       " 'https://carifilms.com/films/page/573?order=DESC&is_meta_key=0&orderby=title#038;is_meta_key=0&orderby=title',\n",
       " 'https://carifilms.com/films/page/574?order=DESC&is_meta_key=0&orderby=title#038;is_meta_key=0&orderby=title',\n",
       " 'https://carifilms.com/films/page/575?order=DESC&is_meta_key=0&orderby=title#038;is_meta_key=0&orderby=title',\n",
       " 'https://carifilms.com/films/page/576?order=DESC&is_meta_key=0&orderby=title#038;is_meta_key=0&orderby=title',\n",
       " 'https://carifilms.com/films/page/577?order=DESC&is_meta_key=0&orderby=title#038;is_meta_key=0&orderby=title',\n",
       " 'https://carifilms.com/films/page/578?order=DESC&is_meta_key=0&orderby=title#038;is_meta_key=0&orderby=title',\n",
       " 'https://carifilms.com/films/page/579?order=DESC&is_meta_key=0&orderby=title#038;is_meta_key=0&orderby=title',\n",
       " 'https://carifilms.com/films/page/580?order=DESC&is_meta_key=0&orderby=title#038;is_meta_key=0&orderby=title',\n",
       " 'https://carifilms.com/films/page/581?order=DESC&is_meta_key=0&orderby=title#038;is_meta_key=0&orderby=title',\n",
       " 'https://carifilms.com/films/page/582?order=DESC&is_meta_key=0&orderby=title#038;is_meta_key=0&orderby=title',\n",
       " 'https://carifilms.com/films/page/583?order=DESC&is_meta_key=0&orderby=title#038;is_meta_key=0&orderby=title',\n",
       " 'https://carifilms.com/films/page/584?order=DESC&is_meta_key=0&orderby=title#038;is_meta_key=0&orderby=title',\n",
       " 'https://carifilms.com/films/page/585?order=DESC&is_meta_key=0&orderby=title#038;is_meta_key=0&orderby=title',\n",
       " 'https://carifilms.com/films/page/586?order=DESC&is_meta_key=0&orderby=title#038;is_meta_key=0&orderby=title',\n",
       " 'https://carifilms.com/films/page/587?order=DESC&is_meta_key=0&orderby=title#038;is_meta_key=0&orderby=title',\n",
       " 'https://carifilms.com/films/page/588?order=DESC&is_meta_key=0&orderby=title#038;is_meta_key=0&orderby=title',\n",
       " 'https://carifilms.com/films/page/589?order=DESC&is_meta_key=0&orderby=title#038;is_meta_key=0&orderby=title',\n",
       " 'https://carifilms.com/films/page/590?order=DESC&is_meta_key=0&orderby=title#038;is_meta_key=0&orderby=title',\n",
       " 'https://carifilms.com/films/page/591?order=DESC&is_meta_key=0&orderby=title#038;is_meta_key=0&orderby=title',\n",
       " 'https://carifilms.com/films/page/592?order=DESC&is_meta_key=0&orderby=title#038;is_meta_key=0&orderby=title',\n",
       " 'https://carifilms.com/films/page/593?order=DESC&is_meta_key=0&orderby=title#038;is_meta_key=0&orderby=title',\n",
       " 'https://carifilms.com/films/page/594?order=DESC&is_meta_key=0&orderby=title#038;is_meta_key=0&orderby=title',\n",
       " 'https://carifilms.com/films/page/595?order=DESC&is_meta_key=0&orderby=title#038;is_meta_key=0&orderby=title',\n",
       " 'https://carifilms.com/films/page/596?order=DESC&is_meta_key=0&orderby=title#038;is_meta_key=0&orderby=title',\n",
       " 'https://carifilms.com/films/page/597?order=DESC&is_meta_key=0&orderby=title#038;is_meta_key=0&orderby=title',\n",
       " 'https://carifilms.com/films/page/598?order=DESC&is_meta_key=0&orderby=title#038;is_meta_key=0&orderby=title',\n",
       " 'https://carifilms.com/films/page/599?order=DESC&is_meta_key=0&orderby=title#038;is_meta_key=0&orderby=title',\n",
       " 'https://carifilms.com/films/page/600?order=DESC&is_meta_key=0&orderby=title#038;is_meta_key=0&orderby=title',\n",
       " 'https://carifilms.com/films/page/601?order=DESC&is_meta_key=0&orderby=title#038;is_meta_key=0&orderby=title',\n",
       " 'https://carifilms.com/films/page/602?order=DESC&is_meta_key=0&orderby=title#038;is_meta_key=0&orderby=title',\n",
       " 'https://carifilms.com/films/page/603?order=DESC&is_meta_key=0&orderby=title#038;is_meta_key=0&orderby=title',\n",
       " 'https://carifilms.com/films/page/604?order=DESC&is_meta_key=0&orderby=title#038;is_meta_key=0&orderby=title',\n",
       " 'https://carifilms.com/films/page/605?order=DESC&is_meta_key=0&orderby=title#038;is_meta_key=0&orderby=title',\n",
       " 'https://carifilms.com/films/page/606?order=DESC&is_meta_key=0&orderby=title#038;is_meta_key=0&orderby=title',\n",
       " 'https://carifilms.com/films/page/607?order=DESC&is_meta_key=0&orderby=title#038;is_meta_key=0&orderby=title',\n",
       " 'https://carifilms.com/films/page/608?order=DESC&is_meta_key=0&orderby=title#038;is_meta_key=0&orderby=title',\n",
       " 'https://carifilms.com/films/page/609?order=DESC&is_meta_key=0&orderby=title#038;is_meta_key=0&orderby=title',\n",
       " 'https://carifilms.com/films/page/610?order=DESC&is_meta_key=0&orderby=title#038;is_meta_key=0&orderby=title',\n",
       " 'https://carifilms.com/films/page/611?order=DESC&is_meta_key=0&orderby=title#038;is_meta_key=0&orderby=title',\n",
       " 'https://carifilms.com/films/page/612?order=DESC&is_meta_key=0&orderby=title#038;is_meta_key=0&orderby=title',\n",
       " 'https://carifilms.com/films/page/613?order=DESC&is_meta_key=0&orderby=title#038;is_meta_key=0&orderby=title',\n",
       " 'https://carifilms.com/films/page/614?order=DESC&is_meta_key=0&orderby=title#038;is_meta_key=0&orderby=title',\n",
       " 'https://carifilms.com/films/page/615?order=DESC&is_meta_key=0&orderby=title#038;is_meta_key=0&orderby=title',\n",
       " 'https://carifilms.com/films/page/616?order=DESC&is_meta_key=0&orderby=title#038;is_meta_key=0&orderby=title',\n",
       " 'https://carifilms.com/films/page/617?order=DESC&is_meta_key=0&orderby=title#038;is_meta_key=0&orderby=title',\n",
       " 'https://carifilms.com/films/page/618?order=DESC&is_meta_key=0&orderby=title#038;is_meta_key=0&orderby=title',\n",
       " 'https://carifilms.com/films/page/619?order=DESC&is_meta_key=0&orderby=title#038;is_meta_key=0&orderby=title',\n",
       " 'https://carifilms.com/films/page/620?order=DESC&is_meta_key=0&orderby=title#038;is_meta_key=0&orderby=title',\n",
       " 'https://carifilms.com/films/page/621?order=DESC&is_meta_key=0&orderby=title#038;is_meta_key=0&orderby=title',\n",
       " 'https://carifilms.com/films/page/622?order=DESC&is_meta_key=0&orderby=title#038;is_meta_key=0&orderby=title',\n",
       " 'https://carifilms.com/films/page/623?order=DESC&is_meta_key=0&orderby=title#038;is_meta_key=0&orderby=title',\n",
       " 'https://carifilms.com/films/page/624?order=DESC&is_meta_key=0&orderby=title#038;is_meta_key=0&orderby=title',\n",
       " 'https://carifilms.com/films/page/625?order=DESC&is_meta_key=0&orderby=title#038;is_meta_key=0&orderby=title',\n",
       " 'https://carifilms.com/films/page/626?order=DESC&is_meta_key=0&orderby=title#038;is_meta_key=0&orderby=title',\n",
       " 'https://carifilms.com/films/page/627?order=DESC&is_meta_key=0&orderby=title#038;is_meta_key=0&orderby=title',\n",
       " 'https://carifilms.com/films/page/628?order=DESC&is_meta_key=0&orderby=title#038;is_meta_key=0&orderby=title',\n",
       " 'https://carifilms.com/films/page/629?order=DESC&is_meta_key=0&orderby=title#038;is_meta_key=0&orderby=title',\n",
       " 'https://carifilms.com/films/page/630?order=DESC&is_meta_key=0&orderby=title#038;is_meta_key=0&orderby=title',\n",
       " 'https://carifilms.com/films/page/631?order=DESC&is_meta_key=0&orderby=title#038;is_meta_key=0&orderby=title',\n",
       " 'https://carifilms.com/films/page/632?order=DESC&is_meta_key=0&orderby=title#038;is_meta_key=0&orderby=title',\n",
       " 'https://carifilms.com/films/page/633?order=DESC&is_meta_key=0&orderby=title#038;is_meta_key=0&orderby=title',\n",
       " 'https://carifilms.com/films/page/634?order=DESC&is_meta_key=0&orderby=title#038;is_meta_key=0&orderby=title',\n",
       " 'https://carifilms.com/films/page/635?order=DESC&is_meta_key=0&orderby=title#038;is_meta_key=0&orderby=title',\n",
       " 'https://carifilms.com/films/page/636?order=DESC&is_meta_key=0&orderby=title#038;is_meta_key=0&orderby=title',\n",
       " 'https://carifilms.com/films/page/637?order=DESC&is_meta_key=0&orderby=title#038;is_meta_key=0&orderby=title',\n",
       " 'https://carifilms.com/films/page/638?order=DESC&is_meta_key=0&orderby=title#038;is_meta_key=0&orderby=title',\n",
       " 'https://carifilms.com/films/page/639?order=DESC&is_meta_key=0&orderby=title#038;is_meta_key=0&orderby=title',\n",
       " 'https://carifilms.com/films/page/640?order=DESC&is_meta_key=0&orderby=title#038;is_meta_key=0&orderby=title',\n",
       " 'https://carifilms.com/films/page/641?order=DESC&is_meta_key=0&orderby=title#038;is_meta_key=0&orderby=title',\n",
       " 'https://carifilms.com/films/page/642?order=DESC&is_meta_key=0&orderby=title#038;is_meta_key=0&orderby=title',\n",
       " 'https://carifilms.com/films/page/643?order=DESC&is_meta_key=0&orderby=title#038;is_meta_key=0&orderby=title',\n",
       " 'https://carifilms.com/films/page/644?order=DESC&is_meta_key=0&orderby=title#038;is_meta_key=0&orderby=title',\n",
       " 'https://carifilms.com/films/page/645?order=DESC&is_meta_key=0&orderby=title#038;is_meta_key=0&orderby=title',\n",
       " 'https://carifilms.com/films/page/646?order=DESC&is_meta_key=0&orderby=title#038;is_meta_key=0&orderby=title',\n",
       " 'https://carifilms.com/films/page/647?order=DESC&is_meta_key=0&orderby=title#038;is_meta_key=0&orderby=title',\n",
       " 'https://carifilms.com/films/page/648?order=DESC&is_meta_key=0&orderby=title#038;is_meta_key=0&orderby=title',\n",
       " 'https://carifilms.com/films/page/649?order=DESC&is_meta_key=0&orderby=title#038;is_meta_key=0&orderby=title',\n",
       " 'https://carifilms.com/films/page/650?order=DESC&is_meta_key=0&orderby=title#038;is_meta_key=0&orderby=title',\n",
       " 'https://carifilms.com/films/page/651?order=DESC&is_meta_key=0&orderby=title#038;is_meta_key=0&orderby=title',\n",
       " 'https://carifilms.com/films/page/652?order=DESC&is_meta_key=0&orderby=title#038;is_meta_key=0&orderby=title',\n",
       " 'https://carifilms.com/films/page/653?order=DESC&is_meta_key=0&orderby=title#038;is_meta_key=0&orderby=title',\n",
       " 'https://carifilms.com/films/page/654?order=DESC&is_meta_key=0&orderby=title#038;is_meta_key=0&orderby=title',\n",
       " 'https://carifilms.com/films/page/655?order=DESC&is_meta_key=0&orderby=title#038;is_meta_key=0&orderby=title',\n",
       " 'https://carifilms.com/films/page/656?order=DESC&is_meta_key=0&orderby=title#038;is_meta_key=0&orderby=title',\n",
       " 'https://carifilms.com/films/page/657?order=DESC&is_meta_key=0&orderby=title#038;is_meta_key=0&orderby=title',\n",
       " 'https://carifilms.com/films/page/658?order=DESC&is_meta_key=0&orderby=title#038;is_meta_key=0&orderby=title',\n",
       " 'https://carifilms.com/films/page/659?order=DESC&is_meta_key=0&orderby=title#038;is_meta_key=0&orderby=title',\n",
       " 'https://carifilms.com/films/page/660?order=DESC&is_meta_key=0&orderby=title#038;is_meta_key=0&orderby=title',\n",
       " 'https://carifilms.com/films/page/661?order=DESC&is_meta_key=0&orderby=title#038;is_meta_key=0&orderby=title',\n",
       " 'https://carifilms.com/films/page/662?order=DESC&is_meta_key=0&orderby=title#038;is_meta_key=0&orderby=title',\n",
       " 'https://carifilms.com/films/page/663?order=DESC&is_meta_key=0&orderby=title#038;is_meta_key=0&orderby=title',\n",
       " 'https://carifilms.com/films/page/664?order=DESC&is_meta_key=0&orderby=title#038;is_meta_key=0&orderby=title',\n",
       " 'https://carifilms.com/films/page/665?order=DESC&is_meta_key=0&orderby=title#038;is_meta_key=0&orderby=title',\n",
       " 'https://carifilms.com/films/page/666?order=DESC&is_meta_key=0&orderby=title#038;is_meta_key=0&orderby=title',\n",
       " 'https://carifilms.com/films/page/667?order=DESC&is_meta_key=0&orderby=title#038;is_meta_key=0&orderby=title',\n",
       " 'https://carifilms.com/films/page/668?order=DESC&is_meta_key=0&orderby=title#038;is_meta_key=0&orderby=title',\n",
       " 'https://carifilms.com/films/page/669?order=DESC&is_meta_key=0&orderby=title#038;is_meta_key=0&orderby=title',\n",
       " 'https://carifilms.com/films/page/670?order=DESC&is_meta_key=0&orderby=title#038;is_meta_key=0&orderby=title',\n",
       " 'https://carifilms.com/films/page/671?order=DESC&is_meta_key=0&orderby=title#038;is_meta_key=0&orderby=title',\n",
       " 'https://carifilms.com/films/page/672?order=DESC&is_meta_key=0&orderby=title#038;is_meta_key=0&orderby=title',\n",
       " 'https://carifilms.com/films/page/673?order=DESC&is_meta_key=0&orderby=title#038;is_meta_key=0&orderby=title',\n",
       " 'https://carifilms.com/films/page/674?order=DESC&is_meta_key=0&orderby=title#038;is_meta_key=0&orderby=title',\n",
       " 'https://carifilms.com/films/page/675?order=DESC&is_meta_key=0&orderby=title#038;is_meta_key=0&orderby=title',\n",
       " 'https://carifilms.com/films/page/676?order=DESC&is_meta_key=0&orderby=title#038;is_meta_key=0&orderby=title',\n",
       " 'https://carifilms.com/films/page/677?order=DESC&is_meta_key=0&orderby=title#038;is_meta_key=0&orderby=title',\n",
       " 'https://carifilms.com/films/page/678?order=DESC&is_meta_key=0&orderby=title#038;is_meta_key=0&orderby=title',\n",
       " 'https://carifilms.com/films/page/679?order=DESC&is_meta_key=0&orderby=title#038;is_meta_key=0&orderby=title',\n",
       " 'https://carifilms.com/films/page/680?order=DESC&is_meta_key=0&orderby=title#038;is_meta_key=0&orderby=title',\n",
       " 'https://carifilms.com/films/page/681?order=DESC&is_meta_key=0&orderby=title#038;is_meta_key=0&orderby=title',\n",
       " 'https://carifilms.com/films/page/682?order=DESC&is_meta_key=0&orderby=title#038;is_meta_key=0&orderby=title',\n",
       " 'https://carifilms.com/films/page/683?order=DESC&is_meta_key=0&orderby=title#038;is_meta_key=0&orderby=title',\n",
       " 'https://carifilms.com/films/page/684?order=DESC&is_meta_key=0&orderby=title#038;is_meta_key=0&orderby=title',\n",
       " 'https://carifilms.com/films/page/685?order=DESC&is_meta_key=0&orderby=title#038;is_meta_key=0&orderby=title',\n",
       " 'https://carifilms.com/films/page/686?order=DESC&is_meta_key=0&orderby=title#038;is_meta_key=0&orderby=title',\n",
       " 'https://carifilms.com/films/page/687?order=DESC&is_meta_key=0&orderby=title#038;is_meta_key=0&orderby=title',\n",
       " 'https://carifilms.com/films/page/688?order=DESC&is_meta_key=0&orderby=title#038;is_meta_key=0&orderby=title',\n",
       " 'https://carifilms.com/films/page/689?order=DESC&is_meta_key=0&orderby=title#038;is_meta_key=0&orderby=title',\n",
       " 'https://carifilms.com/films/page/690?order=DESC&is_meta_key=0&orderby=title#038;is_meta_key=0&orderby=title',\n",
       " 'https://carifilms.com/films/page/691?order=DESC&is_meta_key=0&orderby=title#038;is_meta_key=0&orderby=title',\n",
       " 'https://carifilms.com/films/page/692?order=DESC&is_meta_key=0&orderby=title#038;is_meta_key=0&orderby=title',\n",
       " 'https://carifilms.com/films/page/693?order=DESC&is_meta_key=0&orderby=title#038;is_meta_key=0&orderby=title',\n",
       " 'https://carifilms.com/films/page/694?order=DESC&is_meta_key=0&orderby=title#038;is_meta_key=0&orderby=title',\n",
       " 'https://carifilms.com/films/page/695?order=DESC&is_meta_key=0&orderby=title#038;is_meta_key=0&orderby=title',\n",
       " 'https://carifilms.com/films/page/696?order=DESC&is_meta_key=0&orderby=title#038;is_meta_key=0&orderby=title',\n",
       " 'https://carifilms.com/films/page/697?order=DESC&is_meta_key=0&orderby=title#038;is_meta_key=0&orderby=title',\n",
       " 'https://carifilms.com/films/page/698?order=DESC&is_meta_key=0&orderby=title#038;is_meta_key=0&orderby=title',\n",
       " 'https://carifilms.com/films/page/699?order=DESC&is_meta_key=0&orderby=title#038;is_meta_key=0&orderby=title',\n",
       " 'https://carifilms.com/films/page/700?order=DESC&is_meta_key=0&orderby=title#038;is_meta_key=0&orderby=title',\n",
       " 'https://carifilms.com/films/page/701?order=DESC&is_meta_key=0&orderby=title#038;is_meta_key=0&orderby=title',\n",
       " 'https://carifilms.com/films/page/702?order=DESC&is_meta_key=0&orderby=title#038;is_meta_key=0&orderby=title',\n",
       " 'https://carifilms.com/films/page/703?order=DESC&is_meta_key=0&orderby=title#038;is_meta_key=0&orderby=title',\n",
       " 'https://carifilms.com/films/page/704?order=DESC&is_meta_key=0&orderby=title#038;is_meta_key=0&orderby=title',\n",
       " 'https://carifilms.com/films/page/705?order=DESC&is_meta_key=0&orderby=title#038;is_meta_key=0&orderby=title',\n",
       " 'https://carifilms.com/films/page/706?order=DESC&is_meta_key=0&orderby=title#038;is_meta_key=0&orderby=title',\n",
       " 'https://carifilms.com/films/page/707?order=DESC&is_meta_key=0&orderby=title#038;is_meta_key=0&orderby=title',\n",
       " 'https://carifilms.com/films/page/708?order=DESC&is_meta_key=0&orderby=title#038;is_meta_key=0&orderby=title',\n",
       " 'https://carifilms.com/films/page/709?order=DESC&is_meta_key=0&orderby=title#038;is_meta_key=0&orderby=title',\n",
       " 'https://carifilms.com/films/page/710?order=DESC&is_meta_key=0&orderby=title#038;is_meta_key=0&orderby=title',\n",
       " 'https://carifilms.com/films/page/711?order=DESC&is_meta_key=0&orderby=title#038;is_meta_key=0&orderby=title',\n",
       " 'https://carifilms.com/films/page/712?order=DESC&is_meta_key=0&orderby=title#038;is_meta_key=0&orderby=title',\n",
       " 'https://carifilms.com/films/page/713?order=DESC&is_meta_key=0&orderby=title#038;is_meta_key=0&orderby=title',\n",
       " 'https://carifilms.com/films/page/714?order=DESC&is_meta_key=0&orderby=title#038;is_meta_key=0&orderby=title',\n",
       " 'https://carifilms.com/films/page/715?order=DESC&is_meta_key=0&orderby=title#038;is_meta_key=0&orderby=title',\n",
       " 'https://carifilms.com/films/page/716?order=DESC&is_meta_key=0&orderby=title#038;is_meta_key=0&orderby=title',\n",
       " 'https://carifilms.com/films/page/717?order=DESC&is_meta_key=0&orderby=title#038;is_meta_key=0&orderby=title',\n",
       " 'https://carifilms.com/films/page/718?order=DESC&is_meta_key=0&orderby=title#038;is_meta_key=0&orderby=title',\n",
       " 'https://carifilms.com/films/page/719?order=DESC&is_meta_key=0&orderby=title#038;is_meta_key=0&orderby=title',\n",
       " 'https://carifilms.com/films/page/720?order=DESC&is_meta_key=0&orderby=title#038;is_meta_key=0&orderby=title',\n",
       " 'https://carifilms.com/films/page/721?order=DESC&is_meta_key=0&orderby=title#038;is_meta_key=0&orderby=title',\n",
       " 'https://carifilms.com/films/page/722?order=DESC&is_meta_key=0&orderby=title#038;is_meta_key=0&orderby=title',\n",
       " 'https://carifilms.com/films/page/723?order=DESC&is_meta_key=0&orderby=title#038;is_meta_key=0&orderby=title',\n",
       " 'https://carifilms.com/films/page/724?order=DESC&is_meta_key=0&orderby=title#038;is_meta_key=0&orderby=title',\n",
       " 'https://carifilms.com/films/page/725?order=DESC&is_meta_key=0&orderby=title#038;is_meta_key=0&orderby=title',\n",
       " 'https://carifilms.com/films/page/726?order=DESC&is_meta_key=0&orderby=title#038;is_meta_key=0&orderby=title',\n",
       " 'https://carifilms.com/films/page/727?order=DESC&is_meta_key=0&orderby=title#038;is_meta_key=0&orderby=title',\n",
       " 'https://carifilms.com/films/page/728?order=DESC&is_meta_key=0&orderby=title#038;is_meta_key=0&orderby=title',\n",
       " 'https://carifilms.com/films/page/729?order=DESC&is_meta_key=0&orderby=title#038;is_meta_key=0&orderby=title',\n",
       " 'https://carifilms.com/films/page/730?order=DESC&is_meta_key=0&orderby=title#038;is_meta_key=0&orderby=title',\n",
       " 'https://carifilms.com/films/page/731?order=DESC&is_meta_key=0&orderby=title#038;is_meta_key=0&orderby=title',\n",
       " 'https://carifilms.com/films/page/732?order=DESC&is_meta_key=0&orderby=title#038;is_meta_key=0&orderby=title',\n",
       " 'https://carifilms.com/films/page/733?order=DESC&is_meta_key=0&orderby=title#038;is_meta_key=0&orderby=title',\n",
       " 'https://carifilms.com/films/page/734?order=DESC&is_meta_key=0&orderby=title#038;is_meta_key=0&orderby=title',\n",
       " 'https://carifilms.com/films/page/735?order=DESC&is_meta_key=0&orderby=title#038;is_meta_key=0&orderby=title',\n",
       " 'https://carifilms.com/films/page/736?order=DESC&is_meta_key=0&orderby=title#038;is_meta_key=0&orderby=title',\n",
       " 'https://carifilms.com/films/page/737?order=DESC&is_meta_key=0&orderby=title#038;is_meta_key=0&orderby=title',\n",
       " 'https://carifilms.com/films/page/738?order=DESC&is_meta_key=0&orderby=title#038;is_meta_key=0&orderby=title',\n",
       " 'https://carifilms.com/films/page/739?order=DESC&is_meta_key=0&orderby=title#038;is_meta_key=0&orderby=title',\n",
       " 'https://carifilms.com/films/page/740?order=DESC&is_meta_key=0&orderby=title#038;is_meta_key=0&orderby=title']"
      ]
     },
     "execution_count": 3,
     "metadata": {},
     "output_type": "execute_result"
    }
   ],
   "source": [
    "url_list"
   ]
  },
  {
   "cell_type": "code",
   "execution_count": null,
   "metadata": {},
   "outputs": [],
   "source": []
  }
 ],
 "metadata": {
  "kernelspec": {
   "display_name": "Python 3",
   "language": "python",
   "name": "python3"
  },
  "language_info": {
   "codemirror_mode": {
    "name": "ipython",
    "version": 3
   },
   "file_extension": ".py",
   "mimetype": "text/x-python",
   "name": "python",
   "nbconvert_exporter": "python",
   "pygments_lexer": "ipython3",
   "version": "3.7.6"
  }
 },
 "nbformat": 4,
 "nbformat_minor": 4
}
