{
 "cells": [
  {
   "cell_type": "code",
   "execution_count": 1,
   "metadata": {},
   "outputs": [],
   "source": [
    "import pandas as pd"
   ]
  },
  {
   "cell_type": "code",
   "execution_count": 2,
   "metadata": {},
   "outputs": [],
   "source": [
    "url = pd.read_csv('URL.csv')"
   ]
  },
  {
   "cell_type": "code",
   "execution_count": 3,
   "metadata": {},
   "outputs": [],
   "source": [
    "url = url['url'].tolist()"
   ]
  },
  {
   "cell_type": "code",
   "execution_count": 4,
   "metadata": {},
   "outputs": [
    {
     "data": {
      "text/plain": [
       "list"
      ]
     },
     "execution_count": 4,
     "metadata": {},
     "output_type": "execute_result"
    }
   ],
   "source": [
    "type(url)"
   ]
  },
  {
   "cell_type": "code",
   "execution_count": 5,
   "metadata": {},
   "outputs": [],
   "source": [
    "import scrapy\n",
    "from scrapy.crawler import CrawlerProcess\n",
    "\n",
    "class DC_Description_Spider(scrapy.Spider):\n",
    "    name = \"dc_chapter_spider\"\n",
    "    \n",
    "    def start_requests(self):\n",
    "        url_page = url\n",
    "        for url_l in url_page:    \n",
    "            yield scrapy.Request(url = url_l, callback = self.parse_awalpage)\n",
    "            \n",
    "    def parse_awalpage(self, response):\n",
    "        block_film_page = response.css('div.container-fluid ')\n",
    "        film_link = block_film_page.xpath('.//a[@class=\"section__film-info__entitle\"]/@href')\n",
    "        links_to_follow = film_link.extract()\n",
    "        for url in links_to_follow:\n",
    "            url_film.append(url)\n",
    "            print(\"Banyak url film\", len(url_film))"
   ]
  },
  {
   "cell_type": "code",
   "execution_count": 6,
   "metadata": {},
   "outputs": [
    {
     "name": "stderr",
     "output_type": "stream",
     "text": [
      "2020-12-04 12:33:38 [scrapy.utils.log] INFO: Scrapy 2.4.1 started (bot: scrapybot)\n",
      "2020-12-04 12:33:38 [scrapy.utils.log] INFO: Versions: lxml 4.5.0.0, libxml2 2.9.9, cssselect 1.1.0, parsel 1.5.2, w3lib 1.21.0, Twisted 20.3.0, Python 3.7.6 (default, Jan  8 2020, 20:23:39) [MSC v.1916 64 bit (AMD64)], pyOpenSSL 19.1.0 (OpenSSL 1.1.1d  10 Sep 2019), cryptography 2.8, Platform Windows-10-10.0.18362-SP0\n",
      "2020-12-04 12:33:38 [scrapy.utils.log] DEBUG: Using reactor: twisted.internet.selectreactor.SelectReactor\n",
      "2020-12-04 12:33:38 [scrapy.crawler] INFO: Overridden settings:\n",
      "{}\n",
      "2020-12-04 12:33:38 [scrapy.extensions.telnet] INFO: Telnet Password: 4763f43fa03fe1fe\n",
      "2020-12-04 12:33:38 [scrapy.middleware] INFO: Enabled extensions:\n",
      "['scrapy.extensions.corestats.CoreStats',\n",
      " 'scrapy.extensions.telnet.TelnetConsole',\n",
      " 'scrapy.extensions.logstats.LogStats']\n",
      "2020-12-04 12:33:39 [scrapy.middleware] INFO: Enabled downloader middlewares:\n",
      "['scrapy.downloadermiddlewares.httpauth.HttpAuthMiddleware',\n",
      " 'scrapy.downloadermiddlewares.downloadtimeout.DownloadTimeoutMiddleware',\n",
      " 'scrapy.downloadermiddlewares.defaultheaders.DefaultHeadersMiddleware',\n",
      " 'scrapy.downloadermiddlewares.useragent.UserAgentMiddleware',\n",
      " 'scrapy.downloadermiddlewares.retry.RetryMiddleware',\n",
      " 'scrapy.downloadermiddlewares.redirect.MetaRefreshMiddleware',\n",
      " 'scrapy.downloadermiddlewares.httpcompression.HttpCompressionMiddleware',\n",
      " 'scrapy.downloadermiddlewares.redirect.RedirectMiddleware',\n",
      " 'scrapy.downloadermiddlewares.cookies.CookiesMiddleware',\n",
      " 'scrapy.downloadermiddlewares.httpproxy.HttpProxyMiddleware',\n",
      " 'scrapy.downloadermiddlewares.stats.DownloaderStats']\n",
      "2020-12-04 12:33:39 [scrapy.middleware] INFO: Enabled spider middlewares:\n",
      "['scrapy.spidermiddlewares.httperror.HttpErrorMiddleware',\n",
      " 'scrapy.spidermiddlewares.offsite.OffsiteMiddleware',\n",
      " 'scrapy.spidermiddlewares.referer.RefererMiddleware',\n",
      " 'scrapy.spidermiddlewares.urllength.UrlLengthMiddleware',\n",
      " 'scrapy.spidermiddlewares.depth.DepthMiddleware']\n",
      "2020-12-04 12:33:39 [scrapy.middleware] INFO: Enabled item pipelines:\n",
      "[]\n",
      "2020-12-04 12:33:39 [scrapy.core.engine] INFO: Spider opened\n",
      "2020-12-04 12:33:39 [scrapy.extensions.logstats] INFO: Crawled 0 pages (at 0 pages/min), scraped 0 items (at 0 items/min)\n",
      "2020-12-04 12:33:39 [scrapy.extensions.telnet] INFO: Telnet console listening on 127.0.0.1:6030\n",
      "2020-12-04 12:33:45 [scrapy.core.engine] DEBUG: Crawled (200) <GET https://carifilms.com/films?order=DESC&is_meta_key=0&orderby=title> (referer: None)\n",
      "2020-12-04 12:33:45 [scrapy.core.engine] DEBUG: Crawled (200) <GET https://carifilms.com/films/page/5?order=DESC&is_meta_key=0&orderby=title#038;is_meta_key=0&orderby=title> (referer: None)\n",
      "2020-12-04 12:33:45 [scrapy.core.engine] DEBUG: Crawled (200) <GET https://carifilms.com/films/page/6?order=DESC&is_meta_key=0&orderby=title#038;is_meta_key=0&orderby=title> (referer: None)\n",
      "2020-12-04 12:33:45 [scrapy.core.engine] DEBUG: Crawled (200) <GET https://carifilms.com/films/page/3?order=DESC&is_meta_key=0&orderby=title#038;is_meta_key=0&orderby=title> (referer: None)\n",
      "2020-12-04 12:33:45 [scrapy.core.engine] DEBUG: Crawled (200) <GET https://carifilms.com/films/page/7?order=DESC&is_meta_key=0&orderby=title#038;is_meta_key=0&orderby=title> (referer: None)\n"
     ]
    },
    {
     "name": "stdout",
     "output_type": "stream",
     "text": [
      "Banyak url film 1\n",
      "Banyak url film 2\n",
      "Banyak url film 3\n",
      "Banyak url film 4\n",
      "Banyak url film 5\n",
      "Banyak url film 6\n",
      "Banyak url film 7\n",
      "Banyak url film 8\n",
      "Banyak url film 9\n",
      "Banyak url film 10\n",
      "Banyak url film 11\n",
      "Banyak url film 12\n",
      "Banyak url film 13\n",
      "Banyak url film 14\n",
      "Banyak url film 15\n",
      "Banyak url film 16\n",
      "Banyak url film 17\n",
      "Banyak url film 18\n",
      "Banyak url film 19\n",
      "Banyak url film 20\n",
      "Banyak url film 21\n",
      "Banyak url film 22\n",
      "Banyak url film 23\n",
      "Banyak url film 24\n",
      "Banyak url film 25\n",
      "Banyak url film 26\n",
      "Banyak url film 27\n",
      "Banyak url film 28\n",
      "Banyak url film 29\n",
      "Banyak url film 30\n",
      "Banyak url film 31\n",
      "Banyak url film 32\n",
      "Banyak url film 33\n",
      "Banyak url film 34\n",
      "Banyak url film 35\n",
      "Banyak url film 36\n",
      "Banyak url film 37\n",
      "Banyak url film 38\n",
      "Banyak url film 39\n",
      "Banyak url film 40\n",
      "Banyak url film 41\n",
      "Banyak url film 42\n",
      "Banyak url film 43\n",
      "Banyak url film 44\n",
      "Banyak url film 45\n",
      "Banyak url film 46\n",
      "Banyak url film 47\n",
      "Banyak url film 48\n",
      "Banyak url film 49\n",
      "Banyak url film 50\n"
     ]
    },
    {
     "name": "stderr",
     "output_type": "stream",
     "text": [
      "2020-12-04 12:33:45 [scrapy.core.engine] DEBUG: Crawled (200) <GET https://carifilms.com/films/page/8?order=DESC&is_meta_key=0&orderby=title#038;is_meta_key=0&orderby=title> (referer: None)\n",
      "2020-12-04 12:33:45 [scrapy.core.engine] DEBUG: Crawled (200) <GET https://carifilms.com/films/page/2?order=DESC&is_meta_key=0&orderby=title#038;is_meta_key=0&orderby=title> (referer: None)\n",
      "2020-12-04 12:33:45 [scrapy.core.engine] DEBUG: Crawled (200) <GET https://carifilms.com/films/page/4?order=DESC&is_meta_key=0&orderby=title#038;is_meta_key=0&orderby=title> (referer: None)\n"
     ]
    },
    {
     "name": "stdout",
     "output_type": "stream",
     "text": [
      "Banyak url film 51\n",
      "Banyak url film 52\n",
      "Banyak url film 53\n",
      "Banyak url film 54\n",
      "Banyak url film 55\n",
      "Banyak url film 56\n",
      "Banyak url film 57\n",
      "Banyak url film 58\n",
      "Banyak url film 59\n",
      "Banyak url film 60\n",
      "Banyak url film 61\n",
      "Banyak url film 62\n",
      "Banyak url film 63\n",
      "Banyak url film 64\n",
      "Banyak url film 65\n",
      "Banyak url film 66\n",
      "Banyak url film 67\n",
      "Banyak url film 68\n",
      "Banyak url film 69\n",
      "Banyak url film 70\n",
      "Banyak url film 71\n",
      "Banyak url film 72\n",
      "Banyak url film 73\n",
      "Banyak url film 74\n",
      "Banyak url film 75\n",
      "Banyak url film 76\n",
      "Banyak url film 77\n",
      "Banyak url film 78\n",
      "Banyak url film 79\n",
      "Banyak url film 80\n"
     ]
    },
    {
     "name": "stderr",
     "output_type": "stream",
     "text": [
      "2020-12-04 12:33:51 [scrapy.core.engine] DEBUG: Crawled (200) <GET https://carifilms.com/films/page/9?order=DESC&is_meta_key=0&orderby=title#038;is_meta_key=0&orderby=title> (referer: None)\n",
      "2020-12-04 12:33:51 [scrapy.core.engine] DEBUG: Crawled (200) <GET https://carifilms.com/films/page/12?order=DESC&is_meta_key=0&orderby=title#038;is_meta_key=0&orderby=title> (referer: None)\n",
      "2020-12-04 12:33:51 [scrapy.core.engine] DEBUG: Crawled (200) <GET https://carifilms.com/films/page/10?order=DESC&is_meta_key=0&orderby=title#038;is_meta_key=0&orderby=title> (referer: None)\n",
      "2020-12-04 12:33:51 [scrapy.core.engine] DEBUG: Crawled (200) <GET https://carifilms.com/films/page/11?order=DESC&is_meta_key=0&orderby=title#038;is_meta_key=0&orderby=title> (referer: None)\n",
      "2020-12-04 12:33:51 [scrapy.core.engine] DEBUG: Crawled (200) <GET https://carifilms.com/films/page/15?order=DESC&is_meta_key=0&orderby=title#038;is_meta_key=0&orderby=title> (referer: None)\n"
     ]
    },
    {
     "name": "stdout",
     "output_type": "stream",
     "text": [
      "Banyak url film 81\n",
      "Banyak url film 82\n",
      "Banyak url film 83\n",
      "Banyak url film 84\n",
      "Banyak url film 85\n",
      "Banyak url film 86\n",
      "Banyak url film 87\n",
      "Banyak url film 88\n",
      "Banyak url film 89\n",
      "Banyak url film 90\n",
      "Banyak url film 91\n",
      "Banyak url film 92\n",
      "Banyak url film 93\n",
      "Banyak url film 94\n",
      "Banyak url film 95\n",
      "Banyak url film 96\n",
      "Banyak url film 97\n",
      "Banyak url film 98\n",
      "Banyak url film 99\n",
      "Banyak url film 100\n",
      "Banyak url film 101\n",
      "Banyak url film 102\n",
      "Banyak url film 103\n",
      "Banyak url film 104\n",
      "Banyak url film 105\n",
      "Banyak url film 106\n",
      "Banyak url film 107\n",
      "Banyak url film 108\n",
      "Banyak url film 109\n",
      "Banyak url film 110\n",
      "Banyak url film 111\n",
      "Banyak url film 112\n",
      "Banyak url film 113\n",
      "Banyak url film 114\n",
      "Banyak url film 115\n",
      "Banyak url film 116\n",
      "Banyak url film 117\n",
      "Banyak url film 118\n",
      "Banyak url film 119\n",
      "Banyak url film 120\n"
     ]
    },
    {
     "name": "stderr",
     "output_type": "stream",
     "text": [
      "2020-12-04 12:33:51 [scrapy.core.engine] DEBUG: Crawled (200) <GET https://carifilms.com/films/page/16?order=DESC&is_meta_key=0&orderby=title#038;is_meta_key=0&orderby=title> (referer: None)\n"
     ]
    },
    {
     "name": "stdout",
     "output_type": "stream",
     "text": [
      "Banyak url film 121\n",
      "Banyak url film 122\n",
      "Banyak url film 123\n",
      "Banyak url film 124\n",
      "Banyak url film 125\n",
      "Banyak url film 126\n",
      "Banyak url film 127\n",
      "Banyak url film 128\n",
      "Banyak url film 129\n",
      "Banyak url film 130\n",
      "Banyak url film 131\n",
      "Banyak url film 132\n",
      "Banyak url film 133\n",
      "Banyak url film 134\n",
      "Banyak url film 135\n",
      "Banyak url film 136\n",
      "Banyak url film 137\n",
      "Banyak url film 138\n",
      "Banyak url film 139\n",
      "Banyak url film 140\n"
     ]
    },
    {
     "name": "stderr",
     "output_type": "stream",
     "text": [
      "2020-12-04 12:33:51 [scrapy.core.engine] DEBUG: Crawled (200) <GET https://carifilms.com/films/page/13?order=DESC&is_meta_key=0&orderby=title#038;is_meta_key=0&orderby=title> (referer: None)\n",
      "2020-12-04 12:33:51 [scrapy.core.engine] DEBUG: Crawled (200) <GET https://carifilms.com/films/page/14?order=DESC&is_meta_key=0&orderby=title#038;is_meta_key=0&orderby=title> (referer: None)\n"
     ]
    },
    {
     "name": "stdout",
     "output_type": "stream",
     "text": [
      "Banyak url film 141\n",
      "Banyak url film 142\n",
      "Banyak url film 143\n",
      "Banyak url film 144\n",
      "Banyak url film 145\n",
      "Banyak url film 146\n",
      "Banyak url film 147\n",
      "Banyak url film 148\n",
      "Banyak url film 149\n",
      "Banyak url film 150\n",
      "Banyak url film 151\n",
      "Banyak url film 152\n",
      "Banyak url film 153\n",
      "Banyak url film 154\n",
      "Banyak url film 155\n",
      "Banyak url film 156\n",
      "Banyak url film 157\n",
      "Banyak url film 158\n",
      "Banyak url film 159\n",
      "Banyak url film 160\n"
     ]
    },
    {
     "name": "stderr",
     "output_type": "stream",
     "text": [
      "2020-12-04 12:33:55 [scrapy.core.engine] DEBUG: Crawled (200) <GET https://carifilms.com/films/page/17?order=DESC&is_meta_key=0&orderby=title#038;is_meta_key=0&orderby=title> (referer: None)\n",
      "2020-12-04 12:33:55 [scrapy.core.engine] DEBUG: Crawled (200) <GET https://carifilms.com/films/page/22?order=DESC&is_meta_key=0&orderby=title#038;is_meta_key=0&orderby=title> (referer: None)\n"
     ]
    },
    {
     "name": "stdout",
     "output_type": "stream",
     "text": [
      "Banyak url film 161\n",
      "Banyak url film 162\n",
      "Banyak url film 163\n",
      "Banyak url film 164\n",
      "Banyak url film 165\n",
      "Banyak url film 166\n",
      "Banyak url film 167\n",
      "Banyak url film 168\n",
      "Banyak url film 169\n",
      "Banyak url film 170\n",
      "Banyak url film 171\n",
      "Banyak url film 172\n",
      "Banyak url film 173\n",
      "Banyak url film 174\n",
      "Banyak url film 175\n",
      "Banyak url film 176\n",
      "Banyak url film 177\n",
      "Banyak url film 178\n",
      "Banyak url film 179\n",
      "Banyak url film 180\n"
     ]
    },
    {
     "name": "stderr",
     "output_type": "stream",
     "text": [
      "2020-12-04 12:33:56 [scrapy.core.engine] DEBUG: Crawled (200) <GET https://carifilms.com/films/page/24?order=DESC&is_meta_key=0&orderby=title#038;is_meta_key=0&orderby=title> (referer: None)\n"
     ]
    },
    {
     "name": "stdout",
     "output_type": "stream",
     "text": [
      "Banyak url film 181\n",
      "Banyak url film 182\n",
      "Banyak url film 183\n",
      "Banyak url film 184\n",
      "Banyak url film 185\n",
      "Banyak url film 186\n",
      "Banyak url film 187\n",
      "Banyak url film 188\n",
      "Banyak url film 189\n",
      "Banyak url film 190\n"
     ]
    },
    {
     "name": "stderr",
     "output_type": "stream",
     "text": [
      "2020-12-04 12:33:56 [scrapy.core.engine] DEBUG: Crawled (200) <GET https://carifilms.com/films/page/23?order=DESC&is_meta_key=0&orderby=title#038;is_meta_key=0&orderby=title> (referer: None)\n"
     ]
    },
    {
     "name": "stdout",
     "output_type": "stream",
     "text": [
      "Banyak url film 191\n",
      "Banyak url film 192\n",
      "Banyak url film 193\n",
      "Banyak url film 194\n",
      "Banyak url film 195\n",
      "Banyak url film 196\n",
      "Banyak url film 197\n",
      "Banyak url film 198\n",
      "Banyak url film 199\n",
      "Banyak url film 200\n"
     ]
    },
    {
     "name": "stderr",
     "output_type": "stream",
     "text": [
      "2020-12-04 12:33:59 [scrapy.core.engine] DEBUG: Crawled (200) <GET https://carifilms.com/films/page/18?order=DESC&is_meta_key=0&orderby=title#038;is_meta_key=0&orderby=title> (referer: None)\n"
     ]
    },
    {
     "name": "stdout",
     "output_type": "stream",
     "text": [
      "Banyak url film 201\n",
      "Banyak url film 202\n",
      "Banyak url film 203\n",
      "Banyak url film 204\n",
      "Banyak url film 205\n",
      "Banyak url film 206\n",
      "Banyak url film 207\n",
      "Banyak url film 208\n",
      "Banyak url film 209\n",
      "Banyak url film 210\n"
     ]
    },
    {
     "name": "stderr",
     "output_type": "stream",
     "text": [
      "2020-12-04 12:34:00 [scrapy.core.engine] DEBUG: Crawled (200) <GET https://carifilms.com/films/page/25?order=DESC&is_meta_key=0&orderby=title#038;is_meta_key=0&orderby=title> (referer: None)\n",
      "2020-12-04 12:34:00 [scrapy.core.engine] DEBUG: Crawled (200) <GET https://carifilms.com/films/page/26?order=DESC&is_meta_key=0&orderby=title#038;is_meta_key=0&orderby=title> (referer: None)\n"
     ]
    },
    {
     "name": "stdout",
     "output_type": "stream",
     "text": [
      "Banyak url film 211\n",
      "Banyak url film 212\n",
      "Banyak url film 213\n",
      "Banyak url film 214\n",
      "Banyak url film 215\n",
      "Banyak url film 216\n",
      "Banyak url film 217\n",
      "Banyak url film 218\n",
      "Banyak url film 219\n",
      "Banyak url film 220\n",
      "Banyak url film 221\n",
      "Banyak url film 222\n",
      "Banyak url film 223\n",
      "Banyak url film 224\n",
      "Banyak url film 225\n",
      "Banyak url film 226\n",
      "Banyak url film 227\n",
      "Banyak url film 228\n",
      "Banyak url film 229\n",
      "Banyak url film 230\n"
     ]
    },
    {
     "name": "stderr",
     "output_type": "stream",
     "text": [
      "2020-12-04 12:34:03 [scrapy.core.engine] DEBUG: Crawled (200) <GET https://carifilms.com/films/page/19?order=DESC&is_meta_key=0&orderby=title#038;is_meta_key=0&orderby=title> (referer: None)\n"
     ]
    },
    {
     "name": "stdout",
     "output_type": "stream",
     "text": [
      "Banyak url film 231\n",
      "Banyak url film 232\n",
      "Banyak url film 233\n",
      "Banyak url film 234\n",
      "Banyak url film 235\n",
      "Banyak url film 236\n",
      "Banyak url film 237\n",
      "Banyak url film 238\n",
      "Banyak url film 239\n",
      "Banyak url film 240\n"
     ]
    },
    {
     "name": "stderr",
     "output_type": "stream",
     "text": [
      "2020-12-04 12:34:03 [scrapy.core.engine] DEBUG: Crawled (200) <GET https://carifilms.com/films/page/29?order=DESC&is_meta_key=0&orderby=title#038;is_meta_key=0&orderby=title> (referer: None)\n",
      "2020-12-04 12:34:04 [scrapy.core.engine] DEBUG: Crawled (200) <GET https://carifilms.com/films/page/27?order=DESC&is_meta_key=0&orderby=title#038;is_meta_key=0&orderby=title> (referer: None)\n"
     ]
    },
    {
     "name": "stdout",
     "output_type": "stream",
     "text": [
      "Banyak url film 241\n",
      "Banyak url film 242\n",
      "Banyak url film 243\n",
      "Banyak url film 244\n",
      "Banyak url film 245\n",
      "Banyak url film 246\n",
      "Banyak url film 247\n",
      "Banyak url film 248\n",
      "Banyak url film 249\n",
      "Banyak url film 250\n",
      "Banyak url film 251\n",
      "Banyak url film 252\n",
      "Banyak url film 253\n",
      "Banyak url film 254\n",
      "Banyak url film 255\n",
      "Banyak url film 256\n",
      "Banyak url film 257\n",
      "Banyak url film 258\n",
      "Banyak url film 259\n",
      "Banyak url film 260\n"
     ]
    },
    {
     "name": "stderr",
     "output_type": "stream",
     "text": [
      "2020-12-04 12:34:04 [scrapy.core.engine] DEBUG: Crawled (200) <GET https://carifilms.com/films/page/30?order=DESC&is_meta_key=0&orderby=title#038;is_meta_key=0&orderby=title> (referer: None)\n",
      "2020-12-04 12:34:05 [scrapy.core.engine] DEBUG: Crawled (200) <GET https://carifilms.com/films/page/31?order=DESC&is_meta_key=0&orderby=title#038;is_meta_key=0&orderby=title> (referer: None)\n"
     ]
    },
    {
     "name": "stdout",
     "output_type": "stream",
     "text": [
      "Banyak url film 261\n",
      "Banyak url film 262\n",
      "Banyak url film 263\n",
      "Banyak url film 264\n",
      "Banyak url film 265\n",
      "Banyak url film 266\n",
      "Banyak url film 267\n",
      "Banyak url film 268\n",
      "Banyak url film 269\n",
      "Banyak url film 270\n",
      "Banyak url film 271\n",
      "Banyak url film 272\n",
      "Banyak url film 273\n",
      "Banyak url film 274\n",
      "Banyak url film 275\n",
      "Banyak url film 276\n",
      "Banyak url film 277\n",
      "Banyak url film 278\n",
      "Banyak url film 279\n",
      "Banyak url film 280\n"
     ]
    },
    {
     "name": "stderr",
     "output_type": "stream",
     "text": [
      "2020-12-04 12:34:06 [scrapy.core.engine] DEBUG: Crawled (200) <GET https://carifilms.com/films/page/20?order=DESC&is_meta_key=0&orderby=title#038;is_meta_key=0&orderby=title> (referer: None)\n"
     ]
    },
    {
     "name": "stdout",
     "output_type": "stream",
     "text": [
      "Banyak url film 281\n",
      "Banyak url film 282\n",
      "Banyak url film 283\n",
      "Banyak url film 284\n",
      "Banyak url film 285\n",
      "Banyak url film 286\n",
      "Banyak url film 287\n",
      "Banyak url film 288\n",
      "Banyak url film 289\n",
      "Banyak url film 290\n"
     ]
    },
    {
     "name": "stderr",
     "output_type": "stream",
     "text": [
      "2020-12-04 12:34:08 [scrapy.core.engine] DEBUG: Crawled (200) <GET https://carifilms.com/films/page/28?order=DESC&is_meta_key=0&orderby=title#038;is_meta_key=0&orderby=title> (referer: None)\n"
     ]
    },
    {
     "name": "stdout",
     "output_type": "stream",
     "text": [
      "Banyak url film 291\n",
      "Banyak url film 292\n",
      "Banyak url film 293\n",
      "Banyak url film 294\n",
      "Banyak url film 295\n",
      "Banyak url film 296\n",
      "Banyak url film 297\n",
      "Banyak url film 298\n",
      "Banyak url film 299\n",
      "Banyak url film 300\n"
     ]
    },
    {
     "name": "stderr",
     "output_type": "stream",
     "text": [
      "2020-12-04 12:34:08 [scrapy.core.engine] DEBUG: Crawled (200) <GET https://carifilms.com/films/page/32?order=DESC&is_meta_key=0&orderby=title#038;is_meta_key=0&orderby=title> (referer: None)\n"
     ]
    },
    {
     "name": "stdout",
     "output_type": "stream",
     "text": [
      "Banyak url film 301\n",
      "Banyak url film 302\n",
      "Banyak url film 303\n",
      "Banyak url film 304\n",
      "Banyak url film 305\n",
      "Banyak url film 306\n",
      "Banyak url film 307\n",
      "Banyak url film 308\n",
      "Banyak url film 309\n",
      "Banyak url film 310\n"
     ]
    },
    {
     "name": "stderr",
     "output_type": "stream",
     "text": [
      "2020-12-04 12:34:10 [scrapy.core.engine] DEBUG: Crawled (200) <GET https://carifilms.com/films/page/21?order=DESC&is_meta_key=0&orderby=title#038;is_meta_key=0&orderby=title> (referer: None)\n"
     ]
    },
    {
     "name": "stdout",
     "output_type": "stream",
     "text": [
      "Banyak url film 311\n",
      "Banyak url film 312\n",
      "Banyak url film 313\n",
      "Banyak url film 314\n",
      "Banyak url film 315\n",
      "Banyak url film 316\n",
      "Banyak url film 317\n",
      "Banyak url film 318\n",
      "Banyak url film 319\n",
      "Banyak url film 320\n"
     ]
    },
    {
     "name": "stderr",
     "output_type": "stream",
     "text": [
      "2020-12-04 12:34:12 [scrapy.core.engine] DEBUG: Crawled (200) <GET https://carifilms.com/films/page/35?order=DESC&is_meta_key=0&orderby=title#038;is_meta_key=0&orderby=title> (referer: None)\n"
     ]
    },
    {
     "name": "stdout",
     "output_type": "stream",
     "text": [
      "Banyak url film 321\n",
      "Banyak url film 322\n",
      "Banyak url film 323\n",
      "Banyak url film 324\n",
      "Banyak url film 325\n",
      "Banyak url film 326\n",
      "Banyak url film 327\n",
      "Banyak url film 328\n",
      "Banyak url film 329\n",
      "Banyak url film 330\n"
     ]
    },
    {
     "name": "stderr",
     "output_type": "stream",
     "text": [
      "2020-12-04 12:34:15 [scrapy.core.engine] DEBUG: Crawled (200) <GET https://carifilms.com/films/page/37?order=DESC&is_meta_key=0&orderby=title#038;is_meta_key=0&orderby=title> (referer: None)\n"
     ]
    },
    {
     "name": "stdout",
     "output_type": "stream",
     "text": [
      "Banyak url film 331\n",
      "Banyak url film 332\n",
      "Banyak url film 333\n",
      "Banyak url film 334\n",
      "Banyak url film 335\n",
      "Banyak url film 336\n",
      "Banyak url film 337\n",
      "Banyak url film 338\n",
      "Banyak url film 339\n",
      "Banyak url film 340\n"
     ]
    },
    {
     "name": "stderr",
     "output_type": "stream",
     "text": [
      "2020-12-04 12:34:18 [scrapy.core.engine] DEBUG: Crawled (200) <GET https://carifilms.com/films/page/33?order=DESC&is_meta_key=0&orderby=title#038;is_meta_key=0&orderby=title> (referer: None)\n"
     ]
    },
    {
     "name": "stdout",
     "output_type": "stream",
     "text": [
      "Banyak url film 341\n",
      "Banyak url film 342\n",
      "Banyak url film 343\n",
      "Banyak url film 344\n",
      "Banyak url film 345\n",
      "Banyak url film 346\n",
      "Banyak url film 347\n",
      "Banyak url film 348\n",
      "Banyak url film 349\n",
      "Banyak url film 350\n"
     ]
    },
    {
     "name": "stderr",
     "output_type": "stream",
     "text": [
      "2020-12-04 12:34:22 [scrapy.core.engine] DEBUG: Crawled (200) <GET https://carifilms.com/films/page/38?order=DESC&is_meta_key=0&orderby=title#038;is_meta_key=0&orderby=title> (referer: None)\n"
     ]
    },
    {
     "name": "stdout",
     "output_type": "stream",
     "text": [
      "Banyak url film 351\n",
      "Banyak url film 352\n",
      "Banyak url film 353\n",
      "Banyak url film 354\n",
      "Banyak url film 355\n",
      "Banyak url film 356\n",
      "Banyak url film 357\n",
      "Banyak url film 358\n",
      "Banyak url film 359\n",
      "Banyak url film 360\n"
     ]
    },
    {
     "name": "stderr",
     "output_type": "stream",
     "text": [
      "2020-12-04 12:34:25 [scrapy.core.engine] DEBUG: Crawled (200) <GET https://carifilms.com/films/page/36?order=DESC&is_meta_key=0&orderby=title#038;is_meta_key=0&orderby=title> (referer: None)\n"
     ]
    },
    {
     "name": "stdout",
     "output_type": "stream",
     "text": [
      "Banyak url film 361\n",
      "Banyak url film 362\n",
      "Banyak url film 363\n",
      "Banyak url film 364\n",
      "Banyak url film 365\n",
      "Banyak url film 366\n",
      "Banyak url film 367\n",
      "Banyak url film 368\n",
      "Banyak url film 369\n",
      "Banyak url film 370\n"
     ]
    },
    {
     "name": "stderr",
     "output_type": "stream",
     "text": [
      "2020-12-04 12:34:28 [scrapy.core.engine] DEBUG: Crawled (200) <GET https://carifilms.com/films/page/39?order=DESC&is_meta_key=0&orderby=title#038;is_meta_key=0&orderby=title> (referer: None)\n"
     ]
    },
    {
     "name": "stdout",
     "output_type": "stream",
     "text": [
      "Banyak url film 371\n",
      "Banyak url film 372\n",
      "Banyak url film 373\n",
      "Banyak url film 374\n",
      "Banyak url film 375\n",
      "Banyak url film 376\n",
      "Banyak url film 377\n",
      "Banyak url film 378\n",
      "Banyak url film 379\n",
      "Banyak url film 380\n"
     ]
    },
    {
     "name": "stderr",
     "output_type": "stream",
     "text": [
      "2020-12-04 12:34:32 [scrapy.core.engine] DEBUG: Crawled (200) <GET https://carifilms.com/films/page/40?order=DESC&is_meta_key=0&orderby=title#038;is_meta_key=0&orderby=title> (referer: None)\n"
     ]
    },
    {
     "name": "stdout",
     "output_type": "stream",
     "text": [
      "Banyak url film 381\n",
      "Banyak url film 382\n",
      "Banyak url film 383\n",
      "Banyak url film 384\n",
      "Banyak url film 385\n",
      "Banyak url film 386\n",
      "Banyak url film 387\n",
      "Banyak url film 388\n",
      "Banyak url film 389\n",
      "Banyak url film 390\n"
     ]
    },
    {
     "name": "stderr",
     "output_type": "stream",
     "text": [
      "2020-12-04 12:34:35 [scrapy.core.engine] DEBUG: Crawled (200) <GET https://carifilms.com/films/page/41?order=DESC&is_meta_key=0&orderby=title#038;is_meta_key=0&orderby=title> (referer: None)\n"
     ]
    },
    {
     "name": "stdout",
     "output_type": "stream",
     "text": [
      "Banyak url film 391\n",
      "Banyak url film 392\n",
      "Banyak url film 393\n",
      "Banyak url film 394\n",
      "Banyak url film 395\n",
      "Banyak url film 396\n",
      "Banyak url film 397\n",
      "Banyak url film 398\n",
      "Banyak url film 399\n",
      "Banyak url film 400\n"
     ]
    },
    {
     "name": "stderr",
     "output_type": "stream",
     "text": [
      "2020-12-04 12:34:38 [scrapy.core.engine] DEBUG: Crawled (200) <GET https://carifilms.com/films/page/44?order=DESC&is_meta_key=0&orderby=title#038;is_meta_key=0&orderby=title> (referer: None)\n"
     ]
    },
    {
     "name": "stdout",
     "output_type": "stream",
     "text": [
      "Banyak url film 401\n",
      "Banyak url film 402\n",
      "Banyak url film 403\n",
      "Banyak url film 404\n",
      "Banyak url film 405\n",
      "Banyak url film 406\n",
      "Banyak url film 407\n",
      "Banyak url film 408\n",
      "Banyak url film 409\n",
      "Banyak url film 410\n"
     ]
    },
    {
     "name": "stderr",
     "output_type": "stream",
     "text": [
      "2020-12-04 12:34:39 [scrapy.extensions.logstats] INFO: Crawled 41 pages (at 41 pages/min), scraped 0 items (at 0 items/min)\n",
      "2020-12-04 12:34:41 [scrapy.core.engine] DEBUG: Crawled (200) <GET https://carifilms.com/films/page/47?order=DESC&is_meta_key=0&orderby=title#038;is_meta_key=0&orderby=title> (referer: None)\n"
     ]
    },
    {
     "name": "stdout",
     "output_type": "stream",
     "text": [
      "Banyak url film 411\n",
      "Banyak url film 412\n",
      "Banyak url film 413\n",
      "Banyak url film 414\n",
      "Banyak url film 415\n",
      "Banyak url film 416\n",
      "Banyak url film 417\n",
      "Banyak url film 418\n",
      "Banyak url film 419\n",
      "Banyak url film 420\n"
     ]
    },
    {
     "name": "stderr",
     "output_type": "stream",
     "text": [
      "2020-12-04 12:34:45 [scrapy.core.engine] DEBUG: Crawled (200) <GET https://carifilms.com/films/page/46?order=DESC&is_meta_key=0&orderby=title#038;is_meta_key=0&orderby=title> (referer: None)\n"
     ]
    },
    {
     "name": "stdout",
     "output_type": "stream",
     "text": [
      "Banyak url film 421\n",
      "Banyak url film 422\n",
      "Banyak url film 423\n",
      "Banyak url film 424\n",
      "Banyak url film 425\n",
      "Banyak url film 426\n",
      "Banyak url film 427\n",
      "Banyak url film 428\n",
      "Banyak url film 429\n",
      "Banyak url film 430\n"
     ]
    },
    {
     "name": "stderr",
     "output_type": "stream",
     "text": [
      "2020-12-04 12:34:48 [scrapy.core.engine] DEBUG: Crawled (200) <GET https://carifilms.com/films/page/42?order=DESC&is_meta_key=0&orderby=title#038;is_meta_key=0&orderby=title> (referer: None)\n"
     ]
    },
    {
     "name": "stdout",
     "output_type": "stream",
     "text": [
      "Banyak url film 431\n",
      "Banyak url film 432\n",
      "Banyak url film 433\n",
      "Banyak url film 434\n",
      "Banyak url film 435\n",
      "Banyak url film 436\n",
      "Banyak url film 437\n",
      "Banyak url film 438\n",
      "Banyak url film 439\n",
      "Banyak url film 440\n"
     ]
    },
    {
     "name": "stderr",
     "output_type": "stream",
     "text": [
      "2020-12-04 12:34:51 [scrapy.core.engine] DEBUG: Crawled (200) <GET https://carifilms.com/films/page/50?order=DESC&is_meta_key=0&orderby=title#038;is_meta_key=0&orderby=title> (referer: None)\n"
     ]
    },
    {
     "name": "stdout",
     "output_type": "stream",
     "text": [
      "Banyak url film 441\n",
      "Banyak url film 442\n",
      "Banyak url film 443\n",
      "Banyak url film 444\n",
      "Banyak url film 445\n",
      "Banyak url film 446\n",
      "Banyak url film 447\n",
      "Banyak url film 448\n",
      "Banyak url film 449\n",
      "Banyak url film 450\n"
     ]
    },
    {
     "name": "stderr",
     "output_type": "stream",
     "text": [
      "2020-12-04 12:34:54 [scrapy.core.engine] DEBUG: Crawled (200) <GET https://carifilms.com/films/page/34?order=DESC&is_meta_key=0&orderby=title#038;is_meta_key=0&orderby=title> (referer: None)\n"
     ]
    },
    {
     "name": "stdout",
     "output_type": "stream",
     "text": [
      "Banyak url film 451\n",
      "Banyak url film 452\n",
      "Banyak url film 453\n",
      "Banyak url film 454\n",
      "Banyak url film 455\n",
      "Banyak url film 456\n",
      "Banyak url film 457\n",
      "Banyak url film 458\n",
      "Banyak url film 459\n",
      "Banyak url film 460\n"
     ]
    },
    {
     "name": "stderr",
     "output_type": "stream",
     "text": [
      "2020-12-04 12:34:58 [scrapy.core.engine] DEBUG: Crawled (200) <GET https://carifilms.com/films/page/43?order=DESC&is_meta_key=0&orderby=title#038;is_meta_key=0&orderby=title> (referer: None)\n"
     ]
    },
    {
     "name": "stdout",
     "output_type": "stream",
     "text": [
      "Banyak url film 461\n",
      "Banyak url film 462\n",
      "Banyak url film 463\n",
      "Banyak url film 464\n",
      "Banyak url film 465\n",
      "Banyak url film 466\n",
      "Banyak url film 467\n",
      "Banyak url film 468\n",
      "Banyak url film 469\n",
      "Banyak url film 470\n"
     ]
    },
    {
     "name": "stderr",
     "output_type": "stream",
     "text": [
      "2020-12-04 12:35:01 [scrapy.core.engine] DEBUG: Crawled (200) <GET https://carifilms.com/films/page/53?order=DESC&is_meta_key=0&orderby=title#038;is_meta_key=0&orderby=title> (referer: None)\n"
     ]
    },
    {
     "name": "stdout",
     "output_type": "stream",
     "text": [
      "Banyak url film 471\n",
      "Banyak url film 472\n",
      "Banyak url film 473\n",
      "Banyak url film 474\n",
      "Banyak url film 475\n",
      "Banyak url film 476\n",
      "Banyak url film 477\n",
      "Banyak url film 478\n",
      "Banyak url film 479\n",
      "Banyak url film 480\n"
     ]
    },
    {
     "name": "stderr",
     "output_type": "stream",
     "text": [
      "2020-12-04 12:35:04 [scrapy.core.engine] DEBUG: Crawled (200) <GET https://carifilms.com/films/page/48?order=DESC&is_meta_key=0&orderby=title#038;is_meta_key=0&orderby=title> (referer: None)\n"
     ]
    },
    {
     "name": "stdout",
     "output_type": "stream",
     "text": [
      "Banyak url film 481\n",
      "Banyak url film 482\n",
      "Banyak url film 483\n",
      "Banyak url film 484\n",
      "Banyak url film 485\n",
      "Banyak url film 486\n",
      "Banyak url film 487\n",
      "Banyak url film 488\n",
      "Banyak url film 489\n",
      "Banyak url film 490\n"
     ]
    },
    {
     "name": "stderr",
     "output_type": "stream",
     "text": [
      "2020-12-04 12:35:08 [scrapy.core.engine] DEBUG: Crawled (200) <GET https://carifilms.com/films/page/52?order=DESC&is_meta_key=0&orderby=title#038;is_meta_key=0&orderby=title> (referer: None)\n"
     ]
    },
    {
     "name": "stdout",
     "output_type": "stream",
     "text": [
      "Banyak url film 491\n",
      "Banyak url film 492\n",
      "Banyak url film 493\n",
      "Banyak url film 494\n",
      "Banyak url film 495\n",
      "Banyak url film 496\n",
      "Banyak url film 497\n",
      "Banyak url film 498\n",
      "Banyak url film 499\n",
      "Banyak url film 500\n"
     ]
    },
    {
     "name": "stderr",
     "output_type": "stream",
     "text": [
      "2020-12-04 12:35:11 [scrapy.core.engine] DEBUG: Crawled (200) <GET https://carifilms.com/films/page/55?order=DESC&is_meta_key=0&orderby=title#038;is_meta_key=0&orderby=title> (referer: None)\n"
     ]
    },
    {
     "name": "stdout",
     "output_type": "stream",
     "text": [
      "Banyak url film 501\n",
      "Banyak url film 502\n",
      "Banyak url film 503\n",
      "Banyak url film 504\n",
      "Banyak url film 505\n",
      "Banyak url film 506\n",
      "Banyak url film 507\n",
      "Banyak url film 508\n",
      "Banyak url film 509\n",
      "Banyak url film 510\n"
     ]
    },
    {
     "name": "stderr",
     "output_type": "stream",
     "text": [
      "2020-12-04 12:35:14 [scrapy.core.engine] DEBUG: Crawled (200) <GET https://carifilms.com/films/page/49?order=DESC&is_meta_key=0&orderby=title#038;is_meta_key=0&orderby=title> (referer: None)\n"
     ]
    },
    {
     "name": "stdout",
     "output_type": "stream",
     "text": [
      "Banyak url film 511\n",
      "Banyak url film 512\n",
      "Banyak url film 513\n",
      "Banyak url film 514\n",
      "Banyak url film 515\n",
      "Banyak url film 516\n",
      "Banyak url film 517\n",
      "Banyak url film 518\n",
      "Banyak url film 519\n",
      "Banyak url film 520\n"
     ]
    },
    {
     "name": "stderr",
     "output_type": "stream",
     "text": [
      "2020-12-04 12:35:17 [scrapy.core.engine] DEBUG: Crawled (200) <GET https://carifilms.com/films/page/54?order=DESC&is_meta_key=0&orderby=title#038;is_meta_key=0&orderby=title> (referer: None)\n"
     ]
    },
    {
     "name": "stdout",
     "output_type": "stream",
     "text": [
      "Banyak url film 521\n",
      "Banyak url film 522\n",
      "Banyak url film 523\n",
      "Banyak url film 524\n",
      "Banyak url film 525\n",
      "Banyak url film 526\n",
      "Banyak url film 527\n",
      "Banyak url film 528\n",
      "Banyak url film 529\n",
      "Banyak url film 530\n"
     ]
    },
    {
     "name": "stderr",
     "output_type": "stream",
     "text": [
      "2020-12-04 12:35:21 [scrapy.core.engine] DEBUG: Crawled (200) <GET https://carifilms.com/films/page/56?order=DESC&is_meta_key=0&orderby=title#038;is_meta_key=0&orderby=title> (referer: None)\n"
     ]
    },
    {
     "name": "stdout",
     "output_type": "stream",
     "text": [
      "Banyak url film 531\n",
      "Banyak url film 532\n",
      "Banyak url film 533\n",
      "Banyak url film 534\n",
      "Banyak url film 535\n",
      "Banyak url film 536\n",
      "Banyak url film 537\n",
      "Banyak url film 538\n",
      "Banyak url film 539\n",
      "Banyak url film 540\n"
     ]
    },
    {
     "name": "stderr",
     "output_type": "stream",
     "text": [
      "2020-12-04 12:35:24 [scrapy.core.engine] DEBUG: Crawled (200) <GET https://carifilms.com/films/page/51?order=DESC&is_meta_key=0&orderby=title#038;is_meta_key=0&orderby=title> (referer: None)\n"
     ]
    },
    {
     "name": "stdout",
     "output_type": "stream",
     "text": [
      "Banyak url film 541\n",
      "Banyak url film 542\n",
      "Banyak url film 543\n",
      "Banyak url film 544\n",
      "Banyak url film 545\n",
      "Banyak url film 546\n",
      "Banyak url film 547\n",
      "Banyak url film 548\n",
      "Banyak url film 549\n",
      "Banyak url film 550\n"
     ]
    },
    {
     "name": "stderr",
     "output_type": "stream",
     "text": [
      "2020-12-04 12:35:27 [scrapy.core.engine] DEBUG: Crawled (200) <GET https://carifilms.com/films/page/60?order=DESC&is_meta_key=0&orderby=title#038;is_meta_key=0&orderby=title> (referer: None)\n"
     ]
    },
    {
     "name": "stdout",
     "output_type": "stream",
     "text": [
      "Banyak url film 551\n",
      "Banyak url film 552\n",
      "Banyak url film 553\n",
      "Banyak url film 554\n",
      "Banyak url film 555\n",
      "Banyak url film 556\n",
      "Banyak url film 557\n",
      "Banyak url film 558\n",
      "Banyak url film 559\n",
      "Banyak url film 560\n"
     ]
    },
    {
     "name": "stderr",
     "output_type": "stream",
     "text": [
      "2020-12-04 12:35:31 [scrapy.core.engine] DEBUG: Crawled (200) <GET https://carifilms.com/films/page/58?order=DESC&is_meta_key=0&orderby=title#038;is_meta_key=0&orderby=title> (referer: None)\n"
     ]
    },
    {
     "name": "stdout",
     "output_type": "stream",
     "text": [
      "Banyak url film 561\n",
      "Banyak url film 562\n",
      "Banyak url film 563\n",
      "Banyak url film 564\n",
      "Banyak url film 565\n",
      "Banyak url film 566\n",
      "Banyak url film 567\n",
      "Banyak url film 568\n",
      "Banyak url film 569\n",
      "Banyak url film 570\n"
     ]
    },
    {
     "name": "stderr",
     "output_type": "stream",
     "text": [
      "2020-12-04 12:35:34 [scrapy.core.engine] DEBUG: Crawled (200) <GET https://carifilms.com/films/page/45?order=DESC&is_meta_key=0&orderby=title#038;is_meta_key=0&orderby=title> (referer: None)\n"
     ]
    },
    {
     "name": "stdout",
     "output_type": "stream",
     "text": [
      "Banyak url film 571\n",
      "Banyak url film 572\n",
      "Banyak url film 573\n",
      "Banyak url film 574\n",
      "Banyak url film 575\n",
      "Banyak url film 576\n",
      "Banyak url film 577\n",
      "Banyak url film 578\n",
      "Banyak url film 579\n",
      "Banyak url film 580\n"
     ]
    },
    {
     "name": "stderr",
     "output_type": "stream",
     "text": [
      "2020-12-04 12:35:38 [scrapy.core.engine] DEBUG: Crawled (200) <GET https://carifilms.com/films/page/61?order=DESC&is_meta_key=0&orderby=title#038;is_meta_key=0&orderby=title> (referer: None)\n"
     ]
    },
    {
     "name": "stdout",
     "output_type": "stream",
     "text": [
      "Banyak url film 581\n",
      "Banyak url film 582\n",
      "Banyak url film 583\n",
      "Banyak url film 584\n",
      "Banyak url film 585\n",
      "Banyak url film 586\n",
      "Banyak url film 587\n",
      "Banyak url film 588\n",
      "Banyak url film 589\n",
      "Banyak url film 590\n"
     ]
    },
    {
     "name": "stderr",
     "output_type": "stream",
     "text": [
      "2020-12-04 12:35:39 [scrapy.extensions.logstats] INFO: Crawled 59 pages (at 18 pages/min), scraped 0 items (at 0 items/min)\n",
      "2020-12-04 12:35:41 [scrapy.core.engine] DEBUG: Crawled (200) <GET https://carifilms.com/films/page/62?order=DESC&is_meta_key=0&orderby=title#038;is_meta_key=0&orderby=title> (referer: None)\n"
     ]
    },
    {
     "name": "stdout",
     "output_type": "stream",
     "text": [
      "Banyak url film 591\n",
      "Banyak url film 592\n",
      "Banyak url film 593\n",
      "Banyak url film 594\n",
      "Banyak url film 595\n",
      "Banyak url film 596\n",
      "Banyak url film 597\n",
      "Banyak url film 598\n",
      "Banyak url film 599\n",
      "Banyak url film 600\n"
     ]
    },
    {
     "name": "stderr",
     "output_type": "stream",
     "text": [
      "2020-12-04 12:35:44 [scrapy.core.engine] DEBUG: Crawled (200) <GET https://carifilms.com/films/page/59?order=DESC&is_meta_key=0&orderby=title#038;is_meta_key=0&orderby=title> (referer: None)\n"
     ]
    },
    {
     "name": "stdout",
     "output_type": "stream",
     "text": [
      "Banyak url film 601\n",
      "Banyak url film 602\n",
      "Banyak url film 603\n",
      "Banyak url film 604\n",
      "Banyak url film 605\n",
      "Banyak url film 606\n",
      "Banyak url film 607\n",
      "Banyak url film 608\n",
      "Banyak url film 609\n",
      "Banyak url film 610\n"
     ]
    },
    {
     "name": "stderr",
     "output_type": "stream",
     "text": [
      "2020-12-04 12:35:48 [scrapy.core.engine] DEBUG: Crawled (200) <GET https://carifilms.com/films/page/57?order=DESC&is_meta_key=0&orderby=title#038;is_meta_key=0&orderby=title> (referer: None)\n"
     ]
    },
    {
     "name": "stdout",
     "output_type": "stream",
     "text": [
      "Banyak url film 611\n",
      "Banyak url film 612\n",
      "Banyak url film 613\n",
      "Banyak url film 614\n",
      "Banyak url film 615\n",
      "Banyak url film 616\n",
      "Banyak url film 617\n",
      "Banyak url film 618\n",
      "Banyak url film 619\n",
      "Banyak url film 620\n"
     ]
    },
    {
     "name": "stderr",
     "output_type": "stream",
     "text": [
      "2020-12-04 12:35:51 [scrapy.core.engine] DEBUG: Crawled (200) <GET https://carifilms.com/films/page/68?order=DESC&is_meta_key=0&orderby=title#038;is_meta_key=0&orderby=title> (referer: None)\n"
     ]
    },
    {
     "name": "stdout",
     "output_type": "stream",
     "text": [
      "Banyak url film 621\n",
      "Banyak url film 622\n",
      "Banyak url film 623\n",
      "Banyak url film 624\n",
      "Banyak url film 625\n",
      "Banyak url film 626\n",
      "Banyak url film 627\n",
      "Banyak url film 628\n",
      "Banyak url film 629\n",
      "Banyak url film 630\n"
     ]
    },
    {
     "name": "stderr",
     "output_type": "stream",
     "text": [
      "2020-12-04 12:35:54 [scrapy.core.engine] DEBUG: Crawled (200) <GET https://carifilms.com/films/page/66?order=DESC&is_meta_key=0&orderby=title#038;is_meta_key=0&orderby=title> (referer: None)\n"
     ]
    },
    {
     "name": "stdout",
     "output_type": "stream",
     "text": [
      "Banyak url film 631\n",
      "Banyak url film 632\n",
      "Banyak url film 633\n",
      "Banyak url film 634\n",
      "Banyak url film 635\n",
      "Banyak url film 636\n",
      "Banyak url film 637\n",
      "Banyak url film 638\n",
      "Banyak url film 639\n",
      "Banyak url film 640\n"
     ]
    },
    {
     "name": "stderr",
     "output_type": "stream",
     "text": [
      "2020-12-04 12:35:58 [scrapy.core.engine] DEBUG: Crawled (200) <GET https://carifilms.com/films/page/64?order=DESC&is_meta_key=0&orderby=title#038;is_meta_key=0&orderby=title> (referer: None)\n"
     ]
    },
    {
     "name": "stdout",
     "output_type": "stream",
     "text": [
      "Banyak url film 641\n",
      "Banyak url film 642\n",
      "Banyak url film 643\n",
      "Banyak url film 644\n",
      "Banyak url film 645\n",
      "Banyak url film 646\n",
      "Banyak url film 647\n",
      "Banyak url film 648\n",
      "Banyak url film 649\n",
      "Banyak url film 650\n"
     ]
    },
    {
     "name": "stderr",
     "output_type": "stream",
     "text": [
      "2020-12-04 12:36:01 [scrapy.core.engine] DEBUG: Crawled (200) <GET https://carifilms.com/films/page/69?order=DESC&is_meta_key=0&orderby=title#038;is_meta_key=0&orderby=title> (referer: None)\n"
     ]
    },
    {
     "name": "stdout",
     "output_type": "stream",
     "text": [
      "Banyak url film 651\n",
      "Banyak url film 652\n",
      "Banyak url film 653\n",
      "Banyak url film 654\n",
      "Banyak url film 655\n",
      "Banyak url film 656\n",
      "Banyak url film 657\n",
      "Banyak url film 658\n",
      "Banyak url film 659\n",
      "Banyak url film 660\n"
     ]
    },
    {
     "name": "stderr",
     "output_type": "stream",
     "text": [
      "2020-12-04 12:36:05 [scrapy.core.engine] DEBUG: Crawled (200) <GET https://carifilms.com/films/page/71?order=DESC&is_meta_key=0&orderby=title#038;is_meta_key=0&orderby=title> (referer: None)\n"
     ]
    },
    {
     "name": "stdout",
     "output_type": "stream",
     "text": [
      "Banyak url film 661\n",
      "Banyak url film 662\n",
      "Banyak url film 663\n",
      "Banyak url film 664\n",
      "Banyak url film 665\n",
      "Banyak url film 666\n",
      "Banyak url film 667\n",
      "Banyak url film 668\n",
      "Banyak url film 669\n",
      "Banyak url film 670\n"
     ]
    },
    {
     "name": "stderr",
     "output_type": "stream",
     "text": [
      "2020-12-04 12:36:08 [scrapy.core.engine] DEBUG: Crawled (200) <GET https://carifilms.com/films/page/72?order=DESC&is_meta_key=0&orderby=title#038;is_meta_key=0&orderby=title> (referer: None)\n"
     ]
    },
    {
     "name": "stdout",
     "output_type": "stream",
     "text": [
      "Banyak url film 671\n",
      "Banyak url film 672\n",
      "Banyak url film 673\n",
      "Banyak url film 674\n",
      "Banyak url film 675\n",
      "Banyak url film 676\n",
      "Banyak url film 677\n",
      "Banyak url film 678\n",
      "Banyak url film 679\n",
      "Banyak url film 680\n"
     ]
    },
    {
     "name": "stderr",
     "output_type": "stream",
     "text": [
      "2020-12-04 12:36:12 [scrapy.core.engine] DEBUG: Crawled (200) <GET https://carifilms.com/films/page/63?order=DESC&is_meta_key=0&orderby=title#038;is_meta_key=0&orderby=title> (referer: None)\n"
     ]
    },
    {
     "name": "stdout",
     "output_type": "stream",
     "text": [
      "Banyak url film 681\n",
      "Banyak url film 682\n",
      "Banyak url film 683\n",
      "Banyak url film 684\n",
      "Banyak url film 685\n",
      "Banyak url film 686\n",
      "Banyak url film 687\n",
      "Banyak url film 688\n",
      "Banyak url film 689\n",
      "Banyak url film 690\n"
     ]
    },
    {
     "name": "stderr",
     "output_type": "stream",
     "text": [
      "2020-12-04 12:36:15 [scrapy.core.engine] DEBUG: Crawled (200) <GET https://carifilms.com/films/page/74?order=DESC&is_meta_key=0&orderby=title#038;is_meta_key=0&orderby=title> (referer: None)\n"
     ]
    },
    {
     "name": "stdout",
     "output_type": "stream",
     "text": [
      "Banyak url film 691\n",
      "Banyak url film 692\n",
      "Banyak url film 693\n",
      "Banyak url film 694\n",
      "Banyak url film 695\n",
      "Banyak url film 696\n",
      "Banyak url film 697\n",
      "Banyak url film 698\n",
      "Banyak url film 699\n",
      "Banyak url film 700\n"
     ]
    },
    {
     "name": "stderr",
     "output_type": "stream",
     "text": [
      "2020-12-04 12:36:18 [scrapy.core.engine] DEBUG: Crawled (200) <GET https://carifilms.com/films/page/75?order=DESC&is_meta_key=0&orderby=title#038;is_meta_key=0&orderby=title> (referer: None)\n"
     ]
    },
    {
     "name": "stdout",
     "output_type": "stream",
     "text": [
      "Banyak url film 701\n",
      "Banyak url film 702\n",
      "Banyak url film 703\n",
      "Banyak url film 704\n",
      "Banyak url film 705\n",
      "Banyak url film 706\n",
      "Banyak url film 707\n",
      "Banyak url film 708\n",
      "Banyak url film 709\n",
      "Banyak url film 710\n"
     ]
    },
    {
     "name": "stderr",
     "output_type": "stream",
     "text": [
      "2020-12-04 12:36:21 [scrapy.core.engine] DEBUG: Crawled (200) <GET https://carifilms.com/films/page/77?order=DESC&is_meta_key=0&orderby=title#038;is_meta_key=0&orderby=title> (referer: None)\n"
     ]
    },
    {
     "name": "stdout",
     "output_type": "stream",
     "text": [
      "Banyak url film 711\n",
      "Banyak url film 712\n",
      "Banyak url film 713\n",
      "Banyak url film 714\n",
      "Banyak url film 715\n",
      "Banyak url film 716\n",
      "Banyak url film 717\n",
      "Banyak url film 718\n",
      "Banyak url film 719\n",
      "Banyak url film 720\n"
     ]
    },
    {
     "name": "stderr",
     "output_type": "stream",
     "text": [
      "2020-12-04 12:36:25 [scrapy.core.engine] DEBUG: Crawled (200) <GET https://carifilms.com/films/page/76?order=DESC&is_meta_key=0&orderby=title#038;is_meta_key=0&orderby=title> (referer: None)\n"
     ]
    },
    {
     "name": "stdout",
     "output_type": "stream",
     "text": [
      "Banyak url film 721\n",
      "Banyak url film 722\n",
      "Banyak url film 723\n",
      "Banyak url film 724\n",
      "Banyak url film 725\n",
      "Banyak url film 726\n",
      "Banyak url film 727\n",
      "Banyak url film 728\n",
      "Banyak url film 729\n",
      "Banyak url film 730\n"
     ]
    },
    {
     "name": "stderr",
     "output_type": "stream",
     "text": [
      "2020-12-04 12:36:39 [scrapy.extensions.logstats] INFO: Crawled 73 pages (at 14 pages/min), scraped 0 items (at 0 items/min)\n",
      "2020-12-04 12:37:39 [scrapy.extensions.logstats] INFO: Crawled 73 pages (at 0 pages/min), scraped 0 items (at 0 items/min)\n",
      "2020-12-04 12:38:31 [scrapy.downloadermiddlewares.retry] DEBUG: Retrying <GET https://carifilms.com/films/page/65?order=DESC&is_meta_key=0&orderby=title#038;is_meta_key=0&orderby=title> (failed 1 times): User timeout caused connection failure: Getting https://carifilms.com/films/page/65?order=DESC&is_meta_key=0&orderby=title took longer than 180.0 seconds..\n",
      "2020-12-04 12:38:35 [scrapy.core.engine] DEBUG: Crawled (200) <GET https://carifilms.com/films/page/82?order=DESC&is_meta_key=0&orderby=title#038;is_meta_key=0&orderby=title> (referer: None)\n"
     ]
    },
    {
     "name": "stdout",
     "output_type": "stream",
     "text": [
      "Banyak url film 731\n",
      "Banyak url film 732\n",
      "Banyak url film 733\n",
      "Banyak url film 734\n",
      "Banyak url film 735\n",
      "Banyak url film 736\n",
      "Banyak url film 737\n",
      "Banyak url film 738\n",
      "Banyak url film 739\n",
      "Banyak url film 740\n"
     ]
    },
    {
     "name": "stderr",
     "output_type": "stream",
     "text": [
      "2020-12-04 12:38:38 [scrapy.downloadermiddlewares.retry] DEBUG: Retrying <GET https://carifilms.com/films/page/67?order=DESC&is_meta_key=0&orderby=title#038;is_meta_key=0&orderby=title> (failed 1 times): User timeout caused connection failure: Getting https://carifilms.com/films/page/67?order=DESC&is_meta_key=0&orderby=title took longer than 180.0 seconds..\n",
      "2020-12-04 12:38:39 [scrapy.extensions.logstats] INFO: Crawled 74 pages (at 1 pages/min), scraped 0 items (at 0 items/min)\n",
      "2020-12-04 12:38:40 [scrapy.core.engine] DEBUG: Crawled (200) <GET https://carifilms.com/films/page/83?order=DESC&is_meta_key=0&orderby=title#038;is_meta_key=0&orderby=title> (referer: None)\n"
     ]
    },
    {
     "name": "stdout",
     "output_type": "stream",
     "text": [
      "Banyak url film 741\n",
      "Banyak url film 742\n",
      "Banyak url film 743\n",
      "Banyak url film 744\n",
      "Banyak url film 745\n",
      "Banyak url film 746\n",
      "Banyak url film 747\n",
      "Banyak url film 748\n",
      "Banyak url film 749\n",
      "Banyak url film 750\n"
     ]
    },
    {
     "name": "stderr",
     "output_type": "stream",
     "text": [
      "2020-12-04 12:38:43 [scrapy.core.engine] DEBUG: Crawled (200) <GET https://carifilms.com/films/page/84?order=DESC&is_meta_key=0&orderby=title#038;is_meta_key=0&orderby=title> (referer: None)\n"
     ]
    },
    {
     "name": "stdout",
     "output_type": "stream",
     "text": [
      "Banyak url film 751\n",
      "Banyak url film 752\n",
      "Banyak url film 753\n",
      "Banyak url film 754\n",
      "Banyak url film 755\n",
      "Banyak url film 756\n",
      "Banyak url film 757\n",
      "Banyak url film 758\n",
      "Banyak url film 759\n",
      "Banyak url film 760\n"
     ]
    },
    {
     "name": "stderr",
     "output_type": "stream",
     "text": [
      "2020-12-04 12:38:47 [scrapy.core.engine] DEBUG: Crawled (200) <GET https://carifilms.com/films/page/85?order=DESC&is_meta_key=0&orderby=title#038;is_meta_key=0&orderby=title> (referer: None)\n"
     ]
    },
    {
     "name": "stdout",
     "output_type": "stream",
     "text": [
      "Banyak url film 761\n",
      "Banyak url film 762\n",
      "Banyak url film 763\n",
      "Banyak url film 764\n",
      "Banyak url film 765\n",
      "Banyak url film 766\n",
      "Banyak url film 767\n",
      "Banyak url film 768\n",
      "Banyak url film 769\n",
      "Banyak url film 770\n"
     ]
    },
    {
     "name": "stderr",
     "output_type": "stream",
     "text": [
      "2020-12-04 12:38:48 [scrapy.downloadermiddlewares.retry] DEBUG: Retrying <GET https://carifilms.com/films/page/70?order=DESC&is_meta_key=0&orderby=title#038;is_meta_key=0&orderby=title> (failed 1 times): User timeout caused connection failure: Getting https://carifilms.com/films/page/70?order=DESC&is_meta_key=0&orderby=title took longer than 180.0 seconds..\n",
      "2020-12-04 12:38:50 [scrapy.core.engine] DEBUG: Crawled (200) <GET https://carifilms.com/films/page/86?order=DESC&is_meta_key=0&orderby=title#038;is_meta_key=0&orderby=title> (referer: None)\n"
     ]
    },
    {
     "name": "stdout",
     "output_type": "stream",
     "text": [
      "Banyak url film 771\n",
      "Banyak url film 772\n",
      "Banyak url film 773\n",
      "Banyak url film 774\n",
      "Banyak url film 775\n",
      "Banyak url film 776\n",
      "Banyak url film 777\n",
      "Banyak url film 778\n",
      "Banyak url film 779\n",
      "Banyak url film 780\n"
     ]
    },
    {
     "name": "stderr",
     "output_type": "stream",
     "text": [
      "2020-12-04 12:38:54 [scrapy.core.engine] DEBUG: Crawled (200) <GET https://carifilms.com/films/page/87?order=DESC&is_meta_key=0&orderby=title#038;is_meta_key=0&orderby=title> (referer: None)\n"
     ]
    },
    {
     "name": "stdout",
     "output_type": "stream",
     "text": [
      "Banyak url film 781\n",
      "Banyak url film 782\n",
      "Banyak url film 783\n",
      "Banyak url film 784\n",
      "Banyak url film 785\n",
      "Banyak url film 786\n",
      "Banyak url film 787\n",
      "Banyak url film 788\n",
      "Banyak url film 789\n",
      "Banyak url film 790\n"
     ]
    },
    {
     "name": "stderr",
     "output_type": "stream",
     "text": [
      "2020-12-04 12:38:57 [scrapy.core.engine] DEBUG: Crawled (200) <GET https://carifilms.com/films/page/88?order=DESC&is_meta_key=0&orderby=title#038;is_meta_key=0&orderby=title> (referer: None)\n",
      "2020-12-04 12:38:58 [scrapy.downloadermiddlewares.retry] DEBUG: Retrying <GET https://carifilms.com/films/page/73?order=DESC&is_meta_key=0&orderby=title#038;is_meta_key=0&orderby=title> (failed 1 times): User timeout caused connection failure: Getting https://carifilms.com/films/page/73?order=DESC&is_meta_key=0&orderby=title took longer than 180.0 seconds..\n"
     ]
    },
    {
     "name": "stdout",
     "output_type": "stream",
     "text": [
      "Banyak url film 791\n",
      "Banyak url film 792\n",
      "Banyak url film 793\n",
      "Banyak url film 794\n",
      "Banyak url film 795\n",
      "Banyak url film 796\n",
      "Banyak url film 797\n",
      "Banyak url film 798\n",
      "Banyak url film 799\n",
      "Banyak url film 800\n"
     ]
    },
    {
     "name": "stderr",
     "output_type": "stream",
     "text": [
      "2020-12-04 12:39:01 [scrapy.core.engine] DEBUG: Crawled (200) <GET https://carifilms.com/films/page/65?order=DESC&is_meta_key=0&orderby=title#038;is_meta_key=0&orderby=title> (referer: None)\n"
     ]
    },
    {
     "name": "stdout",
     "output_type": "stream",
     "text": [
      "Banyak url film 801\n",
      "Banyak url film 802\n",
      "Banyak url film 803\n",
      "Banyak url film 804\n",
      "Banyak url film 805\n",
      "Banyak url film 806\n",
      "Banyak url film 807\n",
      "Banyak url film 808\n",
      "Banyak url film 809\n",
      "Banyak url film 810\n"
     ]
    },
    {
     "name": "stderr",
     "output_type": "stream",
     "text": [
      "2020-12-04 12:39:04 [scrapy.core.engine] DEBUG: Crawled (200) <GET https://carifilms.com/films/page/90?order=DESC&is_meta_key=0&orderby=title#038;is_meta_key=0&orderby=title> (referer: None)\n"
     ]
    },
    {
     "name": "stdout",
     "output_type": "stream",
     "text": [
      "Banyak url film 811\n",
      "Banyak url film 812\n",
      "Banyak url film 813\n",
      "Banyak url film 814\n",
      "Banyak url film 815\n",
      "Banyak url film 816\n",
      "Banyak url film 817\n",
      "Banyak url film 818\n",
      "Banyak url film 819\n",
      "Banyak url film 820\n"
     ]
    },
    {
     "name": "stderr",
     "output_type": "stream",
     "text": [
      "2020-12-04 12:39:07 [scrapy.core.engine] DEBUG: Crawled (200) <GET https://carifilms.com/films/page/89?order=DESC&is_meta_key=0&orderby=title#038;is_meta_key=0&orderby=title> (referer: None)\n"
     ]
    },
    {
     "name": "stdout",
     "output_type": "stream",
     "text": [
      "Banyak url film 821\n",
      "Banyak url film 822\n",
      "Banyak url film 823\n",
      "Banyak url film 824\n",
      "Banyak url film 825\n",
      "Banyak url film 826\n",
      "Banyak url film 827\n",
      "Banyak url film 828\n",
      "Banyak url film 829\n",
      "Banyak url film 830\n"
     ]
    },
    {
     "name": "stderr",
     "output_type": "stream",
     "text": [
      "2020-12-04 12:39:11 [scrapy.core.engine] DEBUG: Crawled (200) <GET https://carifilms.com/films/page/67?order=DESC&is_meta_key=0&orderby=title#038;is_meta_key=0&orderby=title> (referer: None)\n"
     ]
    },
    {
     "name": "stdout",
     "output_type": "stream",
     "text": [
      "Banyak url film 831\n",
      "Banyak url film 832\n",
      "Banyak url film 833\n",
      "Banyak url film 834\n",
      "Banyak url film 835\n",
      "Banyak url film 836\n",
      "Banyak url film 837\n",
      "Banyak url film 838\n",
      "Banyak url film 839\n",
      "Banyak url film 840\n"
     ]
    },
    {
     "name": "stderr",
     "output_type": "stream",
     "text": [
      "2020-12-04 12:39:14 [scrapy.core.engine] DEBUG: Crawled (200) <GET https://carifilms.com/films/page/92?order=DESC&is_meta_key=0&orderby=title#038;is_meta_key=0&orderby=title> (referer: None)\n"
     ]
    },
    {
     "name": "stdout",
     "output_type": "stream",
     "text": [
      "Banyak url film 841\n",
      "Banyak url film 842\n",
      "Banyak url film 843\n",
      "Banyak url film 844\n",
      "Banyak url film 845\n",
      "Banyak url film 846\n",
      "Banyak url film 847\n",
      "Banyak url film 848\n",
      "Banyak url film 849\n",
      "Banyak url film 850\n"
     ]
    },
    {
     "name": "stderr",
     "output_type": "stream",
     "text": [
      "2020-12-04 12:39:15 [scrapy.downloadermiddlewares.retry] DEBUG: Retrying <GET https://carifilms.com/films/page/78?order=DESC&is_meta_key=0&orderby=title#038;is_meta_key=0&orderby=title> (failed 1 times): User timeout caused connection failure: Getting https://carifilms.com/films/page/78?order=DESC&is_meta_key=0&orderby=title took longer than 180.0 seconds..\n",
      "2020-12-04 12:39:17 [scrapy.core.engine] DEBUG: Crawled (200) <GET https://carifilms.com/films/page/91?order=DESC&is_meta_key=0&orderby=title#038;is_meta_key=0&orderby=title> (referer: None)\n"
     ]
    },
    {
     "name": "stdout",
     "output_type": "stream",
     "text": [
      "Banyak url film 851\n",
      "Banyak url film 852\n",
      "Banyak url film 853\n",
      "Banyak url film 854\n",
      "Banyak url film 855\n",
      "Banyak url film 856\n",
      "Banyak url film 857\n",
      "Banyak url film 858\n",
      "Banyak url film 859\n",
      "Banyak url film 860\n"
     ]
    },
    {
     "name": "stderr",
     "output_type": "stream",
     "text": [
      "2020-12-04 12:39:18 [scrapy.downloadermiddlewares.retry] DEBUG: Retrying <GET https://carifilms.com/films/page/79?order=DESC&is_meta_key=0&orderby=title#038;is_meta_key=0&orderby=title> (failed 1 times): User timeout caused connection failure: Getting https://carifilms.com/films/page/79?order=DESC&is_meta_key=0&orderby=title took longer than 180.0 seconds..\n",
      "2020-12-04 12:39:21 [scrapy.core.engine] DEBUG: Crawled (200) <GET https://carifilms.com/films/page/70?order=DESC&is_meta_key=0&orderby=title#038;is_meta_key=0&orderby=title> (referer: None)\n"
     ]
    },
    {
     "name": "stdout",
     "output_type": "stream",
     "text": [
      "Banyak url film 861\n",
      "Banyak url film 862\n",
      "Banyak url film 863\n",
      "Banyak url film 864\n",
      "Banyak url film 865\n",
      "Banyak url film 866\n",
      "Banyak url film 867\n",
      "Banyak url film 868\n",
      "Banyak url film 869\n",
      "Banyak url film 870\n"
     ]
    },
    {
     "name": "stderr",
     "output_type": "stream",
     "text": [
      "2020-12-04 12:39:22 [scrapy.downloadermiddlewares.retry] DEBUG: Retrying <GET https://carifilms.com/films/page/80?order=DESC&is_meta_key=0&orderby=title#038;is_meta_key=0&orderby=title> (failed 1 times): User timeout caused connection failure: Getting https://carifilms.com/films/page/80?order=DESC&is_meta_key=0&orderby=title took longer than 180.0 seconds..\n",
      "2020-12-04 12:39:24 [scrapy.core.engine] DEBUG: Crawled (200) <GET https://carifilms.com/films/page/94?order=DESC&is_meta_key=0&orderby=title#038;is_meta_key=0&orderby=title> (referer: None)\n"
     ]
    },
    {
     "name": "stdout",
     "output_type": "stream",
     "text": [
      "Banyak url film 871\n",
      "Banyak url film 872\n",
      "Banyak url film 873\n",
      "Banyak url film 874\n",
      "Banyak url film 875\n",
      "Banyak url film 876\n",
      "Banyak url film 877\n",
      "Banyak url film 878\n",
      "Banyak url film 879\n",
      "Banyak url film 880\n"
     ]
    },
    {
     "name": "stderr",
     "output_type": "stream",
     "text": [
      "2020-12-04 12:39:25 [scrapy.downloadermiddlewares.retry] DEBUG: Retrying <GET https://carifilms.com/films/page/81?order=DESC&is_meta_key=0&orderby=title#038;is_meta_key=0&orderby=title> (failed 1 times): User timeout caused connection failure: Getting https://carifilms.com/films/page/81?order=DESC&is_meta_key=0&orderby=title took longer than 180.0 seconds..\n",
      "2020-12-04 12:39:27 [scrapy.core.engine] DEBUG: Crawled (200) <GET https://carifilms.com/films/page/93?order=DESC&is_meta_key=0&orderby=title#038;is_meta_key=0&orderby=title> (referer: None)\n"
     ]
    },
    {
     "name": "stdout",
     "output_type": "stream",
     "text": [
      "Banyak url film 881\n",
      "Banyak url film 882\n",
      "Banyak url film 883\n",
      "Banyak url film 884\n",
      "Banyak url film 885\n",
      "Banyak url film 886\n",
      "Banyak url film 887\n",
      "Banyak url film 888\n",
      "Banyak url film 889\n",
      "Banyak url film 890\n"
     ]
    },
    {
     "name": "stderr",
     "output_type": "stream",
     "text": [
      "2020-12-04 12:39:30 [scrapy.core.engine] DEBUG: Crawled (200) <GET https://carifilms.com/films/page/73?order=DESC&is_meta_key=0&orderby=title#038;is_meta_key=0&orderby=title> (referer: None)\n"
     ]
    },
    {
     "name": "stdout",
     "output_type": "stream",
     "text": [
      "Banyak url film 891\n",
      "Banyak url film 892\n",
      "Banyak url film 893\n",
      "Banyak url film 894\n",
      "Banyak url film 895\n",
      "Banyak url film 896\n",
      "Banyak url film 897\n",
      "Banyak url film 898\n",
      "Banyak url film 899\n",
      "Banyak url film 900\n"
     ]
    },
    {
     "name": "stderr",
     "output_type": "stream",
     "text": [
      "2020-12-04 12:39:34 [scrapy.core.engine] DEBUG: Crawled (200) <GET https://carifilms.com/films/page/95?order=DESC&is_meta_key=0&orderby=title#038;is_meta_key=0&orderby=title> (referer: None)\n"
     ]
    },
    {
     "name": "stdout",
     "output_type": "stream",
     "text": [
      "Banyak url film 901\n",
      "Banyak url film 902\n",
      "Banyak url film 903\n",
      "Banyak url film 904\n",
      "Banyak url film 905\n",
      "Banyak url film 906\n",
      "Banyak url film 907\n",
      "Banyak url film 908\n",
      "Banyak url film 909\n",
      "Banyak url film 910\n"
     ]
    },
    {
     "name": "stderr",
     "output_type": "stream",
     "text": [
      "2020-12-04 12:39:37 [scrapy.core.engine] DEBUG: Crawled (200) <GET https://carifilms.com/films/page/99?order=DESC&is_meta_key=0&orderby=title#038;is_meta_key=0&orderby=title> (referer: None)\n"
     ]
    },
    {
     "name": "stdout",
     "output_type": "stream",
     "text": [
      "Banyak url film 911\n",
      "Banyak url film 912\n",
      "Banyak url film 913\n",
      "Banyak url film 914\n",
      "Banyak url film 915\n",
      "Banyak url film 916\n",
      "Banyak url film 917\n",
      "Banyak url film 918\n",
      "Banyak url film 919\n",
      "Banyak url film 920\n"
     ]
    },
    {
     "name": "stderr",
     "output_type": "stream",
     "text": [
      "2020-12-04 12:39:39 [scrapy.extensions.logstats] INFO: Crawled 92 pages (at 18 pages/min), scraped 0 items (at 0 items/min)\n",
      "2020-12-04 12:39:41 [scrapy.core.engine] DEBUG: Crawled (200) <GET https://carifilms.com/films/page/97?order=DESC&is_meta_key=0&orderby=title#038;is_meta_key=0&orderby=title> (referer: None)\n"
     ]
    },
    {
     "name": "stdout",
     "output_type": "stream",
     "text": [
      "Banyak url film 921\n",
      "Banyak url film 922\n",
      "Banyak url film 923\n",
      "Banyak url film 924\n",
      "Banyak url film 925\n",
      "Banyak url film 926\n",
      "Banyak url film 927\n",
      "Banyak url film 928\n",
      "Banyak url film 929\n",
      "Banyak url film 930\n"
     ]
    },
    {
     "name": "stderr",
     "output_type": "stream",
     "text": [
      "2020-12-04 12:39:44 [scrapy.core.engine] DEBUG: Crawled (200) <GET https://carifilms.com/films/page/96?order=DESC&is_meta_key=0&orderby=title#038;is_meta_key=0&orderby=title> (referer: None)\n"
     ]
    },
    {
     "name": "stdout",
     "output_type": "stream",
     "text": [
      "Banyak url film 931\n",
      "Banyak url film 932\n",
      "Banyak url film 933\n",
      "Banyak url film 934\n",
      "Banyak url film 935\n",
      "Banyak url film 936\n",
      "Banyak url film 937\n",
      "Banyak url film 938\n",
      "Banyak url film 939\n",
      "Banyak url film 940\n"
     ]
    },
    {
     "name": "stderr",
     "output_type": "stream",
     "text": [
      "2020-12-04 12:39:48 [scrapy.core.engine] DEBUG: Crawled (200) <GET https://carifilms.com/films/page/79?order=DESC&is_meta_key=0&orderby=title#038;is_meta_key=0&orderby=title> (referer: None)\n"
     ]
    },
    {
     "name": "stdout",
     "output_type": "stream",
     "text": [
      "Banyak url film 941\n",
      "Banyak url film 942\n",
      "Banyak url film 943\n",
      "Banyak url film 944\n",
      "Banyak url film 945\n",
      "Banyak url film 946\n",
      "Banyak url film 947\n",
      "Banyak url film 948\n",
      "Banyak url film 949\n",
      "Banyak url film 950\n"
     ]
    },
    {
     "name": "stderr",
     "output_type": "stream",
     "text": [
      "2020-12-04 12:39:51 [scrapy.core.engine] DEBUG: Crawled (200) <GET https://carifilms.com/films/page/100?order=DESC&is_meta_key=0&orderby=title#038;is_meta_key=0&orderby=title> (referer: None)\n"
     ]
    },
    {
     "name": "stdout",
     "output_type": "stream",
     "text": [
      "Banyak url film 951\n",
      "Banyak url film 952\n",
      "Banyak url film 953\n",
      "Banyak url film 954\n",
      "Banyak url film 955\n",
      "Banyak url film 956\n",
      "Banyak url film 957\n",
      "Banyak url film 958\n",
      "Banyak url film 959\n",
      "Banyak url film 960\n"
     ]
    },
    {
     "name": "stderr",
     "output_type": "stream",
     "text": [
      "2020-12-04 12:39:55 [scrapy.core.engine] DEBUG: Crawled (200) <GET https://carifilms.com/films/page/80?order=DESC&is_meta_key=0&orderby=title#038;is_meta_key=0&orderby=title> (referer: None)\n"
     ]
    },
    {
     "name": "stdout",
     "output_type": "stream",
     "text": [
      "Banyak url film 961\n",
      "Banyak url film 962\n",
      "Banyak url film 963\n",
      "Banyak url film 964\n",
      "Banyak url film 965\n",
      "Banyak url film 966\n",
      "Banyak url film 967\n",
      "Banyak url film 968\n",
      "Banyak url film 969\n",
      "Banyak url film 970\n"
     ]
    },
    {
     "name": "stderr",
     "output_type": "stream",
     "text": [
      "2020-12-04 12:39:58 [scrapy.core.engine] DEBUG: Crawled (200) <GET https://carifilms.com/films/page/102?order=DESC&is_meta_key=0&orderby=title#038;is_meta_key=0&orderby=title> (referer: None)\n"
     ]
    },
    {
     "name": "stdout",
     "output_type": "stream",
     "text": [
      "Banyak url film 971\n",
      "Banyak url film 972\n",
      "Banyak url film 973\n",
      "Banyak url film 974\n",
      "Banyak url film 975\n",
      "Banyak url film 976\n",
      "Banyak url film 977\n",
      "Banyak url film 978\n",
      "Banyak url film 979\n",
      "Banyak url film 980\n"
     ]
    },
    {
     "name": "stderr",
     "output_type": "stream",
     "text": [
      "2020-12-04 12:40:01 [scrapy.core.engine] DEBUG: Crawled (200) <GET https://carifilms.com/films/page/78?order=DESC&is_meta_key=0&orderby=title#038;is_meta_key=0&orderby=title> (referer: None)\n"
     ]
    },
    {
     "name": "stdout",
     "output_type": "stream",
     "text": [
      "Banyak url film 981\n",
      "Banyak url film 982\n",
      "Banyak url film 983\n",
      "Banyak url film 984\n",
      "Banyak url film 985\n",
      "Banyak url film 986\n",
      "Banyak url film 987\n",
      "Banyak url film 988\n",
      "Banyak url film 989\n",
      "Banyak url film 990\n"
     ]
    },
    {
     "name": "stderr",
     "output_type": "stream",
     "text": [
      "2020-12-04 12:40:05 [scrapy.core.engine] DEBUG: Crawled (200) <GET https://carifilms.com/films/page/81?order=DESC&is_meta_key=0&orderby=title#038;is_meta_key=0&orderby=title> (referer: None)\n"
     ]
    },
    {
     "name": "stdout",
     "output_type": "stream",
     "text": [
      "Banyak url film 991\n",
      "Banyak url film 992\n",
      "Banyak url film 993\n",
      "Banyak url film 994\n",
      "Banyak url film 995\n",
      "Banyak url film 996\n",
      "Banyak url film 997\n",
      "Banyak url film 998\n",
      "Banyak url film 999\n",
      "Banyak url film 1000\n"
     ]
    },
    {
     "name": "stderr",
     "output_type": "stream",
     "text": [
      "2020-12-04 12:40:10 [scrapy.core.engine] DEBUG: Crawled (200) <GET https://carifilms.com/films/page/101?order=DESC&is_meta_key=0&orderby=title#038;is_meta_key=0&orderby=title> (referer: None)\n"
     ]
    },
    {
     "name": "stdout",
     "output_type": "stream",
     "text": [
      "Banyak url film 1001\n",
      "Banyak url film 1002\n",
      "Banyak url film 1003\n",
      "Banyak url film 1004\n",
      "Banyak url film 1005\n",
      "Banyak url film 1006\n",
      "Banyak url film 1007\n",
      "Banyak url film 1008\n",
      "Banyak url film 1009\n",
      "Banyak url film 1010\n"
     ]
    },
    {
     "name": "stderr",
     "output_type": "stream",
     "text": [
      "2020-12-04 12:40:13 [scrapy.core.engine] DEBUG: Crawled (200) <GET https://carifilms.com/films/page/106?order=DESC&is_meta_key=0&orderby=title#038;is_meta_key=0&orderby=title> (referer: None)\n"
     ]
    },
    {
     "name": "stdout",
     "output_type": "stream",
     "text": [
      "Banyak url film 1011\n",
      "Banyak url film 1012\n",
      "Banyak url film 1013\n",
      "Banyak url film 1014\n",
      "Banyak url film 1015\n",
      "Banyak url film 1016\n",
      "Banyak url film 1017\n",
      "Banyak url film 1018\n",
      "Banyak url film 1019\n",
      "Banyak url film 1020\n"
     ]
    },
    {
     "name": "stderr",
     "output_type": "stream",
     "text": [
      "2020-12-04 12:40:17 [scrapy.core.engine] DEBUG: Crawled (200) <GET https://carifilms.com/films/page/104?order=DESC&is_meta_key=0&orderby=title#038;is_meta_key=0&orderby=title> (referer: None)\n"
     ]
    },
    {
     "name": "stdout",
     "output_type": "stream",
     "text": [
      "Banyak url film 1021\n",
      "Banyak url film 1022\n",
      "Banyak url film 1023\n",
      "Banyak url film 1024\n",
      "Banyak url film 1025\n",
      "Banyak url film 1026\n",
      "Banyak url film 1027\n",
      "Banyak url film 1028\n",
      "Banyak url film 1029\n",
      "Banyak url film 1030\n"
     ]
    },
    {
     "name": "stderr",
     "output_type": "stream",
     "text": [
      "2020-12-04 12:40:20 [scrapy.core.engine] DEBUG: Crawled (200) <GET https://carifilms.com/films/page/98?order=DESC&is_meta_key=0&orderby=title#038;is_meta_key=0&orderby=title> (referer: None)\n"
     ]
    },
    {
     "name": "stdout",
     "output_type": "stream",
     "text": [
      "Banyak url film 1031\n",
      "Banyak url film 1032\n",
      "Banyak url film 1033\n",
      "Banyak url film 1034\n",
      "Banyak url film 1035\n",
      "Banyak url film 1036\n",
      "Banyak url film 1037\n",
      "Banyak url film 1038\n",
      "Banyak url film 1039\n",
      "Banyak url film 1040\n"
     ]
    },
    {
     "name": "stderr",
     "output_type": "stream",
     "text": [
      "2020-12-04 12:40:23 [scrapy.core.engine] DEBUG: Crawled (200) <GET https://carifilms.com/films/page/103?order=DESC&is_meta_key=0&orderby=title#038;is_meta_key=0&orderby=title> (referer: None)\n"
     ]
    },
    {
     "name": "stdout",
     "output_type": "stream",
     "text": [
      "Banyak url film 1041\n",
      "Banyak url film 1042\n",
      "Banyak url film 1043\n",
      "Banyak url film 1044\n",
      "Banyak url film 1045\n",
      "Banyak url film 1046\n",
      "Banyak url film 1047\n",
      "Banyak url film 1048\n",
      "Banyak url film 1049\n",
      "Banyak url film 1050\n"
     ]
    },
    {
     "name": "stderr",
     "output_type": "stream",
     "text": [
      "2020-12-04 12:40:27 [scrapy.core.engine] DEBUG: Crawled (200) <GET https://carifilms.com/films/page/109?order=DESC&is_meta_key=0&orderby=title#038;is_meta_key=0&orderby=title> (referer: None)\n"
     ]
    },
    {
     "name": "stdout",
     "output_type": "stream",
     "text": [
      "Banyak url film 1051\n",
      "Banyak url film 1052\n",
      "Banyak url film 1053\n",
      "Banyak url film 1054\n",
      "Banyak url film 1055\n",
      "Banyak url film 1056\n",
      "Banyak url film 1057\n",
      "Banyak url film 1058\n",
      "Banyak url film 1059\n",
      "Banyak url film 1060\n"
     ]
    },
    {
     "name": "stderr",
     "output_type": "stream",
     "text": [
      "2020-12-04 12:40:30 [scrapy.core.engine] DEBUG: Crawled (200) <GET https://carifilms.com/films/page/108?order=DESC&is_meta_key=0&orderby=title#038;is_meta_key=0&orderby=title> (referer: None)\n"
     ]
    },
    {
     "name": "stdout",
     "output_type": "stream",
     "text": [
      "Banyak url film 1061\n",
      "Banyak url film 1062\n",
      "Banyak url film 1063\n",
      "Banyak url film 1064\n",
      "Banyak url film 1065\n",
      "Banyak url film 1066\n",
      "Banyak url film 1067\n",
      "Banyak url film 1068\n",
      "Banyak url film 1069\n",
      "Banyak url film 1070\n"
     ]
    },
    {
     "name": "stderr",
     "output_type": "stream",
     "text": [
      "2020-12-04 12:40:33 [scrapy.core.engine] DEBUG: Crawled (200) <GET https://carifilms.com/films/page/107?order=DESC&is_meta_key=0&orderby=title#038;is_meta_key=0&orderby=title> (referer: None)\n"
     ]
    },
    {
     "name": "stdout",
     "output_type": "stream",
     "text": [
      "Banyak url film 1071\n",
      "Banyak url film 1072\n",
      "Banyak url film 1073\n",
      "Banyak url film 1074\n",
      "Banyak url film 1075\n",
      "Banyak url film 1076\n",
      "Banyak url film 1077\n",
      "Banyak url film 1078\n",
      "Banyak url film 1079\n",
      "Banyak url film 1080\n"
     ]
    },
    {
     "name": "stderr",
     "output_type": "stream",
     "text": [
      "2020-12-04 12:40:37 [scrapy.core.engine] DEBUG: Crawled (200) <GET https://carifilms.com/films/page/113?order=DESC&is_meta_key=0&orderby=title#038;is_meta_key=0&orderby=title> (referer: None)\n"
     ]
    },
    {
     "name": "stdout",
     "output_type": "stream",
     "text": [
      "Banyak url film 1081\n",
      "Banyak url film 1082\n",
      "Banyak url film 1083\n",
      "Banyak url film 1084\n",
      "Banyak url film 1085\n",
      "Banyak url film 1086\n",
      "Banyak url film 1087\n",
      "Banyak url film 1088\n",
      "Banyak url film 1089\n",
      "Banyak url film 1090\n"
     ]
    },
    {
     "name": "stderr",
     "output_type": "stream",
     "text": [
      "2020-12-04 12:40:39 [scrapy.extensions.logstats] INFO: Crawled 109 pages (at 17 pages/min), scraped 0 items (at 0 items/min)\n",
      "2020-12-04 12:40:40 [scrapy.core.engine] DEBUG: Crawled (200) <GET https://carifilms.com/films/page/111?order=DESC&is_meta_key=0&orderby=title#038;is_meta_key=0&orderby=title> (referer: None)\n"
     ]
    },
    {
     "name": "stdout",
     "output_type": "stream",
     "text": [
      "Banyak url film 1091\n",
      "Banyak url film 1092\n",
      "Banyak url film 1093\n",
      "Banyak url film 1094\n",
      "Banyak url film 1095\n",
      "Banyak url film 1096\n",
      "Banyak url film 1097\n",
      "Banyak url film 1098\n",
      "Banyak url film 1099\n",
      "Banyak url film 1100\n"
     ]
    },
    {
     "name": "stderr",
     "output_type": "stream",
     "text": [
      "2020-12-04 12:40:44 [scrapy.core.engine] DEBUG: Crawled (200) <GET https://carifilms.com/films/page/112?order=DESC&is_meta_key=0&orderby=title#038;is_meta_key=0&orderby=title> (referer: None)\n"
     ]
    },
    {
     "name": "stdout",
     "output_type": "stream",
     "text": [
      "Banyak url film 1101\n",
      "Banyak url film 1102\n",
      "Banyak url film 1103\n",
      "Banyak url film 1104\n",
      "Banyak url film 1105\n",
      "Banyak url film 1106\n",
      "Banyak url film 1107\n",
      "Banyak url film 1108\n",
      "Banyak url film 1109\n",
      "Banyak url film 1110\n"
     ]
    },
    {
     "name": "stderr",
     "output_type": "stream",
     "text": [
      "2020-12-04 12:40:47 [scrapy.core.engine] DEBUG: Crawled (200) <GET https://carifilms.com/films/page/110?order=DESC&is_meta_key=0&orderby=title#038;is_meta_key=0&orderby=title> (referer: None)\n"
     ]
    },
    {
     "name": "stdout",
     "output_type": "stream",
     "text": [
      "Banyak url film 1111\n",
      "Banyak url film 1112\n",
      "Banyak url film 1113\n",
      "Banyak url film 1114\n",
      "Banyak url film 1115\n",
      "Banyak url film 1116\n",
      "Banyak url film 1117\n",
      "Banyak url film 1118\n",
      "Banyak url film 1119\n",
      "Banyak url film 1120\n"
     ]
    },
    {
     "name": "stderr",
     "output_type": "stream",
     "text": [
      "2020-12-04 12:40:50 [scrapy.core.engine] DEBUG: Crawled (200) <GET https://carifilms.com/films/page/117?order=DESC&is_meta_key=0&orderby=title#038;is_meta_key=0&orderby=title> (referer: None)\n"
     ]
    },
    {
     "name": "stdout",
     "output_type": "stream",
     "text": [
      "Banyak url film 1121\n",
      "Banyak url film 1122\n",
      "Banyak url film 1123\n",
      "Banyak url film 1124\n",
      "Banyak url film 1125\n",
      "Banyak url film 1126\n",
      "Banyak url film 1127\n",
      "Banyak url film 1128\n",
      "Banyak url film 1129\n",
      "Banyak url film 1130\n"
     ]
    },
    {
     "name": "stderr",
     "output_type": "stream",
     "text": [
      "2020-12-04 12:40:54 [scrapy.core.engine] DEBUG: Crawled (200) <GET https://carifilms.com/films/page/119?order=DESC&is_meta_key=0&orderby=title#038;is_meta_key=0&orderby=title> (referer: None)\n"
     ]
    },
    {
     "name": "stdout",
     "output_type": "stream",
     "text": [
      "Banyak url film 1131\n",
      "Banyak url film 1132\n",
      "Banyak url film 1133\n",
      "Banyak url film 1134\n",
      "Banyak url film 1135\n",
      "Banyak url film 1136\n",
      "Banyak url film 1137\n",
      "Banyak url film 1138\n",
      "Banyak url film 1139\n",
      "Banyak url film 1140\n"
     ]
    },
    {
     "name": "stderr",
     "output_type": "stream",
     "text": [
      "2020-12-04 12:40:57 [scrapy.core.engine] DEBUG: Crawled (200) <GET https://carifilms.com/films/page/114?order=DESC&is_meta_key=0&orderby=title#038;is_meta_key=0&orderby=title> (referer: None)\n"
     ]
    },
    {
     "name": "stdout",
     "output_type": "stream",
     "text": [
      "Banyak url film 1141\n",
      "Banyak url film 1142\n",
      "Banyak url film 1143\n",
      "Banyak url film 1144\n",
      "Banyak url film 1145\n",
      "Banyak url film 1146\n",
      "Banyak url film 1147\n",
      "Banyak url film 1148\n",
      "Banyak url film 1149\n",
      "Banyak url film 1150\n"
     ]
    },
    {
     "name": "stderr",
     "output_type": "stream",
     "text": [
      "2020-12-04 12:41:01 [scrapy.core.engine] DEBUG: Crawled (200) <GET https://carifilms.com/films/page/116?order=DESC&is_meta_key=0&orderby=title#038;is_meta_key=0&orderby=title> (referer: None)\n"
     ]
    },
    {
     "name": "stdout",
     "output_type": "stream",
     "text": [
      "Banyak url film 1151\n",
      "Banyak url film 1152\n",
      "Banyak url film 1153\n",
      "Banyak url film 1154\n",
      "Banyak url film 1155\n",
      "Banyak url film 1156\n",
      "Banyak url film 1157\n",
      "Banyak url film 1158\n",
      "Banyak url film 1159\n",
      "Banyak url film 1160\n"
     ]
    },
    {
     "name": "stderr",
     "output_type": "stream",
     "text": [
      "2020-12-04 12:41:04 [scrapy.core.engine] DEBUG: Crawled (200) <GET https://carifilms.com/films/page/120?order=DESC&is_meta_key=0&orderby=title#038;is_meta_key=0&orderby=title> (referer: None)\n"
     ]
    },
    {
     "name": "stdout",
     "output_type": "stream",
     "text": [
      "Banyak url film 1161\n",
      "Banyak url film 1162\n",
      "Banyak url film 1163\n",
      "Banyak url film 1164\n",
      "Banyak url film 1165\n",
      "Banyak url film 1166\n",
      "Banyak url film 1167\n",
      "Banyak url film 1168\n",
      "Banyak url film 1169\n",
      "Banyak url film 1170\n"
     ]
    },
    {
     "name": "stderr",
     "output_type": "stream",
     "text": [
      "2020-12-04 12:41:08 [scrapy.core.engine] DEBUG: Crawled (200) <GET https://carifilms.com/films/page/121?order=DESC&is_meta_key=0&orderby=title#038;is_meta_key=0&orderby=title> (referer: None)\n"
     ]
    },
    {
     "name": "stdout",
     "output_type": "stream",
     "text": [
      "Banyak url film 1171\n",
      "Banyak url film 1172\n",
      "Banyak url film 1173\n",
      "Banyak url film 1174\n",
      "Banyak url film 1175\n",
      "Banyak url film 1176\n",
      "Banyak url film 1177\n",
      "Banyak url film 1178\n",
      "Banyak url film 1179\n",
      "Banyak url film 1180\n"
     ]
    },
    {
     "name": "stderr",
     "output_type": "stream",
     "text": [
      "2020-12-04 12:41:11 [scrapy.core.engine] DEBUG: Crawled (200) <GET https://carifilms.com/films/page/105?order=DESC&is_meta_key=0&orderby=title#038;is_meta_key=0&orderby=title> (referer: None)\n"
     ]
    },
    {
     "name": "stdout",
     "output_type": "stream",
     "text": [
      "Banyak url film 1181\n",
      "Banyak url film 1182\n",
      "Banyak url film 1183\n",
      "Banyak url film 1184\n",
      "Banyak url film 1185\n",
      "Banyak url film 1186\n",
      "Banyak url film 1187\n",
      "Banyak url film 1188\n",
      "Banyak url film 1189\n",
      "Banyak url film 1190\n"
     ]
    },
    {
     "name": "stderr",
     "output_type": "stream",
     "text": [
      "2020-12-04 12:41:14 [scrapy.core.engine] DEBUG: Crawled (200) <GET https://carifilms.com/films/page/125?order=DESC&is_meta_key=0&orderby=title#038;is_meta_key=0&orderby=title> (referer: None)\n"
     ]
    },
    {
     "name": "stdout",
     "output_type": "stream",
     "text": [
      "Banyak url film 1191\n",
      "Banyak url film 1192\n",
      "Banyak url film 1193\n",
      "Banyak url film 1194\n",
      "Banyak url film 1195\n",
      "Banyak url film 1196\n",
      "Banyak url film 1197\n",
      "Banyak url film 1198\n",
      "Banyak url film 1199\n",
      "Banyak url film 1200\n"
     ]
    },
    {
     "name": "stderr",
     "output_type": "stream",
     "text": [
      "2020-12-04 12:41:18 [scrapy.core.engine] DEBUG: Crawled (200) <GET https://carifilms.com/films/page/126?order=DESC&is_meta_key=0&orderby=title#038;is_meta_key=0&orderby=title> (referer: None)\n"
     ]
    },
    {
     "name": "stdout",
     "output_type": "stream",
     "text": [
      "Banyak url film 1201\n",
      "Banyak url film 1202\n",
      "Banyak url film 1203\n",
      "Banyak url film 1204\n",
      "Banyak url film 1205\n",
      "Banyak url film 1206\n",
      "Banyak url film 1207\n",
      "Banyak url film 1208\n",
      "Banyak url film 1209\n",
      "Banyak url film 1210\n"
     ]
    },
    {
     "name": "stderr",
     "output_type": "stream",
     "text": [
      "2020-12-04 12:41:22 [scrapy.core.engine] DEBUG: Crawled (200) <GET https://carifilms.com/films/page/115?order=DESC&is_meta_key=0&orderby=title#038;is_meta_key=0&orderby=title> (referer: None)\n"
     ]
    },
    {
     "name": "stdout",
     "output_type": "stream",
     "text": [
      "Banyak url film 1211\n",
      "Banyak url film 1212\n",
      "Banyak url film 1213\n",
      "Banyak url film 1214\n",
      "Banyak url film 1215\n",
      "Banyak url film 1216\n",
      "Banyak url film 1217\n",
      "Banyak url film 1218\n",
      "Banyak url film 1219\n",
      "Banyak url film 1220\n"
     ]
    },
    {
     "name": "stderr",
     "output_type": "stream",
     "text": [
      "2020-12-04 12:41:25 [scrapy.core.engine] DEBUG: Crawled (200) <GET https://carifilms.com/films/page/124?order=DESC&is_meta_key=0&orderby=title#038;is_meta_key=0&orderby=title> (referer: None)\n"
     ]
    },
    {
     "name": "stdout",
     "output_type": "stream",
     "text": [
      "Banyak url film 1221\n",
      "Banyak url film 1222\n",
      "Banyak url film 1223\n",
      "Banyak url film 1224\n",
      "Banyak url film 1225\n",
      "Banyak url film 1226\n",
      "Banyak url film 1227\n",
      "Banyak url film 1228\n",
      "Banyak url film 1229\n",
      "Banyak url film 1230\n"
     ]
    },
    {
     "name": "stderr",
     "output_type": "stream",
     "text": [
      "2020-12-04 12:41:29 [scrapy.core.engine] DEBUG: Crawled (200) <GET https://carifilms.com/films/page/118?order=DESC&is_meta_key=0&orderby=title#038;is_meta_key=0&orderby=title> (referer: None)\n"
     ]
    },
    {
     "name": "stdout",
     "output_type": "stream",
     "text": [
      "Banyak url film 1231\n",
      "Banyak url film 1232\n",
      "Banyak url film 1233\n",
      "Banyak url film 1234\n",
      "Banyak url film 1235\n",
      "Banyak url film 1236\n",
      "Banyak url film 1237\n",
      "Banyak url film 1238\n",
      "Banyak url film 1239\n",
      "Banyak url film 1240\n"
     ]
    },
    {
     "name": "stderr",
     "output_type": "stream",
     "text": [
      "2020-12-04 12:41:32 [scrapy.core.engine] DEBUG: Crawled (200) <GET https://carifilms.com/films/page/129?order=DESC&is_meta_key=0&orderby=title#038;is_meta_key=0&orderby=title> (referer: None)\n"
     ]
    },
    {
     "name": "stdout",
     "output_type": "stream",
     "text": [
      "Banyak url film 1241\n",
      "Banyak url film 1242\n",
      "Banyak url film 1243\n",
      "Banyak url film 1244\n",
      "Banyak url film 1245\n",
      "Banyak url film 1246\n",
      "Banyak url film 1247\n",
      "Banyak url film 1248\n",
      "Banyak url film 1249\n",
      "Banyak url film 1250\n"
     ]
    },
    {
     "name": "stderr",
     "output_type": "stream",
     "text": [
      "2020-12-04 12:41:35 [scrapy.core.engine] DEBUG: Crawled (200) <GET https://carifilms.com/films/page/128?order=DESC&is_meta_key=0&orderby=title#038;is_meta_key=0&orderby=title> (referer: None)\n"
     ]
    },
    {
     "name": "stdout",
     "output_type": "stream",
     "text": [
      "Banyak url film 1251\n",
      "Banyak url film 1252\n",
      "Banyak url film 1253\n",
      "Banyak url film 1254\n",
      "Banyak url film 1255\n",
      "Banyak url film 1256\n",
      "Banyak url film 1257\n",
      "Banyak url film 1258\n",
      "Banyak url film 1259\n",
      "Banyak url film 1260\n"
     ]
    },
    {
     "name": "stderr",
     "output_type": "stream",
     "text": [
      "2020-12-04 12:41:38 [scrapy.core.engine] DEBUG: Crawled (200) <GET https://carifilms.com/films/page/122?order=DESC&is_meta_key=0&orderby=title#038;is_meta_key=0&orderby=title> (referer: None)\n"
     ]
    },
    {
     "name": "stdout",
     "output_type": "stream",
     "text": [
      "Banyak url film 1261\n",
      "Banyak url film 1262\n",
      "Banyak url film 1263\n",
      "Banyak url film 1264\n",
      "Banyak url film 1265\n",
      "Banyak url film 1266\n",
      "Banyak url film 1267\n",
      "Banyak url film 1268\n",
      "Banyak url film 1269\n",
      "Banyak url film 1270\n"
     ]
    },
    {
     "name": "stderr",
     "output_type": "stream",
     "text": [
      "2020-12-04 12:41:39 [scrapy.extensions.logstats] INFO: Crawled 127 pages (at 18 pages/min), scraped 0 items (at 0 items/min)\n",
      "2020-12-04 12:41:42 [scrapy.core.engine] DEBUG: Crawled (200) <GET https://carifilms.com/films/page/132?order=DESC&is_meta_key=0&orderby=title#038;is_meta_key=0&orderby=title> (referer: None)\n"
     ]
    },
    {
     "name": "stdout",
     "output_type": "stream",
     "text": [
      "Banyak url film 1271\n",
      "Banyak url film 1272\n",
      "Banyak url film 1273\n",
      "Banyak url film 1274\n",
      "Banyak url film 1275\n",
      "Banyak url film 1276\n",
      "Banyak url film 1277\n",
      "Banyak url film 1278\n",
      "Banyak url film 1279\n",
      "Banyak url film 1280\n"
     ]
    },
    {
     "name": "stderr",
     "output_type": "stream",
     "text": [
      "2020-12-04 12:41:45 [scrapy.core.engine] DEBUG: Crawled (200) <GET https://carifilms.com/films/page/131?order=DESC&is_meta_key=0&orderby=title#038;is_meta_key=0&orderby=title> (referer: None)\n"
     ]
    },
    {
     "name": "stdout",
     "output_type": "stream",
     "text": [
      "Banyak url film 1281\n",
      "Banyak url film 1282\n",
      "Banyak url film 1283\n",
      "Banyak url film 1284\n",
      "Banyak url film 1285\n",
      "Banyak url film 1286\n",
      "Banyak url film 1287\n",
      "Banyak url film 1288\n",
      "Banyak url film 1289\n",
      "Banyak url film 1290\n"
     ]
    },
    {
     "name": "stderr",
     "output_type": "stream",
     "text": [
      "2020-12-04 12:41:49 [scrapy.core.engine] DEBUG: Crawled (200) <GET https://carifilms.com/films/page/135?order=DESC&is_meta_key=0&orderby=title#038;is_meta_key=0&orderby=title> (referer: None)\n"
     ]
    },
    {
     "name": "stdout",
     "output_type": "stream",
     "text": [
      "Banyak url film 1291\n",
      "Banyak url film 1292\n",
      "Banyak url film 1293\n",
      "Banyak url film 1294\n",
      "Banyak url film 1295\n",
      "Banyak url film 1296\n",
      "Banyak url film 1297\n",
      "Banyak url film 1298\n",
      "Banyak url film 1299\n",
      "Banyak url film 1300\n"
     ]
    },
    {
     "name": "stderr",
     "output_type": "stream",
     "text": [
      "2020-12-04 12:41:52 [scrapy.core.engine] DEBUG: Crawled (200) <GET https://carifilms.com/films/page/133?order=DESC&is_meta_key=0&orderby=title#038;is_meta_key=0&orderby=title> (referer: None)\n"
     ]
    },
    {
     "name": "stdout",
     "output_type": "stream",
     "text": [
      "Banyak url film 1301\n",
      "Banyak url film 1302\n",
      "Banyak url film 1303\n",
      "Banyak url film 1304\n",
      "Banyak url film 1305\n",
      "Banyak url film 1306\n",
      "Banyak url film 1307\n",
      "Banyak url film 1308\n",
      "Banyak url film 1309\n",
      "Banyak url film 1310\n"
     ]
    },
    {
     "name": "stderr",
     "output_type": "stream",
     "text": [
      "2020-12-04 12:41:55 [scrapy.core.engine] DEBUG: Crawled (200) <GET https://carifilms.com/films/page/130?order=DESC&is_meta_key=0&orderby=title#038;is_meta_key=0&orderby=title> (referer: None)\n"
     ]
    },
    {
     "name": "stdout",
     "output_type": "stream",
     "text": [
      "Banyak url film 1311\n",
      "Banyak url film 1312\n",
      "Banyak url film 1313\n",
      "Banyak url film 1314\n",
      "Banyak url film 1315\n",
      "Banyak url film 1316\n",
      "Banyak url film 1317\n",
      "Banyak url film 1318\n",
      "Banyak url film 1319\n",
      "Banyak url film 1320\n"
     ]
    },
    {
     "name": "stderr",
     "output_type": "stream",
     "text": [
      "2020-12-04 12:41:59 [scrapy.core.engine] DEBUG: Crawled (200) <GET https://carifilms.com/films/page/123?order=DESC&is_meta_key=0&orderby=title#038;is_meta_key=0&orderby=title> (referer: None)\n"
     ]
    },
    {
     "name": "stdout",
     "output_type": "stream",
     "text": [
      "Banyak url film 1321\n",
      "Banyak url film 1322\n",
      "Banyak url film 1323\n",
      "Banyak url film 1324\n",
      "Banyak url film 1325\n",
      "Banyak url film 1326\n",
      "Banyak url film 1327\n",
      "Banyak url film 1328\n",
      "Banyak url film 1329\n",
      "Banyak url film 1330\n"
     ]
    },
    {
     "name": "stderr",
     "output_type": "stream",
     "text": [
      "2020-12-04 12:42:02 [scrapy.core.engine] DEBUG: Crawled (200) <GET https://carifilms.com/films/page/134?order=DESC&is_meta_key=0&orderby=title#038;is_meta_key=0&orderby=title> (referer: None)\n"
     ]
    },
    {
     "name": "stdout",
     "output_type": "stream",
     "text": [
      "Banyak url film 1331\n",
      "Banyak url film 1332\n",
      "Banyak url film 1333\n",
      "Banyak url film 1334\n",
      "Banyak url film 1335\n",
      "Banyak url film 1336\n",
      "Banyak url film 1337\n",
      "Banyak url film 1338\n",
      "Banyak url film 1339\n",
      "Banyak url film 1340\n"
     ]
    },
    {
     "name": "stderr",
     "output_type": "stream",
     "text": [
      "2020-12-04 12:42:06 [scrapy.core.engine] DEBUG: Crawled (200) <GET https://carifilms.com/films/page/127?order=DESC&is_meta_key=0&orderby=title#038;is_meta_key=0&orderby=title> (referer: None)\n"
     ]
    },
    {
     "name": "stdout",
     "output_type": "stream",
     "text": [
      "Banyak url film 1341\n",
      "Banyak url film 1342\n",
      "Banyak url film 1343\n",
      "Banyak url film 1344\n",
      "Banyak url film 1345\n",
      "Banyak url film 1346\n",
      "Banyak url film 1347\n",
      "Banyak url film 1348\n",
      "Banyak url film 1349\n",
      "Banyak url film 1350\n"
     ]
    },
    {
     "name": "stderr",
     "output_type": "stream",
     "text": [
      "2020-12-04 12:42:09 [scrapy.core.engine] DEBUG: Crawled (200) <GET https://carifilms.com/films/page/139?order=DESC&is_meta_key=0&orderby=title#038;is_meta_key=0&orderby=title> (referer: None)\n"
     ]
    },
    {
     "name": "stdout",
     "output_type": "stream",
     "text": [
      "Banyak url film 1351\n",
      "Banyak url film 1352\n",
      "Banyak url film 1353\n",
      "Banyak url film 1354\n",
      "Banyak url film 1355\n",
      "Banyak url film 1356\n",
      "Banyak url film 1357\n",
      "Banyak url film 1358\n",
      "Banyak url film 1359\n",
      "Banyak url film 1360\n"
     ]
    },
    {
     "name": "stderr",
     "output_type": "stream",
     "text": [
      "2020-12-04 12:42:12 [scrapy.core.engine] DEBUG: Crawled (200) <GET https://carifilms.com/films/page/138?order=DESC&is_meta_key=0&orderby=title#038;is_meta_key=0&orderby=title> (referer: None)\n"
     ]
    },
    {
     "name": "stdout",
     "output_type": "stream",
     "text": [
      "Banyak url film 1361\n",
      "Banyak url film 1362\n",
      "Banyak url film 1363\n",
      "Banyak url film 1364\n",
      "Banyak url film 1365\n",
      "Banyak url film 1366\n",
      "Banyak url film 1367\n",
      "Banyak url film 1368\n",
      "Banyak url film 1369\n",
      "Banyak url film 1370\n"
     ]
    },
    {
     "name": "stderr",
     "output_type": "stream",
     "text": [
      "2020-12-04 12:42:15 [scrapy.core.engine] DEBUG: Crawled (200) <GET https://carifilms.com/films/page/137?order=DESC&is_meta_key=0&orderby=title#038;is_meta_key=0&orderby=title> (referer: None)\n"
     ]
    },
    {
     "name": "stdout",
     "output_type": "stream",
     "text": [
      "Banyak url film 1371\n",
      "Banyak url film 1372\n",
      "Banyak url film 1373\n",
      "Banyak url film 1374\n",
      "Banyak url film 1375\n",
      "Banyak url film 1376\n",
      "Banyak url film 1377\n",
      "Banyak url film 1378\n",
      "Banyak url film 1379\n",
      "Banyak url film 1380\n"
     ]
    },
    {
     "name": "stderr",
     "output_type": "stream",
     "text": [
      "2020-12-04 12:42:19 [scrapy.core.engine] DEBUG: Crawled (200) <GET https://carifilms.com/films/page/140?order=DESC&is_meta_key=0&orderby=title#038;is_meta_key=0&orderby=title> (referer: None)\n"
     ]
    },
    {
     "name": "stdout",
     "output_type": "stream",
     "text": [
      "Banyak url film 1381\n",
      "Banyak url film 1382\n",
      "Banyak url film 1383\n",
      "Banyak url film 1384\n",
      "Banyak url film 1385\n",
      "Banyak url film 1386\n",
      "Banyak url film 1387\n",
      "Banyak url film 1388\n",
      "Banyak url film 1389\n",
      "Banyak url film 1390\n"
     ]
    },
    {
     "name": "stderr",
     "output_type": "stream",
     "text": [
      "2020-12-04 12:42:22 [scrapy.core.engine] DEBUG: Crawled (200) <GET https://carifilms.com/films/page/143?order=DESC&is_meta_key=0&orderby=title#038;is_meta_key=0&orderby=title> (referer: None)\n"
     ]
    },
    {
     "name": "stdout",
     "output_type": "stream",
     "text": [
      "Banyak url film 1391\n",
      "Banyak url film 1392\n",
      "Banyak url film 1393\n",
      "Banyak url film 1394\n",
      "Banyak url film 1395\n",
      "Banyak url film 1396\n",
      "Banyak url film 1397\n",
      "Banyak url film 1398\n",
      "Banyak url film 1399\n",
      "Banyak url film 1400\n"
     ]
    },
    {
     "name": "stderr",
     "output_type": "stream",
     "text": [
      "2020-12-04 12:42:25 [scrapy.core.engine] DEBUG: Crawled (200) <GET https://carifilms.com/films/page/145?order=DESC&is_meta_key=0&orderby=title#038;is_meta_key=0&orderby=title> (referer: None)\n"
     ]
    },
    {
     "name": "stdout",
     "output_type": "stream",
     "text": [
      "Banyak url film 1401\n",
      "Banyak url film 1402\n",
      "Banyak url film 1403\n",
      "Banyak url film 1404\n",
      "Banyak url film 1405\n",
      "Banyak url film 1406\n",
      "Banyak url film 1407\n",
      "Banyak url film 1408\n",
      "Banyak url film 1409\n",
      "Banyak url film 1410\n"
     ]
    },
    {
     "name": "stderr",
     "output_type": "stream",
     "text": [
      "2020-12-04 12:42:28 [scrapy.core.engine] DEBUG: Crawled (200) <GET https://carifilms.com/films/page/147?order=DESC&is_meta_key=0&orderby=title#038;is_meta_key=0&orderby=title> (referer: None)\n"
     ]
    },
    {
     "name": "stdout",
     "output_type": "stream",
     "text": [
      "Banyak url film 1411\n",
      "Banyak url film 1412\n",
      "Banyak url film 1413\n",
      "Banyak url film 1414\n",
      "Banyak url film 1415\n",
      "Banyak url film 1416\n",
      "Banyak url film 1417\n",
      "Banyak url film 1418\n",
      "Banyak url film 1419\n",
      "Banyak url film 1420\n"
     ]
    },
    {
     "name": "stderr",
     "output_type": "stream",
     "text": [
      "2020-12-04 12:42:32 [scrapy.core.engine] DEBUG: Crawled (200) <GET https://carifilms.com/films/page/142?order=DESC&is_meta_key=0&orderby=title#038;is_meta_key=0&orderby=title> (referer: None)\n"
     ]
    },
    {
     "name": "stdout",
     "output_type": "stream",
     "text": [
      "Banyak url film 1421\n",
      "Banyak url film 1422\n",
      "Banyak url film 1423\n",
      "Banyak url film 1424\n",
      "Banyak url film 1425\n",
      "Banyak url film 1426\n",
      "Banyak url film 1427\n",
      "Banyak url film 1428\n",
      "Banyak url film 1429\n",
      "Banyak url film 1430\n"
     ]
    },
    {
     "name": "stderr",
     "output_type": "stream",
     "text": [
      "2020-12-04 12:42:35 [scrapy.core.engine] DEBUG: Crawled (200) <GET https://carifilms.com/films/page/144?order=DESC&is_meta_key=0&orderby=title#038;is_meta_key=0&orderby=title> (referer: None)\n"
     ]
    },
    {
     "name": "stdout",
     "output_type": "stream",
     "text": [
      "Banyak url film 1431\n",
      "Banyak url film 1432\n",
      "Banyak url film 1433\n",
      "Banyak url film 1434\n",
      "Banyak url film 1435\n",
      "Banyak url film 1436\n",
      "Banyak url film 1437\n",
      "Banyak url film 1438\n",
      "Banyak url film 1439\n",
      "Banyak url film 1440\n"
     ]
    },
    {
     "name": "stderr",
     "output_type": "stream",
     "text": [
      "2020-12-04 12:42:38 [scrapy.core.engine] DEBUG: Crawled (200) <GET https://carifilms.com/films/page/148?order=DESC&is_meta_key=0&orderby=title#038;is_meta_key=0&orderby=title> (referer: None)\n"
     ]
    },
    {
     "name": "stdout",
     "output_type": "stream",
     "text": [
      "Banyak url film 1441\n",
      "Banyak url film 1442\n",
      "Banyak url film 1443\n",
      "Banyak url film 1444\n",
      "Banyak url film 1445\n",
      "Banyak url film 1446\n",
      "Banyak url film 1447\n",
      "Banyak url film 1448\n",
      "Banyak url film 1449\n",
      "Banyak url film 1450\n"
     ]
    },
    {
     "name": "stderr",
     "output_type": "stream",
     "text": [
      "2020-12-04 12:42:39 [scrapy.extensions.logstats] INFO: Crawled 145 pages (at 18 pages/min), scraped 0 items (at 0 items/min)\n",
      "2020-12-04 12:42:42 [scrapy.core.engine] DEBUG: Crawled (200) <GET https://carifilms.com/films/page/136?order=DESC&is_meta_key=0&orderby=title#038;is_meta_key=0&orderby=title> (referer: None)\n"
     ]
    },
    {
     "name": "stdout",
     "output_type": "stream",
     "text": [
      "Banyak url film 1451\n",
      "Banyak url film 1452\n",
      "Banyak url film 1453\n",
      "Banyak url film 1454\n",
      "Banyak url film 1455\n",
      "Banyak url film 1456\n",
      "Banyak url film 1457\n",
      "Banyak url film 1458\n",
      "Banyak url film 1459\n",
      "Banyak url film 1460\n"
     ]
    },
    {
     "name": "stderr",
     "output_type": "stream",
     "text": [
      "2020-12-04 12:42:45 [scrapy.core.engine] DEBUG: Crawled (200) <GET https://carifilms.com/films/page/150?order=DESC&is_meta_key=0&orderby=title#038;is_meta_key=0&orderby=title> (referer: None)\n"
     ]
    },
    {
     "name": "stdout",
     "output_type": "stream",
     "text": [
      "Banyak url film 1461\n",
      "Banyak url film 1462\n",
      "Banyak url film 1463\n",
      "Banyak url film 1464\n",
      "Banyak url film 1465\n",
      "Banyak url film 1466\n",
      "Banyak url film 1467\n",
      "Banyak url film 1468\n",
      "Banyak url film 1469\n",
      "Banyak url film 1470\n"
     ]
    },
    {
     "name": "stderr",
     "output_type": "stream",
     "text": [
      "2020-12-04 12:42:48 [scrapy.core.engine] DEBUG: Crawled (200) <GET https://carifilms.com/films/page/151?order=DESC&is_meta_key=0&orderby=title#038;is_meta_key=0&orderby=title> (referer: None)\n"
     ]
    },
    {
     "name": "stdout",
     "output_type": "stream",
     "text": [
      "Banyak url film 1471\n",
      "Banyak url film 1472\n",
      "Banyak url film 1473\n",
      "Banyak url film 1474\n",
      "Banyak url film 1475\n",
      "Banyak url film 1476\n",
      "Banyak url film 1477\n",
      "Banyak url film 1478\n",
      "Banyak url film 1479\n",
      "Banyak url film 1480\n"
     ]
    },
    {
     "name": "stderr",
     "output_type": "stream",
     "text": [
      "2020-12-04 12:42:52 [scrapy.core.engine] DEBUG: Crawled (200) <GET https://carifilms.com/films/page/141?order=DESC&is_meta_key=0&orderby=title#038;is_meta_key=0&orderby=title> (referer: None)\n"
     ]
    },
    {
     "name": "stdout",
     "output_type": "stream",
     "text": [
      "Banyak url film 1481\n",
      "Banyak url film 1482\n",
      "Banyak url film 1483\n",
      "Banyak url film 1484\n",
      "Banyak url film 1485\n",
      "Banyak url film 1486\n",
      "Banyak url film 1487\n",
      "Banyak url film 1488\n",
      "Banyak url film 1489\n",
      "Banyak url film 1490\n"
     ]
    },
    {
     "name": "stderr",
     "output_type": "stream",
     "text": [
      "2020-12-04 12:42:55 [scrapy.core.engine] DEBUG: Crawled (200) <GET https://carifilms.com/films/page/149?order=DESC&is_meta_key=0&orderby=title#038;is_meta_key=0&orderby=title> (referer: None)\n"
     ]
    },
    {
     "name": "stdout",
     "output_type": "stream",
     "text": [
      "Banyak url film 1491\n",
      "Banyak url film 1492\n",
      "Banyak url film 1493\n",
      "Banyak url film 1494\n",
      "Banyak url film 1495\n",
      "Banyak url film 1496\n",
      "Banyak url film 1497\n",
      "Banyak url film 1498\n",
      "Banyak url film 1499\n",
      "Banyak url film 1500\n"
     ]
    },
    {
     "name": "stderr",
     "output_type": "stream",
     "text": [
      "2020-12-04 12:42:58 [scrapy.core.engine] DEBUG: Crawled (200) <GET https://carifilms.com/films/page/155?order=DESC&is_meta_key=0&orderby=title#038;is_meta_key=0&orderby=title> (referer: None)\n"
     ]
    },
    {
     "name": "stdout",
     "output_type": "stream",
     "text": [
      "Banyak url film 1501\n",
      "Banyak url film 1502\n",
      "Banyak url film 1503\n",
      "Banyak url film 1504\n",
      "Banyak url film 1505\n",
      "Banyak url film 1506\n",
      "Banyak url film 1507\n",
      "Banyak url film 1508\n",
      "Banyak url film 1509\n",
      "Banyak url film 1510\n"
     ]
    },
    {
     "name": "stderr",
     "output_type": "stream",
     "text": [
      "2020-12-04 12:43:02 [scrapy.core.engine] DEBUG: Crawled (200) <GET https://carifilms.com/films/page/154?order=DESC&is_meta_key=0&orderby=title#038;is_meta_key=0&orderby=title> (referer: None)\n"
     ]
    },
    {
     "name": "stdout",
     "output_type": "stream",
     "text": [
      "Banyak url film 1511\n",
      "Banyak url film 1512\n",
      "Banyak url film 1513\n",
      "Banyak url film 1514\n",
      "Banyak url film 1515\n",
      "Banyak url film 1516\n",
      "Banyak url film 1517\n",
      "Banyak url film 1518\n",
      "Banyak url film 1519\n",
      "Banyak url film 1520\n"
     ]
    },
    {
     "name": "stderr",
     "output_type": "stream",
     "text": [
      "2020-12-04 12:43:05 [scrapy.core.engine] DEBUG: Crawled (200) <GET https://carifilms.com/films/page/146?order=DESC&is_meta_key=0&orderby=title#038;is_meta_key=0&orderby=title> (referer: None)\n"
     ]
    },
    {
     "name": "stdout",
     "output_type": "stream",
     "text": [
      "Banyak url film 1521\n",
      "Banyak url film 1522\n",
      "Banyak url film 1523\n",
      "Banyak url film 1524\n",
      "Banyak url film 1525\n",
      "Banyak url film 1526\n",
      "Banyak url film 1527\n",
      "Banyak url film 1528\n",
      "Banyak url film 1529\n",
      "Banyak url film 1530\n"
     ]
    },
    {
     "name": "stderr",
     "output_type": "stream",
     "text": [
      "2020-12-04 12:43:08 [scrapy.core.engine] DEBUG: Crawled (200) <GET https://carifilms.com/films/page/156?order=DESC&is_meta_key=0&orderby=title#038;is_meta_key=0&orderby=title> (referer: None)\n"
     ]
    },
    {
     "name": "stdout",
     "output_type": "stream",
     "text": [
      "Banyak url film 1531\n",
      "Banyak url film 1532\n",
      "Banyak url film 1533\n",
      "Banyak url film 1534\n",
      "Banyak url film 1535\n",
      "Banyak url film 1536\n",
      "Banyak url film 1537\n",
      "Banyak url film 1538\n",
      "Banyak url film 1539\n",
      "Banyak url film 1540\n"
     ]
    },
    {
     "name": "stderr",
     "output_type": "stream",
     "text": [
      "2020-12-04 12:43:12 [scrapy.core.engine] DEBUG: Crawled (200) <GET https://carifilms.com/films/page/158?order=DESC&is_meta_key=0&orderby=title#038;is_meta_key=0&orderby=title> (referer: None)\n"
     ]
    },
    {
     "name": "stdout",
     "output_type": "stream",
     "text": [
      "Banyak url film 1541\n",
      "Banyak url film 1542\n",
      "Banyak url film 1543\n",
      "Banyak url film 1544\n",
      "Banyak url film 1545\n",
      "Banyak url film 1546\n",
      "Banyak url film 1547\n",
      "Banyak url film 1548\n",
      "Banyak url film 1549\n",
      "Banyak url film 1550\n"
     ]
    },
    {
     "name": "stderr",
     "output_type": "stream",
     "text": [
      "2020-12-04 12:43:15 [scrapy.core.engine] DEBUG: Crawled (200) <GET https://carifilms.com/films/page/161?order=DESC&is_meta_key=0&orderby=title#038;is_meta_key=0&orderby=title> (referer: None)\n"
     ]
    },
    {
     "name": "stdout",
     "output_type": "stream",
     "text": [
      "Banyak url film 1551\n",
      "Banyak url film 1552\n",
      "Banyak url film 1553\n",
      "Banyak url film 1554\n",
      "Banyak url film 1555\n",
      "Banyak url film 1556\n",
      "Banyak url film 1557\n",
      "Banyak url film 1558\n",
      "Banyak url film 1559\n",
      "Banyak url film 1560\n"
     ]
    },
    {
     "name": "stderr",
     "output_type": "stream",
     "text": [
      "2020-12-04 12:43:19 [scrapy.core.engine] DEBUG: Crawled (200) <GET https://carifilms.com/films/page/160?order=DESC&is_meta_key=0&orderby=title#038;is_meta_key=0&orderby=title> (referer: None)\n"
     ]
    },
    {
     "name": "stdout",
     "output_type": "stream",
     "text": [
      "Banyak url film 1561\n",
      "Banyak url film 1562\n",
      "Banyak url film 1563\n",
      "Banyak url film 1564\n",
      "Banyak url film 1565\n",
      "Banyak url film 1566\n",
      "Banyak url film 1567\n",
      "Banyak url film 1568\n",
      "Banyak url film 1569\n",
      "Banyak url film 1570\n"
     ]
    },
    {
     "name": "stderr",
     "output_type": "stream",
     "text": [
      "2020-12-04 12:43:22 [scrapy.core.engine] DEBUG: Crawled (200) <GET https://carifilms.com/films/page/157?order=DESC&is_meta_key=0&orderby=title#038;is_meta_key=0&orderby=title> (referer: None)\n"
     ]
    },
    {
     "name": "stdout",
     "output_type": "stream",
     "text": [
      "Banyak url film 1571\n",
      "Banyak url film 1572\n",
      "Banyak url film 1573\n",
      "Banyak url film 1574\n",
      "Banyak url film 1575\n",
      "Banyak url film 1576\n",
      "Banyak url film 1577\n",
      "Banyak url film 1578\n",
      "Banyak url film 1579\n",
      "Banyak url film 1580\n"
     ]
    },
    {
     "name": "stderr",
     "output_type": "stream",
     "text": [
      "2020-12-04 12:43:25 [scrapy.core.engine] DEBUG: Crawled (200) <GET https://carifilms.com/films/page/153?order=DESC&is_meta_key=0&orderby=title#038;is_meta_key=0&orderby=title> (referer: None)\n"
     ]
    },
    {
     "name": "stdout",
     "output_type": "stream",
     "text": [
      "Banyak url film 1581\n",
      "Banyak url film 1582\n",
      "Banyak url film 1583\n",
      "Banyak url film 1584\n",
      "Banyak url film 1585\n",
      "Banyak url film 1586\n",
      "Banyak url film 1587\n",
      "Banyak url film 1588\n",
      "Banyak url film 1589\n",
      "Banyak url film 1590\n"
     ]
    },
    {
     "name": "stderr",
     "output_type": "stream",
     "text": [
      "2020-12-04 12:43:29 [scrapy.core.engine] DEBUG: Crawled (200) <GET https://carifilms.com/films/page/152?order=DESC&is_meta_key=0&orderby=title#038;is_meta_key=0&orderby=title> (referer: None)\n"
     ]
    },
    {
     "name": "stdout",
     "output_type": "stream",
     "text": [
      "Banyak url film 1591\n",
      "Banyak url film 1592\n",
      "Banyak url film 1593\n",
      "Banyak url film 1594\n",
      "Banyak url film 1595\n",
      "Banyak url film 1596\n",
      "Banyak url film 1597\n",
      "Banyak url film 1598\n",
      "Banyak url film 1599\n",
      "Banyak url film 1600\n"
     ]
    },
    {
     "name": "stderr",
     "output_type": "stream",
     "text": [
      "2020-12-04 12:43:32 [scrapy.core.engine] DEBUG: Crawled (200) <GET https://carifilms.com/films/page/164?order=DESC&is_meta_key=0&orderby=title#038;is_meta_key=0&orderby=title> (referer: None)\n"
     ]
    },
    {
     "name": "stdout",
     "output_type": "stream",
     "text": [
      "Banyak url film 1601\n",
      "Banyak url film 1602\n",
      "Banyak url film 1603\n",
      "Banyak url film 1604\n",
      "Banyak url film 1605\n",
      "Banyak url film 1606\n",
      "Banyak url film 1607\n",
      "Banyak url film 1608\n",
      "Banyak url film 1609\n",
      "Banyak url film 1610\n"
     ]
    },
    {
     "name": "stderr",
     "output_type": "stream",
     "text": [
      "2020-12-04 12:43:35 [scrapy.core.engine] DEBUG: Crawled (200) <GET https://carifilms.com/films/page/165?order=DESC&is_meta_key=0&orderby=title#038;is_meta_key=0&orderby=title> (referer: None)\n"
     ]
    },
    {
     "name": "stdout",
     "output_type": "stream",
     "text": [
      "Banyak url film 1611\n",
      "Banyak url film 1612\n",
      "Banyak url film 1613\n",
      "Banyak url film 1614\n",
      "Banyak url film 1615\n",
      "Banyak url film 1616\n",
      "Banyak url film 1617\n",
      "Banyak url film 1618\n",
      "Banyak url film 1619\n",
      "Banyak url film 1620\n"
     ]
    },
    {
     "name": "stderr",
     "output_type": "stream",
     "text": [
      "2020-12-04 12:43:39 [scrapy.core.engine] DEBUG: Crawled (200) <GET https://carifilms.com/films/page/162?order=DESC&is_meta_key=0&orderby=title#038;is_meta_key=0&orderby=title> (referer: None)\n",
      "2020-12-04 12:43:39 [scrapy.extensions.logstats] INFO: Crawled 163 pages (at 18 pages/min), scraped 0 items (at 0 items/min)\n"
     ]
    },
    {
     "name": "stdout",
     "output_type": "stream",
     "text": [
      "Banyak url film 1621\n",
      "Banyak url film 1622\n",
      "Banyak url film 1623\n",
      "Banyak url film 1624\n",
      "Banyak url film 1625\n",
      "Banyak url film 1626\n",
      "Banyak url film 1627\n",
      "Banyak url film 1628\n",
      "Banyak url film 1629\n",
      "Banyak url film 1630\n"
     ]
    },
    {
     "name": "stderr",
     "output_type": "stream",
     "text": [
      "2020-12-04 12:43:42 [scrapy.core.engine] DEBUG: Crawled (200) <GET https://carifilms.com/films/page/163?order=DESC&is_meta_key=0&orderby=title#038;is_meta_key=0&orderby=title> (referer: None)\n"
     ]
    },
    {
     "name": "stdout",
     "output_type": "stream",
     "text": [
      "Banyak url film 1631\n",
      "Banyak url film 1632\n",
      "Banyak url film 1633\n",
      "Banyak url film 1634\n",
      "Banyak url film 1635\n",
      "Banyak url film 1636\n",
      "Banyak url film 1637\n",
      "Banyak url film 1638\n",
      "Banyak url film 1639\n",
      "Banyak url film 1640\n"
     ]
    },
    {
     "name": "stderr",
     "output_type": "stream",
     "text": [
      "2020-12-04 12:43:45 [scrapy.core.engine] DEBUG: Crawled (200) <GET https://carifilms.com/films/page/159?order=DESC&is_meta_key=0&orderby=title#038;is_meta_key=0&orderby=title> (referer: None)\n"
     ]
    },
    {
     "name": "stdout",
     "output_type": "stream",
     "text": [
      "Banyak url film 1641\n",
      "Banyak url film 1642\n",
      "Banyak url film 1643\n",
      "Banyak url film 1644\n",
      "Banyak url film 1645\n",
      "Banyak url film 1646\n",
      "Banyak url film 1647\n",
      "Banyak url film 1648\n",
      "Banyak url film 1649\n",
      "Banyak url film 1650\n"
     ]
    },
    {
     "name": "stderr",
     "output_type": "stream",
     "text": [
      "2020-12-04 12:43:49 [scrapy.core.engine] DEBUG: Crawled (200) <GET https://carifilms.com/films/page/166?order=DESC&is_meta_key=0&orderby=title#038;is_meta_key=0&orderby=title> (referer: None)\n"
     ]
    },
    {
     "name": "stdout",
     "output_type": "stream",
     "text": [
      "Banyak url film 1651\n",
      "Banyak url film 1652\n",
      "Banyak url film 1653\n",
      "Banyak url film 1654\n",
      "Banyak url film 1655\n",
      "Banyak url film 1656\n",
      "Banyak url film 1657\n",
      "Banyak url film 1658\n",
      "Banyak url film 1659\n",
      "Banyak url film 1660\n"
     ]
    },
    {
     "name": "stderr",
     "output_type": "stream",
     "text": [
      "2020-12-04 12:43:52 [scrapy.core.engine] DEBUG: Crawled (200) <GET https://carifilms.com/films/page/171?order=DESC&is_meta_key=0&orderby=title#038;is_meta_key=0&orderby=title> (referer: None)\n"
     ]
    },
    {
     "name": "stdout",
     "output_type": "stream",
     "text": [
      "Banyak url film 1661\n",
      "Banyak url film 1662\n",
      "Banyak url film 1663\n",
      "Banyak url film 1664\n",
      "Banyak url film 1665\n",
      "Banyak url film 1666\n",
      "Banyak url film 1667\n",
      "Banyak url film 1668\n",
      "Banyak url film 1669\n",
      "Banyak url film 1670\n"
     ]
    },
    {
     "name": "stderr",
     "output_type": "stream",
     "text": [
      "2020-12-04 12:43:55 [scrapy.core.engine] DEBUG: Crawled (200) <GET https://carifilms.com/films/page/167?order=DESC&is_meta_key=0&orderby=title#038;is_meta_key=0&orderby=title> (referer: None)\n"
     ]
    },
    {
     "name": "stdout",
     "output_type": "stream",
     "text": [
      "Banyak url film 1671\n",
      "Banyak url film 1672\n",
      "Banyak url film 1673\n",
      "Banyak url film 1674\n",
      "Banyak url film 1675\n",
      "Banyak url film 1676\n",
      "Banyak url film 1677\n",
      "Banyak url film 1678\n",
      "Banyak url film 1679\n",
      "Banyak url film 1680\n"
     ]
    },
    {
     "name": "stderr",
     "output_type": "stream",
     "text": [
      "2020-12-04 12:43:59 [scrapy.core.engine] DEBUG: Crawled (200) <GET https://carifilms.com/films/page/172?order=DESC&is_meta_key=0&orderby=title#038;is_meta_key=0&orderby=title> (referer: None)\n"
     ]
    },
    {
     "name": "stdout",
     "output_type": "stream",
     "text": [
      "Banyak url film 1681\n",
      "Banyak url film 1682\n",
      "Banyak url film 1683\n",
      "Banyak url film 1684\n",
      "Banyak url film 1685\n",
      "Banyak url film 1686\n",
      "Banyak url film 1687\n",
      "Banyak url film 1688\n",
      "Banyak url film 1689\n",
      "Banyak url film 1690\n"
     ]
    },
    {
     "name": "stderr",
     "output_type": "stream",
     "text": [
      "2020-12-04 12:44:02 [scrapy.core.engine] DEBUG: Crawled (200) <GET https://carifilms.com/films/page/175?order=DESC&is_meta_key=0&orderby=title#038;is_meta_key=0&orderby=title> (referer: None)\n"
     ]
    },
    {
     "name": "stdout",
     "output_type": "stream",
     "text": [
      "Banyak url film 1691\n",
      "Banyak url film 1692\n",
      "Banyak url film 1693\n",
      "Banyak url film 1694\n",
      "Banyak url film 1695\n",
      "Banyak url film 1696\n",
      "Banyak url film 1697\n",
      "Banyak url film 1698\n",
      "Banyak url film 1699\n",
      "Banyak url film 1700\n"
     ]
    },
    {
     "name": "stderr",
     "output_type": "stream",
     "text": [
      "2020-12-04 12:44:06 [scrapy.core.engine] DEBUG: Crawled (200) <GET https://carifilms.com/films/page/170?order=DESC&is_meta_key=0&orderby=title#038;is_meta_key=0&orderby=title> (referer: None)\n"
     ]
    },
    {
     "name": "stdout",
     "output_type": "stream",
     "text": [
      "Banyak url film 1701\n",
      "Banyak url film 1702\n",
      "Banyak url film 1703\n",
      "Banyak url film 1704\n",
      "Banyak url film 1705\n",
      "Banyak url film 1706\n",
      "Banyak url film 1707\n",
      "Banyak url film 1708\n",
      "Banyak url film 1709\n",
      "Banyak url film 1710\n"
     ]
    },
    {
     "name": "stderr",
     "output_type": "stream",
     "text": [
      "2020-12-04 12:44:09 [scrapy.core.engine] DEBUG: Crawled (200) <GET https://carifilms.com/films/page/177?order=DESC&is_meta_key=0&orderby=title#038;is_meta_key=0&orderby=title> (referer: None)\n"
     ]
    },
    {
     "name": "stdout",
     "output_type": "stream",
     "text": [
      "Banyak url film 1711\n",
      "Banyak url film 1712\n",
      "Banyak url film 1713\n",
      "Banyak url film 1714\n",
      "Banyak url film 1715\n",
      "Banyak url film 1716\n",
      "Banyak url film 1717\n",
      "Banyak url film 1718\n",
      "Banyak url film 1719\n",
      "Banyak url film 1720\n"
     ]
    },
    {
     "name": "stderr",
     "output_type": "stream",
     "text": [
      "2020-12-04 12:44:12 [scrapy.core.engine] DEBUG: Crawled (200) <GET https://carifilms.com/films/page/168?order=DESC&is_meta_key=0&orderby=title#038;is_meta_key=0&orderby=title> (referer: None)\n"
     ]
    },
    {
     "name": "stdout",
     "output_type": "stream",
     "text": [
      "Banyak url film 1721\n",
      "Banyak url film 1722\n",
      "Banyak url film 1723\n",
      "Banyak url film 1724\n",
      "Banyak url film 1725\n",
      "Banyak url film 1726\n",
      "Banyak url film 1727\n",
      "Banyak url film 1728\n",
      "Banyak url film 1729\n",
      "Banyak url film 1730\n"
     ]
    },
    {
     "name": "stderr",
     "output_type": "stream",
     "text": [
      "2020-12-04 12:44:16 [scrapy.core.engine] DEBUG: Crawled (200) <GET https://carifilms.com/films/page/178?order=DESC&is_meta_key=0&orderby=title#038;is_meta_key=0&orderby=title> (referer: None)\n"
     ]
    },
    {
     "name": "stdout",
     "output_type": "stream",
     "text": [
      "Banyak url film 1731\n",
      "Banyak url film 1732\n",
      "Banyak url film 1733\n",
      "Banyak url film 1734\n",
      "Banyak url film 1735\n",
      "Banyak url film 1736\n",
      "Banyak url film 1737\n",
      "Banyak url film 1738\n",
      "Banyak url film 1739\n",
      "Banyak url film 1740\n"
     ]
    },
    {
     "name": "stderr",
     "output_type": "stream",
     "text": [
      "2020-12-04 12:44:19 [scrapy.core.engine] DEBUG: Crawled (200) <GET https://carifilms.com/films/page/179?order=DESC&is_meta_key=0&orderby=title#038;is_meta_key=0&orderby=title> (referer: None)\n"
     ]
    },
    {
     "name": "stdout",
     "output_type": "stream",
     "text": [
      "Banyak url film 1741\n",
      "Banyak url film 1742\n",
      "Banyak url film 1743\n",
      "Banyak url film 1744\n",
      "Banyak url film 1745\n",
      "Banyak url film 1746\n",
      "Banyak url film 1747\n",
      "Banyak url film 1748\n",
      "Banyak url film 1749\n",
      "Banyak url film 1750\n"
     ]
    },
    {
     "name": "stderr",
     "output_type": "stream",
     "text": [
      "2020-12-04 12:44:23 [scrapy.core.engine] DEBUG: Crawled (200) <GET https://carifilms.com/films/page/176?order=DESC&is_meta_key=0&orderby=title#038;is_meta_key=0&orderby=title> (referer: None)\n"
     ]
    },
    {
     "name": "stdout",
     "output_type": "stream",
     "text": [
      "Banyak url film 1751\n",
      "Banyak url film 1752\n",
      "Banyak url film 1753\n",
      "Banyak url film 1754\n",
      "Banyak url film 1755\n",
      "Banyak url film 1756\n",
      "Banyak url film 1757\n",
      "Banyak url film 1758\n",
      "Banyak url film 1759\n",
      "Banyak url film 1760\n"
     ]
    },
    {
     "name": "stderr",
     "output_type": "stream",
     "text": [
      "2020-12-04 12:44:26 [scrapy.core.engine] DEBUG: Crawled (200) <GET https://carifilms.com/films/page/173?order=DESC&is_meta_key=0&orderby=title#038;is_meta_key=0&orderby=title> (referer: None)\n"
     ]
    },
    {
     "name": "stdout",
     "output_type": "stream",
     "text": [
      "Banyak url film 1761\n",
      "Banyak url film 1762\n",
      "Banyak url film 1763\n",
      "Banyak url film 1764\n",
      "Banyak url film 1765\n",
      "Banyak url film 1766\n",
      "Banyak url film 1767\n",
      "Banyak url film 1768\n",
      "Banyak url film 1769\n",
      "Banyak url film 1770\n"
     ]
    },
    {
     "name": "stderr",
     "output_type": "stream",
     "text": [
      "2020-12-04 12:44:29 [scrapy.core.engine] DEBUG: Crawled (200) <GET https://carifilms.com/films/page/182?order=DESC&is_meta_key=0&orderby=title#038;is_meta_key=0&orderby=title> (referer: None)\n"
     ]
    },
    {
     "name": "stdout",
     "output_type": "stream",
     "text": [
      "Banyak url film 1771\n",
      "Banyak url film 1772\n",
      "Banyak url film 1773\n",
      "Banyak url film 1774\n",
      "Banyak url film 1775\n",
      "Banyak url film 1776\n",
      "Banyak url film 1777\n",
      "Banyak url film 1778\n",
      "Banyak url film 1779\n",
      "Banyak url film 1780\n"
     ]
    },
    {
     "name": "stderr",
     "output_type": "stream",
     "text": [
      "2020-12-04 12:44:33 [scrapy.core.engine] DEBUG: Crawled (200) <GET https://carifilms.com/films/page/169?order=DESC&is_meta_key=0&orderby=title#038;is_meta_key=0&orderby=title> (referer: None)\n"
     ]
    },
    {
     "name": "stdout",
     "output_type": "stream",
     "text": [
      "Banyak url film 1781\n",
      "Banyak url film 1782\n",
      "Banyak url film 1783\n",
      "Banyak url film 1784\n",
      "Banyak url film 1785\n",
      "Banyak url film 1786\n",
      "Banyak url film 1787\n",
      "Banyak url film 1788\n",
      "Banyak url film 1789\n",
      "Banyak url film 1790\n"
     ]
    },
    {
     "name": "stderr",
     "output_type": "stream",
     "text": [
      "2020-12-04 12:44:36 [scrapy.core.engine] DEBUG: Crawled (200) <GET https://carifilms.com/films/page/174?order=DESC&is_meta_key=0&orderby=title#038;is_meta_key=0&orderby=title> (referer: None)\n"
     ]
    },
    {
     "name": "stdout",
     "output_type": "stream",
     "text": [
      "Banyak url film 1791\n",
      "Banyak url film 1792\n",
      "Banyak url film 1793\n",
      "Banyak url film 1794\n",
      "Banyak url film 1795\n",
      "Banyak url film 1796\n",
      "Banyak url film 1797\n",
      "Banyak url film 1798\n",
      "Banyak url film 1799\n",
      "Banyak url film 1800\n"
     ]
    },
    {
     "name": "stderr",
     "output_type": "stream",
     "text": [
      "2020-12-04 12:44:39 [scrapy.extensions.logstats] INFO: Crawled 180 pages (at 17 pages/min), scraped 0 items (at 0 items/min)\n",
      "2020-12-04 12:44:39 [scrapy.core.engine] DEBUG: Crawled (200) <GET https://carifilms.com/films/page/183?order=DESC&is_meta_key=0&orderby=title#038;is_meta_key=0&orderby=title> (referer: None)\n"
     ]
    },
    {
     "name": "stdout",
     "output_type": "stream",
     "text": [
      "Banyak url film 1801\n",
      "Banyak url film 1802\n",
      "Banyak url film 1803\n",
      "Banyak url film 1804\n",
      "Banyak url film 1805\n",
      "Banyak url film 1806\n",
      "Banyak url film 1807\n",
      "Banyak url film 1808\n",
      "Banyak url film 1809\n",
      "Banyak url film 1810\n"
     ]
    },
    {
     "name": "stderr",
     "output_type": "stream",
     "text": [
      "2020-12-04 12:44:43 [scrapy.core.engine] DEBUG: Crawled (200) <GET https://carifilms.com/films/page/186?order=DESC&is_meta_key=0&orderby=title#038;is_meta_key=0&orderby=title> (referer: None)\n"
     ]
    },
    {
     "name": "stdout",
     "output_type": "stream",
     "text": [
      "Banyak url film 1811\n",
      "Banyak url film 1812\n",
      "Banyak url film 1813\n",
      "Banyak url film 1814\n",
      "Banyak url film 1815\n",
      "Banyak url film 1816\n",
      "Banyak url film 1817\n",
      "Banyak url film 1818\n",
      "Banyak url film 1819\n",
      "Banyak url film 1820\n"
     ]
    },
    {
     "name": "stderr",
     "output_type": "stream",
     "text": [
      "2020-12-04 12:44:46 [scrapy.core.engine] DEBUG: Crawled (200) <GET https://carifilms.com/films/page/180?order=DESC&is_meta_key=0&orderby=title#038;is_meta_key=0&orderby=title> (referer: None)\n"
     ]
    },
    {
     "name": "stdout",
     "output_type": "stream",
     "text": [
      "Banyak url film 1821\n",
      "Banyak url film 1822\n",
      "Banyak url film 1823\n",
      "Banyak url film 1824\n",
      "Banyak url film 1825\n",
      "Banyak url film 1826\n",
      "Banyak url film 1827\n",
      "Banyak url film 1828\n",
      "Banyak url film 1829\n",
      "Banyak url film 1830\n"
     ]
    },
    {
     "name": "stderr",
     "output_type": "stream",
     "text": [
      "2020-12-04 12:44:49 [scrapy.core.engine] DEBUG: Crawled (200) <GET https://carifilms.com/films/page/184?order=DESC&is_meta_key=0&orderby=title#038;is_meta_key=0&orderby=title> (referer: None)\n"
     ]
    },
    {
     "name": "stdout",
     "output_type": "stream",
     "text": [
      "Banyak url film 1831\n",
      "Banyak url film 1832\n",
      "Banyak url film 1833\n",
      "Banyak url film 1834\n",
      "Banyak url film 1835\n",
      "Banyak url film 1836\n",
      "Banyak url film 1837\n",
      "Banyak url film 1838\n",
      "Banyak url film 1839\n",
      "Banyak url film 1840\n"
     ]
    },
    {
     "name": "stderr",
     "output_type": "stream",
     "text": [
      "2020-12-04 12:44:53 [scrapy.core.engine] DEBUG: Crawled (200) <GET https://carifilms.com/films/page/185?order=DESC&is_meta_key=0&orderby=title#038;is_meta_key=0&orderby=title> (referer: None)\n"
     ]
    },
    {
     "name": "stdout",
     "output_type": "stream",
     "text": [
      "Banyak url film 1841\n",
      "Banyak url film 1842\n",
      "Banyak url film 1843\n",
      "Banyak url film 1844\n",
      "Banyak url film 1845\n",
      "Banyak url film 1846\n",
      "Banyak url film 1847\n",
      "Banyak url film 1848\n",
      "Banyak url film 1849\n",
      "Banyak url film 1850\n"
     ]
    },
    {
     "name": "stderr",
     "output_type": "stream",
     "text": [
      "2020-12-04 12:44:56 [scrapy.core.engine] DEBUG: Crawled (200) <GET https://carifilms.com/films/page/190?order=DESC&is_meta_key=0&orderby=title#038;is_meta_key=0&orderby=title> (referer: None)\n"
     ]
    },
    {
     "name": "stdout",
     "output_type": "stream",
     "text": [
      "Banyak url film 1851\n",
      "Banyak url film 1852\n",
      "Banyak url film 1853\n",
      "Banyak url film 1854\n",
      "Banyak url film 1855\n",
      "Banyak url film 1856\n",
      "Banyak url film 1857\n",
      "Banyak url film 1858\n",
      "Banyak url film 1859\n",
      "Banyak url film 1860\n"
     ]
    },
    {
     "name": "stderr",
     "output_type": "stream",
     "text": [
      "2020-12-04 12:44:59 [scrapy.core.engine] DEBUG: Crawled (200) <GET https://carifilms.com/films/page/192?order=DESC&is_meta_key=0&orderby=title#038;is_meta_key=0&orderby=title> (referer: None)\n"
     ]
    },
    {
     "name": "stdout",
     "output_type": "stream",
     "text": [
      "Banyak url film 1861\n",
      "Banyak url film 1862\n",
      "Banyak url film 1863\n",
      "Banyak url film 1864\n",
      "Banyak url film 1865\n",
      "Banyak url film 1866\n",
      "Banyak url film 1867\n",
      "Banyak url film 1868\n",
      "Banyak url film 1869\n",
      "Banyak url film 1870\n"
     ]
    },
    {
     "name": "stderr",
     "output_type": "stream",
     "text": [
      "2020-12-04 12:45:03 [scrapy.core.engine] DEBUG: Crawled (200) <GET https://carifilms.com/films/page/187?order=DESC&is_meta_key=0&orderby=title#038;is_meta_key=0&orderby=title> (referer: None)\n"
     ]
    },
    {
     "name": "stdout",
     "output_type": "stream",
     "text": [
      "Banyak url film 1871\n",
      "Banyak url film 1872\n",
      "Banyak url film 1873\n",
      "Banyak url film 1874\n",
      "Banyak url film 1875\n",
      "Banyak url film 1876\n",
      "Banyak url film 1877\n",
      "Banyak url film 1878\n",
      "Banyak url film 1879\n",
      "Banyak url film 1880\n"
     ]
    },
    {
     "name": "stderr",
     "output_type": "stream",
     "text": [
      "2020-12-04 12:45:06 [scrapy.core.engine] DEBUG: Crawled (200) <GET https://carifilms.com/films/page/194?order=DESC&is_meta_key=0&orderby=title#038;is_meta_key=0&orderby=title> (referer: None)\n"
     ]
    },
    {
     "name": "stdout",
     "output_type": "stream",
     "text": [
      "Banyak url film 1881\n",
      "Banyak url film 1882\n",
      "Banyak url film 1883\n",
      "Banyak url film 1884\n",
      "Banyak url film 1885\n",
      "Banyak url film 1886\n",
      "Banyak url film 1887\n",
      "Banyak url film 1888\n",
      "Banyak url film 1889\n",
      "Banyak url film 1890\n"
     ]
    },
    {
     "name": "stderr",
     "output_type": "stream",
     "text": [
      "2020-12-04 12:45:10 [scrapy.core.engine] DEBUG: Crawled (200) <GET https://carifilms.com/films/page/188?order=DESC&is_meta_key=0&orderby=title#038;is_meta_key=0&orderby=title> (referer: None)\n"
     ]
    },
    {
     "name": "stdout",
     "output_type": "stream",
     "text": [
      "Banyak url film 1891\n",
      "Banyak url film 1892\n",
      "Banyak url film 1893\n",
      "Banyak url film 1894\n",
      "Banyak url film 1895\n",
      "Banyak url film 1896\n",
      "Banyak url film 1897\n",
      "Banyak url film 1898\n",
      "Banyak url film 1899\n",
      "Banyak url film 1900\n"
     ]
    },
    {
     "name": "stderr",
     "output_type": "stream",
     "text": [
      "2020-12-04 12:45:13 [scrapy.core.engine] DEBUG: Crawled (200) <GET https://carifilms.com/films/page/191?order=DESC&is_meta_key=0&orderby=title#038;is_meta_key=0&orderby=title> (referer: None)\n"
     ]
    },
    {
     "name": "stdout",
     "output_type": "stream",
     "text": [
      "Banyak url film 1901\n",
      "Banyak url film 1902\n",
      "Banyak url film 1903\n",
      "Banyak url film 1904\n",
      "Banyak url film 1905\n",
      "Banyak url film 1906\n",
      "Banyak url film 1907\n",
      "Banyak url film 1908\n",
      "Banyak url film 1909\n",
      "Banyak url film 1910\n"
     ]
    },
    {
     "name": "stderr",
     "output_type": "stream",
     "text": [
      "2020-12-04 12:45:16 [scrapy.core.engine] DEBUG: Crawled (200) <GET https://carifilms.com/films/page/195?order=DESC&is_meta_key=0&orderby=title#038;is_meta_key=0&orderby=title> (referer: None)\n"
     ]
    },
    {
     "name": "stdout",
     "output_type": "stream",
     "text": [
      "Banyak url film 1911\n",
      "Banyak url film 1912\n",
      "Banyak url film 1913\n",
      "Banyak url film 1914\n",
      "Banyak url film 1915\n",
      "Banyak url film 1916\n",
      "Banyak url film 1917\n",
      "Banyak url film 1918\n",
      "Banyak url film 1919\n",
      "Banyak url film 1920\n"
     ]
    },
    {
     "name": "stderr",
     "output_type": "stream",
     "text": [
      "2020-12-04 12:45:20 [scrapy.core.engine] DEBUG: Crawled (200) <GET https://carifilms.com/films/page/197?order=DESC&is_meta_key=0&orderby=title#038;is_meta_key=0&orderby=title> (referer: None)\n"
     ]
    },
    {
     "name": "stdout",
     "output_type": "stream",
     "text": [
      "Banyak url film 1921\n",
      "Banyak url film 1922\n",
      "Banyak url film 1923\n",
      "Banyak url film 1924\n",
      "Banyak url film 1925\n",
      "Banyak url film 1926\n",
      "Banyak url film 1927\n",
      "Banyak url film 1928\n",
      "Banyak url film 1929\n",
      "Banyak url film 1930\n"
     ]
    },
    {
     "name": "stderr",
     "output_type": "stream",
     "text": [
      "2020-12-04 12:45:23 [scrapy.core.engine] DEBUG: Crawled (200) <GET https://carifilms.com/films/page/193?order=DESC&is_meta_key=0&orderby=title#038;is_meta_key=0&orderby=title> (referer: None)\n"
     ]
    },
    {
     "name": "stdout",
     "output_type": "stream",
     "text": [
      "Banyak url film 1931\n",
      "Banyak url film 1932\n",
      "Banyak url film 1933\n",
      "Banyak url film 1934\n",
      "Banyak url film 1935\n",
      "Banyak url film 1936\n",
      "Banyak url film 1937\n",
      "Banyak url film 1938\n",
      "Banyak url film 1939\n",
      "Banyak url film 1940\n"
     ]
    },
    {
     "name": "stderr",
     "output_type": "stream",
     "text": [
      "2020-12-04 12:45:27 [scrapy.core.engine] DEBUG: Crawled (200) <GET https://carifilms.com/films/page/196?order=DESC&is_meta_key=0&orderby=title#038;is_meta_key=0&orderby=title> (referer: None)\n"
     ]
    },
    {
     "name": "stdout",
     "output_type": "stream",
     "text": [
      "Banyak url film 1941\n",
      "Banyak url film 1942\n",
      "Banyak url film 1943\n",
      "Banyak url film 1944\n",
      "Banyak url film 1945\n",
      "Banyak url film 1946\n",
      "Banyak url film 1947\n",
      "Banyak url film 1948\n",
      "Banyak url film 1949\n",
      "Banyak url film 1950\n"
     ]
    },
    {
     "name": "stderr",
     "output_type": "stream",
     "text": [
      "2020-12-04 12:45:30 [scrapy.core.engine] DEBUG: Crawled (200) <GET https://carifilms.com/films/page/198?order=DESC&is_meta_key=0&orderby=title#038;is_meta_key=0&orderby=title> (referer: None)\n"
     ]
    },
    {
     "name": "stdout",
     "output_type": "stream",
     "text": [
      "Banyak url film 1951\n",
      "Banyak url film 1952\n",
      "Banyak url film 1953\n",
      "Banyak url film 1954\n",
      "Banyak url film 1955\n",
      "Banyak url film 1956\n",
      "Banyak url film 1957\n",
      "Banyak url film 1958\n",
      "Banyak url film 1959\n",
      "Banyak url film 1960\n"
     ]
    },
    {
     "name": "stderr",
     "output_type": "stream",
     "text": [
      "2020-12-04 12:45:34 [scrapy.core.engine] DEBUG: Crawled (200) <GET https://carifilms.com/films/page/181?order=DESC&is_meta_key=0&orderby=title#038;is_meta_key=0&orderby=title> (referer: None)\n"
     ]
    },
    {
     "name": "stdout",
     "output_type": "stream",
     "text": [
      "Banyak url film 1961\n",
      "Banyak url film 1962\n",
      "Banyak url film 1963\n",
      "Banyak url film 1964\n",
      "Banyak url film 1965\n",
      "Banyak url film 1966\n",
      "Banyak url film 1967\n",
      "Banyak url film 1968\n",
      "Banyak url film 1969\n",
      "Banyak url film 1970\n"
     ]
    },
    {
     "name": "stderr",
     "output_type": "stream",
     "text": [
      "2020-12-04 12:45:37 [scrapy.core.engine] DEBUG: Crawled (200) <GET https://carifilms.com/films/page/199?order=DESC&is_meta_key=0&orderby=title#038;is_meta_key=0&orderby=title> (referer: None)\n"
     ]
    },
    {
     "name": "stdout",
     "output_type": "stream",
     "text": [
      "Banyak url film 1971\n",
      "Banyak url film 1972\n",
      "Banyak url film 1973\n",
      "Banyak url film 1974\n",
      "Banyak url film 1975\n",
      "Banyak url film 1976\n",
      "Banyak url film 1977\n",
      "Banyak url film 1978\n",
      "Banyak url film 1979\n",
      "Banyak url film 1980\n"
     ]
    },
    {
     "name": "stderr",
     "output_type": "stream",
     "text": [
      "2020-12-04 12:45:39 [scrapy.extensions.logstats] INFO: Crawled 198 pages (at 18 pages/min), scraped 0 items (at 0 items/min)\n",
      "2020-12-04 12:45:41 [scrapy.core.engine] DEBUG: Crawled (200) <GET https://carifilms.com/films/page/202?order=DESC&is_meta_key=0&orderby=title#038;is_meta_key=0&orderby=title> (referer: None)\n"
     ]
    },
    {
     "name": "stdout",
     "output_type": "stream",
     "text": [
      "Banyak url film 1981\n",
      "Banyak url film 1982\n",
      "Banyak url film 1983\n",
      "Banyak url film 1984\n",
      "Banyak url film 1985\n",
      "Banyak url film 1986\n",
      "Banyak url film 1987\n",
      "Banyak url film 1988\n",
      "Banyak url film 1989\n",
      "Banyak url film 1990\n"
     ]
    },
    {
     "name": "stderr",
     "output_type": "stream",
     "text": [
      "2020-12-04 12:45:44 [scrapy.core.engine] DEBUG: Crawled (200) <GET https://carifilms.com/films/page/205?order=DESC&is_meta_key=0&orderby=title#038;is_meta_key=0&orderby=title> (referer: None)\n"
     ]
    },
    {
     "name": "stdout",
     "output_type": "stream",
     "text": [
      "Banyak url film 1991\n",
      "Banyak url film 1992\n",
      "Banyak url film 1993\n",
      "Banyak url film 1994\n",
      "Banyak url film 1995\n",
      "Banyak url film 1996\n",
      "Banyak url film 1997\n",
      "Banyak url film 1998\n",
      "Banyak url film 1999\n",
      "Banyak url film 2000\n"
     ]
    },
    {
     "name": "stderr",
     "output_type": "stream",
     "text": [
      "2020-12-04 12:45:48 [scrapy.core.engine] DEBUG: Crawled (200) <GET https://carifilms.com/films/page/200?order=DESC&is_meta_key=0&orderby=title#038;is_meta_key=0&orderby=title> (referer: None)\n"
     ]
    },
    {
     "name": "stdout",
     "output_type": "stream",
     "text": [
      "Banyak url film 2001\n",
      "Banyak url film 2002\n",
      "Banyak url film 2003\n",
      "Banyak url film 2004\n",
      "Banyak url film 2005\n",
      "Banyak url film 2006\n",
      "Banyak url film 2007\n",
      "Banyak url film 2008\n",
      "Banyak url film 2009\n",
      "Banyak url film 2010\n"
     ]
    },
    {
     "name": "stderr",
     "output_type": "stream",
     "text": [
      "2020-12-04 12:45:51 [scrapy.core.engine] DEBUG: Crawled (200) <GET https://carifilms.com/films/page/189?order=DESC&is_meta_key=0&orderby=title#038;is_meta_key=0&orderby=title> (referer: None)\n"
     ]
    },
    {
     "name": "stdout",
     "output_type": "stream",
     "text": [
      "Banyak url film 2011\n",
      "Banyak url film 2012\n",
      "Banyak url film 2013\n",
      "Banyak url film 2014\n",
      "Banyak url film 2015\n",
      "Banyak url film 2016\n",
      "Banyak url film 2017\n",
      "Banyak url film 2018\n",
      "Banyak url film 2019\n",
      "Banyak url film 2020\n"
     ]
    },
    {
     "name": "stderr",
     "output_type": "stream",
     "text": [
      "2020-12-04 12:45:55 [scrapy.core.engine] DEBUG: Crawled (200) <GET https://carifilms.com/films/page/203?order=DESC&is_meta_key=0&orderby=title#038;is_meta_key=0&orderby=title> (referer: None)\n"
     ]
    },
    {
     "name": "stdout",
     "output_type": "stream",
     "text": [
      "Banyak url film 2021\n",
      "Banyak url film 2022\n",
      "Banyak url film 2023\n",
      "Banyak url film 2024\n",
      "Banyak url film 2025\n",
      "Banyak url film 2026\n",
      "Banyak url film 2027\n",
      "Banyak url film 2028\n",
      "Banyak url film 2029\n",
      "Banyak url film 2030\n"
     ]
    },
    {
     "name": "stderr",
     "output_type": "stream",
     "text": [
      "2020-12-04 12:45:59 [scrapy.core.engine] DEBUG: Crawled (200) <GET https://carifilms.com/films/page/201?order=DESC&is_meta_key=0&orderby=title#038;is_meta_key=0&orderby=title> (referer: None)\n"
     ]
    },
    {
     "name": "stdout",
     "output_type": "stream",
     "text": [
      "Banyak url film 2031\n",
      "Banyak url film 2032\n",
      "Banyak url film 2033\n",
      "Banyak url film 2034\n",
      "Banyak url film 2035\n",
      "Banyak url film 2036\n",
      "Banyak url film 2037\n",
      "Banyak url film 2038\n",
      "Banyak url film 2039\n",
      "Banyak url film 2040\n"
     ]
    },
    {
     "name": "stderr",
     "output_type": "stream",
     "text": [
      "2020-12-04 12:46:02 [scrapy.core.engine] DEBUG: Crawled (200) <GET https://carifilms.com/films/page/204?order=DESC&is_meta_key=0&orderby=title#038;is_meta_key=0&orderby=title> (referer: None)\n"
     ]
    },
    {
     "name": "stdout",
     "output_type": "stream",
     "text": [
      "Banyak url film 2041\n",
      "Banyak url film 2042\n",
      "Banyak url film 2043\n",
      "Banyak url film 2044\n",
      "Banyak url film 2045\n",
      "Banyak url film 2046\n",
      "Banyak url film 2047\n",
      "Banyak url film 2048\n",
      "Banyak url film 2049\n",
      "Banyak url film 2050\n"
     ]
    },
    {
     "name": "stderr",
     "output_type": "stream",
     "text": [
      "2020-12-04 12:46:05 [scrapy.core.engine] DEBUG: Crawled (200) <GET https://carifilms.com/films/page/210?order=DESC&is_meta_key=0&orderby=title#038;is_meta_key=0&orderby=title> (referer: None)\n"
     ]
    },
    {
     "name": "stdout",
     "output_type": "stream",
     "text": [
      "Banyak url film 2051\n",
      "Banyak url film 2052\n",
      "Banyak url film 2053\n",
      "Banyak url film 2054\n",
      "Banyak url film 2055\n",
      "Banyak url film 2056\n",
      "Banyak url film 2057\n",
      "Banyak url film 2058\n",
      "Banyak url film 2059\n",
      "Banyak url film 2060\n"
     ]
    },
    {
     "name": "stderr",
     "output_type": "stream",
     "text": [
      "2020-12-04 12:46:08 [scrapy.core.engine] DEBUG: Crawled (200) <GET https://carifilms.com/films/page/209?order=DESC&is_meta_key=0&orderby=title#038;is_meta_key=0&orderby=title> (referer: None)\n"
     ]
    },
    {
     "name": "stdout",
     "output_type": "stream",
     "text": [
      "Banyak url film 2061\n",
      "Banyak url film 2062\n",
      "Banyak url film 2063\n",
      "Banyak url film 2064\n",
      "Banyak url film 2065\n",
      "Banyak url film 2066\n",
      "Banyak url film 2067\n",
      "Banyak url film 2068\n",
      "Banyak url film 2069\n",
      "Banyak url film 2070\n"
     ]
    },
    {
     "name": "stderr",
     "output_type": "stream",
     "text": [
      "2020-12-04 12:46:12 [scrapy.core.engine] DEBUG: Crawled (200) <GET https://carifilms.com/films/page/211?order=DESC&is_meta_key=0&orderby=title#038;is_meta_key=0&orderby=title> (referer: None)\n"
     ]
    },
    {
     "name": "stdout",
     "output_type": "stream",
     "text": [
      "Banyak url film 2071\n",
      "Banyak url film 2072\n",
      "Banyak url film 2073\n",
      "Banyak url film 2074\n",
      "Banyak url film 2075\n",
      "Banyak url film 2076\n",
      "Banyak url film 2077\n",
      "Banyak url film 2078\n",
      "Banyak url film 2079\n",
      "Banyak url film 2080\n"
     ]
    },
    {
     "name": "stderr",
     "output_type": "stream",
     "text": [
      "2020-12-04 12:46:15 [scrapy.core.engine] DEBUG: Crawled (200) <GET https://carifilms.com/films/page/208?order=DESC&is_meta_key=0&orderby=title#038;is_meta_key=0&orderby=title> (referer: None)\n"
     ]
    },
    {
     "name": "stdout",
     "output_type": "stream",
     "text": [
      "Banyak url film 2081\n",
      "Banyak url film 2082\n",
      "Banyak url film 2083\n",
      "Banyak url film 2084\n",
      "Banyak url film 2085\n",
      "Banyak url film 2086\n",
      "Banyak url film 2087\n",
      "Banyak url film 2088\n",
      "Banyak url film 2089\n",
      "Banyak url film 2090\n"
     ]
    },
    {
     "name": "stderr",
     "output_type": "stream",
     "text": [
      "2020-12-04 12:46:19 [scrapy.core.engine] DEBUG: Crawled (200) <GET https://carifilms.com/films/page/213?order=DESC&is_meta_key=0&orderby=title#038;is_meta_key=0&orderby=title> (referer: None)\n"
     ]
    },
    {
     "name": "stdout",
     "output_type": "stream",
     "text": [
      "Banyak url film 2091\n",
      "Banyak url film 2092\n",
      "Banyak url film 2093\n",
      "Banyak url film 2094\n",
      "Banyak url film 2095\n",
      "Banyak url film 2096\n",
      "Banyak url film 2097\n",
      "Banyak url film 2098\n",
      "Banyak url film 2099\n",
      "Banyak url film 2100\n"
     ]
    },
    {
     "name": "stderr",
     "output_type": "stream",
     "text": [
      "2020-12-04 12:46:22 [scrapy.core.engine] DEBUG: Crawled (200) <GET https://carifilms.com/films/page/212?order=DESC&is_meta_key=0&orderby=title#038;is_meta_key=0&orderby=title> (referer: None)\n"
     ]
    },
    {
     "name": "stdout",
     "output_type": "stream",
     "text": [
      "Banyak url film 2101\n",
      "Banyak url film 2102\n",
      "Banyak url film 2103\n",
      "Banyak url film 2104\n",
      "Banyak url film 2105\n",
      "Banyak url film 2106\n",
      "Banyak url film 2107\n",
      "Banyak url film 2108\n",
      "Banyak url film 2109\n",
      "Banyak url film 2110\n"
     ]
    },
    {
     "name": "stderr",
     "output_type": "stream",
     "text": [
      "2020-12-04 12:46:25 [scrapy.core.engine] DEBUG: Crawled (200) <GET https://carifilms.com/films/page/207?order=DESC&is_meta_key=0&orderby=title#038;is_meta_key=0&orderby=title> (referer: None)\n"
     ]
    },
    {
     "name": "stdout",
     "output_type": "stream",
     "text": [
      "Banyak url film 2111\n",
      "Banyak url film 2112\n",
      "Banyak url film 2113\n",
      "Banyak url film 2114\n",
      "Banyak url film 2115\n",
      "Banyak url film 2116\n",
      "Banyak url film 2117\n",
      "Banyak url film 2118\n",
      "Banyak url film 2119\n",
      "Banyak url film 2120\n"
     ]
    },
    {
     "name": "stderr",
     "output_type": "stream",
     "text": [
      "2020-12-04 12:46:29 [scrapy.core.engine] DEBUG: Crawled (200) <GET https://carifilms.com/films/page/218?order=DESC&is_meta_key=0&orderby=title#038;is_meta_key=0&orderby=title> (referer: None)\n"
     ]
    },
    {
     "name": "stdout",
     "output_type": "stream",
     "text": [
      "Banyak url film 2121\n",
      "Banyak url film 2122\n",
      "Banyak url film 2123\n",
      "Banyak url film 2124\n",
      "Banyak url film 2125\n",
      "Banyak url film 2126\n",
      "Banyak url film 2127\n",
      "Banyak url film 2128\n",
      "Banyak url film 2129\n",
      "Banyak url film 2130\n"
     ]
    },
    {
     "name": "stderr",
     "output_type": "stream",
     "text": [
      "2020-12-04 12:46:33 [scrapy.core.engine] DEBUG: Crawled (200) <GET https://carifilms.com/films/page/214?order=DESC&is_meta_key=0&orderby=title#038;is_meta_key=0&orderby=title> (referer: None)\n"
     ]
    },
    {
     "name": "stdout",
     "output_type": "stream",
     "text": [
      "Banyak url film 2131\n",
      "Banyak url film 2132\n",
      "Banyak url film 2133\n",
      "Banyak url film 2134\n",
      "Banyak url film 2135\n",
      "Banyak url film 2136\n",
      "Banyak url film 2137\n",
      "Banyak url film 2138\n",
      "Banyak url film 2139\n",
      "Banyak url film 2140\n"
     ]
    },
    {
     "name": "stderr",
     "output_type": "stream",
     "text": [
      "2020-12-04 12:46:36 [scrapy.core.engine] DEBUG: Crawled (200) <GET https://carifilms.com/films/page/219?order=DESC&is_meta_key=0&orderby=title#038;is_meta_key=0&orderby=title> (referer: None)\n"
     ]
    },
    {
     "name": "stdout",
     "output_type": "stream",
     "text": [
      "Banyak url film 2141\n",
      "Banyak url film 2142\n",
      "Banyak url film 2143\n",
      "Banyak url film 2144\n",
      "Banyak url film 2145\n",
      "Banyak url film 2146\n",
      "Banyak url film 2147\n",
      "Banyak url film 2148\n",
      "Banyak url film 2149\n",
      "Banyak url film 2150\n"
     ]
    },
    {
     "name": "stderr",
     "output_type": "stream",
     "text": [
      "2020-12-04 12:46:39 [scrapy.extensions.logstats] INFO: Crawled 215 pages (at 17 pages/min), scraped 0 items (at 0 items/min)\n",
      "2020-12-04 12:46:40 [scrapy.core.engine] DEBUG: Crawled (200) <GET https://carifilms.com/films/page/217?order=DESC&is_meta_key=0&orderby=title#038;is_meta_key=0&orderby=title> (referer: None)\n"
     ]
    },
    {
     "name": "stdout",
     "output_type": "stream",
     "text": [
      "Banyak url film 2151\n",
      "Banyak url film 2152\n",
      "Banyak url film 2153\n",
      "Banyak url film 2154\n",
      "Banyak url film 2155\n",
      "Banyak url film 2156\n",
      "Banyak url film 2157\n",
      "Banyak url film 2158\n",
      "Banyak url film 2159\n",
      "Banyak url film 2160\n"
     ]
    },
    {
     "name": "stderr",
     "output_type": "stream",
     "text": [
      "2020-12-04 12:46:43 [scrapy.core.engine] DEBUG: Crawled (200) <GET https://carifilms.com/films/page/221?order=DESC&is_meta_key=0&orderby=title#038;is_meta_key=0&orderby=title> (referer: None)\n"
     ]
    },
    {
     "name": "stdout",
     "output_type": "stream",
     "text": [
      "Banyak url film 2161\n",
      "Banyak url film 2162\n",
      "Banyak url film 2163\n",
      "Banyak url film 2164\n",
      "Banyak url film 2165\n",
      "Banyak url film 2166\n",
      "Banyak url film 2167\n",
      "Banyak url film 2168\n",
      "Banyak url film 2169\n",
      "Banyak url film 2170\n"
     ]
    },
    {
     "name": "stderr",
     "output_type": "stream",
     "text": [
      "2020-12-04 12:46:47 [scrapy.core.engine] DEBUG: Crawled (200) <GET https://carifilms.com/films/page/220?order=DESC&is_meta_key=0&orderby=title#038;is_meta_key=0&orderby=title> (referer: None)\n"
     ]
    },
    {
     "name": "stdout",
     "output_type": "stream",
     "text": [
      "Banyak url film 2171\n",
      "Banyak url film 2172\n",
      "Banyak url film 2173\n",
      "Banyak url film 2174\n",
      "Banyak url film 2175\n",
      "Banyak url film 2176\n",
      "Banyak url film 2177\n",
      "Banyak url film 2178\n",
      "Banyak url film 2179\n",
      "Banyak url film 2180\n"
     ]
    },
    {
     "name": "stderr",
     "output_type": "stream",
     "text": [
      "2020-12-04 12:46:50 [scrapy.core.engine] DEBUG: Crawled (200) <GET https://carifilms.com/films/page/224?order=DESC&is_meta_key=0&orderby=title#038;is_meta_key=0&orderby=title> (referer: None)\n"
     ]
    },
    {
     "name": "stdout",
     "output_type": "stream",
     "text": [
      "Banyak url film 2181\n",
      "Banyak url film 2182\n",
      "Banyak url film 2183\n",
      "Banyak url film 2184\n",
      "Banyak url film 2185\n",
      "Banyak url film 2186\n",
      "Banyak url film 2187\n",
      "Banyak url film 2188\n",
      "Banyak url film 2189\n",
      "Banyak url film 2190\n"
     ]
    },
    {
     "name": "stderr",
     "output_type": "stream",
     "text": [
      "2020-12-04 12:46:53 [scrapy.core.engine] DEBUG: Crawled (200) <GET https://carifilms.com/films/page/216?order=DESC&is_meta_key=0&orderby=title#038;is_meta_key=0&orderby=title> (referer: None)\n"
     ]
    },
    {
     "name": "stdout",
     "output_type": "stream",
     "text": [
      "Banyak url film 2191\n",
      "Banyak url film 2192\n",
      "Banyak url film 2193\n",
      "Banyak url film 2194\n",
      "Banyak url film 2195\n",
      "Banyak url film 2196\n",
      "Banyak url film 2197\n",
      "Banyak url film 2198\n",
      "Banyak url film 2199\n",
      "Banyak url film 2200\n"
     ]
    },
    {
     "name": "stderr",
     "output_type": "stream",
     "text": [
      "2020-12-04 12:46:57 [scrapy.core.engine] DEBUG: Crawled (200) <GET https://carifilms.com/films/page/222?order=DESC&is_meta_key=0&orderby=title#038;is_meta_key=0&orderby=title> (referer: None)\n"
     ]
    },
    {
     "name": "stdout",
     "output_type": "stream",
     "text": [
      "Banyak url film 2201\n",
      "Banyak url film 2202\n",
      "Banyak url film 2203\n",
      "Banyak url film 2204\n",
      "Banyak url film 2205\n",
      "Banyak url film 2206\n",
      "Banyak url film 2207\n",
      "Banyak url film 2208\n",
      "Banyak url film 2209\n",
      "Banyak url film 2210\n"
     ]
    },
    {
     "name": "stderr",
     "output_type": "stream",
     "text": [
      "2020-12-04 12:47:00 [scrapy.core.engine] DEBUG: Crawled (200) <GET https://carifilms.com/films/page/223?order=DESC&is_meta_key=0&orderby=title#038;is_meta_key=0&orderby=title> (referer: None)\n"
     ]
    },
    {
     "name": "stdout",
     "output_type": "stream",
     "text": [
      "Banyak url film 2211\n",
      "Banyak url film 2212\n",
      "Banyak url film 2213\n",
      "Banyak url film 2214\n",
      "Banyak url film 2215\n",
      "Banyak url film 2216\n",
      "Banyak url film 2217\n",
      "Banyak url film 2218\n",
      "Banyak url film 2219\n",
      "Banyak url film 2220\n"
     ]
    },
    {
     "name": "stderr",
     "output_type": "stream",
     "text": [
      "2020-12-04 12:47:04 [scrapy.core.engine] DEBUG: Crawled (200) <GET https://carifilms.com/films/page/215?order=DESC&is_meta_key=0&orderby=title#038;is_meta_key=0&orderby=title> (referer: None)\n"
     ]
    },
    {
     "name": "stdout",
     "output_type": "stream",
     "text": [
      "Banyak url film 2221\n",
      "Banyak url film 2222\n",
      "Banyak url film 2223\n",
      "Banyak url film 2224\n",
      "Banyak url film 2225\n",
      "Banyak url film 2226\n",
      "Banyak url film 2227\n",
      "Banyak url film 2228\n",
      "Banyak url film 2229\n",
      "Banyak url film 2230\n"
     ]
    },
    {
     "name": "stderr",
     "output_type": "stream",
     "text": [
      "2020-12-04 12:47:07 [scrapy.core.engine] DEBUG: Crawled (200) <GET https://carifilms.com/films/page/226?order=DESC&is_meta_key=0&orderby=title#038;is_meta_key=0&orderby=title> (referer: None)\n"
     ]
    },
    {
     "name": "stdout",
     "output_type": "stream",
     "text": [
      "Banyak url film 2231\n",
      "Banyak url film 2232\n",
      "Banyak url film 2233\n",
      "Banyak url film 2234\n",
      "Banyak url film 2235\n",
      "Banyak url film 2236\n",
      "Banyak url film 2237\n",
      "Banyak url film 2238\n",
      "Banyak url film 2239\n",
      "Banyak url film 2240\n"
     ]
    },
    {
     "name": "stderr",
     "output_type": "stream",
     "text": [
      "2020-12-04 12:47:10 [scrapy.core.engine] DEBUG: Crawled (200) <GET https://carifilms.com/films/page/227?order=DESC&is_meta_key=0&orderby=title#038;is_meta_key=0&orderby=title> (referer: None)\n"
     ]
    },
    {
     "name": "stdout",
     "output_type": "stream",
     "text": [
      "Banyak url film 2241\n",
      "Banyak url film 2242\n",
      "Banyak url film 2243\n",
      "Banyak url film 2244\n",
      "Banyak url film 2245\n",
      "Banyak url film 2246\n",
      "Banyak url film 2247\n",
      "Banyak url film 2248\n",
      "Banyak url film 2249\n",
      "Banyak url film 2250\n"
     ]
    },
    {
     "name": "stderr",
     "output_type": "stream",
     "text": [
      "2020-12-04 12:47:14 [scrapy.core.engine] DEBUG: Crawled (200) <GET https://carifilms.com/films/page/225?order=DESC&is_meta_key=0&orderby=title#038;is_meta_key=0&orderby=title> (referer: None)\n"
     ]
    },
    {
     "name": "stdout",
     "output_type": "stream",
     "text": [
      "Banyak url film 2251\n",
      "Banyak url film 2252\n",
      "Banyak url film 2253\n",
      "Banyak url film 2254\n",
      "Banyak url film 2255\n",
      "Banyak url film 2256\n",
      "Banyak url film 2257\n",
      "Banyak url film 2258\n",
      "Banyak url film 2259\n",
      "Banyak url film 2260\n"
     ]
    },
    {
     "name": "stderr",
     "output_type": "stream",
     "text": [
      "2020-12-04 12:47:17 [scrapy.core.engine] DEBUG: Crawled (200) <GET https://carifilms.com/films/page/229?order=DESC&is_meta_key=0&orderby=title#038;is_meta_key=0&orderby=title> (referer: None)\n"
     ]
    },
    {
     "name": "stdout",
     "output_type": "stream",
     "text": [
      "Banyak url film 2261\n",
      "Banyak url film 2262\n",
      "Banyak url film 2263\n",
      "Banyak url film 2264\n",
      "Banyak url film 2265\n",
      "Banyak url film 2266\n",
      "Banyak url film 2267\n",
      "Banyak url film 2268\n",
      "Banyak url film 2269\n",
      "Banyak url film 2270\n"
     ]
    },
    {
     "name": "stderr",
     "output_type": "stream",
     "text": [
      "2020-12-04 12:47:18 [scrapy.downloadermiddlewares.retry] DEBUG: Retrying <GET https://carifilms.com/films/page/206?order=DESC&is_meta_key=0&orderby=title#038;is_meta_key=0&orderby=title> (failed 1 times): 524 Unknown Status\n",
      "2020-12-04 12:47:20 [scrapy.core.engine] DEBUG: Crawled (200) <GET https://carifilms.com/films/page/230?order=DESC&is_meta_key=0&orderby=title#038;is_meta_key=0&orderby=title> (referer: None)\n"
     ]
    },
    {
     "name": "stdout",
     "output_type": "stream",
     "text": [
      "Banyak url film 2271\n",
      "Banyak url film 2272\n",
      "Banyak url film 2273\n",
      "Banyak url film 2274\n",
      "Banyak url film 2275\n",
      "Banyak url film 2276\n",
      "Banyak url film 2277\n",
      "Banyak url film 2278\n",
      "Banyak url film 2279\n",
      "Banyak url film 2280\n"
     ]
    },
    {
     "name": "stderr",
     "output_type": "stream",
     "text": [
      "2020-12-04 12:47:24 [scrapy.core.engine] DEBUG: Crawled (200) <GET https://carifilms.com/films/page/231?order=DESC&is_meta_key=0&orderby=title#038;is_meta_key=0&orderby=title> (referer: None)\n"
     ]
    },
    {
     "name": "stdout",
     "output_type": "stream",
     "text": [
      "Banyak url film 2281\n",
      "Banyak url film 2282\n",
      "Banyak url film 2283\n",
      "Banyak url film 2284\n",
      "Banyak url film 2285\n",
      "Banyak url film 2286\n",
      "Banyak url film 2287\n",
      "Banyak url film 2288\n",
      "Banyak url film 2289\n",
      "Banyak url film 2290\n"
     ]
    },
    {
     "name": "stderr",
     "output_type": "stream",
     "text": [
      "2020-12-04 12:47:27 [scrapy.core.engine] DEBUG: Crawled (200) <GET https://carifilms.com/films/page/233?order=DESC&is_meta_key=0&orderby=title#038;is_meta_key=0&orderby=title> (referer: None)\n"
     ]
    },
    {
     "name": "stdout",
     "output_type": "stream",
     "text": [
      "Banyak url film 2291\n",
      "Banyak url film 2292\n",
      "Banyak url film 2293\n",
      "Banyak url film 2294\n",
      "Banyak url film 2295\n",
      "Banyak url film 2296\n",
      "Banyak url film 2297\n",
      "Banyak url film 2298\n",
      "Banyak url film 2299\n",
      "Banyak url film 2300\n"
     ]
    },
    {
     "name": "stderr",
     "output_type": "stream",
     "text": [
      "2020-12-04 12:47:30 [scrapy.core.engine] DEBUG: Crawled (200) <GET https://carifilms.com/films/page/228?order=DESC&is_meta_key=0&orderby=title#038;is_meta_key=0&orderby=title> (referer: None)\n"
     ]
    },
    {
     "name": "stdout",
     "output_type": "stream",
     "text": [
      "Banyak url film 2301\n",
      "Banyak url film 2302\n",
      "Banyak url film 2303\n",
      "Banyak url film 2304\n",
      "Banyak url film 2305\n",
      "Banyak url film 2306\n",
      "Banyak url film 2307\n",
      "Banyak url film 2308\n",
      "Banyak url film 2309\n",
      "Banyak url film 2310\n"
     ]
    },
    {
     "name": "stderr",
     "output_type": "stream",
     "text": [
      "2020-12-04 12:47:34 [scrapy.core.engine] DEBUG: Crawled (200) <GET https://carifilms.com/films/page/235?order=DESC&is_meta_key=0&orderby=title#038;is_meta_key=0&orderby=title> (referer: None)\n"
     ]
    },
    {
     "name": "stdout",
     "output_type": "stream",
     "text": [
      "Banyak url film 2311\n",
      "Banyak url film 2312\n",
      "Banyak url film 2313\n",
      "Banyak url film 2314\n",
      "Banyak url film 2315\n",
      "Banyak url film 2316\n",
      "Banyak url film 2317\n",
      "Banyak url film 2318\n",
      "Banyak url film 2319\n",
      "Banyak url film 2320\n"
     ]
    },
    {
     "name": "stderr",
     "output_type": "stream",
     "text": [
      "2020-12-04 12:47:37 [scrapy.core.engine] DEBUG: Crawled (200) <GET https://carifilms.com/films/page/237?order=DESC&is_meta_key=0&orderby=title#038;is_meta_key=0&orderby=title> (referer: None)\n"
     ]
    },
    {
     "name": "stdout",
     "output_type": "stream",
     "text": [
      "Banyak url film 2321\n",
      "Banyak url film 2322\n",
      "Banyak url film 2323\n",
      "Banyak url film 2324\n",
      "Banyak url film 2325\n",
      "Banyak url film 2326\n",
      "Banyak url film 2327\n",
      "Banyak url film 2328\n",
      "Banyak url film 2329\n",
      "Banyak url film 2330\n"
     ]
    },
    {
     "name": "stderr",
     "output_type": "stream",
     "text": [
      "2020-12-04 12:47:39 [scrapy.extensions.logstats] INFO: Crawled 233 pages (at 18 pages/min), scraped 0 items (at 0 items/min)\n",
      "2020-12-04 12:47:41 [scrapy.core.engine] DEBUG: Crawled (200) <GET https://carifilms.com/films/page/239?order=DESC&is_meta_key=0&orderby=title#038;is_meta_key=0&orderby=title> (referer: None)\n"
     ]
    },
    {
     "name": "stdout",
     "output_type": "stream",
     "text": [
      "Banyak url film 2331\n",
      "Banyak url film 2332\n",
      "Banyak url film 2333\n",
      "Banyak url film 2334\n",
      "Banyak url film 2335\n",
      "Banyak url film 2336\n",
      "Banyak url film 2337\n",
      "Banyak url film 2338\n",
      "Banyak url film 2339\n",
      "Banyak url film 2340\n"
     ]
    },
    {
     "name": "stderr",
     "output_type": "stream",
     "text": [
      "2020-12-04 12:47:44 [scrapy.core.engine] DEBUG: Crawled (200) <GET https://carifilms.com/films/page/234?order=DESC&is_meta_key=0&orderby=title#038;is_meta_key=0&orderby=title> (referer: None)\n"
     ]
    },
    {
     "name": "stdout",
     "output_type": "stream",
     "text": [
      "Banyak url film 2341\n",
      "Banyak url film 2342\n",
      "Banyak url film 2343\n",
      "Banyak url film 2344\n",
      "Banyak url film 2345\n",
      "Banyak url film 2346\n",
      "Banyak url film 2347\n",
      "Banyak url film 2348\n",
      "Banyak url film 2349\n",
      "Banyak url film 2350\n"
     ]
    },
    {
     "name": "stderr",
     "output_type": "stream",
     "text": [
      "2020-12-04 12:47:45 [scrapy.downloadermiddlewares.retry] DEBUG: Retrying <GET https://carifilms.com/films/page/206?order=DESC&is_meta_key=0&orderby=title#038;is_meta_key=0&orderby=title> (failed 2 times): 524 Unknown Status\n",
      "2020-12-04 12:47:47 [scrapy.downloadermiddlewares.retry] DEBUG: Retrying <GET https://carifilms.com/films/page/244?order=DESC&is_meta_key=0&orderby=title#038;is_meta_key=0&orderby=title> (failed 1 times): 524 Unknown Status\n",
      "2020-12-04 12:47:47 [scrapy.core.engine] DEBUG: Crawled (200) <GET https://carifilms.com/films/page/232?order=DESC&is_meta_key=0&orderby=title#038;is_meta_key=0&orderby=title> (referer: None)\n"
     ]
    },
    {
     "name": "stdout",
     "output_type": "stream",
     "text": [
      "Banyak url film 2351\n",
      "Banyak url film 2352\n",
      "Banyak url film 2353\n",
      "Banyak url film 2354\n",
      "Banyak url film 2355\n",
      "Banyak url film 2356\n",
      "Banyak url film 2357\n",
      "Banyak url film 2358\n",
      "Banyak url film 2359\n",
      "Banyak url film 2360\n"
     ]
    },
    {
     "name": "stderr",
     "output_type": "stream",
     "text": [
      "2020-12-04 12:47:49 [scrapy.downloadermiddlewares.retry] DEBUG: Retrying <GET https://carifilms.com/films/page/246?order=DESC&is_meta_key=0&orderby=title#038;is_meta_key=0&orderby=title> (failed 1 times): 524 Unknown Status\n",
      "2020-12-04 12:47:49 [scrapy.downloadermiddlewares.retry] DEBUG: Retrying <GET https://carifilms.com/films/page/245?order=DESC&is_meta_key=0&orderby=title#038;is_meta_key=0&orderby=title> (failed 1 times): 524 Unknown Status\n",
      "2020-12-04 12:47:50 [scrapy.downloadermiddlewares.retry] DEBUG: Retrying <GET https://carifilms.com/films/page/247?order=DESC&is_meta_key=0&orderby=title#038;is_meta_key=0&orderby=title> (failed 1 times): 524 Unknown Status\n",
      "2020-12-04 12:47:50 [scrapy.core.engine] DEBUG: Crawled (200) <GET https://carifilms.com/films/page/240?order=DESC&is_meta_key=0&orderby=title#038;is_meta_key=0&orderby=title> (referer: None)\n"
     ]
    },
    {
     "name": "stdout",
     "output_type": "stream",
     "text": [
      "Banyak url film 2361\n",
      "Banyak url film 2362\n",
      "Banyak url film 2363\n",
      "Banyak url film 2364\n",
      "Banyak url film 2365\n",
      "Banyak url film 2366\n",
      "Banyak url film 2367\n",
      "Banyak url film 2368\n",
      "Banyak url film 2369\n",
      "Banyak url film 2370\n"
     ]
    },
    {
     "name": "stderr",
     "output_type": "stream",
     "text": [
      "2020-12-04 12:47:51 [scrapy.downloadermiddlewares.retry] DEBUG: Retrying <GET https://carifilms.com/films/page/248?order=DESC&is_meta_key=0&orderby=title#038;is_meta_key=0&orderby=title> (failed 1 times): 524 Unknown Status\n",
      "2020-12-04 12:47:52 [scrapy.downloadermiddlewares.retry] DEBUG: Retrying <GET https://carifilms.com/films/page/249?order=DESC&is_meta_key=0&orderby=title#038;is_meta_key=0&orderby=title> (failed 1 times): 524 Unknown Status\n",
      "2020-12-04 12:47:52 [scrapy.downloadermiddlewares.retry] DEBUG: Retrying <GET https://carifilms.com/films/page/250?order=DESC&is_meta_key=0&orderby=title#038;is_meta_key=0&orderby=title> (failed 1 times): 524 Unknown Status\n",
      "2020-12-04 12:47:54 [scrapy.core.engine] DEBUG: Crawled (200) <GET https://carifilms.com/films/page/242?order=DESC&is_meta_key=0&orderby=title#038;is_meta_key=0&orderby=title> (referer: None)\n"
     ]
    },
    {
     "name": "stdout",
     "output_type": "stream",
     "text": [
      "Banyak url film 2371\n",
      "Banyak url film 2372\n",
      "Banyak url film 2373\n",
      "Banyak url film 2374\n",
      "Banyak url film 2375\n",
      "Banyak url film 2376\n",
      "Banyak url film 2377\n",
      "Banyak url film 2378\n",
      "Banyak url film 2379\n",
      "Banyak url film 2380\n"
     ]
    },
    {
     "name": "stderr",
     "output_type": "stream",
     "text": [
      "2020-12-04 12:47:56 [scrapy.downloadermiddlewares.retry] DEBUG: Retrying <GET https://carifilms.com/films/page/251?order=DESC&is_meta_key=0&orderby=title#038;is_meta_key=0&orderby=title> (failed 1 times): 524 Unknown Status\n",
      "2020-12-04 12:48:01 [scrapy.core.engine] DEBUG: Crawled (200) <GET https://carifilms.com/films/page/243?order=DESC&is_meta_key=0&orderby=title#038;is_meta_key=0&orderby=title> (referer: None)\n"
     ]
    },
    {
     "name": "stdout",
     "output_type": "stream",
     "text": [
      "Banyak url film 2381\n",
      "Banyak url film 2382\n",
      "Banyak url film 2383\n",
      "Banyak url film 2384\n",
      "Banyak url film 2385\n",
      "Banyak url film 2386\n",
      "Banyak url film 2387\n",
      "Banyak url film 2388\n",
      "Banyak url film 2389\n",
      "Banyak url film 2390\n"
     ]
    },
    {
     "name": "stderr",
     "output_type": "stream",
     "text": [
      "2020-12-04 12:48:04 [scrapy.core.engine] DEBUG: Crawled (200) <GET https://carifilms.com/films/page/236?order=DESC&is_meta_key=0&orderby=title#038;is_meta_key=0&orderby=title> (referer: None)\n"
     ]
    },
    {
     "name": "stdout",
     "output_type": "stream",
     "text": [
      "Banyak url film 2391\n",
      "Banyak url film 2392\n",
      "Banyak url film 2393\n",
      "Banyak url film 2394\n",
      "Banyak url film 2395\n",
      "Banyak url film 2396\n",
      "Banyak url film 2397\n",
      "Banyak url film 2398\n",
      "Banyak url film 2399\n",
      "Banyak url film 2400\n"
     ]
    },
    {
     "name": "stderr",
     "output_type": "stream",
     "text": [
      "2020-12-04 12:48:07 [scrapy.core.engine] DEBUG: Crawled (200) <GET https://carifilms.com/films/page/241?order=DESC&is_meta_key=0&orderby=title#038;is_meta_key=0&orderby=title> (referer: None)\n"
     ]
    },
    {
     "name": "stdout",
     "output_type": "stream",
     "text": [
      "Banyak url film 2401\n",
      "Banyak url film 2402\n",
      "Banyak url film 2403\n",
      "Banyak url film 2404\n",
      "Banyak url film 2405\n",
      "Banyak url film 2406\n",
      "Banyak url film 2407\n",
      "Banyak url film 2408\n",
      "Banyak url film 2409\n",
      "Banyak url film 2410\n"
     ]
    },
    {
     "name": "stderr",
     "output_type": "stream",
     "text": [
      "2020-12-04 12:48:11 [scrapy.core.engine] DEBUG: Crawled (200) <GET https://carifilms.com/films/page/244?order=DESC&is_meta_key=0&orderby=title#038;is_meta_key=0&orderby=title> (referer: None)\n"
     ]
    },
    {
     "name": "stdout",
     "output_type": "stream",
     "text": [
      "Banyak url film 2411\n",
      "Banyak url film 2412\n",
      "Banyak url film 2413\n",
      "Banyak url film 2414\n",
      "Banyak url film 2415\n",
      "Banyak url film 2416\n",
      "Banyak url film 2417\n",
      "Banyak url film 2418\n",
      "Banyak url film 2419\n",
      "Banyak url film 2420\n"
     ]
    },
    {
     "name": "stderr",
     "output_type": "stream",
     "text": [
      "2020-12-04 12:48:14 [scrapy.core.engine] DEBUG: Crawled (200) <GET https://carifilms.com/films/page/246?order=DESC&is_meta_key=0&orderby=title#038;is_meta_key=0&orderby=title> (referer: None)\n"
     ]
    },
    {
     "name": "stdout",
     "output_type": "stream",
     "text": [
      "Banyak url film 2421\n",
      "Banyak url film 2422\n",
      "Banyak url film 2423\n",
      "Banyak url film 2424\n",
      "Banyak url film 2425\n",
      "Banyak url film 2426\n",
      "Banyak url film 2427\n",
      "Banyak url film 2428\n",
      "Banyak url film 2429\n",
      "Banyak url film 2430\n"
     ]
    },
    {
     "name": "stderr",
     "output_type": "stream",
     "text": [
      "2020-12-04 12:48:17 [scrapy.core.engine] DEBUG: Crawled (200) <GET https://carifilms.com/films/page/206?order=DESC&is_meta_key=0&orderby=title#038;is_meta_key=0&orderby=title> (referer: None)\n"
     ]
    },
    {
     "name": "stdout",
     "output_type": "stream",
     "text": [
      "Banyak url film 2431\n",
      "Banyak url film 2432\n",
      "Banyak url film 2433\n",
      "Banyak url film 2434\n",
      "Banyak url film 2435\n",
      "Banyak url film 2436\n",
      "Banyak url film 2437\n",
      "Banyak url film 2438\n",
      "Banyak url film 2439\n",
      "Banyak url film 2440\n"
     ]
    },
    {
     "name": "stderr",
     "output_type": "stream",
     "text": [
      "2020-12-04 12:48:21 [scrapy.core.engine] DEBUG: Crawled (200) <GET https://carifilms.com/films/page/253?order=DESC&is_meta_key=0&orderby=title#038;is_meta_key=0&orderby=title> (referer: None)\n"
     ]
    },
    {
     "name": "stdout",
     "output_type": "stream",
     "text": [
      "Banyak url film 2441\n",
      "Banyak url film 2442\n",
      "Banyak url film 2443\n",
      "Banyak url film 2444\n",
      "Banyak url film 2445\n",
      "Banyak url film 2446\n",
      "Banyak url film 2447\n",
      "Banyak url film 2448\n",
      "Banyak url film 2449\n",
      "Banyak url film 2450\n"
     ]
    },
    {
     "name": "stderr",
     "output_type": "stream",
     "text": [
      "2020-12-04 12:48:24 [scrapy.core.engine] DEBUG: Crawled (200) <GET https://carifilms.com/films/page/248?order=DESC&is_meta_key=0&orderby=title#038;is_meta_key=0&orderby=title> (referer: None)\n"
     ]
    },
    {
     "name": "stdout",
     "output_type": "stream",
     "text": [
      "Banyak url film 2451\n",
      "Banyak url film 2452\n",
      "Banyak url film 2453\n",
      "Banyak url film 2454\n",
      "Banyak url film 2455\n",
      "Banyak url film 2456\n",
      "Banyak url film 2457\n",
      "Banyak url film 2458\n",
      "Banyak url film 2459\n",
      "Banyak url film 2460\n"
     ]
    },
    {
     "name": "stderr",
     "output_type": "stream",
     "text": [
      "2020-12-04 12:48:28 [scrapy.core.engine] DEBUG: Crawled (200) <GET https://carifilms.com/films/page/252?order=DESC&is_meta_key=0&orderby=title#038;is_meta_key=0&orderby=title> (referer: None)\n"
     ]
    },
    {
     "name": "stdout",
     "output_type": "stream",
     "text": [
      "Banyak url film 2461\n",
      "Banyak url film 2462\n",
      "Banyak url film 2463\n",
      "Banyak url film 2464\n",
      "Banyak url film 2465\n",
      "Banyak url film 2466\n",
      "Banyak url film 2467\n",
      "Banyak url film 2468\n",
      "Banyak url film 2469\n",
      "Banyak url film 2470\n"
     ]
    },
    {
     "name": "stderr",
     "output_type": "stream",
     "text": [
      "2020-12-04 12:48:31 [scrapy.core.engine] DEBUG: Crawled (200) <GET https://carifilms.com/films/page/247?order=DESC&is_meta_key=0&orderby=title#038;is_meta_key=0&orderby=title> (referer: None)\n"
     ]
    },
    {
     "name": "stdout",
     "output_type": "stream",
     "text": [
      "Banyak url film 2471\n",
      "Banyak url film 2472\n",
      "Banyak url film 2473\n",
      "Banyak url film 2474\n",
      "Banyak url film 2475\n",
      "Banyak url film 2476\n",
      "Banyak url film 2477\n",
      "Banyak url film 2478\n",
      "Banyak url film 2479\n",
      "Banyak url film 2480\n"
     ]
    },
    {
     "name": "stderr",
     "output_type": "stream",
     "text": [
      "2020-12-04 12:48:34 [scrapy.core.engine] DEBUG: Crawled (200) <GET https://carifilms.com/films/page/245?order=DESC&is_meta_key=0&orderby=title#038;is_meta_key=0&orderby=title> (referer: None)\n"
     ]
    },
    {
     "name": "stdout",
     "output_type": "stream",
     "text": [
      "Banyak url film 2481\n",
      "Banyak url film 2482\n",
      "Banyak url film 2483\n",
      "Banyak url film 2484\n",
      "Banyak url film 2485\n",
      "Banyak url film 2486\n",
      "Banyak url film 2487\n",
      "Banyak url film 2488\n",
      "Banyak url film 2489\n",
      "Banyak url film 2490\n"
     ]
    },
    {
     "name": "stderr",
     "output_type": "stream",
     "text": [
      "2020-12-04 12:48:38 [scrapy.core.engine] DEBUG: Crawled (200) <GET https://carifilms.com/films/page/254?order=DESC&is_meta_key=0&orderby=title#038;is_meta_key=0&orderby=title> (referer: None)\n"
     ]
    },
    {
     "name": "stdout",
     "output_type": "stream",
     "text": [
      "Banyak url film 2491\n",
      "Banyak url film 2492\n",
      "Banyak url film 2493\n",
      "Banyak url film 2494\n",
      "Banyak url film 2495\n",
      "Banyak url film 2496\n",
      "Banyak url film 2497\n",
      "Banyak url film 2498\n",
      "Banyak url film 2499\n",
      "Banyak url film 2500\n"
     ]
    },
    {
     "name": "stderr",
     "output_type": "stream",
     "text": [
      "2020-12-04 12:48:39 [scrapy.extensions.logstats] INFO: Crawled 250 pages (at 17 pages/min), scraped 0 items (at 0 items/min)\n",
      "2020-12-04 12:48:41 [scrapy.core.engine] DEBUG: Crawled (200) <GET https://carifilms.com/films/page/256?order=DESC&is_meta_key=0&orderby=title#038;is_meta_key=0&orderby=title> (referer: None)\n"
     ]
    },
    {
     "name": "stdout",
     "output_type": "stream",
     "text": [
      "Banyak url film 2501\n",
      "Banyak url film 2502\n",
      "Banyak url film 2503\n",
      "Banyak url film 2504\n",
      "Banyak url film 2505\n",
      "Banyak url film 2506\n",
      "Banyak url film 2507\n",
      "Banyak url film 2508\n",
      "Banyak url film 2509\n",
      "Banyak url film 2510\n"
     ]
    },
    {
     "name": "stderr",
     "output_type": "stream",
     "text": [
      "2020-12-04 12:48:45 [scrapy.core.engine] DEBUG: Crawled (200) <GET https://carifilms.com/films/page/257?order=DESC&is_meta_key=0&orderby=title#038;is_meta_key=0&orderby=title> (referer: None)\n"
     ]
    },
    {
     "name": "stdout",
     "output_type": "stream",
     "text": [
      "Banyak url film 2511\n",
      "Banyak url film 2512\n",
      "Banyak url film 2513\n",
      "Banyak url film 2514\n",
      "Banyak url film 2515\n",
      "Banyak url film 2516\n",
      "Banyak url film 2517\n",
      "Banyak url film 2518\n",
      "Banyak url film 2519\n",
      "Banyak url film 2520\n"
     ]
    },
    {
     "name": "stderr",
     "output_type": "stream",
     "text": [
      "2020-12-04 12:48:48 [scrapy.core.engine] DEBUG: Crawled (200) <GET https://carifilms.com/films/page/249?order=DESC&is_meta_key=0&orderby=title#038;is_meta_key=0&orderby=title> (referer: None)\n"
     ]
    },
    {
     "name": "stdout",
     "output_type": "stream",
     "text": [
      "Banyak url film 2521\n",
      "Banyak url film 2522\n",
      "Banyak url film 2523\n",
      "Banyak url film 2524\n",
      "Banyak url film 2525\n",
      "Banyak url film 2526\n",
      "Banyak url film 2527\n",
      "Banyak url film 2528\n",
      "Banyak url film 2529\n",
      "Banyak url film 2530\n"
     ]
    },
    {
     "name": "stderr",
     "output_type": "stream",
     "text": [
      "2020-12-04 12:48:51 [scrapy.core.engine] DEBUG: Crawled (200) <GET https://carifilms.com/films/page/255?order=DESC&is_meta_key=0&orderby=title#038;is_meta_key=0&orderby=title> (referer: None)\n"
     ]
    },
    {
     "name": "stdout",
     "output_type": "stream",
     "text": [
      "Banyak url film 2531\n",
      "Banyak url film 2532\n",
      "Banyak url film 2533\n",
      "Banyak url film 2534\n",
      "Banyak url film 2535\n",
      "Banyak url film 2536\n",
      "Banyak url film 2537\n",
      "Banyak url film 2538\n",
      "Banyak url film 2539\n",
      "Banyak url film 2540\n"
     ]
    },
    {
     "name": "stderr",
     "output_type": "stream",
     "text": [
      "2020-12-04 12:48:55 [scrapy.core.engine] DEBUG: Crawled (200) <GET https://carifilms.com/films/page/238?order=DESC&is_meta_key=0&orderby=title#038;is_meta_key=0&orderby=title> (referer: None)\n"
     ]
    },
    {
     "name": "stdout",
     "output_type": "stream",
     "text": [
      "Banyak url film 2541\n",
      "Banyak url film 2542\n",
      "Banyak url film 2543\n",
      "Banyak url film 2544\n",
      "Banyak url film 2545\n",
      "Banyak url film 2546\n",
      "Banyak url film 2547\n",
      "Banyak url film 2548\n",
      "Banyak url film 2549\n",
      "Banyak url film 2550\n"
     ]
    },
    {
     "name": "stderr",
     "output_type": "stream",
     "text": [
      "2020-12-04 12:48:58 [scrapy.core.engine] DEBUG: Crawled (200) <GET https://carifilms.com/films/page/258?order=DESC&is_meta_key=0&orderby=title#038;is_meta_key=0&orderby=title> (referer: None)\n"
     ]
    },
    {
     "name": "stdout",
     "output_type": "stream",
     "text": [
      "Banyak url film 2551\n",
      "Banyak url film 2552\n",
      "Banyak url film 2553\n",
      "Banyak url film 2554\n",
      "Banyak url film 2555\n",
      "Banyak url film 2556\n",
      "Banyak url film 2557\n",
      "Banyak url film 2558\n",
      "Banyak url film 2559\n",
      "Banyak url film 2560\n"
     ]
    },
    {
     "name": "stderr",
     "output_type": "stream",
     "text": [
      "2020-12-04 12:49:02 [scrapy.core.engine] DEBUG: Crawled (200) <GET https://carifilms.com/films/page/259?order=DESC&is_meta_key=0&orderby=title#038;is_meta_key=0&orderby=title> (referer: None)\n"
     ]
    },
    {
     "name": "stdout",
     "output_type": "stream",
     "text": [
      "Banyak url film 2561\n",
      "Banyak url film 2562\n",
      "Banyak url film 2563\n",
      "Banyak url film 2564\n",
      "Banyak url film 2565\n",
      "Banyak url film 2566\n",
      "Banyak url film 2567\n",
      "Banyak url film 2568\n",
      "Banyak url film 2569\n",
      "Banyak url film 2570\n"
     ]
    },
    {
     "name": "stderr",
     "output_type": "stream",
     "text": [
      "2020-12-04 12:49:05 [scrapy.core.engine] DEBUG: Crawled (200) <GET https://carifilms.com/films/page/250?order=DESC&is_meta_key=0&orderby=title#038;is_meta_key=0&orderby=title> (referer: None)\n"
     ]
    },
    {
     "name": "stdout",
     "output_type": "stream",
     "text": [
      "Banyak url film 2571\n",
      "Banyak url film 2572\n",
      "Banyak url film 2573\n",
      "Banyak url film 2574\n",
      "Banyak url film 2575\n",
      "Banyak url film 2576\n",
      "Banyak url film 2577\n",
      "Banyak url film 2578\n",
      "Banyak url film 2579\n",
      "Banyak url film 2580\n"
     ]
    },
    {
     "name": "stderr",
     "output_type": "stream",
     "text": [
      "2020-12-04 12:49:08 [scrapy.core.engine] DEBUG: Crawled (200) <GET https://carifilms.com/films/page/251?order=DESC&is_meta_key=0&orderby=title#038;is_meta_key=0&orderby=title> (referer: None)\n"
     ]
    },
    {
     "name": "stdout",
     "output_type": "stream",
     "text": [
      "Banyak url film 2581\n",
      "Banyak url film 2582\n",
      "Banyak url film 2583\n",
      "Banyak url film 2584\n",
      "Banyak url film 2585\n",
      "Banyak url film 2586\n",
      "Banyak url film 2587\n",
      "Banyak url film 2588\n",
      "Banyak url film 2589\n",
      "Banyak url film 2590\n"
     ]
    },
    {
     "name": "stderr",
     "output_type": "stream",
     "text": [
      "2020-12-04 12:49:11 [scrapy.core.engine] DEBUG: Crawled (200) <GET https://carifilms.com/films/page/262?order=DESC&is_meta_key=0&orderby=title#038;is_meta_key=0&orderby=title> (referer: None)\n"
     ]
    },
    {
     "name": "stdout",
     "output_type": "stream",
     "text": [
      "Banyak url film 2591\n",
      "Banyak url film 2592\n",
      "Banyak url film 2593\n",
      "Banyak url film 2594\n",
      "Banyak url film 2595\n",
      "Banyak url film 2596\n",
      "Banyak url film 2597\n",
      "Banyak url film 2598\n",
      "Banyak url film 2599\n",
      "Banyak url film 2600\n"
     ]
    },
    {
     "name": "stderr",
     "output_type": "stream",
     "text": [
      "2020-12-04 12:49:15 [scrapy.core.engine] DEBUG: Crawled (200) <GET https://carifilms.com/films/page/263?order=DESC&is_meta_key=0&orderby=title#038;is_meta_key=0&orderby=title> (referer: None)\n"
     ]
    },
    {
     "name": "stdout",
     "output_type": "stream",
     "text": [
      "Banyak url film 2601\n",
      "Banyak url film 2602\n",
      "Banyak url film 2603\n",
      "Banyak url film 2604\n",
      "Banyak url film 2605\n",
      "Banyak url film 2606\n",
      "Banyak url film 2607\n",
      "Banyak url film 2608\n",
      "Banyak url film 2609\n",
      "Banyak url film 2610\n"
     ]
    },
    {
     "name": "stderr",
     "output_type": "stream",
     "text": [
      "2020-12-04 12:49:18 [scrapy.core.engine] DEBUG: Crawled (200) <GET https://carifilms.com/films/page/265?order=DESC&is_meta_key=0&orderby=title#038;is_meta_key=0&orderby=title> (referer: None)\n"
     ]
    },
    {
     "name": "stdout",
     "output_type": "stream",
     "text": [
      "Banyak url film 2611\n",
      "Banyak url film 2612\n",
      "Banyak url film 2613\n",
      "Banyak url film 2614\n",
      "Banyak url film 2615\n",
      "Banyak url film 2616\n",
      "Banyak url film 2617\n",
      "Banyak url film 2618\n",
      "Banyak url film 2619\n",
      "Banyak url film 2620\n"
     ]
    },
    {
     "name": "stderr",
     "output_type": "stream",
     "text": [
      "2020-12-04 12:49:21 [scrapy.core.engine] DEBUG: Crawled (200) <GET https://carifilms.com/films/page/260?order=DESC&is_meta_key=0&orderby=title#038;is_meta_key=0&orderby=title> (referer: None)\n"
     ]
    },
    {
     "name": "stdout",
     "output_type": "stream",
     "text": [
      "Banyak url film 2621\n",
      "Banyak url film 2622\n",
      "Banyak url film 2623\n",
      "Banyak url film 2624\n",
      "Banyak url film 2625\n",
      "Banyak url film 2626\n",
      "Banyak url film 2627\n",
      "Banyak url film 2628\n",
      "Banyak url film 2629\n",
      "Banyak url film 2630\n"
     ]
    },
    {
     "name": "stderr",
     "output_type": "stream",
     "text": [
      "2020-12-04 12:49:25 [scrapy.core.engine] DEBUG: Crawled (200) <GET https://carifilms.com/films/page/261?order=DESC&is_meta_key=0&orderby=title#038;is_meta_key=0&orderby=title> (referer: None)\n"
     ]
    },
    {
     "name": "stdout",
     "output_type": "stream",
     "text": [
      "Banyak url film 2631\n",
      "Banyak url film 2632\n",
      "Banyak url film 2633\n",
      "Banyak url film 2634\n",
      "Banyak url film 2635\n",
      "Banyak url film 2636\n",
      "Banyak url film 2637\n",
      "Banyak url film 2638\n",
      "Banyak url film 2639\n",
      "Banyak url film 2640\n"
     ]
    },
    {
     "name": "stderr",
     "output_type": "stream",
     "text": [
      "2020-12-04 12:49:28 [scrapy.core.engine] DEBUG: Crawled (200) <GET https://carifilms.com/films/page/264?order=DESC&is_meta_key=0&orderby=title#038;is_meta_key=0&orderby=title> (referer: None)\n"
     ]
    },
    {
     "name": "stdout",
     "output_type": "stream",
     "text": [
      "Banyak url film 2641\n",
      "Banyak url film 2642\n",
      "Banyak url film 2643\n",
      "Banyak url film 2644\n",
      "Banyak url film 2645\n",
      "Banyak url film 2646\n",
      "Banyak url film 2647\n",
      "Banyak url film 2648\n",
      "Banyak url film 2649\n",
      "Banyak url film 2650\n"
     ]
    },
    {
     "name": "stderr",
     "output_type": "stream",
     "text": [
      "2020-12-04 12:49:32 [scrapy.core.engine] DEBUG: Crawled (200) <GET https://carifilms.com/films/page/270?order=DESC&is_meta_key=0&orderby=title#038;is_meta_key=0&orderby=title> (referer: None)\n"
     ]
    },
    {
     "name": "stdout",
     "output_type": "stream",
     "text": [
      "Banyak url film 2651\n",
      "Banyak url film 2652\n",
      "Banyak url film 2653\n",
      "Banyak url film 2654\n",
      "Banyak url film 2655\n",
      "Banyak url film 2656\n",
      "Banyak url film 2657\n",
      "Banyak url film 2658\n",
      "Banyak url film 2659\n",
      "Banyak url film 2660\n"
     ]
    },
    {
     "name": "stderr",
     "output_type": "stream",
     "text": [
      "2020-12-04 12:49:35 [scrapy.core.engine] DEBUG: Crawled (200) <GET https://carifilms.com/films/page/267?order=DESC&is_meta_key=0&orderby=title#038;is_meta_key=0&orderby=title> (referer: None)\n"
     ]
    },
    {
     "name": "stdout",
     "output_type": "stream",
     "text": [
      "Banyak url film 2661\n",
      "Banyak url film 2662\n",
      "Banyak url film 2663\n",
      "Banyak url film 2664\n",
      "Banyak url film 2665\n",
      "Banyak url film 2666\n",
      "Banyak url film 2667\n",
      "Banyak url film 2668\n",
      "Banyak url film 2669\n",
      "Banyak url film 2670\n"
     ]
    },
    {
     "name": "stderr",
     "output_type": "stream",
     "text": [
      "2020-12-04 12:49:39 [scrapy.extensions.logstats] INFO: Crawled 267 pages (at 17 pages/min), scraped 0 items (at 0 items/min)\n",
      "2020-12-04 12:49:39 [scrapy.core.engine] DEBUG: Crawled (200) <GET https://carifilms.com/films/page/272?order=DESC&is_meta_key=0&orderby=title#038;is_meta_key=0&orderby=title> (referer: None)\n"
     ]
    },
    {
     "name": "stdout",
     "output_type": "stream",
     "text": [
      "Banyak url film 2671\n",
      "Banyak url film 2672\n",
      "Banyak url film 2673\n",
      "Banyak url film 2674\n",
      "Banyak url film 2675\n",
      "Banyak url film 2676\n",
      "Banyak url film 2677\n",
      "Banyak url film 2678\n",
      "Banyak url film 2679\n",
      "Banyak url film 2680\n"
     ]
    },
    {
     "name": "stderr",
     "output_type": "stream",
     "text": [
      "2020-12-04 12:49:43 [scrapy.core.engine] DEBUG: Crawled (200) <GET https://carifilms.com/films/page/268?order=DESC&is_meta_key=0&orderby=title#038;is_meta_key=0&orderby=title> (referer: None)\n"
     ]
    },
    {
     "name": "stdout",
     "output_type": "stream",
     "text": [
      "Banyak url film 2681\n",
      "Banyak url film 2682\n",
      "Banyak url film 2683\n",
      "Banyak url film 2684\n",
      "Banyak url film 2685\n",
      "Banyak url film 2686\n",
      "Banyak url film 2687\n",
      "Banyak url film 2688\n",
      "Banyak url film 2689\n",
      "Banyak url film 2690\n"
     ]
    },
    {
     "name": "stderr",
     "output_type": "stream",
     "text": [
      "2020-12-04 12:49:46 [scrapy.core.engine] DEBUG: Crawled (200) <GET https://carifilms.com/films/page/271?order=DESC&is_meta_key=0&orderby=title#038;is_meta_key=0&orderby=title> (referer: None)\n"
     ]
    },
    {
     "name": "stdout",
     "output_type": "stream",
     "text": [
      "Banyak url film 2691\n",
      "Banyak url film 2692\n",
      "Banyak url film 2693\n",
      "Banyak url film 2694\n",
      "Banyak url film 2695\n",
      "Banyak url film 2696\n",
      "Banyak url film 2697\n",
      "Banyak url film 2698\n",
      "Banyak url film 2699\n",
      "Banyak url film 2700\n"
     ]
    },
    {
     "name": "stderr",
     "output_type": "stream",
     "text": [
      "2020-12-04 12:49:49 [scrapy.core.engine] DEBUG: Crawled (200) <GET https://carifilms.com/films/page/275?order=DESC&is_meta_key=0&orderby=title#038;is_meta_key=0&orderby=title> (referer: None)\n"
     ]
    },
    {
     "name": "stdout",
     "output_type": "stream",
     "text": [
      "Banyak url film 2701\n",
      "Banyak url film 2702\n",
      "Banyak url film 2703\n",
      "Banyak url film 2704\n",
      "Banyak url film 2705\n",
      "Banyak url film 2706\n",
      "Banyak url film 2707\n",
      "Banyak url film 2708\n",
      "Banyak url film 2709\n",
      "Banyak url film 2710\n"
     ]
    },
    {
     "name": "stderr",
     "output_type": "stream",
     "text": [
      "2020-12-04 12:49:53 [scrapy.core.engine] DEBUG: Crawled (200) <GET https://carifilms.com/films/page/266?order=DESC&is_meta_key=0&orderby=title#038;is_meta_key=0&orderby=title> (referer: None)\n"
     ]
    },
    {
     "name": "stdout",
     "output_type": "stream",
     "text": [
      "Banyak url film 2711\n",
      "Banyak url film 2712\n",
      "Banyak url film 2713\n",
      "Banyak url film 2714\n",
      "Banyak url film 2715\n",
      "Banyak url film 2716\n",
      "Banyak url film 2717\n",
      "Banyak url film 2718\n",
      "Banyak url film 2719\n",
      "Banyak url film 2720\n"
     ]
    },
    {
     "name": "stderr",
     "output_type": "stream",
     "text": [
      "2020-12-04 12:49:56 [scrapy.core.engine] DEBUG: Crawled (200) <GET https://carifilms.com/films/page/277?order=DESC&is_meta_key=0&orderby=title#038;is_meta_key=0&orderby=title> (referer: None)\n"
     ]
    },
    {
     "name": "stdout",
     "output_type": "stream",
     "text": [
      "Banyak url film 2721\n",
      "Banyak url film 2722\n",
      "Banyak url film 2723\n",
      "Banyak url film 2724\n",
      "Banyak url film 2725\n",
      "Banyak url film 2726\n",
      "Banyak url film 2727\n",
      "Banyak url film 2728\n",
      "Banyak url film 2729\n",
      "Banyak url film 2730\n"
     ]
    },
    {
     "name": "stderr",
     "output_type": "stream",
     "text": [
      "2020-12-04 12:50:00 [scrapy.core.engine] DEBUG: Crawled (200) <GET https://carifilms.com/films/page/273?order=DESC&is_meta_key=0&orderby=title#038;is_meta_key=0&orderby=title> (referer: None)\n"
     ]
    },
    {
     "name": "stdout",
     "output_type": "stream",
     "text": [
      "Banyak url film 2731\n",
      "Banyak url film 2732\n",
      "Banyak url film 2733\n",
      "Banyak url film 2734\n",
      "Banyak url film 2735\n",
      "Banyak url film 2736\n",
      "Banyak url film 2737\n",
      "Banyak url film 2738\n",
      "Banyak url film 2739\n",
      "Banyak url film 2740\n"
     ]
    },
    {
     "name": "stderr",
     "output_type": "stream",
     "text": [
      "2020-12-04 12:50:03 [scrapy.core.engine] DEBUG: Crawled (200) <GET https://carifilms.com/films/page/269?order=DESC&is_meta_key=0&orderby=title#038;is_meta_key=0&orderby=title> (referer: None)\n"
     ]
    },
    {
     "name": "stdout",
     "output_type": "stream",
     "text": [
      "Banyak url film 2741\n",
      "Banyak url film 2742\n",
      "Banyak url film 2743\n",
      "Banyak url film 2744\n",
      "Banyak url film 2745\n",
      "Banyak url film 2746\n",
      "Banyak url film 2747\n",
      "Banyak url film 2748\n",
      "Banyak url film 2749\n",
      "Banyak url film 2750\n"
     ]
    },
    {
     "name": "stderr",
     "output_type": "stream",
     "text": [
      "2020-12-04 12:50:06 [scrapy.core.engine] DEBUG: Crawled (200) <GET https://carifilms.com/films/page/276?order=DESC&is_meta_key=0&orderby=title#038;is_meta_key=0&orderby=title> (referer: None)\n"
     ]
    },
    {
     "name": "stdout",
     "output_type": "stream",
     "text": [
      "Banyak url film 2751\n",
      "Banyak url film 2752\n",
      "Banyak url film 2753\n",
      "Banyak url film 2754\n",
      "Banyak url film 2755\n",
      "Banyak url film 2756\n",
      "Banyak url film 2757\n",
      "Banyak url film 2758\n",
      "Banyak url film 2759\n",
      "Banyak url film 2760\n"
     ]
    },
    {
     "name": "stderr",
     "output_type": "stream",
     "text": [
      "2020-12-04 12:50:10 [scrapy.core.engine] DEBUG: Crawled (200) <GET https://carifilms.com/films/page/274?order=DESC&is_meta_key=0&orderby=title#038;is_meta_key=0&orderby=title> (referer: None)\n"
     ]
    },
    {
     "name": "stdout",
     "output_type": "stream",
     "text": [
      "Banyak url film 2761\n",
      "Banyak url film 2762\n",
      "Banyak url film 2763\n",
      "Banyak url film 2764\n",
      "Banyak url film 2765\n",
      "Banyak url film 2766\n",
      "Banyak url film 2767\n",
      "Banyak url film 2768\n",
      "Banyak url film 2769\n",
      "Banyak url film 2770\n"
     ]
    },
    {
     "name": "stderr",
     "output_type": "stream",
     "text": [
      "2020-12-04 12:50:15 [scrapy.core.engine] DEBUG: Crawled (200) <GET https://carifilms.com/films/page/280?order=DESC&is_meta_key=0&orderby=title#038;is_meta_key=0&orderby=title> (referer: None)\n"
     ]
    },
    {
     "name": "stdout",
     "output_type": "stream",
     "text": [
      "Banyak url film 2771\n",
      "Banyak url film 2772\n",
      "Banyak url film 2773\n",
      "Banyak url film 2774\n",
      "Banyak url film 2775\n",
      "Banyak url film 2776\n",
      "Banyak url film 2777\n",
      "Banyak url film 2778\n",
      "Banyak url film 2779\n",
      "Banyak url film 2780\n"
     ]
    },
    {
     "name": "stderr",
     "output_type": "stream",
     "text": [
      "2020-12-04 12:50:21 [scrapy.core.engine] DEBUG: Crawled (200) <GET https://carifilms.com/films/page/282?order=DESC&is_meta_key=0&orderby=title#038;is_meta_key=0&orderby=title> (referer: None)\n"
     ]
    },
    {
     "name": "stdout",
     "output_type": "stream",
     "text": [
      "Banyak url film 2781\n",
      "Banyak url film 2782\n",
      "Banyak url film 2783\n",
      "Banyak url film 2784\n",
      "Banyak url film 2785\n",
      "Banyak url film 2786\n",
      "Banyak url film 2787\n",
      "Banyak url film 2788\n",
      "Banyak url film 2789\n",
      "Banyak url film 2790\n"
     ]
    },
    {
     "name": "stderr",
     "output_type": "stream",
     "text": [
      "2020-12-04 12:50:25 [scrapy.core.engine] DEBUG: Crawled (200) <GET https://carifilms.com/films/page/281?order=DESC&is_meta_key=0&orderby=title#038;is_meta_key=0&orderby=title> (referer: None)\n"
     ]
    },
    {
     "name": "stdout",
     "output_type": "stream",
     "text": [
      "Banyak url film 2791\n",
      "Banyak url film 2792\n",
      "Banyak url film 2793\n",
      "Banyak url film 2794\n",
      "Banyak url film 2795\n",
      "Banyak url film 2796\n",
      "Banyak url film 2797\n",
      "Banyak url film 2798\n",
      "Banyak url film 2799\n",
      "Banyak url film 2800\n"
     ]
    },
    {
     "name": "stderr",
     "output_type": "stream",
     "text": [
      "2020-12-04 12:50:28 [scrapy.core.engine] DEBUG: Crawled (200) <GET https://carifilms.com/films/page/283?order=DESC&is_meta_key=0&orderby=title#038;is_meta_key=0&orderby=title> (referer: None)\n"
     ]
    },
    {
     "name": "stdout",
     "output_type": "stream",
     "text": [
      "Banyak url film 2801\n",
      "Banyak url film 2802\n",
      "Banyak url film 2803\n",
      "Banyak url film 2804\n",
      "Banyak url film 2805\n",
      "Banyak url film 2806\n",
      "Banyak url film 2807\n",
      "Banyak url film 2808\n",
      "Banyak url film 2809\n",
      "Banyak url film 2810\n"
     ]
    },
    {
     "name": "stderr",
     "output_type": "stream",
     "text": [
      "2020-12-04 12:50:31 [scrapy.core.engine] DEBUG: Crawled (200) <GET https://carifilms.com/films/page/285?order=DESC&is_meta_key=0&orderby=title#038;is_meta_key=0&orderby=title> (referer: None)\n"
     ]
    },
    {
     "name": "stdout",
     "output_type": "stream",
     "text": [
      "Banyak url film 2811\n",
      "Banyak url film 2812\n",
      "Banyak url film 2813\n",
      "Banyak url film 2814\n",
      "Banyak url film 2815\n",
      "Banyak url film 2816\n",
      "Banyak url film 2817\n",
      "Banyak url film 2818\n",
      "Banyak url film 2819\n",
      "Banyak url film 2820\n"
     ]
    },
    {
     "name": "stderr",
     "output_type": "stream",
     "text": [
      "2020-12-04 12:50:34 [scrapy.core.engine] DEBUG: Crawled (200) <GET https://carifilms.com/films/page/284?order=DESC&is_meta_key=0&orderby=title#038;is_meta_key=0&orderby=title> (referer: None)\n"
     ]
    },
    {
     "name": "stdout",
     "output_type": "stream",
     "text": [
      "Banyak url film 2821\n",
      "Banyak url film 2822\n",
      "Banyak url film 2823\n",
      "Banyak url film 2824\n",
      "Banyak url film 2825\n",
      "Banyak url film 2826\n",
      "Banyak url film 2827\n",
      "Banyak url film 2828\n",
      "Banyak url film 2829\n",
      "Banyak url film 2830\n"
     ]
    },
    {
     "name": "stderr",
     "output_type": "stream",
     "text": [
      "2020-12-04 12:50:38 [scrapy.core.engine] DEBUG: Crawled (200) <GET https://carifilms.com/films/page/278?order=DESC&is_meta_key=0&orderby=title#038;is_meta_key=0&orderby=title> (referer: None)\n"
     ]
    },
    {
     "name": "stdout",
     "output_type": "stream",
     "text": [
      "Banyak url film 2831\n",
      "Banyak url film 2832\n",
      "Banyak url film 2833\n",
      "Banyak url film 2834\n",
      "Banyak url film 2835\n",
      "Banyak url film 2836\n",
      "Banyak url film 2837\n",
      "Banyak url film 2838\n",
      "Banyak url film 2839\n",
      "Banyak url film 2840\n"
     ]
    },
    {
     "name": "stderr",
     "output_type": "stream",
     "text": [
      "2020-12-04 12:50:39 [scrapy.extensions.logstats] INFO: Crawled 284 pages (at 17 pages/min), scraped 0 items (at 0 items/min)\n",
      "2020-12-04 12:50:42 [scrapy.core.engine] DEBUG: Crawled (200) <GET https://carifilms.com/films/page/287?order=DESC&is_meta_key=0&orderby=title#038;is_meta_key=0&orderby=title> (referer: None)\n"
     ]
    },
    {
     "name": "stdout",
     "output_type": "stream",
     "text": [
      "Banyak url film 2841\n",
      "Banyak url film 2842\n",
      "Banyak url film 2843\n",
      "Banyak url film 2844\n",
      "Banyak url film 2845\n",
      "Banyak url film 2846\n",
      "Banyak url film 2847\n",
      "Banyak url film 2848\n",
      "Banyak url film 2849\n",
      "Banyak url film 2850\n"
     ]
    },
    {
     "name": "stderr",
     "output_type": "stream",
     "text": [
      "2020-12-04 12:50:45 [scrapy.core.engine] DEBUG: Crawled (200) <GET https://carifilms.com/films/page/290?order=DESC&is_meta_key=0&orderby=title#038;is_meta_key=0&orderby=title> (referer: None)\n"
     ]
    },
    {
     "name": "stdout",
     "output_type": "stream",
     "text": [
      "Banyak url film 2851\n",
      "Banyak url film 2852\n",
      "Banyak url film 2853\n",
      "Banyak url film 2854\n",
      "Banyak url film 2855\n",
      "Banyak url film 2856\n",
      "Banyak url film 2857\n",
      "Banyak url film 2858\n",
      "Banyak url film 2859\n",
      "Banyak url film 2860\n"
     ]
    },
    {
     "name": "stderr",
     "output_type": "stream",
     "text": [
      "2020-12-04 12:50:48 [scrapy.core.engine] DEBUG: Crawled (200) <GET https://carifilms.com/films/page/288?order=DESC&is_meta_key=0&orderby=title#038;is_meta_key=0&orderby=title> (referer: None)\n"
     ]
    },
    {
     "name": "stdout",
     "output_type": "stream",
     "text": [
      "Banyak url film 2861\n",
      "Banyak url film 2862\n",
      "Banyak url film 2863\n",
      "Banyak url film 2864\n",
      "Banyak url film 2865\n",
      "Banyak url film 2866\n",
      "Banyak url film 2867\n",
      "Banyak url film 2868\n",
      "Banyak url film 2869\n",
      "Banyak url film 2870\n"
     ]
    },
    {
     "name": "stderr",
     "output_type": "stream",
     "text": [
      "2020-12-04 12:50:52 [scrapy.core.engine] DEBUG: Crawled (200) <GET https://carifilms.com/films/page/286?order=DESC&is_meta_key=0&orderby=title#038;is_meta_key=0&orderby=title> (referer: None)\n"
     ]
    },
    {
     "name": "stdout",
     "output_type": "stream",
     "text": [
      "Banyak url film 2871\n",
      "Banyak url film 2872\n",
      "Banyak url film 2873\n",
      "Banyak url film 2874\n",
      "Banyak url film 2875\n",
      "Banyak url film 2876\n",
      "Banyak url film 2877\n",
      "Banyak url film 2878\n",
      "Banyak url film 2879\n",
      "Banyak url film 2880\n"
     ]
    },
    {
     "name": "stderr",
     "output_type": "stream",
     "text": [
      "2020-12-04 12:50:55 [scrapy.core.engine] DEBUG: Crawled (200) <GET https://carifilms.com/films/page/279?order=DESC&is_meta_key=0&orderby=title#038;is_meta_key=0&orderby=title> (referer: None)\n"
     ]
    },
    {
     "name": "stdout",
     "output_type": "stream",
     "text": [
      "Banyak url film 2881\n",
      "Banyak url film 2882\n",
      "Banyak url film 2883\n",
      "Banyak url film 2884\n",
      "Banyak url film 2885\n",
      "Banyak url film 2886\n",
      "Banyak url film 2887\n",
      "Banyak url film 2888\n",
      "Banyak url film 2889\n",
      "Banyak url film 2890\n"
     ]
    },
    {
     "name": "stderr",
     "output_type": "stream",
     "text": [
      "2020-12-04 12:50:59 [scrapy.core.engine] DEBUG: Crawled (200) <GET https://carifilms.com/films/page/291?order=DESC&is_meta_key=0&orderby=title#038;is_meta_key=0&orderby=title> (referer: None)\n"
     ]
    },
    {
     "name": "stdout",
     "output_type": "stream",
     "text": [
      "Banyak url film 2891\n",
      "Banyak url film 2892\n",
      "Banyak url film 2893\n",
      "Banyak url film 2894\n",
      "Banyak url film 2895\n",
      "Banyak url film 2896\n",
      "Banyak url film 2897\n",
      "Banyak url film 2898\n",
      "Banyak url film 2899\n",
      "Banyak url film 2900\n"
     ]
    },
    {
     "name": "stderr",
     "output_type": "stream",
     "text": [
      "2020-12-04 12:51:03 [scrapy.core.engine] DEBUG: Crawled (200) <GET https://carifilms.com/films/page/295?order=DESC&is_meta_key=0&orderby=title#038;is_meta_key=0&orderby=title> (referer: None)\n"
     ]
    },
    {
     "name": "stdout",
     "output_type": "stream",
     "text": [
      "Banyak url film 2901\n",
      "Banyak url film 2902\n",
      "Banyak url film 2903\n",
      "Banyak url film 2904\n",
      "Banyak url film 2905\n",
      "Banyak url film 2906\n",
      "Banyak url film 2907\n",
      "Banyak url film 2908\n",
      "Banyak url film 2909\n",
      "Banyak url film 2910\n"
     ]
    },
    {
     "name": "stderr",
     "output_type": "stream",
     "text": [
      "2020-12-04 12:51:06 [scrapy.core.engine] DEBUG: Crawled (200) <GET https://carifilms.com/films/page/292?order=DESC&is_meta_key=0&orderby=title#038;is_meta_key=0&orderby=title> (referer: None)\n"
     ]
    },
    {
     "name": "stdout",
     "output_type": "stream",
     "text": [
      "Banyak url film 2911\n",
      "Banyak url film 2912\n",
      "Banyak url film 2913\n",
      "Banyak url film 2914\n",
      "Banyak url film 2915\n",
      "Banyak url film 2916\n",
      "Banyak url film 2917\n",
      "Banyak url film 2918\n",
      "Banyak url film 2919\n",
      "Banyak url film 2920\n"
     ]
    },
    {
     "name": "stderr",
     "output_type": "stream",
     "text": [
      "2020-12-04 12:51:09 [scrapy.core.engine] DEBUG: Crawled (200) <GET https://carifilms.com/films/page/293?order=DESC&is_meta_key=0&orderby=title#038;is_meta_key=0&orderby=title> (referer: None)\n"
     ]
    },
    {
     "name": "stdout",
     "output_type": "stream",
     "text": [
      "Banyak url film 2921\n",
      "Banyak url film 2922\n",
      "Banyak url film 2923\n",
      "Banyak url film 2924\n",
      "Banyak url film 2925\n",
      "Banyak url film 2926\n",
      "Banyak url film 2927\n",
      "Banyak url film 2928\n",
      "Banyak url film 2929\n",
      "Banyak url film 2930\n"
     ]
    },
    {
     "name": "stderr",
     "output_type": "stream",
     "text": [
      "2020-12-04 12:51:13 [scrapy.core.engine] DEBUG: Crawled (200) <GET https://carifilms.com/films/page/296?order=DESC&is_meta_key=0&orderby=title#038;is_meta_key=0&orderby=title> (referer: None)\n"
     ]
    },
    {
     "name": "stdout",
     "output_type": "stream",
     "text": [
      "Banyak url film 2931\n",
      "Banyak url film 2932\n",
      "Banyak url film 2933\n",
      "Banyak url film 2934\n",
      "Banyak url film 2935\n",
      "Banyak url film 2936\n",
      "Banyak url film 2937\n",
      "Banyak url film 2938\n",
      "Banyak url film 2939\n",
      "Banyak url film 2940\n"
     ]
    },
    {
     "name": "stderr",
     "output_type": "stream",
     "text": [
      "2020-12-04 12:51:16 [scrapy.core.engine] DEBUG: Crawled (200) <GET https://carifilms.com/films/page/299?order=DESC&is_meta_key=0&orderby=title#038;is_meta_key=0&orderby=title> (referer: None)\n"
     ]
    },
    {
     "name": "stdout",
     "output_type": "stream",
     "text": [
      "Banyak url film 2941\n",
      "Banyak url film 2942\n",
      "Banyak url film 2943\n",
      "Banyak url film 2944\n",
      "Banyak url film 2945\n",
      "Banyak url film 2946\n",
      "Banyak url film 2947\n",
      "Banyak url film 2948\n",
      "Banyak url film 2949\n",
      "Banyak url film 2950\n"
     ]
    },
    {
     "name": "stderr",
     "output_type": "stream",
     "text": [
      "2020-12-04 12:51:19 [scrapy.core.engine] DEBUG: Crawled (200) <GET https://carifilms.com/films/page/289?order=DESC&is_meta_key=0&orderby=title#038;is_meta_key=0&orderby=title> (referer: None)\n"
     ]
    },
    {
     "name": "stdout",
     "output_type": "stream",
     "text": [
      "Banyak url film 2951\n",
      "Banyak url film 2952\n",
      "Banyak url film 2953\n",
      "Banyak url film 2954\n",
      "Banyak url film 2955\n",
      "Banyak url film 2956\n",
      "Banyak url film 2957\n",
      "Banyak url film 2958\n",
      "Banyak url film 2959\n",
      "Banyak url film 2960\n"
     ]
    },
    {
     "name": "stderr",
     "output_type": "stream",
     "text": [
      "2020-12-04 12:51:22 [scrapy.core.engine] DEBUG: Crawled (200) <GET https://carifilms.com/films/page/300?order=DESC&is_meta_key=0&orderby=title#038;is_meta_key=0&orderby=title> (referer: None)\n"
     ]
    },
    {
     "name": "stdout",
     "output_type": "stream",
     "text": [
      "Banyak url film 2961\n",
      "Banyak url film 2962\n",
      "Banyak url film 2963\n",
      "Banyak url film 2964\n",
      "Banyak url film 2965\n",
      "Banyak url film 2966\n",
      "Banyak url film 2967\n",
      "Banyak url film 2968\n",
      "Banyak url film 2969\n",
      "Banyak url film 2970\n"
     ]
    },
    {
     "name": "stderr",
     "output_type": "stream",
     "text": [
      "2020-12-04 12:51:26 [scrapy.core.engine] DEBUG: Crawled (200) <GET https://carifilms.com/films/page/294?order=DESC&is_meta_key=0&orderby=title#038;is_meta_key=0&orderby=title> (referer: None)\n"
     ]
    },
    {
     "name": "stdout",
     "output_type": "stream",
     "text": [
      "Banyak url film 2971\n",
      "Banyak url film 2972\n",
      "Banyak url film 2973\n",
      "Banyak url film 2974\n",
      "Banyak url film 2975\n",
      "Banyak url film 2976\n",
      "Banyak url film 2977\n",
      "Banyak url film 2978\n",
      "Banyak url film 2979\n",
      "Banyak url film 2980\n"
     ]
    },
    {
     "name": "stderr",
     "output_type": "stream",
     "text": [
      "2020-12-04 12:51:29 [scrapy.core.engine] DEBUG: Crawled (200) <GET https://carifilms.com/films/page/304?order=DESC&is_meta_key=0&orderby=title#038;is_meta_key=0&orderby=title> (referer: None)\n"
     ]
    },
    {
     "name": "stdout",
     "output_type": "stream",
     "text": [
      "Banyak url film 2981\n",
      "Banyak url film 2982\n",
      "Banyak url film 2983\n",
      "Banyak url film 2984\n",
      "Banyak url film 2985\n",
      "Banyak url film 2986\n",
      "Banyak url film 2987\n",
      "Banyak url film 2988\n",
      "Banyak url film 2989\n",
      "Banyak url film 2990\n"
     ]
    },
    {
     "name": "stderr",
     "output_type": "stream",
     "text": [
      "2020-12-04 12:51:32 [scrapy.core.engine] DEBUG: Crawled (200) <GET https://carifilms.com/films/page/298?order=DESC&is_meta_key=0&orderby=title#038;is_meta_key=0&orderby=title> (referer: None)\n"
     ]
    },
    {
     "name": "stdout",
     "output_type": "stream",
     "text": [
      "Banyak url film 2991\n",
      "Banyak url film 2992\n",
      "Banyak url film 2993\n",
      "Banyak url film 2994\n",
      "Banyak url film 2995\n",
      "Banyak url film 2996\n",
      "Banyak url film 2997\n",
      "Banyak url film 2998\n",
      "Banyak url film 2999\n",
      "Banyak url film 3000\n"
     ]
    },
    {
     "name": "stderr",
     "output_type": "stream",
     "text": [
      "2020-12-04 12:51:36 [scrapy.core.engine] DEBUG: Crawled (200) <GET https://carifilms.com/films/page/305?order=DESC&is_meta_key=0&orderby=title#038;is_meta_key=0&orderby=title> (referer: None)\n"
     ]
    },
    {
     "name": "stdout",
     "output_type": "stream",
     "text": [
      "Banyak url film 3001\n",
      "Banyak url film 3002\n",
      "Banyak url film 3003\n",
      "Banyak url film 3004\n",
      "Banyak url film 3005\n",
      "Banyak url film 3006\n",
      "Banyak url film 3007\n",
      "Banyak url film 3008\n",
      "Banyak url film 3009\n",
      "Banyak url film 3010\n"
     ]
    },
    {
     "name": "stderr",
     "output_type": "stream",
     "text": [
      "2020-12-04 12:51:39 [scrapy.extensions.logstats] INFO: Crawled 301 pages (at 17 pages/min), scraped 0 items (at 0 items/min)\n",
      "2020-12-04 12:51:39 [scrapy.core.engine] DEBUG: Crawled (200) <GET https://carifilms.com/films/page/307?order=DESC&is_meta_key=0&orderby=title#038;is_meta_key=0&orderby=title> (referer: None)\n"
     ]
    },
    {
     "name": "stdout",
     "output_type": "stream",
     "text": [
      "Banyak url film 3011\n",
      "Banyak url film 3012\n",
      "Banyak url film 3013\n",
      "Banyak url film 3014\n",
      "Banyak url film 3015\n",
      "Banyak url film 3016\n",
      "Banyak url film 3017\n",
      "Banyak url film 3018\n",
      "Banyak url film 3019\n",
      "Banyak url film 3020\n"
     ]
    },
    {
     "name": "stderr",
     "output_type": "stream",
     "text": [
      "2020-12-04 12:51:43 [scrapy.core.engine] DEBUG: Crawled (200) <GET https://carifilms.com/films/page/297?order=DESC&is_meta_key=0&orderby=title#038;is_meta_key=0&orderby=title> (referer: None)\n"
     ]
    },
    {
     "name": "stdout",
     "output_type": "stream",
     "text": [
      "Banyak url film 3021\n",
      "Banyak url film 3022\n",
      "Banyak url film 3023\n",
      "Banyak url film 3024\n",
      "Banyak url film 3025\n",
      "Banyak url film 3026\n",
      "Banyak url film 3027\n",
      "Banyak url film 3028\n",
      "Banyak url film 3029\n",
      "Banyak url film 3030\n"
     ]
    },
    {
     "name": "stderr",
     "output_type": "stream",
     "text": [
      "2020-12-04 12:51:46 [scrapy.core.engine] DEBUG: Crawled (200) <GET https://carifilms.com/films/page/303?order=DESC&is_meta_key=0&orderby=title#038;is_meta_key=0&orderby=title> (referer: None)\n"
     ]
    },
    {
     "name": "stdout",
     "output_type": "stream",
     "text": [
      "Banyak url film 3031\n",
      "Banyak url film 3032\n",
      "Banyak url film 3033\n",
      "Banyak url film 3034\n",
      "Banyak url film 3035\n",
      "Banyak url film 3036\n",
      "Banyak url film 3037\n",
      "Banyak url film 3038\n",
      "Banyak url film 3039\n",
      "Banyak url film 3040\n"
     ]
    },
    {
     "name": "stderr",
     "output_type": "stream",
     "text": [
      "2020-12-04 12:51:49 [scrapy.core.engine] DEBUG: Crawled (200) <GET https://carifilms.com/films/page/308?order=DESC&is_meta_key=0&orderby=title#038;is_meta_key=0&orderby=title> (referer: None)\n"
     ]
    },
    {
     "name": "stdout",
     "output_type": "stream",
     "text": [
      "Banyak url film 3041\n",
      "Banyak url film 3042\n",
      "Banyak url film 3043\n",
      "Banyak url film 3044\n",
      "Banyak url film 3045\n",
      "Banyak url film 3046\n",
      "Banyak url film 3047\n",
      "Banyak url film 3048\n",
      "Banyak url film 3049\n",
      "Banyak url film 3050\n"
     ]
    },
    {
     "name": "stderr",
     "output_type": "stream",
     "text": [
      "2020-12-04 12:51:53 [scrapy.core.engine] DEBUG: Crawled (200) <GET https://carifilms.com/films/page/306?order=DESC&is_meta_key=0&orderby=title#038;is_meta_key=0&orderby=title> (referer: None)\n"
     ]
    },
    {
     "name": "stdout",
     "output_type": "stream",
     "text": [
      "Banyak url film 3051\n",
      "Banyak url film 3052\n",
      "Banyak url film 3053\n",
      "Banyak url film 3054\n",
      "Banyak url film 3055\n",
      "Banyak url film 3056\n",
      "Banyak url film 3057\n",
      "Banyak url film 3058\n",
      "Banyak url film 3059\n",
      "Banyak url film 3060\n"
     ]
    },
    {
     "name": "stderr",
     "output_type": "stream",
     "text": [
      "2020-12-04 12:51:56 [scrapy.core.engine] DEBUG: Crawled (200) <GET https://carifilms.com/films/page/309?order=DESC&is_meta_key=0&orderby=title#038;is_meta_key=0&orderby=title> (referer: None)\n"
     ]
    },
    {
     "name": "stdout",
     "output_type": "stream",
     "text": [
      "Banyak url film 3061\n",
      "Banyak url film 3062\n",
      "Banyak url film 3063\n",
      "Banyak url film 3064\n",
      "Banyak url film 3065\n",
      "Banyak url film 3066\n",
      "Banyak url film 3067\n",
      "Banyak url film 3068\n",
      "Banyak url film 3069\n",
      "Banyak url film 3070\n"
     ]
    },
    {
     "name": "stderr",
     "output_type": "stream",
     "text": [
      "2020-12-04 12:52:00 [scrapy.core.engine] DEBUG: Crawled (200) <GET https://carifilms.com/films/page/310?order=DESC&is_meta_key=0&orderby=title#038;is_meta_key=0&orderby=title> (referer: None)\n"
     ]
    },
    {
     "name": "stdout",
     "output_type": "stream",
     "text": [
      "Banyak url film 3071\n",
      "Banyak url film 3072\n",
      "Banyak url film 3073\n",
      "Banyak url film 3074\n",
      "Banyak url film 3075\n",
      "Banyak url film 3076\n",
      "Banyak url film 3077\n",
      "Banyak url film 3078\n",
      "Banyak url film 3079\n",
      "Banyak url film 3080\n"
     ]
    },
    {
     "name": "stderr",
     "output_type": "stream",
     "text": [
      "2020-12-04 12:52:03 [scrapy.core.engine] DEBUG: Crawled (200) <GET https://carifilms.com/films/page/312?order=DESC&is_meta_key=0&orderby=title#038;is_meta_key=0&orderby=title> (referer: None)\n"
     ]
    },
    {
     "name": "stdout",
     "output_type": "stream",
     "text": [
      "Banyak url film 3081\n",
      "Banyak url film 3082\n",
      "Banyak url film 3083\n",
      "Banyak url film 3084\n",
      "Banyak url film 3085\n",
      "Banyak url film 3086\n",
      "Banyak url film 3087\n",
      "Banyak url film 3088\n",
      "Banyak url film 3089\n",
      "Banyak url film 3090\n"
     ]
    },
    {
     "name": "stderr",
     "output_type": "stream",
     "text": [
      "2020-12-04 12:52:06 [scrapy.core.engine] DEBUG: Crawled (200) <GET https://carifilms.com/films/page/311?order=DESC&is_meta_key=0&orderby=title#038;is_meta_key=0&orderby=title> (referer: None)\n"
     ]
    },
    {
     "name": "stdout",
     "output_type": "stream",
     "text": [
      "Banyak url film 3091\n",
      "Banyak url film 3092\n",
      "Banyak url film 3093\n",
      "Banyak url film 3094\n",
      "Banyak url film 3095\n",
      "Banyak url film 3096\n",
      "Banyak url film 3097\n",
      "Banyak url film 3098\n",
      "Banyak url film 3099\n",
      "Banyak url film 3100\n"
     ]
    },
    {
     "name": "stderr",
     "output_type": "stream",
     "text": [
      "2020-12-04 12:52:10 [scrapy.core.engine] DEBUG: Crawled (200) <GET https://carifilms.com/films/page/313?order=DESC&is_meta_key=0&orderby=title#038;is_meta_key=0&orderby=title> (referer: None)\n"
     ]
    },
    {
     "name": "stdout",
     "output_type": "stream",
     "text": [
      "Banyak url film 3101\n",
      "Banyak url film 3102\n",
      "Banyak url film 3103\n",
      "Banyak url film 3104\n",
      "Banyak url film 3105\n",
      "Banyak url film 3106\n",
      "Banyak url film 3107\n",
      "Banyak url film 3108\n",
      "Banyak url film 3109\n",
      "Banyak url film 3110\n"
     ]
    },
    {
     "name": "stderr",
     "output_type": "stream",
     "text": [
      "2020-12-04 12:52:13 [scrapy.core.engine] DEBUG: Crawled (200) <GET https://carifilms.com/films/page/314?order=DESC&is_meta_key=0&orderby=title#038;is_meta_key=0&orderby=title> (referer: None)\n"
     ]
    },
    {
     "name": "stdout",
     "output_type": "stream",
     "text": [
      "Banyak url film 3111\n",
      "Banyak url film 3112\n",
      "Banyak url film 3113\n",
      "Banyak url film 3114\n",
      "Banyak url film 3115\n",
      "Banyak url film 3116\n",
      "Banyak url film 3117\n",
      "Banyak url film 3118\n",
      "Banyak url film 3119\n",
      "Banyak url film 3120\n"
     ]
    },
    {
     "name": "stderr",
     "output_type": "stream",
     "text": [
      "2020-12-04 12:52:17 [scrapy.core.engine] DEBUG: Crawled (200) <GET https://carifilms.com/films/page/302?order=DESC&is_meta_key=0&orderby=title#038;is_meta_key=0&orderby=title> (referer: None)\n"
     ]
    },
    {
     "name": "stdout",
     "output_type": "stream",
     "text": [
      "Banyak url film 3121\n",
      "Banyak url film 3122\n",
      "Banyak url film 3123\n",
      "Banyak url film 3124\n",
      "Banyak url film 3125\n",
      "Banyak url film 3126\n",
      "Banyak url film 3127\n",
      "Banyak url film 3128\n",
      "Banyak url film 3129\n",
      "Banyak url film 3130\n"
     ]
    },
    {
     "name": "stderr",
     "output_type": "stream",
     "text": [
      "2020-12-04 12:52:20 [scrapy.core.engine] DEBUG: Crawled (200) <GET https://carifilms.com/films/page/301?order=DESC&is_meta_key=0&orderby=title#038;is_meta_key=0&orderby=title> (referer: None)\n"
     ]
    },
    {
     "name": "stdout",
     "output_type": "stream",
     "text": [
      "Banyak url film 3131\n",
      "Banyak url film 3132\n",
      "Banyak url film 3133\n",
      "Banyak url film 3134\n",
      "Banyak url film 3135\n",
      "Banyak url film 3136\n",
      "Banyak url film 3137\n",
      "Banyak url film 3138\n",
      "Banyak url film 3139\n",
      "Banyak url film 3140\n"
     ]
    },
    {
     "name": "stderr",
     "output_type": "stream",
     "text": [
      "2020-12-04 12:52:24 [scrapy.core.engine] DEBUG: Crawled (200) <GET https://carifilms.com/films/page/318?order=DESC&is_meta_key=0&orderby=title#038;is_meta_key=0&orderby=title> (referer: None)\n"
     ]
    },
    {
     "name": "stdout",
     "output_type": "stream",
     "text": [
      "Banyak url film 3141\n",
      "Banyak url film 3142\n",
      "Banyak url film 3143\n",
      "Banyak url film 3144\n",
      "Banyak url film 3145\n",
      "Banyak url film 3146\n",
      "Banyak url film 3147\n",
      "Banyak url film 3148\n",
      "Banyak url film 3149\n",
      "Banyak url film 3150\n"
     ]
    },
    {
     "name": "stderr",
     "output_type": "stream",
     "text": [
      "2020-12-04 12:52:27 [scrapy.core.engine] DEBUG: Crawled (200) <GET https://carifilms.com/films/page/316?order=DESC&is_meta_key=0&orderby=title#038;is_meta_key=0&orderby=title> (referer: None)\n"
     ]
    },
    {
     "name": "stdout",
     "output_type": "stream",
     "text": [
      "Banyak url film 3151\n",
      "Banyak url film 3152\n",
      "Banyak url film 3153\n",
      "Banyak url film 3154\n",
      "Banyak url film 3155\n",
      "Banyak url film 3156\n",
      "Banyak url film 3157\n",
      "Banyak url film 3158\n",
      "Banyak url film 3159\n",
      "Banyak url film 3160\n"
     ]
    },
    {
     "name": "stderr",
     "output_type": "stream",
     "text": [
      "2020-12-04 12:52:30 [scrapy.core.engine] DEBUG: Crawled (200) <GET https://carifilms.com/films/page/319?order=DESC&is_meta_key=0&orderby=title#038;is_meta_key=0&orderby=title> (referer: None)\n"
     ]
    },
    {
     "name": "stdout",
     "output_type": "stream",
     "text": [
      "Banyak url film 3161\n",
      "Banyak url film 3162\n",
      "Banyak url film 3163\n",
      "Banyak url film 3164\n",
      "Banyak url film 3165\n",
      "Banyak url film 3166\n",
      "Banyak url film 3167\n",
      "Banyak url film 3168\n",
      "Banyak url film 3169\n",
      "Banyak url film 3170\n"
     ]
    },
    {
     "name": "stderr",
     "output_type": "stream",
     "text": [
      "2020-12-04 12:52:34 [scrapy.core.engine] DEBUG: Crawled (200) <GET https://carifilms.com/films/page/317?order=DESC&is_meta_key=0&orderby=title#038;is_meta_key=0&orderby=title> (referer: None)\n"
     ]
    },
    {
     "name": "stdout",
     "output_type": "stream",
     "text": [
      "Banyak url film 3171\n",
      "Banyak url film 3172\n",
      "Banyak url film 3173\n",
      "Banyak url film 3174\n",
      "Banyak url film 3175\n",
      "Banyak url film 3176\n",
      "Banyak url film 3177\n",
      "Banyak url film 3178\n",
      "Banyak url film 3179\n",
      "Banyak url film 3180\n"
     ]
    },
    {
     "name": "stderr",
     "output_type": "stream",
     "text": [
      "2020-12-04 12:52:37 [scrapy.core.engine] DEBUG: Crawled (200) <GET https://carifilms.com/films/page/315?order=DESC&is_meta_key=0&orderby=title#038;is_meta_key=0&orderby=title> (referer: None)\n"
     ]
    },
    {
     "name": "stdout",
     "output_type": "stream",
     "text": [
      "Banyak url film 3181\n",
      "Banyak url film 3182\n",
      "Banyak url film 3183\n",
      "Banyak url film 3184\n",
      "Banyak url film 3185\n",
      "Banyak url film 3186\n",
      "Banyak url film 3187\n",
      "Banyak url film 3188\n",
      "Banyak url film 3189\n",
      "Banyak url film 3190\n"
     ]
    },
    {
     "name": "stderr",
     "output_type": "stream",
     "text": [
      "2020-12-04 12:52:39 [scrapy.extensions.logstats] INFO: Crawled 319 pages (at 18 pages/min), scraped 0 items (at 0 items/min)\n",
      "2020-12-04 12:52:40 [scrapy.core.engine] DEBUG: Crawled (200) <GET https://carifilms.com/films/page/321?order=DESC&is_meta_key=0&orderby=title#038;is_meta_key=0&orderby=title> (referer: None)\n"
     ]
    },
    {
     "name": "stdout",
     "output_type": "stream",
     "text": [
      "Banyak url film 3191\n",
      "Banyak url film 3192\n",
      "Banyak url film 3193\n",
      "Banyak url film 3194\n",
      "Banyak url film 3195\n",
      "Banyak url film 3196\n",
      "Banyak url film 3197\n",
      "Banyak url film 3198\n",
      "Banyak url film 3199\n",
      "Banyak url film 3200\n"
     ]
    },
    {
     "name": "stderr",
     "output_type": "stream",
     "text": [
      "2020-12-04 12:52:44 [scrapy.core.engine] DEBUG: Crawled (200) <GET https://carifilms.com/films/page/324?order=DESC&is_meta_key=0&orderby=title#038;is_meta_key=0&orderby=title> (referer: None)\n"
     ]
    },
    {
     "name": "stdout",
     "output_type": "stream",
     "text": [
      "Banyak url film 3201\n",
      "Banyak url film 3202\n",
      "Banyak url film 3203\n",
      "Banyak url film 3204\n",
      "Banyak url film 3205\n",
      "Banyak url film 3206\n",
      "Banyak url film 3207\n",
      "Banyak url film 3208\n",
      "Banyak url film 3209\n",
      "Banyak url film 3210\n"
     ]
    },
    {
     "name": "stderr",
     "output_type": "stream",
     "text": [
      "2020-12-04 12:52:47 [scrapy.core.engine] DEBUG: Crawled (200) <GET https://carifilms.com/films/page/320?order=DESC&is_meta_key=0&orderby=title#038;is_meta_key=0&orderby=title> (referer: None)\n"
     ]
    },
    {
     "name": "stdout",
     "output_type": "stream",
     "text": [
      "Banyak url film 3211\n",
      "Banyak url film 3212\n",
      "Banyak url film 3213\n",
      "Banyak url film 3214\n",
      "Banyak url film 3215\n",
      "Banyak url film 3216\n",
      "Banyak url film 3217\n",
      "Banyak url film 3218\n",
      "Banyak url film 3219\n",
      "Banyak url film 3220\n"
     ]
    },
    {
     "name": "stderr",
     "output_type": "stream",
     "text": [
      "2020-12-04 12:52:50 [scrapy.core.engine] DEBUG: Crawled (200) <GET https://carifilms.com/films/page/328?order=DESC&is_meta_key=0&orderby=title#038;is_meta_key=0&orderby=title> (referer: None)\n"
     ]
    },
    {
     "name": "stdout",
     "output_type": "stream",
     "text": [
      "Banyak url film 3221\n",
      "Banyak url film 3222\n",
      "Banyak url film 3223\n",
      "Banyak url film 3224\n",
      "Banyak url film 3225\n",
      "Banyak url film 3226\n",
      "Banyak url film 3227\n",
      "Banyak url film 3228\n",
      "Banyak url film 3229\n",
      "Banyak url film 3230\n"
     ]
    },
    {
     "name": "stderr",
     "output_type": "stream",
     "text": [
      "2020-12-04 12:52:54 [scrapy.core.engine] DEBUG: Crawled (200) <GET https://carifilms.com/films/page/327?order=DESC&is_meta_key=0&orderby=title#038;is_meta_key=0&orderby=title> (referer: None)\n"
     ]
    },
    {
     "name": "stdout",
     "output_type": "stream",
     "text": [
      "Banyak url film 3231\n",
      "Banyak url film 3232\n",
      "Banyak url film 3233\n",
      "Banyak url film 3234\n",
      "Banyak url film 3235\n",
      "Banyak url film 3236\n",
      "Banyak url film 3237\n",
      "Banyak url film 3238\n",
      "Banyak url film 3239\n",
      "Banyak url film 3240\n"
     ]
    },
    {
     "name": "stderr",
     "output_type": "stream",
     "text": [
      "2020-12-04 12:52:58 [scrapy.core.engine] DEBUG: Crawled (200) <GET https://carifilms.com/films/page/330?order=DESC&is_meta_key=0&orderby=title#038;is_meta_key=0&orderby=title> (referer: None)\n"
     ]
    },
    {
     "name": "stdout",
     "output_type": "stream",
     "text": [
      "Banyak url film 3241\n",
      "Banyak url film 3242\n",
      "Banyak url film 3243\n",
      "Banyak url film 3244\n",
      "Banyak url film 3245\n",
      "Banyak url film 3246\n",
      "Banyak url film 3247\n",
      "Banyak url film 3248\n",
      "Banyak url film 3249\n",
      "Banyak url film 3250\n"
     ]
    },
    {
     "name": "stderr",
     "output_type": "stream",
     "text": [
      "2020-12-04 12:53:01 [scrapy.core.engine] DEBUG: Crawled (200) <GET https://carifilms.com/films/page/331?order=DESC&is_meta_key=0&orderby=title#038;is_meta_key=0&orderby=title> (referer: None)\n"
     ]
    },
    {
     "name": "stdout",
     "output_type": "stream",
     "text": [
      "Banyak url film 3251\n",
      "Banyak url film 3252\n",
      "Banyak url film 3253\n",
      "Banyak url film 3254\n",
      "Banyak url film 3255\n",
      "Banyak url film 3256\n",
      "Banyak url film 3257\n",
      "Banyak url film 3258\n",
      "Banyak url film 3259\n",
      "Banyak url film 3260\n"
     ]
    },
    {
     "name": "stderr",
     "output_type": "stream",
     "text": [
      "2020-12-04 12:53:05 [scrapy.core.engine] DEBUG: Crawled (200) <GET https://carifilms.com/films/page/326?order=DESC&is_meta_key=0&orderby=title#038;is_meta_key=0&orderby=title> (referer: None)\n"
     ]
    },
    {
     "name": "stdout",
     "output_type": "stream",
     "text": [
      "Banyak url film 3261\n",
      "Banyak url film 3262\n",
      "Banyak url film 3263\n",
      "Banyak url film 3264\n",
      "Banyak url film 3265\n",
      "Banyak url film 3266\n",
      "Banyak url film 3267\n",
      "Banyak url film 3268\n",
      "Banyak url film 3269\n",
      "Banyak url film 3270\n"
     ]
    },
    {
     "name": "stderr",
     "output_type": "stream",
     "text": [
      "2020-12-04 12:53:08 [scrapy.core.engine] DEBUG: Crawled (200) <GET https://carifilms.com/films/page/329?order=DESC&is_meta_key=0&orderby=title#038;is_meta_key=0&orderby=title> (referer: None)\n"
     ]
    },
    {
     "name": "stdout",
     "output_type": "stream",
     "text": [
      "Banyak url film 3271\n",
      "Banyak url film 3272\n",
      "Banyak url film 3273\n",
      "Banyak url film 3274\n",
      "Banyak url film 3275\n",
      "Banyak url film 3276\n",
      "Banyak url film 3277\n",
      "Banyak url film 3278\n",
      "Banyak url film 3279\n",
      "Banyak url film 3280\n"
     ]
    },
    {
     "name": "stderr",
     "output_type": "stream",
     "text": [
      "2020-12-04 12:53:11 [scrapy.core.engine] DEBUG: Crawled (200) <GET https://carifilms.com/films/page/322?order=DESC&is_meta_key=0&orderby=title#038;is_meta_key=0&orderby=title> (referer: None)\n"
     ]
    },
    {
     "name": "stdout",
     "output_type": "stream",
     "text": [
      "Banyak url film 3281\n",
      "Banyak url film 3282\n",
      "Banyak url film 3283\n",
      "Banyak url film 3284\n",
      "Banyak url film 3285\n",
      "Banyak url film 3286\n",
      "Banyak url film 3287\n",
      "Banyak url film 3288\n",
      "Banyak url film 3289\n",
      "Banyak url film 3290\n"
     ]
    },
    {
     "name": "stderr",
     "output_type": "stream",
     "text": [
      "2020-12-04 12:53:14 [scrapy.core.engine] DEBUG: Crawled (200) <GET https://carifilms.com/films/page/325?order=DESC&is_meta_key=0&orderby=title#038;is_meta_key=0&orderby=title> (referer: None)\n"
     ]
    },
    {
     "name": "stdout",
     "output_type": "stream",
     "text": [
      "Banyak url film 3291\n",
      "Banyak url film 3292\n",
      "Banyak url film 3293\n",
      "Banyak url film 3294\n",
      "Banyak url film 3295\n",
      "Banyak url film 3296\n",
      "Banyak url film 3297\n",
      "Banyak url film 3298\n",
      "Banyak url film 3299\n",
      "Banyak url film 3300\n"
     ]
    },
    {
     "name": "stderr",
     "output_type": "stream",
     "text": [
      "2020-12-04 12:53:18 [scrapy.core.engine] DEBUG: Crawled (200) <GET https://carifilms.com/films/page/323?order=DESC&is_meta_key=0&orderby=title#038;is_meta_key=0&orderby=title> (referer: None)\n"
     ]
    },
    {
     "name": "stdout",
     "output_type": "stream",
     "text": [
      "Banyak url film 3301\n",
      "Banyak url film 3302\n",
      "Banyak url film 3303\n",
      "Banyak url film 3304\n",
      "Banyak url film 3305\n",
      "Banyak url film 3306\n",
      "Banyak url film 3307\n",
      "Banyak url film 3308\n",
      "Banyak url film 3309\n",
      "Banyak url film 3310\n"
     ]
    },
    {
     "name": "stderr",
     "output_type": "stream",
     "text": [
      "2020-12-04 12:53:21 [scrapy.core.engine] DEBUG: Crawled (200) <GET https://carifilms.com/films/page/334?order=DESC&is_meta_key=0&orderby=title#038;is_meta_key=0&orderby=title> (referer: None)\n"
     ]
    },
    {
     "name": "stdout",
     "output_type": "stream",
     "text": [
      "Banyak url film 3311\n",
      "Banyak url film 3312\n",
      "Banyak url film 3313\n",
      "Banyak url film 3314\n",
      "Banyak url film 3315\n",
      "Banyak url film 3316\n",
      "Banyak url film 3317\n",
      "Banyak url film 3318\n",
      "Banyak url film 3319\n",
      "Banyak url film 3320\n"
     ]
    },
    {
     "name": "stderr",
     "output_type": "stream",
     "text": [
      "2020-12-04 12:53:25 [scrapy.core.engine] DEBUG: Crawled (200) <GET https://carifilms.com/films/page/333?order=DESC&is_meta_key=0&orderby=title#038;is_meta_key=0&orderby=title> (referer: None)\n"
     ]
    },
    {
     "name": "stdout",
     "output_type": "stream",
     "text": [
      "Banyak url film 3321\n",
      "Banyak url film 3322\n",
      "Banyak url film 3323\n",
      "Banyak url film 3324\n",
      "Banyak url film 3325\n",
      "Banyak url film 3326\n",
      "Banyak url film 3327\n",
      "Banyak url film 3328\n",
      "Banyak url film 3329\n",
      "Banyak url film 3330\n"
     ]
    },
    {
     "name": "stderr",
     "output_type": "stream",
     "text": [
      "2020-12-04 12:53:28 [scrapy.core.engine] DEBUG: Crawled (200) <GET https://carifilms.com/films/page/335?order=DESC&is_meta_key=0&orderby=title#038;is_meta_key=0&orderby=title> (referer: None)\n"
     ]
    },
    {
     "name": "stdout",
     "output_type": "stream",
     "text": [
      "Banyak url film 3331\n",
      "Banyak url film 3332\n",
      "Banyak url film 3333\n",
      "Banyak url film 3334\n",
      "Banyak url film 3335\n",
      "Banyak url film 3336\n",
      "Banyak url film 3337\n",
      "Banyak url film 3338\n",
      "Banyak url film 3339\n",
      "Banyak url film 3340\n"
     ]
    },
    {
     "name": "stderr",
     "output_type": "stream",
     "text": [
      "2020-12-04 12:53:31 [scrapy.core.engine] DEBUG: Crawled (200) <GET https://carifilms.com/films/page/336?order=DESC&is_meta_key=0&orderby=title#038;is_meta_key=0&orderby=title> (referer: None)\n"
     ]
    },
    {
     "name": "stdout",
     "output_type": "stream",
     "text": [
      "Banyak url film 3341\n",
      "Banyak url film 3342\n",
      "Banyak url film 3343\n",
      "Banyak url film 3344\n",
      "Banyak url film 3345\n",
      "Banyak url film 3346\n",
      "Banyak url film 3347\n",
      "Banyak url film 3348\n",
      "Banyak url film 3349\n",
      "Banyak url film 3350\n"
     ]
    },
    {
     "name": "stderr",
     "output_type": "stream",
     "text": [
      "2020-12-04 12:53:35 [scrapy.core.engine] DEBUG: Crawled (200) <GET https://carifilms.com/films/page/339?order=DESC&is_meta_key=0&orderby=title#038;is_meta_key=0&orderby=title> (referer: None)\n"
     ]
    },
    {
     "name": "stdout",
     "output_type": "stream",
     "text": [
      "Banyak url film 3351\n",
      "Banyak url film 3352\n",
      "Banyak url film 3353\n",
      "Banyak url film 3354\n",
      "Banyak url film 3355\n",
      "Banyak url film 3356\n",
      "Banyak url film 3357\n",
      "Banyak url film 3358\n",
      "Banyak url film 3359\n",
      "Banyak url film 3360\n"
     ]
    },
    {
     "name": "stderr",
     "output_type": "stream",
     "text": [
      "2020-12-04 12:53:38 [scrapy.core.engine] DEBUG: Crawled (200) <GET https://carifilms.com/films/page/341?order=DESC&is_meta_key=0&orderby=title#038;is_meta_key=0&orderby=title> (referer: None)\n"
     ]
    },
    {
     "name": "stdout",
     "output_type": "stream",
     "text": [
      "Banyak url film 3361\n",
      "Banyak url film 3362\n",
      "Banyak url film 3363\n",
      "Banyak url film 3364\n",
      "Banyak url film 3365\n",
      "Banyak url film 3366\n",
      "Banyak url film 3367\n",
      "Banyak url film 3368\n",
      "Banyak url film 3369\n",
      "Banyak url film 3370\n"
     ]
    },
    {
     "name": "stderr",
     "output_type": "stream",
     "text": [
      "2020-12-04 12:53:39 [scrapy.extensions.logstats] INFO: Crawled 337 pages (at 18 pages/min), scraped 0 items (at 0 items/min)\n",
      "2020-12-04 12:53:41 [scrapy.core.engine] DEBUG: Crawled (200) <GET https://carifilms.com/films/page/340?order=DESC&is_meta_key=0&orderby=title#038;is_meta_key=0&orderby=title> (referer: None)\n"
     ]
    },
    {
     "name": "stdout",
     "output_type": "stream",
     "text": [
      "Banyak url film 3371\n",
      "Banyak url film 3372\n",
      "Banyak url film 3373\n",
      "Banyak url film 3374\n",
      "Banyak url film 3375\n",
      "Banyak url film 3376\n",
      "Banyak url film 3377\n",
      "Banyak url film 3378\n",
      "Banyak url film 3379\n",
      "Banyak url film 3380\n"
     ]
    },
    {
     "name": "stderr",
     "output_type": "stream",
     "text": [
      "2020-12-04 12:53:45 [scrapy.core.engine] DEBUG: Crawled (200) <GET https://carifilms.com/films/page/337?order=DESC&is_meta_key=0&orderby=title#038;is_meta_key=0&orderby=title> (referer: None)\n"
     ]
    },
    {
     "name": "stdout",
     "output_type": "stream",
     "text": [
      "Banyak url film 3381\n",
      "Banyak url film 3382\n",
      "Banyak url film 3383\n",
      "Banyak url film 3384\n",
      "Banyak url film 3385\n",
      "Banyak url film 3386\n",
      "Banyak url film 3387\n",
      "Banyak url film 3388\n",
      "Banyak url film 3389\n",
      "Banyak url film 3390\n"
     ]
    },
    {
     "name": "stderr",
     "output_type": "stream",
     "text": [
      "2020-12-04 12:53:49 [scrapy.core.engine] DEBUG: Crawled (200) <GET https://carifilms.com/films/page/338?order=DESC&is_meta_key=0&orderby=title#038;is_meta_key=0&orderby=title> (referer: None)\n"
     ]
    },
    {
     "name": "stdout",
     "output_type": "stream",
     "text": [
      "Banyak url film 3391\n",
      "Banyak url film 3392\n",
      "Banyak url film 3393\n",
      "Banyak url film 3394\n",
      "Banyak url film 3395\n",
      "Banyak url film 3396\n",
      "Banyak url film 3397\n",
      "Banyak url film 3398\n",
      "Banyak url film 3399\n",
      "Banyak url film 3400\n"
     ]
    },
    {
     "name": "stderr",
     "output_type": "stream",
     "text": [
      "2020-12-04 12:53:52 [scrapy.core.engine] DEBUG: Crawled (200) <GET https://carifilms.com/films/page/332?order=DESC&is_meta_key=0&orderby=title#038;is_meta_key=0&orderby=title> (referer: None)\n"
     ]
    },
    {
     "name": "stdout",
     "output_type": "stream",
     "text": [
      "Banyak url film 3401\n",
      "Banyak url film 3402\n",
      "Banyak url film 3403\n",
      "Banyak url film 3404\n",
      "Banyak url film 3405\n",
      "Banyak url film 3406\n",
      "Banyak url film 3407\n",
      "Banyak url film 3408\n",
      "Banyak url film 3409\n",
      "Banyak url film 3410\n"
     ]
    },
    {
     "name": "stderr",
     "output_type": "stream",
     "text": [
      "2020-12-04 12:53:55 [scrapy.core.engine] DEBUG: Crawled (200) <GET https://carifilms.com/films/page/345?order=DESC&is_meta_key=0&orderby=title#038;is_meta_key=0&orderby=title> (referer: None)\n"
     ]
    },
    {
     "name": "stdout",
     "output_type": "stream",
     "text": [
      "Banyak url film 3411\n",
      "Banyak url film 3412\n",
      "Banyak url film 3413\n",
      "Banyak url film 3414\n",
      "Banyak url film 3415\n",
      "Banyak url film 3416\n",
      "Banyak url film 3417\n",
      "Banyak url film 3418\n",
      "Banyak url film 3419\n",
      "Banyak url film 3420\n"
     ]
    },
    {
     "name": "stderr",
     "output_type": "stream",
     "text": [
      "2020-12-04 12:53:59 [scrapy.core.engine] DEBUG: Crawled (200) <GET https://carifilms.com/films/page/343?order=DESC&is_meta_key=0&orderby=title#038;is_meta_key=0&orderby=title> (referer: None)\n"
     ]
    },
    {
     "name": "stdout",
     "output_type": "stream",
     "text": [
      "Banyak url film 3421\n",
      "Banyak url film 3422\n",
      "Banyak url film 3423\n",
      "Banyak url film 3424\n",
      "Banyak url film 3425\n",
      "Banyak url film 3426\n",
      "Banyak url film 3427\n",
      "Banyak url film 3428\n",
      "Banyak url film 3429\n",
      "Banyak url film 3430\n"
     ]
    },
    {
     "name": "stderr",
     "output_type": "stream",
     "text": [
      "2020-12-04 12:54:02 [scrapy.core.engine] DEBUG: Crawled (200) <GET https://carifilms.com/films/page/344?order=DESC&is_meta_key=0&orderby=title#038;is_meta_key=0&orderby=title> (referer: None)\n"
     ]
    },
    {
     "name": "stdout",
     "output_type": "stream",
     "text": [
      "Banyak url film 3431\n",
      "Banyak url film 3432\n",
      "Banyak url film 3433\n",
      "Banyak url film 3434\n",
      "Banyak url film 3435\n",
      "Banyak url film 3436\n",
      "Banyak url film 3437\n",
      "Banyak url film 3438\n",
      "Banyak url film 3439\n",
      "Banyak url film 3440\n"
     ]
    },
    {
     "name": "stderr",
     "output_type": "stream",
     "text": [
      "2020-12-04 12:54:05 [scrapy.core.engine] DEBUG: Crawled (200) <GET https://carifilms.com/films/page/347?order=DESC&is_meta_key=0&orderby=title#038;is_meta_key=0&orderby=title> (referer: None)\n"
     ]
    },
    {
     "name": "stdout",
     "output_type": "stream",
     "text": [
      "Banyak url film 3441\n",
      "Banyak url film 3442\n",
      "Banyak url film 3443\n",
      "Banyak url film 3444\n",
      "Banyak url film 3445\n",
      "Banyak url film 3446\n",
      "Banyak url film 3447\n",
      "Banyak url film 3448\n",
      "Banyak url film 3449\n",
      "Banyak url film 3450\n"
     ]
    },
    {
     "name": "stderr",
     "output_type": "stream",
     "text": [
      "2020-12-04 12:54:09 [scrapy.core.engine] DEBUG: Crawled (200) <GET https://carifilms.com/films/page/349?order=DESC&is_meta_key=0&orderby=title#038;is_meta_key=0&orderby=title> (referer: None)\n"
     ]
    },
    {
     "name": "stdout",
     "output_type": "stream",
     "text": [
      "Banyak url film 3451\n",
      "Banyak url film 3452\n",
      "Banyak url film 3453\n",
      "Banyak url film 3454\n",
      "Banyak url film 3455\n",
      "Banyak url film 3456\n",
      "Banyak url film 3457\n",
      "Banyak url film 3458\n",
      "Banyak url film 3459\n",
      "Banyak url film 3460\n"
     ]
    },
    {
     "name": "stderr",
     "output_type": "stream",
     "text": [
      "2020-12-04 12:54:12 [scrapy.core.engine] DEBUG: Crawled (200) <GET https://carifilms.com/films/page/348?order=DESC&is_meta_key=0&orderby=title#038;is_meta_key=0&orderby=title> (referer: None)\n"
     ]
    },
    {
     "name": "stdout",
     "output_type": "stream",
     "text": [
      "Banyak url film 3461\n",
      "Banyak url film 3462\n",
      "Banyak url film 3463\n",
      "Banyak url film 3464\n",
      "Banyak url film 3465\n",
      "Banyak url film 3466\n",
      "Banyak url film 3467\n",
      "Banyak url film 3468\n",
      "Banyak url film 3469\n",
      "Banyak url film 3470\n"
     ]
    },
    {
     "name": "stderr",
     "output_type": "stream",
     "text": [
      "2020-12-04 12:54:16 [scrapy.core.engine] DEBUG: Crawled (200) <GET https://carifilms.com/films/page/350?order=DESC&is_meta_key=0&orderby=title#038;is_meta_key=0&orderby=title> (referer: None)\n"
     ]
    },
    {
     "name": "stdout",
     "output_type": "stream",
     "text": [
      "Banyak url film 3471\n",
      "Banyak url film 3472\n",
      "Banyak url film 3473\n",
      "Banyak url film 3474\n",
      "Banyak url film 3475\n",
      "Banyak url film 3476\n",
      "Banyak url film 3477\n",
      "Banyak url film 3478\n",
      "Banyak url film 3479\n",
      "Banyak url film 3480\n"
     ]
    },
    {
     "name": "stderr",
     "output_type": "stream",
     "text": [
      "2020-12-04 12:54:19 [scrapy.core.engine] DEBUG: Crawled (200) <GET https://carifilms.com/films/page/352?order=DESC&is_meta_key=0&orderby=title#038;is_meta_key=0&orderby=title> (referer: None)\n"
     ]
    },
    {
     "name": "stdout",
     "output_type": "stream",
     "text": [
      "Banyak url film 3481\n",
      "Banyak url film 3482\n",
      "Banyak url film 3483\n",
      "Banyak url film 3484\n",
      "Banyak url film 3485\n",
      "Banyak url film 3486\n",
      "Banyak url film 3487\n",
      "Banyak url film 3488\n",
      "Banyak url film 3489\n",
      "Banyak url film 3490\n"
     ]
    },
    {
     "name": "stderr",
     "output_type": "stream",
     "text": [
      "2020-12-04 12:54:22 [scrapy.core.engine] DEBUG: Crawled (200) <GET https://carifilms.com/films/page/354?order=DESC&is_meta_key=0&orderby=title#038;is_meta_key=0&orderby=title> (referer: None)\n"
     ]
    },
    {
     "name": "stdout",
     "output_type": "stream",
     "text": [
      "Banyak url film 3491\n",
      "Banyak url film 3492\n",
      "Banyak url film 3493\n",
      "Banyak url film 3494\n",
      "Banyak url film 3495\n",
      "Banyak url film 3496\n",
      "Banyak url film 3497\n",
      "Banyak url film 3498\n",
      "Banyak url film 3499\n",
      "Banyak url film 3500\n"
     ]
    },
    {
     "name": "stderr",
     "output_type": "stream",
     "text": [
      "2020-12-04 12:54:26 [scrapy.core.engine] DEBUG: Crawled (200) <GET https://carifilms.com/films/page/353?order=DESC&is_meta_key=0&orderby=title#038;is_meta_key=0&orderby=title> (referer: None)\n"
     ]
    },
    {
     "name": "stdout",
     "output_type": "stream",
     "text": [
      "Banyak url film 3501\n",
      "Banyak url film 3502\n",
      "Banyak url film 3503\n",
      "Banyak url film 3504\n",
      "Banyak url film 3505\n",
      "Banyak url film 3506\n",
      "Banyak url film 3507\n",
      "Banyak url film 3508\n",
      "Banyak url film 3509\n",
      "Banyak url film 3510\n"
     ]
    },
    {
     "name": "stderr",
     "output_type": "stream",
     "text": [
      "2020-12-04 12:54:29 [scrapy.core.engine] DEBUG: Crawled (200) <GET https://carifilms.com/films/page/356?order=DESC&is_meta_key=0&orderby=title#038;is_meta_key=0&orderby=title> (referer: None)\n"
     ]
    },
    {
     "name": "stdout",
     "output_type": "stream",
     "text": [
      "Banyak url film 3511\n",
      "Banyak url film 3512\n",
      "Banyak url film 3513\n",
      "Banyak url film 3514\n",
      "Banyak url film 3515\n",
      "Banyak url film 3516\n",
      "Banyak url film 3517\n",
      "Banyak url film 3518\n",
      "Banyak url film 3519\n",
      "Banyak url film 3520\n"
     ]
    },
    {
     "name": "stderr",
     "output_type": "stream",
     "text": [
      "2020-12-04 12:54:33 [scrapy.core.engine] DEBUG: Crawled (200) <GET https://carifilms.com/films/page/342?order=DESC&is_meta_key=0&orderby=title#038;is_meta_key=0&orderby=title> (referer: None)\n"
     ]
    },
    {
     "name": "stdout",
     "output_type": "stream",
     "text": [
      "Banyak url film 3521\n",
      "Banyak url film 3522\n",
      "Banyak url film 3523\n",
      "Banyak url film 3524\n",
      "Banyak url film 3525\n",
      "Banyak url film 3526\n",
      "Banyak url film 3527\n",
      "Banyak url film 3528\n",
      "Banyak url film 3529\n",
      "Banyak url film 3530\n"
     ]
    },
    {
     "name": "stderr",
     "output_type": "stream",
     "text": [
      "2020-12-04 12:54:36 [scrapy.core.engine] DEBUG: Crawled (200) <GET https://carifilms.com/films/page/346?order=DESC&is_meta_key=0&orderby=title#038;is_meta_key=0&orderby=title> (referer: None)\n"
     ]
    },
    {
     "name": "stdout",
     "output_type": "stream",
     "text": [
      "Banyak url film 3531\n",
      "Banyak url film 3532\n",
      "Banyak url film 3533\n",
      "Banyak url film 3534\n",
      "Banyak url film 3535\n",
      "Banyak url film 3536\n",
      "Banyak url film 3537\n",
      "Banyak url film 3538\n",
      "Banyak url film 3539\n",
      "Banyak url film 3540\n"
     ]
    },
    {
     "name": "stderr",
     "output_type": "stream",
     "text": [
      "2020-12-04 12:54:39 [scrapy.extensions.logstats] INFO: Crawled 354 pages (at 17 pages/min), scraped 0 items (at 0 items/min)\n",
      "2020-12-04 12:54:39 [scrapy.core.engine] DEBUG: Crawled (200) <GET https://carifilms.com/films/page/355?order=DESC&is_meta_key=0&orderby=title#038;is_meta_key=0&orderby=title> (referer: None)\n"
     ]
    },
    {
     "name": "stdout",
     "output_type": "stream",
     "text": [
      "Banyak url film 3541\n",
      "Banyak url film 3542\n",
      "Banyak url film 3543\n",
      "Banyak url film 3544\n",
      "Banyak url film 3545\n",
      "Banyak url film 3546\n",
      "Banyak url film 3547\n",
      "Banyak url film 3548\n",
      "Banyak url film 3549\n",
      "Banyak url film 3550\n"
     ]
    },
    {
     "name": "stderr",
     "output_type": "stream",
     "text": [
      "2020-12-04 12:54:43 [scrapy.core.engine] DEBUG: Crawled (200) <GET https://carifilms.com/films/page/358?order=DESC&is_meta_key=0&orderby=title#038;is_meta_key=0&orderby=title> (referer: None)\n"
     ]
    },
    {
     "name": "stdout",
     "output_type": "stream",
     "text": [
      "Banyak url film 3551\n",
      "Banyak url film 3552\n",
      "Banyak url film 3553\n",
      "Banyak url film 3554\n",
      "Banyak url film 3555\n",
      "Banyak url film 3556\n",
      "Banyak url film 3557\n",
      "Banyak url film 3558\n",
      "Banyak url film 3559\n",
      "Banyak url film 3560\n"
     ]
    },
    {
     "name": "stderr",
     "output_type": "stream",
     "text": [
      "2020-12-04 12:54:46 [scrapy.core.engine] DEBUG: Crawled (200) <GET https://carifilms.com/films/page/351?order=DESC&is_meta_key=0&orderby=title#038;is_meta_key=0&orderby=title> (referer: None)\n"
     ]
    },
    {
     "name": "stdout",
     "output_type": "stream",
     "text": [
      "Banyak url film 3561\n",
      "Banyak url film 3562\n",
      "Banyak url film 3563\n",
      "Banyak url film 3564\n",
      "Banyak url film 3565\n",
      "Banyak url film 3566\n",
      "Banyak url film 3567\n",
      "Banyak url film 3568\n",
      "Banyak url film 3569\n",
      "Banyak url film 3570\n"
     ]
    },
    {
     "name": "stderr",
     "output_type": "stream",
     "text": [
      "2020-12-04 12:54:50 [scrapy.core.engine] DEBUG: Crawled (200) <GET https://carifilms.com/films/page/361?order=DESC&is_meta_key=0&orderby=title#038;is_meta_key=0&orderby=title> (referer: None)\n"
     ]
    },
    {
     "name": "stdout",
     "output_type": "stream",
     "text": [
      "Banyak url film 3571\n",
      "Banyak url film 3572\n",
      "Banyak url film 3573\n",
      "Banyak url film 3574\n",
      "Banyak url film 3575\n",
      "Banyak url film 3576\n",
      "Banyak url film 3577\n",
      "Banyak url film 3578\n",
      "Banyak url film 3579\n",
      "Banyak url film 3580\n"
     ]
    },
    {
     "name": "stderr",
     "output_type": "stream",
     "text": [
      "2020-12-04 12:54:53 [scrapy.core.engine] DEBUG: Crawled (200) <GET https://carifilms.com/films/page/359?order=DESC&is_meta_key=0&orderby=title#038;is_meta_key=0&orderby=title> (referer: None)\n"
     ]
    },
    {
     "name": "stdout",
     "output_type": "stream",
     "text": [
      "Banyak url film 3581\n",
      "Banyak url film 3582\n",
      "Banyak url film 3583\n",
      "Banyak url film 3584\n",
      "Banyak url film 3585\n",
      "Banyak url film 3586\n",
      "Banyak url film 3587\n",
      "Banyak url film 3588\n",
      "Banyak url film 3589\n",
      "Banyak url film 3590\n"
     ]
    },
    {
     "name": "stderr",
     "output_type": "stream",
     "text": [
      "2020-12-04 12:54:56 [scrapy.core.engine] DEBUG: Crawled (200) <GET https://carifilms.com/films/page/360?order=DESC&is_meta_key=0&orderby=title#038;is_meta_key=0&orderby=title> (referer: None)\n"
     ]
    },
    {
     "name": "stdout",
     "output_type": "stream",
     "text": [
      "Banyak url film 3591\n",
      "Banyak url film 3592\n",
      "Banyak url film 3593\n",
      "Banyak url film 3594\n",
      "Banyak url film 3595\n",
      "Banyak url film 3596\n",
      "Banyak url film 3597\n",
      "Banyak url film 3598\n",
      "Banyak url film 3599\n",
      "Banyak url film 3600\n"
     ]
    },
    {
     "name": "stderr",
     "output_type": "stream",
     "text": [
      "2020-12-04 12:55:00 [scrapy.core.engine] DEBUG: Crawled (200) <GET https://carifilms.com/films/page/363?order=DESC&is_meta_key=0&orderby=title#038;is_meta_key=0&orderby=title> (referer: None)\n"
     ]
    },
    {
     "name": "stdout",
     "output_type": "stream",
     "text": [
      "Banyak url film 3601\n",
      "Banyak url film 3602\n",
      "Banyak url film 3603\n",
      "Banyak url film 3604\n",
      "Banyak url film 3605\n",
      "Banyak url film 3606\n",
      "Banyak url film 3607\n",
      "Banyak url film 3608\n",
      "Banyak url film 3609\n",
      "Banyak url film 3610\n"
     ]
    },
    {
     "name": "stderr",
     "output_type": "stream",
     "text": [
      "2020-12-04 12:55:03 [scrapy.core.engine] DEBUG: Crawled (200) <GET https://carifilms.com/films/page/365?order=DESC&is_meta_key=0&orderby=title#038;is_meta_key=0&orderby=title> (referer: None)\n"
     ]
    },
    {
     "name": "stdout",
     "output_type": "stream",
     "text": [
      "Banyak url film 3611\n",
      "Banyak url film 3612\n",
      "Banyak url film 3613\n",
      "Banyak url film 3614\n",
      "Banyak url film 3615\n",
      "Banyak url film 3616\n",
      "Banyak url film 3617\n",
      "Banyak url film 3618\n",
      "Banyak url film 3619\n",
      "Banyak url film 3620\n"
     ]
    },
    {
     "name": "stderr",
     "output_type": "stream",
     "text": [
      "2020-12-04 12:55:06 [scrapy.core.engine] DEBUG: Crawled (200) <GET https://carifilms.com/films/page/366?order=DESC&is_meta_key=0&orderby=title#038;is_meta_key=0&orderby=title> (referer: None)\n"
     ]
    },
    {
     "name": "stdout",
     "output_type": "stream",
     "text": [
      "Banyak url film 3621\n",
      "Banyak url film 3622\n",
      "Banyak url film 3623\n",
      "Banyak url film 3624\n",
      "Banyak url film 3625\n",
      "Banyak url film 3626\n",
      "Banyak url film 3627\n",
      "Banyak url film 3628\n",
      "Banyak url film 3629\n",
      "Banyak url film 3630\n"
     ]
    },
    {
     "name": "stderr",
     "output_type": "stream",
     "text": [
      "2020-12-04 12:55:10 [scrapy.core.engine] DEBUG: Crawled (200) <GET https://carifilms.com/films/page/364?order=DESC&is_meta_key=0&orderby=title#038;is_meta_key=0&orderby=title> (referer: None)\n"
     ]
    },
    {
     "name": "stdout",
     "output_type": "stream",
     "text": [
      "Banyak url film 3631\n",
      "Banyak url film 3632\n",
      "Banyak url film 3633\n",
      "Banyak url film 3634\n",
      "Banyak url film 3635\n",
      "Banyak url film 3636\n",
      "Banyak url film 3637\n",
      "Banyak url film 3638\n",
      "Banyak url film 3639\n",
      "Banyak url film 3640\n"
     ]
    },
    {
     "name": "stderr",
     "output_type": "stream",
     "text": [
      "2020-12-04 12:55:13 [scrapy.core.engine] DEBUG: Crawled (200) <GET https://carifilms.com/films/page/367?order=DESC&is_meta_key=0&orderby=title#038;is_meta_key=0&orderby=title> (referer: None)\n"
     ]
    },
    {
     "name": "stdout",
     "output_type": "stream",
     "text": [
      "Banyak url film 3641\n",
      "Banyak url film 3642\n",
      "Banyak url film 3643\n",
      "Banyak url film 3644\n",
      "Banyak url film 3645\n",
      "Banyak url film 3646\n",
      "Banyak url film 3647\n",
      "Banyak url film 3648\n",
      "Banyak url film 3649\n",
      "Banyak url film 3650\n"
     ]
    },
    {
     "name": "stderr",
     "output_type": "stream",
     "text": [
      "2020-12-04 12:55:16 [scrapy.core.engine] DEBUG: Crawled (200) <GET https://carifilms.com/films/page/369?order=DESC&is_meta_key=0&orderby=title#038;is_meta_key=0&orderby=title> (referer: None)\n"
     ]
    },
    {
     "name": "stdout",
     "output_type": "stream",
     "text": [
      "Banyak url film 3651\n",
      "Banyak url film 3652\n",
      "Banyak url film 3653\n",
      "Banyak url film 3654\n",
      "Banyak url film 3655\n",
      "Banyak url film 3656\n",
      "Banyak url film 3657\n",
      "Banyak url film 3658\n",
      "Banyak url film 3659\n",
      "Banyak url film 3660\n"
     ]
    },
    {
     "name": "stderr",
     "output_type": "stream",
     "text": [
      "2020-12-04 12:55:20 [scrapy.core.engine] DEBUG: Crawled (200) <GET https://carifilms.com/films/page/370?order=DESC&is_meta_key=0&orderby=title#038;is_meta_key=0&orderby=title> (referer: None)\n"
     ]
    },
    {
     "name": "stdout",
     "output_type": "stream",
     "text": [
      "Banyak url film 3661\n",
      "Banyak url film 3662\n",
      "Banyak url film 3663\n",
      "Banyak url film 3664\n",
      "Banyak url film 3665\n",
      "Banyak url film 3666\n",
      "Banyak url film 3667\n",
      "Banyak url film 3668\n",
      "Banyak url film 3669\n",
      "Banyak url film 3670\n"
     ]
    },
    {
     "name": "stderr",
     "output_type": "stream",
     "text": [
      "2020-12-04 12:55:23 [scrapy.core.engine] DEBUG: Crawled (200) <GET https://carifilms.com/films/page/362?order=DESC&is_meta_key=0&orderby=title#038;is_meta_key=0&orderby=title> (referer: None)\n"
     ]
    },
    {
     "name": "stdout",
     "output_type": "stream",
     "text": [
      "Banyak url film 3671\n",
      "Banyak url film 3672\n",
      "Banyak url film 3673\n",
      "Banyak url film 3674\n",
      "Banyak url film 3675\n",
      "Banyak url film 3676\n",
      "Banyak url film 3677\n",
      "Banyak url film 3678\n",
      "Banyak url film 3679\n",
      "Banyak url film 3680\n"
     ]
    },
    {
     "name": "stderr",
     "output_type": "stream",
     "text": [
      "2020-12-04 12:55:27 [scrapy.core.engine] DEBUG: Crawled (200) <GET https://carifilms.com/films/page/372?order=DESC&is_meta_key=0&orderby=title#038;is_meta_key=0&orderby=title> (referer: None)\n"
     ]
    },
    {
     "name": "stdout",
     "output_type": "stream",
     "text": [
      "Banyak url film 3681\n",
      "Banyak url film 3682\n",
      "Banyak url film 3683\n",
      "Banyak url film 3684\n",
      "Banyak url film 3685\n",
      "Banyak url film 3686\n",
      "Banyak url film 3687\n",
      "Banyak url film 3688\n",
      "Banyak url film 3689\n",
      "Banyak url film 3690\n"
     ]
    },
    {
     "name": "stderr",
     "output_type": "stream",
     "text": [
      "2020-12-04 12:55:30 [scrapy.core.engine] DEBUG: Crawled (200) <GET https://carifilms.com/films/page/371?order=DESC&is_meta_key=0&orderby=title#038;is_meta_key=0&orderby=title> (referer: None)\n"
     ]
    },
    {
     "name": "stdout",
     "output_type": "stream",
     "text": [
      "Banyak url film 3691\n",
      "Banyak url film 3692\n",
      "Banyak url film 3693\n",
      "Banyak url film 3694\n",
      "Banyak url film 3695\n",
      "Banyak url film 3696\n",
      "Banyak url film 3697\n",
      "Banyak url film 3698\n",
      "Banyak url film 3699\n",
      "Banyak url film 3700\n"
     ]
    },
    {
     "name": "stderr",
     "output_type": "stream",
     "text": [
      "2020-12-04 12:55:34 [scrapy.core.engine] DEBUG: Crawled (200) <GET https://carifilms.com/films/page/374?order=DESC&is_meta_key=0&orderby=title#038;is_meta_key=0&orderby=title> (referer: None)\n"
     ]
    },
    {
     "name": "stdout",
     "output_type": "stream",
     "text": [
      "Banyak url film 3701\n",
      "Banyak url film 3702\n",
      "Banyak url film 3703\n",
      "Banyak url film 3704\n",
      "Banyak url film 3705\n",
      "Banyak url film 3706\n",
      "Banyak url film 3707\n",
      "Banyak url film 3708\n",
      "Banyak url film 3709\n",
      "Banyak url film 3710\n"
     ]
    },
    {
     "name": "stderr",
     "output_type": "stream",
     "text": [
      "2020-12-04 12:55:37 [scrapy.core.engine] DEBUG: Crawled (200) <GET https://carifilms.com/films/page/357?order=DESC&is_meta_key=0&orderby=title#038;is_meta_key=0&orderby=title> (referer: None)\n"
     ]
    },
    {
     "name": "stdout",
     "output_type": "stream",
     "text": [
      "Banyak url film 3711\n",
      "Banyak url film 3712\n",
      "Banyak url film 3713\n",
      "Banyak url film 3714\n",
      "Banyak url film 3715\n",
      "Banyak url film 3716\n",
      "Banyak url film 3717\n",
      "Banyak url film 3718\n",
      "Banyak url film 3719\n",
      "Banyak url film 3720\n"
     ]
    },
    {
     "name": "stderr",
     "output_type": "stream",
     "text": [
      "2020-12-04 12:55:39 [scrapy.extensions.logstats] INFO: Crawled 372 pages (at 18 pages/min), scraped 0 items (at 0 items/min)\n",
      "2020-12-04 12:55:40 [scrapy.core.engine] DEBUG: Crawled (200) <GET https://carifilms.com/films/page/378?order=DESC&is_meta_key=0&orderby=title#038;is_meta_key=0&orderby=title> (referer: None)\n"
     ]
    },
    {
     "name": "stdout",
     "output_type": "stream",
     "text": [
      "Banyak url film 3721\n",
      "Banyak url film 3722\n",
      "Banyak url film 3723\n",
      "Banyak url film 3724\n",
      "Banyak url film 3725\n",
      "Banyak url film 3726\n",
      "Banyak url film 3727\n",
      "Banyak url film 3728\n",
      "Banyak url film 3729\n",
      "Banyak url film 3730\n"
     ]
    },
    {
     "name": "stderr",
     "output_type": "stream",
     "text": [
      "2020-12-04 12:55:44 [scrapy.core.engine] DEBUG: Crawled (200) <GET https://carifilms.com/films/page/368?order=DESC&is_meta_key=0&orderby=title#038;is_meta_key=0&orderby=title> (referer: None)\n"
     ]
    },
    {
     "name": "stdout",
     "output_type": "stream",
     "text": [
      "Banyak url film 3731\n",
      "Banyak url film 3732\n",
      "Banyak url film 3733\n",
      "Banyak url film 3734\n",
      "Banyak url film 3735\n",
      "Banyak url film 3736\n",
      "Banyak url film 3737\n",
      "Banyak url film 3738\n",
      "Banyak url film 3739\n",
      "Banyak url film 3740\n"
     ]
    },
    {
     "name": "stderr",
     "output_type": "stream",
     "text": [
      "2020-12-04 12:55:47 [scrapy.core.engine] DEBUG: Crawled (200) <GET https://carifilms.com/films/page/377?order=DESC&is_meta_key=0&orderby=title#038;is_meta_key=0&orderby=title> (referer: None)\n"
     ]
    },
    {
     "name": "stdout",
     "output_type": "stream",
     "text": [
      "Banyak url film 3741\n",
      "Banyak url film 3742\n",
      "Banyak url film 3743\n",
      "Banyak url film 3744\n",
      "Banyak url film 3745\n",
      "Banyak url film 3746\n",
      "Banyak url film 3747\n",
      "Banyak url film 3748\n",
      "Banyak url film 3749\n",
      "Banyak url film 3750\n"
     ]
    },
    {
     "name": "stderr",
     "output_type": "stream",
     "text": [
      "2020-12-04 12:55:50 [scrapy.core.engine] DEBUG: Crawled (200) <GET https://carifilms.com/films/page/376?order=DESC&is_meta_key=0&orderby=title#038;is_meta_key=0&orderby=title> (referer: None)\n"
     ]
    },
    {
     "name": "stdout",
     "output_type": "stream",
     "text": [
      "Banyak url film 3751\n",
      "Banyak url film 3752\n",
      "Banyak url film 3753\n",
      "Banyak url film 3754\n",
      "Banyak url film 3755\n",
      "Banyak url film 3756\n",
      "Banyak url film 3757\n",
      "Banyak url film 3758\n",
      "Banyak url film 3759\n",
      "Banyak url film 3760\n"
     ]
    },
    {
     "name": "stderr",
     "output_type": "stream",
     "text": [
      "2020-12-04 12:55:54 [scrapy.core.engine] DEBUG: Crawled (200) <GET https://carifilms.com/films/page/375?order=DESC&is_meta_key=0&orderby=title#038;is_meta_key=0&orderby=title> (referer: None)\n"
     ]
    },
    {
     "name": "stdout",
     "output_type": "stream",
     "text": [
      "Banyak url film 3761\n",
      "Banyak url film 3762\n",
      "Banyak url film 3763\n",
      "Banyak url film 3764\n",
      "Banyak url film 3765\n",
      "Banyak url film 3766\n",
      "Banyak url film 3767\n",
      "Banyak url film 3768\n",
      "Banyak url film 3769\n",
      "Banyak url film 3770\n"
     ]
    },
    {
     "name": "stderr",
     "output_type": "stream",
     "text": [
      "2020-12-04 12:55:57 [scrapy.core.engine] DEBUG: Crawled (200) <GET https://carifilms.com/films/page/379?order=DESC&is_meta_key=0&orderby=title#038;is_meta_key=0&orderby=title> (referer: None)\n"
     ]
    },
    {
     "name": "stdout",
     "output_type": "stream",
     "text": [
      "Banyak url film 3771\n",
      "Banyak url film 3772\n",
      "Banyak url film 3773\n",
      "Banyak url film 3774\n",
      "Banyak url film 3775\n",
      "Banyak url film 3776\n",
      "Banyak url film 3777\n",
      "Banyak url film 3778\n",
      "Banyak url film 3779\n",
      "Banyak url film 3780\n"
     ]
    },
    {
     "name": "stderr",
     "output_type": "stream",
     "text": [
      "2020-12-04 12:56:00 [scrapy.core.engine] DEBUG: Crawled (200) <GET https://carifilms.com/films/page/380?order=DESC&is_meta_key=0&orderby=title#038;is_meta_key=0&orderby=title> (referer: None)\n"
     ]
    },
    {
     "name": "stdout",
     "output_type": "stream",
     "text": [
      "Banyak url film 3781\n",
      "Banyak url film 3782\n",
      "Banyak url film 3783\n",
      "Banyak url film 3784\n",
      "Banyak url film 3785\n",
      "Banyak url film 3786\n",
      "Banyak url film 3787\n",
      "Banyak url film 3788\n",
      "Banyak url film 3789\n",
      "Banyak url film 3790\n"
     ]
    },
    {
     "name": "stderr",
     "output_type": "stream",
     "text": [
      "2020-12-04 12:56:04 [scrapy.core.engine] DEBUG: Crawled (200) <GET https://carifilms.com/films/page/383?order=DESC&is_meta_key=0&orderby=title#038;is_meta_key=0&orderby=title> (referer: None)\n"
     ]
    },
    {
     "name": "stdout",
     "output_type": "stream",
     "text": [
      "Banyak url film 3791\n",
      "Banyak url film 3792\n",
      "Banyak url film 3793\n",
      "Banyak url film 3794\n",
      "Banyak url film 3795\n",
      "Banyak url film 3796\n",
      "Banyak url film 3797\n",
      "Banyak url film 3798\n",
      "Banyak url film 3799\n",
      "Banyak url film 3800\n"
     ]
    },
    {
     "name": "stderr",
     "output_type": "stream",
     "text": [
      "2020-12-04 12:56:08 [scrapy.core.engine] DEBUG: Crawled (200) <GET https://carifilms.com/films/page/381?order=DESC&is_meta_key=0&orderby=title#038;is_meta_key=0&orderby=title> (referer: None)\n"
     ]
    },
    {
     "name": "stdout",
     "output_type": "stream",
     "text": [
      "Banyak url film 3801\n",
      "Banyak url film 3802\n",
      "Banyak url film 3803\n",
      "Banyak url film 3804\n",
      "Banyak url film 3805\n",
      "Banyak url film 3806\n",
      "Banyak url film 3807\n",
      "Banyak url film 3808\n",
      "Banyak url film 3809\n",
      "Banyak url film 3810\n"
     ]
    },
    {
     "name": "stderr",
     "output_type": "stream",
     "text": [
      "2020-12-04 12:56:11 [scrapy.core.engine] DEBUG: Crawled (200) <GET https://carifilms.com/films/page/385?order=DESC&is_meta_key=0&orderby=title#038;is_meta_key=0&orderby=title> (referer: None)\n"
     ]
    },
    {
     "name": "stdout",
     "output_type": "stream",
     "text": [
      "Banyak url film 3811\n",
      "Banyak url film 3812\n",
      "Banyak url film 3813\n",
      "Banyak url film 3814\n",
      "Banyak url film 3815\n",
      "Banyak url film 3816\n",
      "Banyak url film 3817\n",
      "Banyak url film 3818\n",
      "Banyak url film 3819\n",
      "Banyak url film 3820\n"
     ]
    },
    {
     "name": "stderr",
     "output_type": "stream",
     "text": [
      "2020-12-04 12:56:14 [scrapy.core.engine] DEBUG: Crawled (200) <GET https://carifilms.com/films/page/386?order=DESC&is_meta_key=0&orderby=title#038;is_meta_key=0&orderby=title> (referer: None)\n"
     ]
    },
    {
     "name": "stdout",
     "output_type": "stream",
     "text": [
      "Banyak url film 3821\n",
      "Banyak url film 3822\n",
      "Banyak url film 3823\n",
      "Banyak url film 3824\n",
      "Banyak url film 3825\n",
      "Banyak url film 3826\n",
      "Banyak url film 3827\n",
      "Banyak url film 3828\n",
      "Banyak url film 3829\n",
      "Banyak url film 3830\n"
     ]
    },
    {
     "name": "stderr",
     "output_type": "stream",
     "text": [
      "2020-12-04 12:56:17 [scrapy.core.engine] DEBUG: Crawled (200) <GET https://carifilms.com/films/page/382?order=DESC&is_meta_key=0&orderby=title#038;is_meta_key=0&orderby=title> (referer: None)\n"
     ]
    },
    {
     "name": "stdout",
     "output_type": "stream",
     "text": [
      "Banyak url film 3831\n",
      "Banyak url film 3832\n",
      "Banyak url film 3833\n",
      "Banyak url film 3834\n",
      "Banyak url film 3835\n",
      "Banyak url film 3836\n",
      "Banyak url film 3837\n",
      "Banyak url film 3838\n",
      "Banyak url film 3839\n",
      "Banyak url film 3840\n"
     ]
    },
    {
     "name": "stderr",
     "output_type": "stream",
     "text": [
      "2020-12-04 12:56:21 [scrapy.core.engine] DEBUG: Crawled (200) <GET https://carifilms.com/films/page/384?order=DESC&is_meta_key=0&orderby=title#038;is_meta_key=0&orderby=title> (referer: None)\n"
     ]
    },
    {
     "name": "stdout",
     "output_type": "stream",
     "text": [
      "Banyak url film 3841\n",
      "Banyak url film 3842\n",
      "Banyak url film 3843\n",
      "Banyak url film 3844\n",
      "Banyak url film 3845\n",
      "Banyak url film 3846\n",
      "Banyak url film 3847\n",
      "Banyak url film 3848\n",
      "Banyak url film 3849\n",
      "Banyak url film 3850\n"
     ]
    },
    {
     "name": "stderr",
     "output_type": "stream",
     "text": [
      "2020-12-04 12:56:24 [scrapy.core.engine] DEBUG: Crawled (200) <GET https://carifilms.com/films/page/387?order=DESC&is_meta_key=0&orderby=title#038;is_meta_key=0&orderby=title> (referer: None)\n"
     ]
    },
    {
     "name": "stdout",
     "output_type": "stream",
     "text": [
      "Banyak url film 3851\n",
      "Banyak url film 3852\n",
      "Banyak url film 3853\n",
      "Banyak url film 3854\n",
      "Banyak url film 3855\n",
      "Banyak url film 3856\n",
      "Banyak url film 3857\n",
      "Banyak url film 3858\n",
      "Banyak url film 3859\n",
      "Banyak url film 3860\n"
     ]
    },
    {
     "name": "stderr",
     "output_type": "stream",
     "text": [
      "2020-12-04 12:56:27 [scrapy.core.engine] DEBUG: Crawled (200) <GET https://carifilms.com/films/page/389?order=DESC&is_meta_key=0&orderby=title#038;is_meta_key=0&orderby=title> (referer: None)\n"
     ]
    },
    {
     "name": "stdout",
     "output_type": "stream",
     "text": [
      "Banyak url film 3861\n",
      "Banyak url film 3862\n",
      "Banyak url film 3863\n",
      "Banyak url film 3864\n",
      "Banyak url film 3865\n",
      "Banyak url film 3866\n",
      "Banyak url film 3867\n",
      "Banyak url film 3868\n",
      "Banyak url film 3869\n",
      "Banyak url film 3870\n"
     ]
    },
    {
     "name": "stderr",
     "output_type": "stream",
     "text": [
      "2020-12-04 12:56:31 [scrapy.core.engine] DEBUG: Crawled (200) <GET https://carifilms.com/films/page/388?order=DESC&is_meta_key=0&orderby=title#038;is_meta_key=0&orderby=title> (referer: None)\n"
     ]
    },
    {
     "name": "stdout",
     "output_type": "stream",
     "text": [
      "Banyak url film 3871\n",
      "Banyak url film 3872\n",
      "Banyak url film 3873\n",
      "Banyak url film 3874\n",
      "Banyak url film 3875\n",
      "Banyak url film 3876\n",
      "Banyak url film 3877\n",
      "Banyak url film 3878\n",
      "Banyak url film 3879\n",
      "Banyak url film 3880\n"
     ]
    },
    {
     "name": "stderr",
     "output_type": "stream",
     "text": [
      "2020-12-04 12:56:34 [scrapy.core.engine] DEBUG: Crawled (200) <GET https://carifilms.com/films/page/392?order=DESC&is_meta_key=0&orderby=title#038;is_meta_key=0&orderby=title> (referer: None)\n"
     ]
    },
    {
     "name": "stdout",
     "output_type": "stream",
     "text": [
      "Banyak url film 3881\n",
      "Banyak url film 3882\n",
      "Banyak url film 3883\n",
      "Banyak url film 3884\n",
      "Banyak url film 3885\n",
      "Banyak url film 3886\n",
      "Banyak url film 3887\n",
      "Banyak url film 3888\n",
      "Banyak url film 3889\n",
      "Banyak url film 3890\n"
     ]
    },
    {
     "name": "stderr",
     "output_type": "stream",
     "text": [
      "2020-12-04 12:56:37 [scrapy.core.engine] DEBUG: Crawled (200) <GET https://carifilms.com/films/page/373?order=DESC&is_meta_key=0&orderby=title#038;is_meta_key=0&orderby=title> (referer: None)\n"
     ]
    },
    {
     "name": "stdout",
     "output_type": "stream",
     "text": [
      "Banyak url film 3891\n",
      "Banyak url film 3892\n",
      "Banyak url film 3893\n",
      "Banyak url film 3894\n",
      "Banyak url film 3895\n",
      "Banyak url film 3896\n",
      "Banyak url film 3897\n",
      "Banyak url film 3898\n",
      "Banyak url film 3899\n",
      "Banyak url film 3900\n"
     ]
    },
    {
     "name": "stderr",
     "output_type": "stream",
     "text": [
      "2020-12-04 12:56:39 [scrapy.extensions.logstats] INFO: Crawled 390 pages (at 18 pages/min), scraped 0 items (at 0 items/min)\n",
      "2020-12-04 12:56:41 [scrapy.core.engine] DEBUG: Crawled (200) <GET https://carifilms.com/films/page/393?order=DESC&is_meta_key=0&orderby=title#038;is_meta_key=0&orderby=title> (referer: None)\n"
     ]
    },
    {
     "name": "stdout",
     "output_type": "stream",
     "text": [
      "Banyak url film 3901\n",
      "Banyak url film 3902\n",
      "Banyak url film 3903\n",
      "Banyak url film 3904\n",
      "Banyak url film 3905\n",
      "Banyak url film 3906\n",
      "Banyak url film 3907\n",
      "Banyak url film 3908\n",
      "Banyak url film 3909\n",
      "Banyak url film 3910\n"
     ]
    },
    {
     "name": "stderr",
     "output_type": "stream",
     "text": [
      "2020-12-04 12:56:44 [scrapy.core.engine] DEBUG: Crawled (200) <GET https://carifilms.com/films/page/394?order=DESC&is_meta_key=0&orderby=title#038;is_meta_key=0&orderby=title> (referer: None)\n"
     ]
    },
    {
     "name": "stdout",
     "output_type": "stream",
     "text": [
      "Banyak url film 3911\n",
      "Banyak url film 3912\n",
      "Banyak url film 3913\n",
      "Banyak url film 3914\n",
      "Banyak url film 3915\n",
      "Banyak url film 3916\n",
      "Banyak url film 3917\n",
      "Banyak url film 3918\n",
      "Banyak url film 3919\n",
      "Banyak url film 3920\n"
     ]
    },
    {
     "name": "stderr",
     "output_type": "stream",
     "text": [
      "2020-12-04 12:56:47 [scrapy.core.engine] DEBUG: Crawled (200) <GET https://carifilms.com/films/page/396?order=DESC&is_meta_key=0&orderby=title#038;is_meta_key=0&orderby=title> (referer: None)\n"
     ]
    },
    {
     "name": "stdout",
     "output_type": "stream",
     "text": [
      "Banyak url film 3921\n",
      "Banyak url film 3922\n",
      "Banyak url film 3923\n",
      "Banyak url film 3924\n",
      "Banyak url film 3925\n",
      "Banyak url film 3926\n",
      "Banyak url film 3927\n",
      "Banyak url film 3928\n",
      "Banyak url film 3929\n",
      "Banyak url film 3930\n"
     ]
    },
    {
     "name": "stderr",
     "output_type": "stream",
     "text": [
      "2020-12-04 12:56:50 [scrapy.core.engine] DEBUG: Crawled (200) <GET https://carifilms.com/films/page/397?order=DESC&is_meta_key=0&orderby=title#038;is_meta_key=0&orderby=title> (referer: None)\n"
     ]
    },
    {
     "name": "stdout",
     "output_type": "stream",
     "text": [
      "Banyak url film 3931\n",
      "Banyak url film 3932\n",
      "Banyak url film 3933\n",
      "Banyak url film 3934\n",
      "Banyak url film 3935\n",
      "Banyak url film 3936\n",
      "Banyak url film 3937\n",
      "Banyak url film 3938\n",
      "Banyak url film 3939\n",
      "Banyak url film 3940\n"
     ]
    },
    {
     "name": "stderr",
     "output_type": "stream",
     "text": [
      "2020-12-04 12:56:54 [scrapy.core.engine] DEBUG: Crawled (200) <GET https://carifilms.com/films/page/391?order=DESC&is_meta_key=0&orderby=title#038;is_meta_key=0&orderby=title> (referer: None)\n"
     ]
    },
    {
     "name": "stdout",
     "output_type": "stream",
     "text": [
      "Banyak url film 3941\n",
      "Banyak url film 3942\n",
      "Banyak url film 3943\n",
      "Banyak url film 3944\n",
      "Banyak url film 3945\n",
      "Banyak url film 3946\n",
      "Banyak url film 3947\n",
      "Banyak url film 3948\n",
      "Banyak url film 3949\n",
      "Banyak url film 3950\n"
     ]
    },
    {
     "name": "stderr",
     "output_type": "stream",
     "text": [
      "2020-12-04 12:56:57 [scrapy.core.engine] DEBUG: Crawled (200) <GET https://carifilms.com/films/page/395?order=DESC&is_meta_key=0&orderby=title#038;is_meta_key=0&orderby=title> (referer: None)\n"
     ]
    },
    {
     "name": "stdout",
     "output_type": "stream",
     "text": [
      "Banyak url film 3951\n",
      "Banyak url film 3952\n",
      "Banyak url film 3953\n",
      "Banyak url film 3954\n",
      "Banyak url film 3955\n",
      "Banyak url film 3956\n",
      "Banyak url film 3957\n",
      "Banyak url film 3958\n",
      "Banyak url film 3959\n",
      "Banyak url film 3960\n"
     ]
    },
    {
     "name": "stderr",
     "output_type": "stream",
     "text": [
      "2020-12-04 12:57:00 [scrapy.core.engine] DEBUG: Crawled (200) <GET https://carifilms.com/films/page/399?order=DESC&is_meta_key=0&orderby=title#038;is_meta_key=0&orderby=title> (referer: None)\n"
     ]
    },
    {
     "name": "stdout",
     "output_type": "stream",
     "text": [
      "Banyak url film 3961\n",
      "Banyak url film 3962\n",
      "Banyak url film 3963\n",
      "Banyak url film 3964\n",
      "Banyak url film 3965\n",
      "Banyak url film 3966\n",
      "Banyak url film 3967\n",
      "Banyak url film 3968\n",
      "Banyak url film 3969\n",
      "Banyak url film 3970\n"
     ]
    },
    {
     "name": "stderr",
     "output_type": "stream",
     "text": [
      "2020-12-04 12:57:03 [scrapy.core.engine] DEBUG: Crawled (200) <GET https://carifilms.com/films/page/402?order=DESC&is_meta_key=0&orderby=title#038;is_meta_key=0&orderby=title> (referer: None)\n"
     ]
    },
    {
     "name": "stdout",
     "output_type": "stream",
     "text": [
      "Banyak url film 3971\n",
      "Banyak url film 3972\n",
      "Banyak url film 3973\n",
      "Banyak url film 3974\n",
      "Banyak url film 3975\n",
      "Banyak url film 3976\n",
      "Banyak url film 3977\n",
      "Banyak url film 3978\n",
      "Banyak url film 3979\n",
      "Banyak url film 3980\n"
     ]
    },
    {
     "name": "stderr",
     "output_type": "stream",
     "text": [
      "2020-12-04 12:57:07 [scrapy.core.engine] DEBUG: Crawled (200) <GET https://carifilms.com/films/page/401?order=DESC&is_meta_key=0&orderby=title#038;is_meta_key=0&orderby=title> (referer: None)\n"
     ]
    },
    {
     "name": "stdout",
     "output_type": "stream",
     "text": [
      "Banyak url film 3981\n",
      "Banyak url film 3982\n",
      "Banyak url film 3983\n",
      "Banyak url film 3984\n",
      "Banyak url film 3985\n",
      "Banyak url film 3986\n",
      "Banyak url film 3987\n",
      "Banyak url film 3988\n",
      "Banyak url film 3989\n",
      "Banyak url film 3990\n"
     ]
    },
    {
     "name": "stderr",
     "output_type": "stream",
     "text": [
      "2020-12-04 12:57:10 [scrapy.core.engine] DEBUG: Crawled (200) <GET https://carifilms.com/films/page/398?order=DESC&is_meta_key=0&orderby=title#038;is_meta_key=0&orderby=title> (referer: None)\n"
     ]
    },
    {
     "name": "stdout",
     "output_type": "stream",
     "text": [
      "Banyak url film 3991\n",
      "Banyak url film 3992\n",
      "Banyak url film 3993\n",
      "Banyak url film 3994\n",
      "Banyak url film 3995\n",
      "Banyak url film 3996\n",
      "Banyak url film 3997\n",
      "Banyak url film 3998\n",
      "Banyak url film 3999\n",
      "Banyak url film 4000\n"
     ]
    },
    {
     "name": "stderr",
     "output_type": "stream",
     "text": [
      "2020-12-04 12:57:13 [scrapy.core.engine] DEBUG: Crawled (200) <GET https://carifilms.com/films/page/400?order=DESC&is_meta_key=0&orderby=title#038;is_meta_key=0&orderby=title> (referer: None)\n"
     ]
    },
    {
     "name": "stdout",
     "output_type": "stream",
     "text": [
      "Banyak url film 4001\n",
      "Banyak url film 4002\n",
      "Banyak url film 4003\n",
      "Banyak url film 4004\n",
      "Banyak url film 4005\n",
      "Banyak url film 4006\n",
      "Banyak url film 4007\n",
      "Banyak url film 4008\n",
      "Banyak url film 4009\n",
      "Banyak url film 4010\n"
     ]
    },
    {
     "name": "stderr",
     "output_type": "stream",
     "text": [
      "2020-12-04 12:57:17 [scrapy.core.engine] DEBUG: Crawled (200) <GET https://carifilms.com/films/page/405?order=DESC&is_meta_key=0&orderby=title#038;is_meta_key=0&orderby=title> (referer: None)\n"
     ]
    },
    {
     "name": "stdout",
     "output_type": "stream",
     "text": [
      "Banyak url film 4011\n",
      "Banyak url film 4012\n",
      "Banyak url film 4013\n",
      "Banyak url film 4014\n",
      "Banyak url film 4015\n",
      "Banyak url film 4016\n",
      "Banyak url film 4017\n",
      "Banyak url film 4018\n",
      "Banyak url film 4019\n",
      "Banyak url film 4020\n"
     ]
    },
    {
     "name": "stderr",
     "output_type": "stream",
     "text": [
      "2020-12-04 12:57:20 [scrapy.core.engine] DEBUG: Crawled (200) <GET https://carifilms.com/films/page/404?order=DESC&is_meta_key=0&orderby=title#038;is_meta_key=0&orderby=title> (referer: None)\n"
     ]
    },
    {
     "name": "stdout",
     "output_type": "stream",
     "text": [
      "Banyak url film 4021\n",
      "Banyak url film 4022\n",
      "Banyak url film 4023\n",
      "Banyak url film 4024\n",
      "Banyak url film 4025\n",
      "Banyak url film 4026\n",
      "Banyak url film 4027\n",
      "Banyak url film 4028\n",
      "Banyak url film 4029\n",
      "Banyak url film 4030\n"
     ]
    },
    {
     "name": "stderr",
     "output_type": "stream",
     "text": [
      "2020-12-04 12:57:24 [scrapy.core.engine] DEBUG: Crawled (200) <GET https://carifilms.com/films/page/406?order=DESC&is_meta_key=0&orderby=title#038;is_meta_key=0&orderby=title> (referer: None)\n"
     ]
    },
    {
     "name": "stdout",
     "output_type": "stream",
     "text": [
      "Banyak url film 4031\n",
      "Banyak url film 4032\n",
      "Banyak url film 4033\n",
      "Banyak url film 4034\n",
      "Banyak url film 4035\n",
      "Banyak url film 4036\n",
      "Banyak url film 4037\n",
      "Banyak url film 4038\n",
      "Banyak url film 4039\n",
      "Banyak url film 4040\n"
     ]
    },
    {
     "name": "stderr",
     "output_type": "stream",
     "text": [
      "2020-12-04 12:57:27 [scrapy.core.engine] DEBUG: Crawled (200) <GET https://carifilms.com/films/page/390?order=DESC&is_meta_key=0&orderby=title#038;is_meta_key=0&orderby=title> (referer: None)\n"
     ]
    },
    {
     "name": "stdout",
     "output_type": "stream",
     "text": [
      "Banyak url film 4041\n",
      "Banyak url film 4042\n",
      "Banyak url film 4043\n",
      "Banyak url film 4044\n",
      "Banyak url film 4045\n",
      "Banyak url film 4046\n",
      "Banyak url film 4047\n",
      "Banyak url film 4048\n",
      "Banyak url film 4049\n",
      "Banyak url film 4050\n"
     ]
    },
    {
     "name": "stderr",
     "output_type": "stream",
     "text": [
      "2020-12-04 12:57:31 [scrapy.core.engine] DEBUG: Crawled (200) <GET https://carifilms.com/films/page/408?order=DESC&is_meta_key=0&orderby=title#038;is_meta_key=0&orderby=title> (referer: None)\n"
     ]
    },
    {
     "name": "stdout",
     "output_type": "stream",
     "text": [
      "Banyak url film 4051\n",
      "Banyak url film 4052\n",
      "Banyak url film 4053\n",
      "Banyak url film 4054\n",
      "Banyak url film 4055\n",
      "Banyak url film 4056\n",
      "Banyak url film 4057\n",
      "Banyak url film 4058\n",
      "Banyak url film 4059\n",
      "Banyak url film 4060\n"
     ]
    },
    {
     "name": "stderr",
     "output_type": "stream",
     "text": [
      "2020-12-04 12:57:34 [scrapy.core.engine] DEBUG: Crawled (200) <GET https://carifilms.com/films/page/411?order=DESC&is_meta_key=0&orderby=title#038;is_meta_key=0&orderby=title> (referer: None)\n"
     ]
    },
    {
     "name": "stdout",
     "output_type": "stream",
     "text": [
      "Banyak url film 4061\n",
      "Banyak url film 4062\n",
      "Banyak url film 4063\n",
      "Banyak url film 4064\n",
      "Banyak url film 4065\n",
      "Banyak url film 4066\n",
      "Banyak url film 4067\n",
      "Banyak url film 4068\n",
      "Banyak url film 4069\n",
      "Banyak url film 4070\n"
     ]
    },
    {
     "name": "stderr",
     "output_type": "stream",
     "text": [
      "2020-12-04 12:57:37 [scrapy.core.engine] DEBUG: Crawled (200) <GET https://carifilms.com/films/page/403?order=DESC&is_meta_key=0&orderby=title#038;is_meta_key=0&orderby=title> (referer: None)\n"
     ]
    },
    {
     "name": "stdout",
     "output_type": "stream",
     "text": [
      "Banyak url film 4071\n",
      "Banyak url film 4072\n",
      "Banyak url film 4073\n",
      "Banyak url film 4074\n",
      "Banyak url film 4075\n",
      "Banyak url film 4076\n",
      "Banyak url film 4077\n",
      "Banyak url film 4078\n",
      "Banyak url film 4079\n",
      "Banyak url film 4080\n"
     ]
    },
    {
     "name": "stderr",
     "output_type": "stream",
     "text": [
      "2020-12-04 12:57:39 [scrapy.extensions.logstats] INFO: Crawled 408 pages (at 18 pages/min), scraped 0 items (at 0 items/min)\n",
      "2020-12-04 12:57:41 [scrapy.core.engine] DEBUG: Crawled (200) <GET https://carifilms.com/films/page/413?order=DESC&is_meta_key=0&orderby=title#038;is_meta_key=0&orderby=title> (referer: None)\n"
     ]
    },
    {
     "name": "stdout",
     "output_type": "stream",
     "text": [
      "Banyak url film 4081\n",
      "Banyak url film 4082\n",
      "Banyak url film 4083\n",
      "Banyak url film 4084\n",
      "Banyak url film 4085\n",
      "Banyak url film 4086\n",
      "Banyak url film 4087\n",
      "Banyak url film 4088\n",
      "Banyak url film 4089\n",
      "Banyak url film 4090\n"
     ]
    },
    {
     "name": "stderr",
     "output_type": "stream",
     "text": [
      "2020-12-04 12:57:45 [scrapy.core.engine] DEBUG: Crawled (200) <GET https://carifilms.com/films/page/410?order=DESC&is_meta_key=0&orderby=title#038;is_meta_key=0&orderby=title> (referer: None)\n"
     ]
    },
    {
     "name": "stdout",
     "output_type": "stream",
     "text": [
      "Banyak url film 4091\n",
      "Banyak url film 4092\n",
      "Banyak url film 4093\n",
      "Banyak url film 4094\n",
      "Banyak url film 4095\n",
      "Banyak url film 4096\n",
      "Banyak url film 4097\n",
      "Banyak url film 4098\n",
      "Banyak url film 4099\n",
      "Banyak url film 4100\n"
     ]
    },
    {
     "name": "stderr",
     "output_type": "stream",
     "text": [
      "2020-12-04 12:57:48 [scrapy.core.engine] DEBUG: Crawled (200) <GET https://carifilms.com/films/page/416?order=DESC&is_meta_key=0&orderby=title#038;is_meta_key=0&orderby=title> (referer: None)\n"
     ]
    },
    {
     "name": "stdout",
     "output_type": "stream",
     "text": [
      "Banyak url film 4101\n",
      "Banyak url film 4102\n",
      "Banyak url film 4103\n",
      "Banyak url film 4104\n",
      "Banyak url film 4105\n",
      "Banyak url film 4106\n",
      "Banyak url film 4107\n",
      "Banyak url film 4108\n",
      "Banyak url film 4109\n",
      "Banyak url film 4110\n"
     ]
    },
    {
     "name": "stderr",
     "output_type": "stream",
     "text": [
      "2020-12-04 12:57:52 [scrapy.core.engine] DEBUG: Crawled (200) <GET https://carifilms.com/films/page/415?order=DESC&is_meta_key=0&orderby=title#038;is_meta_key=0&orderby=title> (referer: None)\n"
     ]
    },
    {
     "name": "stdout",
     "output_type": "stream",
     "text": [
      "Banyak url film 4111\n",
      "Banyak url film 4112\n",
      "Banyak url film 4113\n",
      "Banyak url film 4114\n",
      "Banyak url film 4115\n",
      "Banyak url film 4116\n",
      "Banyak url film 4117\n",
      "Banyak url film 4118\n",
      "Banyak url film 4119\n",
      "Banyak url film 4120\n"
     ]
    },
    {
     "name": "stderr",
     "output_type": "stream",
     "text": [
      "2020-12-04 12:57:55 [scrapy.core.engine] DEBUG: Crawled (200) <GET https://carifilms.com/films/page/409?order=DESC&is_meta_key=0&orderby=title#038;is_meta_key=0&orderby=title> (referer: None)\n"
     ]
    },
    {
     "name": "stdout",
     "output_type": "stream",
     "text": [
      "Banyak url film 4121\n",
      "Banyak url film 4122\n",
      "Banyak url film 4123\n",
      "Banyak url film 4124\n",
      "Banyak url film 4125\n",
      "Banyak url film 4126\n",
      "Banyak url film 4127\n",
      "Banyak url film 4128\n",
      "Banyak url film 4129\n",
      "Banyak url film 4130\n"
     ]
    },
    {
     "name": "stderr",
     "output_type": "stream",
     "text": [
      "2020-12-04 12:57:59 [scrapy.core.engine] DEBUG: Crawled (200) <GET https://carifilms.com/films/page/417?order=DESC&is_meta_key=0&orderby=title#038;is_meta_key=0&orderby=title> (referer: None)\n"
     ]
    },
    {
     "name": "stdout",
     "output_type": "stream",
     "text": [
      "Banyak url film 4131\n",
      "Banyak url film 4132\n",
      "Banyak url film 4133\n",
      "Banyak url film 4134\n",
      "Banyak url film 4135\n",
      "Banyak url film 4136\n",
      "Banyak url film 4137\n",
      "Banyak url film 4138\n",
      "Banyak url film 4139\n",
      "Banyak url film 4140\n"
     ]
    },
    {
     "name": "stderr",
     "output_type": "stream",
     "text": [
      "2020-12-04 12:58:02 [scrapy.core.engine] DEBUG: Crawled (200) <GET https://carifilms.com/films/page/418?order=DESC&is_meta_key=0&orderby=title#038;is_meta_key=0&orderby=title> (referer: None)\n"
     ]
    },
    {
     "name": "stdout",
     "output_type": "stream",
     "text": [
      "Banyak url film 4141\n",
      "Banyak url film 4142\n",
      "Banyak url film 4143\n",
      "Banyak url film 4144\n",
      "Banyak url film 4145\n",
      "Banyak url film 4146\n",
      "Banyak url film 4147\n",
      "Banyak url film 4148\n",
      "Banyak url film 4149\n",
      "Banyak url film 4150\n"
     ]
    },
    {
     "name": "stderr",
     "output_type": "stream",
     "text": [
      "2020-12-04 12:58:06 [scrapy.core.engine] DEBUG: Crawled (200) <GET https://carifilms.com/films/page/407?order=DESC&is_meta_key=0&orderby=title#038;is_meta_key=0&orderby=title> (referer: None)\n"
     ]
    },
    {
     "name": "stdout",
     "output_type": "stream",
     "text": [
      "Banyak url film 4151\n",
      "Banyak url film 4152\n",
      "Banyak url film 4153\n",
      "Banyak url film 4154\n",
      "Banyak url film 4155\n",
      "Banyak url film 4156\n",
      "Banyak url film 4157\n",
      "Banyak url film 4158\n",
      "Banyak url film 4159\n",
      "Banyak url film 4160\n"
     ]
    },
    {
     "name": "stderr",
     "output_type": "stream",
     "text": [
      "2020-12-04 12:58:09 [scrapy.core.engine] DEBUG: Crawled (200) <GET https://carifilms.com/films/page/414?order=DESC&is_meta_key=0&orderby=title#038;is_meta_key=0&orderby=title> (referer: None)\n"
     ]
    },
    {
     "name": "stdout",
     "output_type": "stream",
     "text": [
      "Banyak url film 4161\n",
      "Banyak url film 4162\n",
      "Banyak url film 4163\n",
      "Banyak url film 4164\n",
      "Banyak url film 4165\n",
      "Banyak url film 4166\n",
      "Banyak url film 4167\n",
      "Banyak url film 4168\n",
      "Banyak url film 4169\n",
      "Banyak url film 4170\n"
     ]
    },
    {
     "name": "stderr",
     "output_type": "stream",
     "text": [
      "2020-12-04 12:58:13 [scrapy.core.engine] DEBUG: Crawled (200) <GET https://carifilms.com/films/page/421?order=DESC&is_meta_key=0&orderby=title#038;is_meta_key=0&orderby=title> (referer: None)\n"
     ]
    },
    {
     "name": "stdout",
     "output_type": "stream",
     "text": [
      "Banyak url film 4171\n",
      "Banyak url film 4172\n",
      "Banyak url film 4173\n",
      "Banyak url film 4174\n",
      "Banyak url film 4175\n",
      "Banyak url film 4176\n",
      "Banyak url film 4177\n",
      "Banyak url film 4178\n",
      "Banyak url film 4179\n",
      "Banyak url film 4180\n"
     ]
    },
    {
     "name": "stderr",
     "output_type": "stream",
     "text": [
      "2020-12-04 12:58:17 [scrapy.core.engine] DEBUG: Crawled (200) <GET https://carifilms.com/films/page/423?order=DESC&is_meta_key=0&orderby=title#038;is_meta_key=0&orderby=title> (referer: None)\n"
     ]
    },
    {
     "name": "stdout",
     "output_type": "stream",
     "text": [
      "Banyak url film 4181\n",
      "Banyak url film 4182\n",
      "Banyak url film 4183\n",
      "Banyak url film 4184\n",
      "Banyak url film 4185\n",
      "Banyak url film 4186\n",
      "Banyak url film 4187\n",
      "Banyak url film 4188\n",
      "Banyak url film 4189\n",
      "Banyak url film 4190\n"
     ]
    },
    {
     "name": "stderr",
     "output_type": "stream",
     "text": [
      "2020-12-04 12:58:20 [scrapy.core.engine] DEBUG: Crawled (200) <GET https://carifilms.com/films/page/412?order=DESC&is_meta_key=0&orderby=title#038;is_meta_key=0&orderby=title> (referer: None)\n"
     ]
    },
    {
     "name": "stdout",
     "output_type": "stream",
     "text": [
      "Banyak url film 4191\n",
      "Banyak url film 4192\n",
      "Banyak url film 4193\n",
      "Banyak url film 4194\n",
      "Banyak url film 4195\n",
      "Banyak url film 4196\n",
      "Banyak url film 4197\n",
      "Banyak url film 4198\n",
      "Banyak url film 4199\n",
      "Banyak url film 4200\n"
     ]
    },
    {
     "name": "stderr",
     "output_type": "stream",
     "text": [
      "2020-12-04 12:58:24 [scrapy.core.engine] DEBUG: Crawled (200) <GET https://carifilms.com/films/page/422?order=DESC&is_meta_key=0&orderby=title#038;is_meta_key=0&orderby=title> (referer: None)\n"
     ]
    },
    {
     "name": "stdout",
     "output_type": "stream",
     "text": [
      "Banyak url film 4201\n",
      "Banyak url film 4202\n",
      "Banyak url film 4203\n",
      "Banyak url film 4204\n",
      "Banyak url film 4205\n",
      "Banyak url film 4206\n",
      "Banyak url film 4207\n",
      "Banyak url film 4208\n",
      "Banyak url film 4209\n",
      "Banyak url film 4210\n"
     ]
    },
    {
     "name": "stderr",
     "output_type": "stream",
     "text": [
      "2020-12-04 12:58:27 [scrapy.core.engine] DEBUG: Crawled (200) <GET https://carifilms.com/films/page/426?order=DESC&is_meta_key=0&orderby=title#038;is_meta_key=0&orderby=title> (referer: None)\n"
     ]
    },
    {
     "name": "stdout",
     "output_type": "stream",
     "text": [
      "Banyak url film 4211\n",
      "Banyak url film 4212\n",
      "Banyak url film 4213\n",
      "Banyak url film 4214\n",
      "Banyak url film 4215\n",
      "Banyak url film 4216\n",
      "Banyak url film 4217\n",
      "Banyak url film 4218\n",
      "Banyak url film 4219\n",
      "Banyak url film 4220\n"
     ]
    },
    {
     "name": "stderr",
     "output_type": "stream",
     "text": [
      "2020-12-04 12:58:30 [scrapy.core.engine] DEBUG: Crawled (200) <GET https://carifilms.com/films/page/420?order=DESC&is_meta_key=0&orderby=title#038;is_meta_key=0&orderby=title> (referer: None)\n"
     ]
    },
    {
     "name": "stdout",
     "output_type": "stream",
     "text": [
      "Banyak url film 4221\n",
      "Banyak url film 4222\n",
      "Banyak url film 4223\n",
      "Banyak url film 4224\n",
      "Banyak url film 4225\n",
      "Banyak url film 4226\n",
      "Banyak url film 4227\n",
      "Banyak url film 4228\n",
      "Banyak url film 4229\n",
      "Banyak url film 4230\n"
     ]
    },
    {
     "name": "stderr",
     "output_type": "stream",
     "text": [
      "2020-12-04 12:58:34 [scrapy.core.engine] DEBUG: Crawled (200) <GET https://carifilms.com/films/page/430?order=DESC&is_meta_key=0&orderby=title#038;is_meta_key=0&orderby=title> (referer: None)\n"
     ]
    },
    {
     "name": "stdout",
     "output_type": "stream",
     "text": [
      "Banyak url film 4231\n",
      "Banyak url film 4232\n",
      "Banyak url film 4233\n",
      "Banyak url film 4234\n",
      "Banyak url film 4235\n",
      "Banyak url film 4236\n",
      "Banyak url film 4237\n",
      "Banyak url film 4238\n",
      "Banyak url film 4239\n",
      "Banyak url film 4240\n"
     ]
    },
    {
     "name": "stderr",
     "output_type": "stream",
     "text": [
      "2020-12-04 12:58:38 [scrapy.core.engine] DEBUG: Crawled (200) <GET https://carifilms.com/films/page/419?order=DESC&is_meta_key=0&orderby=title#038;is_meta_key=0&orderby=title> (referer: None)\n"
     ]
    },
    {
     "name": "stdout",
     "output_type": "stream",
     "text": [
      "Banyak url film 4241\n",
      "Banyak url film 4242\n",
      "Banyak url film 4243\n",
      "Banyak url film 4244\n",
      "Banyak url film 4245\n",
      "Banyak url film 4246\n",
      "Banyak url film 4247\n",
      "Banyak url film 4248\n",
      "Banyak url film 4249\n",
      "Banyak url film 4250\n"
     ]
    },
    {
     "name": "stderr",
     "output_type": "stream",
     "text": [
      "2020-12-04 12:58:39 [scrapy.extensions.logstats] INFO: Crawled 425 pages (at 17 pages/min), scraped 0 items (at 0 items/min)\n",
      "2020-12-04 12:58:41 [scrapy.core.engine] DEBUG: Crawled (200) <GET https://carifilms.com/films/page/431?order=DESC&is_meta_key=0&orderby=title#038;is_meta_key=0&orderby=title> (referer: None)\n"
     ]
    },
    {
     "name": "stdout",
     "output_type": "stream",
     "text": [
      "Banyak url film 4251\n",
      "Banyak url film 4252\n",
      "Banyak url film 4253\n",
      "Banyak url film 4254\n",
      "Banyak url film 4255\n",
      "Banyak url film 4256\n",
      "Banyak url film 4257\n",
      "Banyak url film 4258\n",
      "Banyak url film 4259\n",
      "Banyak url film 4260\n"
     ]
    },
    {
     "name": "stderr",
     "output_type": "stream",
     "text": [
      "2020-12-04 12:58:45 [scrapy.core.engine] DEBUG: Crawled (200) <GET https://carifilms.com/films/page/428?order=DESC&is_meta_key=0&orderby=title#038;is_meta_key=0&orderby=title> (referer: None)\n"
     ]
    },
    {
     "name": "stdout",
     "output_type": "stream",
     "text": [
      "Banyak url film 4261\n",
      "Banyak url film 4262\n",
      "Banyak url film 4263\n",
      "Banyak url film 4264\n",
      "Banyak url film 4265\n",
      "Banyak url film 4266\n",
      "Banyak url film 4267\n",
      "Banyak url film 4268\n",
      "Banyak url film 4269\n",
      "Banyak url film 4270\n"
     ]
    },
    {
     "name": "stderr",
     "output_type": "stream",
     "text": [
      "2020-12-04 12:58:48 [scrapy.core.engine] DEBUG: Crawled (200) <GET https://carifilms.com/films/page/425?order=DESC&is_meta_key=0&orderby=title#038;is_meta_key=0&orderby=title> (referer: None)\n"
     ]
    },
    {
     "name": "stdout",
     "output_type": "stream",
     "text": [
      "Banyak url film 4271\n",
      "Banyak url film 4272\n",
      "Banyak url film 4273\n",
      "Banyak url film 4274\n",
      "Banyak url film 4275\n",
      "Banyak url film 4276\n",
      "Banyak url film 4277\n",
      "Banyak url film 4278\n",
      "Banyak url film 4279\n",
      "Banyak url film 4280\n"
     ]
    },
    {
     "name": "stderr",
     "output_type": "stream",
     "text": [
      "2020-12-04 12:58:52 [scrapy.core.engine] DEBUG: Crawled (200) <GET https://carifilms.com/films/page/427?order=DESC&is_meta_key=0&orderby=title#038;is_meta_key=0&orderby=title> (referer: None)\n"
     ]
    },
    {
     "name": "stdout",
     "output_type": "stream",
     "text": [
      "Banyak url film 4281\n",
      "Banyak url film 4282\n",
      "Banyak url film 4283\n",
      "Banyak url film 4284\n",
      "Banyak url film 4285\n",
      "Banyak url film 4286\n",
      "Banyak url film 4287\n",
      "Banyak url film 4288\n",
      "Banyak url film 4289\n",
      "Banyak url film 4290\n"
     ]
    },
    {
     "name": "stderr",
     "output_type": "stream",
     "text": [
      "2020-12-04 12:58:55 [scrapy.core.engine] DEBUG: Crawled (200) <GET https://carifilms.com/films/page/432?order=DESC&is_meta_key=0&orderby=title#038;is_meta_key=0&orderby=title> (referer: None)\n"
     ]
    },
    {
     "name": "stdout",
     "output_type": "stream",
     "text": [
      "Banyak url film 4291\n",
      "Banyak url film 4292\n",
      "Banyak url film 4293\n",
      "Banyak url film 4294\n",
      "Banyak url film 4295\n",
      "Banyak url film 4296\n",
      "Banyak url film 4297\n",
      "Banyak url film 4298\n",
      "Banyak url film 4299\n",
      "Banyak url film 4300\n"
     ]
    },
    {
     "name": "stderr",
     "output_type": "stream",
     "text": [
      "2020-12-04 12:58:59 [scrapy.core.engine] DEBUG: Crawled (200) <GET https://carifilms.com/films/page/434?order=DESC&is_meta_key=0&orderby=title#038;is_meta_key=0&orderby=title> (referer: None)\n"
     ]
    },
    {
     "name": "stdout",
     "output_type": "stream",
     "text": [
      "Banyak url film 4301\n",
      "Banyak url film 4302\n",
      "Banyak url film 4303\n",
      "Banyak url film 4304\n",
      "Banyak url film 4305\n",
      "Banyak url film 4306\n",
      "Banyak url film 4307\n",
      "Banyak url film 4308\n",
      "Banyak url film 4309\n",
      "Banyak url film 4310\n"
     ]
    },
    {
     "name": "stderr",
     "output_type": "stream",
     "text": [
      "2020-12-04 12:59:02 [scrapy.core.engine] DEBUG: Crawled (200) <GET https://carifilms.com/films/page/437?order=DESC&is_meta_key=0&orderby=title#038;is_meta_key=0&orderby=title> (referer: None)\n"
     ]
    },
    {
     "name": "stdout",
     "output_type": "stream",
     "text": [
      "Banyak url film 4311\n",
      "Banyak url film 4312\n",
      "Banyak url film 4313\n",
      "Banyak url film 4314\n",
      "Banyak url film 4315\n",
      "Banyak url film 4316\n",
      "Banyak url film 4317\n",
      "Banyak url film 4318\n",
      "Banyak url film 4319\n",
      "Banyak url film 4320\n"
     ]
    },
    {
     "name": "stderr",
     "output_type": "stream",
     "text": [
      "2020-12-04 12:59:06 [scrapy.core.engine] DEBUG: Crawled (200) <GET https://carifilms.com/films/page/424?order=DESC&is_meta_key=0&orderby=title#038;is_meta_key=0&orderby=title> (referer: None)\n"
     ]
    },
    {
     "name": "stdout",
     "output_type": "stream",
     "text": [
      "Banyak url film 4321\n",
      "Banyak url film 4322\n",
      "Banyak url film 4323\n",
      "Banyak url film 4324\n",
      "Banyak url film 4325\n",
      "Banyak url film 4326\n",
      "Banyak url film 4327\n",
      "Banyak url film 4328\n",
      "Banyak url film 4329\n",
      "Banyak url film 4330\n"
     ]
    },
    {
     "name": "stderr",
     "output_type": "stream",
     "text": [
      "2020-12-04 12:59:09 [scrapy.core.engine] DEBUG: Crawled (200) <GET https://carifilms.com/films/page/435?order=DESC&is_meta_key=0&orderby=title#038;is_meta_key=0&orderby=title> (referer: None)\n"
     ]
    },
    {
     "name": "stdout",
     "output_type": "stream",
     "text": [
      "Banyak url film 4331\n",
      "Banyak url film 4332\n",
      "Banyak url film 4333\n",
      "Banyak url film 4334\n",
      "Banyak url film 4335\n",
      "Banyak url film 4336\n",
      "Banyak url film 4337\n",
      "Banyak url film 4338\n",
      "Banyak url film 4339\n",
      "Banyak url film 4340\n"
     ]
    },
    {
     "name": "stderr",
     "output_type": "stream",
     "text": [
      "2020-12-04 12:59:13 [scrapy.core.engine] DEBUG: Crawled (200) <GET https://carifilms.com/films/page/439?order=DESC&is_meta_key=0&orderby=title#038;is_meta_key=0&orderby=title> (referer: None)\n"
     ]
    },
    {
     "name": "stdout",
     "output_type": "stream",
     "text": [
      "Banyak url film 4341\n",
      "Banyak url film 4342\n",
      "Banyak url film 4343\n",
      "Banyak url film 4344\n",
      "Banyak url film 4345\n",
      "Banyak url film 4346\n",
      "Banyak url film 4347\n",
      "Banyak url film 4348\n",
      "Banyak url film 4349\n",
      "Banyak url film 4350\n"
     ]
    },
    {
     "name": "stderr",
     "output_type": "stream",
     "text": [
      "2020-12-04 12:59:16 [scrapy.core.engine] DEBUG: Crawled (200) <GET https://carifilms.com/films/page/429?order=DESC&is_meta_key=0&orderby=title#038;is_meta_key=0&orderby=title> (referer: None)\n"
     ]
    },
    {
     "name": "stdout",
     "output_type": "stream",
     "text": [
      "Banyak url film 4351\n",
      "Banyak url film 4352\n",
      "Banyak url film 4353\n",
      "Banyak url film 4354\n",
      "Banyak url film 4355\n",
      "Banyak url film 4356\n",
      "Banyak url film 4357\n",
      "Banyak url film 4358\n",
      "Banyak url film 4359\n",
      "Banyak url film 4360\n"
     ]
    },
    {
     "name": "stderr",
     "output_type": "stream",
     "text": [
      "2020-12-04 12:59:20 [scrapy.core.engine] DEBUG: Crawled (200) <GET https://carifilms.com/films/page/438?order=DESC&is_meta_key=0&orderby=title#038;is_meta_key=0&orderby=title> (referer: None)\n"
     ]
    },
    {
     "name": "stdout",
     "output_type": "stream",
     "text": [
      "Banyak url film 4361\n",
      "Banyak url film 4362\n",
      "Banyak url film 4363\n",
      "Banyak url film 4364\n",
      "Banyak url film 4365\n",
      "Banyak url film 4366\n",
      "Banyak url film 4367\n",
      "Banyak url film 4368\n",
      "Banyak url film 4369\n",
      "Banyak url film 4370\n"
     ]
    },
    {
     "name": "stderr",
     "output_type": "stream",
     "text": [
      "2020-12-04 12:59:23 [scrapy.core.engine] DEBUG: Crawled (200) <GET https://carifilms.com/films/page/442?order=DESC&is_meta_key=0&orderby=title#038;is_meta_key=0&orderby=title> (referer: None)\n"
     ]
    },
    {
     "name": "stdout",
     "output_type": "stream",
     "text": [
      "Banyak url film 4371\n",
      "Banyak url film 4372\n",
      "Banyak url film 4373\n",
      "Banyak url film 4374\n",
      "Banyak url film 4375\n",
      "Banyak url film 4376\n",
      "Banyak url film 4377\n",
      "Banyak url film 4378\n",
      "Banyak url film 4379\n",
      "Banyak url film 4380\n"
     ]
    },
    {
     "name": "stderr",
     "output_type": "stream",
     "text": [
      "2020-12-04 12:59:27 [scrapy.core.engine] DEBUG: Crawled (200) <GET https://carifilms.com/films/page/433?order=DESC&is_meta_key=0&orderby=title#038;is_meta_key=0&orderby=title> (referer: None)\n"
     ]
    },
    {
     "name": "stdout",
     "output_type": "stream",
     "text": [
      "Banyak url film 4381\n",
      "Banyak url film 4382\n",
      "Banyak url film 4383\n",
      "Banyak url film 4384\n",
      "Banyak url film 4385\n",
      "Banyak url film 4386\n",
      "Banyak url film 4387\n",
      "Banyak url film 4388\n",
      "Banyak url film 4389\n",
      "Banyak url film 4390\n"
     ]
    },
    {
     "name": "stderr",
     "output_type": "stream",
     "text": [
      "2020-12-04 12:59:30 [scrapy.core.engine] DEBUG: Crawled (200) <GET https://carifilms.com/films/page/441?order=DESC&is_meta_key=0&orderby=title#038;is_meta_key=0&orderby=title> (referer: None)\n"
     ]
    },
    {
     "name": "stdout",
     "output_type": "stream",
     "text": [
      "Banyak url film 4391\n",
      "Banyak url film 4392\n",
      "Banyak url film 4393\n",
      "Banyak url film 4394\n",
      "Banyak url film 4395\n",
      "Banyak url film 4396\n",
      "Banyak url film 4397\n",
      "Banyak url film 4398\n",
      "Banyak url film 4399\n",
      "Banyak url film 4400\n"
     ]
    },
    {
     "name": "stderr",
     "output_type": "stream",
     "text": [
      "2020-12-04 12:59:34 [scrapy.core.engine] DEBUG: Crawled (200) <GET https://carifilms.com/films/page/440?order=DESC&is_meta_key=0&orderby=title#038;is_meta_key=0&orderby=title> (referer: None)\n"
     ]
    },
    {
     "name": "stdout",
     "output_type": "stream",
     "text": [
      "Banyak url film 4401\n",
      "Banyak url film 4402\n",
      "Banyak url film 4403\n",
      "Banyak url film 4404\n",
      "Banyak url film 4405\n",
      "Banyak url film 4406\n",
      "Banyak url film 4407\n",
      "Banyak url film 4408\n",
      "Banyak url film 4409\n",
      "Banyak url film 4410\n"
     ]
    },
    {
     "name": "stderr",
     "output_type": "stream",
     "text": [
      "2020-12-04 12:59:37 [scrapy.core.engine] DEBUG: Crawled (200) <GET https://carifilms.com/films/page/436?order=DESC&is_meta_key=0&orderby=title#038;is_meta_key=0&orderby=title> (referer: None)\n"
     ]
    },
    {
     "name": "stdout",
     "output_type": "stream",
     "text": [
      "Banyak url film 4411\n",
      "Banyak url film 4412\n",
      "Banyak url film 4413\n",
      "Banyak url film 4414\n",
      "Banyak url film 4415\n",
      "Banyak url film 4416\n",
      "Banyak url film 4417\n",
      "Banyak url film 4418\n",
      "Banyak url film 4419\n",
      "Banyak url film 4420\n"
     ]
    },
    {
     "name": "stderr",
     "output_type": "stream",
     "text": [
      "2020-12-04 12:59:39 [scrapy.extensions.logstats] INFO: Crawled 442 pages (at 17 pages/min), scraped 0 items (at 0 items/min)\n",
      "2020-12-04 12:59:41 [scrapy.core.engine] DEBUG: Crawled (200) <GET https://carifilms.com/films/page/444?order=DESC&is_meta_key=0&orderby=title#038;is_meta_key=0&orderby=title> (referer: None)\n"
     ]
    },
    {
     "name": "stdout",
     "output_type": "stream",
     "text": [
      "Banyak url film 4421\n",
      "Banyak url film 4422\n",
      "Banyak url film 4423\n",
      "Banyak url film 4424\n",
      "Banyak url film 4425\n",
      "Banyak url film 4426\n",
      "Banyak url film 4427\n",
      "Banyak url film 4428\n",
      "Banyak url film 4429\n",
      "Banyak url film 4430\n"
     ]
    },
    {
     "name": "stderr",
     "output_type": "stream",
     "text": [
      "2020-12-04 12:59:44 [scrapy.core.engine] DEBUG: Crawled (200) <GET https://carifilms.com/films/page/446?order=DESC&is_meta_key=0&orderby=title#038;is_meta_key=0&orderby=title> (referer: None)\n"
     ]
    },
    {
     "name": "stdout",
     "output_type": "stream",
     "text": [
      "Banyak url film 4431\n",
      "Banyak url film 4432\n",
      "Banyak url film 4433\n",
      "Banyak url film 4434\n",
      "Banyak url film 4435\n",
      "Banyak url film 4436\n",
      "Banyak url film 4437\n",
      "Banyak url film 4438\n",
      "Banyak url film 4439\n",
      "Banyak url film 4440\n"
     ]
    },
    {
     "name": "stderr",
     "output_type": "stream",
     "text": [
      "2020-12-04 12:59:48 [scrapy.core.engine] DEBUG: Crawled (200) <GET https://carifilms.com/films/page/447?order=DESC&is_meta_key=0&orderby=title#038;is_meta_key=0&orderby=title> (referer: None)\n"
     ]
    },
    {
     "name": "stdout",
     "output_type": "stream",
     "text": [
      "Banyak url film 4441\n",
      "Banyak url film 4442\n",
      "Banyak url film 4443\n",
      "Banyak url film 4444\n",
      "Banyak url film 4445\n",
      "Banyak url film 4446\n",
      "Banyak url film 4447\n",
      "Banyak url film 4448\n",
      "Banyak url film 4449\n",
      "Banyak url film 4450\n"
     ]
    },
    {
     "name": "stderr",
     "output_type": "stream",
     "text": [
      "2020-12-04 12:59:51 [scrapy.core.engine] DEBUG: Crawled (200) <GET https://carifilms.com/films/page/451?order=DESC&is_meta_key=0&orderby=title#038;is_meta_key=0&orderby=title> (referer: None)\n"
     ]
    },
    {
     "name": "stdout",
     "output_type": "stream",
     "text": [
      "Banyak url film 4451\n",
      "Banyak url film 4452\n",
      "Banyak url film 4453\n",
      "Banyak url film 4454\n",
      "Banyak url film 4455\n",
      "Banyak url film 4456\n",
      "Banyak url film 4457\n",
      "Banyak url film 4458\n",
      "Banyak url film 4459\n",
      "Banyak url film 4460\n"
     ]
    },
    {
     "name": "stderr",
     "output_type": "stream",
     "text": [
      "2020-12-04 12:59:55 [scrapy.core.engine] DEBUG: Crawled (200) <GET https://carifilms.com/films/page/450?order=DESC&is_meta_key=0&orderby=title#038;is_meta_key=0&orderby=title> (referer: None)\n"
     ]
    },
    {
     "name": "stdout",
     "output_type": "stream",
     "text": [
      "Banyak url film 4461\n",
      "Banyak url film 4462\n",
      "Banyak url film 4463\n",
      "Banyak url film 4464\n",
      "Banyak url film 4465\n",
      "Banyak url film 4466\n",
      "Banyak url film 4467\n",
      "Banyak url film 4468\n",
      "Banyak url film 4469\n",
      "Banyak url film 4470\n"
     ]
    },
    {
     "name": "stderr",
     "output_type": "stream",
     "text": [
      "2020-12-04 12:59:58 [scrapy.core.engine] DEBUG: Crawled (200) <GET https://carifilms.com/films/page/445?order=DESC&is_meta_key=0&orderby=title#038;is_meta_key=0&orderby=title> (referer: None)\n"
     ]
    },
    {
     "name": "stdout",
     "output_type": "stream",
     "text": [
      "Banyak url film 4471\n",
      "Banyak url film 4472\n",
      "Banyak url film 4473\n",
      "Banyak url film 4474\n",
      "Banyak url film 4475\n",
      "Banyak url film 4476\n",
      "Banyak url film 4477\n",
      "Banyak url film 4478\n",
      "Banyak url film 4479\n",
      "Banyak url film 4480\n"
     ]
    },
    {
     "name": "stderr",
     "output_type": "stream",
     "text": [
      "2020-12-04 13:00:03 [scrapy.core.engine] DEBUG: Crawled (200) <GET https://carifilms.com/films/page/443?order=DESC&is_meta_key=0&orderby=title#038;is_meta_key=0&orderby=title> (referer: None)\n"
     ]
    },
    {
     "name": "stdout",
     "output_type": "stream",
     "text": [
      "Banyak url film 4481\n",
      "Banyak url film 4482\n",
      "Banyak url film 4483\n",
      "Banyak url film 4484\n",
      "Banyak url film 4485\n",
      "Banyak url film 4486\n",
      "Banyak url film 4487\n",
      "Banyak url film 4488\n",
      "Banyak url film 4489\n",
      "Banyak url film 4490\n"
     ]
    },
    {
     "name": "stderr",
     "output_type": "stream",
     "text": [
      "2020-12-04 13:00:10 [scrapy.core.engine] DEBUG: Crawled (200) <GET https://carifilms.com/films/page/448?order=DESC&is_meta_key=0&orderby=title#038;is_meta_key=0&orderby=title> (referer: None)\n"
     ]
    },
    {
     "name": "stdout",
     "output_type": "stream",
     "text": [
      "Banyak url film 4491\n",
      "Banyak url film 4492\n",
      "Banyak url film 4493\n",
      "Banyak url film 4494\n",
      "Banyak url film 4495\n",
      "Banyak url film 4496\n",
      "Banyak url film 4497\n",
      "Banyak url film 4498\n",
      "Banyak url film 4499\n",
      "Banyak url film 4500\n"
     ]
    },
    {
     "name": "stderr",
     "output_type": "stream",
     "text": [
      "2020-12-04 13:00:17 [scrapy.core.engine] DEBUG: Crawled (200) <GET https://carifilms.com/films/page/453?order=DESC&is_meta_key=0&orderby=title#038;is_meta_key=0&orderby=title> (referer: None)\n"
     ]
    },
    {
     "name": "stdout",
     "output_type": "stream",
     "text": [
      "Banyak url film 4501\n",
      "Banyak url film 4502\n",
      "Banyak url film 4503\n",
      "Banyak url film 4504\n",
      "Banyak url film 4505\n",
      "Banyak url film 4506\n",
      "Banyak url film 4507\n",
      "Banyak url film 4508\n",
      "Banyak url film 4509\n",
      "Banyak url film 4510\n"
     ]
    },
    {
     "name": "stderr",
     "output_type": "stream",
     "text": [
      "2020-12-04 13:00:20 [scrapy.core.engine] DEBUG: Crawled (200) <GET https://carifilms.com/films/page/449?order=DESC&is_meta_key=0&orderby=title#038;is_meta_key=0&orderby=title> (referer: None)\n"
     ]
    },
    {
     "name": "stdout",
     "output_type": "stream",
     "text": [
      "Banyak url film 4511\n",
      "Banyak url film 4512\n",
      "Banyak url film 4513\n",
      "Banyak url film 4514\n",
      "Banyak url film 4515\n",
      "Banyak url film 4516\n",
      "Banyak url film 4517\n",
      "Banyak url film 4518\n",
      "Banyak url film 4519\n",
      "Banyak url film 4520\n"
     ]
    },
    {
     "name": "stderr",
     "output_type": "stream",
     "text": [
      "2020-12-04 13:00:24 [scrapy.core.engine] DEBUG: Crawled (200) <GET https://carifilms.com/films/page/452?order=DESC&is_meta_key=0&orderby=title#038;is_meta_key=0&orderby=title> (referer: None)\n"
     ]
    },
    {
     "name": "stdout",
     "output_type": "stream",
     "text": [
      "Banyak url film 4521\n",
      "Banyak url film 4522\n",
      "Banyak url film 4523\n",
      "Banyak url film 4524\n",
      "Banyak url film 4525\n",
      "Banyak url film 4526\n",
      "Banyak url film 4527\n",
      "Banyak url film 4528\n",
      "Banyak url film 4529\n",
      "Banyak url film 4530\n"
     ]
    },
    {
     "name": "stderr",
     "output_type": "stream",
     "text": [
      "2020-12-04 13:00:28 [scrapy.core.engine] DEBUG: Crawled (200) <GET https://carifilms.com/films/page/459?order=DESC&is_meta_key=0&orderby=title#038;is_meta_key=0&orderby=title> (referer: None)\n"
     ]
    },
    {
     "name": "stdout",
     "output_type": "stream",
     "text": [
      "Banyak url film 4531\n",
      "Banyak url film 4532\n",
      "Banyak url film 4533\n",
      "Banyak url film 4534\n",
      "Banyak url film 4535\n",
      "Banyak url film 4536\n",
      "Banyak url film 4537\n",
      "Banyak url film 4538\n",
      "Banyak url film 4539\n",
      "Banyak url film 4540\n"
     ]
    },
    {
     "name": "stderr",
     "output_type": "stream",
     "text": [
      "2020-12-04 13:00:31 [scrapy.core.engine] DEBUG: Crawled (200) <GET https://carifilms.com/films/page/455?order=DESC&is_meta_key=0&orderby=title#038;is_meta_key=0&orderby=title> (referer: None)\n"
     ]
    },
    {
     "name": "stdout",
     "output_type": "stream",
     "text": [
      "Banyak url film 4541\n",
      "Banyak url film 4542\n",
      "Banyak url film 4543\n",
      "Banyak url film 4544\n",
      "Banyak url film 4545\n",
      "Banyak url film 4546\n",
      "Banyak url film 4547\n",
      "Banyak url film 4548\n",
      "Banyak url film 4549\n",
      "Banyak url film 4550\n"
     ]
    },
    {
     "name": "stderr",
     "output_type": "stream",
     "text": [
      "2020-12-04 13:00:35 [scrapy.core.engine] DEBUG: Crawled (200) <GET https://carifilms.com/films/page/456?order=DESC&is_meta_key=0&orderby=title#038;is_meta_key=0&orderby=title> (referer: None)\n"
     ]
    },
    {
     "name": "stdout",
     "output_type": "stream",
     "text": [
      "Banyak url film 4551\n",
      "Banyak url film 4552\n",
      "Banyak url film 4553\n",
      "Banyak url film 4554\n",
      "Banyak url film 4555\n",
      "Banyak url film 4556\n",
      "Banyak url film 4557\n",
      "Banyak url film 4558\n",
      "Banyak url film 4559\n",
      "Banyak url film 4560\n"
     ]
    },
    {
     "name": "stderr",
     "output_type": "stream",
     "text": [
      "2020-12-04 13:00:38 [scrapy.core.engine] DEBUG: Crawled (200) <GET https://carifilms.com/films/page/454?order=DESC&is_meta_key=0&orderby=title#038;is_meta_key=0&orderby=title> (referer: None)\n"
     ]
    },
    {
     "name": "stdout",
     "output_type": "stream",
     "text": [
      "Banyak url film 4561\n",
      "Banyak url film 4562\n",
      "Banyak url film 4563\n",
      "Banyak url film 4564\n",
      "Banyak url film 4565\n",
      "Banyak url film 4566\n",
      "Banyak url film 4567\n",
      "Banyak url film 4568\n",
      "Banyak url film 4569\n",
      "Banyak url film 4570\n"
     ]
    },
    {
     "name": "stderr",
     "output_type": "stream",
     "text": [
      "2020-12-04 13:00:39 [scrapy.extensions.logstats] INFO: Crawled 457 pages (at 15 pages/min), scraped 0 items (at 0 items/min)\n",
      "2020-12-04 13:00:42 [scrapy.core.engine] DEBUG: Crawled (200) <GET https://carifilms.com/films/page/462?order=DESC&is_meta_key=0&orderby=title#038;is_meta_key=0&orderby=title> (referer: None)\n"
     ]
    },
    {
     "name": "stdout",
     "output_type": "stream",
     "text": [
      "Banyak url film 4571\n",
      "Banyak url film 4572\n",
      "Banyak url film 4573\n",
      "Banyak url film 4574\n",
      "Banyak url film 4575\n",
      "Banyak url film 4576\n",
      "Banyak url film 4577\n",
      "Banyak url film 4578\n",
      "Banyak url film 4579\n",
      "Banyak url film 4580\n"
     ]
    },
    {
     "name": "stderr",
     "output_type": "stream",
     "text": [
      "2020-12-04 13:00:46 [scrapy.core.engine] DEBUG: Crawled (200) <GET https://carifilms.com/films/page/463?order=DESC&is_meta_key=0&orderby=title#038;is_meta_key=0&orderby=title> (referer: None)\n"
     ]
    },
    {
     "name": "stdout",
     "output_type": "stream",
     "text": [
      "Banyak url film 4581\n",
      "Banyak url film 4582\n",
      "Banyak url film 4583\n",
      "Banyak url film 4584\n",
      "Banyak url film 4585\n",
      "Banyak url film 4586\n",
      "Banyak url film 4587\n",
      "Banyak url film 4588\n",
      "Banyak url film 4589\n",
      "Banyak url film 4590\n"
     ]
    },
    {
     "name": "stderr",
     "output_type": "stream",
     "text": [
      "2020-12-04 13:00:49 [scrapy.core.engine] DEBUG: Crawled (200) <GET https://carifilms.com/films/page/461?order=DESC&is_meta_key=0&orderby=title#038;is_meta_key=0&orderby=title> (referer: None)\n"
     ]
    },
    {
     "name": "stdout",
     "output_type": "stream",
     "text": [
      "Banyak url film 4591\n",
      "Banyak url film 4592\n",
      "Banyak url film 4593\n",
      "Banyak url film 4594\n",
      "Banyak url film 4595\n",
      "Banyak url film 4596\n",
      "Banyak url film 4597\n",
      "Banyak url film 4598\n",
      "Banyak url film 4599\n",
      "Banyak url film 4600\n"
     ]
    },
    {
     "name": "stderr",
     "output_type": "stream",
     "text": [
      "2020-12-04 13:00:53 [scrapy.core.engine] DEBUG: Crawled (200) <GET https://carifilms.com/films/page/465?order=DESC&is_meta_key=0&orderby=title#038;is_meta_key=0&orderby=title> (referer: None)\n"
     ]
    },
    {
     "name": "stdout",
     "output_type": "stream",
     "text": [
      "Banyak url film 4601\n",
      "Banyak url film 4602\n",
      "Banyak url film 4603\n",
      "Banyak url film 4604\n",
      "Banyak url film 4605\n",
      "Banyak url film 4606\n",
      "Banyak url film 4607\n",
      "Banyak url film 4608\n",
      "Banyak url film 4609\n",
      "Banyak url film 4610\n"
     ]
    },
    {
     "name": "stderr",
     "output_type": "stream",
     "text": [
      "2020-12-04 13:00:56 [scrapy.core.engine] DEBUG: Crawled (200) <GET https://carifilms.com/films/page/466?order=DESC&is_meta_key=0&orderby=title#038;is_meta_key=0&orderby=title> (referer: None)\n"
     ]
    },
    {
     "name": "stdout",
     "output_type": "stream",
     "text": [
      "Banyak url film 4611\n",
      "Banyak url film 4612\n",
      "Banyak url film 4613\n",
      "Banyak url film 4614\n",
      "Banyak url film 4615\n",
      "Banyak url film 4616\n",
      "Banyak url film 4617\n",
      "Banyak url film 4618\n",
      "Banyak url film 4619\n",
      "Banyak url film 4620\n"
     ]
    },
    {
     "name": "stderr",
     "output_type": "stream",
     "text": [
      "2020-12-04 13:01:00 [scrapy.core.engine] DEBUG: Crawled (200) <GET https://carifilms.com/films/page/467?order=DESC&is_meta_key=0&orderby=title#038;is_meta_key=0&orderby=title> (referer: None)\n"
     ]
    },
    {
     "name": "stdout",
     "output_type": "stream",
     "text": [
      "Banyak url film 4621\n",
      "Banyak url film 4622\n",
      "Banyak url film 4623\n",
      "Banyak url film 4624\n",
      "Banyak url film 4625\n",
      "Banyak url film 4626\n",
      "Banyak url film 4627\n",
      "Banyak url film 4628\n",
      "Banyak url film 4629\n",
      "Banyak url film 4630\n"
     ]
    },
    {
     "name": "stderr",
     "output_type": "stream",
     "text": [
      "2020-12-04 13:01:03 [scrapy.core.engine] DEBUG: Crawled (200) <GET https://carifilms.com/films/page/469?order=DESC&is_meta_key=0&orderby=title#038;is_meta_key=0&orderby=title> (referer: None)\n"
     ]
    },
    {
     "name": "stdout",
     "output_type": "stream",
     "text": [
      "Banyak url film 4631\n",
      "Banyak url film 4632\n",
      "Banyak url film 4633\n",
      "Banyak url film 4634\n",
      "Banyak url film 4635\n",
      "Banyak url film 4636\n",
      "Banyak url film 4637\n",
      "Banyak url film 4638\n",
      "Banyak url film 4639\n",
      "Banyak url film 4640\n"
     ]
    },
    {
     "name": "stderr",
     "output_type": "stream",
     "text": [
      "2020-12-04 13:01:06 [scrapy.core.engine] DEBUG: Crawled (200) <GET https://carifilms.com/films/page/458?order=DESC&is_meta_key=0&orderby=title#038;is_meta_key=0&orderby=title> (referer: None)\n"
     ]
    },
    {
     "name": "stdout",
     "output_type": "stream",
     "text": [
      "Banyak url film 4641\n",
      "Banyak url film 4642\n",
      "Banyak url film 4643\n",
      "Banyak url film 4644\n",
      "Banyak url film 4645\n",
      "Banyak url film 4646\n",
      "Banyak url film 4647\n",
      "Banyak url film 4648\n",
      "Banyak url film 4649\n",
      "Banyak url film 4650\n"
     ]
    },
    {
     "name": "stderr",
     "output_type": "stream",
     "text": [
      "2020-12-04 13:01:10 [scrapy.core.engine] DEBUG: Crawled (200) <GET https://carifilms.com/films/page/460?order=DESC&is_meta_key=0&orderby=title#038;is_meta_key=0&orderby=title> (referer: None)\n"
     ]
    },
    {
     "name": "stdout",
     "output_type": "stream",
     "text": [
      "Banyak url film 4651\n",
      "Banyak url film 4652\n",
      "Banyak url film 4653\n",
      "Banyak url film 4654\n",
      "Banyak url film 4655\n",
      "Banyak url film 4656\n",
      "Banyak url film 4657\n",
      "Banyak url film 4658\n",
      "Banyak url film 4659\n",
      "Banyak url film 4660\n"
     ]
    },
    {
     "name": "stderr",
     "output_type": "stream",
     "text": [
      "2020-12-04 13:01:13 [scrapy.core.engine] DEBUG: Crawled (200) <GET https://carifilms.com/films/page/468?order=DESC&is_meta_key=0&orderby=title#038;is_meta_key=0&orderby=title> (referer: None)\n"
     ]
    },
    {
     "name": "stdout",
     "output_type": "stream",
     "text": [
      "Banyak url film 4661\n",
      "Banyak url film 4662\n",
      "Banyak url film 4663\n",
      "Banyak url film 4664\n",
      "Banyak url film 4665\n",
      "Banyak url film 4666\n",
      "Banyak url film 4667\n",
      "Banyak url film 4668\n",
      "Banyak url film 4669\n",
      "Banyak url film 4670\n"
     ]
    },
    {
     "name": "stderr",
     "output_type": "stream",
     "text": [
      "2020-12-04 13:01:17 [scrapy.core.engine] DEBUG: Crawled (200) <GET https://carifilms.com/films/page/457?order=DESC&is_meta_key=0&orderby=title#038;is_meta_key=0&orderby=title> (referer: None)\n"
     ]
    },
    {
     "name": "stdout",
     "output_type": "stream",
     "text": [
      "Banyak url film 4671\n",
      "Banyak url film 4672\n",
      "Banyak url film 4673\n",
      "Banyak url film 4674\n",
      "Banyak url film 4675\n",
      "Banyak url film 4676\n",
      "Banyak url film 4677\n",
      "Banyak url film 4678\n",
      "Banyak url film 4679\n",
      "Banyak url film 4680\n"
     ]
    },
    {
     "name": "stderr",
     "output_type": "stream",
     "text": [
      "2020-12-04 13:01:20 [scrapy.core.engine] DEBUG: Crawled (200) <GET https://carifilms.com/films/page/473?order=DESC&is_meta_key=0&orderby=title#038;is_meta_key=0&orderby=title> (referer: None)\n"
     ]
    },
    {
     "name": "stdout",
     "output_type": "stream",
     "text": [
      "Banyak url film 4681\n",
      "Banyak url film 4682\n",
      "Banyak url film 4683\n",
      "Banyak url film 4684\n",
      "Banyak url film 4685\n",
      "Banyak url film 4686\n",
      "Banyak url film 4687\n",
      "Banyak url film 4688\n",
      "Banyak url film 4689\n",
      "Banyak url film 4690\n"
     ]
    },
    {
     "name": "stderr",
     "output_type": "stream",
     "text": [
      "2020-12-04 13:01:24 [scrapy.core.engine] DEBUG: Crawled (200) <GET https://carifilms.com/films/page/471?order=DESC&is_meta_key=0&orderby=title#038;is_meta_key=0&orderby=title> (referer: None)\n"
     ]
    },
    {
     "name": "stdout",
     "output_type": "stream",
     "text": [
      "Banyak url film 4691\n",
      "Banyak url film 4692\n",
      "Banyak url film 4693\n",
      "Banyak url film 4694\n",
      "Banyak url film 4695\n",
      "Banyak url film 4696\n",
      "Banyak url film 4697\n",
      "Banyak url film 4698\n",
      "Banyak url film 4699\n",
      "Banyak url film 4700\n"
     ]
    },
    {
     "name": "stderr",
     "output_type": "stream",
     "text": [
      "2020-12-04 13:01:28 [scrapy.core.engine] DEBUG: Crawled (200) <GET https://carifilms.com/films/page/474?order=DESC&is_meta_key=0&orderby=title#038;is_meta_key=0&orderby=title> (referer: None)\n"
     ]
    },
    {
     "name": "stdout",
     "output_type": "stream",
     "text": [
      "Banyak url film 4701\n",
      "Banyak url film 4702\n",
      "Banyak url film 4703\n",
      "Banyak url film 4704\n",
      "Banyak url film 4705\n",
      "Banyak url film 4706\n",
      "Banyak url film 4707\n",
      "Banyak url film 4708\n",
      "Banyak url film 4709\n",
      "Banyak url film 4710\n"
     ]
    },
    {
     "name": "stderr",
     "output_type": "stream",
     "text": [
      "2020-12-04 13:01:31 [scrapy.core.engine] DEBUG: Crawled (200) <GET https://carifilms.com/films/page/472?order=DESC&is_meta_key=0&orderby=title#038;is_meta_key=0&orderby=title> (referer: None)\n"
     ]
    },
    {
     "name": "stdout",
     "output_type": "stream",
     "text": [
      "Banyak url film 4711\n",
      "Banyak url film 4712\n",
      "Banyak url film 4713\n",
      "Banyak url film 4714\n",
      "Banyak url film 4715\n",
      "Banyak url film 4716\n",
      "Banyak url film 4717\n",
      "Banyak url film 4718\n",
      "Banyak url film 4719\n",
      "Banyak url film 4720\n"
     ]
    },
    {
     "name": "stderr",
     "output_type": "stream",
     "text": [
      "2020-12-04 13:01:35 [scrapy.core.engine] DEBUG: Crawled (200) <GET https://carifilms.com/films/page/477?order=DESC&is_meta_key=0&orderby=title#038;is_meta_key=0&orderby=title> (referer: None)\n"
     ]
    },
    {
     "name": "stdout",
     "output_type": "stream",
     "text": [
      "Banyak url film 4721\n",
      "Banyak url film 4722\n",
      "Banyak url film 4723\n",
      "Banyak url film 4724\n",
      "Banyak url film 4725\n",
      "Banyak url film 4726\n",
      "Banyak url film 4727\n",
      "Banyak url film 4728\n",
      "Banyak url film 4729\n",
      "Banyak url film 4730\n"
     ]
    },
    {
     "name": "stderr",
     "output_type": "stream",
     "text": [
      "2020-12-04 13:01:38 [scrapy.core.engine] DEBUG: Crawled (200) <GET https://carifilms.com/films/page/476?order=DESC&is_meta_key=0&orderby=title#038;is_meta_key=0&orderby=title> (referer: None)\n"
     ]
    },
    {
     "name": "stdout",
     "output_type": "stream",
     "text": [
      "Banyak url film 4731\n",
      "Banyak url film 4732\n",
      "Banyak url film 4733\n",
      "Banyak url film 4734\n",
      "Banyak url film 4735\n",
      "Banyak url film 4736\n",
      "Banyak url film 4737\n",
      "Banyak url film 4738\n",
      "Banyak url film 4739\n",
      "Banyak url film 4740\n"
     ]
    },
    {
     "name": "stderr",
     "output_type": "stream",
     "text": [
      "2020-12-04 13:01:39 [scrapy.extensions.logstats] INFO: Crawled 474 pages (at 17 pages/min), scraped 0 items (at 0 items/min)\n",
      "2020-12-04 13:01:42 [scrapy.core.engine] DEBUG: Crawled (200) <GET https://carifilms.com/films/page/479?order=DESC&is_meta_key=0&orderby=title#038;is_meta_key=0&orderby=title> (referer: None)\n"
     ]
    },
    {
     "name": "stdout",
     "output_type": "stream",
     "text": [
      "Banyak url film 4741\n",
      "Banyak url film 4742\n",
      "Banyak url film 4743\n",
      "Banyak url film 4744\n",
      "Banyak url film 4745\n",
      "Banyak url film 4746\n",
      "Banyak url film 4747\n",
      "Banyak url film 4748\n",
      "Banyak url film 4749\n",
      "Banyak url film 4750\n"
     ]
    },
    {
     "name": "stderr",
     "output_type": "stream",
     "text": [
      "2020-12-04 13:01:45 [scrapy.core.engine] DEBUG: Crawled (200) <GET https://carifilms.com/films/page/475?order=DESC&is_meta_key=0&orderby=title#038;is_meta_key=0&orderby=title> (referer: None)\n"
     ]
    },
    {
     "name": "stdout",
     "output_type": "stream",
     "text": [
      "Banyak url film 4751\n",
      "Banyak url film 4752\n",
      "Banyak url film 4753\n",
      "Banyak url film 4754\n",
      "Banyak url film 4755\n",
      "Banyak url film 4756\n",
      "Banyak url film 4757\n",
      "Banyak url film 4758\n",
      "Banyak url film 4759\n",
      "Banyak url film 4760\n"
     ]
    },
    {
     "name": "stderr",
     "output_type": "stream",
     "text": [
      "2020-12-04 13:01:49 [scrapy.core.engine] DEBUG: Crawled (200) <GET https://carifilms.com/films/page/480?order=DESC&is_meta_key=0&orderby=title#038;is_meta_key=0&orderby=title> (referer: None)\n"
     ]
    },
    {
     "name": "stdout",
     "output_type": "stream",
     "text": [
      "Banyak url film 4761\n",
      "Banyak url film 4762\n",
      "Banyak url film 4763\n",
      "Banyak url film 4764\n",
      "Banyak url film 4765\n",
      "Banyak url film 4766\n",
      "Banyak url film 4767\n",
      "Banyak url film 4768\n",
      "Banyak url film 4769\n",
      "Banyak url film 4770\n"
     ]
    },
    {
     "name": "stderr",
     "output_type": "stream",
     "text": [
      "2020-12-04 13:01:52 [scrapy.core.engine] DEBUG: Crawled (200) <GET https://carifilms.com/films/page/464?order=DESC&is_meta_key=0&orderby=title#038;is_meta_key=0&orderby=title> (referer: None)\n"
     ]
    },
    {
     "name": "stdout",
     "output_type": "stream",
     "text": [
      "Banyak url film 4771\n",
      "Banyak url film 4772\n",
      "Banyak url film 4773\n",
      "Banyak url film 4774\n",
      "Banyak url film 4775\n",
      "Banyak url film 4776\n",
      "Banyak url film 4777\n",
      "Banyak url film 4778\n",
      "Banyak url film 4779\n",
      "Banyak url film 4780\n"
     ]
    },
    {
     "name": "stderr",
     "output_type": "stream",
     "text": [
      "2020-12-04 13:01:55 [scrapy.core.engine] DEBUG: Crawled (200) <GET https://carifilms.com/films/page/481?order=DESC&is_meta_key=0&orderby=title#038;is_meta_key=0&orderby=title> (referer: None)\n"
     ]
    },
    {
     "name": "stdout",
     "output_type": "stream",
     "text": [
      "Banyak url film 4781\n",
      "Banyak url film 4782\n",
      "Banyak url film 4783\n",
      "Banyak url film 4784\n",
      "Banyak url film 4785\n",
      "Banyak url film 4786\n",
      "Banyak url film 4787\n",
      "Banyak url film 4788\n",
      "Banyak url film 4789\n",
      "Banyak url film 4790\n"
     ]
    },
    {
     "name": "stderr",
     "output_type": "stream",
     "text": [
      "2020-12-04 13:01:59 [scrapy.core.engine] DEBUG: Crawled (200) <GET https://carifilms.com/films/page/484?order=DESC&is_meta_key=0&orderby=title#038;is_meta_key=0&orderby=title> (referer: None)\n"
     ]
    },
    {
     "name": "stdout",
     "output_type": "stream",
     "text": [
      "Banyak url film 4791\n",
      "Banyak url film 4792\n",
      "Banyak url film 4793\n",
      "Banyak url film 4794\n",
      "Banyak url film 4795\n",
      "Banyak url film 4796\n",
      "Banyak url film 4797\n",
      "Banyak url film 4798\n",
      "Banyak url film 4799\n",
      "Banyak url film 4800\n"
     ]
    },
    {
     "name": "stderr",
     "output_type": "stream",
     "text": [
      "2020-12-04 13:02:02 [scrapy.core.engine] DEBUG: Crawled (200) <GET https://carifilms.com/films/page/485?order=DESC&is_meta_key=0&orderby=title#038;is_meta_key=0&orderby=title> (referer: None)\n"
     ]
    },
    {
     "name": "stdout",
     "output_type": "stream",
     "text": [
      "Banyak url film 4801\n",
      "Banyak url film 4802\n",
      "Banyak url film 4803\n",
      "Banyak url film 4804\n",
      "Banyak url film 4805\n",
      "Banyak url film 4806\n",
      "Banyak url film 4807\n",
      "Banyak url film 4808\n",
      "Banyak url film 4809\n",
      "Banyak url film 4810\n"
     ]
    },
    {
     "name": "stderr",
     "output_type": "stream",
     "text": [
      "2020-12-04 13:02:06 [scrapy.core.engine] DEBUG: Crawled (200) <GET https://carifilms.com/films/page/482?order=DESC&is_meta_key=0&orderby=title#038;is_meta_key=0&orderby=title> (referer: None)\n"
     ]
    },
    {
     "name": "stdout",
     "output_type": "stream",
     "text": [
      "Banyak url film 4811\n",
      "Banyak url film 4812\n",
      "Banyak url film 4813\n",
      "Banyak url film 4814\n",
      "Banyak url film 4815\n",
      "Banyak url film 4816\n",
      "Banyak url film 4817\n",
      "Banyak url film 4818\n",
      "Banyak url film 4819\n",
      "Banyak url film 4820\n"
     ]
    },
    {
     "name": "stderr",
     "output_type": "stream",
     "text": [
      "2020-12-04 13:02:10 [scrapy.core.engine] DEBUG: Crawled (200) <GET https://carifilms.com/films/page/483?order=DESC&is_meta_key=0&orderby=title#038;is_meta_key=0&orderby=title> (referer: None)\n"
     ]
    },
    {
     "name": "stdout",
     "output_type": "stream",
     "text": [
      "Banyak url film 4821\n",
      "Banyak url film 4822\n",
      "Banyak url film 4823\n",
      "Banyak url film 4824\n",
      "Banyak url film 4825\n",
      "Banyak url film 4826\n",
      "Banyak url film 4827\n",
      "Banyak url film 4828\n",
      "Banyak url film 4829\n",
      "Banyak url film 4830\n"
     ]
    },
    {
     "name": "stderr",
     "output_type": "stream",
     "text": [
      "2020-12-04 13:02:13 [scrapy.core.engine] DEBUG: Crawled (200) <GET https://carifilms.com/films/page/489?order=DESC&is_meta_key=0&orderby=title#038;is_meta_key=0&orderby=title> (referer: None)\n"
     ]
    },
    {
     "name": "stdout",
     "output_type": "stream",
     "text": [
      "Banyak url film 4831\n",
      "Banyak url film 4832\n",
      "Banyak url film 4833\n",
      "Banyak url film 4834\n",
      "Banyak url film 4835\n",
      "Banyak url film 4836\n",
      "Banyak url film 4837\n",
      "Banyak url film 4838\n",
      "Banyak url film 4839\n",
      "Banyak url film 4840\n"
     ]
    },
    {
     "name": "stderr",
     "output_type": "stream",
     "text": [
      "2020-12-04 13:02:16 [scrapy.core.engine] DEBUG: Crawled (200) <GET https://carifilms.com/films/page/486?order=DESC&is_meta_key=0&orderby=title#038;is_meta_key=0&orderby=title> (referer: None)\n"
     ]
    },
    {
     "name": "stdout",
     "output_type": "stream",
     "text": [
      "Banyak url film 4841\n",
      "Banyak url film 4842\n",
      "Banyak url film 4843\n",
      "Banyak url film 4844\n",
      "Banyak url film 4845\n",
      "Banyak url film 4846\n",
      "Banyak url film 4847\n",
      "Banyak url film 4848\n",
      "Banyak url film 4849\n",
      "Banyak url film 4850\n"
     ]
    },
    {
     "name": "stderr",
     "output_type": "stream",
     "text": [
      "2020-12-04 13:02:20 [scrapy.core.engine] DEBUG: Crawled (200) <GET https://carifilms.com/films/page/478?order=DESC&is_meta_key=0&orderby=title#038;is_meta_key=0&orderby=title> (referer: None)\n"
     ]
    },
    {
     "name": "stdout",
     "output_type": "stream",
     "text": [
      "Banyak url film 4851\n",
      "Banyak url film 4852\n",
      "Banyak url film 4853\n",
      "Banyak url film 4854\n",
      "Banyak url film 4855\n",
      "Banyak url film 4856\n",
      "Banyak url film 4857\n",
      "Banyak url film 4858\n",
      "Banyak url film 4859\n",
      "Banyak url film 4860\n"
     ]
    },
    {
     "name": "stderr",
     "output_type": "stream",
     "text": [
      "2020-12-04 13:02:23 [scrapy.core.engine] DEBUG: Crawled (200) <GET https://carifilms.com/films/page/488?order=DESC&is_meta_key=0&orderby=title#038;is_meta_key=0&orderby=title> (referer: None)\n"
     ]
    },
    {
     "name": "stdout",
     "output_type": "stream",
     "text": [
      "Banyak url film 4861\n",
      "Banyak url film 4862\n",
      "Banyak url film 4863\n",
      "Banyak url film 4864\n",
      "Banyak url film 4865\n",
      "Banyak url film 4866\n",
      "Banyak url film 4867\n",
      "Banyak url film 4868\n",
      "Banyak url film 4869\n",
      "Banyak url film 4870\n"
     ]
    },
    {
     "name": "stderr",
     "output_type": "stream",
     "text": [
      "2020-12-04 13:02:26 [scrapy.core.engine] DEBUG: Crawled (200) <GET https://carifilms.com/films/page/491?order=DESC&is_meta_key=0&orderby=title#038;is_meta_key=0&orderby=title> (referer: None)\n"
     ]
    },
    {
     "name": "stdout",
     "output_type": "stream",
     "text": [
      "Banyak url film 4871\n",
      "Banyak url film 4872\n",
      "Banyak url film 4873\n",
      "Banyak url film 4874\n",
      "Banyak url film 4875\n",
      "Banyak url film 4876\n",
      "Banyak url film 4877\n",
      "Banyak url film 4878\n",
      "Banyak url film 4879\n",
      "Banyak url film 4880\n"
     ]
    },
    {
     "name": "stderr",
     "output_type": "stream",
     "text": [
      "2020-12-04 13:02:29 [scrapy.core.engine] DEBUG: Crawled (200) <GET https://carifilms.com/films/page/470?order=DESC&is_meta_key=0&orderby=title#038;is_meta_key=0&orderby=title> (referer: None)\n"
     ]
    },
    {
     "name": "stdout",
     "output_type": "stream",
     "text": [
      "Banyak url film 4881\n",
      "Banyak url film 4882\n",
      "Banyak url film 4883\n",
      "Banyak url film 4884\n",
      "Banyak url film 4885\n",
      "Banyak url film 4886\n",
      "Banyak url film 4887\n",
      "Banyak url film 4888\n",
      "Banyak url film 4889\n",
      "Banyak url film 4890\n"
     ]
    },
    {
     "name": "stderr",
     "output_type": "stream",
     "text": [
      "2020-12-04 13:02:33 [scrapy.core.engine] DEBUG: Crawled (200) <GET https://carifilms.com/films/page/493?order=DESC&is_meta_key=0&orderby=title#038;is_meta_key=0&orderby=title> (referer: None)\n"
     ]
    },
    {
     "name": "stdout",
     "output_type": "stream",
     "text": [
      "Banyak url film 4891\n",
      "Banyak url film 4892\n",
      "Banyak url film 4893\n",
      "Banyak url film 4894\n",
      "Banyak url film 4895\n",
      "Banyak url film 4896\n",
      "Banyak url film 4897\n",
      "Banyak url film 4898\n",
      "Banyak url film 4899\n",
      "Banyak url film 4900\n"
     ]
    },
    {
     "name": "stderr",
     "output_type": "stream",
     "text": [
      "2020-12-04 13:02:36 [scrapy.core.engine] DEBUG: Crawled (200) <GET https://carifilms.com/films/page/492?order=DESC&is_meta_key=0&orderby=title#038;is_meta_key=0&orderby=title> (referer: None)\n"
     ]
    },
    {
     "name": "stdout",
     "output_type": "stream",
     "text": [
      "Banyak url film 4901\n",
      "Banyak url film 4902\n",
      "Banyak url film 4903\n",
      "Banyak url film 4904\n",
      "Banyak url film 4905\n",
      "Banyak url film 4906\n",
      "Banyak url film 4907\n",
      "Banyak url film 4908\n",
      "Banyak url film 4909\n",
      "Banyak url film 4910\n"
     ]
    },
    {
     "name": "stderr",
     "output_type": "stream",
     "text": [
      "2020-12-04 13:02:39 [scrapy.extensions.logstats] INFO: Crawled 491 pages (at 17 pages/min), scraped 0 items (at 0 items/min)\n",
      "2020-12-04 13:02:40 [scrapy.core.engine] DEBUG: Crawled (200) <GET https://carifilms.com/films/page/495?order=DESC&is_meta_key=0&orderby=title#038;is_meta_key=0&orderby=title> (referer: None)\n"
     ]
    },
    {
     "name": "stdout",
     "output_type": "stream",
     "text": [
      "Banyak url film 4911\n",
      "Banyak url film 4912\n",
      "Banyak url film 4913\n",
      "Banyak url film 4914\n",
      "Banyak url film 4915\n",
      "Banyak url film 4916\n",
      "Banyak url film 4917\n",
      "Banyak url film 4918\n",
      "Banyak url film 4919\n",
      "Banyak url film 4920\n"
     ]
    },
    {
     "name": "stderr",
     "output_type": "stream",
     "text": [
      "2020-12-04 13:02:43 [scrapy.core.engine] DEBUG: Crawled (200) <GET https://carifilms.com/films/page/494?order=DESC&is_meta_key=0&orderby=title#038;is_meta_key=0&orderby=title> (referer: None)\n"
     ]
    },
    {
     "name": "stdout",
     "output_type": "stream",
     "text": [
      "Banyak url film 4921\n",
      "Banyak url film 4922\n",
      "Banyak url film 4923\n",
      "Banyak url film 4924\n",
      "Banyak url film 4925\n",
      "Banyak url film 4926\n",
      "Banyak url film 4927\n",
      "Banyak url film 4928\n",
      "Banyak url film 4929\n",
      "Banyak url film 4930\n"
     ]
    },
    {
     "name": "stderr",
     "output_type": "stream",
     "text": [
      "2020-12-04 13:02:46 [scrapy.core.engine] DEBUG: Crawled (200) <GET https://carifilms.com/films/page/490?order=DESC&is_meta_key=0&orderby=title#038;is_meta_key=0&orderby=title> (referer: None)\n"
     ]
    },
    {
     "name": "stdout",
     "output_type": "stream",
     "text": [
      "Banyak url film 4931\n",
      "Banyak url film 4932\n",
      "Banyak url film 4933\n",
      "Banyak url film 4934\n",
      "Banyak url film 4935\n",
      "Banyak url film 4936\n",
      "Banyak url film 4937\n",
      "Banyak url film 4938\n",
      "Banyak url film 4939\n",
      "Banyak url film 4940\n"
     ]
    },
    {
     "name": "stderr",
     "output_type": "stream",
     "text": [
      "2020-12-04 13:02:50 [scrapy.core.engine] DEBUG: Crawled (200) <GET https://carifilms.com/films/page/496?order=DESC&is_meta_key=0&orderby=title#038;is_meta_key=0&orderby=title> (referer: None)\n"
     ]
    },
    {
     "name": "stdout",
     "output_type": "stream",
     "text": [
      "Banyak url film 4941\n",
      "Banyak url film 4942\n",
      "Banyak url film 4943\n",
      "Banyak url film 4944\n",
      "Banyak url film 4945\n",
      "Banyak url film 4946\n",
      "Banyak url film 4947\n",
      "Banyak url film 4948\n",
      "Banyak url film 4949\n",
      "Banyak url film 4950\n"
     ]
    },
    {
     "name": "stderr",
     "output_type": "stream",
     "text": [
      "2020-12-04 13:02:53 [scrapy.core.engine] DEBUG: Crawled (200) <GET https://carifilms.com/films/page/497?order=DESC&is_meta_key=0&orderby=title#038;is_meta_key=0&orderby=title> (referer: None)\n"
     ]
    },
    {
     "name": "stdout",
     "output_type": "stream",
     "text": [
      "Banyak url film 4951\n",
      "Banyak url film 4952\n",
      "Banyak url film 4953\n",
      "Banyak url film 4954\n",
      "Banyak url film 4955\n",
      "Banyak url film 4956\n",
      "Banyak url film 4957\n",
      "Banyak url film 4958\n",
      "Banyak url film 4959\n",
      "Banyak url film 4960\n"
     ]
    },
    {
     "name": "stderr",
     "output_type": "stream",
     "text": [
      "2020-12-04 13:02:56 [scrapy.core.engine] DEBUG: Crawled (200) <GET https://carifilms.com/films/page/487?order=DESC&is_meta_key=0&orderby=title#038;is_meta_key=0&orderby=title> (referer: None)\n"
     ]
    },
    {
     "name": "stdout",
     "output_type": "stream",
     "text": [
      "Banyak url film 4961\n",
      "Banyak url film 4962\n",
      "Banyak url film 4963\n",
      "Banyak url film 4964\n",
      "Banyak url film 4965\n",
      "Banyak url film 4966\n",
      "Banyak url film 4967\n",
      "Banyak url film 4968\n",
      "Banyak url film 4969\n",
      "Banyak url film 4970\n"
     ]
    },
    {
     "name": "stderr",
     "output_type": "stream",
     "text": [
      "2020-12-04 13:03:00 [scrapy.core.engine] DEBUG: Crawled (200) <GET https://carifilms.com/films/page/501?order=DESC&is_meta_key=0&orderby=title#038;is_meta_key=0&orderby=title> (referer: None)\n"
     ]
    },
    {
     "name": "stdout",
     "output_type": "stream",
     "text": [
      "Banyak url film 4971\n",
      "Banyak url film 4972\n",
      "Banyak url film 4973\n",
      "Banyak url film 4974\n",
      "Banyak url film 4975\n",
      "Banyak url film 4976\n",
      "Banyak url film 4977\n",
      "Banyak url film 4978\n",
      "Banyak url film 4979\n",
      "Banyak url film 4980\n"
     ]
    },
    {
     "name": "stderr",
     "output_type": "stream",
     "text": [
      "2020-12-04 13:03:03 [scrapy.core.engine] DEBUG: Crawled (200) <GET https://carifilms.com/films/page/504?order=DESC&is_meta_key=0&orderby=title#038;is_meta_key=0&orderby=title> (referer: None)\n"
     ]
    },
    {
     "name": "stdout",
     "output_type": "stream",
     "text": [
      "Banyak url film 4981\n",
      "Banyak url film 4982\n",
      "Banyak url film 4983\n",
      "Banyak url film 4984\n",
      "Banyak url film 4985\n",
      "Banyak url film 4986\n",
      "Banyak url film 4987\n",
      "Banyak url film 4988\n",
      "Banyak url film 4989\n",
      "Banyak url film 4990\n"
     ]
    },
    {
     "name": "stderr",
     "output_type": "stream",
     "text": [
      "2020-12-04 13:03:06 [scrapy.core.engine] DEBUG: Crawled (200) <GET https://carifilms.com/films/page/502?order=DESC&is_meta_key=0&orderby=title#038;is_meta_key=0&orderby=title> (referer: None)\n"
     ]
    },
    {
     "name": "stdout",
     "output_type": "stream",
     "text": [
      "Banyak url film 4991\n",
      "Banyak url film 4992\n",
      "Banyak url film 4993\n",
      "Banyak url film 4994\n",
      "Banyak url film 4995\n",
      "Banyak url film 4996\n",
      "Banyak url film 4997\n",
      "Banyak url film 4998\n",
      "Banyak url film 4999\n",
      "Banyak url film 5000\n"
     ]
    },
    {
     "name": "stderr",
     "output_type": "stream",
     "text": [
      "2020-12-04 13:03:10 [scrapy.core.engine] DEBUG: Crawled (200) <GET https://carifilms.com/films/page/498?order=DESC&is_meta_key=0&orderby=title#038;is_meta_key=0&orderby=title> (referer: None)\n"
     ]
    },
    {
     "name": "stdout",
     "output_type": "stream",
     "text": [
      "Banyak url film 5001\n",
      "Banyak url film 5002\n",
      "Banyak url film 5003\n",
      "Banyak url film 5004\n",
      "Banyak url film 5005\n",
      "Banyak url film 5006\n",
      "Banyak url film 5007\n",
      "Banyak url film 5008\n",
      "Banyak url film 5009\n",
      "Banyak url film 5010\n"
     ]
    },
    {
     "name": "stderr",
     "output_type": "stream",
     "text": [
      "2020-12-04 13:03:13 [scrapy.core.engine] DEBUG: Crawled (200) <GET https://carifilms.com/films/page/499?order=DESC&is_meta_key=0&orderby=title#038;is_meta_key=0&orderby=title> (referer: None)\n"
     ]
    },
    {
     "name": "stdout",
     "output_type": "stream",
     "text": [
      "Banyak url film 5011\n",
      "Banyak url film 5012\n",
      "Banyak url film 5013\n",
      "Banyak url film 5014\n",
      "Banyak url film 5015\n",
      "Banyak url film 5016\n",
      "Banyak url film 5017\n",
      "Banyak url film 5018\n",
      "Banyak url film 5019\n",
      "Banyak url film 5020\n"
     ]
    },
    {
     "name": "stderr",
     "output_type": "stream",
     "text": [
      "2020-12-04 13:03:16 [scrapy.core.engine] DEBUG: Crawled (200) <GET https://carifilms.com/films/page/503?order=DESC&is_meta_key=0&orderby=title#038;is_meta_key=0&orderby=title> (referer: None)\n"
     ]
    },
    {
     "name": "stdout",
     "output_type": "stream",
     "text": [
      "Banyak url film 5021\n",
      "Banyak url film 5022\n",
      "Banyak url film 5023\n",
      "Banyak url film 5024\n",
      "Banyak url film 5025\n",
      "Banyak url film 5026\n",
      "Banyak url film 5027\n",
      "Banyak url film 5028\n",
      "Banyak url film 5029\n",
      "Banyak url film 5030\n"
     ]
    },
    {
     "name": "stderr",
     "output_type": "stream",
     "text": [
      "2020-12-04 13:03:20 [scrapy.core.engine] DEBUG: Crawled (200) <GET https://carifilms.com/films/page/505?order=DESC&is_meta_key=0&orderby=title#038;is_meta_key=0&orderby=title> (referer: None)\n"
     ]
    },
    {
     "name": "stdout",
     "output_type": "stream",
     "text": [
      "Banyak url film 5031\n",
      "Banyak url film 5032\n",
      "Banyak url film 5033\n",
      "Banyak url film 5034\n",
      "Banyak url film 5035\n",
      "Banyak url film 5036\n",
      "Banyak url film 5037\n",
      "Banyak url film 5038\n",
      "Banyak url film 5039\n",
      "Banyak url film 5040\n"
     ]
    },
    {
     "name": "stderr",
     "output_type": "stream",
     "text": [
      "2020-12-04 13:03:23 [scrapy.core.engine] DEBUG: Crawled (200) <GET https://carifilms.com/films/page/510?order=DESC&is_meta_key=0&orderby=title#038;is_meta_key=0&orderby=title> (referer: None)\n"
     ]
    },
    {
     "name": "stdout",
     "output_type": "stream",
     "text": [
      "Banyak url film 5041\n",
      "Banyak url film 5042\n",
      "Banyak url film 5043\n",
      "Banyak url film 5044\n",
      "Banyak url film 5045\n",
      "Banyak url film 5046\n",
      "Banyak url film 5047\n",
      "Banyak url film 5048\n",
      "Banyak url film 5049\n",
      "Banyak url film 5050\n"
     ]
    },
    {
     "name": "stderr",
     "output_type": "stream",
     "text": [
      "2020-12-04 13:03:27 [scrapy.core.engine] DEBUG: Crawled (200) <GET https://carifilms.com/films/page/506?order=DESC&is_meta_key=0&orderby=title#038;is_meta_key=0&orderby=title> (referer: None)\n"
     ]
    },
    {
     "name": "stdout",
     "output_type": "stream",
     "text": [
      "Banyak url film 5051\n",
      "Banyak url film 5052\n",
      "Banyak url film 5053\n",
      "Banyak url film 5054\n",
      "Banyak url film 5055\n",
      "Banyak url film 5056\n",
      "Banyak url film 5057\n",
      "Banyak url film 5058\n",
      "Banyak url film 5059\n",
      "Banyak url film 5060\n"
     ]
    },
    {
     "name": "stderr",
     "output_type": "stream",
     "text": [
      "2020-12-04 13:03:30 [scrapy.core.engine] DEBUG: Crawled (200) <GET https://carifilms.com/films/page/511?order=DESC&is_meta_key=0&orderby=title#038;is_meta_key=0&orderby=title> (referer: None)\n"
     ]
    },
    {
     "name": "stdout",
     "output_type": "stream",
     "text": [
      "Banyak url film 5061\n",
      "Banyak url film 5062\n",
      "Banyak url film 5063\n",
      "Banyak url film 5064\n",
      "Banyak url film 5065\n",
      "Banyak url film 5066\n",
      "Banyak url film 5067\n",
      "Banyak url film 5068\n",
      "Banyak url film 5069\n",
      "Banyak url film 5070\n"
     ]
    },
    {
     "name": "stderr",
     "output_type": "stream",
     "text": [
      "2020-12-04 13:03:33 [scrapy.core.engine] DEBUG: Crawled (200) <GET https://carifilms.com/films/page/508?order=DESC&is_meta_key=0&orderby=title#038;is_meta_key=0&orderby=title> (referer: None)\n"
     ]
    },
    {
     "name": "stdout",
     "output_type": "stream",
     "text": [
      "Banyak url film 5071\n",
      "Banyak url film 5072\n",
      "Banyak url film 5073\n",
      "Banyak url film 5074\n",
      "Banyak url film 5075\n",
      "Banyak url film 5076\n",
      "Banyak url film 5077\n",
      "Banyak url film 5078\n",
      "Banyak url film 5079\n",
      "Banyak url film 5080\n"
     ]
    },
    {
     "name": "stderr",
     "output_type": "stream",
     "text": [
      "2020-12-04 13:03:37 [scrapy.core.engine] DEBUG: Crawled (200) <GET https://carifilms.com/films/page/512?order=DESC&is_meta_key=0&orderby=title#038;is_meta_key=0&orderby=title> (referer: None)\n"
     ]
    },
    {
     "name": "stdout",
     "output_type": "stream",
     "text": [
      "Banyak url film 5081\n",
      "Banyak url film 5082\n",
      "Banyak url film 5083\n",
      "Banyak url film 5084\n",
      "Banyak url film 5085\n",
      "Banyak url film 5086\n",
      "Banyak url film 5087\n",
      "Banyak url film 5088\n",
      "Banyak url film 5089\n",
      "Banyak url film 5090\n"
     ]
    },
    {
     "name": "stderr",
     "output_type": "stream",
     "text": [
      "2020-12-04 13:03:39 [scrapy.extensions.logstats] INFO: Crawled 509 pages (at 18 pages/min), scraped 0 items (at 0 items/min)\n",
      "2020-12-04 13:03:40 [scrapy.core.engine] DEBUG: Crawled (200) <GET https://carifilms.com/films/page/513?order=DESC&is_meta_key=0&orderby=title#038;is_meta_key=0&orderby=title> (referer: None)\n"
     ]
    },
    {
     "name": "stdout",
     "output_type": "stream",
     "text": [
      "Banyak url film 5091\n",
      "Banyak url film 5092\n",
      "Banyak url film 5093\n",
      "Banyak url film 5094\n",
      "Banyak url film 5095\n",
      "Banyak url film 5096\n",
      "Banyak url film 5097\n",
      "Banyak url film 5098\n",
      "Banyak url film 5099\n",
      "Banyak url film 5100\n"
     ]
    },
    {
     "name": "stderr",
     "output_type": "stream",
     "text": [
      "2020-12-04 13:03:43 [scrapy.core.engine] DEBUG: Crawled (200) <GET https://carifilms.com/films/page/500?order=DESC&is_meta_key=0&orderby=title#038;is_meta_key=0&orderby=title> (referer: None)\n"
     ]
    },
    {
     "name": "stdout",
     "output_type": "stream",
     "text": [
      "Banyak url film 5101\n",
      "Banyak url film 5102\n",
      "Banyak url film 5103\n",
      "Banyak url film 5104\n",
      "Banyak url film 5105\n",
      "Banyak url film 5106\n",
      "Banyak url film 5107\n",
      "Banyak url film 5108\n",
      "Banyak url film 5109\n",
      "Banyak url film 5110\n"
     ]
    },
    {
     "name": "stderr",
     "output_type": "stream",
     "text": [
      "2020-12-04 13:03:47 [scrapy.core.engine] DEBUG: Crawled (200) <GET https://carifilms.com/films/page/514?order=DESC&is_meta_key=0&orderby=title#038;is_meta_key=0&orderby=title> (referer: None)\n"
     ]
    },
    {
     "name": "stdout",
     "output_type": "stream",
     "text": [
      "Banyak url film 5111\n",
      "Banyak url film 5112\n",
      "Banyak url film 5113\n",
      "Banyak url film 5114\n",
      "Banyak url film 5115\n",
      "Banyak url film 5116\n",
      "Banyak url film 5117\n",
      "Banyak url film 5118\n",
      "Banyak url film 5119\n",
      "Banyak url film 5120\n"
     ]
    },
    {
     "name": "stderr",
     "output_type": "stream",
     "text": [
      "2020-12-04 13:03:50 [scrapy.core.engine] DEBUG: Crawled (200) <GET https://carifilms.com/films/page/517?order=DESC&is_meta_key=0&orderby=title#038;is_meta_key=0&orderby=title> (referer: None)\n"
     ]
    },
    {
     "name": "stdout",
     "output_type": "stream",
     "text": [
      "Banyak url film 5121\n",
      "Banyak url film 5122\n",
      "Banyak url film 5123\n",
      "Banyak url film 5124\n",
      "Banyak url film 5125\n",
      "Banyak url film 5126\n",
      "Banyak url film 5127\n",
      "Banyak url film 5128\n",
      "Banyak url film 5129\n",
      "Banyak url film 5130\n"
     ]
    },
    {
     "name": "stderr",
     "output_type": "stream",
     "text": [
      "2020-12-04 13:03:54 [scrapy.core.engine] DEBUG: Crawled (200) <GET https://carifilms.com/films/page/507?order=DESC&is_meta_key=0&orderby=title#038;is_meta_key=0&orderby=title> (referer: None)\n"
     ]
    },
    {
     "name": "stdout",
     "output_type": "stream",
     "text": [
      "Banyak url film 5131\n",
      "Banyak url film 5132\n",
      "Banyak url film 5133\n",
      "Banyak url film 5134\n",
      "Banyak url film 5135\n",
      "Banyak url film 5136\n",
      "Banyak url film 5137\n",
      "Banyak url film 5138\n",
      "Banyak url film 5139\n",
      "Banyak url film 5140\n"
     ]
    },
    {
     "name": "stderr",
     "output_type": "stream",
     "text": [
      "2020-12-04 13:03:57 [scrapy.core.engine] DEBUG: Crawled (200) <GET https://carifilms.com/films/page/515?order=DESC&is_meta_key=0&orderby=title#038;is_meta_key=0&orderby=title> (referer: None)\n"
     ]
    },
    {
     "name": "stdout",
     "output_type": "stream",
     "text": [
      "Banyak url film 5141\n",
      "Banyak url film 5142\n",
      "Banyak url film 5143\n",
      "Banyak url film 5144\n",
      "Banyak url film 5145\n",
      "Banyak url film 5146\n",
      "Banyak url film 5147\n",
      "Banyak url film 5148\n",
      "Banyak url film 5149\n",
      "Banyak url film 5150\n"
     ]
    },
    {
     "name": "stderr",
     "output_type": "stream",
     "text": [
      "2020-12-04 13:04:00 [scrapy.core.engine] DEBUG: Crawled (200) <GET https://carifilms.com/films/page/518?order=DESC&is_meta_key=0&orderby=title#038;is_meta_key=0&orderby=title> (referer: None)\n"
     ]
    },
    {
     "name": "stdout",
     "output_type": "stream",
     "text": [
      "Banyak url film 5151\n",
      "Banyak url film 5152\n",
      "Banyak url film 5153\n",
      "Banyak url film 5154\n",
      "Banyak url film 5155\n",
      "Banyak url film 5156\n",
      "Banyak url film 5157\n",
      "Banyak url film 5158\n",
      "Banyak url film 5159\n",
      "Banyak url film 5160\n"
     ]
    },
    {
     "name": "stderr",
     "output_type": "stream",
     "text": [
      "2020-12-04 13:04:03 [scrapy.core.engine] DEBUG: Crawled (200) <GET https://carifilms.com/films/page/521?order=DESC&is_meta_key=0&orderby=title#038;is_meta_key=0&orderby=title> (referer: None)\n"
     ]
    },
    {
     "name": "stdout",
     "output_type": "stream",
     "text": [
      "Banyak url film 5161\n",
      "Banyak url film 5162\n",
      "Banyak url film 5163\n",
      "Banyak url film 5164\n",
      "Banyak url film 5165\n",
      "Banyak url film 5166\n",
      "Banyak url film 5167\n",
      "Banyak url film 5168\n",
      "Banyak url film 5169\n",
      "Banyak url film 5170\n"
     ]
    },
    {
     "name": "stderr",
     "output_type": "stream",
     "text": [
      "2020-12-04 13:04:07 [scrapy.core.engine] DEBUG: Crawled (200) <GET https://carifilms.com/films/page/509?order=DESC&is_meta_key=0&orderby=title#038;is_meta_key=0&orderby=title> (referer: None)\n"
     ]
    },
    {
     "name": "stdout",
     "output_type": "stream",
     "text": [
      "Banyak url film 5171\n",
      "Banyak url film 5172\n",
      "Banyak url film 5173\n",
      "Banyak url film 5174\n",
      "Banyak url film 5175\n",
      "Banyak url film 5176\n",
      "Banyak url film 5177\n",
      "Banyak url film 5178\n",
      "Banyak url film 5179\n",
      "Banyak url film 5180\n"
     ]
    },
    {
     "name": "stderr",
     "output_type": "stream",
     "text": [
      "2020-12-04 13:04:10 [scrapy.core.engine] DEBUG: Crawled (200) <GET https://carifilms.com/films/page/520?order=DESC&is_meta_key=0&orderby=title#038;is_meta_key=0&orderby=title> (referer: None)\n"
     ]
    },
    {
     "name": "stdout",
     "output_type": "stream",
     "text": [
      "Banyak url film 5181\n",
      "Banyak url film 5182\n",
      "Banyak url film 5183\n",
      "Banyak url film 5184\n",
      "Banyak url film 5185\n",
      "Banyak url film 5186\n",
      "Banyak url film 5187\n",
      "Banyak url film 5188\n",
      "Banyak url film 5189\n",
      "Banyak url film 5190\n"
     ]
    },
    {
     "name": "stderr",
     "output_type": "stream",
     "text": [
      "2020-12-04 13:04:13 [scrapy.core.engine] DEBUG: Crawled (200) <GET https://carifilms.com/films/page/522?order=DESC&is_meta_key=0&orderby=title#038;is_meta_key=0&orderby=title> (referer: None)\n"
     ]
    },
    {
     "name": "stdout",
     "output_type": "stream",
     "text": [
      "Banyak url film 5191\n",
      "Banyak url film 5192\n",
      "Banyak url film 5193\n",
      "Banyak url film 5194\n",
      "Banyak url film 5195\n",
      "Banyak url film 5196\n",
      "Banyak url film 5197\n",
      "Banyak url film 5198\n",
      "Banyak url film 5199\n",
      "Banyak url film 5200\n"
     ]
    },
    {
     "name": "stderr",
     "output_type": "stream",
     "text": [
      "2020-12-04 13:04:17 [scrapy.core.engine] DEBUG: Crawled (200) <GET https://carifilms.com/films/page/516?order=DESC&is_meta_key=0&orderby=title#038;is_meta_key=0&orderby=title> (referer: None)\n"
     ]
    },
    {
     "name": "stdout",
     "output_type": "stream",
     "text": [
      "Banyak url film 5201\n",
      "Banyak url film 5202\n",
      "Banyak url film 5203\n",
      "Banyak url film 5204\n",
      "Banyak url film 5205\n",
      "Banyak url film 5206\n",
      "Banyak url film 5207\n",
      "Banyak url film 5208\n",
      "Banyak url film 5209\n",
      "Banyak url film 5210\n"
     ]
    },
    {
     "name": "stderr",
     "output_type": "stream",
     "text": [
      "2020-12-04 13:04:20 [scrapy.core.engine] DEBUG: Crawled (200) <GET https://carifilms.com/films/page/519?order=DESC&is_meta_key=0&orderby=title#038;is_meta_key=0&orderby=title> (referer: None)\n"
     ]
    },
    {
     "name": "stdout",
     "output_type": "stream",
     "text": [
      "Banyak url film 5211\n",
      "Banyak url film 5212\n",
      "Banyak url film 5213\n",
      "Banyak url film 5214\n",
      "Banyak url film 5215\n",
      "Banyak url film 5216\n",
      "Banyak url film 5217\n",
      "Banyak url film 5218\n",
      "Banyak url film 5219\n",
      "Banyak url film 5220\n"
     ]
    },
    {
     "name": "stderr",
     "output_type": "stream",
     "text": [
      "2020-12-04 13:04:23 [scrapy.core.engine] DEBUG: Crawled (200) <GET https://carifilms.com/films/page/525?order=DESC&is_meta_key=0&orderby=title#038;is_meta_key=0&orderby=title> (referer: None)\n"
     ]
    },
    {
     "name": "stdout",
     "output_type": "stream",
     "text": [
      "Banyak url film 5221\n",
      "Banyak url film 5222\n",
      "Banyak url film 5223\n",
      "Banyak url film 5224\n",
      "Banyak url film 5225\n",
      "Banyak url film 5226\n",
      "Banyak url film 5227\n",
      "Banyak url film 5228\n",
      "Banyak url film 5229\n",
      "Banyak url film 5230\n"
     ]
    },
    {
     "name": "stderr",
     "output_type": "stream",
     "text": [
      "2020-12-04 13:04:26 [scrapy.core.engine] DEBUG: Crawled (200) <GET https://carifilms.com/films/page/524?order=DESC&is_meta_key=0&orderby=title#038;is_meta_key=0&orderby=title> (referer: None)\n"
     ]
    },
    {
     "name": "stdout",
     "output_type": "stream",
     "text": [
      "Banyak url film 5231\n",
      "Banyak url film 5232\n",
      "Banyak url film 5233\n",
      "Banyak url film 5234\n",
      "Banyak url film 5235\n",
      "Banyak url film 5236\n",
      "Banyak url film 5237\n",
      "Banyak url film 5238\n",
      "Banyak url film 5239\n",
      "Banyak url film 5240\n"
     ]
    },
    {
     "name": "stderr",
     "output_type": "stream",
     "text": [
      "2020-12-04 13:04:30 [scrapy.core.engine] DEBUG: Crawled (200) <GET https://carifilms.com/films/page/530?order=DESC&is_meta_key=0&orderby=title#038;is_meta_key=0&orderby=title> (referer: None)\n"
     ]
    },
    {
     "name": "stdout",
     "output_type": "stream",
     "text": [
      "Banyak url film 5241\n",
      "Banyak url film 5242\n",
      "Banyak url film 5243\n",
      "Banyak url film 5244\n",
      "Banyak url film 5245\n",
      "Banyak url film 5246\n",
      "Banyak url film 5247\n",
      "Banyak url film 5248\n",
      "Banyak url film 5249\n",
      "Banyak url film 5250\n"
     ]
    },
    {
     "name": "stderr",
     "output_type": "stream",
     "text": [
      "2020-12-04 13:04:33 [scrapy.core.engine] DEBUG: Crawled (200) <GET https://carifilms.com/films/page/529?order=DESC&is_meta_key=0&orderby=title#038;is_meta_key=0&orderby=title> (referer: None)\n"
     ]
    },
    {
     "name": "stdout",
     "output_type": "stream",
     "text": [
      "Banyak url film 5251\n",
      "Banyak url film 5252\n",
      "Banyak url film 5253\n",
      "Banyak url film 5254\n",
      "Banyak url film 5255\n",
      "Banyak url film 5256\n",
      "Banyak url film 5257\n",
      "Banyak url film 5258\n",
      "Banyak url film 5259\n",
      "Banyak url film 5260\n"
     ]
    },
    {
     "name": "stderr",
     "output_type": "stream",
     "text": [
      "2020-12-04 13:04:36 [scrapy.core.engine] DEBUG: Crawled (200) <GET https://carifilms.com/films/page/526?order=DESC&is_meta_key=0&orderby=title#038;is_meta_key=0&orderby=title> (referer: None)\n"
     ]
    },
    {
     "name": "stdout",
     "output_type": "stream",
     "text": [
      "Banyak url film 5261\n",
      "Banyak url film 5262\n",
      "Banyak url film 5263\n",
      "Banyak url film 5264\n",
      "Banyak url film 5265\n",
      "Banyak url film 5266\n",
      "Banyak url film 5267\n",
      "Banyak url film 5268\n",
      "Banyak url film 5269\n",
      "Banyak url film 5270\n"
     ]
    },
    {
     "name": "stderr",
     "output_type": "stream",
     "text": [
      "2020-12-04 13:04:39 [scrapy.extensions.logstats] INFO: Crawled 527 pages (at 18 pages/min), scraped 0 items (at 0 items/min)\n",
      "2020-12-04 13:04:40 [scrapy.core.engine] DEBUG: Crawled (200) <GET https://carifilms.com/films/page/523?order=DESC&is_meta_key=0&orderby=title#038;is_meta_key=0&orderby=title> (referer: None)\n"
     ]
    },
    {
     "name": "stdout",
     "output_type": "stream",
     "text": [
      "Banyak url film 5271\n",
      "Banyak url film 5272\n",
      "Banyak url film 5273\n",
      "Banyak url film 5274\n",
      "Banyak url film 5275\n",
      "Banyak url film 5276\n",
      "Banyak url film 5277\n",
      "Banyak url film 5278\n",
      "Banyak url film 5279\n",
      "Banyak url film 5280\n"
     ]
    },
    {
     "name": "stderr",
     "output_type": "stream",
     "text": [
      "2020-12-04 13:04:43 [scrapy.core.engine] DEBUG: Crawled (200) <GET https://carifilms.com/films/page/527?order=DESC&is_meta_key=0&orderby=title#038;is_meta_key=0&orderby=title> (referer: None)\n"
     ]
    },
    {
     "name": "stdout",
     "output_type": "stream",
     "text": [
      "Banyak url film 5281\n",
      "Banyak url film 5282\n",
      "Banyak url film 5283\n",
      "Banyak url film 5284\n",
      "Banyak url film 5285\n",
      "Banyak url film 5286\n",
      "Banyak url film 5287\n",
      "Banyak url film 5288\n",
      "Banyak url film 5289\n",
      "Banyak url film 5290\n"
     ]
    },
    {
     "name": "stderr",
     "output_type": "stream",
     "text": [
      "2020-12-04 13:04:46 [scrapy.core.engine] DEBUG: Crawled (200) <GET https://carifilms.com/films/page/534?order=DESC&is_meta_key=0&orderby=title#038;is_meta_key=0&orderby=title> (referer: None)\n"
     ]
    },
    {
     "name": "stdout",
     "output_type": "stream",
     "text": [
      "Banyak url film 5291\n",
      "Banyak url film 5292\n",
      "Banyak url film 5293\n",
      "Banyak url film 5294\n",
      "Banyak url film 5295\n",
      "Banyak url film 5296\n",
      "Banyak url film 5297\n",
      "Banyak url film 5298\n",
      "Banyak url film 5299\n",
      "Banyak url film 5300\n"
     ]
    },
    {
     "name": "stderr",
     "output_type": "stream",
     "text": [
      "2020-12-04 13:04:49 [scrapy.core.engine] DEBUG: Crawled (200) <GET https://carifilms.com/films/page/528?order=DESC&is_meta_key=0&orderby=title#038;is_meta_key=0&orderby=title> (referer: None)\n"
     ]
    },
    {
     "name": "stdout",
     "output_type": "stream",
     "text": [
      "Banyak url film 5301\n",
      "Banyak url film 5302\n",
      "Banyak url film 5303\n",
      "Banyak url film 5304\n",
      "Banyak url film 5305\n",
      "Banyak url film 5306\n",
      "Banyak url film 5307\n",
      "Banyak url film 5308\n",
      "Banyak url film 5309\n",
      "Banyak url film 5310\n"
     ]
    },
    {
     "name": "stderr",
     "output_type": "stream",
     "text": [
      "2020-12-04 13:04:53 [scrapy.core.engine] DEBUG: Crawled (200) <GET https://carifilms.com/films/page/535?order=DESC&is_meta_key=0&orderby=title#038;is_meta_key=0&orderby=title> (referer: None)\n"
     ]
    },
    {
     "name": "stdout",
     "output_type": "stream",
     "text": [
      "Banyak url film 5311\n",
      "Banyak url film 5312\n",
      "Banyak url film 5313\n",
      "Banyak url film 5314\n",
      "Banyak url film 5315\n",
      "Banyak url film 5316\n",
      "Banyak url film 5317\n",
      "Banyak url film 5318\n",
      "Banyak url film 5319\n",
      "Banyak url film 5320\n"
     ]
    },
    {
     "name": "stderr",
     "output_type": "stream",
     "text": [
      "2020-12-04 13:04:56 [scrapy.core.engine] DEBUG: Crawled (200) <GET https://carifilms.com/films/page/532?order=DESC&is_meta_key=0&orderby=title#038;is_meta_key=0&orderby=title> (referer: None)\n"
     ]
    },
    {
     "name": "stdout",
     "output_type": "stream",
     "text": [
      "Banyak url film 5321\n",
      "Banyak url film 5322\n",
      "Banyak url film 5323\n",
      "Banyak url film 5324\n",
      "Banyak url film 5325\n",
      "Banyak url film 5326\n",
      "Banyak url film 5327\n",
      "Banyak url film 5328\n",
      "Banyak url film 5329\n",
      "Banyak url film 5330\n"
     ]
    },
    {
     "name": "stderr",
     "output_type": "stream",
     "text": [
      "2020-12-04 13:04:59 [scrapy.core.engine] DEBUG: Crawled (200) <GET https://carifilms.com/films/page/537?order=DESC&is_meta_key=0&orderby=title#038;is_meta_key=0&orderby=title> (referer: None)\n"
     ]
    },
    {
     "name": "stdout",
     "output_type": "stream",
     "text": [
      "Banyak url film 5331\n",
      "Banyak url film 5332\n",
      "Banyak url film 5333\n",
      "Banyak url film 5334\n",
      "Banyak url film 5335\n",
      "Banyak url film 5336\n",
      "Banyak url film 5337\n",
      "Banyak url film 5338\n",
      "Banyak url film 5339\n",
      "Banyak url film 5340\n"
     ]
    },
    {
     "name": "stderr",
     "output_type": "stream",
     "text": [
      "2020-12-04 13:05:03 [scrapy.core.engine] DEBUG: Crawled (200) <GET https://carifilms.com/films/page/531?order=DESC&is_meta_key=0&orderby=title#038;is_meta_key=0&orderby=title> (referer: None)\n"
     ]
    },
    {
     "name": "stdout",
     "output_type": "stream",
     "text": [
      "Banyak url film 5341\n",
      "Banyak url film 5342\n",
      "Banyak url film 5343\n",
      "Banyak url film 5344\n",
      "Banyak url film 5345\n",
      "Banyak url film 5346\n",
      "Banyak url film 5347\n",
      "Banyak url film 5348\n",
      "Banyak url film 5349\n",
      "Banyak url film 5350\n"
     ]
    },
    {
     "name": "stderr",
     "output_type": "stream",
     "text": [
      "2020-12-04 13:05:06 [scrapy.core.engine] DEBUG: Crawled (200) <GET https://carifilms.com/films/page/536?order=DESC&is_meta_key=0&orderby=title#038;is_meta_key=0&orderby=title> (referer: None)\n"
     ]
    },
    {
     "name": "stdout",
     "output_type": "stream",
     "text": [
      "Banyak url film 5351\n",
      "Banyak url film 5352\n",
      "Banyak url film 5353\n",
      "Banyak url film 5354\n",
      "Banyak url film 5355\n",
      "Banyak url film 5356\n",
      "Banyak url film 5357\n",
      "Banyak url film 5358\n",
      "Banyak url film 5359\n",
      "Banyak url film 5360\n"
     ]
    },
    {
     "name": "stderr",
     "output_type": "stream",
     "text": [
      "2020-12-04 13:05:09 [scrapy.core.engine] DEBUG: Crawled (200) <GET https://carifilms.com/films/page/533?order=DESC&is_meta_key=0&orderby=title#038;is_meta_key=0&orderby=title> (referer: None)\n"
     ]
    },
    {
     "name": "stdout",
     "output_type": "stream",
     "text": [
      "Banyak url film 5361\n",
      "Banyak url film 5362\n",
      "Banyak url film 5363\n",
      "Banyak url film 5364\n",
      "Banyak url film 5365\n",
      "Banyak url film 5366\n",
      "Banyak url film 5367\n",
      "Banyak url film 5368\n",
      "Banyak url film 5369\n",
      "Banyak url film 5370\n"
     ]
    },
    {
     "name": "stderr",
     "output_type": "stream",
     "text": [
      "2020-12-04 13:05:13 [scrapy.core.engine] DEBUG: Crawled (200) <GET https://carifilms.com/films/page/543?order=DESC&is_meta_key=0&orderby=title#038;is_meta_key=0&orderby=title> (referer: None)\n"
     ]
    },
    {
     "name": "stdout",
     "output_type": "stream",
     "text": [
      "Banyak url film 5371\n",
      "Banyak url film 5372\n",
      "Banyak url film 5373\n",
      "Banyak url film 5374\n",
      "Banyak url film 5375\n",
      "Banyak url film 5376\n",
      "Banyak url film 5377\n",
      "Banyak url film 5378\n",
      "Banyak url film 5379\n",
      "Banyak url film 5380\n"
     ]
    },
    {
     "name": "stderr",
     "output_type": "stream",
     "text": [
      "2020-12-04 13:05:16 [scrapy.core.engine] DEBUG: Crawled (200) <GET https://carifilms.com/films/page/538?order=DESC&is_meta_key=0&orderby=title#038;is_meta_key=0&orderby=title> (referer: None)\n"
     ]
    },
    {
     "name": "stdout",
     "output_type": "stream",
     "text": [
      "Banyak url film 5381\n",
      "Banyak url film 5382\n",
      "Banyak url film 5383\n",
      "Banyak url film 5384\n",
      "Banyak url film 5385\n",
      "Banyak url film 5386\n",
      "Banyak url film 5387\n",
      "Banyak url film 5388\n",
      "Banyak url film 5389\n",
      "Banyak url film 5390\n"
     ]
    },
    {
     "name": "stderr",
     "output_type": "stream",
     "text": [
      "2020-12-04 13:05:19 [scrapy.core.engine] DEBUG: Crawled (200) <GET https://carifilms.com/films/page/539?order=DESC&is_meta_key=0&orderby=title#038;is_meta_key=0&orderby=title> (referer: None)\n"
     ]
    },
    {
     "name": "stdout",
     "output_type": "stream",
     "text": [
      "Banyak url film 5391\n",
      "Banyak url film 5392\n",
      "Banyak url film 5393\n",
      "Banyak url film 5394\n",
      "Banyak url film 5395\n",
      "Banyak url film 5396\n",
      "Banyak url film 5397\n",
      "Banyak url film 5398\n",
      "Banyak url film 5399\n",
      "Banyak url film 5400\n"
     ]
    },
    {
     "name": "stderr",
     "output_type": "stream",
     "text": [
      "2020-12-04 13:05:22 [scrapy.core.engine] DEBUG: Crawled (200) <GET https://carifilms.com/films/page/546?order=DESC&is_meta_key=0&orderby=title#038;is_meta_key=0&orderby=title> (referer: None)\n"
     ]
    },
    {
     "name": "stdout",
     "output_type": "stream",
     "text": [
      "Banyak url film 5401\n",
      "Banyak url film 5402\n",
      "Banyak url film 5403\n",
      "Banyak url film 5404\n",
      "Banyak url film 5405\n",
      "Banyak url film 5406\n",
      "Banyak url film 5407\n",
      "Banyak url film 5408\n",
      "Banyak url film 5409\n",
      "Banyak url film 5410\n"
     ]
    },
    {
     "name": "stderr",
     "output_type": "stream",
     "text": [
      "2020-12-04 13:05:26 [scrapy.core.engine] DEBUG: Crawled (200) <GET https://carifilms.com/films/page/542?order=DESC&is_meta_key=0&orderby=title#038;is_meta_key=0&orderby=title> (referer: None)\n"
     ]
    },
    {
     "name": "stdout",
     "output_type": "stream",
     "text": [
      "Banyak url film 5411\n",
      "Banyak url film 5412\n",
      "Banyak url film 5413\n",
      "Banyak url film 5414\n",
      "Banyak url film 5415\n",
      "Banyak url film 5416\n",
      "Banyak url film 5417\n",
      "Banyak url film 5418\n",
      "Banyak url film 5419\n",
      "Banyak url film 5420\n"
     ]
    },
    {
     "name": "stderr",
     "output_type": "stream",
     "text": [
      "2020-12-04 13:05:29 [scrapy.core.engine] DEBUG: Crawled (200) <GET https://carifilms.com/films/page/541?order=DESC&is_meta_key=0&orderby=title#038;is_meta_key=0&orderby=title> (referer: None)\n"
     ]
    },
    {
     "name": "stdout",
     "output_type": "stream",
     "text": [
      "Banyak url film 5421\n",
      "Banyak url film 5422\n",
      "Banyak url film 5423\n",
      "Banyak url film 5424\n",
      "Banyak url film 5425\n",
      "Banyak url film 5426\n",
      "Banyak url film 5427\n",
      "Banyak url film 5428\n",
      "Banyak url film 5429\n",
      "Banyak url film 5430\n"
     ]
    },
    {
     "name": "stderr",
     "output_type": "stream",
     "text": [
      "2020-12-04 13:05:32 [scrapy.core.engine] DEBUG: Crawled (200) <GET https://carifilms.com/films/page/545?order=DESC&is_meta_key=0&orderby=title#038;is_meta_key=0&orderby=title> (referer: None)\n"
     ]
    },
    {
     "name": "stdout",
     "output_type": "stream",
     "text": [
      "Banyak url film 5431\n",
      "Banyak url film 5432\n",
      "Banyak url film 5433\n",
      "Banyak url film 5434\n",
      "Banyak url film 5435\n",
      "Banyak url film 5436\n",
      "Banyak url film 5437\n",
      "Banyak url film 5438\n",
      "Banyak url film 5439\n",
      "Banyak url film 5440\n"
     ]
    },
    {
     "name": "stderr",
     "output_type": "stream",
     "text": [
      "2020-12-04 13:05:36 [scrapy.core.engine] DEBUG: Crawled (200) <GET https://carifilms.com/films/page/547?order=DESC&is_meta_key=0&orderby=title#038;is_meta_key=0&orderby=title> (referer: None)\n"
     ]
    },
    {
     "name": "stdout",
     "output_type": "stream",
     "text": [
      "Banyak url film 5441\n",
      "Banyak url film 5442\n",
      "Banyak url film 5443\n",
      "Banyak url film 5444\n",
      "Banyak url film 5445\n",
      "Banyak url film 5446\n",
      "Banyak url film 5447\n",
      "Banyak url film 5448\n",
      "Banyak url film 5449\n",
      "Banyak url film 5450\n"
     ]
    },
    {
     "name": "stderr",
     "output_type": "stream",
     "text": [
      "2020-12-04 13:05:39 [scrapy.extensions.logstats] INFO: Crawled 545 pages (at 18 pages/min), scraped 0 items (at 0 items/min)\n",
      "2020-12-04 13:05:39 [scrapy.core.engine] DEBUG: Crawled (200) <GET https://carifilms.com/films/page/548?order=DESC&is_meta_key=0&orderby=title#038;is_meta_key=0&orderby=title> (referer: None)\n"
     ]
    },
    {
     "name": "stdout",
     "output_type": "stream",
     "text": [
      "Banyak url film 5451\n",
      "Banyak url film 5452\n",
      "Banyak url film 5453\n",
      "Banyak url film 5454\n",
      "Banyak url film 5455\n",
      "Banyak url film 5456\n",
      "Banyak url film 5457\n",
      "Banyak url film 5458\n",
      "Banyak url film 5459\n",
      "Banyak url film 5460\n"
     ]
    },
    {
     "name": "stderr",
     "output_type": "stream",
     "text": [
      "2020-12-04 13:05:42 [scrapy.core.engine] DEBUG: Crawled (200) <GET https://carifilms.com/films/page/549?order=DESC&is_meta_key=0&orderby=title#038;is_meta_key=0&orderby=title> (referer: None)\n"
     ]
    },
    {
     "name": "stdout",
     "output_type": "stream",
     "text": [
      "Banyak url film 5461\n",
      "Banyak url film 5462\n",
      "Banyak url film 5463\n",
      "Banyak url film 5464\n",
      "Banyak url film 5465\n",
      "Banyak url film 5466\n",
      "Banyak url film 5467\n",
      "Banyak url film 5468\n",
      "Banyak url film 5469\n",
      "Banyak url film 5470\n"
     ]
    },
    {
     "name": "stderr",
     "output_type": "stream",
     "text": [
      "2020-12-04 13:05:46 [scrapy.core.engine] DEBUG: Crawled (200) <GET https://carifilms.com/films/page/540?order=DESC&is_meta_key=0&orderby=title#038;is_meta_key=0&orderby=title> (referer: None)\n"
     ]
    },
    {
     "name": "stdout",
     "output_type": "stream",
     "text": [
      "Banyak url film 5471\n",
      "Banyak url film 5472\n",
      "Banyak url film 5473\n",
      "Banyak url film 5474\n",
      "Banyak url film 5475\n",
      "Banyak url film 5476\n",
      "Banyak url film 5477\n",
      "Banyak url film 5478\n",
      "Banyak url film 5479\n",
      "Banyak url film 5480\n"
     ]
    },
    {
     "name": "stderr",
     "output_type": "stream",
     "text": [
      "2020-12-04 13:05:49 [scrapy.core.engine] DEBUG: Crawled (200) <GET https://carifilms.com/films/page/544?order=DESC&is_meta_key=0&orderby=title#038;is_meta_key=0&orderby=title> (referer: None)\n"
     ]
    },
    {
     "name": "stdout",
     "output_type": "stream",
     "text": [
      "Banyak url film 5481\n",
      "Banyak url film 5482\n",
      "Banyak url film 5483\n",
      "Banyak url film 5484\n",
      "Banyak url film 5485\n",
      "Banyak url film 5486\n",
      "Banyak url film 5487\n",
      "Banyak url film 5488\n",
      "Banyak url film 5489\n",
      "Banyak url film 5490\n"
     ]
    },
    {
     "name": "stderr",
     "output_type": "stream",
     "text": [
      "2020-12-04 13:05:52 [scrapy.core.engine] DEBUG: Crawled (200) <GET https://carifilms.com/films/page/550?order=DESC&is_meta_key=0&orderby=title#038;is_meta_key=0&orderby=title> (referer: None)\n"
     ]
    },
    {
     "name": "stdout",
     "output_type": "stream",
     "text": [
      "Banyak url film 5491\n",
      "Banyak url film 5492\n",
      "Banyak url film 5493\n",
      "Banyak url film 5494\n",
      "Banyak url film 5495\n",
      "Banyak url film 5496\n",
      "Banyak url film 5497\n",
      "Banyak url film 5498\n",
      "Banyak url film 5499\n",
      "Banyak url film 5500\n"
     ]
    },
    {
     "name": "stderr",
     "output_type": "stream",
     "text": [
      "2020-12-04 13:05:55 [scrapy.core.engine] DEBUG: Crawled (200) <GET https://carifilms.com/films/page/553?order=DESC&is_meta_key=0&orderby=title#038;is_meta_key=0&orderby=title> (referer: None)\n"
     ]
    },
    {
     "name": "stdout",
     "output_type": "stream",
     "text": [
      "Banyak url film 5501\n",
      "Banyak url film 5502\n",
      "Banyak url film 5503\n",
      "Banyak url film 5504\n",
      "Banyak url film 5505\n",
      "Banyak url film 5506\n",
      "Banyak url film 5507\n",
      "Banyak url film 5508\n",
      "Banyak url film 5509\n",
      "Banyak url film 5510\n"
     ]
    },
    {
     "name": "stderr",
     "output_type": "stream",
     "text": [
      "2020-12-04 13:05:59 [scrapy.core.engine] DEBUG: Crawled (200) <GET https://carifilms.com/films/page/552?order=DESC&is_meta_key=0&orderby=title#038;is_meta_key=0&orderby=title> (referer: None)\n"
     ]
    },
    {
     "name": "stdout",
     "output_type": "stream",
     "text": [
      "Banyak url film 5511\n",
      "Banyak url film 5512\n",
      "Banyak url film 5513\n",
      "Banyak url film 5514\n",
      "Banyak url film 5515\n",
      "Banyak url film 5516\n",
      "Banyak url film 5517\n",
      "Banyak url film 5518\n",
      "Banyak url film 5519\n",
      "Banyak url film 5520\n"
     ]
    },
    {
     "name": "stderr",
     "output_type": "stream",
     "text": [
      "2020-12-04 13:06:02 [scrapy.core.engine] DEBUG: Crawled (200) <GET https://carifilms.com/films/page/558?order=DESC&is_meta_key=0&orderby=title#038;is_meta_key=0&orderby=title> (referer: None)\n"
     ]
    },
    {
     "name": "stdout",
     "output_type": "stream",
     "text": [
      "Banyak url film 5521\n",
      "Banyak url film 5522\n",
      "Banyak url film 5523\n",
      "Banyak url film 5524\n",
      "Banyak url film 5525\n",
      "Banyak url film 5526\n",
      "Banyak url film 5527\n",
      "Banyak url film 5528\n",
      "Banyak url film 5529\n",
      "Banyak url film 5530\n"
     ]
    },
    {
     "name": "stderr",
     "output_type": "stream",
     "text": [
      "2020-12-04 13:06:05 [scrapy.core.engine] DEBUG: Crawled (200) <GET https://carifilms.com/films/page/556?order=DESC&is_meta_key=0&orderby=title#038;is_meta_key=0&orderby=title> (referer: None)\n"
     ]
    },
    {
     "name": "stdout",
     "output_type": "stream",
     "text": [
      "Banyak url film 5531\n",
      "Banyak url film 5532\n",
      "Banyak url film 5533\n",
      "Banyak url film 5534\n",
      "Banyak url film 5535\n",
      "Banyak url film 5536\n",
      "Banyak url film 5537\n",
      "Banyak url film 5538\n",
      "Banyak url film 5539\n",
      "Banyak url film 5540\n"
     ]
    },
    {
     "name": "stderr",
     "output_type": "stream",
     "text": [
      "2020-12-04 13:06:09 [scrapy.core.engine] DEBUG: Crawled (200) <GET https://carifilms.com/films/page/551?order=DESC&is_meta_key=0&orderby=title#038;is_meta_key=0&orderby=title> (referer: None)\n"
     ]
    },
    {
     "name": "stdout",
     "output_type": "stream",
     "text": [
      "Banyak url film 5541\n",
      "Banyak url film 5542\n",
      "Banyak url film 5543\n",
      "Banyak url film 5544\n",
      "Banyak url film 5545\n",
      "Banyak url film 5546\n",
      "Banyak url film 5547\n",
      "Banyak url film 5548\n",
      "Banyak url film 5549\n",
      "Banyak url film 5550\n"
     ]
    },
    {
     "name": "stderr",
     "output_type": "stream",
     "text": [
      "2020-12-04 13:06:12 [scrapy.core.engine] DEBUG: Crawled (200) <GET https://carifilms.com/films/page/559?order=DESC&is_meta_key=0&orderby=title#038;is_meta_key=0&orderby=title> (referer: None)\n"
     ]
    },
    {
     "name": "stdout",
     "output_type": "stream",
     "text": [
      "Banyak url film 5551\n",
      "Banyak url film 5552\n",
      "Banyak url film 5553\n",
      "Banyak url film 5554\n",
      "Banyak url film 5555\n",
      "Banyak url film 5556\n",
      "Banyak url film 5557\n",
      "Banyak url film 5558\n",
      "Banyak url film 5559\n",
      "Banyak url film 5560\n"
     ]
    },
    {
     "name": "stderr",
     "output_type": "stream",
     "text": [
      "2020-12-04 13:06:15 [scrapy.core.engine] DEBUG: Crawled (200) <GET https://carifilms.com/films/page/554?order=DESC&is_meta_key=0&orderby=title#038;is_meta_key=0&orderby=title> (referer: None)\n"
     ]
    },
    {
     "name": "stdout",
     "output_type": "stream",
     "text": [
      "Banyak url film 5561\n",
      "Banyak url film 5562\n",
      "Banyak url film 5563\n",
      "Banyak url film 5564\n",
      "Banyak url film 5565\n",
      "Banyak url film 5566\n",
      "Banyak url film 5567\n",
      "Banyak url film 5568\n",
      "Banyak url film 5569\n",
      "Banyak url film 5570\n"
     ]
    },
    {
     "name": "stderr",
     "output_type": "stream",
     "text": [
      "2020-12-04 13:06:18 [scrapy.core.engine] DEBUG: Crawled (200) <GET https://carifilms.com/films/page/557?order=DESC&is_meta_key=0&orderby=title#038;is_meta_key=0&orderby=title> (referer: None)\n"
     ]
    },
    {
     "name": "stdout",
     "output_type": "stream",
     "text": [
      "Banyak url film 5571\n",
      "Banyak url film 5572\n",
      "Banyak url film 5573\n",
      "Banyak url film 5574\n",
      "Banyak url film 5575\n",
      "Banyak url film 5576\n",
      "Banyak url film 5577\n",
      "Banyak url film 5578\n",
      "Banyak url film 5579\n",
      "Banyak url film 5580\n"
     ]
    },
    {
     "name": "stderr",
     "output_type": "stream",
     "text": [
      "2020-12-04 13:06:22 [scrapy.core.engine] DEBUG: Crawled (200) <GET https://carifilms.com/films/page/561?order=DESC&is_meta_key=0&orderby=title#038;is_meta_key=0&orderby=title> (referer: None)\n"
     ]
    },
    {
     "name": "stdout",
     "output_type": "stream",
     "text": [
      "Banyak url film 5581\n",
      "Banyak url film 5582\n",
      "Banyak url film 5583\n",
      "Banyak url film 5584\n",
      "Banyak url film 5585\n",
      "Banyak url film 5586\n",
      "Banyak url film 5587\n",
      "Banyak url film 5588\n",
      "Banyak url film 5589\n",
      "Banyak url film 5590\n"
     ]
    },
    {
     "name": "stderr",
     "output_type": "stream",
     "text": [
      "2020-12-04 13:06:25 [scrapy.core.engine] DEBUG: Crawled (200) <GET https://carifilms.com/films/page/562?order=DESC&is_meta_key=0&orderby=title#038;is_meta_key=0&orderby=title> (referer: None)\n"
     ]
    },
    {
     "name": "stdout",
     "output_type": "stream",
     "text": [
      "Banyak url film 5591\n",
      "Banyak url film 5592\n",
      "Banyak url film 5593\n",
      "Banyak url film 5594\n",
      "Banyak url film 5595\n",
      "Banyak url film 5596\n",
      "Banyak url film 5597\n",
      "Banyak url film 5598\n",
      "Banyak url film 5599\n",
      "Banyak url film 5600\n"
     ]
    },
    {
     "name": "stderr",
     "output_type": "stream",
     "text": [
      "2020-12-04 13:06:29 [scrapy.core.engine] DEBUG: Crawled (200) <GET https://carifilms.com/films/page/564?order=DESC&is_meta_key=0&orderby=title#038;is_meta_key=0&orderby=title> (referer: None)\n"
     ]
    },
    {
     "name": "stdout",
     "output_type": "stream",
     "text": [
      "Banyak url film 5601\n",
      "Banyak url film 5602\n",
      "Banyak url film 5603\n",
      "Banyak url film 5604\n",
      "Banyak url film 5605\n",
      "Banyak url film 5606\n",
      "Banyak url film 5607\n",
      "Banyak url film 5608\n",
      "Banyak url film 5609\n",
      "Banyak url film 5610\n"
     ]
    },
    {
     "name": "stderr",
     "output_type": "stream",
     "text": [
      "2020-12-04 13:06:32 [scrapy.core.engine] DEBUG: Crawled (200) <GET https://carifilms.com/films/page/555?order=DESC&is_meta_key=0&orderby=title#038;is_meta_key=0&orderby=title> (referer: None)\n"
     ]
    },
    {
     "name": "stdout",
     "output_type": "stream",
     "text": [
      "Banyak url film 5611\n",
      "Banyak url film 5612\n",
      "Banyak url film 5613\n",
      "Banyak url film 5614\n",
      "Banyak url film 5615\n",
      "Banyak url film 5616\n",
      "Banyak url film 5617\n",
      "Banyak url film 5618\n",
      "Banyak url film 5619\n",
      "Banyak url film 5620\n"
     ]
    },
    {
     "name": "stderr",
     "output_type": "stream",
     "text": [
      "2020-12-04 13:06:35 [scrapy.core.engine] DEBUG: Crawled (200) <GET https://carifilms.com/films/page/565?order=DESC&is_meta_key=0&orderby=title#038;is_meta_key=0&orderby=title> (referer: None)\n"
     ]
    },
    {
     "name": "stdout",
     "output_type": "stream",
     "text": [
      "Banyak url film 5621\n",
      "Banyak url film 5622\n",
      "Banyak url film 5623\n",
      "Banyak url film 5624\n",
      "Banyak url film 5625\n",
      "Banyak url film 5626\n",
      "Banyak url film 5627\n",
      "Banyak url film 5628\n",
      "Banyak url film 5629\n",
      "Banyak url film 5630\n"
     ]
    },
    {
     "name": "stderr",
     "output_type": "stream",
     "text": [
      "2020-12-04 13:06:39 [scrapy.core.engine] DEBUG: Crawled (200) <GET https://carifilms.com/films/page/563?order=DESC&is_meta_key=0&orderby=title#038;is_meta_key=0&orderby=title> (referer: None)\n",
      "2020-12-04 13:06:39 [scrapy.extensions.logstats] INFO: Crawled 564 pages (at 19 pages/min), scraped 0 items (at 0 items/min)\n"
     ]
    },
    {
     "name": "stdout",
     "output_type": "stream",
     "text": [
      "Banyak url film 5631\n",
      "Banyak url film 5632\n",
      "Banyak url film 5633\n",
      "Banyak url film 5634\n",
      "Banyak url film 5635\n",
      "Banyak url film 5636\n",
      "Banyak url film 5637\n",
      "Banyak url film 5638\n",
      "Banyak url film 5639\n",
      "Banyak url film 5640\n"
     ]
    },
    {
     "name": "stderr",
     "output_type": "stream",
     "text": [
      "2020-12-04 13:06:42 [scrapy.core.engine] DEBUG: Crawled (200) <GET https://carifilms.com/films/page/560?order=DESC&is_meta_key=0&orderby=title#038;is_meta_key=0&orderby=title> (referer: None)\n"
     ]
    },
    {
     "name": "stdout",
     "output_type": "stream",
     "text": [
      "Banyak url film 5641\n",
      "Banyak url film 5642\n",
      "Banyak url film 5643\n",
      "Banyak url film 5644\n",
      "Banyak url film 5645\n",
      "Banyak url film 5646\n",
      "Banyak url film 5647\n",
      "Banyak url film 5648\n",
      "Banyak url film 5649\n",
      "Banyak url film 5650\n"
     ]
    },
    {
     "name": "stderr",
     "output_type": "stream",
     "text": [
      "2020-12-04 13:06:45 [scrapy.core.engine] DEBUG: Crawled (200) <GET https://carifilms.com/films/page/566?order=DESC&is_meta_key=0&orderby=title#038;is_meta_key=0&orderby=title> (referer: None)\n"
     ]
    },
    {
     "name": "stdout",
     "output_type": "stream",
     "text": [
      "Banyak url film 5651\n",
      "Banyak url film 5652\n",
      "Banyak url film 5653\n",
      "Banyak url film 5654\n",
      "Banyak url film 5655\n",
      "Banyak url film 5656\n",
      "Banyak url film 5657\n",
      "Banyak url film 5658\n",
      "Banyak url film 5659\n",
      "Banyak url film 5660\n"
     ]
    },
    {
     "name": "stderr",
     "output_type": "stream",
     "text": [
      "2020-12-04 13:06:49 [scrapy.core.engine] DEBUG: Crawled (200) <GET https://carifilms.com/films/page/569?order=DESC&is_meta_key=0&orderby=title#038;is_meta_key=0&orderby=title> (referer: None)\n"
     ]
    },
    {
     "name": "stdout",
     "output_type": "stream",
     "text": [
      "Banyak url film 5661\n",
      "Banyak url film 5662\n",
      "Banyak url film 5663\n",
      "Banyak url film 5664\n",
      "Banyak url film 5665\n",
      "Banyak url film 5666\n",
      "Banyak url film 5667\n",
      "Banyak url film 5668\n",
      "Banyak url film 5669\n",
      "Banyak url film 5670\n"
     ]
    },
    {
     "name": "stderr",
     "output_type": "stream",
     "text": [
      "2020-12-04 13:06:52 [scrapy.core.engine] DEBUG: Crawled (200) <GET https://carifilms.com/films/page/570?order=DESC&is_meta_key=0&orderby=title#038;is_meta_key=0&orderby=title> (referer: None)\n"
     ]
    },
    {
     "name": "stdout",
     "output_type": "stream",
     "text": [
      "Banyak url film 5671\n",
      "Banyak url film 5672\n",
      "Banyak url film 5673\n",
      "Banyak url film 5674\n",
      "Banyak url film 5675\n",
      "Banyak url film 5676\n",
      "Banyak url film 5677\n",
      "Banyak url film 5678\n",
      "Banyak url film 5679\n",
      "Banyak url film 5680\n"
     ]
    },
    {
     "name": "stderr",
     "output_type": "stream",
     "text": [
      "2020-12-04 13:06:55 [scrapy.core.engine] DEBUG: Crawled (200) <GET https://carifilms.com/films/page/571?order=DESC&is_meta_key=0&orderby=title#038;is_meta_key=0&orderby=title> (referer: None)\n"
     ]
    },
    {
     "name": "stdout",
     "output_type": "stream",
     "text": [
      "Banyak url film 5681\n",
      "Banyak url film 5682\n",
      "Banyak url film 5683\n",
      "Banyak url film 5684\n",
      "Banyak url film 5685\n",
      "Banyak url film 5686\n",
      "Banyak url film 5687\n",
      "Banyak url film 5688\n",
      "Banyak url film 5689\n",
      "Banyak url film 5690\n"
     ]
    },
    {
     "name": "stderr",
     "output_type": "stream",
     "text": [
      "2020-12-04 13:06:59 [scrapy.core.engine] DEBUG: Crawled (200) <GET https://carifilms.com/films/page/568?order=DESC&is_meta_key=0&orderby=title#038;is_meta_key=0&orderby=title> (referer: None)\n"
     ]
    },
    {
     "name": "stdout",
     "output_type": "stream",
     "text": [
      "Banyak url film 5691\n",
      "Banyak url film 5692\n",
      "Banyak url film 5693\n",
      "Banyak url film 5694\n",
      "Banyak url film 5695\n",
      "Banyak url film 5696\n",
      "Banyak url film 5697\n",
      "Banyak url film 5698\n",
      "Banyak url film 5699\n",
      "Banyak url film 5700\n"
     ]
    },
    {
     "name": "stderr",
     "output_type": "stream",
     "text": [
      "2020-12-04 13:07:02 [scrapy.core.engine] DEBUG: Crawled (200) <GET https://carifilms.com/films/page/573?order=DESC&is_meta_key=0&orderby=title#038;is_meta_key=0&orderby=title> (referer: None)\n"
     ]
    },
    {
     "name": "stdout",
     "output_type": "stream",
     "text": [
      "Banyak url film 5701\n",
      "Banyak url film 5702\n",
      "Banyak url film 5703\n",
      "Banyak url film 5704\n",
      "Banyak url film 5705\n",
      "Banyak url film 5706\n",
      "Banyak url film 5707\n",
      "Banyak url film 5708\n",
      "Banyak url film 5709\n",
      "Banyak url film 5710\n"
     ]
    },
    {
     "name": "stderr",
     "output_type": "stream",
     "text": [
      "2020-12-04 13:07:06 [scrapy.core.engine] DEBUG: Crawled (200) <GET https://carifilms.com/films/page/572?order=DESC&is_meta_key=0&orderby=title#038;is_meta_key=0&orderby=title> (referer: None)\n"
     ]
    },
    {
     "name": "stdout",
     "output_type": "stream",
     "text": [
      "Banyak url film 5711\n",
      "Banyak url film 5712\n",
      "Banyak url film 5713\n",
      "Banyak url film 5714\n",
      "Banyak url film 5715\n",
      "Banyak url film 5716\n",
      "Banyak url film 5717\n",
      "Banyak url film 5718\n",
      "Banyak url film 5719\n",
      "Banyak url film 5720\n"
     ]
    },
    {
     "name": "stderr",
     "output_type": "stream",
     "text": [
      "2020-12-04 13:07:09 [scrapy.core.engine] DEBUG: Crawled (200) <GET https://carifilms.com/films/page/574?order=DESC&is_meta_key=0&orderby=title#038;is_meta_key=0&orderby=title> (referer: None)\n"
     ]
    },
    {
     "name": "stdout",
     "output_type": "stream",
     "text": [
      "Banyak url film 5721\n",
      "Banyak url film 5722\n",
      "Banyak url film 5723\n",
      "Banyak url film 5724\n",
      "Banyak url film 5725\n",
      "Banyak url film 5726\n",
      "Banyak url film 5727\n",
      "Banyak url film 5728\n",
      "Banyak url film 5729\n",
      "Banyak url film 5730\n"
     ]
    },
    {
     "name": "stderr",
     "output_type": "stream",
     "text": [
      "2020-12-04 13:07:12 [scrapy.core.engine] DEBUG: Crawled (200) <GET https://carifilms.com/films/page/575?order=DESC&is_meta_key=0&orderby=title#038;is_meta_key=0&orderby=title> (referer: None)\n"
     ]
    },
    {
     "name": "stdout",
     "output_type": "stream",
     "text": [
      "Banyak url film 5731\n",
      "Banyak url film 5732\n",
      "Banyak url film 5733\n",
      "Banyak url film 5734\n",
      "Banyak url film 5735\n",
      "Banyak url film 5736\n",
      "Banyak url film 5737\n",
      "Banyak url film 5738\n",
      "Banyak url film 5739\n",
      "Banyak url film 5740\n"
     ]
    },
    {
     "name": "stderr",
     "output_type": "stream",
     "text": [
      "2020-12-04 13:07:16 [scrapy.core.engine] DEBUG: Crawled (200) <GET https://carifilms.com/films/page/567?order=DESC&is_meta_key=0&orderby=title#038;is_meta_key=0&orderby=title> (referer: None)\n"
     ]
    },
    {
     "name": "stdout",
     "output_type": "stream",
     "text": [
      "Banyak url film 5741\n",
      "Banyak url film 5742\n",
      "Banyak url film 5743\n",
      "Banyak url film 5744\n",
      "Banyak url film 5745\n",
      "Banyak url film 5746\n",
      "Banyak url film 5747\n",
      "Banyak url film 5748\n",
      "Banyak url film 5749\n",
      "Banyak url film 5750\n"
     ]
    },
    {
     "name": "stderr",
     "output_type": "stream",
     "text": [
      "2020-12-04 13:07:19 [scrapy.core.engine] DEBUG: Crawled (200) <GET https://carifilms.com/films/page/578?order=DESC&is_meta_key=0&orderby=title#038;is_meta_key=0&orderby=title> (referer: None)\n"
     ]
    },
    {
     "name": "stdout",
     "output_type": "stream",
     "text": [
      "Banyak url film 5751\n",
      "Banyak url film 5752\n",
      "Banyak url film 5753\n",
      "Banyak url film 5754\n",
      "Banyak url film 5755\n",
      "Banyak url film 5756\n",
      "Banyak url film 5757\n",
      "Banyak url film 5758\n",
      "Banyak url film 5759\n",
      "Banyak url film 5760\n"
     ]
    },
    {
     "name": "stderr",
     "output_type": "stream",
     "text": [
      "2020-12-04 13:07:23 [scrapy.core.engine] DEBUG: Crawled (200) <GET https://carifilms.com/films/page/581?order=DESC&is_meta_key=0&orderby=title#038;is_meta_key=0&orderby=title> (referer: None)\n"
     ]
    },
    {
     "name": "stdout",
     "output_type": "stream",
     "text": [
      "Banyak url film 5761\n",
      "Banyak url film 5762\n",
      "Banyak url film 5763\n",
      "Banyak url film 5764\n",
      "Banyak url film 5765\n",
      "Banyak url film 5766\n",
      "Banyak url film 5767\n",
      "Banyak url film 5768\n",
      "Banyak url film 5769\n",
      "Banyak url film 5770\n"
     ]
    },
    {
     "name": "stderr",
     "output_type": "stream",
     "text": [
      "2020-12-04 13:07:26 [scrapy.core.engine] DEBUG: Crawled (200) <GET https://carifilms.com/films/page/579?order=DESC&is_meta_key=0&orderby=title#038;is_meta_key=0&orderby=title> (referer: None)\n"
     ]
    },
    {
     "name": "stdout",
     "output_type": "stream",
     "text": [
      "Banyak url film 5771\n",
      "Banyak url film 5772\n",
      "Banyak url film 5773\n",
      "Banyak url film 5774\n",
      "Banyak url film 5775\n",
      "Banyak url film 5776\n",
      "Banyak url film 5777\n",
      "Banyak url film 5778\n",
      "Banyak url film 5779\n",
      "Banyak url film 5780\n"
     ]
    },
    {
     "name": "stderr",
     "output_type": "stream",
     "text": [
      "2020-12-04 13:07:30 [scrapy.core.engine] DEBUG: Crawled (200) <GET https://carifilms.com/films/page/580?order=DESC&is_meta_key=0&orderby=title#038;is_meta_key=0&orderby=title> (referer: None)\n"
     ]
    },
    {
     "name": "stdout",
     "output_type": "stream",
     "text": [
      "Banyak url film 5781\n",
      "Banyak url film 5782\n",
      "Banyak url film 5783\n",
      "Banyak url film 5784\n",
      "Banyak url film 5785\n",
      "Banyak url film 5786\n",
      "Banyak url film 5787\n",
      "Banyak url film 5788\n",
      "Banyak url film 5789\n",
      "Banyak url film 5790\n"
     ]
    },
    {
     "name": "stderr",
     "output_type": "stream",
     "text": [
      "2020-12-04 13:07:33 [scrapy.core.engine] DEBUG: Crawled (200) <GET https://carifilms.com/films/page/577?order=DESC&is_meta_key=0&orderby=title#038;is_meta_key=0&orderby=title> (referer: None)\n"
     ]
    },
    {
     "name": "stdout",
     "output_type": "stream",
     "text": [
      "Banyak url film 5791\n",
      "Banyak url film 5792\n",
      "Banyak url film 5793\n",
      "Banyak url film 5794\n",
      "Banyak url film 5795\n",
      "Banyak url film 5796\n",
      "Banyak url film 5797\n",
      "Banyak url film 5798\n",
      "Banyak url film 5799\n",
      "Banyak url film 5800\n"
     ]
    },
    {
     "name": "stderr",
     "output_type": "stream",
     "text": [
      "2020-12-04 13:07:36 [scrapy.core.engine] DEBUG: Crawled (200) <GET https://carifilms.com/films/page/576?order=DESC&is_meta_key=0&orderby=title#038;is_meta_key=0&orderby=title> (referer: None)\n"
     ]
    },
    {
     "name": "stdout",
     "output_type": "stream",
     "text": [
      "Banyak url film 5801\n",
      "Banyak url film 5802\n",
      "Banyak url film 5803\n",
      "Banyak url film 5804\n",
      "Banyak url film 5805\n",
      "Banyak url film 5806\n",
      "Banyak url film 5807\n",
      "Banyak url film 5808\n",
      "Banyak url film 5809\n",
      "Banyak url film 5810\n"
     ]
    },
    {
     "name": "stderr",
     "output_type": "stream",
     "text": [
      "2020-12-04 13:07:39 [scrapy.extensions.logstats] INFO: Crawled 581 pages (at 17 pages/min), scraped 0 items (at 0 items/min)\n",
      "2020-12-04 13:07:39 [scrapy.core.engine] DEBUG: Crawled (200) <GET https://carifilms.com/films/page/582?order=DESC&is_meta_key=0&orderby=title#038;is_meta_key=0&orderby=title> (referer: None)\n"
     ]
    },
    {
     "name": "stdout",
     "output_type": "stream",
     "text": [
      "Banyak url film 5811\n",
      "Banyak url film 5812\n",
      "Banyak url film 5813\n",
      "Banyak url film 5814\n",
      "Banyak url film 5815\n",
      "Banyak url film 5816\n",
      "Banyak url film 5817\n",
      "Banyak url film 5818\n",
      "Banyak url film 5819\n",
      "Banyak url film 5820\n"
     ]
    },
    {
     "name": "stderr",
     "output_type": "stream",
     "text": [
      "2020-12-04 13:07:43 [scrapy.core.engine] DEBUG: Crawled (200) <GET https://carifilms.com/films/page/586?order=DESC&is_meta_key=0&orderby=title#038;is_meta_key=0&orderby=title> (referer: None)\n"
     ]
    },
    {
     "name": "stdout",
     "output_type": "stream",
     "text": [
      "Banyak url film 5821\n",
      "Banyak url film 5822\n",
      "Banyak url film 5823\n",
      "Banyak url film 5824\n",
      "Banyak url film 5825\n",
      "Banyak url film 5826\n",
      "Banyak url film 5827\n",
      "Banyak url film 5828\n",
      "Banyak url film 5829\n",
      "Banyak url film 5830\n"
     ]
    },
    {
     "name": "stderr",
     "output_type": "stream",
     "text": [
      "2020-12-04 13:07:46 [scrapy.core.engine] DEBUG: Crawled (200) <GET https://carifilms.com/films/page/585?order=DESC&is_meta_key=0&orderby=title#038;is_meta_key=0&orderby=title> (referer: None)\n"
     ]
    },
    {
     "name": "stdout",
     "output_type": "stream",
     "text": [
      "Banyak url film 5831\n",
      "Banyak url film 5832\n",
      "Banyak url film 5833\n",
      "Banyak url film 5834\n",
      "Banyak url film 5835\n",
      "Banyak url film 5836\n",
      "Banyak url film 5837\n",
      "Banyak url film 5838\n",
      "Banyak url film 5839\n",
      "Banyak url film 5840\n"
     ]
    },
    {
     "name": "stderr",
     "output_type": "stream",
     "text": [
      "2020-12-04 13:07:49 [scrapy.core.engine] DEBUG: Crawled (200) <GET https://carifilms.com/films/page/584?order=DESC&is_meta_key=0&orderby=title#038;is_meta_key=0&orderby=title> (referer: None)\n"
     ]
    },
    {
     "name": "stdout",
     "output_type": "stream",
     "text": [
      "Banyak url film 5841\n",
      "Banyak url film 5842\n",
      "Banyak url film 5843\n",
      "Banyak url film 5844\n",
      "Banyak url film 5845\n",
      "Banyak url film 5846\n",
      "Banyak url film 5847\n",
      "Banyak url film 5848\n",
      "Banyak url film 5849\n",
      "Banyak url film 5850\n"
     ]
    },
    {
     "name": "stderr",
     "output_type": "stream",
     "text": [
      "2020-12-04 13:07:53 [scrapy.core.engine] DEBUG: Crawled (200) <GET https://carifilms.com/films/page/583?order=DESC&is_meta_key=0&orderby=title#038;is_meta_key=0&orderby=title> (referer: None)\n"
     ]
    },
    {
     "name": "stdout",
     "output_type": "stream",
     "text": [
      "Banyak url film 5851\n",
      "Banyak url film 5852\n",
      "Banyak url film 5853\n",
      "Banyak url film 5854\n",
      "Banyak url film 5855\n",
      "Banyak url film 5856\n",
      "Banyak url film 5857\n",
      "Banyak url film 5858\n",
      "Banyak url film 5859\n",
      "Banyak url film 5860\n"
     ]
    },
    {
     "name": "stderr",
     "output_type": "stream",
     "text": [
      "2020-12-04 13:07:56 [scrapy.core.engine] DEBUG: Crawled (200) <GET https://carifilms.com/films/page/592?order=DESC&is_meta_key=0&orderby=title#038;is_meta_key=0&orderby=title> (referer: None)\n"
     ]
    },
    {
     "name": "stdout",
     "output_type": "stream",
     "text": [
      "Banyak url film 5861\n",
      "Banyak url film 5862\n",
      "Banyak url film 5863\n",
      "Banyak url film 5864\n",
      "Banyak url film 5865\n",
      "Banyak url film 5866\n",
      "Banyak url film 5867\n",
      "Banyak url film 5868\n",
      "Banyak url film 5869\n",
      "Banyak url film 5870\n"
     ]
    },
    {
     "name": "stderr",
     "output_type": "stream",
     "text": [
      "2020-12-04 13:07:59 [scrapy.core.engine] DEBUG: Crawled (200) <GET https://carifilms.com/films/page/590?order=DESC&is_meta_key=0&orderby=title#038;is_meta_key=0&orderby=title> (referer: None)\n"
     ]
    },
    {
     "name": "stdout",
     "output_type": "stream",
     "text": [
      "Banyak url film 5871\n",
      "Banyak url film 5872\n",
      "Banyak url film 5873\n",
      "Banyak url film 5874\n",
      "Banyak url film 5875\n",
      "Banyak url film 5876\n",
      "Banyak url film 5877\n",
      "Banyak url film 5878\n",
      "Banyak url film 5879\n",
      "Banyak url film 5880\n"
     ]
    },
    {
     "name": "stderr",
     "output_type": "stream",
     "text": [
      "2020-12-04 13:08:02 [scrapy.core.engine] DEBUG: Crawled (200) <GET https://carifilms.com/films/page/587?order=DESC&is_meta_key=0&orderby=title#038;is_meta_key=0&orderby=title> (referer: None)\n"
     ]
    },
    {
     "name": "stdout",
     "output_type": "stream",
     "text": [
      "Banyak url film 5881\n",
      "Banyak url film 5882\n",
      "Banyak url film 5883\n",
      "Banyak url film 5884\n",
      "Banyak url film 5885\n",
      "Banyak url film 5886\n",
      "Banyak url film 5887\n",
      "Banyak url film 5888\n",
      "Banyak url film 5889\n",
      "Banyak url film 5890\n"
     ]
    },
    {
     "name": "stderr",
     "output_type": "stream",
     "text": [
      "2020-12-04 13:08:06 [scrapy.core.engine] DEBUG: Crawled (200) <GET https://carifilms.com/films/page/591?order=DESC&is_meta_key=0&orderby=title#038;is_meta_key=0&orderby=title> (referer: None)\n"
     ]
    },
    {
     "name": "stdout",
     "output_type": "stream",
     "text": [
      "Banyak url film 5891\n",
      "Banyak url film 5892\n",
      "Banyak url film 5893\n",
      "Banyak url film 5894\n",
      "Banyak url film 5895\n",
      "Banyak url film 5896\n",
      "Banyak url film 5897\n",
      "Banyak url film 5898\n",
      "Banyak url film 5899\n",
      "Banyak url film 5900\n"
     ]
    },
    {
     "name": "stderr",
     "output_type": "stream",
     "text": [
      "2020-12-04 13:08:09 [scrapy.core.engine] DEBUG: Crawled (200) <GET https://carifilms.com/films/page/588?order=DESC&is_meta_key=0&orderby=title#038;is_meta_key=0&orderby=title> (referer: None)\n"
     ]
    },
    {
     "name": "stdout",
     "output_type": "stream",
     "text": [
      "Banyak url film 5901\n",
      "Banyak url film 5902\n",
      "Banyak url film 5903\n",
      "Banyak url film 5904\n",
      "Banyak url film 5905\n",
      "Banyak url film 5906\n",
      "Banyak url film 5907\n",
      "Banyak url film 5908\n",
      "Banyak url film 5909\n",
      "Banyak url film 5910\n"
     ]
    },
    {
     "name": "stderr",
     "output_type": "stream",
     "text": [
      "2020-12-04 13:08:12 [scrapy.core.engine] DEBUG: Crawled (200) <GET https://carifilms.com/films/page/594?order=DESC&is_meta_key=0&orderby=title#038;is_meta_key=0&orderby=title> (referer: None)\n"
     ]
    },
    {
     "name": "stdout",
     "output_type": "stream",
     "text": [
      "Banyak url film 5911\n",
      "Banyak url film 5912\n",
      "Banyak url film 5913\n",
      "Banyak url film 5914\n",
      "Banyak url film 5915\n",
      "Banyak url film 5916\n",
      "Banyak url film 5917\n",
      "Banyak url film 5918\n",
      "Banyak url film 5919\n",
      "Banyak url film 5920\n"
     ]
    },
    {
     "name": "stderr",
     "output_type": "stream",
     "text": [
      "2020-12-04 13:08:16 [scrapy.core.engine] DEBUG: Crawled (200) <GET https://carifilms.com/films/page/595?order=DESC&is_meta_key=0&orderby=title#038;is_meta_key=0&orderby=title> (referer: None)\n"
     ]
    },
    {
     "name": "stdout",
     "output_type": "stream",
     "text": [
      "Banyak url film 5921\n",
      "Banyak url film 5922\n",
      "Banyak url film 5923\n",
      "Banyak url film 5924\n",
      "Banyak url film 5925\n",
      "Banyak url film 5926\n",
      "Banyak url film 5927\n",
      "Banyak url film 5928\n",
      "Banyak url film 5929\n",
      "Banyak url film 5930\n"
     ]
    },
    {
     "name": "stderr",
     "output_type": "stream",
     "text": [
      "2020-12-04 13:08:19 [scrapy.core.engine] DEBUG: Crawled (200) <GET https://carifilms.com/films/page/596?order=DESC&is_meta_key=0&orderby=title#038;is_meta_key=0&orderby=title> (referer: None)\n"
     ]
    },
    {
     "name": "stdout",
     "output_type": "stream",
     "text": [
      "Banyak url film 5931\n",
      "Banyak url film 5932\n",
      "Banyak url film 5933\n",
      "Banyak url film 5934\n",
      "Banyak url film 5935\n",
      "Banyak url film 5936\n",
      "Banyak url film 5937\n",
      "Banyak url film 5938\n",
      "Banyak url film 5939\n",
      "Banyak url film 5940\n"
     ]
    },
    {
     "name": "stderr",
     "output_type": "stream",
     "text": [
      "2020-12-04 13:08:22 [scrapy.core.engine] DEBUG: Crawled (200) <GET https://carifilms.com/films/page/598?order=DESC&is_meta_key=0&orderby=title#038;is_meta_key=0&orderby=title> (referer: None)\n"
     ]
    },
    {
     "name": "stdout",
     "output_type": "stream",
     "text": [
      "Banyak url film 5941\n",
      "Banyak url film 5942\n",
      "Banyak url film 5943\n",
      "Banyak url film 5944\n",
      "Banyak url film 5945\n",
      "Banyak url film 5946\n",
      "Banyak url film 5947\n",
      "Banyak url film 5948\n",
      "Banyak url film 5949\n",
      "Banyak url film 5950\n"
     ]
    },
    {
     "name": "stderr",
     "output_type": "stream",
     "text": [
      "2020-12-04 13:08:25 [scrapy.core.engine] DEBUG: Crawled (200) <GET https://carifilms.com/films/page/593?order=DESC&is_meta_key=0&orderby=title#038;is_meta_key=0&orderby=title> (referer: None)\n"
     ]
    },
    {
     "name": "stdout",
     "output_type": "stream",
     "text": [
      "Banyak url film 5951\n",
      "Banyak url film 5952\n",
      "Banyak url film 5953\n",
      "Banyak url film 5954\n",
      "Banyak url film 5955\n",
      "Banyak url film 5956\n",
      "Banyak url film 5957\n",
      "Banyak url film 5958\n",
      "Banyak url film 5959\n",
      "Banyak url film 5960\n"
     ]
    },
    {
     "name": "stderr",
     "output_type": "stream",
     "text": [
      "2020-12-04 13:08:29 [scrapy.core.engine] DEBUG: Crawled (200) <GET https://carifilms.com/films/page/600?order=DESC&is_meta_key=0&orderby=title#038;is_meta_key=0&orderby=title> (referer: None)\n"
     ]
    },
    {
     "name": "stdout",
     "output_type": "stream",
     "text": [
      "Banyak url film 5961\n",
      "Banyak url film 5962\n",
      "Banyak url film 5963\n",
      "Banyak url film 5964\n",
      "Banyak url film 5965\n",
      "Banyak url film 5966\n",
      "Banyak url film 5967\n",
      "Banyak url film 5968\n",
      "Banyak url film 5969\n",
      "Banyak url film 5970\n"
     ]
    },
    {
     "name": "stderr",
     "output_type": "stream",
     "text": [
      "2020-12-04 13:08:32 [scrapy.core.engine] DEBUG: Crawled (200) <GET https://carifilms.com/films/page/601?order=DESC&is_meta_key=0&orderby=title#038;is_meta_key=0&orderby=title> (referer: None)\n"
     ]
    },
    {
     "name": "stdout",
     "output_type": "stream",
     "text": [
      "Banyak url film 5971\n",
      "Banyak url film 5972\n",
      "Banyak url film 5973\n",
      "Banyak url film 5974\n",
      "Banyak url film 5975\n",
      "Banyak url film 5976\n",
      "Banyak url film 5977\n",
      "Banyak url film 5978\n",
      "Banyak url film 5979\n",
      "Banyak url film 5980\n"
     ]
    },
    {
     "name": "stderr",
     "output_type": "stream",
     "text": [
      "2020-12-04 13:08:35 [scrapy.core.engine] DEBUG: Crawled (200) <GET https://carifilms.com/films/page/597?order=DESC&is_meta_key=0&orderby=title#038;is_meta_key=0&orderby=title> (referer: None)\n"
     ]
    },
    {
     "name": "stdout",
     "output_type": "stream",
     "text": [
      "Banyak url film 5981\n",
      "Banyak url film 5982\n",
      "Banyak url film 5983\n",
      "Banyak url film 5984\n",
      "Banyak url film 5985\n",
      "Banyak url film 5986\n",
      "Banyak url film 5987\n",
      "Banyak url film 5988\n",
      "Banyak url film 5989\n",
      "Banyak url film 5990\n"
     ]
    },
    {
     "name": "stderr",
     "output_type": "stream",
     "text": [
      "2020-12-04 13:08:38 [scrapy.core.engine] DEBUG: Crawled (200) <GET https://carifilms.com/films/page/603?order=DESC&is_meta_key=0&orderby=title#038;is_meta_key=0&orderby=title> (referer: None)\n"
     ]
    },
    {
     "name": "stdout",
     "output_type": "stream",
     "text": [
      "Banyak url film 5991\n",
      "Banyak url film 5992\n",
      "Banyak url film 5993\n",
      "Banyak url film 5994\n",
      "Banyak url film 5995\n",
      "Banyak url film 5996\n",
      "Banyak url film 5997\n",
      "Banyak url film 5998\n",
      "Banyak url film 5999\n",
      "Banyak url film 6000\n"
     ]
    },
    {
     "name": "stderr",
     "output_type": "stream",
     "text": [
      "2020-12-04 13:08:39 [scrapy.extensions.logstats] INFO: Crawled 600 pages (at 19 pages/min), scraped 0 items (at 0 items/min)\n",
      "2020-12-04 13:08:41 [scrapy.core.engine] DEBUG: Crawled (200) <GET https://carifilms.com/films/page/599?order=DESC&is_meta_key=0&orderby=title#038;is_meta_key=0&orderby=title> (referer: None)\n"
     ]
    },
    {
     "name": "stdout",
     "output_type": "stream",
     "text": [
      "Banyak url film 6001\n",
      "Banyak url film 6002\n",
      "Banyak url film 6003\n",
      "Banyak url film 6004\n",
      "Banyak url film 6005\n",
      "Banyak url film 6006\n",
      "Banyak url film 6007\n",
      "Banyak url film 6008\n",
      "Banyak url film 6009\n",
      "Banyak url film 6010\n"
     ]
    },
    {
     "name": "stderr",
     "output_type": "stream",
     "text": [
      "2020-12-04 13:08:45 [scrapy.core.engine] DEBUG: Crawled (200) <GET https://carifilms.com/films/page/604?order=DESC&is_meta_key=0&orderby=title#038;is_meta_key=0&orderby=title> (referer: None)\n"
     ]
    },
    {
     "name": "stdout",
     "output_type": "stream",
     "text": [
      "Banyak url film 6011\n",
      "Banyak url film 6012\n",
      "Banyak url film 6013\n",
      "Banyak url film 6014\n",
      "Banyak url film 6015\n",
      "Banyak url film 6016\n",
      "Banyak url film 6017\n",
      "Banyak url film 6018\n",
      "Banyak url film 6019\n",
      "Banyak url film 6020\n"
     ]
    },
    {
     "name": "stderr",
     "output_type": "stream",
     "text": [
      "2020-12-04 13:08:48 [scrapy.core.engine] DEBUG: Crawled (200) <GET https://carifilms.com/films/page/602?order=DESC&is_meta_key=0&orderby=title#038;is_meta_key=0&orderby=title> (referer: None)\n"
     ]
    },
    {
     "name": "stdout",
     "output_type": "stream",
     "text": [
      "Banyak url film 6021\n",
      "Banyak url film 6022\n",
      "Banyak url film 6023\n",
      "Banyak url film 6024\n",
      "Banyak url film 6025\n",
      "Banyak url film 6026\n",
      "Banyak url film 6027\n",
      "Banyak url film 6028\n",
      "Banyak url film 6029\n",
      "Banyak url film 6030\n"
     ]
    },
    {
     "name": "stderr",
     "output_type": "stream",
     "text": [
      "2020-12-04 13:08:51 [scrapy.core.engine] DEBUG: Crawled (200) <GET https://carifilms.com/films/page/607?order=DESC&is_meta_key=0&orderby=title#038;is_meta_key=0&orderby=title> (referer: None)\n"
     ]
    },
    {
     "name": "stdout",
     "output_type": "stream",
     "text": [
      "Banyak url film 6031\n",
      "Banyak url film 6032\n",
      "Banyak url film 6033\n",
      "Banyak url film 6034\n",
      "Banyak url film 6035\n",
      "Banyak url film 6036\n",
      "Banyak url film 6037\n",
      "Banyak url film 6038\n",
      "Banyak url film 6039\n",
      "Banyak url film 6040\n"
     ]
    },
    {
     "name": "stderr",
     "output_type": "stream",
     "text": [
      "2020-12-04 13:08:54 [scrapy.core.engine] DEBUG: Crawled (200) <GET https://carifilms.com/films/page/606?order=DESC&is_meta_key=0&orderby=title#038;is_meta_key=0&orderby=title> (referer: None)\n"
     ]
    },
    {
     "name": "stdout",
     "output_type": "stream",
     "text": [
      "Banyak url film 6041\n",
      "Banyak url film 6042\n",
      "Banyak url film 6043\n",
      "Banyak url film 6044\n",
      "Banyak url film 6045\n",
      "Banyak url film 6046\n",
      "Banyak url film 6047\n",
      "Banyak url film 6048\n",
      "Banyak url film 6049\n",
      "Banyak url film 6050\n"
     ]
    },
    {
     "name": "stderr",
     "output_type": "stream",
     "text": [
      "2020-12-04 13:08:57 [scrapy.core.engine] DEBUG: Crawled (200) <GET https://carifilms.com/films/page/605?order=DESC&is_meta_key=0&orderby=title#038;is_meta_key=0&orderby=title> (referer: None)\n"
     ]
    },
    {
     "name": "stdout",
     "output_type": "stream",
     "text": [
      "Banyak url film 6051\n",
      "Banyak url film 6052\n",
      "Banyak url film 6053\n",
      "Banyak url film 6054\n",
      "Banyak url film 6055\n",
      "Banyak url film 6056\n",
      "Banyak url film 6057\n",
      "Banyak url film 6058\n",
      "Banyak url film 6059\n",
      "Banyak url film 6060\n"
     ]
    },
    {
     "name": "stderr",
     "output_type": "stream",
     "text": [
      "2020-12-04 13:09:01 [scrapy.core.engine] DEBUG: Crawled (200) <GET https://carifilms.com/films/page/611?order=DESC&is_meta_key=0&orderby=title#038;is_meta_key=0&orderby=title> (referer: None)\n"
     ]
    },
    {
     "name": "stdout",
     "output_type": "stream",
     "text": [
      "Banyak url film 6061\n",
      "Banyak url film 6062\n",
      "Banyak url film 6063\n",
      "Banyak url film 6064\n",
      "Banyak url film 6065\n",
      "Banyak url film 6066\n",
      "Banyak url film 6067\n",
      "Banyak url film 6068\n",
      "Banyak url film 6069\n",
      "Banyak url film 6070\n"
     ]
    },
    {
     "name": "stderr",
     "output_type": "stream",
     "text": [
      "2020-12-04 13:09:04 [scrapy.core.engine] DEBUG: Crawled (200) <GET https://carifilms.com/films/page/608?order=DESC&is_meta_key=0&orderby=title#038;is_meta_key=0&orderby=title> (referer: None)\n"
     ]
    },
    {
     "name": "stdout",
     "output_type": "stream",
     "text": [
      "Banyak url film 6071\n",
      "Banyak url film 6072\n",
      "Banyak url film 6073\n",
      "Banyak url film 6074\n",
      "Banyak url film 6075\n",
      "Banyak url film 6076\n",
      "Banyak url film 6077\n",
      "Banyak url film 6078\n",
      "Banyak url film 6079\n",
      "Banyak url film 6080\n"
     ]
    },
    {
     "name": "stderr",
     "output_type": "stream",
     "text": [
      "2020-12-04 13:09:07 [scrapy.core.engine] DEBUG: Crawled (200) <GET https://carifilms.com/films/page/613?order=DESC&is_meta_key=0&orderby=title#038;is_meta_key=0&orderby=title> (referer: None)\n"
     ]
    },
    {
     "name": "stdout",
     "output_type": "stream",
     "text": [
      "Banyak url film 6081\n",
      "Banyak url film 6082\n",
      "Banyak url film 6083\n",
      "Banyak url film 6084\n",
      "Banyak url film 6085\n",
      "Banyak url film 6086\n",
      "Banyak url film 6087\n",
      "Banyak url film 6088\n",
      "Banyak url film 6089\n",
      "Banyak url film 6090\n"
     ]
    },
    {
     "name": "stderr",
     "output_type": "stream",
     "text": [
      "2020-12-04 13:09:11 [scrapy.core.engine] DEBUG: Crawled (200) <GET https://carifilms.com/films/page/612?order=DESC&is_meta_key=0&orderby=title#038;is_meta_key=0&orderby=title> (referer: None)\n"
     ]
    },
    {
     "name": "stdout",
     "output_type": "stream",
     "text": [
      "Banyak url film 6091\n",
      "Banyak url film 6092\n",
      "Banyak url film 6093\n",
      "Banyak url film 6094\n",
      "Banyak url film 6095\n",
      "Banyak url film 6096\n",
      "Banyak url film 6097\n",
      "Banyak url film 6098\n",
      "Banyak url film 6099\n",
      "Banyak url film 6100\n"
     ]
    },
    {
     "name": "stderr",
     "output_type": "stream",
     "text": [
      "2020-12-04 13:09:14 [scrapy.core.engine] DEBUG: Crawled (200) <GET https://carifilms.com/films/page/589?order=DESC&is_meta_key=0&orderby=title#038;is_meta_key=0&orderby=title> (referer: None)\n"
     ]
    },
    {
     "name": "stdout",
     "output_type": "stream",
     "text": [
      "Banyak url film 6101\n",
      "Banyak url film 6102\n",
      "Banyak url film 6103\n",
      "Banyak url film 6104\n",
      "Banyak url film 6105\n",
      "Banyak url film 6106\n",
      "Banyak url film 6107\n",
      "Banyak url film 6108\n",
      "Banyak url film 6109\n",
      "Banyak url film 6110\n"
     ]
    },
    {
     "name": "stderr",
     "output_type": "stream",
     "text": [
      "2020-12-04 13:09:17 [scrapy.core.engine] DEBUG: Crawled (200) <GET https://carifilms.com/films/page/610?order=DESC&is_meta_key=0&orderby=title#038;is_meta_key=0&orderby=title> (referer: None)\n"
     ]
    },
    {
     "name": "stdout",
     "output_type": "stream",
     "text": [
      "Banyak url film 6111\n",
      "Banyak url film 6112\n",
      "Banyak url film 6113\n",
      "Banyak url film 6114\n",
      "Banyak url film 6115\n",
      "Banyak url film 6116\n",
      "Banyak url film 6117\n",
      "Banyak url film 6118\n",
      "Banyak url film 6119\n",
      "Banyak url film 6120\n"
     ]
    },
    {
     "name": "stderr",
     "output_type": "stream",
     "text": [
      "2020-12-04 13:09:21 [scrapy.core.engine] DEBUG: Crawled (200) <GET https://carifilms.com/films/page/614?order=DESC&is_meta_key=0&orderby=title#038;is_meta_key=0&orderby=title> (referer: None)\n"
     ]
    },
    {
     "name": "stdout",
     "output_type": "stream",
     "text": [
      "Banyak url film 6121\n",
      "Banyak url film 6122\n",
      "Banyak url film 6123\n",
      "Banyak url film 6124\n",
      "Banyak url film 6125\n",
      "Banyak url film 6126\n",
      "Banyak url film 6127\n",
      "Banyak url film 6128\n",
      "Banyak url film 6129\n",
      "Banyak url film 6130\n"
     ]
    },
    {
     "name": "stderr",
     "output_type": "stream",
     "text": [
      "2020-12-04 13:09:24 [scrapy.core.engine] DEBUG: Crawled (200) <GET https://carifilms.com/films/page/616?order=DESC&is_meta_key=0&orderby=title#038;is_meta_key=0&orderby=title> (referer: None)\n"
     ]
    },
    {
     "name": "stdout",
     "output_type": "stream",
     "text": [
      "Banyak url film 6131\n",
      "Banyak url film 6132\n",
      "Banyak url film 6133\n",
      "Banyak url film 6134\n",
      "Banyak url film 6135\n",
      "Banyak url film 6136\n",
      "Banyak url film 6137\n",
      "Banyak url film 6138\n",
      "Banyak url film 6139\n",
      "Banyak url film 6140\n"
     ]
    },
    {
     "name": "stderr",
     "output_type": "stream",
     "text": [
      "2020-12-04 13:09:27 [scrapy.core.engine] DEBUG: Crawled (200) <GET https://carifilms.com/films/page/617?order=DESC&is_meta_key=0&orderby=title#038;is_meta_key=0&orderby=title> (referer: None)\n"
     ]
    },
    {
     "name": "stdout",
     "output_type": "stream",
     "text": [
      "Banyak url film 6141\n",
      "Banyak url film 6142\n",
      "Banyak url film 6143\n",
      "Banyak url film 6144\n",
      "Banyak url film 6145\n",
      "Banyak url film 6146\n",
      "Banyak url film 6147\n",
      "Banyak url film 6148\n",
      "Banyak url film 6149\n",
      "Banyak url film 6150\n"
     ]
    },
    {
     "name": "stderr",
     "output_type": "stream",
     "text": [
      "2020-12-04 13:09:31 [scrapy.core.engine] DEBUG: Crawled (200) <GET https://carifilms.com/films/page/615?order=DESC&is_meta_key=0&orderby=title#038;is_meta_key=0&orderby=title> (referer: None)\n"
     ]
    },
    {
     "name": "stdout",
     "output_type": "stream",
     "text": [
      "Banyak url film 6151\n",
      "Banyak url film 6152\n",
      "Banyak url film 6153\n",
      "Banyak url film 6154\n",
      "Banyak url film 6155\n",
      "Banyak url film 6156\n",
      "Banyak url film 6157\n",
      "Banyak url film 6158\n",
      "Banyak url film 6159\n",
      "Banyak url film 6160\n"
     ]
    },
    {
     "name": "stderr",
     "output_type": "stream",
     "text": [
      "2020-12-04 13:09:34 [scrapy.core.engine] DEBUG: Crawled (200) <GET https://carifilms.com/films/page/623?order=DESC&is_meta_key=0&orderby=title#038;is_meta_key=0&orderby=title> (referer: None)\n"
     ]
    },
    {
     "name": "stdout",
     "output_type": "stream",
     "text": [
      "Banyak url film 6161\n",
      "Banyak url film 6162\n",
      "Banyak url film 6163\n",
      "Banyak url film 6164\n",
      "Banyak url film 6165\n",
      "Banyak url film 6166\n",
      "Banyak url film 6167\n",
      "Banyak url film 6168\n",
      "Banyak url film 6169\n",
      "Banyak url film 6170\n"
     ]
    },
    {
     "name": "stderr",
     "output_type": "stream",
     "text": [
      "2020-12-04 13:09:38 [scrapy.core.engine] DEBUG: Crawled (200) <GET https://carifilms.com/films/page/609?order=DESC&is_meta_key=0&orderby=title#038;is_meta_key=0&orderby=title> (referer: None)\n"
     ]
    },
    {
     "name": "stdout",
     "output_type": "stream",
     "text": [
      "Banyak url film 6171\n",
      "Banyak url film 6172\n",
      "Banyak url film 6173\n",
      "Banyak url film 6174\n",
      "Banyak url film 6175\n",
      "Banyak url film 6176\n",
      "Banyak url film 6177\n",
      "Banyak url film 6178\n",
      "Banyak url film 6179\n",
      "Banyak url film 6180\n"
     ]
    },
    {
     "name": "stderr",
     "output_type": "stream",
     "text": [
      "2020-12-04 13:09:39 [scrapy.extensions.logstats] INFO: Crawled 618 pages (at 18 pages/min), scraped 0 items (at 0 items/min)\n",
      "2020-12-04 13:09:41 [scrapy.core.engine] DEBUG: Crawled (200) <GET https://carifilms.com/films/page/621?order=DESC&is_meta_key=0&orderby=title#038;is_meta_key=0&orderby=title> (referer: None)\n"
     ]
    },
    {
     "name": "stdout",
     "output_type": "stream",
     "text": [
      "Banyak url film 6181\n",
      "Banyak url film 6182\n",
      "Banyak url film 6183\n",
      "Banyak url film 6184\n",
      "Banyak url film 6185\n",
      "Banyak url film 6186\n",
      "Banyak url film 6187\n",
      "Banyak url film 6188\n",
      "Banyak url film 6189\n",
      "Banyak url film 6190\n"
     ]
    },
    {
     "name": "stderr",
     "output_type": "stream",
     "text": [
      "2020-12-04 13:09:44 [scrapy.core.engine] DEBUG: Crawled (200) <GET https://carifilms.com/films/page/618?order=DESC&is_meta_key=0&orderby=title#038;is_meta_key=0&orderby=title> (referer: None)\n"
     ]
    },
    {
     "name": "stdout",
     "output_type": "stream",
     "text": [
      "Banyak url film 6191\n",
      "Banyak url film 6192\n",
      "Banyak url film 6193\n",
      "Banyak url film 6194\n",
      "Banyak url film 6195\n",
      "Banyak url film 6196\n",
      "Banyak url film 6197\n",
      "Banyak url film 6198\n",
      "Banyak url film 6199\n",
      "Banyak url film 6200\n"
     ]
    },
    {
     "name": "stderr",
     "output_type": "stream",
     "text": [
      "2020-12-04 13:09:47 [scrapy.core.engine] DEBUG: Crawled (200) <GET https://carifilms.com/films/page/620?order=DESC&is_meta_key=0&orderby=title#038;is_meta_key=0&orderby=title> (referer: None)\n"
     ]
    },
    {
     "name": "stdout",
     "output_type": "stream",
     "text": [
      "Banyak url film 6201\n",
      "Banyak url film 6202\n",
      "Banyak url film 6203\n",
      "Banyak url film 6204\n",
      "Banyak url film 6205\n",
      "Banyak url film 6206\n",
      "Banyak url film 6207\n",
      "Banyak url film 6208\n",
      "Banyak url film 6209\n",
      "Banyak url film 6210\n"
     ]
    },
    {
     "name": "stderr",
     "output_type": "stream",
     "text": [
      "2020-12-04 13:09:51 [scrapy.core.engine] DEBUG: Crawled (200) <GET https://carifilms.com/films/page/619?order=DESC&is_meta_key=0&orderby=title#038;is_meta_key=0&orderby=title> (referer: None)\n"
     ]
    },
    {
     "name": "stdout",
     "output_type": "stream",
     "text": [
      "Banyak url film 6211\n",
      "Banyak url film 6212\n",
      "Banyak url film 6213\n",
      "Banyak url film 6214\n",
      "Banyak url film 6215\n",
      "Banyak url film 6216\n",
      "Banyak url film 6217\n",
      "Banyak url film 6218\n",
      "Banyak url film 6219\n",
      "Banyak url film 6220\n"
     ]
    },
    {
     "name": "stderr",
     "output_type": "stream",
     "text": [
      "2020-12-04 13:09:54 [scrapy.core.engine] DEBUG: Crawled (200) <GET https://carifilms.com/films/page/626?order=DESC&is_meta_key=0&orderby=title#038;is_meta_key=0&orderby=title> (referer: None)\n"
     ]
    },
    {
     "name": "stdout",
     "output_type": "stream",
     "text": [
      "Banyak url film 6221\n",
      "Banyak url film 6222\n",
      "Banyak url film 6223\n",
      "Banyak url film 6224\n",
      "Banyak url film 6225\n",
      "Banyak url film 6226\n",
      "Banyak url film 6227\n",
      "Banyak url film 6228\n",
      "Banyak url film 6229\n",
      "Banyak url film 6230\n"
     ]
    },
    {
     "name": "stderr",
     "output_type": "stream",
     "text": [
      "2020-12-04 13:09:57 [scrapy.core.engine] DEBUG: Crawled (200) <GET https://carifilms.com/films/page/627?order=DESC&is_meta_key=0&orderby=title#038;is_meta_key=0&orderby=title> (referer: None)\n"
     ]
    },
    {
     "name": "stdout",
     "output_type": "stream",
     "text": [
      "Banyak url film 6231\n",
      "Banyak url film 6232\n",
      "Banyak url film 6233\n",
      "Banyak url film 6234\n",
      "Banyak url film 6235\n",
      "Banyak url film 6236\n",
      "Banyak url film 6237\n",
      "Banyak url film 6238\n",
      "Banyak url film 6239\n",
      "Banyak url film 6240\n"
     ]
    },
    {
     "name": "stderr",
     "output_type": "stream",
     "text": [
      "2020-12-04 13:10:00 [scrapy.core.engine] DEBUG: Crawled (200) <GET https://carifilms.com/films/page/624?order=DESC&is_meta_key=0&orderby=title#038;is_meta_key=0&orderby=title> (referer: None)\n"
     ]
    },
    {
     "name": "stdout",
     "output_type": "stream",
     "text": [
      "Banyak url film 6241\n",
      "Banyak url film 6242\n",
      "Banyak url film 6243\n",
      "Banyak url film 6244\n",
      "Banyak url film 6245\n",
      "Banyak url film 6246\n",
      "Banyak url film 6247\n",
      "Banyak url film 6248\n",
      "Banyak url film 6249\n",
      "Banyak url film 6250\n"
     ]
    },
    {
     "name": "stderr",
     "output_type": "stream",
     "text": [
      "2020-12-04 13:10:04 [scrapy.core.engine] DEBUG: Crawled (200) <GET https://carifilms.com/films/page/628?order=DESC&is_meta_key=0&orderby=title#038;is_meta_key=0&orderby=title> (referer: None)\n"
     ]
    },
    {
     "name": "stdout",
     "output_type": "stream",
     "text": [
      "Banyak url film 6251\n",
      "Banyak url film 6252\n",
      "Banyak url film 6253\n",
      "Banyak url film 6254\n",
      "Banyak url film 6255\n",
      "Banyak url film 6256\n",
      "Banyak url film 6257\n",
      "Banyak url film 6258\n",
      "Banyak url film 6259\n",
      "Banyak url film 6260\n"
     ]
    },
    {
     "name": "stderr",
     "output_type": "stream",
     "text": [
      "2020-12-04 13:10:07 [scrapy.core.engine] DEBUG: Crawled (200) <GET https://carifilms.com/films/page/625?order=DESC&is_meta_key=0&orderby=title#038;is_meta_key=0&orderby=title> (referer: None)\n"
     ]
    },
    {
     "name": "stdout",
     "output_type": "stream",
     "text": [
      "Banyak url film 6261\n",
      "Banyak url film 6262\n",
      "Banyak url film 6263\n",
      "Banyak url film 6264\n",
      "Banyak url film 6265\n",
      "Banyak url film 6266\n",
      "Banyak url film 6267\n",
      "Banyak url film 6268\n",
      "Banyak url film 6269\n",
      "Banyak url film 6270\n"
     ]
    },
    {
     "name": "stderr",
     "output_type": "stream",
     "text": [
      "2020-12-04 13:10:10 [scrapy.core.engine] DEBUG: Crawled (200) <GET https://carifilms.com/films/page/631?order=DESC&is_meta_key=0&orderby=title#038;is_meta_key=0&orderby=title> (referer: None)\n"
     ]
    },
    {
     "name": "stdout",
     "output_type": "stream",
     "text": [
      "Banyak url film 6271\n",
      "Banyak url film 6272\n",
      "Banyak url film 6273\n",
      "Banyak url film 6274\n",
      "Banyak url film 6275\n",
      "Banyak url film 6276\n",
      "Banyak url film 6277\n",
      "Banyak url film 6278\n",
      "Banyak url film 6279\n",
      "Banyak url film 6280\n"
     ]
    },
    {
     "name": "stderr",
     "output_type": "stream",
     "text": [
      "2020-12-04 13:10:14 [scrapy.core.engine] DEBUG: Crawled (200) <GET https://carifilms.com/films/page/622?order=DESC&is_meta_key=0&orderby=title#038;is_meta_key=0&orderby=title> (referer: None)\n"
     ]
    },
    {
     "name": "stdout",
     "output_type": "stream",
     "text": [
      "Banyak url film 6281\n",
      "Banyak url film 6282\n",
      "Banyak url film 6283\n",
      "Banyak url film 6284\n",
      "Banyak url film 6285\n",
      "Banyak url film 6286\n",
      "Banyak url film 6287\n",
      "Banyak url film 6288\n",
      "Banyak url film 6289\n",
      "Banyak url film 6290\n"
     ]
    },
    {
     "name": "stderr",
     "output_type": "stream",
     "text": [
      "2020-12-04 13:10:17 [scrapy.core.engine] DEBUG: Crawled (200) <GET https://carifilms.com/films/page/634?order=DESC&is_meta_key=0&orderby=title#038;is_meta_key=0&orderby=title> (referer: None)\n"
     ]
    },
    {
     "name": "stdout",
     "output_type": "stream",
     "text": [
      "Banyak url film 6291\n",
      "Banyak url film 6292\n",
      "Banyak url film 6293\n",
      "Banyak url film 6294\n",
      "Banyak url film 6295\n",
      "Banyak url film 6296\n",
      "Banyak url film 6297\n",
      "Banyak url film 6298\n",
      "Banyak url film 6299\n",
      "Banyak url film 6300\n"
     ]
    },
    {
     "name": "stderr",
     "output_type": "stream",
     "text": [
      "2020-12-04 13:10:20 [scrapy.core.engine] DEBUG: Crawled (200) <GET https://carifilms.com/films/page/630?order=DESC&is_meta_key=0&orderby=title#038;is_meta_key=0&orderby=title> (referer: None)\n"
     ]
    },
    {
     "name": "stdout",
     "output_type": "stream",
     "text": [
      "Banyak url film 6301\n",
      "Banyak url film 6302\n",
      "Banyak url film 6303\n",
      "Banyak url film 6304\n",
      "Banyak url film 6305\n",
      "Banyak url film 6306\n",
      "Banyak url film 6307\n",
      "Banyak url film 6308\n",
      "Banyak url film 6309\n",
      "Banyak url film 6310\n"
     ]
    },
    {
     "name": "stderr",
     "output_type": "stream",
     "text": [
      "2020-12-04 13:10:24 [scrapy.core.engine] DEBUG: Crawled (200) <GET https://carifilms.com/films/page/632?order=DESC&is_meta_key=0&orderby=title#038;is_meta_key=0&orderby=title> (referer: None)\n"
     ]
    },
    {
     "name": "stdout",
     "output_type": "stream",
     "text": [
      "Banyak url film 6311\n",
      "Banyak url film 6312\n",
      "Banyak url film 6313\n",
      "Banyak url film 6314\n",
      "Banyak url film 6315\n",
      "Banyak url film 6316\n",
      "Banyak url film 6317\n",
      "Banyak url film 6318\n",
      "Banyak url film 6319\n",
      "Banyak url film 6320\n"
     ]
    },
    {
     "name": "stderr",
     "output_type": "stream",
     "text": [
      "2020-12-04 13:10:27 [scrapy.core.engine] DEBUG: Crawled (200) <GET https://carifilms.com/films/page/635?order=DESC&is_meta_key=0&orderby=title#038;is_meta_key=0&orderby=title> (referer: None)\n"
     ]
    },
    {
     "name": "stdout",
     "output_type": "stream",
     "text": [
      "Banyak url film 6321\n",
      "Banyak url film 6322\n",
      "Banyak url film 6323\n",
      "Banyak url film 6324\n",
      "Banyak url film 6325\n",
      "Banyak url film 6326\n",
      "Banyak url film 6327\n",
      "Banyak url film 6328\n",
      "Banyak url film 6329\n",
      "Banyak url film 6330\n"
     ]
    },
    {
     "name": "stderr",
     "output_type": "stream",
     "text": [
      "2020-12-04 13:10:30 [scrapy.core.engine] DEBUG: Crawled (200) <GET https://carifilms.com/films/page/633?order=DESC&is_meta_key=0&orderby=title#038;is_meta_key=0&orderby=title> (referer: None)\n"
     ]
    },
    {
     "name": "stdout",
     "output_type": "stream",
     "text": [
      "Banyak url film 6331\n",
      "Banyak url film 6332\n",
      "Banyak url film 6333\n",
      "Banyak url film 6334\n",
      "Banyak url film 6335\n",
      "Banyak url film 6336\n",
      "Banyak url film 6337\n",
      "Banyak url film 6338\n",
      "Banyak url film 6339\n",
      "Banyak url film 6340\n"
     ]
    },
    {
     "name": "stderr",
     "output_type": "stream",
     "text": [
      "2020-12-04 13:10:34 [scrapy.core.engine] DEBUG: Crawled (200) <GET https://carifilms.com/films/page/637?order=DESC&is_meta_key=0&orderby=title#038;is_meta_key=0&orderby=title> (referer: None)\n"
     ]
    },
    {
     "name": "stdout",
     "output_type": "stream",
     "text": [
      "Banyak url film 6341\n",
      "Banyak url film 6342\n",
      "Banyak url film 6343\n",
      "Banyak url film 6344\n",
      "Banyak url film 6345\n",
      "Banyak url film 6346\n",
      "Banyak url film 6347\n",
      "Banyak url film 6348\n",
      "Banyak url film 6349\n",
      "Banyak url film 6350\n"
     ]
    },
    {
     "name": "stderr",
     "output_type": "stream",
     "text": [
      "2020-12-04 13:10:37 [scrapy.core.engine] DEBUG: Crawled (200) <GET https://carifilms.com/films/page/638?order=DESC&is_meta_key=0&orderby=title#038;is_meta_key=0&orderby=title> (referer: None)\n"
     ]
    },
    {
     "name": "stdout",
     "output_type": "stream",
     "text": [
      "Banyak url film 6351\n",
      "Banyak url film 6352\n",
      "Banyak url film 6353\n",
      "Banyak url film 6354\n",
      "Banyak url film 6355\n",
      "Banyak url film 6356\n",
      "Banyak url film 6357\n",
      "Banyak url film 6358\n",
      "Banyak url film 6359\n",
      "Banyak url film 6360\n"
     ]
    },
    {
     "name": "stderr",
     "output_type": "stream",
     "text": [
      "2020-12-04 13:10:39 [scrapy.extensions.logstats] INFO: Crawled 636 pages (at 18 pages/min), scraped 0 items (at 0 items/min)\n",
      "2020-12-04 13:10:40 [scrapy.core.engine] DEBUG: Crawled (200) <GET https://carifilms.com/films/page/642?order=DESC&is_meta_key=0&orderby=title#038;is_meta_key=0&orderby=title> (referer: None)\n"
     ]
    },
    {
     "name": "stdout",
     "output_type": "stream",
     "text": [
      "Banyak url film 6361\n",
      "Banyak url film 6362\n",
      "Banyak url film 6363\n",
      "Banyak url film 6364\n",
      "Banyak url film 6365\n",
      "Banyak url film 6366\n",
      "Banyak url film 6367\n",
      "Banyak url film 6368\n",
      "Banyak url film 6369\n",
      "Banyak url film 6370\n"
     ]
    },
    {
     "name": "stderr",
     "output_type": "stream",
     "text": [
      "2020-12-04 13:10:44 [scrapy.core.engine] DEBUG: Crawled (200) <GET https://carifilms.com/films/page/629?order=DESC&is_meta_key=0&orderby=title#038;is_meta_key=0&orderby=title> (referer: None)\n"
     ]
    },
    {
     "name": "stdout",
     "output_type": "stream",
     "text": [
      "Banyak url film 6371\n",
      "Banyak url film 6372\n",
      "Banyak url film 6373\n",
      "Banyak url film 6374\n",
      "Banyak url film 6375\n",
      "Banyak url film 6376\n",
      "Banyak url film 6377\n",
      "Banyak url film 6378\n",
      "Banyak url film 6379\n",
      "Banyak url film 6380\n"
     ]
    },
    {
     "name": "stderr",
     "output_type": "stream",
     "text": [
      "2020-12-04 13:10:47 [scrapy.core.engine] DEBUG: Crawled (200) <GET https://carifilms.com/films/page/636?order=DESC&is_meta_key=0&orderby=title#038;is_meta_key=0&orderby=title> (referer: None)\n"
     ]
    },
    {
     "name": "stdout",
     "output_type": "stream",
     "text": [
      "Banyak url film 6381\n",
      "Banyak url film 6382\n",
      "Banyak url film 6383\n",
      "Banyak url film 6384\n",
      "Banyak url film 6385\n",
      "Banyak url film 6386\n",
      "Banyak url film 6387\n",
      "Banyak url film 6388\n",
      "Banyak url film 6389\n",
      "Banyak url film 6390\n"
     ]
    },
    {
     "name": "stderr",
     "output_type": "stream",
     "text": [
      "2020-12-04 13:10:50 [scrapy.core.engine] DEBUG: Crawled (200) <GET https://carifilms.com/films/page/640?order=DESC&is_meta_key=0&orderby=title#038;is_meta_key=0&orderby=title> (referer: None)\n"
     ]
    },
    {
     "name": "stdout",
     "output_type": "stream",
     "text": [
      "Banyak url film 6391\n",
      "Banyak url film 6392\n",
      "Banyak url film 6393\n",
      "Banyak url film 6394\n",
      "Banyak url film 6395\n",
      "Banyak url film 6396\n",
      "Banyak url film 6397\n",
      "Banyak url film 6398\n",
      "Banyak url film 6399\n",
      "Banyak url film 6400\n"
     ]
    },
    {
     "name": "stderr",
     "output_type": "stream",
     "text": [
      "2020-12-04 13:10:54 [scrapy.core.engine] DEBUG: Crawled (200) <GET https://carifilms.com/films/page/646?order=DESC&is_meta_key=0&orderby=title#038;is_meta_key=0&orderby=title> (referer: None)\n"
     ]
    },
    {
     "name": "stdout",
     "output_type": "stream",
     "text": [
      "Banyak url film 6401\n",
      "Banyak url film 6402\n",
      "Banyak url film 6403\n",
      "Banyak url film 6404\n",
      "Banyak url film 6405\n",
      "Banyak url film 6406\n",
      "Banyak url film 6407\n",
      "Banyak url film 6408\n",
      "Banyak url film 6409\n",
      "Banyak url film 6410\n"
     ]
    },
    {
     "name": "stderr",
     "output_type": "stream",
     "text": [
      "2020-12-04 13:10:57 [scrapy.core.engine] DEBUG: Crawled (200) <GET https://carifilms.com/films/page/644?order=DESC&is_meta_key=0&orderby=title#038;is_meta_key=0&orderby=title> (referer: None)\n"
     ]
    },
    {
     "name": "stdout",
     "output_type": "stream",
     "text": [
      "Banyak url film 6411\n",
      "Banyak url film 6412\n",
      "Banyak url film 6413\n",
      "Banyak url film 6414\n",
      "Banyak url film 6415\n",
      "Banyak url film 6416\n",
      "Banyak url film 6417\n",
      "Banyak url film 6418\n",
      "Banyak url film 6419\n",
      "Banyak url film 6420\n"
     ]
    },
    {
     "name": "stderr",
     "output_type": "stream",
     "text": [
      "2020-12-04 13:11:00 [scrapy.core.engine] DEBUG: Crawled (200) <GET https://carifilms.com/films/page/645?order=DESC&is_meta_key=0&orderby=title#038;is_meta_key=0&orderby=title> (referer: None)\n"
     ]
    },
    {
     "name": "stdout",
     "output_type": "stream",
     "text": [
      "Banyak url film 6421\n",
      "Banyak url film 6422\n",
      "Banyak url film 6423\n",
      "Banyak url film 6424\n",
      "Banyak url film 6425\n",
      "Banyak url film 6426\n",
      "Banyak url film 6427\n",
      "Banyak url film 6428\n",
      "Banyak url film 6429\n",
      "Banyak url film 6430\n"
     ]
    },
    {
     "name": "stderr",
     "output_type": "stream",
     "text": [
      "2020-12-04 13:11:04 [scrapy.core.engine] DEBUG: Crawled (200) <GET https://carifilms.com/films/page/641?order=DESC&is_meta_key=0&orderby=title#038;is_meta_key=0&orderby=title> (referer: None)\n"
     ]
    },
    {
     "name": "stdout",
     "output_type": "stream",
     "text": [
      "Banyak url film 6431\n",
      "Banyak url film 6432\n",
      "Banyak url film 6433\n",
      "Banyak url film 6434\n",
      "Banyak url film 6435\n",
      "Banyak url film 6436\n",
      "Banyak url film 6437\n",
      "Banyak url film 6438\n",
      "Banyak url film 6439\n",
      "Banyak url film 6440\n"
     ]
    },
    {
     "name": "stderr",
     "output_type": "stream",
     "text": [
      "2020-12-04 13:11:07 [scrapy.core.engine] DEBUG: Crawled (200) <GET https://carifilms.com/films/page/639?order=DESC&is_meta_key=0&orderby=title#038;is_meta_key=0&orderby=title> (referer: None)\n"
     ]
    },
    {
     "name": "stdout",
     "output_type": "stream",
     "text": [
      "Banyak url film 6441\n",
      "Banyak url film 6442\n",
      "Banyak url film 6443\n",
      "Banyak url film 6444\n",
      "Banyak url film 6445\n",
      "Banyak url film 6446\n",
      "Banyak url film 6447\n",
      "Banyak url film 6448\n",
      "Banyak url film 6449\n",
      "Banyak url film 6450\n"
     ]
    },
    {
     "name": "stderr",
     "output_type": "stream",
     "text": [
      "2020-12-04 13:11:10 [scrapy.core.engine] DEBUG: Crawled (200) <GET https://carifilms.com/films/page/649?order=DESC&is_meta_key=0&orderby=title#038;is_meta_key=0&orderby=title> (referer: None)\n"
     ]
    },
    {
     "name": "stdout",
     "output_type": "stream",
     "text": [
      "Banyak url film 6451\n",
      "Banyak url film 6452\n",
      "Banyak url film 6453\n",
      "Banyak url film 6454\n",
      "Banyak url film 6455\n",
      "Banyak url film 6456\n",
      "Banyak url film 6457\n",
      "Banyak url film 6458\n",
      "Banyak url film 6459\n",
      "Banyak url film 6460\n"
     ]
    },
    {
     "name": "stderr",
     "output_type": "stream",
     "text": [
      "2020-12-04 13:11:14 [scrapy.core.engine] DEBUG: Crawled (200) <GET https://carifilms.com/films/page/647?order=DESC&is_meta_key=0&orderby=title#038;is_meta_key=0&orderby=title> (referer: None)\n"
     ]
    },
    {
     "name": "stdout",
     "output_type": "stream",
     "text": [
      "Banyak url film 6461\n",
      "Banyak url film 6462\n",
      "Banyak url film 6463\n",
      "Banyak url film 6464\n",
      "Banyak url film 6465\n",
      "Banyak url film 6466\n",
      "Banyak url film 6467\n",
      "Banyak url film 6468\n",
      "Banyak url film 6469\n",
      "Banyak url film 6470\n"
     ]
    },
    {
     "name": "stderr",
     "output_type": "stream",
     "text": [
      "2020-12-04 13:11:17 [scrapy.core.engine] DEBUG: Crawled (200) <GET https://carifilms.com/films/page/653?order=DESC&is_meta_key=0&orderby=title#038;is_meta_key=0&orderby=title> (referer: None)\n"
     ]
    },
    {
     "name": "stdout",
     "output_type": "stream",
     "text": [
      "Banyak url film 6471\n",
      "Banyak url film 6472\n",
      "Banyak url film 6473\n",
      "Banyak url film 6474\n",
      "Banyak url film 6475\n",
      "Banyak url film 6476\n",
      "Banyak url film 6477\n",
      "Banyak url film 6478\n",
      "Banyak url film 6479\n",
      "Banyak url film 6480\n"
     ]
    },
    {
     "name": "stderr",
     "output_type": "stream",
     "text": [
      "2020-12-04 13:11:20 [scrapy.core.engine] DEBUG: Crawled (200) <GET https://carifilms.com/films/page/652?order=DESC&is_meta_key=0&orderby=title#038;is_meta_key=0&orderby=title> (referer: None)\n"
     ]
    },
    {
     "name": "stdout",
     "output_type": "stream",
     "text": [
      "Banyak url film 6481\n",
      "Banyak url film 6482\n",
      "Banyak url film 6483\n",
      "Banyak url film 6484\n",
      "Banyak url film 6485\n",
      "Banyak url film 6486\n",
      "Banyak url film 6487\n",
      "Banyak url film 6488\n",
      "Banyak url film 6489\n",
      "Banyak url film 6490\n"
     ]
    },
    {
     "name": "stderr",
     "output_type": "stream",
     "text": [
      "2020-12-04 13:11:23 [scrapy.core.engine] DEBUG: Crawled (200) <GET https://carifilms.com/films/page/643?order=DESC&is_meta_key=0&orderby=title#038;is_meta_key=0&orderby=title> (referer: None)\n"
     ]
    },
    {
     "name": "stdout",
     "output_type": "stream",
     "text": [
      "Banyak url film 6491\n",
      "Banyak url film 6492\n",
      "Banyak url film 6493\n",
      "Banyak url film 6494\n",
      "Banyak url film 6495\n",
      "Banyak url film 6496\n",
      "Banyak url film 6497\n",
      "Banyak url film 6498\n",
      "Banyak url film 6499\n",
      "Banyak url film 6500\n"
     ]
    },
    {
     "name": "stderr",
     "output_type": "stream",
     "text": [
      "2020-12-04 13:11:27 [scrapy.core.engine] DEBUG: Crawled (200) <GET https://carifilms.com/films/page/655?order=DESC&is_meta_key=0&orderby=title#038;is_meta_key=0&orderby=title> (referer: None)\n"
     ]
    },
    {
     "name": "stdout",
     "output_type": "stream",
     "text": [
      "Banyak url film 6501\n",
      "Banyak url film 6502\n",
      "Banyak url film 6503\n",
      "Banyak url film 6504\n",
      "Banyak url film 6505\n",
      "Banyak url film 6506\n",
      "Banyak url film 6507\n",
      "Banyak url film 6508\n",
      "Banyak url film 6509\n",
      "Banyak url film 6510\n"
     ]
    },
    {
     "name": "stderr",
     "output_type": "stream",
     "text": [
      "2020-12-04 13:11:30 [scrapy.core.engine] DEBUG: Crawled (200) <GET https://carifilms.com/films/page/651?order=DESC&is_meta_key=0&orderby=title#038;is_meta_key=0&orderby=title> (referer: None)\n"
     ]
    },
    {
     "name": "stdout",
     "output_type": "stream",
     "text": [
      "Banyak url film 6511\n",
      "Banyak url film 6512\n",
      "Banyak url film 6513\n",
      "Banyak url film 6514\n",
      "Banyak url film 6515\n",
      "Banyak url film 6516\n",
      "Banyak url film 6517\n",
      "Banyak url film 6518\n",
      "Banyak url film 6519\n",
      "Banyak url film 6520\n"
     ]
    },
    {
     "name": "stderr",
     "output_type": "stream",
     "text": [
      "2020-12-04 13:11:33 [scrapy.core.engine] DEBUG: Crawled (200) <GET https://carifilms.com/films/page/657?order=DESC&is_meta_key=0&orderby=title#038;is_meta_key=0&orderby=title> (referer: None)\n"
     ]
    },
    {
     "name": "stdout",
     "output_type": "stream",
     "text": [
      "Banyak url film 6521\n",
      "Banyak url film 6522\n",
      "Banyak url film 6523\n",
      "Banyak url film 6524\n",
      "Banyak url film 6525\n",
      "Banyak url film 6526\n",
      "Banyak url film 6527\n",
      "Banyak url film 6528\n",
      "Banyak url film 6529\n",
      "Banyak url film 6530\n"
     ]
    },
    {
     "name": "stderr",
     "output_type": "stream",
     "text": [
      "2020-12-04 13:11:36 [scrapy.core.engine] DEBUG: Crawled (200) <GET https://carifilms.com/films/page/648?order=DESC&is_meta_key=0&orderby=title#038;is_meta_key=0&orderby=title> (referer: None)\n"
     ]
    },
    {
     "name": "stdout",
     "output_type": "stream",
     "text": [
      "Banyak url film 6531\n",
      "Banyak url film 6532\n",
      "Banyak url film 6533\n",
      "Banyak url film 6534\n",
      "Banyak url film 6535\n",
      "Banyak url film 6536\n",
      "Banyak url film 6537\n",
      "Banyak url film 6538\n",
      "Banyak url film 6539\n",
      "Banyak url film 6540\n"
     ]
    },
    {
     "name": "stderr",
     "output_type": "stream",
     "text": [
      "2020-12-04 13:11:39 [scrapy.extensions.logstats] INFO: Crawled 654 pages (at 18 pages/min), scraped 0 items (at 0 items/min)\n",
      "2020-12-04 13:11:40 [scrapy.core.engine] DEBUG: Crawled (200) <GET https://carifilms.com/films/page/658?order=DESC&is_meta_key=0&orderby=title#038;is_meta_key=0&orderby=title> (referer: None)\n"
     ]
    },
    {
     "name": "stdout",
     "output_type": "stream",
     "text": [
      "Banyak url film 6541\n",
      "Banyak url film 6542\n",
      "Banyak url film 6543\n",
      "Banyak url film 6544\n",
      "Banyak url film 6545\n",
      "Banyak url film 6546\n",
      "Banyak url film 6547\n",
      "Banyak url film 6548\n",
      "Banyak url film 6549\n",
      "Banyak url film 6550\n"
     ]
    },
    {
     "name": "stderr",
     "output_type": "stream",
     "text": [
      "2020-12-04 13:11:43 [scrapy.core.engine] DEBUG: Crawled (200) <GET https://carifilms.com/films/page/650?order=DESC&is_meta_key=0&orderby=title#038;is_meta_key=0&orderby=title> (referer: None)\n"
     ]
    },
    {
     "name": "stdout",
     "output_type": "stream",
     "text": [
      "Banyak url film 6551\n",
      "Banyak url film 6552\n",
      "Banyak url film 6553\n",
      "Banyak url film 6554\n",
      "Banyak url film 6555\n",
      "Banyak url film 6556\n",
      "Banyak url film 6557\n",
      "Banyak url film 6558\n",
      "Banyak url film 6559\n",
      "Banyak url film 6560\n"
     ]
    },
    {
     "name": "stderr",
     "output_type": "stream",
     "text": [
      "2020-12-04 13:11:46 [scrapy.core.engine] DEBUG: Crawled (200) <GET https://carifilms.com/films/page/662?order=DESC&is_meta_key=0&orderby=title#038;is_meta_key=0&orderby=title> (referer: None)\n"
     ]
    },
    {
     "name": "stdout",
     "output_type": "stream",
     "text": [
      "Banyak url film 6561\n",
      "Banyak url film 6562\n",
      "Banyak url film 6563\n",
      "Banyak url film 6564\n",
      "Banyak url film 6565\n",
      "Banyak url film 6566\n",
      "Banyak url film 6567\n",
      "Banyak url film 6568\n",
      "Banyak url film 6569\n",
      "Banyak url film 6570\n"
     ]
    },
    {
     "name": "stderr",
     "output_type": "stream",
     "text": [
      "2020-12-04 13:11:50 [scrapy.core.engine] DEBUG: Crawled (200) <GET https://carifilms.com/films/page/659?order=DESC&is_meta_key=0&orderby=title#038;is_meta_key=0&orderby=title> (referer: None)\n"
     ]
    },
    {
     "name": "stdout",
     "output_type": "stream",
     "text": [
      "Banyak url film 6571\n",
      "Banyak url film 6572\n",
      "Banyak url film 6573\n",
      "Banyak url film 6574\n",
      "Banyak url film 6575\n",
      "Banyak url film 6576\n",
      "Banyak url film 6577\n",
      "Banyak url film 6578\n",
      "Banyak url film 6579\n",
      "Banyak url film 6580\n"
     ]
    },
    {
     "name": "stderr",
     "output_type": "stream",
     "text": [
      "2020-12-04 13:11:53 [scrapy.core.engine] DEBUG: Crawled (200) <GET https://carifilms.com/films/page/654?order=DESC&is_meta_key=0&orderby=title#038;is_meta_key=0&orderby=title> (referer: None)\n"
     ]
    },
    {
     "name": "stdout",
     "output_type": "stream",
     "text": [
      "Banyak url film 6581\n",
      "Banyak url film 6582\n",
      "Banyak url film 6583\n",
      "Banyak url film 6584\n",
      "Banyak url film 6585\n",
      "Banyak url film 6586\n",
      "Banyak url film 6587\n",
      "Banyak url film 6588\n",
      "Banyak url film 6589\n",
      "Banyak url film 6590\n"
     ]
    },
    {
     "name": "stderr",
     "output_type": "stream",
     "text": [
      "2020-12-04 13:11:56 [scrapy.core.engine] DEBUG: Crawled (200) <GET https://carifilms.com/films/page/660?order=DESC&is_meta_key=0&orderby=title#038;is_meta_key=0&orderby=title> (referer: None)\n"
     ]
    },
    {
     "name": "stdout",
     "output_type": "stream",
     "text": [
      "Banyak url film 6591\n",
      "Banyak url film 6592\n",
      "Banyak url film 6593\n",
      "Banyak url film 6594\n",
      "Banyak url film 6595\n",
      "Banyak url film 6596\n",
      "Banyak url film 6597\n",
      "Banyak url film 6598\n",
      "Banyak url film 6599\n",
      "Banyak url film 6600\n"
     ]
    },
    {
     "name": "stderr",
     "output_type": "stream",
     "text": [
      "2020-12-04 13:12:00 [scrapy.core.engine] DEBUG: Crawled (200) <GET https://carifilms.com/films/page/661?order=DESC&is_meta_key=0&orderby=title#038;is_meta_key=0&orderby=title> (referer: None)\n"
     ]
    },
    {
     "name": "stdout",
     "output_type": "stream",
     "text": [
      "Banyak url film 6601\n",
      "Banyak url film 6602\n",
      "Banyak url film 6603\n",
      "Banyak url film 6604\n",
      "Banyak url film 6605\n",
      "Banyak url film 6606\n",
      "Banyak url film 6607\n",
      "Banyak url film 6608\n",
      "Banyak url film 6609\n",
      "Banyak url film 6610\n"
     ]
    },
    {
     "name": "stderr",
     "output_type": "stream",
     "text": [
      "2020-12-04 13:12:03 [scrapy.core.engine] DEBUG: Crawled (200) <GET https://carifilms.com/films/page/665?order=DESC&is_meta_key=0&orderby=title#038;is_meta_key=0&orderby=title> (referer: None)\n"
     ]
    },
    {
     "name": "stdout",
     "output_type": "stream",
     "text": [
      "Banyak url film 6611\n",
      "Banyak url film 6612\n",
      "Banyak url film 6613\n",
      "Banyak url film 6614\n",
      "Banyak url film 6615\n",
      "Banyak url film 6616\n",
      "Banyak url film 6617\n",
      "Banyak url film 6618\n",
      "Banyak url film 6619\n",
      "Banyak url film 6620\n"
     ]
    },
    {
     "name": "stderr",
     "output_type": "stream",
     "text": [
      "2020-12-04 13:12:07 [scrapy.core.engine] DEBUG: Crawled (200) <GET https://carifilms.com/films/page/667?order=DESC&is_meta_key=0&orderby=title#038;is_meta_key=0&orderby=title> (referer: None)\n"
     ]
    },
    {
     "name": "stdout",
     "output_type": "stream",
     "text": [
      "Banyak url film 6621\n",
      "Banyak url film 6622\n",
      "Banyak url film 6623\n",
      "Banyak url film 6624\n",
      "Banyak url film 6625\n",
      "Banyak url film 6626\n",
      "Banyak url film 6627\n",
      "Banyak url film 6628\n",
      "Banyak url film 6629\n",
      "Banyak url film 6630\n"
     ]
    },
    {
     "name": "stderr",
     "output_type": "stream",
     "text": [
      "2020-12-04 13:12:10 [scrapy.core.engine] DEBUG: Crawled (200) <GET https://carifilms.com/films/page/656?order=DESC&is_meta_key=0&orderby=title#038;is_meta_key=0&orderby=title> (referer: None)\n"
     ]
    },
    {
     "name": "stdout",
     "output_type": "stream",
     "text": [
      "Banyak url film 6631\n",
      "Banyak url film 6632\n",
      "Banyak url film 6633\n",
      "Banyak url film 6634\n",
      "Banyak url film 6635\n",
      "Banyak url film 6636\n",
      "Banyak url film 6637\n",
      "Banyak url film 6638\n",
      "Banyak url film 6639\n",
      "Banyak url film 6640\n"
     ]
    },
    {
     "name": "stderr",
     "output_type": "stream",
     "text": [
      "2020-12-04 13:12:14 [scrapy.core.engine] DEBUG: Crawled (200) <GET https://carifilms.com/films/page/668?order=DESC&is_meta_key=0&orderby=title#038;is_meta_key=0&orderby=title> (referer: None)\n"
     ]
    },
    {
     "name": "stdout",
     "output_type": "stream",
     "text": [
      "Banyak url film 6641\n",
      "Banyak url film 6642\n",
      "Banyak url film 6643\n",
      "Banyak url film 6644\n",
      "Banyak url film 6645\n",
      "Banyak url film 6646\n",
      "Banyak url film 6647\n",
      "Banyak url film 6648\n",
      "Banyak url film 6649\n",
      "Banyak url film 6650\n"
     ]
    },
    {
     "name": "stderr",
     "output_type": "stream",
     "text": [
      "2020-12-04 13:12:17 [scrapy.core.engine] DEBUG: Crawled (200) <GET https://carifilms.com/films/page/671?order=DESC&is_meta_key=0&orderby=title#038;is_meta_key=0&orderby=title> (referer: None)\n"
     ]
    },
    {
     "name": "stdout",
     "output_type": "stream",
     "text": [
      "Banyak url film 6651\n",
      "Banyak url film 6652\n",
      "Banyak url film 6653\n",
      "Banyak url film 6654\n",
      "Banyak url film 6655\n",
      "Banyak url film 6656\n",
      "Banyak url film 6657\n",
      "Banyak url film 6658\n",
      "Banyak url film 6659\n",
      "Banyak url film 6660\n"
     ]
    },
    {
     "name": "stderr",
     "output_type": "stream",
     "text": [
      "2020-12-04 13:12:21 [scrapy.core.engine] DEBUG: Crawled (200) <GET https://carifilms.com/films/page/669?order=DESC&is_meta_key=0&orderby=title#038;is_meta_key=0&orderby=title> (referer: None)\n"
     ]
    },
    {
     "name": "stdout",
     "output_type": "stream",
     "text": [
      "Banyak url film 6661\n",
      "Banyak url film 6662\n",
      "Banyak url film 6663\n",
      "Banyak url film 6664\n",
      "Banyak url film 6665\n",
      "Banyak url film 6666\n",
      "Banyak url film 6667\n",
      "Banyak url film 6668\n",
      "Banyak url film 6669\n",
      "Banyak url film 6670\n"
     ]
    },
    {
     "name": "stderr",
     "output_type": "stream",
     "text": [
      "2020-12-04 13:12:24 [scrapy.core.engine] DEBUG: Crawled (200) <GET https://carifilms.com/films/page/663?order=DESC&is_meta_key=0&orderby=title#038;is_meta_key=0&orderby=title> (referer: None)\n"
     ]
    },
    {
     "name": "stdout",
     "output_type": "stream",
     "text": [
      "Banyak url film 6671\n",
      "Banyak url film 6672\n",
      "Banyak url film 6673\n",
      "Banyak url film 6674\n",
      "Banyak url film 6675\n",
      "Banyak url film 6676\n",
      "Banyak url film 6677\n",
      "Banyak url film 6678\n",
      "Banyak url film 6679\n",
      "Banyak url film 6680\n"
     ]
    },
    {
     "name": "stderr",
     "output_type": "stream",
     "text": [
      "2020-12-04 13:12:27 [scrapy.core.engine] DEBUG: Crawled (200) <GET https://carifilms.com/films/page/666?order=DESC&is_meta_key=0&orderby=title#038;is_meta_key=0&orderby=title> (referer: None)\n"
     ]
    },
    {
     "name": "stdout",
     "output_type": "stream",
     "text": [
      "Banyak url film 6681\n",
      "Banyak url film 6682\n",
      "Banyak url film 6683\n",
      "Banyak url film 6684\n",
      "Banyak url film 6685\n",
      "Banyak url film 6686\n",
      "Banyak url film 6687\n",
      "Banyak url film 6688\n",
      "Banyak url film 6689\n",
      "Banyak url film 6690\n"
     ]
    },
    {
     "name": "stderr",
     "output_type": "stream",
     "text": [
      "2020-12-04 13:12:30 [scrapy.core.engine] DEBUG: Crawled (200) <GET https://carifilms.com/films/page/675?order=DESC&is_meta_key=0&orderby=title#038;is_meta_key=0&orderby=title> (referer: None)\n"
     ]
    },
    {
     "name": "stdout",
     "output_type": "stream",
     "text": [
      "Banyak url film 6691\n",
      "Banyak url film 6692\n",
      "Banyak url film 6693\n",
      "Banyak url film 6694\n",
      "Banyak url film 6695\n",
      "Banyak url film 6696\n",
      "Banyak url film 6697\n",
      "Banyak url film 6698\n",
      "Banyak url film 6699\n",
      "Banyak url film 6700\n"
     ]
    },
    {
     "name": "stderr",
     "output_type": "stream",
     "text": [
      "2020-12-04 13:12:34 [scrapy.core.engine] DEBUG: Crawled (200) <GET https://carifilms.com/films/page/676?order=DESC&is_meta_key=0&orderby=title#038;is_meta_key=0&orderby=title> (referer: None)\n"
     ]
    },
    {
     "name": "stdout",
     "output_type": "stream",
     "text": [
      "Banyak url film 6701\n",
      "Banyak url film 6702\n",
      "Banyak url film 6703\n",
      "Banyak url film 6704\n",
      "Banyak url film 6705\n",
      "Banyak url film 6706\n",
      "Banyak url film 6707\n",
      "Banyak url film 6708\n",
      "Banyak url film 6709\n",
      "Banyak url film 6710\n"
     ]
    },
    {
     "name": "stderr",
     "output_type": "stream",
     "text": [
      "2020-12-04 13:12:37 [scrapy.core.engine] DEBUG: Crawled (200) <GET https://carifilms.com/films/page/674?order=DESC&is_meta_key=0&orderby=title#038;is_meta_key=0&orderby=title> (referer: None)\n"
     ]
    },
    {
     "name": "stdout",
     "output_type": "stream",
     "text": [
      "Banyak url film 6711\n",
      "Banyak url film 6712\n",
      "Banyak url film 6713\n",
      "Banyak url film 6714\n",
      "Banyak url film 6715\n",
      "Banyak url film 6716\n",
      "Banyak url film 6717\n",
      "Banyak url film 6718\n",
      "Banyak url film 6719\n",
      "Banyak url film 6720\n"
     ]
    },
    {
     "name": "stderr",
     "output_type": "stream",
     "text": [
      "2020-12-04 13:12:39 [scrapy.extensions.logstats] INFO: Crawled 672 pages (at 18 pages/min), scraped 0 items (at 0 items/min)\n",
      "2020-12-04 13:12:41 [scrapy.core.engine] DEBUG: Crawled (200) <GET https://carifilms.com/films/page/670?order=DESC&is_meta_key=0&orderby=title#038;is_meta_key=0&orderby=title> (referer: None)\n"
     ]
    },
    {
     "name": "stdout",
     "output_type": "stream",
     "text": [
      "Banyak url film 6721\n",
      "Banyak url film 6722\n",
      "Banyak url film 6723\n",
      "Banyak url film 6724\n",
      "Banyak url film 6725\n",
      "Banyak url film 6726\n",
      "Banyak url film 6727\n",
      "Banyak url film 6728\n",
      "Banyak url film 6729\n",
      "Banyak url film 6730\n"
     ]
    },
    {
     "name": "stderr",
     "output_type": "stream",
     "text": [
      "2020-12-04 13:12:44 [scrapy.core.engine] DEBUG: Crawled (200) <GET https://carifilms.com/films/page/664?order=DESC&is_meta_key=0&orderby=title#038;is_meta_key=0&orderby=title> (referer: None)\n"
     ]
    },
    {
     "name": "stdout",
     "output_type": "stream",
     "text": [
      "Banyak url film 6731\n",
      "Banyak url film 6732\n",
      "Banyak url film 6733\n",
      "Banyak url film 6734\n",
      "Banyak url film 6735\n",
      "Banyak url film 6736\n",
      "Banyak url film 6737\n",
      "Banyak url film 6738\n",
      "Banyak url film 6739\n",
      "Banyak url film 6740\n"
     ]
    },
    {
     "name": "stderr",
     "output_type": "stream",
     "text": [
      "2020-12-04 13:12:47 [scrapy.core.engine] DEBUG: Crawled (200) <GET https://carifilms.com/films/page/679?order=DESC&is_meta_key=0&orderby=title#038;is_meta_key=0&orderby=title> (referer: None)\n"
     ]
    },
    {
     "name": "stdout",
     "output_type": "stream",
     "text": [
      "Banyak url film 6741\n",
      "Banyak url film 6742\n",
      "Banyak url film 6743\n",
      "Banyak url film 6744\n",
      "Banyak url film 6745\n",
      "Banyak url film 6746\n",
      "Banyak url film 6747\n",
      "Banyak url film 6748\n",
      "Banyak url film 6749\n",
      "Banyak url film 6750\n"
     ]
    },
    {
     "name": "stderr",
     "output_type": "stream",
     "text": [
      "2020-12-04 13:12:50 [scrapy.core.engine] DEBUG: Crawled (200) <GET https://carifilms.com/films/page/677?order=DESC&is_meta_key=0&orderby=title#038;is_meta_key=0&orderby=title> (referer: None)\n"
     ]
    },
    {
     "name": "stdout",
     "output_type": "stream",
     "text": [
      "Banyak url film 6751\n",
      "Banyak url film 6752\n",
      "Banyak url film 6753\n",
      "Banyak url film 6754\n",
      "Banyak url film 6755\n",
      "Banyak url film 6756\n",
      "Banyak url film 6757\n",
      "Banyak url film 6758\n",
      "Banyak url film 6759\n",
      "Banyak url film 6760\n"
     ]
    },
    {
     "name": "stderr",
     "output_type": "stream",
     "text": [
      "2020-12-04 13:12:54 [scrapy.core.engine] DEBUG: Crawled (200) <GET https://carifilms.com/films/page/678?order=DESC&is_meta_key=0&orderby=title#038;is_meta_key=0&orderby=title> (referer: None)\n"
     ]
    },
    {
     "name": "stdout",
     "output_type": "stream",
     "text": [
      "Banyak url film 6761\n",
      "Banyak url film 6762\n",
      "Banyak url film 6763\n",
      "Banyak url film 6764\n",
      "Banyak url film 6765\n",
      "Banyak url film 6766\n",
      "Banyak url film 6767\n",
      "Banyak url film 6768\n",
      "Banyak url film 6769\n",
      "Banyak url film 6770\n"
     ]
    },
    {
     "name": "stderr",
     "output_type": "stream",
     "text": [
      "2020-12-04 13:12:57 [scrapy.core.engine] DEBUG: Crawled (200) <GET https://carifilms.com/films/page/672?order=DESC&is_meta_key=0&orderby=title#038;is_meta_key=0&orderby=title> (referer: None)\n"
     ]
    },
    {
     "name": "stdout",
     "output_type": "stream",
     "text": [
      "Banyak url film 6771\n",
      "Banyak url film 6772\n",
      "Banyak url film 6773\n",
      "Banyak url film 6774\n",
      "Banyak url film 6775\n",
      "Banyak url film 6776\n",
      "Banyak url film 6777\n",
      "Banyak url film 6778\n",
      "Banyak url film 6779\n",
      "Banyak url film 6780\n"
     ]
    },
    {
     "name": "stderr",
     "output_type": "stream",
     "text": [
      "2020-12-04 13:13:00 [scrapy.core.engine] DEBUG: Crawled (200) <GET https://carifilms.com/films/page/673?order=DESC&is_meta_key=0&orderby=title#038;is_meta_key=0&orderby=title> (referer: None)\n"
     ]
    },
    {
     "name": "stdout",
     "output_type": "stream",
     "text": [
      "Banyak url film 6781\n",
      "Banyak url film 6782\n",
      "Banyak url film 6783\n",
      "Banyak url film 6784\n",
      "Banyak url film 6785\n",
      "Banyak url film 6786\n",
      "Banyak url film 6787\n",
      "Banyak url film 6788\n",
      "Banyak url film 6789\n",
      "Banyak url film 6790\n"
     ]
    },
    {
     "name": "stderr",
     "output_type": "stream",
     "text": [
      "2020-12-04 13:13:04 [scrapy.core.engine] DEBUG: Crawled (200) <GET https://carifilms.com/films/page/682?order=DESC&is_meta_key=0&orderby=title#038;is_meta_key=0&orderby=title> (referer: None)\n"
     ]
    },
    {
     "name": "stdout",
     "output_type": "stream",
     "text": [
      "Banyak url film 6791\n",
      "Banyak url film 6792\n",
      "Banyak url film 6793\n",
      "Banyak url film 6794\n",
      "Banyak url film 6795\n",
      "Banyak url film 6796\n",
      "Banyak url film 6797\n",
      "Banyak url film 6798\n",
      "Banyak url film 6799\n",
      "Banyak url film 6800\n"
     ]
    },
    {
     "name": "stderr",
     "output_type": "stream",
     "text": [
      "2020-12-04 13:13:07 [scrapy.core.engine] DEBUG: Crawled (200) <GET https://carifilms.com/films/page/686?order=DESC&is_meta_key=0&orderby=title#038;is_meta_key=0&orderby=title> (referer: None)\n"
     ]
    },
    {
     "name": "stdout",
     "output_type": "stream",
     "text": [
      "Banyak url film 6801\n",
      "Banyak url film 6802\n",
      "Banyak url film 6803\n",
      "Banyak url film 6804\n",
      "Banyak url film 6805\n",
      "Banyak url film 6806\n",
      "Banyak url film 6807\n",
      "Banyak url film 6808\n",
      "Banyak url film 6809\n",
      "Banyak url film 6810\n"
     ]
    },
    {
     "name": "stderr",
     "output_type": "stream",
     "text": [
      "2020-12-04 13:13:11 [scrapy.core.engine] DEBUG: Crawled (200) <GET https://carifilms.com/films/page/684?order=DESC&is_meta_key=0&orderby=title#038;is_meta_key=0&orderby=title> (referer: None)\n"
     ]
    },
    {
     "name": "stdout",
     "output_type": "stream",
     "text": [
      "Banyak url film 6811\n",
      "Banyak url film 6812\n",
      "Banyak url film 6813\n",
      "Banyak url film 6814\n",
      "Banyak url film 6815\n",
      "Banyak url film 6816\n",
      "Banyak url film 6817\n",
      "Banyak url film 6818\n",
      "Banyak url film 6819\n",
      "Banyak url film 6820\n"
     ]
    },
    {
     "name": "stderr",
     "output_type": "stream",
     "text": [
      "2020-12-04 13:13:14 [scrapy.core.engine] DEBUG: Crawled (200) <GET https://carifilms.com/films/page/680?order=DESC&is_meta_key=0&orderby=title#038;is_meta_key=0&orderby=title> (referer: None)\n"
     ]
    },
    {
     "name": "stdout",
     "output_type": "stream",
     "text": [
      "Banyak url film 6821\n",
      "Banyak url film 6822\n",
      "Banyak url film 6823\n",
      "Banyak url film 6824\n",
      "Banyak url film 6825\n",
      "Banyak url film 6826\n",
      "Banyak url film 6827\n",
      "Banyak url film 6828\n",
      "Banyak url film 6829\n",
      "Banyak url film 6830\n"
     ]
    },
    {
     "name": "stderr",
     "output_type": "stream",
     "text": [
      "2020-12-04 13:13:17 [scrapy.core.engine] DEBUG: Crawled (200) <GET https://carifilms.com/films/page/681?order=DESC&is_meta_key=0&orderby=title#038;is_meta_key=0&orderby=title> (referer: None)\n"
     ]
    },
    {
     "name": "stdout",
     "output_type": "stream",
     "text": [
      "Banyak url film 6831\n",
      "Banyak url film 6832\n",
      "Banyak url film 6833\n",
      "Banyak url film 6834\n",
      "Banyak url film 6835\n",
      "Banyak url film 6836\n",
      "Banyak url film 6837\n",
      "Banyak url film 6838\n",
      "Banyak url film 6839\n",
      "Banyak url film 6840\n"
     ]
    },
    {
     "name": "stderr",
     "output_type": "stream",
     "text": [
      "2020-12-04 13:13:20 [scrapy.core.engine] DEBUG: Crawled (200) <GET https://carifilms.com/films/page/685?order=DESC&is_meta_key=0&orderby=title#038;is_meta_key=0&orderby=title> (referer: None)\n"
     ]
    },
    {
     "name": "stdout",
     "output_type": "stream",
     "text": [
      "Banyak url film 6841\n",
      "Banyak url film 6842\n",
      "Banyak url film 6843\n",
      "Banyak url film 6844\n",
      "Banyak url film 6845\n",
      "Banyak url film 6846\n",
      "Banyak url film 6847\n",
      "Banyak url film 6848\n",
      "Banyak url film 6849\n",
      "Banyak url film 6850\n"
     ]
    },
    {
     "name": "stderr",
     "output_type": "stream",
     "text": [
      "2020-12-04 13:13:23 [scrapy.core.engine] DEBUG: Crawled (200) <GET https://carifilms.com/films/page/683?order=DESC&is_meta_key=0&orderby=title#038;is_meta_key=0&orderby=title> (referer: None)\n"
     ]
    },
    {
     "name": "stdout",
     "output_type": "stream",
     "text": [
      "Banyak url film 6851\n",
      "Banyak url film 6852\n",
      "Banyak url film 6853\n",
      "Banyak url film 6854\n",
      "Banyak url film 6855\n",
      "Banyak url film 6856\n",
      "Banyak url film 6857\n",
      "Banyak url film 6858\n",
      "Banyak url film 6859\n",
      "Banyak url film 6860\n"
     ]
    },
    {
     "name": "stderr",
     "output_type": "stream",
     "text": [
      "2020-12-04 13:13:27 [scrapy.core.engine] DEBUG: Crawled (200) <GET https://carifilms.com/films/page/688?order=DESC&is_meta_key=0&orderby=title#038;is_meta_key=0&orderby=title> (referer: None)\n"
     ]
    },
    {
     "name": "stdout",
     "output_type": "stream",
     "text": [
      "Banyak url film 6861\n",
      "Banyak url film 6862\n",
      "Banyak url film 6863\n",
      "Banyak url film 6864\n",
      "Banyak url film 6865\n",
      "Banyak url film 6866\n",
      "Banyak url film 6867\n",
      "Banyak url film 6868\n",
      "Banyak url film 6869\n",
      "Banyak url film 6870\n"
     ]
    },
    {
     "name": "stderr",
     "output_type": "stream",
     "text": [
      "2020-12-04 13:13:30 [scrapy.core.engine] DEBUG: Crawled (200) <GET https://carifilms.com/films/page/690?order=DESC&is_meta_key=0&orderby=title#038;is_meta_key=0&orderby=title> (referer: None)\n"
     ]
    },
    {
     "name": "stdout",
     "output_type": "stream",
     "text": [
      "Banyak url film 6871\n",
      "Banyak url film 6872\n",
      "Banyak url film 6873\n",
      "Banyak url film 6874\n",
      "Banyak url film 6875\n",
      "Banyak url film 6876\n",
      "Banyak url film 6877\n",
      "Banyak url film 6878\n",
      "Banyak url film 6879\n",
      "Banyak url film 6880\n"
     ]
    },
    {
     "name": "stderr",
     "output_type": "stream",
     "text": [
      "2020-12-04 13:13:33 [scrapy.core.engine] DEBUG: Crawled (200) <GET https://carifilms.com/films/page/689?order=DESC&is_meta_key=0&orderby=title#038;is_meta_key=0&orderby=title> (referer: None)\n"
     ]
    },
    {
     "name": "stdout",
     "output_type": "stream",
     "text": [
      "Banyak url film 6881\n",
      "Banyak url film 6882\n",
      "Banyak url film 6883\n",
      "Banyak url film 6884\n",
      "Banyak url film 6885\n",
      "Banyak url film 6886\n",
      "Banyak url film 6887\n",
      "Banyak url film 6888\n",
      "Banyak url film 6889\n",
      "Banyak url film 6890\n"
     ]
    },
    {
     "name": "stderr",
     "output_type": "stream",
     "text": [
      "2020-12-04 13:13:37 [scrapy.core.engine] DEBUG: Crawled (200) <GET https://carifilms.com/films/page/687?order=DESC&is_meta_key=0&orderby=title#038;is_meta_key=0&orderby=title> (referer: None)\n"
     ]
    },
    {
     "name": "stdout",
     "output_type": "stream",
     "text": [
      "Banyak url film 6891\n",
      "Banyak url film 6892\n",
      "Banyak url film 6893\n",
      "Banyak url film 6894\n",
      "Banyak url film 6895\n",
      "Banyak url film 6896\n",
      "Banyak url film 6897\n",
      "Banyak url film 6898\n",
      "Banyak url film 6899\n",
      "Banyak url film 6900\n"
     ]
    },
    {
     "name": "stderr",
     "output_type": "stream",
     "text": [
      "2020-12-04 13:13:39 [scrapy.extensions.logstats] INFO: Crawled 690 pages (at 18 pages/min), scraped 0 items (at 0 items/min)\n",
      "2020-12-04 13:13:40 [scrapy.core.engine] DEBUG: Crawled (200) <GET https://carifilms.com/films/page/693?order=DESC&is_meta_key=0&orderby=title#038;is_meta_key=0&orderby=title> (referer: None)\n"
     ]
    },
    {
     "name": "stdout",
     "output_type": "stream",
     "text": [
      "Banyak url film 6901\n",
      "Banyak url film 6902\n",
      "Banyak url film 6903\n",
      "Banyak url film 6904\n",
      "Banyak url film 6905\n",
      "Banyak url film 6906\n",
      "Banyak url film 6907\n",
      "Banyak url film 6908\n",
      "Banyak url film 6909\n",
      "Banyak url film 6910\n"
     ]
    },
    {
     "name": "stderr",
     "output_type": "stream",
     "text": [
      "2020-12-04 13:13:43 [scrapy.core.engine] DEBUG: Crawled (200) <GET https://carifilms.com/films/page/692?order=DESC&is_meta_key=0&orderby=title#038;is_meta_key=0&orderby=title> (referer: None)\n"
     ]
    },
    {
     "name": "stdout",
     "output_type": "stream",
     "text": [
      "Banyak url film 6911\n",
      "Banyak url film 6912\n",
      "Banyak url film 6913\n",
      "Banyak url film 6914\n",
      "Banyak url film 6915\n",
      "Banyak url film 6916\n",
      "Banyak url film 6917\n",
      "Banyak url film 6918\n",
      "Banyak url film 6919\n",
      "Banyak url film 6920\n"
     ]
    },
    {
     "name": "stderr",
     "output_type": "stream",
     "text": [
      "2020-12-04 13:13:46 [scrapy.core.engine] DEBUG: Crawled (200) <GET https://carifilms.com/films/page/696?order=DESC&is_meta_key=0&orderby=title#038;is_meta_key=0&orderby=title> (referer: None)\n"
     ]
    },
    {
     "name": "stdout",
     "output_type": "stream",
     "text": [
      "Banyak url film 6921\n",
      "Banyak url film 6922\n",
      "Banyak url film 6923\n",
      "Banyak url film 6924\n",
      "Banyak url film 6925\n",
      "Banyak url film 6926\n",
      "Banyak url film 6927\n",
      "Banyak url film 6928\n",
      "Banyak url film 6929\n",
      "Banyak url film 6930\n"
     ]
    },
    {
     "name": "stderr",
     "output_type": "stream",
     "text": [
      "2020-12-04 13:13:50 [scrapy.core.engine] DEBUG: Crawled (200) <GET https://carifilms.com/films/page/695?order=DESC&is_meta_key=0&orderby=title#038;is_meta_key=0&orderby=title> (referer: None)\n"
     ]
    },
    {
     "name": "stdout",
     "output_type": "stream",
     "text": [
      "Banyak url film 6931\n",
      "Banyak url film 6932\n",
      "Banyak url film 6933\n",
      "Banyak url film 6934\n",
      "Banyak url film 6935\n",
      "Banyak url film 6936\n",
      "Banyak url film 6937\n",
      "Banyak url film 6938\n",
      "Banyak url film 6939\n",
      "Banyak url film 6940\n"
     ]
    },
    {
     "name": "stderr",
     "output_type": "stream",
     "text": [
      "2020-12-04 13:13:53 [scrapy.core.engine] DEBUG: Crawled (200) <GET https://carifilms.com/films/page/697?order=DESC&is_meta_key=0&orderby=title#038;is_meta_key=0&orderby=title> (referer: None)\n"
     ]
    },
    {
     "name": "stdout",
     "output_type": "stream",
     "text": [
      "Banyak url film 6941\n",
      "Banyak url film 6942\n",
      "Banyak url film 6943\n",
      "Banyak url film 6944\n",
      "Banyak url film 6945\n",
      "Banyak url film 6946\n",
      "Banyak url film 6947\n",
      "Banyak url film 6948\n",
      "Banyak url film 6949\n",
      "Banyak url film 6950\n"
     ]
    },
    {
     "name": "stderr",
     "output_type": "stream",
     "text": [
      "2020-12-04 13:13:56 [scrapy.core.engine] DEBUG: Crawled (200) <GET https://carifilms.com/films/page/699?order=DESC&is_meta_key=0&orderby=title#038;is_meta_key=0&orderby=title> (referer: None)\n"
     ]
    },
    {
     "name": "stdout",
     "output_type": "stream",
     "text": [
      "Banyak url film 6951\n",
      "Banyak url film 6952\n",
      "Banyak url film 6953\n",
      "Banyak url film 6954\n",
      "Banyak url film 6955\n",
      "Banyak url film 6956\n",
      "Banyak url film 6957\n",
      "Banyak url film 6958\n",
      "Banyak url film 6959\n",
      "Banyak url film 6960\n"
     ]
    },
    {
     "name": "stderr",
     "output_type": "stream",
     "text": [
      "2020-12-04 13:14:00 [scrapy.core.engine] DEBUG: Crawled (200) <GET https://carifilms.com/films/page/698?order=DESC&is_meta_key=0&orderby=title#038;is_meta_key=0&orderby=title> (referer: None)\n"
     ]
    },
    {
     "name": "stdout",
     "output_type": "stream",
     "text": [
      "Banyak url film 6961\n",
      "Banyak url film 6962\n",
      "Banyak url film 6963\n",
      "Banyak url film 6964\n",
      "Banyak url film 6965\n",
      "Banyak url film 6966\n",
      "Banyak url film 6967\n",
      "Banyak url film 6968\n",
      "Banyak url film 6969\n",
      "Banyak url film 6970\n"
     ]
    },
    {
     "name": "stderr",
     "output_type": "stream",
     "text": [
      "2020-12-04 13:14:03 [scrapy.core.engine] DEBUG: Crawled (200) <GET https://carifilms.com/films/page/694?order=DESC&is_meta_key=0&orderby=title#038;is_meta_key=0&orderby=title> (referer: None)\n"
     ]
    },
    {
     "name": "stdout",
     "output_type": "stream",
     "text": [
      "Banyak url film 6971\n",
      "Banyak url film 6972\n",
      "Banyak url film 6973\n",
      "Banyak url film 6974\n",
      "Banyak url film 6975\n",
      "Banyak url film 6976\n",
      "Banyak url film 6977\n",
      "Banyak url film 6978\n",
      "Banyak url film 6979\n",
      "Banyak url film 6980\n"
     ]
    },
    {
     "name": "stderr",
     "output_type": "stream",
     "text": [
      "2020-12-04 13:14:06 [scrapy.core.engine] DEBUG: Crawled (200) <GET https://carifilms.com/films/page/703?order=DESC&is_meta_key=0&orderby=title#038;is_meta_key=0&orderby=title> (referer: None)\n"
     ]
    },
    {
     "name": "stdout",
     "output_type": "stream",
     "text": [
      "Banyak url film 6981\n",
      "Banyak url film 6982\n",
      "Banyak url film 6983\n",
      "Banyak url film 6984\n",
      "Banyak url film 6985\n",
      "Banyak url film 6986\n",
      "Banyak url film 6987\n",
      "Banyak url film 6988\n",
      "Banyak url film 6989\n",
      "Banyak url film 6990\n"
     ]
    },
    {
     "name": "stderr",
     "output_type": "stream",
     "text": [
      "2020-12-04 13:14:09 [scrapy.core.engine] DEBUG: Crawled (200) <GET https://carifilms.com/films/page/702?order=DESC&is_meta_key=0&orderby=title#038;is_meta_key=0&orderby=title> (referer: None)\n"
     ]
    },
    {
     "name": "stdout",
     "output_type": "stream",
     "text": [
      "Banyak url film 6991\n",
      "Banyak url film 6992\n",
      "Banyak url film 6993\n",
      "Banyak url film 6994\n",
      "Banyak url film 6995\n",
      "Banyak url film 6996\n",
      "Banyak url film 6997\n",
      "Banyak url film 6998\n",
      "Banyak url film 6999\n",
      "Banyak url film 7000\n"
     ]
    },
    {
     "name": "stderr",
     "output_type": "stream",
     "text": [
      "2020-12-04 13:14:13 [scrapy.core.engine] DEBUG: Crawled (200) <GET https://carifilms.com/films/page/701?order=DESC&is_meta_key=0&orderby=title#038;is_meta_key=0&orderby=title> (referer: None)\n"
     ]
    },
    {
     "name": "stdout",
     "output_type": "stream",
     "text": [
      "Banyak url film 7001\n",
      "Banyak url film 7002\n",
      "Banyak url film 7003\n",
      "Banyak url film 7004\n",
      "Banyak url film 7005\n",
      "Banyak url film 7006\n",
      "Banyak url film 7007\n",
      "Banyak url film 7008\n",
      "Banyak url film 7009\n",
      "Banyak url film 7010\n"
     ]
    },
    {
     "name": "stderr",
     "output_type": "stream",
     "text": [
      "2020-12-04 13:14:16 [scrapy.core.engine] DEBUG: Crawled (200) <GET https://carifilms.com/films/page/691?order=DESC&is_meta_key=0&orderby=title#038;is_meta_key=0&orderby=title> (referer: None)\n"
     ]
    },
    {
     "name": "stdout",
     "output_type": "stream",
     "text": [
      "Banyak url film 7011\n",
      "Banyak url film 7012\n",
      "Banyak url film 7013\n",
      "Banyak url film 7014\n",
      "Banyak url film 7015\n",
      "Banyak url film 7016\n",
      "Banyak url film 7017\n",
      "Banyak url film 7018\n",
      "Banyak url film 7019\n",
      "Banyak url film 7020\n"
     ]
    },
    {
     "name": "stderr",
     "output_type": "stream",
     "text": [
      "2020-12-04 13:14:19 [scrapy.core.engine] DEBUG: Crawled (200) <GET https://carifilms.com/films/page/708?order=DESC&is_meta_key=0&orderby=title#038;is_meta_key=0&orderby=title> (referer: None)\n"
     ]
    },
    {
     "name": "stdout",
     "output_type": "stream",
     "text": [
      "Banyak url film 7021\n",
      "Banyak url film 7022\n",
      "Banyak url film 7023\n",
      "Banyak url film 7024\n",
      "Banyak url film 7025\n",
      "Banyak url film 7026\n",
      "Banyak url film 7027\n",
      "Banyak url film 7028\n",
      "Banyak url film 7029\n",
      "Banyak url film 7030\n"
     ]
    },
    {
     "name": "stderr",
     "output_type": "stream",
     "text": [
      "2020-12-04 13:14:22 [scrapy.core.engine] DEBUG: Crawled (200) <GET https://carifilms.com/films/page/700?order=DESC&is_meta_key=0&orderby=title#038;is_meta_key=0&orderby=title> (referer: None)\n"
     ]
    },
    {
     "name": "stdout",
     "output_type": "stream",
     "text": [
      "Banyak url film 7031\n",
      "Banyak url film 7032\n",
      "Banyak url film 7033\n",
      "Banyak url film 7034\n",
      "Banyak url film 7035\n",
      "Banyak url film 7036\n",
      "Banyak url film 7037\n",
      "Banyak url film 7038\n",
      "Banyak url film 7039\n",
      "Banyak url film 7040\n"
     ]
    },
    {
     "name": "stderr",
     "output_type": "stream",
     "text": [
      "2020-12-04 13:14:25 [scrapy.core.engine] DEBUG: Crawled (200) <GET https://carifilms.com/films/page/706?order=DESC&is_meta_key=0&orderby=title#038;is_meta_key=0&orderby=title> (referer: None)\n"
     ]
    },
    {
     "name": "stdout",
     "output_type": "stream",
     "text": [
      "Banyak url film 7041\n",
      "Banyak url film 7042\n",
      "Banyak url film 7043\n",
      "Banyak url film 7044\n",
      "Banyak url film 7045\n",
      "Banyak url film 7046\n",
      "Banyak url film 7047\n",
      "Banyak url film 7048\n",
      "Banyak url film 7049\n",
      "Banyak url film 7050\n"
     ]
    },
    {
     "name": "stderr",
     "output_type": "stream",
     "text": [
      "2020-12-04 13:14:29 [scrapy.core.engine] DEBUG: Crawled (200) <GET https://carifilms.com/films/page/705?order=DESC&is_meta_key=0&orderby=title#038;is_meta_key=0&orderby=title> (referer: None)\n"
     ]
    },
    {
     "name": "stdout",
     "output_type": "stream",
     "text": [
      "Banyak url film 7051\n",
      "Banyak url film 7052\n",
      "Banyak url film 7053\n",
      "Banyak url film 7054\n",
      "Banyak url film 7055\n",
      "Banyak url film 7056\n",
      "Banyak url film 7057\n",
      "Banyak url film 7058\n",
      "Banyak url film 7059\n",
      "Banyak url film 7060\n"
     ]
    },
    {
     "name": "stderr",
     "output_type": "stream",
     "text": [
      "2020-12-04 13:14:32 [scrapy.core.engine] DEBUG: Crawled (200) <GET https://carifilms.com/films/page/712?order=DESC&is_meta_key=0&orderby=title#038;is_meta_key=0&orderby=title> (referer: None)\n"
     ]
    },
    {
     "name": "stdout",
     "output_type": "stream",
     "text": [
      "Banyak url film 7061\n",
      "Banyak url film 7062\n",
      "Banyak url film 7063\n",
      "Banyak url film 7064\n",
      "Banyak url film 7065\n",
      "Banyak url film 7066\n",
      "Banyak url film 7067\n",
      "Banyak url film 7068\n",
      "Banyak url film 7069\n",
      "Banyak url film 7070\n"
     ]
    },
    {
     "name": "stderr",
     "output_type": "stream",
     "text": [
      "2020-12-04 13:14:35 [scrapy.core.engine] DEBUG: Crawled (200) <GET https://carifilms.com/films/page/704?order=DESC&is_meta_key=0&orderby=title#038;is_meta_key=0&orderby=title> (referer: None)\n"
     ]
    },
    {
     "name": "stdout",
     "output_type": "stream",
     "text": [
      "Banyak url film 7071\n",
      "Banyak url film 7072\n",
      "Banyak url film 7073\n",
      "Banyak url film 7074\n",
      "Banyak url film 7075\n",
      "Banyak url film 7076\n",
      "Banyak url film 7077\n",
      "Banyak url film 7078\n",
      "Banyak url film 7079\n",
      "Banyak url film 7080\n"
     ]
    },
    {
     "name": "stderr",
     "output_type": "stream",
     "text": [
      "2020-12-04 13:14:39 [scrapy.core.engine] DEBUG: Crawled (200) <GET https://carifilms.com/films/page/711?order=DESC&is_meta_key=0&orderby=title#038;is_meta_key=0&orderby=title> (referer: None)\n",
      "2020-12-04 13:14:39 [scrapy.extensions.logstats] INFO: Crawled 709 pages (at 19 pages/min), scraped 0 items (at 0 items/min)\n"
     ]
    },
    {
     "name": "stdout",
     "output_type": "stream",
     "text": [
      "Banyak url film 7081\n",
      "Banyak url film 7082\n",
      "Banyak url film 7083\n",
      "Banyak url film 7084\n",
      "Banyak url film 7085\n",
      "Banyak url film 7086\n",
      "Banyak url film 7087\n",
      "Banyak url film 7088\n",
      "Banyak url film 7089\n",
      "Banyak url film 7090\n"
     ]
    },
    {
     "name": "stderr",
     "output_type": "stream",
     "text": [
      "2020-12-04 13:14:42 [scrapy.core.engine] DEBUG: Crawled (200) <GET https://carifilms.com/films/page/714?order=DESC&is_meta_key=0&orderby=title#038;is_meta_key=0&orderby=title> (referer: None)\n"
     ]
    },
    {
     "name": "stdout",
     "output_type": "stream",
     "text": [
      "Banyak url film 7091\n",
      "Banyak url film 7092\n",
      "Banyak url film 7093\n",
      "Banyak url film 7094\n",
      "Banyak url film 7095\n",
      "Banyak url film 7096\n",
      "Banyak url film 7097\n",
      "Banyak url film 7098\n",
      "Banyak url film 7099\n",
      "Banyak url film 7100\n"
     ]
    },
    {
     "name": "stderr",
     "output_type": "stream",
     "text": [
      "2020-12-04 13:14:45 [scrapy.core.engine] DEBUG: Crawled (200) <GET https://carifilms.com/films/page/713?order=DESC&is_meta_key=0&orderby=title#038;is_meta_key=0&orderby=title> (referer: None)\n"
     ]
    },
    {
     "name": "stdout",
     "output_type": "stream",
     "text": [
      "Banyak url film 7101\n",
      "Banyak url film 7102\n",
      "Banyak url film 7103\n",
      "Banyak url film 7104\n",
      "Banyak url film 7105\n",
      "Banyak url film 7106\n",
      "Banyak url film 7107\n",
      "Banyak url film 7108\n",
      "Banyak url film 7109\n",
      "Banyak url film 7110\n"
     ]
    },
    {
     "name": "stderr",
     "output_type": "stream",
     "text": [
      "2020-12-04 13:14:49 [scrapy.core.engine] DEBUG: Crawled (200) <GET https://carifilms.com/films/page/715?order=DESC&is_meta_key=0&orderby=title#038;is_meta_key=0&orderby=title> (referer: None)\n"
     ]
    },
    {
     "name": "stdout",
     "output_type": "stream",
     "text": [
      "Banyak url film 7111\n",
      "Banyak url film 7112\n",
      "Banyak url film 7113\n",
      "Banyak url film 7114\n",
      "Banyak url film 7115\n",
      "Banyak url film 7116\n",
      "Banyak url film 7117\n",
      "Banyak url film 7118\n",
      "Banyak url film 7119\n",
      "Banyak url film 7120\n"
     ]
    },
    {
     "name": "stderr",
     "output_type": "stream",
     "text": [
      "2020-12-04 13:14:52 [scrapy.core.engine] DEBUG: Crawled (200) <GET https://carifilms.com/films/page/707?order=DESC&is_meta_key=0&orderby=title#038;is_meta_key=0&orderby=title> (referer: None)\n"
     ]
    },
    {
     "name": "stdout",
     "output_type": "stream",
     "text": [
      "Banyak url film 7121\n",
      "Banyak url film 7122\n",
      "Banyak url film 7123\n",
      "Banyak url film 7124\n",
      "Banyak url film 7125\n",
      "Banyak url film 7126\n",
      "Banyak url film 7127\n",
      "Banyak url film 7128\n",
      "Banyak url film 7129\n",
      "Banyak url film 7130\n"
     ]
    },
    {
     "name": "stderr",
     "output_type": "stream",
     "text": [
      "2020-12-04 13:14:55 [scrapy.core.engine] DEBUG: Crawled (200) <GET https://carifilms.com/films/page/717?order=DESC&is_meta_key=0&orderby=title#038;is_meta_key=0&orderby=title> (referer: None)\n"
     ]
    },
    {
     "name": "stdout",
     "output_type": "stream",
     "text": [
      "Banyak url film 7131\n",
      "Banyak url film 7132\n",
      "Banyak url film 7133\n",
      "Banyak url film 7134\n",
      "Banyak url film 7135\n",
      "Banyak url film 7136\n",
      "Banyak url film 7137\n",
      "Banyak url film 7138\n",
      "Banyak url film 7139\n",
      "Banyak url film 7140\n"
     ]
    },
    {
     "name": "stderr",
     "output_type": "stream",
     "text": [
      "2020-12-04 13:14:59 [scrapy.core.engine] DEBUG: Crawled (200) <GET https://carifilms.com/films/page/709?order=DESC&is_meta_key=0&orderby=title#038;is_meta_key=0&orderby=title> (referer: None)\n"
     ]
    },
    {
     "name": "stdout",
     "output_type": "stream",
     "text": [
      "Banyak url film 7141\n",
      "Banyak url film 7142\n",
      "Banyak url film 7143\n",
      "Banyak url film 7144\n",
      "Banyak url film 7145\n",
      "Banyak url film 7146\n",
      "Banyak url film 7147\n",
      "Banyak url film 7148\n",
      "Banyak url film 7149\n",
      "Banyak url film 7150\n"
     ]
    },
    {
     "name": "stderr",
     "output_type": "stream",
     "text": [
      "2020-12-04 13:15:02 [scrapy.core.engine] DEBUG: Crawled (200) <GET https://carifilms.com/films/page/721?order=DESC&is_meta_key=0&orderby=title#038;is_meta_key=0&orderby=title> (referer: None)\n"
     ]
    },
    {
     "name": "stdout",
     "output_type": "stream",
     "text": [
      "Banyak url film 7151\n",
      "Banyak url film 7152\n",
      "Banyak url film 7153\n",
      "Banyak url film 7154\n",
      "Banyak url film 7155\n",
      "Banyak url film 7156\n",
      "Banyak url film 7157\n",
      "Banyak url film 7158\n",
      "Banyak url film 7159\n",
      "Banyak url film 7160\n"
     ]
    },
    {
     "name": "stderr",
     "output_type": "stream",
     "text": [
      "2020-12-04 13:15:06 [scrapy.core.engine] DEBUG: Crawled (200) <GET https://carifilms.com/films/page/718?order=DESC&is_meta_key=0&orderby=title#038;is_meta_key=0&orderby=title> (referer: None)\n"
     ]
    },
    {
     "name": "stdout",
     "output_type": "stream",
     "text": [
      "Banyak url film 7161\n",
      "Banyak url film 7162\n",
      "Banyak url film 7163\n",
      "Banyak url film 7164\n",
      "Banyak url film 7165\n",
      "Banyak url film 7166\n",
      "Banyak url film 7167\n",
      "Banyak url film 7168\n",
      "Banyak url film 7169\n",
      "Banyak url film 7170\n"
     ]
    },
    {
     "name": "stderr",
     "output_type": "stream",
     "text": [
      "2020-12-04 13:15:09 [scrapy.core.engine] DEBUG: Crawled (200) <GET https://carifilms.com/films/page/719?order=DESC&is_meta_key=0&orderby=title#038;is_meta_key=0&orderby=title> (referer: None)\n"
     ]
    },
    {
     "name": "stdout",
     "output_type": "stream",
     "text": [
      "Banyak url film 7171\n",
      "Banyak url film 7172\n",
      "Banyak url film 7173\n",
      "Banyak url film 7174\n",
      "Banyak url film 7175\n",
      "Banyak url film 7176\n",
      "Banyak url film 7177\n",
      "Banyak url film 7178\n",
      "Banyak url film 7179\n",
      "Banyak url film 7180\n"
     ]
    },
    {
     "name": "stderr",
     "output_type": "stream",
     "text": [
      "2020-12-04 13:15:12 [scrapy.core.engine] DEBUG: Crawled (200) <GET https://carifilms.com/films/page/723?order=DESC&is_meta_key=0&orderby=title#038;is_meta_key=0&orderby=title> (referer: None)\n"
     ]
    },
    {
     "name": "stdout",
     "output_type": "stream",
     "text": [
      "Banyak url film 7181\n",
      "Banyak url film 7182\n",
      "Banyak url film 7183\n",
      "Banyak url film 7184\n",
      "Banyak url film 7185\n",
      "Banyak url film 7186\n",
      "Banyak url film 7187\n",
      "Banyak url film 7188\n",
      "Banyak url film 7189\n",
      "Banyak url film 7190\n"
     ]
    },
    {
     "name": "stderr",
     "output_type": "stream",
     "text": [
      "2020-12-04 13:15:15 [scrapy.core.engine] DEBUG: Crawled (200) <GET https://carifilms.com/films/page/724?order=DESC&is_meta_key=0&orderby=title#038;is_meta_key=0&orderby=title> (referer: None)\n"
     ]
    },
    {
     "name": "stdout",
     "output_type": "stream",
     "text": [
      "Banyak url film 7191\n",
      "Banyak url film 7192\n",
      "Banyak url film 7193\n",
      "Banyak url film 7194\n",
      "Banyak url film 7195\n",
      "Banyak url film 7196\n",
      "Banyak url film 7197\n",
      "Banyak url film 7198\n",
      "Banyak url film 7199\n",
      "Banyak url film 7200\n"
     ]
    },
    {
     "name": "stderr",
     "output_type": "stream",
     "text": [
      "2020-12-04 13:15:19 [scrapy.core.engine] DEBUG: Crawled (200) <GET https://carifilms.com/films/page/720?order=DESC&is_meta_key=0&orderby=title#038;is_meta_key=0&orderby=title> (referer: None)\n"
     ]
    },
    {
     "name": "stdout",
     "output_type": "stream",
     "text": [
      "Banyak url film 7201\n",
      "Banyak url film 7202\n",
      "Banyak url film 7203\n",
      "Banyak url film 7204\n",
      "Banyak url film 7205\n",
      "Banyak url film 7206\n",
      "Banyak url film 7207\n",
      "Banyak url film 7208\n",
      "Banyak url film 7209\n",
      "Banyak url film 7210\n"
     ]
    },
    {
     "name": "stderr",
     "output_type": "stream",
     "text": [
      "2020-12-04 13:15:22 [scrapy.core.engine] DEBUG: Crawled (200) <GET https://carifilms.com/films/page/725?order=DESC&is_meta_key=0&orderby=title#038;is_meta_key=0&orderby=title> (referer: None)\n"
     ]
    },
    {
     "name": "stdout",
     "output_type": "stream",
     "text": [
      "Banyak url film 7211\n",
      "Banyak url film 7212\n",
      "Banyak url film 7213\n",
      "Banyak url film 7214\n",
      "Banyak url film 7215\n",
      "Banyak url film 7216\n",
      "Banyak url film 7217\n",
      "Banyak url film 7218\n",
      "Banyak url film 7219\n",
      "Banyak url film 7220\n"
     ]
    },
    {
     "name": "stderr",
     "output_type": "stream",
     "text": [
      "2020-12-04 13:15:25 [scrapy.core.engine] DEBUG: Crawled (200) <GET https://carifilms.com/films/page/727?order=DESC&is_meta_key=0&orderby=title#038;is_meta_key=0&orderby=title> (referer: None)\n"
     ]
    },
    {
     "name": "stdout",
     "output_type": "stream",
     "text": [
      "Banyak url film 7221\n",
      "Banyak url film 7222\n",
      "Banyak url film 7223\n",
      "Banyak url film 7224\n",
      "Banyak url film 7225\n",
      "Banyak url film 7226\n",
      "Banyak url film 7227\n",
      "Banyak url film 7228\n",
      "Banyak url film 7229\n",
      "Banyak url film 7230\n"
     ]
    },
    {
     "name": "stderr",
     "output_type": "stream",
     "text": [
      "2020-12-04 13:15:28 [scrapy.core.engine] DEBUG: Crawled (200) <GET https://carifilms.com/films/page/728?order=DESC&is_meta_key=0&orderby=title#038;is_meta_key=0&orderby=title> (referer: None)\n"
     ]
    },
    {
     "name": "stdout",
     "output_type": "stream",
     "text": [
      "Banyak url film 7231\n",
      "Banyak url film 7232\n",
      "Banyak url film 7233\n",
      "Banyak url film 7234\n",
      "Banyak url film 7235\n",
      "Banyak url film 7236\n",
      "Banyak url film 7237\n",
      "Banyak url film 7238\n",
      "Banyak url film 7239\n",
      "Banyak url film 7240\n"
     ]
    },
    {
     "name": "stderr",
     "output_type": "stream",
     "text": [
      "2020-12-04 13:15:32 [scrapy.core.engine] DEBUG: Crawled (200) <GET https://carifilms.com/films/page/722?order=DESC&is_meta_key=0&orderby=title#038;is_meta_key=0&orderby=title> (referer: None)\n"
     ]
    },
    {
     "name": "stdout",
     "output_type": "stream",
     "text": [
      "Banyak url film 7241\n",
      "Banyak url film 7242\n",
      "Banyak url film 7243\n",
      "Banyak url film 7244\n",
      "Banyak url film 7245\n",
      "Banyak url film 7246\n",
      "Banyak url film 7247\n",
      "Banyak url film 7248\n",
      "Banyak url film 7249\n",
      "Banyak url film 7250\n"
     ]
    },
    {
     "name": "stderr",
     "output_type": "stream",
     "text": [
      "2020-12-04 13:15:35 [scrapy.core.engine] DEBUG: Crawled (200) <GET https://carifilms.com/films/page/710?order=DESC&is_meta_key=0&orderby=title#038;is_meta_key=0&orderby=title> (referer: None)\n"
     ]
    },
    {
     "name": "stdout",
     "output_type": "stream",
     "text": [
      "Banyak url film 7251\n",
      "Banyak url film 7252\n",
      "Banyak url film 7253\n",
      "Banyak url film 7254\n",
      "Banyak url film 7255\n",
      "Banyak url film 7256\n",
      "Banyak url film 7257\n",
      "Banyak url film 7258\n",
      "Banyak url film 7259\n",
      "Banyak url film 7260\n"
     ]
    },
    {
     "name": "stderr",
     "output_type": "stream",
     "text": [
      "2020-12-04 13:15:38 [scrapy.core.engine] DEBUG: Crawled (200) <GET https://carifilms.com/films/page/726?order=DESC&is_meta_key=0&orderby=title#038;is_meta_key=0&orderby=title> (referer: None)\n"
     ]
    },
    {
     "name": "stdout",
     "output_type": "stream",
     "text": [
      "Banyak url film 7261\n",
      "Banyak url film 7262\n",
      "Banyak url film 7263\n",
      "Banyak url film 7264\n",
      "Banyak url film 7265\n",
      "Banyak url film 7266\n",
      "Banyak url film 7267\n",
      "Banyak url film 7268\n",
      "Banyak url film 7269\n",
      "Banyak url film 7270\n"
     ]
    },
    {
     "name": "stderr",
     "output_type": "stream",
     "text": [
      "2020-12-04 13:15:39 [scrapy.extensions.logstats] INFO: Crawled 727 pages (at 18 pages/min), scraped 0 items (at 0 items/min)\n",
      "2020-12-04 13:15:42 [scrapy.core.engine] DEBUG: Crawled (200) <GET https://carifilms.com/films/page/729?order=DESC&is_meta_key=0&orderby=title#038;is_meta_key=0&orderby=title> (referer: None)\n"
     ]
    },
    {
     "name": "stdout",
     "output_type": "stream",
     "text": [
      "Banyak url film 7271\n",
      "Banyak url film 7272\n",
      "Banyak url film 7273\n",
      "Banyak url film 7274\n",
      "Banyak url film 7275\n",
      "Banyak url film 7276\n",
      "Banyak url film 7277\n",
      "Banyak url film 7278\n",
      "Banyak url film 7279\n",
      "Banyak url film 7280\n"
     ]
    },
    {
     "name": "stderr",
     "output_type": "stream",
     "text": [
      "2020-12-04 13:15:45 [scrapy.core.engine] DEBUG: Crawled (200) <GET https://carifilms.com/films/page/731?order=DESC&is_meta_key=0&orderby=title#038;is_meta_key=0&orderby=title> (referer: None)\n"
     ]
    },
    {
     "name": "stdout",
     "output_type": "stream",
     "text": [
      "Banyak url film 7281\n",
      "Banyak url film 7282\n",
      "Banyak url film 7283\n",
      "Banyak url film 7284\n",
      "Banyak url film 7285\n",
      "Banyak url film 7286\n",
      "Banyak url film 7287\n",
      "Banyak url film 7288\n",
      "Banyak url film 7289\n",
      "Banyak url film 7290\n"
     ]
    },
    {
     "name": "stderr",
     "output_type": "stream",
     "text": [
      "2020-12-04 13:15:49 [scrapy.core.engine] DEBUG: Crawled (200) <GET https://carifilms.com/films/page/734?order=DESC&is_meta_key=0&orderby=title#038;is_meta_key=0&orderby=title> (referer: None)\n"
     ]
    },
    {
     "name": "stdout",
     "output_type": "stream",
     "text": [
      "Banyak url film 7291\n",
      "Banyak url film 7292\n",
      "Banyak url film 7293\n",
      "Banyak url film 7294\n",
      "Banyak url film 7295\n",
      "Banyak url film 7296\n",
      "Banyak url film 7297\n",
      "Banyak url film 7298\n",
      "Banyak url film 7299\n",
      "Banyak url film 7300\n"
     ]
    },
    {
     "name": "stderr",
     "output_type": "stream",
     "text": [
      "2020-12-04 13:15:52 [scrapy.core.engine] DEBUG: Crawled (200) <GET https://carifilms.com/films/page/736?order=DESC&is_meta_key=0&orderby=title#038;is_meta_key=0&orderby=title> (referer: None)\n"
     ]
    },
    {
     "name": "stdout",
     "output_type": "stream",
     "text": [
      "Banyak url film 7301\n",
      "Banyak url film 7302\n",
      "Banyak url film 7303\n",
      "Banyak url film 7304\n",
      "Banyak url film 7305\n",
      "Banyak url film 7306\n",
      "Banyak url film 7307\n",
      "Banyak url film 7308\n",
      "Banyak url film 7309\n",
      "Banyak url film 7310\n"
     ]
    },
    {
     "name": "stderr",
     "output_type": "stream",
     "text": [
      "2020-12-04 13:15:55 [scrapy.core.engine] DEBUG: Crawled (200) <GET https://carifilms.com/films/page/716?order=DESC&is_meta_key=0&orderby=title#038;is_meta_key=0&orderby=title> (referer: None)\n"
     ]
    },
    {
     "name": "stdout",
     "output_type": "stream",
     "text": [
      "Banyak url film 7311\n",
      "Banyak url film 7312\n",
      "Banyak url film 7313\n",
      "Banyak url film 7314\n",
      "Banyak url film 7315\n",
      "Banyak url film 7316\n",
      "Banyak url film 7317\n",
      "Banyak url film 7318\n",
      "Banyak url film 7319\n",
      "Banyak url film 7320\n"
     ]
    },
    {
     "name": "stderr",
     "output_type": "stream",
     "text": [
      "2020-12-04 13:15:59 [scrapy.core.engine] DEBUG: Crawled (200) <GET https://carifilms.com/films/page/733?order=DESC&is_meta_key=0&orderby=title#038;is_meta_key=0&orderby=title> (referer: None)\n"
     ]
    },
    {
     "name": "stdout",
     "output_type": "stream",
     "text": [
      "Banyak url film 7321\n",
      "Banyak url film 7322\n",
      "Banyak url film 7323\n",
      "Banyak url film 7324\n",
      "Banyak url film 7325\n",
      "Banyak url film 7326\n",
      "Banyak url film 7327\n",
      "Banyak url film 7328\n",
      "Banyak url film 7329\n",
      "Banyak url film 7330\n"
     ]
    },
    {
     "name": "stderr",
     "output_type": "stream",
     "text": [
      "2020-12-04 13:16:02 [scrapy.core.engine] DEBUG: Crawled (200) <GET https://carifilms.com/films/page/730?order=DESC&is_meta_key=0&orderby=title#038;is_meta_key=0&orderby=title> (referer: None)\n"
     ]
    },
    {
     "name": "stdout",
     "output_type": "stream",
     "text": [
      "Banyak url film 7331\n",
      "Banyak url film 7332\n",
      "Banyak url film 7333\n",
      "Banyak url film 7334\n",
      "Banyak url film 7335\n",
      "Banyak url film 7336\n",
      "Banyak url film 7337\n",
      "Banyak url film 7338\n",
      "Banyak url film 7339\n",
      "Banyak url film 7340\n"
     ]
    },
    {
     "name": "stderr",
     "output_type": "stream",
     "text": [
      "2020-12-04 13:16:06 [scrapy.core.engine] DEBUG: Crawled (200) <GET https://carifilms.com/films/page/739?order=DESC&is_meta_key=0&orderby=title#038;is_meta_key=0&orderby=title> (referer: None)\n"
     ]
    },
    {
     "name": "stdout",
     "output_type": "stream",
     "text": [
      "Banyak url film 7341\n",
      "Banyak url film 7342\n",
      "Banyak url film 7343\n",
      "Banyak url film 7344\n",
      "Banyak url film 7345\n",
      "Banyak url film 7346\n",
      "Banyak url film 7347\n",
      "Banyak url film 7348\n",
      "Banyak url film 7349\n",
      "Banyak url film 7350\n"
     ]
    },
    {
     "name": "stderr",
     "output_type": "stream",
     "text": [
      "2020-12-04 13:16:09 [scrapy.core.engine] DEBUG: Crawled (200) <GET https://carifilms.com/films/page/737?order=DESC&is_meta_key=0&orderby=title#038;is_meta_key=0&orderby=title> (referer: None)\n"
     ]
    },
    {
     "name": "stdout",
     "output_type": "stream",
     "text": [
      "Banyak url film 7351\n",
      "Banyak url film 7352\n",
      "Banyak url film 7353\n",
      "Banyak url film 7354\n",
      "Banyak url film 7355\n",
      "Banyak url film 7356\n",
      "Banyak url film 7357\n",
      "Banyak url film 7358\n",
      "Banyak url film 7359\n",
      "Banyak url film 7360\n"
     ]
    },
    {
     "name": "stderr",
     "output_type": "stream",
     "text": [
      "2020-12-04 13:16:12 [scrapy.core.engine] DEBUG: Crawled (200) <GET https://carifilms.com/films/page/738?order=DESC&is_meta_key=0&orderby=title#038;is_meta_key=0&orderby=title> (referer: None)\n"
     ]
    },
    {
     "name": "stdout",
     "output_type": "stream",
     "text": [
      "Banyak url film 7361\n",
      "Banyak url film 7362\n",
      "Banyak url film 7363\n",
      "Banyak url film 7364\n",
      "Banyak url film 7365\n",
      "Banyak url film 7366\n",
      "Banyak url film 7367\n",
      "Banyak url film 7368\n",
      "Banyak url film 7369\n",
      "Banyak url film 7370\n"
     ]
    },
    {
     "name": "stderr",
     "output_type": "stream",
     "text": [
      "2020-12-04 13:16:16 [scrapy.core.engine] DEBUG: Crawled (200) <GET https://carifilms.com/films/page/735?order=DESC&is_meta_key=0&orderby=title#038;is_meta_key=0&orderby=title> (referer: None)\n"
     ]
    },
    {
     "name": "stdout",
     "output_type": "stream",
     "text": [
      "Banyak url film 7371\n",
      "Banyak url film 7372\n",
      "Banyak url film 7373\n",
      "Banyak url film 7374\n",
      "Banyak url film 7375\n",
      "Banyak url film 7376\n",
      "Banyak url film 7377\n",
      "Banyak url film 7378\n",
      "Banyak url film 7379\n",
      "Banyak url film 7380\n"
     ]
    },
    {
     "name": "stderr",
     "output_type": "stream",
     "text": [
      "2020-12-04 13:16:19 [scrapy.core.engine] DEBUG: Crawled (200) <GET https://carifilms.com/films/page/732?order=DESC&is_meta_key=0&orderby=title#038;is_meta_key=0&orderby=title> (referer: None)\n"
     ]
    },
    {
     "name": "stdout",
     "output_type": "stream",
     "text": [
      "Banyak url film 7381\n",
      "Banyak url film 7382\n",
      "Banyak url film 7383\n",
      "Banyak url film 7384\n",
      "Banyak url film 7385\n",
      "Banyak url film 7386\n",
      "Banyak url film 7387\n",
      "Banyak url film 7388\n",
      "Banyak url film 7389\n",
      "Banyak url film 7390\n"
     ]
    },
    {
     "name": "stderr",
     "output_type": "stream",
     "text": [
      "2020-12-04 13:16:22 [scrapy.core.engine] DEBUG: Crawled (200) <GET https://carifilms.com/films/page/740?order=DESC&is_meta_key=0&orderby=title#038;is_meta_key=0&orderby=title> (referer: None)\n",
      "2020-12-04 13:16:22 [scrapy.core.engine] INFO: Closing spider (finished)\n",
      "2020-12-04 13:16:22 [scrapy.statscollectors] INFO: Dumping Scrapy stats:\n",
      "{'downloader/exception_count': 8,\n",
      " 'downloader/exception_type_count/twisted.internet.error.TimeoutError': 8,\n",
      " 'downloader/request_bytes': 280909,\n",
      " 'downloader/request_count': 758,\n",
      " 'downloader/request_method_count/GET': 758,\n",
      " 'downloader/response_bytes': 8846049,\n",
      " 'downloader/response_count': 750,\n",
      " 'downloader/response_status_count/200': 740,\n",
      " 'downloader/response_status_count/524': 10,\n",
      " 'elapsed_time_seconds': 2563.476869,\n",
      " 'finish_reason': 'finished',\n",
      " 'finish_time': datetime.datetime(2020, 12, 4, 6, 16, 22, 759231),\n",
      " 'log_count/DEBUG': 758,\n",
      " 'log_count/INFO': 52,\n",
      " 'response_received_count': 740,\n",
      " 'retry/count': 18,\n",
      " 'retry/reason_count/524 Unknown Status': 10,\n",
      " 'retry/reason_count/twisted.internet.error.TimeoutError': 8,\n",
      " 'scheduler/dequeued': 758,\n",
      " 'scheduler/dequeued/memory': 758,\n",
      " 'scheduler/enqueued': 758,\n",
      " 'scheduler/enqueued/memory': 758,\n",
      " 'start_time': datetime.datetime(2020, 12, 4, 5, 33, 39, 282362)}\n",
      "2020-12-04 13:16:22 [scrapy.core.engine] INFO: Spider closed (finished)\n"
     ]
    },
    {
     "name": "stdout",
     "output_type": "stream",
     "text": [
      "Banyak url film 7391\n",
      "Banyak url film 7392\n",
      "Banyak url film 7393\n",
      "Banyak url film 7394\n",
      "Banyak url film 7395\n",
      "Banyak url film 7396\n",
      "Banyak url film 7397\n",
      "Banyak url film 7398\n"
     ]
    }
   ],
   "source": [
    "url_film = list()\n",
    "process = CrawlerProcess()\n",
    "process.crawl(DC_Description_Spider)\n",
    "process.start()"
   ]
  },
  {
   "cell_type": "code",
   "execution_count": 7,
   "metadata": {},
   "outputs": [],
   "source": [
    "dict = {'url_film': url_film}   \n",
    "       \n",
    "df = pd.DataFrame(dict)  \n",
    "    \n",
    "# saving the dataframe  \n",
    "df.to_csv('url_film.csv', index=False) "
   ]
  },
  {
   "cell_type": "code",
   "execution_count": 8,
   "metadata": {},
   "outputs": [
    {
     "data": {
      "text/html": [
       "<div>\n",
       "<style scoped>\n",
       "    .dataframe tbody tr th:only-of-type {\n",
       "        vertical-align: middle;\n",
       "    }\n",
       "\n",
       "    .dataframe tbody tr th {\n",
       "        vertical-align: top;\n",
       "    }\n",
       "\n",
       "    .dataframe thead th {\n",
       "        text-align: right;\n",
       "    }\n",
       "</style>\n",
       "<table border=\"1\" class=\"dataframe\">\n",
       "  <thead>\n",
       "    <tr style=\"text-align: right;\">\n",
       "      <th></th>\n",
       "      <th>url_film</th>\n",
       "    </tr>\n",
       "  </thead>\n",
       "  <tbody>\n",
       "    <tr>\n",
       "      <th>0</th>\n",
       "      <td>https://carifilms.com/film/zwinglis-legacy</td>\n",
       "    </tr>\n",
       "    <tr>\n",
       "      <th>1</th>\n",
       "      <td>https://carifilms.com/film/zootopia</td>\n",
       "    </tr>\n",
       "    <tr>\n",
       "      <th>2</th>\n",
       "      <td>https://carifilms.com/film/zoombies-2</td>\n",
       "    </tr>\n",
       "    <tr>\n",
       "      <th>3</th>\n",
       "      <td>https://carifilms.com/film/zookeeper</td>\n",
       "    </tr>\n",
       "    <tr>\n",
       "      <th>4</th>\n",
       "      <td>https://carifilms.com/film/zoo-head</td>\n",
       "    </tr>\n",
       "    <tr>\n",
       "      <th>...</th>\n",
       "      <td>...</td>\n",
       "    </tr>\n",
       "    <tr>\n",
       "      <th>7393</th>\n",
       "      <td>https://carifilms.com/film/jowable</td>\n",
       "    </tr>\n",
       "    <tr>\n",
       "      <th>7394</th>\n",
       "      <td>https://carifilms.com/film/imomsohard-live</td>\n",
       "    </tr>\n",
       "    <tr>\n",
       "      <th>7395</th>\n",
       "      <td>https://carifilms.com/film/fullmethod</td>\n",
       "    </tr>\n",
       "    <tr>\n",
       "      <th>7396</th>\n",
       "      <td>https://carifilms.com/film/followme</td>\n",
       "    </tr>\n",
       "    <tr>\n",
       "      <th>7397</th>\n",
       "      <td>https://carifilms.com/film/alive-2</td>\n",
       "    </tr>\n",
       "  </tbody>\n",
       "</table>\n",
       "<p>7398 rows × 1 columns</p>\n",
       "</div>"
      ],
      "text/plain": [
       "                                        url_film\n",
       "0     https://carifilms.com/film/zwinglis-legacy\n",
       "1            https://carifilms.com/film/zootopia\n",
       "2          https://carifilms.com/film/zoombies-2\n",
       "3           https://carifilms.com/film/zookeeper\n",
       "4            https://carifilms.com/film/zoo-head\n",
       "...                                          ...\n",
       "7393          https://carifilms.com/film/jowable\n",
       "7394  https://carifilms.com/film/imomsohard-live\n",
       "7395       https://carifilms.com/film/fullmethod\n",
       "7396         https://carifilms.com/film/followme\n",
       "7397          https://carifilms.com/film/alive-2\n",
       "\n",
       "[7398 rows x 1 columns]"
      ]
     },
     "execution_count": 8,
     "metadata": {},
     "output_type": "execute_result"
    }
   ],
   "source": [
    "df"
   ]
  },
  {
   "cell_type": "code",
   "execution_count": null,
   "metadata": {},
   "outputs": [],
   "source": []
  }
 ],
 "metadata": {
  "kernelspec": {
   "display_name": "Python 3",
   "language": "python",
   "name": "python3"
  },
  "language_info": {
   "codemirror_mode": {
    "name": "ipython",
    "version": 3
   },
   "file_extension": ".py",
   "mimetype": "text/x-python",
   "name": "python",
   "nbconvert_exporter": "python",
   "pygments_lexer": "ipython3",
   "version": "3.7.6"
  }
 },
 "nbformat": 4,
 "nbformat_minor": 4
}
