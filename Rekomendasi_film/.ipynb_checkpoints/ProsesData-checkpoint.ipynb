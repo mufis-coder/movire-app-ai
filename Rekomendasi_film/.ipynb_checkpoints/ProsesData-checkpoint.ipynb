{
 "cells": [
  {
   "cell_type": "code",
   "execution_count": 1,
   "metadata": {},
   "outputs": [],
   "source": [
    "import pandas as pd"
   ]
  },
  {
   "cell_type": "code",
   "execution_count": 2,
   "metadata": {},
   "outputs": [],
   "source": [
    "film = pd.read_csv('Data_film_bindo.csv')"
   ]
  },
  {
   "cell_type": "code",
   "execution_count": 7,
   "metadata": {},
   "outputs": [],
   "source": [
    "zoot = film[film['Judul']=='Zootopia']['Sinopsis']"
   ]
  },
  {
   "cell_type": "code",
   "execution_count": 10,
   "metadata": {},
   "outputs": [
    {
     "data": {
      "text/plain": [
       "['Di kota antropomorfik hewan, polisi kelinci pemula dan artis yang sinis rubah harus bekerja sama untuk mengungkap konspirasi. Dari gajah terbesar ke pemberang terkecil, kota Zootopia adalah metropolis Mamalia tempat berbagai hewan hidup dan berkembang. Ketika Judy Hopps menjadi kelinci pertama untuk bergabung dengan Kepolisian, dia cepat belajar betapa sulitnya untuk menegakkan hukum. Bertekad untuk membuktikan dirinya sendiri, Judy melompat pada kesempatan untuk memecahkan kasus misterius. Sayangnya, itu berarti bekerja sama dengan Nick Wilde, rubah licik yang membuat pekerjaannya lebih keras.']"
      ]
     },
     "execution_count": 10,
     "metadata": {},
     "output_type": "execute_result"
    }
   ],
   "source": [
    "zoot.tolist()"
   ]
  },
  {
   "cell_type": "code",
   "execution_count": 11,
   "metadata": {},
   "outputs": [
    {
     "data": {
      "text/html": [
       "<div>\n",
       "<style scoped>\n",
       "    .dataframe tbody tr th:only-of-type {\n",
       "        vertical-align: middle;\n",
       "    }\n",
       "\n",
       "    .dataframe tbody tr th {\n",
       "        vertical-align: top;\n",
       "    }\n",
       "\n",
       "    .dataframe thead th {\n",
       "        text-align: right;\n",
       "    }\n",
       "</style>\n",
       "<table border=\"1\" class=\"dataframe\">\n",
       "  <thead>\n",
       "    <tr style=\"text-align: right;\">\n",
       "      <th></th>\n",
       "      <th>Judul</th>\n",
       "      <th>Sinopsis</th>\n",
       "    </tr>\n",
       "  </thead>\n",
       "  <tbody>\n",
       "    <tr>\n",
       "      <th>0</th>\n",
       "      <td>Zwingli’s Legacy</td>\n",
       "      <td>A. D. 1519: ketika Huldrych Zwingli mulai memb...</td>\n",
       "    </tr>\n",
       "    <tr>\n",
       "      <th>1</th>\n",
       "      <td>Zookeeper</td>\n",
       "      <td>Sekelompok hewan kebun binatang memutuskan unt...</td>\n",
       "    </tr>\n",
       "    <tr>\n",
       "      <th>2</th>\n",
       "      <td>Zootopia</td>\n",
       "      <td>Di kota antropomorfik hewan, polisi kelinci pe...</td>\n",
       "    </tr>\n",
       "    <tr>\n",
       "      <th>3</th>\n",
       "      <td>Zoombies 2</td>\n",
       "      <td>Seorang penjaga hutan menangkap pemburu akhirn...</td>\n",
       "    </tr>\n",
       "    <tr>\n",
       "      <th>4</th>\n",
       "      <td>Zoo-Head</td>\n",
       "      <td>Seorang pecandu terjebak hidup di hari yang sa...</td>\n",
       "    </tr>\n",
       "    <tr>\n",
       "      <th>...</th>\n",
       "      <td>...</td>\n",
       "      <td>...</td>\n",
       "    </tr>\n",
       "    <tr>\n",
       "      <th>6964</th>\n",
       "      <td>#IMomSoHard Live</td>\n",
       "      <td>[Premieres Agustus 23, 2019] komedian Hensley ...</td>\n",
       "    </tr>\n",
       "    <tr>\n",
       "      <th>6965</th>\n",
       "      <td>22 Yards</td>\n",
       "      <td>Sebuah penggambaran dramatis dari cerita kemen...</td>\n",
       "    </tr>\n",
       "    <tr>\n",
       "      <th>6966</th>\n",
       "      <td>#FullMethod</td>\n",
       "      <td>Bersiap memainkan pembunuh berantai untuk seri...</td>\n",
       "    </tr>\n",
       "    <tr>\n",
       "      <th>6967</th>\n",
       "      <td>#Malam Jumat: The Movie</td>\n",
       "      <td>Untuk memberikan pengalaman yang berbeda bagi ...</td>\n",
       "    </tr>\n",
       "    <tr>\n",
       "      <th>6968</th>\n",
       "      <td>#Alive</td>\n",
       "      <td>Penyebaran cepat dari infeksi tak dikenal tela...</td>\n",
       "    </tr>\n",
       "  </tbody>\n",
       "</table>\n",
       "<p>6969 rows × 2 columns</p>\n",
       "</div>"
      ],
      "text/plain": [
       "                        Judul  \\\n",
       "0            Zwingli’s Legacy   \n",
       "1                   Zookeeper   \n",
       "2                    Zootopia   \n",
       "3                  Zoombies 2   \n",
       "4                    Zoo-Head   \n",
       "...                       ...   \n",
       "6964         #IMomSoHard Live   \n",
       "6965                 22 Yards   \n",
       "6966              #FullMethod   \n",
       "6967  #Malam Jumat: The Movie   \n",
       "6968                   #Alive   \n",
       "\n",
       "                                               Sinopsis  \n",
       "0     A. D. 1519: ketika Huldrych Zwingli mulai memb...  \n",
       "1     Sekelompok hewan kebun binatang memutuskan unt...  \n",
       "2     Di kota antropomorfik hewan, polisi kelinci pe...  \n",
       "3     Seorang penjaga hutan menangkap pemburu akhirn...  \n",
       "4     Seorang pecandu terjebak hidup di hari yang sa...  \n",
       "...                                                 ...  \n",
       "6964  [Premieres Agustus 23, 2019] komedian Hensley ...  \n",
       "6965  Sebuah penggambaran dramatis dari cerita kemen...  \n",
       "6966  Bersiap memainkan pembunuh berantai untuk seri...  \n",
       "6967  Untuk memberikan pengalaman yang berbeda bagi ...  \n",
       "6968  Penyebaran cepat dari infeksi tak dikenal tela...  \n",
       "\n",
       "[6969 rows x 2 columns]"
      ]
     },
     "execution_count": 11,
     "metadata": {},
     "output_type": "execute_result"
    }
   ],
   "source": [
    "film"
   ]
  },
  {
   "cell_type": "code",
   "execution_count": 12,
   "metadata": {},
   "outputs": [],
   "source": [
    "from rake_nltk import Rake\n",
    "import numpy as np\n",
    "from sklearn.metrics.pairwise import cosine_similarity\n",
    "from sklearn.feature_extraction.text import CountVectorizer"
   ]
  },
  {
   "cell_type": "code",
   "execution_count": 13,
   "metadata": {},
   "outputs": [],
   "source": [
    "import nltk\n",
    "import re\n",
    "# nltk.download('stopwords')\n",
    "# nltk.download('punkt')\n",
    "from nltk.corpus import stopwords\n",
    "from nltk import sent_tokenize, word_tokenize\n",
    "\n",
    "from nltk.corpus import stopwords\n",
    "# ----------------------- get stopword from NLTK stopword -------------------------------\n",
    "# get stopword indonesia\n",
    "list_stopwords = stopwords.words('indonesian')\n",
    "stop_words = list_stopwords"
   ]
  },
  {
   "cell_type": "code",
   "execution_count": 16,
   "metadata": {},
   "outputs": [],
   "source": [
    "film_baru = pd.DataFrame()\n",
    "# film_baru['Sinopsis']\n",
    "# film_baru['Judul']\n",
    "#preprocessing data training\n",
    "for index, row in film.iterrows():\n",
    "    filter_sentence = ''\n",
    "    sentence = row['Sinopsis']\n",
    "    # Cleaning dengan regular expression\n",
    "    sentence = re.sub(r'[^\\w\\s]', '', sentence)\n",
    "    # Tokenization\n",
    "    words = nltk.word_tokenize(sentence)\n",
    "    # Menghilangkan stopwords\n",
    "    words = [w for w in words if not w in stop_words]\n",
    "    # Lower case\n",
    "    for words in words:\n",
    "        filter_sentence = filter_sentence  + ' ' + words.lower()\n",
    "    filter_sentence = filter_sentence[1:]\n",
    "    film_baru.loc[index, 'Sinopsis'] = filter_sentence\n",
    "    film_baru.loc[index, 'Judul'] = row['Judul']"
   ]
  },
  {
   "cell_type": "code",
   "execution_count": 23,
   "metadata": {},
   "outputs": [
    {
     "name": "stdout",
     "output_type": "stream",
     "text": [
      "6969\n",
      "6969\n"
     ]
    }
   ],
   "source": [
    "print(len(film_baru))\n",
    "print(len(film))\n",
    "film_baru = film_baru[['Judul', 'Sinopsis']]"
   ]
  },
  {
   "cell_type": "code",
   "execution_count": 24,
   "metadata": {},
   "outputs": [
    {
     "data": {
      "text/html": [
       "<div>\n",
       "<style scoped>\n",
       "    .dataframe tbody tr th:only-of-type {\n",
       "        vertical-align: middle;\n",
       "    }\n",
       "\n",
       "    .dataframe tbody tr th {\n",
       "        vertical-align: top;\n",
       "    }\n",
       "\n",
       "    .dataframe thead th {\n",
       "        text-align: right;\n",
       "    }\n",
       "</style>\n",
       "<table border=\"1\" class=\"dataframe\">\n",
       "  <thead>\n",
       "    <tr style=\"text-align: right;\">\n",
       "      <th></th>\n",
       "      <th>Judul</th>\n",
       "      <th>Sinopsis</th>\n",
       "    </tr>\n",
       "  </thead>\n",
       "  <tbody>\n",
       "    <tr>\n",
       "      <th>0</th>\n",
       "      <td>Zwingli’s Legacy</td>\n",
       "      <td>a d 1519 huldrych zwingli memberitakan imam zu...</td>\n",
       "    </tr>\n",
       "    <tr>\n",
       "      <th>1</th>\n",
       "      <td>Zookeeper</td>\n",
       "      <td>sekelompok hewan kebun binatang memutuskan mem...</td>\n",
       "    </tr>\n",
       "    <tr>\n",
       "      <th>2</th>\n",
       "      <td>Zootopia</td>\n",
       "      <td>di kota antropomorfik hewan polisi kelinci pem...</td>\n",
       "    </tr>\n",
       "    <tr>\n",
       "      <th>3</th>\n",
       "      <td>Zoombies 2</td>\n",
       "      <td>seorang penjaga hutan menangkap pemburu menyel...</td>\n",
       "    </tr>\n",
       "    <tr>\n",
       "      <th>4</th>\n",
       "      <td>Zoo-Head</td>\n",
       "      <td>seorang pecandu terjebak hidup berulangulang d...</td>\n",
       "    </tr>\n",
       "  </tbody>\n",
       "</table>\n",
       "</div>"
      ],
      "text/plain": [
       "              Judul                                           Sinopsis\n",
       "0  Zwingli’s Legacy  a d 1519 huldrych zwingli memberitakan imam zu...\n",
       "1         Zookeeper  sekelompok hewan kebun binatang memutuskan mem...\n",
       "2          Zootopia  di kota antropomorfik hewan polisi kelinci pem...\n",
       "3        Zoombies 2  seorang penjaga hutan menangkap pemburu menyel...\n",
       "4          Zoo-Head  seorang pecandu terjebak hidup berulangulang d..."
      ]
     },
     "execution_count": 24,
     "metadata": {},
     "output_type": "execute_result"
    }
   ],
   "source": [
    "film_baru.head()"
   ]
  },
  {
   "cell_type": "code",
   "execution_count": 19,
   "metadata": {},
   "outputs": [
    {
     "data": {
      "text/html": [
       "<div>\n",
       "<style scoped>\n",
       "    .dataframe tbody tr th:only-of-type {\n",
       "        vertical-align: middle;\n",
       "    }\n",
       "\n",
       "    .dataframe tbody tr th {\n",
       "        vertical-align: top;\n",
       "    }\n",
       "\n",
       "    .dataframe thead th {\n",
       "        text-align: right;\n",
       "    }\n",
       "</style>\n",
       "<table border=\"1\" class=\"dataframe\">\n",
       "  <thead>\n",
       "    <tr style=\"text-align: right;\">\n",
       "      <th></th>\n",
       "      <th>Judul</th>\n",
       "      <th>Sinopsis</th>\n",
       "    </tr>\n",
       "  </thead>\n",
       "  <tbody>\n",
       "    <tr>\n",
       "      <th>0</th>\n",
       "      <td>Zwingli’s Legacy</td>\n",
       "      <td>A. D. 1519: ketika Huldrych Zwingli mulai memb...</td>\n",
       "    </tr>\n",
       "    <tr>\n",
       "      <th>1</th>\n",
       "      <td>Zookeeper</td>\n",
       "      <td>Sekelompok hewan kebun binatang memutuskan unt...</td>\n",
       "    </tr>\n",
       "    <tr>\n",
       "      <th>2</th>\n",
       "      <td>Zootopia</td>\n",
       "      <td>Di kota antropomorfik hewan, polisi kelinci pe...</td>\n",
       "    </tr>\n",
       "    <tr>\n",
       "      <th>3</th>\n",
       "      <td>Zoombies 2</td>\n",
       "      <td>Seorang penjaga hutan menangkap pemburu akhirn...</td>\n",
       "    </tr>\n",
       "    <tr>\n",
       "      <th>4</th>\n",
       "      <td>Zoo-Head</td>\n",
       "      <td>Seorang pecandu terjebak hidup di hari yang sa...</td>\n",
       "    </tr>\n",
       "  </tbody>\n",
       "</table>\n",
       "</div>"
      ],
      "text/plain": [
       "              Judul                                           Sinopsis\n",
       "0  Zwingli’s Legacy  A. D. 1519: ketika Huldrych Zwingli mulai memb...\n",
       "1         Zookeeper  Sekelompok hewan kebun binatang memutuskan unt...\n",
       "2          Zootopia  Di kota antropomorfik hewan, polisi kelinci pe...\n",
       "3        Zoombies 2  Seorang penjaga hutan menangkap pemburu akhirn...\n",
       "4          Zoo-Head  Seorang pecandu terjebak hidup di hari yang sa..."
      ]
     },
     "execution_count": 19,
     "metadata": {},
     "output_type": "execute_result"
    }
   ],
   "source": [
    "film.head()"
   ]
  },
  {
   "cell_type": "code",
   "execution_count": 42,
   "metadata": {},
   "outputs": [],
   "source": [
    "# instantiating and generating the count matrix\n",
    "count = CountVectorizer()\n",
    "count_matrix = count.fit_transform(film_baru['Sinopsis'])"
   ]
  },
  {
   "cell_type": "code",
   "execution_count": 45,
   "metadata": {},
   "outputs": [],
   "source": [
    "def preproses_data(inputData):\n",
    "    filter_sentence = ''\n",
    "    sentence = inputData\n",
    "    # Cleaning dengan regular expression\n",
    "    sentence = re.sub(r'[^\\w\\s]', '', sentence)\n",
    "    # Tokenization\n",
    "    words = nltk.word_tokenize(sentence)\n",
    "    # Menghilangkan stopwords\n",
    "    words = [w for w in words if not w in stop_words]\n",
    "    # Lower case\n",
    "    for words in words:\n",
    "        filter_sentence = filter_sentence  + ' ' + words.lower()\n",
    "    filter_sentence = filter_sentence[1:]\n",
    "    return [filter_sentence]"
   ]
  },
  {
   "cell_type": "code",
   "execution_count": 46,
   "metadata": {},
   "outputs": [],
   "source": [
    "def prosesData(inputData, count = count, cosine_similarity = cosine_similarity, count_matrix = count_matrix, df = film):\n",
    "    data = preproses_data(inputData)\n",
    "#     print(data)\n",
    "    data_matrix = count.transform(data)\n",
    "    cosine_s_data = cosine_similarity(data_matrix, count_matrix)\n",
    "    \n",
    "    score_series = pd.Series(cosine_s_data[0]).sort_values(ascending = False)\n",
    "    top_10_indexes = list(score_series.iloc[0:5].index)\n",
    "    for i in top_10_indexes:\n",
    "        print((df.loc[i]['Judul']))\n",
    "        print((df.loc[i]['Sinopsis']))\n",
    "        print(\"\")"
   ]
  },
  {
   "cell_type": "code",
   "execution_count": null,
   "metadata": {},
   "outputs": [],
   "source": []
  },
  {
   "cell_type": "code",
   "execution_count": null,
   "metadata": {},
   "outputs": [],
   "source": []
  },
  {
   "cell_type": "code",
   "execution_count": null,
   "metadata": {},
   "outputs": [],
   "source": []
  },
  {
   "cell_type": "code",
   "execution_count": null,
   "metadata": {},
   "outputs": [],
   "source": []
  },
  {
   "cell_type": "code",
   "execution_count": 51,
   "metadata": {},
   "outputs": [
    {
     "name": "stdout",
     "output_type": "stream",
     "text": [
      "Masukan sinopsis:\n",
      "Rincian kehidupan Holmes di luar petualangannya yang diceritakan oleh dr. Watson hanya sedikit dan jarang diketengahkan dalam karya Doyle. Akan tetapi, sedikit rincian awal kehidupan dan keluarga besar Holmes itu telah dapat menyusun biografi sederhana sang detektif.  Perkiraan usia Holmes dalam kisah Salam Terakhir menunjukkan bahwa ia lahir pada tahun 1854, tepatnya pada tanggal 6 Januari.[4] Kisah tersebut berlatar waktu bulan Agustus 1914 saat Holmes telah berusia 60 tahun.  Holmes mengatakan bahwa ia pertama kali mengembangkan metode deduksinya untuk memecahkan kasus saat masih mahasiswa. Kasus pertamanya sebagai detektif amatir datang dari temannya sesama mahasiswa.[5] Menurut Holmes, yang mempengaruhinya untuk memilih profesi sebagai detektif adalah ayah seorang teman kuliahnya.[6] Profesi itu ditekuninya selama enam tahun setelah lulus kuliah sampai akhirnya Holmes kesulitan keuangan sehingga harus patungan sewa kamar dengan Watson. Saat itulah kisah petualangan Holmes dimulai.\n",
      "\n",
      "Film-film yang mirip sinopsis:\n",
      "Sherlock Holmes: A Game of Shadows\n",
      "Detektif Sherlock Holmes sedang mengikuti jejak Profesor Moriarty, yang sedang melakukan serangkaian kejahatan acak di seluruh Eropa. Sherlock Holmes (Robert Downey Jr.) dan rekan lamanya yang terpercaya, Dokter Watson( Jude Law), mengambil gips-nemesis mereka, Profesor Moriarty( Jared Harris), dengan bantuan dari kakak Mycroft Holmes (Stephen Holmes), dan seorang gipsi bernama Simza (Noomi Rapace).\n",
      "\n",
      "Sherlock Holmes\n",
      "Detektif Sherlock Holmes dan mitra gagah nya Watson terlibat dalam pertempuran kecerdasan dan kekuatan dengan musuh yang plot adalah ancaman bagi seluruh Inggris. Setelah akhirnya menangkap pembunuh berantai dan okultisme \"penyihir\" Lord Blackwood, detektif legendaris Sherlock Holmes dan asistennya Dr. Watson bisa menutup kasus lain yang sukses. Tapi ketika Blackwood misterius kembali dari kuburan dan melanjutkan pembantaian Holmes harus mengambil berburu sekali lagi. Contending dengan tunangan baru rekannya dan kepala dimwitted Scotland Yard, detektif dauntless harus mengungkap petunjuk yang akan membimbingnya ke dalam jaringan pembunuhan yang bengkok, penipuan, dan sihir hitam - dan pelukan mematikan Irene Adler.\n",
      "\n",
      "Enola Holmes\n",
      "Setelah menghilangnya ibu mereka, saudari Sherlock dan Mycroft Holmes melarikan diri untuk menjadi detektif swasta buronan. Ketika Enola Holmes, adik detektif Sherlock Holmes, menemukan ibunya telah menghilang, dia dengan cepat memulai perjalanan ke London untuk mencari Dia. Tapi tidak ada yang bisa mempersiapkan dia untuk apa yang menanti. Karena ketika ia tiba, ia menemukan dirinya terlibat dalam penculikan dari marquess muda, melarikan diri penjahat pembunuh, dan mencoba untuk menghindari saudara-saudara yang lebih tua nya-semua saat mencoba untuk mengumpulkan petunjuk untuk hilangnya ibunya yang aneh.\n",
      "\n",
      "Holmes & Watson\n",
      "Sebuah mengambil misteri klasik Sir Arthur Conan Doyle. menampilkan Sherlock Holmes dan Dokter Watson.\n",
      "\n",
      "Sherlock\n",
      "Pembaruan modern menemukan Detektif terkenal dan rekan dokternya memecahkan kejahatan di abad ke-21 London. Dalam versi modernisasi karakter Conan Doyle, menggunakan plot detektif, Sherlock Holmes tinggal di awal abad 21 London dan bertindak lebih sombong terhadap Inspektur Detektif Scotland Yard karena dia sebenarnya kurang percaya diri. Dokter Watson sekarang adalah veteran muda untuk Perang Afghanistan, kurang memujanya dan lebih aktif.\n",
      "\n"
     ]
    }
   ],
   "source": [
    "print(\"Masukan sinopsis:\")\n",
    "test = str(input())\n",
    "print(\"\")\n",
    "print(\"Film-film yang mirip sinopsis:\")\n",
    "prosesData(test)"
   ]
  },
  {
   "cell_type": "code",
   "execution_count": null,
   "metadata": {},
   "outputs": [],
   "source": []
  }
 ],
 "metadata": {
  "kernelspec": {
   "display_name": "Python 3",
   "language": "python",
   "name": "python3"
  },
  "language_info": {
   "codemirror_mode": {
    "name": "ipython",
    "version": 3
   },
   "file_extension": ".py",
   "mimetype": "text/x-python",
   "name": "python",
   "nbconvert_exporter": "python",
   "pygments_lexer": "ipython3",
   "version": "3.7.6"
  }
 },
 "nbformat": 4,
 "nbformat_minor": 4
}
